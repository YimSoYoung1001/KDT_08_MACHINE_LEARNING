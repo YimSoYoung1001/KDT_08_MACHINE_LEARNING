{
 "cells": [
  {
   "cell_type": "markdown",
   "source": [
    "[2024-03-04 과제]\n",
    "\n",
    "- 이미지 이진 분류/다중 분류\n",
    "- 데이터셋 : MNIST\n",
    "- [조건1] 모델 성능지표 분석\n",
    "- [조건2] 이미지 생성 후 predict까지 진행\n",
    "-   \n",
    "- logistic, SGD로 분류 2가지 해보기\n",
    "- score로 과대적합/과소적합 판단\n",
    "- 분류 성능 지표 확인하기\n",
    "- 회귀 테스트 그림판에 직접 그려서 predict까지 해보기"
   ],
   "metadata": {
    "collapsed": false
   },
   "id": "ecd29b7fa3e02ae0"
  },
  {
   "cell_type": "code",
   "outputs": [],
   "source": [
    "import pandas as pd\n",
    "import numpy as np\n",
    "import matplotlib.pyplot as plt\n",
    "from sklearn.datasets import fetch_openml\n",
    "from sklearn.multiclass import OneVsRestClassifier"
   ],
   "metadata": {
    "collapsed": true,
    "ExecuteTime": {
     "end_time": "2024-03-05T00:29:37.253341Z",
     "start_time": "2024-03-05T00:29:35.731274Z"
    }
   },
   "id": "initial_id",
   "execution_count": 1
  },
  {
   "cell_type": "code",
   "outputs": [
    {
     "name": "stderr",
     "output_type": "stream",
     "text": [
      "C:\\ProgramData\\anaconda3\\Lib\\site-packages\\sklearn\\datasets\\_openml.py:1002: FutureWarning: The default value of `parser` will change from `'liac-arff'` to `'auto'` in 1.4. You can set `parser='auto'` to silence this warning. Therefore, an `ImportError` will be raised from 1.4 if the dataset is dense and pandas is not installed. Note that the pandas parser may return different data types. See the Notes Section in fetch_openml's API doc for details.\n",
      "  warn(\n"
     ]
    }
   ],
   "source": [
    "#mnist = fetch_openml('mnist_784')\n",
    "mnist = fetch_openml('mnist_784', as_frame = False)"
   ],
   "metadata": {
    "collapsed": false,
    "ExecuteTime": {
     "end_time": "2024-03-05T00:29:50.490198Z",
     "start_time": "2024-03-05T00:29:37.254343Z"
    }
   },
   "id": "9ab6f848ff277e5f",
   "execution_count": 2
  },
  {
   "cell_type": "code",
   "outputs": [
    {
     "data": {
      "text/plain": "dict_keys(['data', 'target', 'frame', 'categories', 'feature_names', 'target_names', 'DESCR', 'details', 'url'])"
     },
     "execution_count": 3,
     "metadata": {},
     "output_type": "execute_result"
    }
   ],
   "source": [
    "mnist.keys()"
   ],
   "metadata": {
    "collapsed": false,
    "ExecuteTime": {
     "end_time": "2024-03-05T00:29:50.496144Z",
     "start_time": "2024-03-05T00:29:50.491207Z"
    }
   },
   "id": "790d375ca7a4cc16",
   "execution_count": 3
  },
  {
   "cell_type": "code",
   "outputs": [],
   "source": [
    "X, y = mnist['data'], mnist['target']"
   ],
   "metadata": {
    "collapsed": false,
    "ExecuteTime": {
     "end_time": "2024-03-05T00:29:50.503783Z",
     "start_time": "2024-03-05T00:29:50.496144Z"
    }
   },
   "id": "4594a88217ba6656",
   "execution_count": 4
  },
  {
   "cell_type": "code",
   "outputs": [],
   "source": [
    "# X"
   ],
   "metadata": {
    "collapsed": false,
    "ExecuteTime": {
     "end_time": "2024-03-05T00:29:50.508250Z",
     "start_time": "2024-03-05T00:29:50.504865Z"
    }
   },
   "id": "ed3f331fc9c68131",
   "execution_count": 5
  },
  {
   "cell_type": "code",
   "outputs": [],
   "source": [
    "# y"
   ],
   "metadata": {
    "collapsed": false,
    "ExecuteTime": {
     "end_time": "2024-03-05T00:29:50.512180Z",
     "start_time": "2024-03-05T00:29:50.509282Z"
    }
   },
   "id": "9e7f877e3de52211",
   "execution_count": 6
  },
  {
   "cell_type": "code",
   "outputs": [],
   "source": [
    "# X.shape"
   ],
   "metadata": {
    "collapsed": false,
    "ExecuteTime": {
     "end_time": "2024-03-05T00:29:50.516077Z",
     "start_time": "2024-03-05T00:29:50.513182Z"
    }
   },
   "id": "ed5d8eead4250cda",
   "execution_count": 7
  },
  {
   "cell_type": "code",
   "outputs": [],
   "source": [
    "# y.shape"
   ],
   "metadata": {
    "collapsed": false,
    "ExecuteTime": {
     "end_time": "2024-03-05T00:29:50.520141Z",
     "start_time": "2024-03-05T00:29:50.517079Z"
    }
   },
   "id": "39ef0737a83b6949",
   "execution_count": 8
  },
  {
   "cell_type": "code",
   "outputs": [
    {
     "data": {
      "text/plain": "<Figure size 640x480 with 1 Axes>",
      "image/png": "[encoded data removed]"
     },
     "metadata": {},
     "output_type": "display_data"
    }
   ],
   "source": [
    "# 데이터셋에서 이미지 1개를 확인해보자\n",
    "\n",
    "def plot_digit(image_data):\n",
    "    image = image_data.reshape(28, 28)\n",
    "    plt.imshow(image, cmap = 'binary')\n",
    "    plt.axis('off')\n",
    "    \n",
    "some_digit = X[0]\n",
    "plot_digit(some_digit)\n",
    "plt.show()"
   ],
   "metadata": {
    "collapsed": false,
    "ExecuteTime": {
     "end_time": "2024-03-05T00:29:50.589385Z",
     "start_time": "2024-03-05T00:29:50.521690Z"
    }
   },
   "id": "a2aada1723d9adf9",
   "execution_count": 9
  },
  {
   "cell_type": "code",
   "outputs": [
    {
     "name": "stdout",
     "output_type": "stream",
     "text": [
      "[  0.   0.   0.   0.   0.   0.   0.   0.   0.   0.   0.   0.   0.   0.\n",
      "   0.   0.   0.   0.   0.   0.   0.   0.   0.   0.   0.   0.   0.   0.\n",
      "   0.   0.   0.   0.   0.   0.   0.   0.   0.   0.   0.   0.   0.   0.\n",
      "   0.   0.   0.   0.   0.   0.   0.   0.   0.   0.   0.   0.   0.   0.\n",
      "   0.   0.   0.   0.   0.   0.   0.   0.   0.   0.   0.   0.   0.   0.\n",
      "   0.   0.   0.   0.   0.   0.   0.   0.   0.   0.   0.   0.   0.   0.\n",
      "   0.   0.   0.   0.   0.   0.   0.   0.   0.   0.   0.   0.   0.   0.\n",
      "   0.   0.   0.   0.   0.   0.   0.   0.   0.   0.   0.   0.   0.   0.\n",
      "   0.   0.   0.   0.   0.   0.   0.   0.   0.   0.   0.   0.   0.   0.\n",
      "   0.   0.   0.   0.   0.   0.   0.   0.   0.   0.   0.   0.   0.   0.\n",
      "   0.   0.   0.   0.   0.   0.   0.   0.   0.   0.   0.   0.   3.  18.\n",
      "  18.  18. 126. 136. 175.  26. 166. 255. 247. 127.   0.   0.   0.   0.\n",
      "   0.   0.   0.   0.   0.   0.   0.   0.  30.  36.  94. 154. 170. 253.\n",
      " 253. 253. 253. 253. 225. 172. 253. 242. 195.  64.   0.   0.   0.   0.\n",
      "   0.   0.   0.   0.   0.   0.   0.  49. 238. 253. 253. 253. 253. 253.\n",
      " 253. 253. 253. 251.  93.  82.  82.  56.  39.   0.   0.   0.   0.   0.\n",
      "   0.   0.   0.   0.   0.   0.   0.  18. 219. 253. 253. 253. 253. 253.\n",
      " 198. 182. 247. 241.   0.   0.   0.   0.   0.   0.   0.   0.   0.   0.\n",
      "   0.   0.   0.   0.   0.   0.   0.   0.  80. 156. 107. 253. 253. 205.\n",
      "  11.   0.  43. 154.   0.   0.   0.   0.   0.   0.   0.   0.   0.   0.\n",
      "   0.   0.   0.   0.   0.   0.   0.   0.   0.  14.   1. 154. 253.  90.\n",
      "   0.   0.   0.   0.   0.   0.   0.   0.   0.   0.   0.   0.   0.   0.\n",
      "   0.   0.   0.   0.   0.   0.   0.   0.   0.   0.   0. 139. 253. 190.\n",
      "   2.   0.   0.   0.   0.   0.   0.   0.   0.   0.   0.   0.   0.   0.\n",
      "   0.   0.   0.   0.   0.   0.   0.   0.   0.   0.   0.  11. 190. 253.\n",
      "  70.   0.   0.   0.   0.   0.   0.   0.   0.   0.   0.   0.   0.   0.\n",
      "   0.   0.   0.   0.   0.   0.   0.   0.   0.   0.   0.   0.  35. 241.\n",
      " 225. 160. 108.   1.   0.   0.   0.   0.   0.   0.   0.   0.   0.   0.\n",
      "   0.   0.   0.   0.   0.   0.   0.   0.   0.   0.   0.   0.   0.  81.\n",
      " 240. 253. 253. 119.  25.   0.   0.   0.   0.   0.   0.   0.   0.   0.\n",
      "   0.   0.   0.   0.   0.   0.   0.   0.   0.   0.   0.   0.   0.   0.\n",
      "  45. 186. 253. 253. 150.  27.   0.   0.   0.   0.   0.   0.   0.   0.\n",
      "   0.   0.   0.   0.   0.   0.   0.   0.   0.   0.   0.   0.   0.   0.\n",
      "   0.  16.  93. 252. 253. 187.   0.   0.   0.   0.   0.   0.   0.   0.\n",
      "   0.   0.   0.   0.   0.   0.   0.   0.   0.   0.   0.   0.   0.   0.\n",
      "   0.   0.   0. 249. 253. 249.  64.   0.   0.   0.   0.   0.   0.   0.\n",
      "   0.   0.   0.   0.   0.   0.   0.   0.   0.   0.   0.   0.   0.   0.\n",
      "  46. 130. 183. 253. 253. 207.   2.   0.   0.   0.   0.   0.   0.   0.\n",
      "   0.   0.   0.   0.   0.   0.   0.   0.   0.   0.   0.   0.  39. 148.\n",
      " 229. 253. 253. 253. 250. 182.   0.   0.   0.   0.   0.   0.   0.   0.\n",
      "   0.   0.   0.   0.   0.   0.   0.   0.   0.   0.  24. 114. 221. 253.\n",
      " 253. 253. 253. 201.  78.   0.   0.   0.   0.   0.   0.   0.   0.   0.\n",
      "   0.   0.   0.   0.   0.   0.   0.   0.  23.  66. 213. 253. 253. 253.\n",
      " 253. 198.  81.   2.   0.   0.   0.   0.   0.   0.   0.   0.   0.   0.\n",
      "   0.   0.   0.   0.   0.   0.  18. 171. 219. 253. 253. 253. 253. 195.\n",
      "  80.   9.   0.   0.   0.   0.   0.   0.   0.   0.   0.   0.   0.   0.\n",
      "   0.   0.   0.   0.  55. 172. 226. 253. 253. 253. 253. 244. 133.  11.\n",
      "   0.   0.   0.   0.   0.   0.   0.   0.   0.   0.   0.   0.   0.   0.\n",
      "   0.   0.   0.   0. 136. 253. 253. 253. 212. 135. 132.  16.   0.   0.\n",
      "   0.   0.   0.   0.   0.   0.   0.   0.   0.   0.   0.   0.   0.   0.\n",
      "   0.   0.   0.   0.   0.   0.   0.   0.   0.   0.   0.   0.   0.   0.\n",
      "   0.   0.   0.   0.   0.   0.   0.   0.   0.   0.   0.   0.   0.   0.\n",
      "   0.   0.   0.   0.   0.   0.   0.   0.   0.   0.   0.   0.   0.   0.\n",
      "   0.   0.   0.   0.   0.   0.   0.   0.   0.   0.   0.   0.   0.   0.\n",
      "   0.   0.   0.   0.   0.   0.   0.   0.   0.   0.   0.   0.   0.   0.\n",
      "   0.   0.   0.   0.   0.   0.   0.   0.   0.   0.   0.   0.   0.   0.]\n"
     ]
    }
   ],
   "source": [
    "print(some_digit)"
   ],
   "metadata": {
    "collapsed": false,
    "ExecuteTime": {
     "end_time": "2024-03-05T00:29:50.598996Z",
     "start_time": "2024-03-05T00:29:50.590462Z"
    }
   },
   "id": "4678ba4a131118a3",
   "execution_count": 10
  },
  {
   "cell_type": "markdown",
   "source": [
    "### 훈련용 데이터셋, 테스트용 데이터셋 분리"
   ],
   "metadata": {
    "collapsed": false
   },
   "id": "54e501499960ecc1"
  },
  {
   "cell_type": "code",
   "outputs": [],
   "source": [
    "X_train, X_test, y_train, y_test = X[:60000], X[60000:], y[:60000], y[60000:]"
   ],
   "metadata": {
    "collapsed": false,
    "ExecuteTime": {
     "end_time": "2024-03-05T00:29:50.604372Z",
     "start_time": "2024-03-05T00:29:50.600102Z"
    }
   },
   "id": "74ec9c65af8fc856",
   "execution_count": 11
  },
  {
   "cell_type": "code",
   "outputs": [
    {
     "name": "stdout",
     "output_type": "stream",
     "text": [
      "[훈련용] X_train : (60000, 784)        y_train : (60000,)\n",
      "[테스트용] X_test : (10000, 784)         y_test : (10000,)\n"
     ]
    }
   ],
   "source": [
    "print(f\"[훈련용] X_train : {X_train.shape}        y_train : {y_train.shape}\")\n",
    "print(f\"[테스트용] X_test : {X_test.shape}         y_test : {y_test.shape}\")"
   ],
   "metadata": {
    "collapsed": false,
    "ExecuteTime": {
     "end_time": "2024-03-05T00:29:50.609010Z",
     "start_time": "2024-03-05T00:29:50.605377Z"
    }
   },
   "id": "42fb36a03748d077",
   "execution_count": 12
  },
  {
   "cell_type": "markdown",
   "source": [
    "### 학습 => 이진 분류 - SGD"
   ],
   "metadata": {
    "collapsed": false
   },
   "id": "6037c470059ae03d"
  },
  {
   "cell_type": "code",
   "outputs": [],
   "source": [
    "y_train_5 = y_train\n",
    "y_test_5 = y_test"
   ],
   "metadata": {
    "collapsed": false,
    "ExecuteTime": {
     "end_time": "2024-03-05T00:29:50.612900Z",
     "start_time": "2024-03-05T00:29:50.610014Z"
    }
   },
   "id": "da0cd844190c6199",
   "execution_count": 13
  },
  {
   "cell_type": "code",
   "outputs": [
    {
     "data": {
      "text/plain": "SGDClassifier(random_state=42)",
      "text/html": "<style>#sk-container-id-1 {color: black;}#sk-container-id-1 pre{padding: 0;}#sk-container-id-1 div.sk-toggleable {background-color: white;}#sk-container-id-1 label.sk-toggleable__label {cursor: pointer;display: block;width: 100%;margin-bottom: 0;padding: 0.3em;box-sizing: border-box;text-align: center;}#sk-container-id-1 label.sk-toggleable__label-arrow:before {content: \"▸\";float: left;margin-right: 0.25em;color: #696969;}#sk-container-id-1 label.sk-toggleable__label-arrow:hover:before {color: black;}#sk-container-id-1 div.sk-estimator:hover label.sk-toggleable__label-arrow:before {color: black;}#sk-container-id-1 div.sk-toggleable__content {max-height: 0;max-width: 0;overflow: hidden;text-align: left;background-color: #f0f8ff;}#sk-container-id-1 div.sk-toggleable__content pre {margin: 0.2em;color: black;border-radius: 0.25em;background-color: #f0f8ff;}#sk-container-id-1 input.sk-toggleable__control:checked~div.sk-toggleable__content {max-height: 200px;max-width: 100%;overflow: auto;}#sk-container-id-1 input.sk-toggleable__control:checked~label.sk-toggleable__label-arrow:before {content: \"▾\";}#sk-container-id-1 div.sk-estimator input.sk-toggleable__control:checked~label.sk-toggleable__label {background-color: #d4ebff;}#sk-container-id-1 div.sk-label input.sk-toggleable__control:checked~label.sk-toggleable__label {background-color: #d4ebff;}#sk-container-id-1 input.sk-hidden--visually {border: 0;clip: rect(1px 1px 1px 1px);clip: rect(1px, 1px, 1px, 1px);height: 1px;margin: -1px;overflow: hidden;padding: 0;position: absolute;width: 1px;}#sk-container-id-1 div.sk-estimator {font-family: monospace;background-color: #f0f8ff;border: 1px dotted black;border-radius: 0.25em;box-sizing: border-box;margin-bottom: 0.5em;}#sk-container-id-1 div.sk-estimator:hover {background-color: #d4ebff;}#sk-container-id-1 div.sk-parallel-item::after {content: \"\";width: 100%;border-bottom: 1px solid gray;flex-grow: 1;}#sk-container-id-1 div.sk-label:hover label.sk-toggleable__label {background-color: #d4ebff;}#sk-container-id-1 div.sk-serial::before {content: \"\";position: absolute;border-left: 1px solid gray;box-sizing: border-box;top: 0;bottom: 0;left: 50%;z-index: 0;}#sk-container-id-1 div.sk-serial {display: flex;flex-direction: column;align-items: center;background-color: white;padding-right: 0.2em;padding-left: 0.2em;position: relative;}#sk-container-id-1 div.sk-item {position: relative;z-index: 1;}#sk-container-id-1 div.sk-parallel {display: flex;align-items: stretch;justify-content: center;background-color: white;position: relative;}#sk-container-id-1 div.sk-item::before, #sk-container-id-1 div.sk-parallel-item::before {content: \"\";position: absolute;border-left: 1px solid gray;box-sizing: border-box;top: 0;bottom: 0;left: 50%;z-index: -1;}#sk-container-id-1 div.sk-parallel-item {display: flex;flex-direction: column;z-index: 1;position: relative;background-color: white;}#sk-container-id-1 div.sk-parallel-item:first-child::after {align-self: flex-end;width: 50%;}#sk-container-id-1 div.sk-parallel-item:last-child::after {align-self: flex-start;width: 50%;}#sk-container-id-1 div.sk-parallel-item:only-child::after {width: 0;}#sk-container-id-1 div.sk-dashed-wrapped {border: 1px dashed gray;margin: 0 0.4em 0.5em 0.4em;box-sizing: border-box;padding-bottom: 0.4em;background-color: white;}#sk-container-id-1 div.sk-label label {font-family: monospace;font-weight: bold;display: inline-block;line-height: 1.2em;}#sk-container-id-1 div.sk-label-container {text-align: center;}#sk-container-id-1 div.sk-container {/* jupyter's `normalize.less` sets `[hidden] { display: none; }` but bootstrap.min.css set `[hidden] { display: none !important; }` so we also need the `!important` here to be able to override the default hidden behavior on the sphinx rendered scikit-learn.org. See: https://github.com/scikit-learn/scikit-learn/issues/21755 */display: inline-block !important;position: relative;}#sk-container-id-1 div.sk-text-repr-fallback {display: none;}</style><div id=\"sk-container-id-1\" class=\"sk-top-container\"><div class=\"sk-text-repr-fallback\"><pre>SGDClassifier(random_state=42)</pre><b>In a Jupyter environment, please rerun this cell to show the HTML representation or trust the notebook. <br />On GitHub, the HTML representation is unable to render, please try loading this page with nbviewer.org.</b></div><div class=\"sk-container\" hidden><div class=\"sk-item\"><div class=\"sk-estimator sk-toggleable\"><input class=\"sk-toggleable__control sk-hidden--visually\" id=\"sk-estimator-id-1\" type=\"checkbox\" checked><label for=\"sk-estimator-id-1\" class=\"sk-toggleable__label sk-toggleable__label-arrow\">SGDClassifier</label><div class=\"sk-toggleable__content\"><pre>SGDClassifier(random_state=42)</pre></div></div></div></div></div>"
     },
     "execution_count": 14,
     "metadata": {},
     "output_type": "execute_result"
    }
   ],
   "source": [
    "from sklearn.linear_model import SGDClassifier\n",
    "\n",
    "sgd_clf = SGDClassifier(random_state = 42)\n",
    "sgd_clf.fit(X_train, y_train_5)"
   ],
   "metadata": {
    "collapsed": false,
    "ExecuteTime": {
     "end_time": "2024-03-05T00:32:07.035597Z",
     "start_time": "2024-03-05T00:29:50.615904Z"
    }
   },
   "id": "b9f2492c72c8d3e",
   "execution_count": 14
  },
  {
   "cell_type": "code",
   "outputs": [
    {
     "name": "stdout",
     "output_type": "stream",
     "text": [
      "train score : 0.8807666666666667\n",
      "test score : 0.874\n"
     ]
    }
   ],
   "source": [
    "print(f\"train score : {sgd_clf.score(X_train, y_train_5)}\")\n",
    "print(f\"test score : {sgd_clf.score(X_test, y_test_5)}\")"
   ],
   "metadata": {
    "collapsed": false,
    "ExecuteTime": {
     "end_time": "2024-03-05T00:32:07.182491Z",
     "start_time": "2024-03-05T00:32:07.036698Z"
    }
   },
   "id": "6dcc2015cc630ce6",
   "execution_count": 15
  },
  {
   "cell_type": "markdown",
   "source": [
    "0.01 차이로 최적 적합이다."
   ],
   "metadata": {
    "collapsed": false
   },
   "id": "c85b5bc90be69d02"
  },
  {
   "cell_type": "code",
   "outputs": [
    {
     "data": {
      "text/plain": "array(['3'], dtype='<U1')"
     },
     "execution_count": 16,
     "metadata": {},
     "output_type": "execute_result"
    }
   ],
   "source": [
    "some_digit = X[0]\n",
    "sgd_clf.predict([some_digit])"
   ],
   "metadata": {
    "collapsed": false,
    "ExecuteTime": {
     "end_time": "2024-03-05T00:32:07.189438Z",
     "start_time": "2024-03-05T00:32:07.183494Z"
    }
   },
   "id": "ea64378e6a6e271b",
   "execution_count": 16
  },
  {
   "cell_type": "code",
   "outputs": [
    {
     "data": {
      "text/plain": "array(['3'], dtype='<U1')"
     },
     "execution_count": 17,
     "metadata": {},
     "output_type": "execute_result"
    },
    {
     "data": {
      "text/plain": "<Figure size 640x480 with 1 Axes>",
      "image/png": "[encoded data removed]"
     },
     "metadata": {},
     "output_type": "display_data"
    }
   ],
   "source": [
    "from PIL import Image\n",
    "import numpy as np\n",
    "\n",
    "def plot_digit(image):\n",
    "    plt.imshow(image, cmap = 'binary')\n",
    "    plt.axis('off')\n",
    "    \n",
    "path = 'digit_8.jpg'\n",
    "img = Image.open(path) #그림파일 열기\n",
    "img = img.convert('L') #그레이스케일로 변경\n",
    "img = np.array(img)    #ndarray 로 변환\n",
    "# 흑백이 반전되는 이슈가 발생함\n",
    "\n",
    "img = abs(img.astype('int')-255) \n",
    "# img를 int로 반환하고 흑백을 원래대로 반전시키기 위해 - 255 한 후 절대값 취하였음\n",
    "\n",
    "plot_digit(img) #크기 조정에서 문제 발생\n",
    "\n",
    "\n",
    "\n",
    "\n",
    "img_array = np.append(img[0], img[1])\n",
    "for i in range(2,28):\n",
    "    img_array = np.append(img_array, img[i])\n",
    "    #print(len(img_array))\n",
    "    \n",
    "    \n",
    "    \n",
    "    \n",
    "some_digit = img_array\n",
    "sgd_clf.predict([some_digit])\n",
    "\n",
    "# 정확히 예측되었다! 그림은 8이었는데 False가 떴다는건 입력된 사진이 5가 아니다 라는 것"
   ],
   "metadata": {
    "collapsed": false,
    "ExecuteTime": {
     "end_time": "2024-03-05T00:32:07.259026Z",
     "start_time": "2024-03-05T00:32:07.190441Z"
    }
   },
   "id": "92bf1781bd640d73",
   "execution_count": 17
  },
  {
   "cell_type": "code",
   "outputs": [
    {
     "name": "stdout",
     "output_type": "stream",
     "text": [
      "[array([  0,   2,   0,   0,   1,   0,   0,   1,   3,   3,   0,   3,   0,\n",
      "         8,  14,   2,   0,   2,   0,   2,   2,   1,   1,   0,   0,   0,\n",
      "         0,   0,   0,   1,   0,   0,   0,   1,   0,   0,   0,   1,  14,\n",
      "        43, 100, 151, 170, 136,  72,  16,   0,   3,   3,   0,   1,   2,\n",
      "         0,   0,   0,   0,   0,   0,   0,   0,   0,   3,   1,   0,   9,\n",
      "        19, 101, 201, 255, 250, 255, 251, 226, 124,  30,   0,   0,   0,\n",
      "         0,   3,   0,   0,   0,   0,   0,   0,   0,   0,   0,   3,   0,\n",
      "         0,  19, 134, 219, 255, 255, 238, 244, 253, 255, 220, 112,  10,\n",
      "         3,   6,   0,   2,   0,   0,   0,   0,   0,   0,   1,   0,   1,\n",
      "         1,   0,   8,  91, 217, 255, 255, 197, 117, 100, 166, 241, 255,\n",
      "       189,  40,   0,   0,   0,   0,   0,   0,   0,   0,   0,   0,   2,\n",
      "         0,   2,   0,   0,  30, 167, 241, 246, 186,  64,   6,   1,  37,\n",
      "       206, 255, 224,  71,   0,   0,   7,   4,   0,   0,   0,   0,   0,\n",
      "         1,   2,   0,   3,   0,   3,  58, 220, 253, 239, 102,   0,   0,\n",
      "        10,  14, 174, 245, 240,  92,  10,   0,   0,   0,   0,   0,   0,\n",
      "         0,   0,   3,   2,   0,   4,   0,   8,  78, 227, 247, 207,  41,\n",
      "         5,   3,   0,  37, 193, 255, 233,  69,  10,   5,   0,   1,   0,\n",
      "         0,   0,   0,   1,   0,   0,   0,   5,   0,  10,  88, 237, 251,\n",
      "       159,  13,   7,   0,  12,  97, 243, 255, 196,  42,   1,   0,   0,\n",
      "         0,   0,   0,   0,   0,   0,   0,   0,   0,   4,   0,   5,  67,\n",
      "       241, 251, 152,   5,   0,   4,  67, 222, 253, 243, 126,   6,   0,\n",
      "         2,   0,   0,   0,   0,   0,   0,   0,   0,   3,   0,   3,   0,\n",
      "         0,  35, 215, 254, 209,  68,  12,  86, 206, 252, 255, 165,  30,\n",
      "         0,   1,   3,   0,   4,   0,   0,   0,   0,   0,   0,   3,   0,\n",
      "         0,   1,   0,  10, 131, 246, 255, 219, 214, 230, 255, 251, 193,\n",
      "        70,   0,   9,   0,   0,   0,   0,   0,   0,   0,   0,   0,   0,\n",
      "         1,   0,   0,   2,   0,   0,  53, 201, 255, 255, 255, 255, 254,\n",
      "       229,  92,   9,   6,   0,   0,   4,   0,   3,   0,   0,   0,   0,\n",
      "         0,   0,   0,   0,   0,   1,   0,   0,   1, 111, 222, 255, 245,\n",
      "       254, 255, 252, 145,  21,   0,   0,   0,   0,   0,   0,   0,   0,\n",
      "         0,   0,   1,   0,   0,   0,   1,   0,   1,   6,  47, 209, 255,\n",
      "       255, 245, 252, 246, 246, 242, 102,   0,   4,   6,   0,   3,   2,\n",
      "         0,   0,   0,   0,   1,   2,   0,   2,   3,   0,   0,  10, 163,\n",
      "       255, 250, 239, 138, 109, 212, 249, 255, 207,  35,   0,   0,   0,\n",
      "         2,   0,   0,   0,   0,   0,   2,   0,   0,   2,   0,   3,   0,\n",
      "        66, 243, 248, 251, 150,  24,  16,  81, 229, 252, 246, 137,   0,\n",
      "         0,   0,   3,   0,   0,   0,   0,   0,   1,   1,   3,   2,   0,\n",
      "         0,   3, 115, 255, 255, 215,  55,   1,   0,  20, 143, 245, 255,\n",
      "       193,  37,   4,   0,   1,   2,   0,   0,   0,   0,   0,   0,   4,\n",
      "         0,   0,   0,   9, 168, 251, 247, 150,  11,   3,   0,   0,  54,\n",
      "       220, 255, 245,  81,   8,   0,   0,   2,   0,   0,   0,   0,   0,\n",
      "         0,   1,   0,   3,   0,  11, 194, 255, 248,  92,   5,   3,   0,\n",
      "         2,  26, 180, 246, 255, 112,   2,   0,   0,   0,   0,   0,   0,\n",
      "         0,   1,   0,   0,   0,   2,   0,  15, 190, 251, 248, 102,   0,\n",
      "         0,   0,   0,  20, 150, 242, 253, 133,   0,   0,   1,   0,   0,\n",
      "         0,   0,   0,   0,   2,   1,   0,   0,   0,  15, 152, 252, 248,\n",
      "       185,  32,   0,   4,   0,  28, 159, 249, 252, 135,   0,   0,   2,\n",
      "         0,   0,   0,   0,   0,   0,   3,   0,   3,   0,   0,   4,  80,\n",
      "       244, 255, 244, 112,  20,   0,   1,  38, 201, 254, 251, 106,   2,\n",
      "         0,   1,   0,   0,   0,   0,   0,   0,   2,   0,   4,   0,   2,\n",
      "         0,  17, 156, 247, 255, 238, 154,  69,  72, 134, 240, 253, 246,\n",
      "        72,   2,   0,   0,   0,   0,   0,   0,   0,   0,   0,   0,   0,\n",
      "         0,   0,   0,   0,  47, 193, 255, 250, 255, 249, 240, 250, 255,\n",
      "       255, 187,  41,   0,   0,   0,   2,   0,   0,   0,   0,   0,   0,\n",
      "         0,   0,   0,   0,   0,   0,   0,  50, 175, 251, 255, 255, 255,\n",
      "       255, 235, 144,  61,   0,   0,   0,   2,   0,   0,   0,   0,   0,\n",
      "         0,   0,   0,   0,   0,   0,   0,   0,   0,   9,  17,  81, 164,\n",
      "       203, 190, 138,  66,  12,   0,   6,   6,   0,   2,   1,   0,   0,\n",
      "         0,   0,   0,   0,   0,   0,   0,   0,   0,   0,   2,   0,   1,\n",
      "         0,   6,  21,  15,   7,   0,   1,   0,   0,   0,   1,   4,   0,\n",
      "         0,   0,   0,   0])]\n"
     ]
    }
   ],
   "source": [
    "print([some_digit])"
   ],
   "metadata": {
    "collapsed": false,
    "ExecuteTime": {
     "end_time": "2024-03-05T00:32:07.266118Z",
     "start_time": "2024-03-05T00:32:07.260056Z"
    }
   },
   "id": "c1441638eaaa646c",
   "execution_count": 18
  },
  {
   "cell_type": "markdown",
   "source": [
    "### 성능 측정"
   ],
   "metadata": {
    "collapsed": false
   },
   "id": "e108115d893961a5"
  },
  {
   "cell_type": "code",
   "outputs": [],
   "source": [
    "from sklearn.model_selection import StratifiedKFold\n",
    "from sklearn.base import clone"
   ],
   "metadata": {
    "collapsed": false,
    "ExecuteTime": {
     "end_time": "2024-03-05T00:32:07.270959Z",
     "start_time": "2024-03-05T00:32:07.267121Z"
    }
   },
   "id": "a1ab19b294d79aa8",
   "execution_count": 19
  },
  {
   "cell_type": "code",
   "outputs": [],
   "source": [
    "# 교차 검증 구현\n",
    "\n",
    "skfolds = StratifiedKFold(n_splits = 3)\n",
    "\n",
    "for train_index, test_index in skfolds.split(X_train, y_train_5):\n",
    "    clone_clf = clone(sgd_clf)\n",
    "    \n",
    "    X_train_folds = X_train[train_index]\n",
    "    y_train_folds = y_train_5[train_index]\n",
    "    \n",
    "    X_test_fold = X_train[test_index]\n",
    "    y_test_fold = y_train_5[test_index]\n",
    "    \n",
    "    clone_clf.fit(X_train_folds, y_train_folds)\n",
    "    \n",
    "    y_pred = clone_clf.predict(X_test_fold)\n",
    "    \n",
    "    n_correct = sum(y_pred == y_test_fold)\n",
    "    \n",
    "    print(n_correct / len(y_pred))"
   ],
   "metadata": {
    "collapsed": false,
    "is_executing": true,
    "ExecuteTime": {
     "start_time": "2024-03-05T00:32:07.271962Z"
    }
   },
   "id": "e55a59c9c878f067",
   "execution_count": null
  },
  {
   "cell_type": "code",
   "outputs": [],
   "source": [
    "from sklearn.model_selection import cross_val_score\n",
    "\n",
    "cross_val_score(sgd_clf, X_train, y_train_5, cv = 3, scoring = 'accuracy')"
   ],
   "metadata": {
    "collapsed": false,
    "is_executing": true
   },
   "id": "992a341e43d1f49a",
   "execution_count": null
  },
  {
   "cell_type": "code",
   "outputs": [],
   "source": [
    "from sklearn.dummy import DummyClassifier\n",
    "\n",
    "dummy_clf = DummyClassifier()\n",
    "dummy_clf.fit(X_train, y_train_5)\n",
    "print(dummy_clf.predict(X_train))"
   ],
   "metadata": {
    "collapsed": false,
    "is_executing": true
   },
   "id": "acf0132780db9ba5",
   "execution_count": null
  },
  {
   "cell_type": "code",
   "outputs": [],
   "source": [
    "cross_val_score(dummy_clf, X_train, y_train_5, cv = 3, scoring = 'accuracy')"
   ],
   "metadata": {
    "collapsed": false,
    "is_executing": true
   },
   "id": "34426df3d352bd53",
   "execution_count": null
  },
  {
   "cell_type": "code",
   "outputs": [],
   "source": [
    "from sklearn.model_selection import cross_val_predict\n",
    "\n",
    "y_train_pred = cross_val_predict(sgd_clf, X_train, y_train_5, cv = 3)"
   ],
   "metadata": {
    "collapsed": false,
    "is_executing": true
   },
   "id": "d6c66a337648323",
   "execution_count": null
  },
  {
   "cell_type": "code",
   "outputs": [],
   "source": [
    "from sklearn.metrics import confusion_matrix\n",
    "cm = confusion_matrix(y_train_5, y_train_pred)\n",
    "cm"
   ],
   "metadata": {
    "collapsed": false,
    "is_executing": true
   },
   "id": "d701c438ae880c81",
   "execution_count": null
  },
  {
   "cell_type": "code",
   "outputs": [],
   "source": [
    "y_train_perfect_predictions = y_train_5\n",
    "confusion_matrix(y_train_5, y_train_perfect_predictions)"
   ],
   "metadata": {
    "collapsed": false,
    "is_executing": true
   },
   "id": "b64bd9e455cff357",
   "execution_count": null
  },
  {
   "cell_type": "code",
   "outputs": [],
   "source": [
    "from sklearn.metrics import precision_score, recall_score\n",
    "precision_score(y_train_5, y_train_pred)"
   ],
   "metadata": {
    "collapsed": false,
    "is_executing": true
   },
   "id": "387ba0963ad7e4f0",
   "execution_count": null
  },
  {
   "cell_type": "code",
   "outputs": [],
   "source": [
    "recall_score(y_train_5, y_train_pred)"
   ],
   "metadata": {
    "collapsed": false,
    "is_executing": true
   },
   "id": "8de28a0939c7bc01",
   "execution_count": null
  },
  {
   "cell_type": "code",
   "outputs": [],
   "source": [
    "from sklearn.metrics import f1_score\n",
    "\n",
    "f1_score(y_train_5, y_train_pred)"
   ],
   "metadata": {
    "collapsed": false,
    "is_executing": true
   },
   "id": "c71f071bd5c36035",
   "execution_count": null
  },
  {
   "cell_type": "code",
   "outputs": [],
   "source": [
    "y_scores = sgd_clf.decision_function([some_digit])\n",
    "y_scores"
   ],
   "metadata": {
    "collapsed": false,
    "is_executing": true
   },
   "id": "6c23e7901c0586e3",
   "execution_count": null
  },
  {
   "cell_type": "code",
   "outputs": [],
   "source": [
    "threshold = 0\n",
    "y_some_digit_pred = (y_scores > threshold)\n",
    "y_some_digit_pred"
   ],
   "metadata": {
    "collapsed": false,
    "is_executing": true
   },
   "id": "a19413c447708995",
   "execution_count": null
  },
  {
   "cell_type": "code",
   "outputs": [],
   "source": [
    "threshold = 3000\n",
    "y_some_digit_pred = (y_scores > threshold)\n",
    "y_some_digit_pred"
   ],
   "metadata": {
    "collapsed": false,
    "is_executing": true
   },
   "id": "9d5e46b910e06373",
   "execution_count": null
  },
  {
   "cell_type": "code",
   "outputs": [],
   "source": [
    "y_scores = cross_val_predict(sgd_clf, X_train, y_train_5, cv = 3, method = 'decision_function')"
   ],
   "metadata": {
    "collapsed": false,
    "is_executing": true
   },
   "id": "2915fe120e51ee7d",
   "execution_count": null
  },
  {
   "cell_type": "code",
   "outputs": [],
   "source": [
    "from sklearn.metrics import precision_recall_curve\n",
    "\n",
    "precisions, recalls, thresholds = precision_recall_curve(y_train_5, y_scores)\n",
    "plt.plot(thresholds, precisions[:-1], 'b--', label = 'precision', linewidth = 2)\n",
    "plt.plot(thresholds, recalls[:-1], 'g--', label = 'recall', linewidth = 2)\n",
    "plt.vlines(threshold, 0, 1.0, 'k', 'dotted', label = 'threshold')\n",
    "plt.legend()\n",
    "plt.grid(visible = True)\n",
    "plt.show()"
   ],
   "metadata": {
    "collapsed": false,
    "is_executing": true
   },
   "id": "ba67701997f3824a",
   "execution_count": null
  },
  {
   "cell_type": "markdown",
   "source": [
    "### 그림판에서 새로운 숫자 그려서 해보기"
   ],
   "metadata": {
    "collapsed": false
   },
   "id": "f3ada4a2197a73c5"
  },
  {
   "cell_type": "code",
   "outputs": [],
   "source": [
    "#print(img)"
   ],
   "metadata": {
    "collapsed": false,
    "is_executing": true
   },
   "id": "1954027202a9b28",
   "execution_count": null
  },
  {
   "cell_type": "code",
   "outputs": [],
   "source": [],
   "metadata": {
    "collapsed": false,
    "is_executing": true
   },
   "id": "b786b5a8dbaac90d",
   "execution_count": null
  },
  {
   "cell_type": "code",
   "outputs": [],
   "source": [],
   "metadata": {
    "collapsed": false,
    "is_executing": true
   },
   "id": "bfd94d198be185f5",
   "execution_count": null
  },
  {
   "cell_type": "code",
   "outputs": [],
   "source": [],
   "metadata": {
    "collapsed": false,
    "is_executing": true
   },
   "id": "ec86289d5e23df5"
  }
 ],
 "metadata": {
  "kernelspec": {
   "display_name": "Python 3",
   "language": "python",
   "name": "python3"
  },
  "language_info": {
   "codemirror_mode": {
    "name": "ipython",
    "version": 2
   },
   "file_extension": ".py",
   "mimetype": "text/x-python",
   "name": "python",
   "nbconvert_exporter": "python",
   "pygments_lexer": "ipython2",
   "version": "2.7.6"
  }
 },
 "nbformat": 4,
 "nbformat_minor": 5
}
