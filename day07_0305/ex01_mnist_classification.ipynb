{
 "cells": [
  {
   "cell_type": "markdown",
   "source": [
    "### 이미지 데이터 분류\n",
    "- 데이터 : sklearn.datasets의 MNIST ==> 디지털 숫자 0 ~ 9 데이터 손글씨"
   ],
   "metadata": {
    "collapsed": false
   },
   "id": "3fada8bdcae33218"
  },
  {
   "cell_type": "code",
   "outputs": [],
   "source": [],
   "metadata": {
    "collapsed": false
   },
   "id": "e8baa9688ac61770"
  }
 ],
 "metadata": {
  "kernelspec": {
   "display_name": "Python 3",
   "language": "python",
   "name": "python3"
  },
  "language_info": {
   "codemirror_mode": {
    "name": "ipython",
    "version": 2
   },
   "file_extension": ".py",
   "mimetype": "text/x-python",
   "name": "python",
   "nbconvert_exporter": "python",
   "pygments_lexer": "ipython2",
   "version": "2.7.6"
  }
 },
 "nbformat": 4,
 "nbformat_minor": 5
}
