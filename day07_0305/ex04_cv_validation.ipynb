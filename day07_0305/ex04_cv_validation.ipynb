{
 "cells": [
  {
   "cell_type": "markdown",
   "source": [
    "### 교차 검증 단순화\n",
    "- scikit-learn의 model_selection 모듈 내에 모델 검증 관련 기능 활용\n",
    "- 교차 검증 데이터 기반 검증 결과 처리"
   ],
   "metadata": {
    "collapsed": false
   },
   "id": "470881da54ee444e"
  },
  {
   "cell_type": "markdown",
   "source": [
    "[1] 모듈 로딩 및 데이터 준비 <hr>"
   ],
   "metadata": {
    "collapsed": false
   },
   "id": "d4da84396d6e738f"
  },
  {
   "cell_type": "code",
   "outputs": [],
   "source": [
    "import pandas as pd\n",
    "\n",
    "# 생선 데이터 준비 \n",
    "fishDF = pd.read_csv('../data/fish.csv')\n",
    "\n",
    "# 붓꽃 데이터 준비\n",
    "irisDF = pd.read_csv('../data/iris.csv', header = None)"
   ],
   "metadata": {
    "collapsed": false,
    "ExecuteTime": {
     "end_time": "2024-03-05T09:03:02.374830Z",
     "start_time": "2024-03-05T09:03:02.369018Z"
    }
   },
   "id": "8e698f2f7641b291",
   "execution_count": 114
  },
  {
   "cell_type": "code",
   "outputs": [
    {
     "data": {
      "text/plain": "  Species  Weight  Length  Diagonal  Height   Width\n0   Bream   242.0    25.4      30.0   11.52  4.0200\n1   Bream   290.0    26.3      31.2   12.48  4.3056",
      "text/html": "<div>\n<style scoped>\n    .dataframe tbody tr th:only-of-type {\n        vertical-align: middle;\n    }\n\n    .dataframe tbody tr th {\n        vertical-align: top;\n    }\n\n    .dataframe thead th {\n        text-align: right;\n    }\n</style>\n<table border=\"1\" class=\"dataframe\">\n  <thead>\n    <tr style=\"text-align: right;\">\n      <th></th>\n      <th>Species</th>\n      <th>Weight</th>\n      <th>Length</th>\n      <th>Diagonal</th>\n      <th>Height</th>\n      <th>Width</th>\n    </tr>\n  </thead>\n  <tbody>\n    <tr>\n      <th>0</th>\n      <td>Bream</td>\n      <td>242.0</td>\n      <td>25.4</td>\n      <td>30.0</td>\n      <td>11.52</td>\n      <td>4.0200</td>\n    </tr>\n    <tr>\n      <th>1</th>\n      <td>Bream</td>\n      <td>290.0</td>\n      <td>26.3</td>\n      <td>31.2</td>\n      <td>12.48</td>\n      <td>4.3056</td>\n    </tr>\n  </tbody>\n</table>\n</div>"
     },
     "execution_count": 115,
     "metadata": {},
     "output_type": "execute_result"
    }
   ],
   "source": [
    "fishDF.head(2)"
   ],
   "metadata": {
    "collapsed": false,
    "ExecuteTime": {
     "end_time": "2024-03-05T09:03:02.492074Z",
     "start_time": "2024-03-05T09:03:02.484786Z"
    }
   },
   "id": "47051dcf3def2da8",
   "execution_count": 115
  },
  {
   "cell_type": "markdown",
   "source": [
    "[2] 데이터 준비 => 피쳐 & 타겟 분리 <hr>"
   ],
   "metadata": {
    "collapsed": false
   },
   "id": "f31bb1a0fd45df75"
  },
  {
   "cell_type": "code",
   "outputs": [],
   "source": [
    "# 타겟 : Weight, 피처 : Length, Diagonal, Height, Width\n",
    "fish_targetSR = fishDF[fishDF.columns[1]]\n",
    "fish_featureDF = fishDF[fishDF.columns[2:]]"
   ],
   "metadata": {
    "collapsed": false,
    "ExecuteTime": {
     "end_time": "2024-03-05T09:03:02.508138Z",
     "start_time": "2024-03-05T09:03:02.504683Z"
    }
   },
   "id": "513c90e7d4d4310f",
   "execution_count": 116
  },
  {
   "cell_type": "code",
   "outputs": [
    {
     "data": {
      "text/plain": "     0    1    2    3\n0  5.1  3.5  1.4  0.2\n1  4.9  3.0  1.4  0.2",
      "text/html": "<div>\n<style scoped>\n    .dataframe tbody tr th:only-of-type {\n        vertical-align: middle;\n    }\n\n    .dataframe tbody tr th {\n        vertical-align: top;\n    }\n\n    .dataframe thead th {\n        text-align: right;\n    }\n</style>\n<table border=\"1\" class=\"dataframe\">\n  <thead>\n    <tr style=\"text-align: right;\">\n      <th></th>\n      <th>0</th>\n      <th>1</th>\n      <th>2</th>\n      <th>3</th>\n    </tr>\n  </thead>\n  <tbody>\n    <tr>\n      <th>0</th>\n      <td>5.1</td>\n      <td>3.5</td>\n      <td>1.4</td>\n      <td>0.2</td>\n    </tr>\n    <tr>\n      <th>1</th>\n      <td>4.9</td>\n      <td>3.0</td>\n      <td>1.4</td>\n      <td>0.2</td>\n    </tr>\n  </tbody>\n</table>\n</div>"
     },
     "execution_count": 117,
     "metadata": {},
     "output_type": "execute_result"
    }
   ],
   "source": [
    "# 타겟 : 4번 컬럼, 피처 : 0 ~ 3번 컬럼\n",
    "iris_targetSR = irisDF[irisDF.columns[4]]\n",
    "iris_featureDF = irisDF[irisDF.columns[:4]]\n",
    "iris_featureDF.head(2)"
   ],
   "metadata": {
    "collapsed": false,
    "ExecuteTime": {
     "end_time": "2024-03-05T09:03:02.518040Z",
     "start_time": "2024-03-05T09:03:02.509251Z"
    }
   },
   "id": "7b02dcfacdbe510b",
   "execution_count": 117
  },
  {
   "cell_type": "markdown",
   "source": [
    "[3] 데이터 전처리 <hr>\n",
    "- 피처 스케일링"
   ],
   "metadata": {
    "collapsed": false
   },
   "id": "cbb09b68d797508c"
  },
  {
   "cell_type": "code",
   "outputs": [],
   "source": [
    "# 학습용 테스트용 데이터 분리\n",
    "from sklearn.model_selection import train_test_split\n",
    "\n",
    "# 생선 데이터 => 학습용 데이터셋, 테스트용 데이터셋 ===> 회귀\n",
    "fish_X_train, fish_X_test, fish_y_train, fish_y_test = train_test_split(fish_featureDF, fish_targetSR, test_size = 0.2, random_state=5)\n",
    "\n",
    "# iris 데이터 => 학습용 데이터셋, 테스트용 데이터셋 ===> 분류\n",
    "iris_X_train, iris_X_test, iris_y_train, iris_y_test = train_test_split(iris_featureDF, iris_targetSR, test_size = 0.2,\n",
    "                                                                        random_state=5, stratify=iris_targetSR)"
   ],
   "metadata": {
    "collapsed": false,
    "ExecuteTime": {
     "end_time": "2024-03-05T09:03:02.544665Z",
     "start_time": "2024-03-05T09:03:02.539138Z"
    }
   },
   "id": "d70fdecf95e53bf9",
   "execution_count": 118
  },
  {
   "cell_type": "code",
   "outputs": [],
   "source": [
    "from sklearn.preprocessing import StandardScaler\n",
    "\n",
    "# 생선 데이터셋 피처 스케일링\n",
    "fish_scaler = StandardScaler()\n",
    "fish_scaler.fit(fish_X_train)\n",
    "\n",
    "scaled_fish_X_train = fish_scaler.transform(fish_X_train)\n",
    "scaled_fish_X_test = fish_scaler.transform(fish_X_test)"
   ],
   "metadata": {
    "collapsed": false,
    "ExecuteTime": {
     "end_time": "2024-03-05T09:03:02.565773Z",
     "start_time": "2024-03-05T09:03:02.558551Z"
    }
   },
   "id": "25635fe369cd84ca",
   "execution_count": 119
  },
  {
   "cell_type": "code",
   "outputs": [],
   "source": [
    "# 생선 데이터셋 피처 스케일링\n",
    "iris_scaler = StandardScaler()\n",
    "iris_scaler.fit(iris_X_train)\n",
    "\n",
    "scaled_iris_X_train = iris_scaler.transform(iris_X_train)\n",
    "scaled_iris_X_test = iris_scaler.transform(iris_X_test)"
   ],
   "metadata": {
    "collapsed": false,
    "ExecuteTime": {
     "end_time": "2024-03-05T09:03:02.604036Z",
     "start_time": "2024-03-05T09:03:02.597991Z"
    }
   },
   "id": "c957b79a77ed7f21",
   "execution_count": 120
  },
  {
   "cell_type": "markdown",
   "source": [
    "[4] 학습 <hr>\n",
    "[4-1] 생선 무게 예측 모델"
   ],
   "metadata": {
    "collapsed": false
   },
   "id": "463da57daf027ff7"
  },
  {
   "cell_type": "code",
   "outputs": [],
   "source": [
    "# 모듈 로딩\n",
    "from sklearn.linear_model import LinearRegression, Ridge, Lasso\n",
    "from sklearn.model_selection import cross_validate, cross_val_score, cross_val_predict"
   ],
   "metadata": {
    "collapsed": false,
    "ExecuteTime": {
     "end_time": "2024-03-05T09:03:02.635706Z",
     "start_time": "2024-03-05T09:03:02.632761Z"
    }
   },
   "id": "26939f59ec417ef6",
   "execution_count": 121
  },
  {
   "cell_type": "code",
   "outputs": [],
   "source": [
    "# 교차 검증으로 학습 진행\n",
    "# => 준비 : 모델 인스턴스, 학습용 피처 데이터, 학습용 라벨 데이터\n",
    "lr_model = LinearRegression()"
   ],
   "metadata": {
    "collapsed": false,
    "ExecuteTime": {
     "end_time": "2024-03-05T09:03:02.659005Z",
     "start_time": "2024-03-05T09:03:02.656082Z"
    }
   },
   "id": "c92b7111c3b0e854",
   "execution_count": 122
  },
  {
   "cell_type": "markdown",
   "source": [
    "cross_validate()"
   ],
   "metadata": {
    "collapsed": false
   },
   "id": "1b74f6b00e495699"
  },
  {
   "cell_type": "code",
   "outputs": [
    {
     "name": "stdout",
     "output_type": "stream",
     "text": [
      "{'fit_time': array([0.00212383, 0.00105095, 0.        , 0.00100017, 0.00103641]), 'score_time': array([0.00100064, 0.00106883, 0.0010438 , 0.        , 0.00103307]), 'estimator': [LinearRegression(), LinearRegression(), LinearRegression(), LinearRegression(), LinearRegression()], 'test_r2': array([0.92104683, 0.84385378, 0.88592423, 0.64671954, 0.79031905]), 'train_r2': array([0.87426416, 0.88779401, 0.88061108, 0.90297504, 0.89833592]), 'test_neg_mean_squared_error': array([ -8767.84902315, -17815.75093903, -12344.87825138, -22006.47049028,\n",
      "       -39450.52608702]), 'train_neg_mean_squared_error': array([-16078.44783606, -13972.57866943, -15268.42472495, -13223.98109532,\n",
      "       -10586.01039978])}\n"
     ]
    }
   ],
   "source": [
    "# 학습/검증에 대한 평가 모든 결과에 대한 처리\n",
    "result = cross_validate(lr_model, \n",
    "                        scaled_fish_X_train, \n",
    "                        fish_y_train,\n",
    "                        scoring = ('r2', 'neg_mean_squared_error'),\n",
    "                        return_train_score=True,\n",
    "                        return_estimator=True,\n",
    "                        ) \n",
    "# cv=3 이라는 것은 3등분 했다는 소리\n",
    "\n",
    "print(result)"
   ],
   "metadata": {
    "collapsed": false,
    "ExecuteTime": {
     "end_time": "2024-03-05T09:03:02.716900Z",
     "start_time": "2024-03-05T09:03:02.695389Z"
    }
   },
   "id": "7f71f6f21f062924",
   "execution_count": 123
  },
  {
   "cell_type": "code",
   "outputs": [
    {
     "data": {
      "text/plain": "dict_keys(['fit_time', 'score_time', 'estimator', 'test_r2', 'train_r2', 'test_neg_mean_squared_error', 'train_neg_mean_squared_error'])"
     },
     "execution_count": 124,
     "metadata": {},
     "output_type": "execute_result"
    }
   ],
   "source": [
    "result.keys()"
   ],
   "metadata": {
    "collapsed": false,
    "ExecuteTime": {
     "end_time": "2024-03-05T09:03:02.742754Z",
     "start_time": "2024-03-05T09:03:02.738Z"
    }
   },
   "id": "a570ca72647dd5c5",
   "execution_count": 124
  },
  {
   "cell_type": "code",
   "outputs": [
    {
     "data": {
      "text/plain": "dict_values([array([0.00212383, 0.00105095, 0.        , 0.00100017, 0.00103641]), array([0.00100064, 0.00106883, 0.0010438 , 0.        , 0.00103307]), [LinearRegression(), LinearRegression(), LinearRegression(), LinearRegression(), LinearRegression()], array([0.92104683, 0.84385378, 0.88592423, 0.64671954, 0.79031905]), array([0.87426416, 0.88779401, 0.88061108, 0.90297504, 0.89833592]), array([ -8767.84902315, -17815.75093903, -12344.87825138, -22006.47049028,\n       -39450.52608702]), array([-16078.44783606, -13972.57866943, -15268.42472495, -13223.98109532,\n       -10586.01039978])])"
     },
     "execution_count": 125,
     "metadata": {},
     "output_type": "execute_result"
    }
   ],
   "source": [
    "result.values()"
   ],
   "metadata": {
    "collapsed": false,
    "ExecuteTime": {
     "end_time": "2024-03-05T09:03:02.768794Z",
     "start_time": "2024-03-05T09:03:02.762734Z"
    }
   },
   "id": "942cb9fb8ddc1d3d",
   "execution_count": 125
  },
  {
   "cell_type": "code",
   "outputs": [
    {
     "data": {
      "text/plain": "   fit_time  score_time           estimator   test_r2  train_r2  \\\n0  0.002124    0.001001  LinearRegression()  0.921047  0.874264   \n1  0.001051    0.001069  LinearRegression()  0.843854  0.887794   \n2  0.000000    0.001044  LinearRegression()  0.885924  0.880611   \n3  0.001000    0.000000  LinearRegression()  0.646720  0.902975   \n4  0.001036    0.001033  LinearRegression()  0.790319  0.898336   \n\n   test_neg_mean_squared_error  train_neg_mean_squared_error  \n0                 -8767.849023                 -16078.447836  \n1                -17815.750939                 -13972.578669  \n2                -12344.878251                 -15268.424725  \n3                -22006.470490                 -13223.981095  \n4                -39450.526087                 -10586.010400  ",
      "text/html": "<div>\n<style scoped>\n    .dataframe tbody tr th:only-of-type {\n        vertical-align: middle;\n    }\n\n    .dataframe tbody tr th {\n        vertical-align: top;\n    }\n\n    .dataframe thead th {\n        text-align: right;\n    }\n</style>\n<table border=\"1\" class=\"dataframe\">\n  <thead>\n    <tr style=\"text-align: right;\">\n      <th></th>\n      <th>fit_time</th>\n      <th>score_time</th>\n      <th>estimator</th>\n      <th>test_r2</th>\n      <th>train_r2</th>\n      <th>test_neg_mean_squared_error</th>\n      <th>train_neg_mean_squared_error</th>\n    </tr>\n  </thead>\n  <tbody>\n    <tr>\n      <th>0</th>\n      <td>0.002124</td>\n      <td>0.001001</td>\n      <td>LinearRegression()</td>\n      <td>0.921047</td>\n      <td>0.874264</td>\n      <td>-8767.849023</td>\n      <td>-16078.447836</td>\n    </tr>\n    <tr>\n      <th>1</th>\n      <td>0.001051</td>\n      <td>0.001069</td>\n      <td>LinearRegression()</td>\n      <td>0.843854</td>\n      <td>0.887794</td>\n      <td>-17815.750939</td>\n      <td>-13972.578669</td>\n    </tr>\n    <tr>\n      <th>2</th>\n      <td>0.000000</td>\n      <td>0.001044</td>\n      <td>LinearRegression()</td>\n      <td>0.885924</td>\n      <td>0.880611</td>\n      <td>-12344.878251</td>\n      <td>-15268.424725</td>\n    </tr>\n    <tr>\n      <th>3</th>\n      <td>0.001000</td>\n      <td>0.000000</td>\n      <td>LinearRegression()</td>\n      <td>0.646720</td>\n      <td>0.902975</td>\n      <td>-22006.470490</td>\n      <td>-13223.981095</td>\n    </tr>\n    <tr>\n      <th>4</th>\n      <td>0.001036</td>\n      <td>0.001033</td>\n      <td>LinearRegression()</td>\n      <td>0.790319</td>\n      <td>0.898336</td>\n      <td>-39450.526087</td>\n      <td>-10586.010400</td>\n    </tr>\n  </tbody>\n</table>\n</div>"
     },
     "execution_count": 126,
     "metadata": {},
     "output_type": "execute_result"
    }
   ],
   "source": [
    "resultDF = pd.DataFrame(result)\n",
    "resultDF"
   ],
   "metadata": {
    "collapsed": false,
    "ExecuteTime": {
     "end_time": "2024-03-05T09:03:02.814337Z",
     "start_time": "2024-03-05T09:03:02.802388Z"
    }
   },
   "id": "bc54c68aa4725660",
   "execution_count": 126
  },
  {
   "cell_type": "code",
   "outputs": [
    {
     "data": {
      "text/plain": "(array([ 373.98470744, -159.77931033,   90.53431501,   50.22123874]),\n 408.52250924970195)"
     },
     "execution_count": 127,
     "metadata": {},
     "output_type": "execute_result"
    }
   ],
   "source": [
    "best_model = resultDF.iloc[0]['estimator']\n",
    "best_model.coef_, best_model.intercept_"
   ],
   "metadata": {
    "collapsed": false,
    "ExecuteTime": {
     "end_time": "2024-03-05T09:03:02.830187Z",
     "start_time": "2024-03-05T09:03:02.825199Z"
    }
   },
   "id": "ddf9f8bf59511392",
   "execution_count": 127
  },
  {
   "cell_type": "markdown",
   "source": [
    "cross_val_score"
   ],
   "metadata": {
    "collapsed": false
   },
   "id": "e609de67beaf53eb"
  },
  {
   "cell_type": "code",
   "outputs": [
    {
     "data": {
      "text/plain": "array([0.92104683, 0.84385378, 0.88592423, 0.64671954, 0.79031905])"
     },
     "execution_count": 128,
     "metadata": {},
     "output_type": "execute_result"
    }
   ],
   "source": [
    "### CV에 score만 추출\n",
    "cross_val_score(lr_model, scaled_fish_X_train, fish_y_train)"
   ],
   "metadata": {
    "collapsed": false,
    "ExecuteTime": {
     "end_time": "2024-03-05T09:03:02.855651Z",
     "start_time": "2024-03-05T09:03:02.842339Z"
    }
   },
   "id": "c7085b0dd800012d",
   "execution_count": 128
  },
  {
   "cell_type": "markdown",
   "source": [
    "cross_val_predict"
   ],
   "metadata": {
    "collapsed": false
   },
   "id": "fd8fe6f32375eefa"
  },
  {
   "cell_type": "code",
   "outputs": [
    {
     "data": {
      "text/plain": "array([ 9.09792517e+01,  9.85612151e+01,  3.87029719e+02,  1.13011547e+02,\n        6.81676563e+02,  2.82456988e+02,  5.34379642e+02,  3.61848302e+02,\n        6.12934598e+02,  1.70756130e+02,  5.53222970e+02,  1.69433076e+01,\n       -2.53895688e+01,  8.14926155e+02,  6.97225129e+01,  3.38157931e+02,\n        4.76306355e+02,  7.67659158e+02,  6.55686457e+02,  1.80300946e+02,\n        8.45315559e+02,  2.92145322e+02,  6.08539351e+02,  9.02782406e+02,\n        6.99788981e+02,  9.40316876e+02,  7.47628344e+02,  3.28419355e+02,\n        7.89622699e+02,  9.09130831e+02, -1.98986854e+02,  1.81089559e+02,\n        6.36731679e+02, -1.09209894e+02,  3.57087822e+02,  7.88250361e+02,\n        3.25180589e+02,  6.56473977e+02, -2.37032025e+02,  4.55882834e+01,\n        9.57130255e+01, -2.10830505e+02,  1.28969696e+02, -2.21199132e+02,\n       -1.10282630e+02,  6.39911566e+02,  2.12288357e+02,  2.41098815e+02,\n        2.61932359e+02, -2.58301758e+02,  2.93250859e+01,  8.87950700e+02,\n        2.46460034e+02,  5.55564851e+02,  6.71006008e+02,  7.04637891e+02,\n        2.29677895e+02,  8.49746634e+02,  7.24031103e+02, -5.70994192e+01,\n        2.22728797e+02,  9.41173359e+02,  5.25995612e+02,  7.74853524e+02,\n        2.17941892e+02,  5.74873742e+02,  2.17397906e+02,  5.98772429e+02,\n        8.13391991e+02,  1.93602150e+02,  2.00834243e+02,  8.85719610e+02,\n        7.94930726e+02,  4.91188615e+02,  1.11555582e+02,  2.15505969e+02,\n        4.55682558e+02,  3.27230281e+02, -2.54736199e+02,  2.14499169e+02,\n        4.32295967e+02,  5.29619314e+02,  3.11672406e-01, -2.77216256e+02,\n        6.55329442e+02,  4.59082390e+02,  3.18928562e+02, -2.27015547e+02,\n        7.74464230e+02, -2.40117603e+02,  6.37572206e+02,  6.23647648e+02,\n        1.58228119e+02,  5.16093336e+02,  8.12222679e+01,  2.27883952e+02,\n        3.92943741e+02,  8.47396913e+02, -2.24559795e+02,  3.94415997e+02,\n        6.81290262e+02,  5.82109256e+02,  3.57665080e+02,  5.94846811e+02,\n        5.14375584e+02,  3.62255513e+02,  3.41676651e+02,  1.69523793e+02,\n        3.79453524e+02,  5.85425213e+02,  8.26535922e+02,  8.65537588e+02,\n        2.04176403e+02,  8.17998531e+02,  2.25074947e+02,  2.07081163e+02,\n        7.19337633e+02,  1.31467393e+02,  6.85638198e+02,  9.06351710e+02,\n        4.79431463e+02,  7.01957458e+02,  5.22269464e+02, -4.60942099e+01,\n        1.04657155e+03,  8.10571851e+02,  2.69273973e+02])"
     },
     "execution_count": 129,
     "metadata": {},
     "output_type": "execute_result"
    }
   ],
   "source": [
    "### CV에 predict만 추출\n",
    "cross_val_predict(lr_model, scaled_fish_X_train, fish_y_train)\n",
    "\n",
    "# 5등분으로 쪼개서 학습 시켜서 그 예측값이 나온다.\n",
    "# 각각에 대한 예측값이 모두 나온다."
   ],
   "metadata": {
    "collapsed": false,
    "ExecuteTime": {
     "end_time": "2024-03-05T09:03:02.889268Z",
     "start_time": "2024-03-05T09:03:02.879052Z"
    }
   },
   "id": "333a5b03494505f4",
   "execution_count": 129
  },
  {
   "cell_type": "markdown",
   "source": [
    "### 교차 검증과 튜닝까지 한꺼번에 진행"
   ],
   "metadata": {
    "collapsed": false
   },
   "id": "72948c7050d384a9"
  },
  {
   "cell_type": "markdown",
   "source": [
    "- 단점 : 시간이 오래 걸림"
   ],
   "metadata": {
    "collapsed": false
   },
   "id": "9461a7e15ce48aab"
  },
  {
   "cell_type": "code",
   "outputs": [],
   "source": [
    "from sklearn.model_selection import GridSearchCV, RandomizedSearchCV\n",
    "from sklearn.linear_model import LogisticRegression"
   ],
   "metadata": {
    "collapsed": false,
    "ExecuteTime": {
     "end_time": "2024-03-05T09:03:02.902652Z",
     "start_time": "2024-03-05T09:03:02.899608Z"
    }
   },
   "id": "ce8367fa5d35bc17",
   "execution_count": 130
  },
  {
   "cell_type": "code",
   "outputs": [],
   "source": [
    "# 학습 모델 인스턴스와 하이퍼 파라미터\n",
    "est = LogisticRegression(max_iter = 10000)\n",
    "params = {'penalty': ['l1', 'l2']}"
   ],
   "metadata": {
    "collapsed": false,
    "ExecuteTime": {
     "end_time": "2024-03-05T09:03:02.979504Z",
     "start_time": "2024-03-05T09:03:02.976425Z"
    }
   },
   "id": "606c345128a819e4",
   "execution_count": 131
  },
  {
   "cell_type": "code",
   "outputs": [
    {
     "name": "stderr",
     "output_type": "stream",
     "text": [
      "C:\\ProgramData\\anaconda3\\Lib\\site-packages\\sklearn\\model_selection\\_validation.py:425: FitFailedWarning: \n",
      "5 fits failed out of a total of 10.\n",
      "The score on these train-test partitions for these parameters will be set to nan.\n",
      "If these failures are not expected, you can try to debug them by setting error_score='raise'.\n",
      "\n",
      "Below are more details about the failures:\n",
      "--------------------------------------------------------------------------------\n",
      "5 fits failed with the following error:\n",
      "Traceback (most recent call last):\n",
      "  File \"C:\\ProgramData\\anaconda3\\Lib\\site-packages\\sklearn\\model_selection\\_validation.py\", line 732, in _fit_and_score\n",
      "    estimator.fit(X_train, y_train, **fit_params)\n",
      "  File \"C:\\ProgramData\\anaconda3\\Lib\\site-packages\\sklearn\\base.py\", line 1151, in wrapper\n",
      "    return fit_method(estimator, *args, **kwargs)\n",
      "           ^^^^^^^^^^^^^^^^^^^^^^^^^^^^^^^^^^^^^^\n",
      "  File \"C:\\ProgramData\\anaconda3\\Lib\\site-packages\\sklearn\\linear_model\\_logistic.py\", line 1168, in fit\n",
      "    solver = _check_solver(self.solver, self.penalty, self.dual)\n",
      "             ^^^^^^^^^^^^^^^^^^^^^^^^^^^^^^^^^^^^^^^^^^^^^^^^^^^\n",
      "  File \"C:\\ProgramData\\anaconda3\\Lib\\site-packages\\sklearn\\linear_model\\_logistic.py\", line 56, in _check_solver\n",
      "    raise ValueError(\n",
      "ValueError: Solver lbfgs supports only 'l2' or 'none' penalties, got l1 penalty.\n",
      "\n",
      "  warnings.warn(some_fits_failed_message, FitFailedWarning)\n",
      "C:\\ProgramData\\anaconda3\\Lib\\site-packages\\sklearn\\model_selection\\_search.py:976: UserWarning: One or more of the test scores are non-finite: [ nan 0.95]\n",
      "  warnings.warn(\n",
      "C:\\ProgramData\\anaconda3\\Lib\\site-packages\\sklearn\\model_selection\\_search.py:976: UserWarning: One or more of the train scores are non-finite: [       nan 0.97291667]\n",
      "  warnings.warn(\n"
     ]
    },
    {
     "data": {
      "text/plain": "GridSearchCV(estimator=LogisticRegression(max_iter=10000),\n             param_grid={'penalty': ['l1', 'l2']}, return_train_score=True)",
      "text/html": "<style>#sk-container-id-3 {color: black;}#sk-container-id-3 pre{padding: 0;}#sk-container-id-3 div.sk-toggleable {background-color: white;}#sk-container-id-3 label.sk-toggleable__label {cursor: pointer;display: block;width: 100%;margin-bottom: 0;padding: 0.3em;box-sizing: border-box;text-align: center;}#sk-container-id-3 label.sk-toggleable__label-arrow:before {content: \"▸\";float: left;margin-right: 0.25em;color: #696969;}#sk-container-id-3 label.sk-toggleable__label-arrow:hover:before {color: black;}#sk-container-id-3 div.sk-estimator:hover label.sk-toggleable__label-arrow:before {color: black;}#sk-container-id-3 div.sk-toggleable__content {max-height: 0;max-width: 0;overflow: hidden;text-align: left;background-color: #f0f8ff;}#sk-container-id-3 div.sk-toggleable__content pre {margin: 0.2em;color: black;border-radius: 0.25em;background-color: #f0f8ff;}#sk-container-id-3 input.sk-toggleable__control:checked~div.sk-toggleable__content {max-height: 200px;max-width: 100%;overflow: auto;}#sk-container-id-3 input.sk-toggleable__control:checked~label.sk-toggleable__label-arrow:before {content: \"▾\";}#sk-container-id-3 div.sk-estimator input.sk-toggleable__control:checked~label.sk-toggleable__label {background-color: #d4ebff;}#sk-container-id-3 div.sk-label input.sk-toggleable__control:checked~label.sk-toggleable__label {background-color: #d4ebff;}#sk-container-id-3 input.sk-hidden--visually {border: 0;clip: rect(1px 1px 1px 1px);clip: rect(1px, 1px, 1px, 1px);height: 1px;margin: -1px;overflow: hidden;padding: 0;position: absolute;width: 1px;}#sk-container-id-3 div.sk-estimator {font-family: monospace;background-color: #f0f8ff;border: 1px dotted black;border-radius: 0.25em;box-sizing: border-box;margin-bottom: 0.5em;}#sk-container-id-3 div.sk-estimator:hover {background-color: #d4ebff;}#sk-container-id-3 div.sk-parallel-item::after {content: \"\";width: 100%;border-bottom: 1px solid gray;flex-grow: 1;}#sk-container-id-3 div.sk-label:hover label.sk-toggleable__label {background-color: #d4ebff;}#sk-container-id-3 div.sk-serial::before {content: \"\";position: absolute;border-left: 1px solid gray;box-sizing: border-box;top: 0;bottom: 0;left: 50%;z-index: 0;}#sk-container-id-3 div.sk-serial {display: flex;flex-direction: column;align-items: center;background-color: white;padding-right: 0.2em;padding-left: 0.2em;position: relative;}#sk-container-id-3 div.sk-item {position: relative;z-index: 1;}#sk-container-id-3 div.sk-parallel {display: flex;align-items: stretch;justify-content: center;background-color: white;position: relative;}#sk-container-id-3 div.sk-item::before, #sk-container-id-3 div.sk-parallel-item::before {content: \"\";position: absolute;border-left: 1px solid gray;box-sizing: border-box;top: 0;bottom: 0;left: 50%;z-index: -1;}#sk-container-id-3 div.sk-parallel-item {display: flex;flex-direction: column;z-index: 1;position: relative;background-color: white;}#sk-container-id-3 div.sk-parallel-item:first-child::after {align-self: flex-end;width: 50%;}#sk-container-id-3 div.sk-parallel-item:last-child::after {align-self: flex-start;width: 50%;}#sk-container-id-3 div.sk-parallel-item:only-child::after {width: 0;}#sk-container-id-3 div.sk-dashed-wrapped {border: 1px dashed gray;margin: 0 0.4em 0.5em 0.4em;box-sizing: border-box;padding-bottom: 0.4em;background-color: white;}#sk-container-id-3 div.sk-label label {font-family: monospace;font-weight: bold;display: inline-block;line-height: 1.2em;}#sk-container-id-3 div.sk-label-container {text-align: center;}#sk-container-id-3 div.sk-container {/* jupyter's `normalize.less` sets `[hidden] { display: none; }` but bootstrap.min.css set `[hidden] { display: none !important; }` so we also need the `!important` here to be able to override the default hidden behavior on the sphinx rendered scikit-learn.org. See: https://github.com/scikit-learn/scikit-learn/issues/21755 */display: inline-block !important;position: relative;}#sk-container-id-3 div.sk-text-repr-fallback {display: none;}</style><div id=\"sk-container-id-3\" class=\"sk-top-container\"><div class=\"sk-text-repr-fallback\"><pre>GridSearchCV(estimator=LogisticRegression(max_iter=10000),\n             param_grid={&#x27;penalty&#x27;: [&#x27;l1&#x27;, &#x27;l2&#x27;]}, return_train_score=True)</pre><b>In a Jupyter environment, please rerun this cell to show the HTML representation or trust the notebook. <br />On GitHub, the HTML representation is unable to render, please try loading this page with nbviewer.org.</b></div><div class=\"sk-container\" hidden><div class=\"sk-item sk-dashed-wrapped\"><div class=\"sk-label-container\"><div class=\"sk-label sk-toggleable\"><input class=\"sk-toggleable__control sk-hidden--visually\" id=\"sk-estimator-id-7\" type=\"checkbox\" ><label for=\"sk-estimator-id-7\" class=\"sk-toggleable__label sk-toggleable__label-arrow\">GridSearchCV</label><div class=\"sk-toggleable__content\"><pre>GridSearchCV(estimator=LogisticRegression(max_iter=10000),\n             param_grid={&#x27;penalty&#x27;: [&#x27;l1&#x27;, &#x27;l2&#x27;]}, return_train_score=True)</pre></div></div></div><div class=\"sk-parallel\"><div class=\"sk-parallel-item\"><div class=\"sk-item\"><div class=\"sk-label-container\"><div class=\"sk-label sk-toggleable\"><input class=\"sk-toggleable__control sk-hidden--visually\" id=\"sk-estimator-id-8\" type=\"checkbox\" ><label for=\"sk-estimator-id-8\" class=\"sk-toggleable__label sk-toggleable__label-arrow\">estimator: LogisticRegression</label><div class=\"sk-toggleable__content\"><pre>LogisticRegression(max_iter=10000)</pre></div></div></div><div class=\"sk-serial\"><div class=\"sk-item\"><div class=\"sk-estimator sk-toggleable\"><input class=\"sk-toggleable__control sk-hidden--visually\" id=\"sk-estimator-id-9\" type=\"checkbox\" ><label for=\"sk-estimator-id-9\" class=\"sk-toggleable__label sk-toggleable__label-arrow\">LogisticRegression</label><div class=\"sk-toggleable__content\"><pre>LogisticRegression(max_iter=10000)</pre></div></div></div></div></div></div></div></div></div></div>"
     },
     "execution_count": 132,
     "metadata": {},
     "output_type": "execute_result"
    }
   ],
   "source": [
    "gscv = GridSearchCV(est, param_grid=params, return_train_score=True)\n",
    "gscv.fit(scaled_iris_X_train, iris_y_train)"
   ],
   "metadata": {
    "collapsed": false,
    "ExecuteTime": {
     "end_time": "2024-03-05T09:03:03.053541Z",
     "start_time": "2024-03-05T09:03:03.007085Z"
    }
   },
   "id": "da782e5ab194fd17",
   "execution_count": 132
  },
  {
   "cell_type": "code",
   "outputs": [
    {
     "data": {
      "text/plain": "   mean_fit_time  std_fit_time  mean_score_time  std_score_time param_penalty  \\\n0       0.000419      0.000513         0.000000          0.0000            l1   \n1       0.004139      0.001011         0.000801          0.0004            l2   \n\n              params  split0_test_score  split1_test_score  split2_test_score  \\\n0  {'penalty': 'l1'}                NaN                NaN                NaN   \n1  {'penalty': 'l2'}           0.958333                1.0           0.958333   \n\n   split3_test_score  ...  mean_test_score  std_test_score  rank_test_score  \\\n0                NaN  ...              NaN             NaN                2   \n1           0.916667  ...             0.95         0.03118                1   \n\n   split0_train_score  split1_train_score  split2_train_score  \\\n0                 NaN                 NaN                 NaN   \n1             0.96875            0.979167            0.989583   \n\n   split3_train_score  split4_train_score  mean_train_score  std_train_score  \n0                 NaN                 NaN               NaN              NaN  \n1            0.958333             0.96875          0.972917         0.010623  \n\n[2 rows x 21 columns]",
      "text/html": "<div>\n<style scoped>\n    .dataframe tbody tr th:only-of-type {\n        vertical-align: middle;\n    }\n\n    .dataframe tbody tr th {\n        vertical-align: top;\n    }\n\n    .dataframe thead th {\n        text-align: right;\n    }\n</style>\n<table border=\"1\" class=\"dataframe\">\n  <thead>\n    <tr style=\"text-align: right;\">\n      <th></th>\n      <th>mean_fit_time</th>\n      <th>std_fit_time</th>\n      <th>mean_score_time</th>\n      <th>std_score_time</th>\n      <th>param_penalty</th>\n      <th>params</th>\n      <th>split0_test_score</th>\n      <th>split1_test_score</th>\n      <th>split2_test_score</th>\n      <th>split3_test_score</th>\n      <th>...</th>\n      <th>mean_test_score</th>\n      <th>std_test_score</th>\n      <th>rank_test_score</th>\n      <th>split0_train_score</th>\n      <th>split1_train_score</th>\n      <th>split2_train_score</th>\n      <th>split3_train_score</th>\n      <th>split4_train_score</th>\n      <th>mean_train_score</th>\n      <th>std_train_score</th>\n    </tr>\n  </thead>\n  <tbody>\n    <tr>\n      <th>0</th>\n      <td>0.000419</td>\n      <td>0.000513</td>\n      <td>0.000000</td>\n      <td>0.0000</td>\n      <td>l1</td>\n      <td>{'penalty': 'l1'}</td>\n      <td>NaN</td>\n      <td>NaN</td>\n      <td>NaN</td>\n      <td>NaN</td>\n      <td>...</td>\n      <td>NaN</td>\n      <td>NaN</td>\n      <td>2</td>\n      <td>NaN</td>\n      <td>NaN</td>\n      <td>NaN</td>\n      <td>NaN</td>\n      <td>NaN</td>\n      <td>NaN</td>\n      <td>NaN</td>\n    </tr>\n    <tr>\n      <th>1</th>\n      <td>0.004139</td>\n      <td>0.001011</td>\n      <td>0.000801</td>\n      <td>0.0004</td>\n      <td>l2</td>\n      <td>{'penalty': 'l2'}</td>\n      <td>0.958333</td>\n      <td>1.0</td>\n      <td>0.958333</td>\n      <td>0.916667</td>\n      <td>...</td>\n      <td>0.95</td>\n      <td>0.03118</td>\n      <td>1</td>\n      <td>0.96875</td>\n      <td>0.979167</td>\n      <td>0.989583</td>\n      <td>0.958333</td>\n      <td>0.96875</td>\n      <td>0.972917</td>\n      <td>0.010623</td>\n    </tr>\n  </tbody>\n</table>\n<p>2 rows × 21 columns</p>\n</div>"
     },
     "execution_count": 133,
     "metadata": {},
     "output_type": "execute_result"
    }
   ],
   "source": [
    "cv_resultsDF = pd.DataFrame(gscv.cv_results_)\n",
    "cv_resultsDF"
   ],
   "metadata": {
    "collapsed": false,
    "ExecuteTime": {
     "end_time": "2024-03-05T09:03:03.069705Z",
     "start_time": "2024-03-05T09:03:03.054544Z"
    }
   },
   "id": "db68fc0a37f8bf8b",
   "execution_count": 133
  },
  {
   "cell_type": "code",
   "outputs": [],
   "source": [],
   "metadata": {
    "collapsed": false,
    "ExecuteTime": {
     "end_time": "2024-03-05T09:03:03.081628Z",
     "start_time": "2024-03-05T09:03:03.079707Z"
    }
   },
   "id": "c349ee5254d04ae",
   "execution_count": 133
  },
  {
   "cell_type": "code",
   "outputs": [],
   "source": [],
   "metadata": {
    "collapsed": false,
    "ExecuteTime": {
     "end_time": "2024-03-05T09:03:03.115406Z",
     "start_time": "2024-03-05T09:03:03.113585Z"
    }
   },
   "id": "cb7420209747456a",
   "execution_count": 133
  },
  {
   "cell_type": "markdown",
   "source": [
    "### 데이터에 적합한 모델 찾기"
   ],
   "metadata": {
    "collapsed": false
   },
   "id": "b64bea2fa2a885ae"
  },
  {
   "cell_type": "code",
   "outputs": [],
   "source": [
    "from sklearn.utils.discovery import all_estimators"
   ],
   "metadata": {
    "collapsed": false,
    "ExecuteTime": {
     "end_time": "2024-03-05T09:03:03.135747Z",
     "start_time": "2024-03-05T09:03:03.132762Z"
    }
   },
   "id": "45c37ea0d197756c",
   "execution_count": 134
  },
  {
   "cell_type": "code",
   "outputs": [
    {
     "name": "stdout",
     "output_type": "stream",
     "text": [
      "AdaBoostClassifier()\n",
      "BaggingClassifier()\n",
      "BernoulliNB()\n",
      "CalibratedClassifierCV()\n",
      "Negative values in data passed to CategoricalNB (input X)\n",
      "_BaseChain.__init__() missing 1 required positional argument: 'base_estimator'\n",
      "Negative values in data passed to ComplementNB (input X)\n",
      "DecisionTreeClassifier()\n",
      "DummyClassifier()\n",
      "ExtraTreeClassifier()\n",
      "ExtraTreesClassifier()\n",
      "GaussianNB()\n",
      "GaussianProcessClassifier()\n",
      "GradientBoostingClassifier()\n",
      "HistGradientBoostingClassifier()\n",
      "KNeighborsClassifier()\n",
      "LabelPropagation()\n",
      "LabelSpreading()\n",
      "LinearDiscriminantAnalysis()\n",
      "LinearSVC()\n",
      "LogisticRegression()\n"
     ]
    },
    {
     "name": "stderr",
     "output_type": "stream",
     "text": [
      "C:\\ProgramData\\anaconda3\\Lib\\site-packages\\sklearn\\svm\\_classes.py:32: FutureWarning: The default value of `dual` will change from `True` to `'auto'` in 1.5. Set the value of `dual` explicitly to suppress the warning.\n",
      "  warnings.warn(\n"
     ]
    },
    {
     "name": "stdout",
     "output_type": "stream",
     "text": [
      "LogisticRegressionCV()\n",
      "MLPClassifier()\n",
      "MultiOutputClassifier.__init__() missing 1 required positional argument: 'estimator'\n",
      "Negative values in data passed to MultinomialNB (input X)\n",
      "NearestCentroid()\n",
      "NuSVC()\n",
      "OneVsOneClassifier.__init__() missing 1 required positional argument: 'estimator'\n",
      "OneVsRestClassifier.__init__() missing 1 required positional argument: 'estimator'\n",
      "OutputCodeClassifier.__init__() missing 1 required positional argument: 'estimator'\n",
      "PassiveAggressiveClassifier()\n",
      "Perceptron()\n",
      "QuadraticDiscriminantAnalysis()\n",
      "RadiusNeighborsClassifier()\n",
      "RandomForestClassifier()\n",
      "RidgeClassifier()\n",
      "RidgeClassifierCV()\n",
      "SGDClassifier()\n",
      "SVC()\n",
      "StackingClassifier.__init__() missing 1 required positional argument: 'estimators'\n",
      "VotingClassifier.__init__() missing 1 required positional argument: 'estimators'\n"
     ]
    },
    {
     "name": "stderr",
     "output_type": "stream",
     "text": [
      "C:\\ProgramData\\anaconda3\\Lib\\site-packages\\sklearn\\neural_network\\_multilayer_perceptron.py:691: ConvergenceWarning: Stochastic Optimizer: Maximum iterations (200) reached and the optimization hasn't converged yet.\n",
      "  warnings.warn(\n"
     ]
    }
   ],
   "source": [
    "models = all_estimators('classifier')\n",
    "\n",
    "for model_name, model in models:\n",
    "    try:\n",
    "        print(model().fit(scaled_iris_X_train, iris_y_train))\n",
    "    except Exception as e:\n",
    "        print(e)"
   ],
   "metadata": {
    "collapsed": false,
    "ExecuteTime": {
     "end_time": "2024-03-05T09:03:04.018764Z",
     "start_time": "2024-03-05T09:03:03.146461Z"
    }
   },
   "id": "b761e7f453993ede",
   "execution_count": 135
  },
  {
   "cell_type": "code",
   "outputs": [],
   "source": [],
   "metadata": {
    "collapsed": false,
    "ExecuteTime": {
     "end_time": "2024-03-05T09:03:04.022510Z",
     "start_time": "2024-03-05T09:03:04.019812Z"
    }
   },
   "id": "6a40aa0c36a7c674",
   "execution_count": 135
  }
 ],
 "metadata": {
  "kernelspec": {
   "display_name": "Python 3",
   "language": "python",
   "name": "python3"
  },
  "language_info": {
   "codemirror_mode": {
    "name": "ipython",
    "version": 2
   },
   "file_extension": ".py",
   "mimetype": "text/x-python",
   "name": "python",
   "nbconvert_exporter": "python",
   "pygments_lexer": "ipython2",
   "version": "2.7.6"
  }
 },
 "nbformat": 4,
 "nbformat_minor": 5
}
