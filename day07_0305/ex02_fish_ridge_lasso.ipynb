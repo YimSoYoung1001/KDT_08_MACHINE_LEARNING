{
 "cells": [
  {
   "cell_type": "markdown",
   "source": [
    "### 목표 : 많은 특성의 데이터셋에서 과대적합 해결\n",
    "- 데이터 : perch3.csv\n",
    "- 피처 : 'Length', 'Height', 'Width'\n",
    "- 타겟 : 'Weight\n",
    "- [조건]\n",
    "    * 특성 추가 => degree = 5로 설정\n",
    "    * 특성을 기반으로 무게 예측 => 지도학습 + 회귀"
   ],
   "metadata": {
    "collapsed": false
   },
   "id": "fb0a226b9403e801"
  },
  {
   "cell_type": "code",
   "outputs": [],
   "source": [
    "import pandas as pd\n",
    "import matplotlib.pyplot as plt\n",
    "import numpy as np\n",
    "import seaborn as sns"
   ],
   "metadata": {
    "collapsed": false,
    "ExecuteTime": {
     "end_time": "2024-03-05T11:35:47.285584Z",
     "start_time": "2024-03-05T11:35:47.280612Z"
    }
   },
   "id": "92079b1119693328",
   "execution_count": 328
  },
  {
   "cell_type": "code",
   "outputs": [
    {
     "data": {
      "text/plain": "    Weight  Length   Height   Width\n0      5.9     8.4   2.1120  1.4080\n1     32.0    13.7   3.5280  1.9992\n2     40.0    15.0   3.8240  2.4320\n3     51.5    16.2   4.5924  2.6316\n4     70.0    17.4   4.5880  2.9415\n5    100.0    18.0   5.2224  3.3216\n6     78.0    18.7   5.1992  3.1234\n7     80.0    19.0   5.6358  3.0502\n8     85.0    19.6   5.1376  3.0368\n9     85.0    20.0   5.0820  2.7720\n10   110.0    21.0   5.6925  3.5550\n11   115.0    21.0   5.9175  3.3075\n12   125.0    21.0   5.6925  3.6675\n13   130.0    21.3   6.3840  3.5340\n14   120.0    22.0   6.1100  3.4075\n15   120.0    22.0   5.6400  3.5250\n16   130.0    22.0   6.1100  3.5250\n17   135.0    22.0   5.8750  3.5250\n18   110.0    22.0   5.5225  3.9950\n19   130.0    22.5   5.8560  3.6240\n20   150.0    22.5   6.7920  3.6240\n21   145.0    22.7   5.9532  3.6300\n22   150.0    23.0   5.2185  3.6260\n23   170.0    23.5   6.2750  3.7250\n24   225.0    24.0   7.2930  3.7230\n25   145.0    24.0   6.3750  3.8250\n26   188.0    24.6   6.7334  4.1658\n27   180.0    25.0   6.4395  3.6835\n28   197.0    25.6   6.5610  4.2390\n29   218.0    26.5   7.1680  4.1440\n30   300.0    27.3   8.3230  5.1373\n31   260.0    27.5   7.1672  4.3350\n32   265.0    27.5   7.0516  4.3350\n33   250.0    27.5   7.2828  4.5662\n34   250.0    28.0   7.8204  4.2042\n35   300.0    28.7   7.5852  4.6354\n36   320.0    30.0   7.6156  4.7716\n37   514.0    32.8  10.0300  6.0180\n38   556.0    34.5  10.2565  6.3875\n39   840.0    35.0  11.4884  7.7957\n40   685.0    36.5  10.8810  6.8640\n41   700.0    36.0  10.6091  6.7408\n42   700.0    37.0  10.8350  6.2646\n43   690.0    37.0  10.5717  6.3666\n44   900.0    39.0  11.1366  7.4934\n45   650.0    39.0  11.1366  6.0030\n46   820.0    39.0  12.4313  7.3514\n47   850.0    40.0  11.9286  7.1064\n48   900.0    40.0  11.7300  7.2250\n49  1015.0    40.0  12.3808  7.4624\n50   820.0    40.0  11.1350  6.6300\n51  1100.0    42.0  12.8002  6.8684\n52  1000.0    43.0  11.9328  7.2772\n53  1100.0    43.0  12.5125  7.4165\n54  1000.0    43.5  12.6040  8.1420\n55  1000.0    44.0  12.4888  7.5958",
      "text/html": "<div>\n<style scoped>\n    .dataframe tbody tr th:only-of-type {\n        vertical-align: middle;\n    }\n\n    .dataframe tbody tr th {\n        vertical-align: top;\n    }\n\n    .dataframe thead th {\n        text-align: right;\n    }\n</style>\n<table border=\"1\" class=\"dataframe\">\n  <thead>\n    <tr style=\"text-align: right;\">\n      <th></th>\n      <th>Weight</th>\n      <th>Length</th>\n      <th>Height</th>\n      <th>Width</th>\n    </tr>\n  </thead>\n  <tbody>\n    <tr>\n      <th>0</th>\n      <td>5.9</td>\n      <td>8.4</td>\n      <td>2.1120</td>\n      <td>1.4080</td>\n    </tr>\n    <tr>\n      <th>1</th>\n      <td>32.0</td>\n      <td>13.7</td>\n      <td>3.5280</td>\n      <td>1.9992</td>\n    </tr>\n    <tr>\n      <th>2</th>\n      <td>40.0</td>\n      <td>15.0</td>\n      <td>3.8240</td>\n      <td>2.4320</td>\n    </tr>\n    <tr>\n      <th>3</th>\n      <td>51.5</td>\n      <td>16.2</td>\n      <td>4.5924</td>\n      <td>2.6316</td>\n    </tr>\n    <tr>\n      <th>4</th>\n      <td>70.0</td>\n      <td>17.4</td>\n      <td>4.5880</td>\n      <td>2.9415</td>\n    </tr>\n    <tr>\n      <th>5</th>\n      <td>100.0</td>\n      <td>18.0</td>\n      <td>5.2224</td>\n      <td>3.3216</td>\n    </tr>\n    <tr>\n      <th>6</th>\n      <td>78.0</td>\n      <td>18.7</td>\n      <td>5.1992</td>\n      <td>3.1234</td>\n    </tr>\n    <tr>\n      <th>7</th>\n      <td>80.0</td>\n      <td>19.0</td>\n      <td>5.6358</td>\n      <td>3.0502</td>\n    </tr>\n    <tr>\n      <th>8</th>\n      <td>85.0</td>\n      <td>19.6</td>\n      <td>5.1376</td>\n      <td>3.0368</td>\n    </tr>\n    <tr>\n      <th>9</th>\n      <td>85.0</td>\n      <td>20.0</td>\n      <td>5.0820</td>\n      <td>2.7720</td>\n    </tr>\n    <tr>\n      <th>10</th>\n      <td>110.0</td>\n      <td>21.0</td>\n      <td>5.6925</td>\n      <td>3.5550</td>\n    </tr>\n    <tr>\n      <th>11</th>\n      <td>115.0</td>\n      <td>21.0</td>\n      <td>5.9175</td>\n      <td>3.3075</td>\n    </tr>\n    <tr>\n      <th>12</th>\n      <td>125.0</td>\n      <td>21.0</td>\n      <td>5.6925</td>\n      <td>3.6675</td>\n    </tr>\n    <tr>\n      <th>13</th>\n      <td>130.0</td>\n      <td>21.3</td>\n      <td>6.3840</td>\n      <td>3.5340</td>\n    </tr>\n    <tr>\n      <th>14</th>\n      <td>120.0</td>\n      <td>22.0</td>\n      <td>6.1100</td>\n      <td>3.4075</td>\n    </tr>\n    <tr>\n      <th>15</th>\n      <td>120.0</td>\n      <td>22.0</td>\n      <td>5.6400</td>\n      <td>3.5250</td>\n    </tr>\n    <tr>\n      <th>16</th>\n      <td>130.0</td>\n      <td>22.0</td>\n      <td>6.1100</td>\n      <td>3.5250</td>\n    </tr>\n    <tr>\n      <th>17</th>\n      <td>135.0</td>\n      <td>22.0</td>\n      <td>5.8750</td>\n      <td>3.5250</td>\n    </tr>\n    <tr>\n      <th>18</th>\n      <td>110.0</td>\n      <td>22.0</td>\n      <td>5.5225</td>\n      <td>3.9950</td>\n    </tr>\n    <tr>\n      <th>19</th>\n      <td>130.0</td>\n      <td>22.5</td>\n      <td>5.8560</td>\n      <td>3.6240</td>\n    </tr>\n    <tr>\n      <th>20</th>\n      <td>150.0</td>\n      <td>22.5</td>\n      <td>6.7920</td>\n      <td>3.6240</td>\n    </tr>\n    <tr>\n      <th>21</th>\n      <td>145.0</td>\n      <td>22.7</td>\n      <td>5.9532</td>\n      <td>3.6300</td>\n    </tr>\n    <tr>\n      <th>22</th>\n      <td>150.0</td>\n      <td>23.0</td>\n      <td>5.2185</td>\n      <td>3.6260</td>\n    </tr>\n    <tr>\n      <th>23</th>\n      <td>170.0</td>\n      <td>23.5</td>\n      <td>6.2750</td>\n      <td>3.7250</td>\n    </tr>\n    <tr>\n      <th>24</th>\n      <td>225.0</td>\n      <td>24.0</td>\n      <td>7.2930</td>\n      <td>3.7230</td>\n    </tr>\n    <tr>\n      <th>25</th>\n      <td>145.0</td>\n      <td>24.0</td>\n      <td>6.3750</td>\n      <td>3.8250</td>\n    </tr>\n    <tr>\n      <th>26</th>\n      <td>188.0</td>\n      <td>24.6</td>\n      <td>6.7334</td>\n      <td>4.1658</td>\n    </tr>\n    <tr>\n      <th>27</th>\n      <td>180.0</td>\n      <td>25.0</td>\n      <td>6.4395</td>\n      <td>3.6835</td>\n    </tr>\n    <tr>\n      <th>28</th>\n      <td>197.0</td>\n      <td>25.6</td>\n      <td>6.5610</td>\n      <td>4.2390</td>\n    </tr>\n    <tr>\n      <th>29</th>\n      <td>218.0</td>\n      <td>26.5</td>\n      <td>7.1680</td>\n      <td>4.1440</td>\n    </tr>\n    <tr>\n      <th>30</th>\n      <td>300.0</td>\n      <td>27.3</td>\n      <td>8.3230</td>\n      <td>5.1373</td>\n    </tr>\n    <tr>\n      <th>31</th>\n      <td>260.0</td>\n      <td>27.5</td>\n      <td>7.1672</td>\n      <td>4.3350</td>\n    </tr>\n    <tr>\n      <th>32</th>\n      <td>265.0</td>\n      <td>27.5</td>\n      <td>7.0516</td>\n      <td>4.3350</td>\n    </tr>\n    <tr>\n      <th>33</th>\n      <td>250.0</td>\n      <td>27.5</td>\n      <td>7.2828</td>\n      <td>4.5662</td>\n    </tr>\n    <tr>\n      <th>34</th>\n      <td>250.0</td>\n      <td>28.0</td>\n      <td>7.8204</td>\n      <td>4.2042</td>\n    </tr>\n    <tr>\n      <th>35</th>\n      <td>300.0</td>\n      <td>28.7</td>\n      <td>7.5852</td>\n      <td>4.6354</td>\n    </tr>\n    <tr>\n      <th>36</th>\n      <td>320.0</td>\n      <td>30.0</td>\n      <td>7.6156</td>\n      <td>4.7716</td>\n    </tr>\n    <tr>\n      <th>37</th>\n      <td>514.0</td>\n      <td>32.8</td>\n      <td>10.0300</td>\n      <td>6.0180</td>\n    </tr>\n    <tr>\n      <th>38</th>\n      <td>556.0</td>\n      <td>34.5</td>\n      <td>10.2565</td>\n      <td>6.3875</td>\n    </tr>\n    <tr>\n      <th>39</th>\n      <td>840.0</td>\n      <td>35.0</td>\n      <td>11.4884</td>\n      <td>7.7957</td>\n    </tr>\n    <tr>\n      <th>40</th>\n      <td>685.0</td>\n      <td>36.5</td>\n      <td>10.8810</td>\n      <td>6.8640</td>\n    </tr>\n    <tr>\n      <th>41</th>\n      <td>700.0</td>\n      <td>36.0</td>\n      <td>10.6091</td>\n      <td>6.7408</td>\n    </tr>\n    <tr>\n      <th>42</th>\n      <td>700.0</td>\n      <td>37.0</td>\n      <td>10.8350</td>\n      <td>6.2646</td>\n    </tr>\n    <tr>\n      <th>43</th>\n      <td>690.0</td>\n      <td>37.0</td>\n      <td>10.5717</td>\n      <td>6.3666</td>\n    </tr>\n    <tr>\n      <th>44</th>\n      <td>900.0</td>\n      <td>39.0</td>\n      <td>11.1366</td>\n      <td>7.4934</td>\n    </tr>\n    <tr>\n      <th>45</th>\n      <td>650.0</td>\n      <td>39.0</td>\n      <td>11.1366</td>\n      <td>6.0030</td>\n    </tr>\n    <tr>\n      <th>46</th>\n      <td>820.0</td>\n      <td>39.0</td>\n      <td>12.4313</td>\n      <td>7.3514</td>\n    </tr>\n    <tr>\n      <th>47</th>\n      <td>850.0</td>\n      <td>40.0</td>\n      <td>11.9286</td>\n      <td>7.1064</td>\n    </tr>\n    <tr>\n      <th>48</th>\n      <td>900.0</td>\n      <td>40.0</td>\n      <td>11.7300</td>\n      <td>7.2250</td>\n    </tr>\n    <tr>\n      <th>49</th>\n      <td>1015.0</td>\n      <td>40.0</td>\n      <td>12.3808</td>\n      <td>7.4624</td>\n    </tr>\n    <tr>\n      <th>50</th>\n      <td>820.0</td>\n      <td>40.0</td>\n      <td>11.1350</td>\n      <td>6.6300</td>\n    </tr>\n    <tr>\n      <th>51</th>\n      <td>1100.0</td>\n      <td>42.0</td>\n      <td>12.8002</td>\n      <td>6.8684</td>\n    </tr>\n    <tr>\n      <th>52</th>\n      <td>1000.0</td>\n      <td>43.0</td>\n      <td>11.9328</td>\n      <td>7.2772</td>\n    </tr>\n    <tr>\n      <th>53</th>\n      <td>1100.0</td>\n      <td>43.0</td>\n      <td>12.5125</td>\n      <td>7.4165</td>\n    </tr>\n    <tr>\n      <th>54</th>\n      <td>1000.0</td>\n      <td>43.5</td>\n      <td>12.6040</td>\n      <td>8.1420</td>\n    </tr>\n    <tr>\n      <th>55</th>\n      <td>1000.0</td>\n      <td>44.0</td>\n      <td>12.4888</td>\n      <td>7.5958</td>\n    </tr>\n  </tbody>\n</table>\n</div>"
     },
     "execution_count": 329,
     "metadata": {},
     "output_type": "execute_result"
    }
   ],
   "source": [
    "file = '../data/perch3.csv'\n",
    "data = pd.read_csv(file)\n",
    "data"
   ],
   "metadata": {
    "collapsed": false,
    "ExecuteTime": {
     "end_time": "2024-03-05T11:35:47.408777Z",
     "start_time": "2024-03-05T11:35:47.380151Z"
    }
   },
   "id": "64149fb4aaa95e98",
   "execution_count": 329
  },
  {
   "cell_type": "code",
   "outputs": [
    {
     "name": "stdout",
     "output_type": "stream",
     "text": [
      "featureDF => (56, 3)       targetDF => (56,)\n"
     ]
    }
   ],
   "source": [
    "featureDF = data[['Length', 'Height', 'Width']]\n",
    "targetDF = data['Weight']\n",
    "\n",
    "print(f\"featureDF => {featureDF.shape}       targetDF => {targetDF.shape}\")"
   ],
   "metadata": {
    "collapsed": false,
    "ExecuteTime": {
     "end_time": "2024-03-05T11:35:47.417748Z",
     "start_time": "2024-03-05T11:35:47.410789Z"
    }
   },
   "id": "55891d39bc59c631",
   "execution_count": 330
  },
  {
   "cell_type": "markdown",
   "source": [
    "[2-2] 데이터 분포 확인"
   ],
   "metadata": {
    "collapsed": false
   },
   "id": "6ef7bc979f3200fe"
  },
  {
   "cell_type": "code",
   "outputs": [
    {
     "data": {
      "text/plain": "<Figure size 640x480 with 3 Axes>",
      "image/png": "[encoded data removed]"
     },
     "metadata": {},
     "output_type": "display_data"
    }
   ],
   "source": [
    "for nIdx in range(1,4):\n",
    "    \n",
    "    plt.subplot(1,3,nIdx)\n",
    "    plt.plot(targetDF, featureDF[featureDF.columns[nIdx - 1]], 'o', label = featureDF.columns[nIdx - 1])\n",
    "    plt.xlabel('Weight')\n",
    "    plt.ylabel(featureDF.columns[nIdx - 1])\n",
    "    plt.legend()\n",
    "plt.show()\n",
    "\n",
    "# 직선의 형태는 아니지만 곡선의 양의 방향/비례하는 분포 확인 (선형의 관계)"
   ],
   "metadata": {
    "collapsed": false,
    "ExecuteTime": {
     "end_time": "2024-03-05T11:35:47.858542Z",
     "start_time": "2024-03-05T11:35:47.418750Z"
    }
   },
   "id": "c91f885c913467c4",
   "execution_count": 331
  },
  {
   "cell_type": "markdown",
   "source": [
    "[3] 데이터 가공 <hr>\n",
    "- 특성 추가\n",
    "- 특성 스케일링"
   ],
   "metadata": {
    "collapsed": false
   },
   "id": "7e014898fa8d145e"
  },
  {
   "cell_type": "markdown",
   "source": [
    "[3-1] 특성 추가"
   ],
   "metadata": {
    "collapsed": false
   },
   "id": "fd980f00557a3914"
  },
  {
   "cell_type": "code",
   "outputs": [],
   "source": [
    "from sklearn.preprocessing import PolynomialFeatures\n",
    "\n",
    "scaler = PolynomialFeatures(degree = 5, include_bias = False)"
   ],
   "metadata": {
    "collapsed": false,
    "ExecuteTime": {
     "end_time": "2024-03-05T11:35:47.865226Z",
     "start_time": "2024-03-05T11:35:47.860882Z"
    }
   },
   "id": "945a5f34ee3e03a3",
   "execution_count": 332
  },
  {
   "cell_type": "code",
   "outputs": [],
   "source": [
    "poly_featureDF = scaler.fit_transform(featureDF)"
   ],
   "metadata": {
    "collapsed": false,
    "ExecuteTime": {
     "end_time": "2024-03-05T11:35:47.882417Z",
     "start_time": "2024-03-05T11:35:47.866046Z"
    }
   },
   "id": "6889b764e0e64eb2",
   "execution_count": 333
  },
  {
   "cell_type": "code",
   "outputs": [],
   "source": [
    "#poly_featureDF = pd.DataFrame(poly_featureDF, columns = scaler.get_feature_names_out())\n",
    "#poly_featureDF"
   ],
   "metadata": {
    "collapsed": false,
    "ExecuteTime": {
     "end_time": "2024-03-05T11:35:47.887132Z",
     "start_time": "2024-03-05T11:35:47.883514Z"
    }
   },
   "id": "fd4eb8901bde669b",
   "execution_count": 334
  },
  {
   "cell_type": "code",
   "outputs": [
    {
     "data": {
      "text/plain": "(56, 55)"
     },
     "execution_count": 335,
     "metadata": {},
     "output_type": "execute_result"
    }
   ],
   "source": [
    "poly_featureDF.shape"
   ],
   "metadata": {
    "collapsed": false,
    "ExecuteTime": {
     "end_time": "2024-03-05T11:35:47.893951Z",
     "start_time": "2024-03-05T11:35:47.888135Z"
    }
   },
   "id": "b54ec276749ed726",
   "execution_count": 335
  },
  {
   "cell_type": "markdown",
   "source": [
    "[3-2] 피처 스케일링"
   ],
   "metadata": {
    "collapsed": false
   },
   "id": "e1cdef4322100933"
  },
  {
   "cell_type": "markdown",
   "source": [
    "- 훈련용 & 테스트용 분리"
   ],
   "metadata": {
    "collapsed": false
   },
   "id": "cf210ca0a50219b7"
  },
  {
   "cell_type": "code",
   "outputs": [],
   "source": [
    "from sklearn.model_selection import train_test_split\n",
    "\n",
    "X_train, X_test, y_train, y_test = train_test_split(poly_featureDF, targetDF, random_state = 5)\n",
    "\n",
    "# 얘는 분류가 아니라서 stratify 파라미터는 설정할 필요 없다."
   ],
   "metadata": {
    "collapsed": false,
    "ExecuteTime": {
     "end_time": "2024-03-05T11:35:47.904857Z",
     "start_time": "2024-03-05T11:35:47.894955Z"
    }
   },
   "id": "a488c573a8d8a7fc",
   "execution_count": 336
  },
  {
   "cell_type": "code",
   "outputs": [
    {
     "name": "stdout",
     "output_type": "stream",
     "text": [
      "TRAIN => (42, 55), (42,)      TEST => (14, 55), (14,)\n"
     ]
    }
   ],
   "source": [
    "print(f\"TRAIN => {X_train.shape}, {y_train.shape}      TEST => {X_test.shape}, {y_test.shape}\")"
   ],
   "metadata": {
    "collapsed": false,
    "ExecuteTime": {
     "end_time": "2024-03-05T11:35:47.910376Z",
     "start_time": "2024-03-05T11:35:47.905860Z"
    }
   },
   "id": "86c0d208dc30c1fa",
   "execution_count": 337
  },
  {
   "cell_type": "markdown",
   "source": [
    "- 스케일링 진행"
   ],
   "metadata": {
    "collapsed": false
   },
   "id": "6c0e880cbf7be0ff"
  },
  {
   "cell_type": "code",
   "outputs": [
    {
     "data": {
      "text/plain": "StandardScaler()",
      "text/html": "<style>#sk-container-id-37 {color: black;}#sk-container-id-37 pre{padding: 0;}#sk-container-id-37 div.sk-toggleable {background-color: white;}#sk-container-id-37 label.sk-toggleable__label {cursor: pointer;display: block;width: 100%;margin-bottom: 0;padding: 0.3em;box-sizing: border-box;text-align: center;}#sk-container-id-37 label.sk-toggleable__label-arrow:before {content: \"▸\";float: left;margin-right: 0.25em;color: #696969;}#sk-container-id-37 label.sk-toggleable__label-arrow:hover:before {color: black;}#sk-container-id-37 div.sk-estimator:hover label.sk-toggleable__label-arrow:before {color: black;}#sk-container-id-37 div.sk-toggleable__content {max-height: 0;max-width: 0;overflow: hidden;text-align: left;background-color: #f0f8ff;}#sk-container-id-37 div.sk-toggleable__content pre {margin: 0.2em;color: black;border-radius: 0.25em;background-color: #f0f8ff;}#sk-container-id-37 input.sk-toggleable__control:checked~div.sk-toggleable__content {max-height: 200px;max-width: 100%;overflow: auto;}#sk-container-id-37 input.sk-toggleable__control:checked~label.sk-toggleable__label-arrow:before {content: \"▾\";}#sk-container-id-37 div.sk-estimator input.sk-toggleable__control:checked~label.sk-toggleable__label {background-color: #d4ebff;}#sk-container-id-37 div.sk-label input.sk-toggleable__control:checked~label.sk-toggleable__label {background-color: #d4ebff;}#sk-container-id-37 input.sk-hidden--visually {border: 0;clip: rect(1px 1px 1px 1px);clip: rect(1px, 1px, 1px, 1px);height: 1px;margin: -1px;overflow: hidden;padding: 0;position: absolute;width: 1px;}#sk-container-id-37 div.sk-estimator {font-family: monospace;background-color: #f0f8ff;border: 1px dotted black;border-radius: 0.25em;box-sizing: border-box;margin-bottom: 0.5em;}#sk-container-id-37 div.sk-estimator:hover {background-color: #d4ebff;}#sk-container-id-37 div.sk-parallel-item::after {content: \"\";width: 100%;border-bottom: 1px solid gray;flex-grow: 1;}#sk-container-id-37 div.sk-label:hover label.sk-toggleable__label {background-color: #d4ebff;}#sk-container-id-37 div.sk-serial::before {content: \"\";position: absolute;border-left: 1px solid gray;box-sizing: border-box;top: 0;bottom: 0;left: 50%;z-index: 0;}#sk-container-id-37 div.sk-serial {display: flex;flex-direction: column;align-items: center;background-color: white;padding-right: 0.2em;padding-left: 0.2em;position: relative;}#sk-container-id-37 div.sk-item {position: relative;z-index: 1;}#sk-container-id-37 div.sk-parallel {display: flex;align-items: stretch;justify-content: center;background-color: white;position: relative;}#sk-container-id-37 div.sk-item::before, #sk-container-id-37 div.sk-parallel-item::before {content: \"\";position: absolute;border-left: 1px solid gray;box-sizing: border-box;top: 0;bottom: 0;left: 50%;z-index: -1;}#sk-container-id-37 div.sk-parallel-item {display: flex;flex-direction: column;z-index: 1;position: relative;background-color: white;}#sk-container-id-37 div.sk-parallel-item:first-child::after {align-self: flex-end;width: 50%;}#sk-container-id-37 div.sk-parallel-item:last-child::after {align-self: flex-start;width: 50%;}#sk-container-id-37 div.sk-parallel-item:only-child::after {width: 0;}#sk-container-id-37 div.sk-dashed-wrapped {border: 1px dashed gray;margin: 0 0.4em 0.5em 0.4em;box-sizing: border-box;padding-bottom: 0.4em;background-color: white;}#sk-container-id-37 div.sk-label label {font-family: monospace;font-weight: bold;display: inline-block;line-height: 1.2em;}#sk-container-id-37 div.sk-label-container {text-align: center;}#sk-container-id-37 div.sk-container {/* jupyter's `normalize.less` sets `[hidden] { display: none; }` but bootstrap.min.css set `[hidden] { display: none !important; }` so we also need the `!important` here to be able to override the default hidden behavior on the sphinx rendered scikit-learn.org. See: https://github.com/scikit-learn/scikit-learn/issues/21755 */display: inline-block !important;position: relative;}#sk-container-id-37 div.sk-text-repr-fallback {display: none;}</style><div id=\"sk-container-id-37\" class=\"sk-top-container\"><div class=\"sk-text-repr-fallback\"><pre>StandardScaler()</pre><b>In a Jupyter environment, please rerun this cell to show the HTML representation or trust the notebook. <br />On GitHub, the HTML representation is unable to render, please try loading this page with nbviewer.org.</b></div><div class=\"sk-container\" hidden><div class=\"sk-item\"><div class=\"sk-estimator sk-toggleable\"><input class=\"sk-toggleable__control sk-hidden--visually\" id=\"sk-estimator-id-37\" type=\"checkbox\" checked><label for=\"sk-estimator-id-37\" class=\"sk-toggleable__label sk-toggleable__label-arrow\">StandardScaler</label><div class=\"sk-toggleable__content\"><pre>StandardScaler()</pre></div></div></div></div></div>"
     },
     "execution_count": 338,
     "metadata": {},
     "output_type": "execute_result"
    }
   ],
   "source": [
    "from sklearn.preprocessing import StandardScaler\n",
    "\n",
    "std_scaler = StandardScaler()\n",
    "std_scaler.fit(X_train)"
   ],
   "metadata": {
    "collapsed": false,
    "ExecuteTime": {
     "end_time": "2024-03-05T11:35:47.941780Z",
     "start_time": "2024-03-05T11:35:47.919320Z"
    }
   },
   "id": "8e3aa625a33245b9",
   "execution_count": 338
  },
  {
   "cell_type": "code",
   "outputs": [],
   "source": [
    "scaled_X_train = std_scaler.transform(X_train)\n",
    "scaled_X_test = std_scaler.transform(X_test)"
   ],
   "metadata": {
    "collapsed": false,
    "ExecuteTime": {
     "end_time": "2024-03-05T11:35:47.954482Z",
     "start_time": "2024-03-05T11:35:47.943855Z"
    }
   },
   "id": "f2a1405340a1ad26",
   "execution_count": 339
  },
  {
   "cell_type": "markdown",
   "source": [
    "[4] 학습 진행 => 회귀"
   ],
   "metadata": {
    "collapsed": false
   },
   "id": "35e6a5c1734beda5"
  },
  {
   "cell_type": "code",
   "outputs": [
    {
     "data": {
      "text/plain": "LinearRegression()",
      "text/html": "<style>#sk-container-id-38 {color: black;}#sk-container-id-38 pre{padding: 0;}#sk-container-id-38 div.sk-toggleable {background-color: white;}#sk-container-id-38 label.sk-toggleable__label {cursor: pointer;display: block;width: 100%;margin-bottom: 0;padding: 0.3em;box-sizing: border-box;text-align: center;}#sk-container-id-38 label.sk-toggleable__label-arrow:before {content: \"▸\";float: left;margin-right: 0.25em;color: #696969;}#sk-container-id-38 label.sk-toggleable__label-arrow:hover:before {color: black;}#sk-container-id-38 div.sk-estimator:hover label.sk-toggleable__label-arrow:before {color: black;}#sk-container-id-38 div.sk-toggleable__content {max-height: 0;max-width: 0;overflow: hidden;text-align: left;background-color: #f0f8ff;}#sk-container-id-38 div.sk-toggleable__content pre {margin: 0.2em;color: black;border-radius: 0.25em;background-color: #f0f8ff;}#sk-container-id-38 input.sk-toggleable__control:checked~div.sk-toggleable__content {max-height: 200px;max-width: 100%;overflow: auto;}#sk-container-id-38 input.sk-toggleable__control:checked~label.sk-toggleable__label-arrow:before {content: \"▾\";}#sk-container-id-38 div.sk-estimator input.sk-toggleable__control:checked~label.sk-toggleable__label {background-color: #d4ebff;}#sk-container-id-38 div.sk-label input.sk-toggleable__control:checked~label.sk-toggleable__label {background-color: #d4ebff;}#sk-container-id-38 input.sk-hidden--visually {border: 0;clip: rect(1px 1px 1px 1px);clip: rect(1px, 1px, 1px, 1px);height: 1px;margin: -1px;overflow: hidden;padding: 0;position: absolute;width: 1px;}#sk-container-id-38 div.sk-estimator {font-family: monospace;background-color: #f0f8ff;border: 1px dotted black;border-radius: 0.25em;box-sizing: border-box;margin-bottom: 0.5em;}#sk-container-id-38 div.sk-estimator:hover {background-color: #d4ebff;}#sk-container-id-38 div.sk-parallel-item::after {content: \"\";width: 100%;border-bottom: 1px solid gray;flex-grow: 1;}#sk-container-id-38 div.sk-label:hover label.sk-toggleable__label {background-color: #d4ebff;}#sk-container-id-38 div.sk-serial::before {content: \"\";position: absolute;border-left: 1px solid gray;box-sizing: border-box;top: 0;bottom: 0;left: 50%;z-index: 0;}#sk-container-id-38 div.sk-serial {display: flex;flex-direction: column;align-items: center;background-color: white;padding-right: 0.2em;padding-left: 0.2em;position: relative;}#sk-container-id-38 div.sk-item {position: relative;z-index: 1;}#sk-container-id-38 div.sk-parallel {display: flex;align-items: stretch;justify-content: center;background-color: white;position: relative;}#sk-container-id-38 div.sk-item::before, #sk-container-id-38 div.sk-parallel-item::before {content: \"\";position: absolute;border-left: 1px solid gray;box-sizing: border-box;top: 0;bottom: 0;left: 50%;z-index: -1;}#sk-container-id-38 div.sk-parallel-item {display: flex;flex-direction: column;z-index: 1;position: relative;background-color: white;}#sk-container-id-38 div.sk-parallel-item:first-child::after {align-self: flex-end;width: 50%;}#sk-container-id-38 div.sk-parallel-item:last-child::after {align-self: flex-start;width: 50%;}#sk-container-id-38 div.sk-parallel-item:only-child::after {width: 0;}#sk-container-id-38 div.sk-dashed-wrapped {border: 1px dashed gray;margin: 0 0.4em 0.5em 0.4em;box-sizing: border-box;padding-bottom: 0.4em;background-color: white;}#sk-container-id-38 div.sk-label label {font-family: monospace;font-weight: bold;display: inline-block;line-height: 1.2em;}#sk-container-id-38 div.sk-label-container {text-align: center;}#sk-container-id-38 div.sk-container {/* jupyter's `normalize.less` sets `[hidden] { display: none; }` but bootstrap.min.css set `[hidden] { display: none !important; }` so we also need the `!important` here to be able to override the default hidden behavior on the sphinx rendered scikit-learn.org. See: https://github.com/scikit-learn/scikit-learn/issues/21755 */display: inline-block !important;position: relative;}#sk-container-id-38 div.sk-text-repr-fallback {display: none;}</style><div id=\"sk-container-id-38\" class=\"sk-top-container\"><div class=\"sk-text-repr-fallback\"><pre>LinearRegression()</pre><b>In a Jupyter environment, please rerun this cell to show the HTML representation or trust the notebook. <br />On GitHub, the HTML representation is unable to render, please try loading this page with nbviewer.org.</b></div><div class=\"sk-container\" hidden><div class=\"sk-item\"><div class=\"sk-estimator sk-toggleable\"><input class=\"sk-toggleable__control sk-hidden--visually\" id=\"sk-estimator-id-38\" type=\"checkbox\" checked><label for=\"sk-estimator-id-38\" class=\"sk-toggleable__label sk-toggleable__label-arrow\">LinearRegression</label><div class=\"sk-toggleable__content\"><pre>LinearRegression()</pre></div></div></div></div></div>"
     },
     "execution_count": 340,
     "metadata": {},
     "output_type": "execute_result"
    }
   ],
   "source": [
    "from sklearn.linear_model import LinearRegression\n",
    "\n",
    "lr_model = LinearRegression()\n",
    "lr_model.fit(scaled_X_train, y_train)"
   ],
   "metadata": {
    "collapsed": false,
    "ExecuteTime": {
     "end_time": "2024-03-05T11:35:47.974910Z",
     "start_time": "2024-03-05T11:35:47.957803Z"
    }
   },
   "id": "213b3c1f8257ad1d",
   "execution_count": 340
  },
  {
   "cell_type": "code",
   "outputs": [
    {
     "name": "stdout",
     "output_type": "stream",
     "text": [
      "Train Score => 1.0             Test Score => -38.767868061603046\n"
     ]
    }
   ],
   "source": [
    "train_score = lr_model.score(scaled_X_train, y_train)\n",
    "test_score = lr_model.score(scaled_X_test, y_test)\n",
    "\n",
    "print(f\"Train Score => {train_score}             Test Score => {test_score}\")\n",
    "\n",
    "# 엄청난 과대 적합이 나타났다!"
   ],
   "metadata": {
    "collapsed": false,
    "ExecuteTime": {
     "end_time": "2024-03-05T11:35:47.987874Z",
     "start_time": "2024-03-05T11:35:47.975912Z"
    }
   },
   "id": "72747189a45e3a50",
   "execution_count": 341
  },
  {
   "cell_type": "code",
   "outputs": [],
   "source": [],
   "metadata": {
    "collapsed": false,
    "ExecuteTime": {
     "end_time": "2024-03-05T11:35:47.994037Z",
     "start_time": "2024-03-05T11:35:47.989878Z"
    }
   },
   "id": "7ac95ab08103f51a",
   "execution_count": 341
  },
  {
   "cell_type": "markdown",
   "source": [
    "### 규제 : 가중치 값을 조절해서 과대적합 문제 해결 <hr>\n",
    "- Ridge : 모든 피처에 가중치를 0에 가깝게 조절\n",
    "- Lasso : 특정 피처에 가중치를 0으로 해서 차원 축소 부여"
   ],
   "metadata": {
    "collapsed": false
   },
   "id": "4438d56e1cd08eb1"
  },
  {
   "cell_type": "markdown",
   "source": [
    "- [규제1] Ridge "
   ],
   "metadata": {
    "collapsed": false
   },
   "id": "33b02e1cd21120aa"
  },
  {
   "cell_type": "code",
   "outputs": [],
   "source": [
    "from sklearn.linear_model import Ridge"
   ],
   "metadata": {
    "collapsed": false,
    "ExecuteTime": {
     "end_time": "2024-03-05T11:35:48.002777Z",
     "start_time": "2024-03-05T11:35:47.996037Z"
    }
   },
   "id": "1b45ce2b70803576",
   "execution_count": 342
  },
  {
   "cell_type": "code",
   "outputs": [
    {
     "data": {
      "text/plain": "Ridge(max_iter=100)",
      "text/html": "<style>#sk-container-id-39 {color: black;}#sk-container-id-39 pre{padding: 0;}#sk-container-id-39 div.sk-toggleable {background-color: white;}#sk-container-id-39 label.sk-toggleable__label {cursor: pointer;display: block;width: 100%;margin-bottom: 0;padding: 0.3em;box-sizing: border-box;text-align: center;}#sk-container-id-39 label.sk-toggleable__label-arrow:before {content: \"▸\";float: left;margin-right: 0.25em;color: #696969;}#sk-container-id-39 label.sk-toggleable__label-arrow:hover:before {color: black;}#sk-container-id-39 div.sk-estimator:hover label.sk-toggleable__label-arrow:before {color: black;}#sk-container-id-39 div.sk-toggleable__content {max-height: 0;max-width: 0;overflow: hidden;text-align: left;background-color: #f0f8ff;}#sk-container-id-39 div.sk-toggleable__content pre {margin: 0.2em;color: black;border-radius: 0.25em;background-color: #f0f8ff;}#sk-container-id-39 input.sk-toggleable__control:checked~div.sk-toggleable__content {max-height: 200px;max-width: 100%;overflow: auto;}#sk-container-id-39 input.sk-toggleable__control:checked~label.sk-toggleable__label-arrow:before {content: \"▾\";}#sk-container-id-39 div.sk-estimator input.sk-toggleable__control:checked~label.sk-toggleable__label {background-color: #d4ebff;}#sk-container-id-39 div.sk-label input.sk-toggleable__control:checked~label.sk-toggleable__label {background-color: #d4ebff;}#sk-container-id-39 input.sk-hidden--visually {border: 0;clip: rect(1px 1px 1px 1px);clip: rect(1px, 1px, 1px, 1px);height: 1px;margin: -1px;overflow: hidden;padding: 0;position: absolute;width: 1px;}#sk-container-id-39 div.sk-estimator {font-family: monospace;background-color: #f0f8ff;border: 1px dotted black;border-radius: 0.25em;box-sizing: border-box;margin-bottom: 0.5em;}#sk-container-id-39 div.sk-estimator:hover {background-color: #d4ebff;}#sk-container-id-39 div.sk-parallel-item::after {content: \"\";width: 100%;border-bottom: 1px solid gray;flex-grow: 1;}#sk-container-id-39 div.sk-label:hover label.sk-toggleable__label {background-color: #d4ebff;}#sk-container-id-39 div.sk-serial::before {content: \"\";position: absolute;border-left: 1px solid gray;box-sizing: border-box;top: 0;bottom: 0;left: 50%;z-index: 0;}#sk-container-id-39 div.sk-serial {display: flex;flex-direction: column;align-items: center;background-color: white;padding-right: 0.2em;padding-left: 0.2em;position: relative;}#sk-container-id-39 div.sk-item {position: relative;z-index: 1;}#sk-container-id-39 div.sk-parallel {display: flex;align-items: stretch;justify-content: center;background-color: white;position: relative;}#sk-container-id-39 div.sk-item::before, #sk-container-id-39 div.sk-parallel-item::before {content: \"\";position: absolute;border-left: 1px solid gray;box-sizing: border-box;top: 0;bottom: 0;left: 50%;z-index: -1;}#sk-container-id-39 div.sk-parallel-item {display: flex;flex-direction: column;z-index: 1;position: relative;background-color: white;}#sk-container-id-39 div.sk-parallel-item:first-child::after {align-self: flex-end;width: 50%;}#sk-container-id-39 div.sk-parallel-item:last-child::after {align-self: flex-start;width: 50%;}#sk-container-id-39 div.sk-parallel-item:only-child::after {width: 0;}#sk-container-id-39 div.sk-dashed-wrapped {border: 1px dashed gray;margin: 0 0.4em 0.5em 0.4em;box-sizing: border-box;padding-bottom: 0.4em;background-color: white;}#sk-container-id-39 div.sk-label label {font-family: monospace;font-weight: bold;display: inline-block;line-height: 1.2em;}#sk-container-id-39 div.sk-label-container {text-align: center;}#sk-container-id-39 div.sk-container {/* jupyter's `normalize.less` sets `[hidden] { display: none; }` but bootstrap.min.css set `[hidden] { display: none !important; }` so we also need the `!important` here to be able to override the default hidden behavior on the sphinx rendered scikit-learn.org. See: https://github.com/scikit-learn/scikit-learn/issues/21755 */display: inline-block !important;position: relative;}#sk-container-id-39 div.sk-text-repr-fallback {display: none;}</style><div id=\"sk-container-id-39\" class=\"sk-top-container\"><div class=\"sk-text-repr-fallback\"><pre>Ridge(max_iter=100)</pre><b>In a Jupyter environment, please rerun this cell to show the HTML representation or trust the notebook. <br />On GitHub, the HTML representation is unable to render, please try loading this page with nbviewer.org.</b></div><div class=\"sk-container\" hidden><div class=\"sk-item\"><div class=\"sk-estimator sk-toggleable\"><input class=\"sk-toggleable__control sk-hidden--visually\" id=\"sk-estimator-id-39\" type=\"checkbox\" checked><label for=\"sk-estimator-id-39\" class=\"sk-toggleable__label sk-toggleable__label-arrow\">Ridge</label><div class=\"sk-toggleable__content\"><pre>Ridge(max_iter=100)</pre></div></div></div></div></div>"
     },
     "execution_count": 343,
     "metadata": {},
     "output_type": "execute_result"
    }
   ],
   "source": [
    "ridge_model = Ridge(max_iter=100)\n",
    "ridge_model.fit(scaled_X_train, y_train)"
   ],
   "metadata": {
    "collapsed": false,
    "ExecuteTime": {
     "end_time": "2024-03-05T11:35:48.017090Z",
     "start_time": "2024-03-05T11:35:48.004780Z"
    }
   },
   "id": "6f09e20fcd5ad285",
   "execution_count": 343
  },
  {
   "cell_type": "code",
   "outputs": [
    {
     "name": "stdout",
     "output_type": "stream",
     "text": [
      "Train Score => 0.9874355208005008             Test Score => 0.9914491207423642\n"
     ]
    }
   ],
   "source": [
    "train_score = ridge_model.score(scaled_X_train, y_train)\n",
    "test_score = ridge_model.score(scaled_X_test, y_test)\n",
    "\n",
    "print(f\"Train Score => {train_score}             Test Score => {test_score}\")\n",
    "\n",
    "# 적정적합으로 수정되었다!!!!"
   ],
   "metadata": {
    "collapsed": false,
    "ExecuteTime": {
     "end_time": "2024-03-05T11:35:48.024886Z",
     "start_time": "2024-03-05T11:35:48.018093Z"
    }
   },
   "id": "c8b6cfd8fd46e2e3",
   "execution_count": 344
  },
  {
   "cell_type": "code",
   "outputs": [
    {
     "name": "stdout",
     "output_type": "stream",
     "text": [
      "None\n",
      "\n",
      "[ 1.83176874e+00 -7.23677789e+00  1.03067055e+01  1.57775249e+01\n",
      "  1.18446480e+01  1.67466597e+01  9.57952490e+00  1.47797173e+01\n",
      "  2.48615142e+01  1.85163425e+01  1.67577526e+01  1.46142404e+01\n",
      "  1.58382863e+01  1.38108100e+01  1.64490445e+01  1.56379186e+01\n",
      "  1.39352928e+01  1.71480760e+01  2.50779150e+01  1.42694832e+01\n",
      "  1.39921892e+01  6.23690826e+00  1.41806030e+01  6.32646330e+00\n",
      "  2.93976268e+00  1.47629117e+01  7.00986521e+00  3.97399179e+00\n",
      "  5.70584401e+00  1.56796396e+01  8.23737024e+00  5.75159002e+00\n",
      "  8.24469917e+00  1.54675618e+01  5.86439125e+00  6.81074624e+00\n",
      " -5.88111799e+00  8.02129126e+00 -4.97701429e+00 -1.36851639e+01\n",
      "  9.44134707e+00 -3.67900627e+00 -1.22792895e+01 -1.61590708e+01\n",
      "  1.10232306e+01 -2.01766706e+00 -1.03096090e+01 -1.36546600e+01\n",
      " -1.21067571e+01  1.27255386e+01 -1.99919223e-02 -7.79070771e+00\n",
      " -1.04001988e+01 -7.93557014e+00 -7.20881695e-01]\n",
      "\n",
      "365.6404761904762\n"
     ]
    }
   ],
   "source": [
    "# 모델 파리미터\n",
    "print(ridge_model.n_iter_, ridge_model.coef_, ridge_model.intercept_, sep='\\n\\n')\n",
    "\n",
    "#coef는 피처 개수 만큼 생성된다"
   ],
   "metadata": {
    "collapsed": false,
    "ExecuteTime": {
     "end_time": "2024-03-05T11:35:48.032612Z",
     "start_time": "2024-03-05T11:35:48.025889Z"
    }
   },
   "id": "11dc3cc80e815fb2",
   "execution_count": 345
  },
  {
   "cell_type": "code",
   "outputs": [],
   "source": [
    "# ===> 최적의 규제 강도 설정 값 찾기\n",
    "alphas = [0.1, 1.0, 10, 20, 30]\n",
    "ridge_score = [[], []]\n",
    "\n",
    "for a in alphas:\n",
    "    ridge_model = Ridge(alpha=a)\n",
    "    ridge_model.fit(scaled_X_train, y_train)\n",
    "    train_score = ridge_model.score(scaled_X_train, y_train)\n",
    "    test_score = ridge_model.score(scaled_X_test, y_test)\n",
    "    \n",
    "    ridge_score[0].append(train_score)\n",
    "    ridge_score[1].append(test_score)"
   ],
   "metadata": {
    "collapsed": false,
    "ExecuteTime": {
     "end_time": "2024-03-05T11:35:48.049634Z",
     "start_time": "2024-03-05T11:35:48.033951Z"
    }
   },
   "id": "3e5d2b4077c850d3",
   "execution_count": 346
  },
  {
   "cell_type": "code",
   "outputs": [
    {
     "data": {
      "text/plain": "1.0"
     },
     "execution_count": 347,
     "metadata": {},
     "output_type": "execute_result"
    }
   ],
   "source": [
    "# 테스트 점수가 가장 높은 알파\n",
    "best_alpha_IDX = ridge_score[1].index(max(ridge_score[1]))\n",
    "best_alpha = alphas[best_alpha_IDX]\n",
    "best_alpha"
   ],
   "metadata": {
    "collapsed": false,
    "ExecuteTime": {
     "end_time": "2024-03-05T11:35:48.056490Z",
     "start_time": "2024-03-05T11:35:48.050638Z"
    }
   },
   "id": "bc3a49332e7e6671",
   "execution_count": 347
  },
  {
   "cell_type": "code",
   "outputs": [
    {
     "data": {
      "text/plain": "<Figure size 640x480 with 1 Axes>",
      "image/png": "[encoded data removed]"
     },
     "metadata": {},
     "output_type": "display_data"
    }
   ],
   "source": [
    "# 학습 및 테스트 점수 기반 시각화\n",
    "import matplotlib.pyplot as plt\n",
    "\n",
    "plt.plot(alphas, ridge_score[0], label='Train')\n",
    "plt.plot(alphas, ridge_score[1], label='Test')\n",
    "plt.axvline(best_alpha, linestyle = '--', color = 'red')\n",
    "plt.legend()\n",
    "plt.title('alpha & ridge')\n",
    "plt.show()"
   ],
   "metadata": {
    "collapsed": false,
    "ExecuteTime": {
     "end_time": "2024-03-05T11:35:48.306304Z",
     "start_time": "2024-03-05T11:35:48.057493Z"
    }
   },
   "id": "e9059456129a0021",
   "execution_count": 348
  },
  {
   "cell_type": "code",
   "outputs": [],
   "source": [
    "from sklearn.linear_model import Lasso"
   ],
   "metadata": {
    "collapsed": false,
    "ExecuteTime": {
     "end_time": "2024-03-05T11:35:48.310615Z",
     "start_time": "2024-03-05T11:35:48.307401Z"
    }
   },
   "id": "47120a64e91adf36",
   "execution_count": 349
  },
  {
   "cell_type": "code",
   "outputs": [
    {
     "name": "stderr",
     "output_type": "stream",
     "text": [
      "C:\\ProgramData\\anaconda3\\Lib\\site-packages\\sklearn\\linear_model\\_coordinate_descent.py:628: ConvergenceWarning: Objective did not converge. You might want to increase the number of iterations, check the scale of the features or consider increasing regularisation. Duality gap: 1.117e+03, tolerance: 4.884e+02\n",
      "  model = cd_fast.enet_coordinate_descent(\n"
     ]
    },
    {
     "data": {
      "text/plain": "Lasso()",
      "text/html": "<style>#sk-container-id-40 {color: black;}#sk-container-id-40 pre{padding: 0;}#sk-container-id-40 div.sk-toggleable {background-color: white;}#sk-container-id-40 label.sk-toggleable__label {cursor: pointer;display: block;width: 100%;margin-bottom: 0;padding: 0.3em;box-sizing: border-box;text-align: center;}#sk-container-id-40 label.sk-toggleable__label-arrow:before {content: \"▸\";float: left;margin-right: 0.25em;color: #696969;}#sk-container-id-40 label.sk-toggleable__label-arrow:hover:before {color: black;}#sk-container-id-40 div.sk-estimator:hover label.sk-toggleable__label-arrow:before {color: black;}#sk-container-id-40 div.sk-toggleable__content {max-height: 0;max-width: 0;overflow: hidden;text-align: left;background-color: #f0f8ff;}#sk-container-id-40 div.sk-toggleable__content pre {margin: 0.2em;color: black;border-radius: 0.25em;background-color: #f0f8ff;}#sk-container-id-40 input.sk-toggleable__control:checked~div.sk-toggleable__content {max-height: 200px;max-width: 100%;overflow: auto;}#sk-container-id-40 input.sk-toggleable__control:checked~label.sk-toggleable__label-arrow:before {content: \"▾\";}#sk-container-id-40 div.sk-estimator input.sk-toggleable__control:checked~label.sk-toggleable__label {background-color: #d4ebff;}#sk-container-id-40 div.sk-label input.sk-toggleable__control:checked~label.sk-toggleable__label {background-color: #d4ebff;}#sk-container-id-40 input.sk-hidden--visually {border: 0;clip: rect(1px 1px 1px 1px);clip: rect(1px, 1px, 1px, 1px);height: 1px;margin: -1px;overflow: hidden;padding: 0;position: absolute;width: 1px;}#sk-container-id-40 div.sk-estimator {font-family: monospace;background-color: #f0f8ff;border: 1px dotted black;border-radius: 0.25em;box-sizing: border-box;margin-bottom: 0.5em;}#sk-container-id-40 div.sk-estimator:hover {background-color: #d4ebff;}#sk-container-id-40 div.sk-parallel-item::after {content: \"\";width: 100%;border-bottom: 1px solid gray;flex-grow: 1;}#sk-container-id-40 div.sk-label:hover label.sk-toggleable__label {background-color: #d4ebff;}#sk-container-id-40 div.sk-serial::before {content: \"\";position: absolute;border-left: 1px solid gray;box-sizing: border-box;top: 0;bottom: 0;left: 50%;z-index: 0;}#sk-container-id-40 div.sk-serial {display: flex;flex-direction: column;align-items: center;background-color: white;padding-right: 0.2em;padding-left: 0.2em;position: relative;}#sk-container-id-40 div.sk-item {position: relative;z-index: 1;}#sk-container-id-40 div.sk-parallel {display: flex;align-items: stretch;justify-content: center;background-color: white;position: relative;}#sk-container-id-40 div.sk-item::before, #sk-container-id-40 div.sk-parallel-item::before {content: \"\";position: absolute;border-left: 1px solid gray;box-sizing: border-box;top: 0;bottom: 0;left: 50%;z-index: -1;}#sk-container-id-40 div.sk-parallel-item {display: flex;flex-direction: column;z-index: 1;position: relative;background-color: white;}#sk-container-id-40 div.sk-parallel-item:first-child::after {align-self: flex-end;width: 50%;}#sk-container-id-40 div.sk-parallel-item:last-child::after {align-self: flex-start;width: 50%;}#sk-container-id-40 div.sk-parallel-item:only-child::after {width: 0;}#sk-container-id-40 div.sk-dashed-wrapped {border: 1px dashed gray;margin: 0 0.4em 0.5em 0.4em;box-sizing: border-box;padding-bottom: 0.4em;background-color: white;}#sk-container-id-40 div.sk-label label {font-family: monospace;font-weight: bold;display: inline-block;line-height: 1.2em;}#sk-container-id-40 div.sk-label-container {text-align: center;}#sk-container-id-40 div.sk-container {/* jupyter's `normalize.less` sets `[hidden] { display: none; }` but bootstrap.min.css set `[hidden] { display: none !important; }` so we also need the `!important` here to be able to override the default hidden behavior on the sphinx rendered scikit-learn.org. See: https://github.com/scikit-learn/scikit-learn/issues/21755 */display: inline-block !important;position: relative;}#sk-container-id-40 div.sk-text-repr-fallback {display: none;}</style><div id=\"sk-container-id-40\" class=\"sk-top-container\"><div class=\"sk-text-repr-fallback\"><pre>Lasso()</pre><b>In a Jupyter environment, please rerun this cell to show the HTML representation or trust the notebook. <br />On GitHub, the HTML representation is unable to render, please try loading this page with nbviewer.org.</b></div><div class=\"sk-container\" hidden><div class=\"sk-item\"><div class=\"sk-estimator sk-toggleable\"><input class=\"sk-toggleable__control sk-hidden--visually\" id=\"sk-estimator-id-40\" type=\"checkbox\" checked><label for=\"sk-estimator-id-40\" class=\"sk-toggleable__label sk-toggleable__label-arrow\">Lasso</label><div class=\"sk-toggleable__content\"><pre>Lasso()</pre></div></div></div></div></div>"
     },
     "execution_count": 350,
     "metadata": {},
     "output_type": "execute_result"
    }
   ],
   "source": [
    "lasso_model = Lasso()\n",
    "lasso_model.fit(scaled_X_train, y_train)"
   ],
   "metadata": {
    "collapsed": false,
    "ExecuteTime": {
     "end_time": "2024-03-05T11:35:48.323176Z",
     "start_time": "2024-03-05T11:35:48.312619Z"
    }
   },
   "id": "7b3e24c42308b3e3",
   "execution_count": 350
  },
  {
   "cell_type": "code",
   "outputs": [
    {
     "name": "stdout",
     "output_type": "stream",
     "text": [
      "Train Score => 0.982383820995442             Test Score => 0.9860777054753922\n"
     ]
    }
   ],
   "source": [
    "train_score = ridge_model.score(scaled_X_train, y_train)\n",
    "test_score = ridge_model.score(scaled_X_test, y_test)\n",
    "\n",
    "print(f\"Train Score => {train_score}             Test Score => {test_score}\")"
   ],
   "metadata": {
    "collapsed": false,
    "ExecuteTime": {
     "end_time": "2024-03-05T11:35:48.329044Z",
     "start_time": "2024-03-05T11:35:48.324186Z"
    }
   },
   "id": "ec267203ba556ca2",
   "execution_count": 351
  },
  {
   "cell_type": "code",
   "outputs": [
    {
     "name": "stdout",
     "output_type": "stream",
     "text": [
      "1000 [ 0.          0.          0.          8.39678696  0.          0.\n",
      " 13.70952971  0.         87.23199451 91.06954235 16.61716411  0.\n",
      " 35.69479723  0.          0.         46.93195311  0.          0.\n",
      "  0.          0.          0.          0.          0.          0.\n",
      "  0.          0.          0.          0.          0.         41.8984421\n",
      "  0.          0.          0.          0.          0.          0.\n",
      "  0.          0.          0.         -0.          0.          0.\n",
      " -0.         -0.          0.          0.         -0.         -0.\n",
      " -0.          0.          0.          0.         -0.         -0.\n",
      " -0.        ] 365.6404761904762\n"
     ]
    }
   ],
   "source": [
    "# 모델 파라미터\n",
    "print( lasso_model.n_iter_, lasso_model.coef_, lasso_model.intercept_)\n",
    "\n",
    "# 릿지와의 차이점을 보자. 여기는 0이 되는 값들이 많다. 즉 영향을 1도 안미치는 피쳐들로 규제가 되거당"
   ],
   "metadata": {
    "collapsed": false,
    "ExecuteTime": {
     "end_time": "2024-03-05T11:35:48.334600Z",
     "start_time": "2024-03-05T11:35:48.330049Z"
    }
   },
   "id": "448d988386fa194c",
   "execution_count": 352
  },
  {
   "cell_type": "code",
   "outputs": [],
   "source": [
    "# ====> 최적의 규제 강도 설정 값 찾기\n",
    "alphas = [0.1, 1.0, 10., 20., 30.]\n",
    "lasso_score = [[], []]\n",
    "\n",
    "for a in alphas:\n",
    "    lasso_model = Lasso(alpha=a, max_iter=100000)\n",
    "    lasso_model.fit(scaled_X_train, y_train)\n",
    "    train_score = lasso_model.score(scaled_X_train, y_train)\n",
    "    test_score = lasso_model.score(scaled_X_test, y_test)\n",
    "    lasso_score[0].append(train_score)\n",
    "    lasso_score[1].append(test_score)"
   ],
   "metadata": {
    "collapsed": false,
    "ExecuteTime": {
     "end_time": "2024-03-05T11:35:48.422830Z",
     "start_time": "2024-03-05T11:35:48.335604Z"
    }
   },
   "id": "30bfe2b4ce47e22",
   "execution_count": 353
  },
  {
   "cell_type": "code",
   "outputs": [
    {
     "data": {
      "text/plain": "1.0"
     },
     "execution_count": 354,
     "metadata": {},
     "output_type": "execute_result"
    }
   ],
   "source": [
    "# 테스트 점수가 가장 높은 알파\n",
    "best_alpha = alphas[lasso_score[1].index(max(lasso_score[1]))]\n",
    "best_alpha"
   ],
   "metadata": {
    "collapsed": false,
    "ExecuteTime": {
     "end_time": "2024-03-05T11:35:48.427848Z",
     "start_time": "2024-03-05T11:35:48.423833Z"
    }
   },
   "id": "df2488429ac94bcc",
   "execution_count": 354
  },
  {
   "cell_type": "code",
   "outputs": [
    {
     "data": {
      "text/plain": "<Figure size 640x480 with 1 Axes>",
      "image/png": "[encoded data removed]"
     },
     "metadata": {},
     "output_type": "display_data"
    }
   ],
   "source": [
    "# 학습 및 테스트 점수 기반 시각화\n",
    "import matplotlib.pyplot as plt\n",
    "plt.plot(alphas, lasso_score[0], label='Train')\n",
    "plt.plot(alphas, lasso_score[1], label='Test')\n",
    "plt.title('alpha & Lasso')\n",
    "plt.axvline(best_alpha, linestyle='--', color='red')\n",
    "plt.xticks(alphas)\n",
    "plt.legend()\n",
    "plt.show()"
   ],
   "metadata": {
    "collapsed": false,
    "ExecuteTime": {
     "end_time": "2024-03-05T11:35:48.587360Z",
     "start_time": "2024-03-05T11:35:48.429916Z"
    }
   },
   "id": "a9b4808e46b4b1e5",
   "execution_count": 355
  },
  {
   "cell_type": "code",
   "outputs": [],
   "source": [],
   "metadata": {
    "collapsed": false,
    "ExecuteTime": {
     "end_time": "2024-03-05T11:35:48.591060Z",
     "start_time": "2024-03-05T11:35:48.588428Z"
    }
   },
   "id": "70d4e058b0628f76",
   "execution_count": 355
  }
 ],
 "metadata": {
  "kernelspec": {
   "display_name": "Python 3",
   "language": "python",
   "name": "python3"
  },
  "language_info": {
   "codemirror_mode": {
    "name": "ipython",
    "version": 2
   },
   "file_extension": ".py",
   "mimetype": "text/x-python",
   "name": "python",
   "nbconvert_exporter": "python",
   "pygments_lexer": "ipython2",
   "version": "2.7.6"
  }
 },
 "nbformat": 4,
 "nbformat_minor": 5
}
