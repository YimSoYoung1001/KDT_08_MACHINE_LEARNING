{
 "cells": [
  {
   "cell_type": "markdown",
   "source": [
    "### 교차 검증\n",
    "- 부족한 데이터 셋 및 특정 데이터에 과대적합 되는 문제 해결하기 위한 방안\n",
    "- 학습 데이터셋을 일정 크기의 데이터로 n개 분리 후 1/n은 검증용, 나머지는 학습용으로 사용"
   ],
   "metadata": {
    "collapsed": false
   },
   "id": "8805dd5ad1518218"
  },
  {
   "cell_type": "markdown",
   "source": [
    "[1] 모듈 로딩 및 데이터 준비 <hr>"
   ],
   "metadata": {
    "collapsed": false
   },
   "id": "94e0bd1d9a133c22"
  },
  {
   "cell_type": "code",
   "outputs": [],
   "source": [
    "import numpy as np\n",
    "from sklearn.model_selection import KFold\n",
    "\n",
    "X = np.array([[1, 2], [3, 4], [1, 2], [3, 4]])\n",
    "y = np.array([1, 2, 3, 4])"
   ],
   "metadata": {
    "collapsed": false,
    "ExecuteTime": {
     "end_time": "2024-03-05T06:50:56.196166Z",
     "start_time": "2024-03-05T06:50:56.192750Z"
    }
   },
   "id": "11d3d66bdfcaf203",
   "execution_count": 362
  },
  {
   "cell_type": "code",
   "outputs": [],
   "source": [
    "# Kfold 인스턴스 생성 => 데이터를 2개로 분할해주는 객체\n",
    "k_fold = KFold(n_splits=2)      #4개뿐이라 2개까지만 쪼개기 가능"
   ],
   "metadata": {
    "collapsed": false,
    "ExecuteTime": {
     "end_time": "2024-03-05T06:50:56.213712Z",
     "start_time": "2024-03-05T06:50:56.210933Z"
    }
   },
   "id": "1c5bad7ed4f1ef47",
   "execution_count": 363
  },
  {
   "cell_type": "code",
   "outputs": [
    {
     "name": "stdout",
     "output_type": "stream",
     "text": [
      "(array([2, 3]), array([0, 1]))\n",
      "(array([0, 1]), array([2, 3]))\n"
     ]
    }
   ],
   "source": [
    "# 데이터 분할 \n",
    "datasets = k_fold.split(X)\n",
    "\n",
    "for dataset in datasets:\n",
    "    print(dataset)"
   ],
   "metadata": {
    "collapsed": false,
    "ExecuteTime": {
     "end_time": "2024-03-05T06:50:56.218397Z",
     "start_time": "2024-03-05T06:50:56.214779Z"
    }
   },
   "id": "d0ecdc934cbb64b0",
   "execution_count": 364
  },
  {
   "cell_type": "code",
   "outputs": [
    {
     "data": {
      "text/plain": "<generator object _BaseKFold.split at 0x0000014AFA95B2E0>"
     },
     "execution_count": 365,
     "metadata": {},
     "output_type": "execute_result"
    }
   ],
   "source": [
    "datasets"
   ],
   "metadata": {
    "collapsed": false,
    "ExecuteTime": {
     "end_time": "2024-03-05T06:50:56.223027Z",
     "start_time": "2024-03-05T06:50:56.219548Z"
    }
   },
   "id": "918a0242f3974684",
   "execution_count": 365
  },
  {
   "cell_type": "code",
   "outputs": [
    {
     "name": "stdout",
     "output_type": "stream",
     "text": [
      "<class 'pandas.core.frame.DataFrame'>\n",
      "RangeIndex: 56 entries, 0 to 55\n",
      "Data columns (total 4 columns):\n",
      " #   Column  Non-Null Count  Dtype  \n",
      "---  ------  --------------  -----  \n",
      " 0   Weight  56 non-null     float64\n",
      " 1   Length  56 non-null     float64\n",
      " 2   Height  56 non-null     float64\n",
      " 3   Width   56 non-null     float64\n",
      "dtypes: float64(4)\n",
      "memory usage: 1.9 KB\n"
     ]
    }
   ],
   "source": [
    "### perch.csv 파일 데이터 기본 5등분\n",
    "import pandas as pd\n",
    "\n",
    "perchDF = pd.read_csv('../data/perch3.csv')\n",
    "perchDF.info()"
   ],
   "metadata": {
    "collapsed": false,
    "ExecuteTime": {
     "end_time": "2024-03-05T06:50:56.233259Z",
     "start_time": "2024-03-05T06:50:56.226238Z"
    }
   },
   "id": "222d893b58d7a146",
   "execution_count": 366
  },
  {
   "cell_type": "code",
   "outputs": [
    {
     "name": "stdout",
     "output_type": "stream",
     "text": [
      "0 => (array([12, 13, 14, 15, 16, 17, 18, 19, 20, 21, 22, 23, 24, 25, 26, 27, 28,\n",
      "       29, 30, 31, 32, 33, 34, 35, 36, 37, 38, 39, 40, 41, 42, 43, 44, 45,\n",
      "       46, 47, 48, 49, 50, 51, 52, 53, 54, 55]), array([ 0,  1,  2,  3,  4,  5,  6,  7,  8,  9, 10, 11]))\n",
      "2\n",
      "----------------------------------------\n",
      "1 => (array([ 0,  1,  2,  3,  4,  5,  6,  7,  8,  9, 10, 11, 23, 24, 25, 26, 27,\n",
      "       28, 29, 30, 31, 32, 33, 34, 35, 36, 37, 38, 39, 40, 41, 42, 43, 44,\n",
      "       45, 46, 47, 48, 49, 50, 51, 52, 53, 54, 55]), array([12, 13, 14, 15, 16, 17, 18, 19, 20, 21, 22]))\n",
      "2\n",
      "----------------------------------------\n",
      "2 => (array([ 0,  1,  2,  3,  4,  5,  6,  7,  8,  9, 10, 11, 12, 13, 14, 15, 16,\n",
      "       17, 18, 19, 20, 21, 22, 34, 35, 36, 37, 38, 39, 40, 41, 42, 43, 44,\n",
      "       45, 46, 47, 48, 49, 50, 51, 52, 53, 54, 55]), array([23, 24, 25, 26, 27, 28, 29, 30, 31, 32, 33]))\n",
      "2\n",
      "----------------------------------------\n",
      "3 => (array([ 0,  1,  2,  3,  4,  5,  6,  7,  8,  9, 10, 11, 12, 13, 14, 15, 16,\n",
      "       17, 18, 19, 20, 21, 22, 23, 24, 25, 26, 27, 28, 29, 30, 31, 32, 33,\n",
      "       45, 46, 47, 48, 49, 50, 51, 52, 53, 54, 55]), array([34, 35, 36, 37, 38, 39, 40, 41, 42, 43, 44]))\n",
      "2\n",
      "----------------------------------------\n",
      "4 => (array([ 0,  1,  2,  3,  4,  5,  6,  7,  8,  9, 10, 11, 12, 13, 14, 15, 16,\n",
      "       17, 18, 19, 20, 21, 22, 23, 24, 25, 26, 27, 28, 29, 30, 31, 32, 33,\n",
      "       34, 35, 36, 37, 38, 39, 40, 41, 42, 43, 44]), array([45, 46, 47, 48, 49, 50, 51, 52, 53, 54, 55]))\n",
      "2\n",
      "----------------------------------------\n"
     ]
    }
   ],
   "source": [
    "# perchDF => 5등분\n",
    "fold_5 = KFold()\n",
    "datasets = fold_5.split(perchDF)\n",
    "\n",
    "for index, dataset in enumerate(datasets):\n",
    "    print(f\"{index} => {dataset}\")\n",
    "    #print(dataset)\n",
    "    print(len(dataset))\n",
    "    # 앞에 나오는게 train이고 뒤에 나오는게 test\n",
    "    print('-'*40)"
   ],
   "metadata": {
    "collapsed": false,
    "ExecuteTime": {
     "end_time": "2024-03-05T06:50:56.260145Z",
     "start_time": "2024-03-05T06:50:56.255132Z"
    }
   },
   "id": "6577e331b066ef3d",
   "execution_count": 367
  },
  {
   "cell_type": "code",
   "outputs": [
    {
     "name": "stdout",
     "output_type": "stream",
     "text": [
      "0 => (37,)   (19,)\n",
      "1 => (37,)   (19,)\n",
      "2 => (38,)   (18,)\n"
     ]
    }
   ],
   "source": [
    "# perchDF => 3등분\n",
    "fold_5 = KFold(n_splits=3)\n",
    "datasets = fold_5.split(perchDF)\n",
    "\n",
    "for index, (train, test) in enumerate(datasets):\n",
    "    print(f\"{index} => {train.shape}   {test.shape}\")\n",
    "\n",
    "\n",
    "# return 값 해설\n",
    "# 56개를 3등분해서 1개는 테스트용 (18 ~ 19 개)\n",
    "# 그러면 테스트용 버전이 3가지가 되어야 하니까 총 3개"
   ],
   "metadata": {
    "collapsed": false,
    "ExecuteTime": {
     "end_time": "2024-03-05T06:50:56.264878Z",
     "start_time": "2024-03-05T06:50:56.261207Z"
    }
   },
   "id": "fbc20146ed2f31c4",
   "execution_count": 368
  },
  {
   "cell_type": "code",
   "outputs": [
    {
     "name": "stdout",
     "output_type": "stream",
     "text": [
      "0\n",
      "[19 20 21 22 23 24 25 26 27 28 29 30 31 32 33 34 35 36 37 38 39 40 41 42\n",
      " 43 44 45 46 47 48 49 50 51 52 53 54 55]\n",
      "[ 0  1  2  3  4  5  6  7  8  9 10 11 12 13 14 15 16 17 18]\n",
      "1\n",
      "[ 0  1  2  3  4  5  6  7  8  9 10 11 12 13 14 15 16 17 18 38 39 40 41 42\n",
      " 43 44 45 46 47 48 49 50 51 52 53 54 55]\n",
      "[19 20 21 22 23 24 25 26 27 28 29 30 31 32 33 34 35 36 37]\n",
      "2\n",
      "[ 0  1  2  3  4  5  6  7  8  9 10 11 12 13 14 15 16 17 18 19 20 21 22 23\n",
      " 24 25 26 27 28 29 30 31 32 33 34 35 36 37]\n",
      "[38 39 40 41 42 43 44 45 46 47 48 49 50 51 52 53 54 55]\n"
     ]
    }
   ],
   "source": [
    "# perchDF => 3등분\n",
    "fold_5 = KFold(n_splits=3)\n",
    "datasets = fold_5.split(perchDF)\n",
    "\n",
    "for index, (train, test) in enumerate(datasets):\n",
    "    print(f\"{index}\")\n",
    "    print(train)\n",
    "    print(test)\n",
    "\n",
    "# return값 해설\n",
    "# 숫자들은 모두 인덱스 번호에 해당함"
   ],
   "metadata": {
    "collapsed": false,
    "ExecuteTime": {
     "end_time": "2024-03-05T06:50:56.278707Z",
     "start_time": "2024-03-05T06:50:56.274348Z"
    }
   },
   "id": "cd00d0874a62cdc5",
   "execution_count": 369
  },
  {
   "cell_type": "code",
   "outputs": [
    {
     "name": "stdout",
     "output_type": "stream",
     "text": [
      "0 => (44,)   (12,)\n",
      "1 => (45,)   (11,)\n",
      "2 => (45,)   (11,)\n",
      "3 => (45,)   (11,)\n",
      "4 => (45,)   (11,)\n"
     ]
    }
   ],
   "source": [
    "# perchDF => 5등분\n",
    "fold_5 = KFold()\n",
    "datasets = fold_5.split(perchDF)\n",
    "\n",
    "for index, (train, test) in enumerate(datasets):\n",
    "    print(f\"{index} => {train.shape}   {test.shape}\")\n",
    "\n",
    "# return 값 해설\n",
    "# 56개를 5등분해서 1개는 테스트용 (11 ~ 12 개)\n",
    "# 그러면 테스트용 버전이 5가지가 되어야 하니까 총 5개"
   ],
   "metadata": {
    "collapsed": false,
    "ExecuteTime": {
     "end_time": "2024-03-05T06:50:56.311382Z",
     "start_time": "2024-03-05T06:50:56.307058Z"
    }
   },
   "id": "485606113380448b",
   "execution_count": 370
  },
  {
   "cell_type": "code",
   "outputs": [
    {
     "name": "stdout",
     "output_type": "stream",
     "text": [
      "<class 'pandas.core.frame.DataFrame'>\n",
      "RangeIndex: 150 entries, 0 to 149\n",
      "Data columns (total 5 columns):\n",
      " #   Column  Non-Null Count  Dtype  \n",
      "---  ------  --------------  -----  \n",
      " 0   0       150 non-null    float64\n",
      " 1   1       150 non-null    float64\n",
      " 2   2       150 non-null    float64\n",
      " 3   3       150 non-null    float64\n",
      " 4   4       150 non-null    object \n",
      "dtypes: float64(4), object(1)\n",
      "memory usage: 6.0+ KB\n"
     ]
    }
   ],
   "source": [
    "## 타겟이 분류인 경우\n",
    "\n",
    "irisDF = pd.read_csv('../data/iris.csv', header = None)\n",
    "irisDF.info()"
   ],
   "metadata": {
    "collapsed": false,
    "ExecuteTime": {
     "end_time": "2024-03-05T06:50:56.321557Z",
     "start_time": "2024-03-05T06:50:56.312499Z"
    }
   },
   "id": "3e6b889539e0f5fe",
   "execution_count": 371
  },
  {
   "cell_type": "code",
   "outputs": [
    {
     "data": {
      "text/plain": "4\n0    50\n2    50\n1    50\nName: count, dtype: int64"
     },
     "execution_count": 372,
     "metadata": {},
     "output_type": "execute_result"
    }
   ],
   "source": [
    "irisDF = irisDF.replace('Iris-setosa', 0)\n",
    "irisDF = irisDF.replace('Iris-virginica', 1)\n",
    "irisDF = irisDF.replace('Iris-versicolor',2)\n",
    "\n",
    "irisDF[4].value_counts()\n"
   ],
   "metadata": {
    "collapsed": false,
    "ExecuteTime": {
     "end_time": "2024-03-05T06:50:56.332998Z",
     "start_time": "2024-03-05T06:50:56.325841Z"
    }
   },
   "id": "f61b9322d427157b",
   "execution_count": 372
  },
  {
   "cell_type": "code",
   "outputs": [],
   "source": [
    "k_fold = KFold(n_splits=3, shuffle=True)\n",
    "ret = k_fold.split(irisDF[irisDF.columns[:-1]])"
   ],
   "metadata": {
    "collapsed": false,
    "ExecuteTime": {
     "end_time": "2024-03-05T06:50:56.339345Z",
     "start_time": "2024-03-05T06:50:56.335003Z"
    }
   },
   "id": "47df049833679f0",
   "execution_count": 373
  },
  {
   "cell_type": "code",
   "outputs": [
    {
     "name": "stdout",
     "output_type": "stream",
     "text": [
      "0\n",
      "[  2   3   4   5   6   7   9  11  15  18  20  21  22  24  25  27  28  30\n",
      "  31  33  34  35  36  38  40  41  44  46  49  50  53  54  55  56  57  58\n",
      "  59  61  62  64  65  66  68  71  72  74  76  77  80  81  82  84  85  86\n",
      "  88  89  90  91  92  93  96  99 100 101 103 104 106 109 110 111 112 113\n",
      " 114 115 116 118 119 120 122 124 127 129 130 131 132 133 134 135 137 138\n",
      " 139 140 141 142 143 144 146 147 148 149]\n",
      "[  0   1   8  10  12  13  14  16  17  19  23  26  29  32  37  39  42  43\n",
      "  45  47  48  51  52  60  63  67  69  70  73  75  78  79  83  87  94  95\n",
      "  97  98 102 105 107 108 117 121 123 125 126 128 136 145]\n",
      "--------------------------------------------------\n",
      "1\n",
      "[  0   1   2   3   4   6   8  10  12  13  14  15  16  17  19  20  23  25\n",
      "  26  29  30  32  36  37  39  40  42  43  44  45  46  47  48  50  51  52\n",
      "  53  55  56  58  59  60  61  63  64  66  67  68  69  70  71  72  73  75\n",
      "  76  77  78  79  82  83  85  87  88  89  90  91  92  94  95  96  97  98\n",
      " 102 103 105 106 107 108 111 112 113 115 116 117 118 119 121 123 125 126\n",
      " 127 128 134 136 138 139 141 142 145 146]\n",
      "[  5   7   9  11  18  21  22  24  27  28  31  33  34  35  38  41  49  54\n",
      "  57  62  65  74  80  81  84  86  93  99 100 101 104 109 110 114 120 122\n",
      " 124 129 130 131 132 133 135 137 140 143 144 147 148 149]\n",
      "--------------------------------------------------\n",
      "2\n",
      "[  0   1   5   7   8   9  10  11  12  13  14  16  17  18  19  21  22  23\n",
      "  24  26  27  28  29  31  32  33  34  35  37  38  39  41  42  43  45  47\n",
      "  48  49  51  52  54  57  60  62  63  65  67  69  70  73  74  75  78  79\n",
      "  80  81  83  84  86  87  93  94  95  97  98  99 100 101 102 104 105 107\n",
      " 108 109 110 114 117 120 121 122 123 124 125 126 128 129 130 131 132 133\n",
      " 135 136 137 140 143 144 145 147 148 149]\n",
      "[  2   3   4   6  15  20  25  30  36  40  44  46  50  53  55  56  58  59\n",
      "  61  64  66  68  71  72  76  77  82  85  88  89  90  91  92  96 103 106\n",
      " 111 112 113 115 116 118 119 127 134 138 139 141 142 146]\n",
      "--------------------------------------------------\n"
     ]
    }
   ],
   "source": [
    "for idx, (train, test) in enumerate(ret):\n",
    "    print(idx, train, test, sep ='\\n')\n",
    "    print('-'*50)\n",
    "    \n",
    "# shuffle = False 일때 ==> 지금 섞여있는 상태가 아닌 거라서 variety 종류가 몰려있다. (test의 인덱스 번호 참고)\n",
    "# shuffle = True  일떼 ==> 섞여있는 상태라는 것을 확인할 수 있다."
   ],
   "metadata": {
    "collapsed": false,
    "ExecuteTime": {
     "end_time": "2024-03-05T06:50:56.351514Z",
     "start_time": "2024-03-05T06:50:56.346348Z"
    }
   },
   "id": "93199accec5e67f6",
   "execution_count": 374
  },
  {
   "cell_type": "code",
   "outputs": [
    {
     "name": "stdout",
     "output_type": "stream",
     "text": [
      " = = = = = = = 0 = = = = = = = \n",
      "4\n",
      "1    37\n",
      "0    34\n",
      "2    29\n",
      "Name: count, dtype: int64\n",
      "\n",
      " = = = = = = = 1 = = = = = = = \n",
      "4\n",
      "0    37\n",
      "2    37\n",
      "1    26\n",
      "Name: count, dtype: int64\n",
      "\n",
      " = = = = = = = 2 = = = = = = = \n",
      "4\n",
      "1    37\n",
      "2    34\n",
      "0    29\n",
      "Name: count, dtype: int64\n"
     ]
    }
   ],
   "source": [
    "k_fold = KFold(n_splits=3, shuffle=True)\n",
    "ret = k_fold.split(irisDF[irisDF.columns[:-1]])\n",
    "\n",
    "for idx, (train, test) in enumerate(ret):\n",
    "    train_list = train.tolist()        #ndarray로 나오기 때문에 리스트로 변환해주어야 함\n",
    "    \n",
    "    result_df = irisDF[4][train_list]\n",
    "    #print(result_df)\n",
    "    value_df = result_df.value_counts()\n",
    "    print(f' = = = = = = = {idx} = = = = = = = ')\n",
    "    print(value_df)\n",
    "    print( )\n",
    "    \n",
    "    \n",
    "    \n",
    "# shuffle을 했을때 균일하게 분포되어있는지 확인해보았다.\n",
    "# 해당 인덱스를 뽑아서 데이터 프레임을 만든 후 value_counts() 해보았다. \n",
    "# 그랬더니 고르게 분포된 것임을 확인함!"
   ],
   "metadata": {
    "collapsed": false,
    "ExecuteTime": {
     "end_time": "2024-03-05T06:50:56.383127Z",
     "start_time": "2024-03-05T06:50:56.374356Z"
    }
   },
   "id": "38f4795fc65037cc",
   "execution_count": 375
  },
  {
   "cell_type": "code",
   "outputs": [
    {
     "name": "stdout",
     "output_type": "stream",
     "text": [
      "= = = = = = = = = = = = = = [ 0 ] = = = = = = = = = = = = = = \n",
      "     train score : 0.97          test score : 0.94\n",
      "\n",
      "= = = = = = = = = = = = = = [ 1 ] = = = = = = = = = = = = = = \n",
      "     train score : 0.93          test score : 0.94\n",
      "\n",
      "= = = = = = = = = = = = = = [ 2 ] = = = = = = = = = = = = = = \n",
      "     train score : 0.97          test score : 0.96\n"
     ]
    }
   ],
   "source": [
    "from sklearn.linear_model import LogisticRegression\n",
    "\n",
    "k_fold = KFold(n_splits=3, shuffle=True)\n",
    "ret = k_fold.split(irisDF[irisDF.columns[:-1]])\n",
    "\n",
    "train_score3= []\n",
    "test_score3 = []\n",
    "\n",
    "total_df = pd.DataFrame()\n",
    "\n",
    "for idx, (train, test) in enumerate(ret):\n",
    "    # 학습용, 테스트용 인덱스 반환\n",
    "    train_idx = train.tolist()\n",
    "    test_idx = test.tolist()\n",
    "    \n",
    "    # 인덱스에 해당하는 데이터 셋 추출\n",
    "    trainDF = irisDF.iloc[train_idx]\n",
    "    testDF = irisDF.iloc[test_idx]\n",
    "    #print(trainDF[4].value_counts()/trainDF.shape[0])\n",
    "    #print(testDF[4].value_counts()/testDF.shape[0])\n",
    "    \n",
    "    X_train = trainDF[trainDF.columns[:4]]\n",
    "    y_train = trainDF[trainDF.columns[4]]\n",
    "    \n",
    "    X_test = testDF[testDF.columns[:4]]\n",
    "    y_test = testDF[testDF.columns[4]]\n",
    "\n",
    "    # 분류모델 학습\n",
    "    log_model = LogisticRegression(max_iter=1000, solver = 'liblinear')\n",
    "    log_model.fit(X_train, y_train)\n",
    "    \n",
    "    # 훈련 및 검증용 성능\n",
    "    train_score = log_model.score(X_train, y_train)\n",
    "    test_score = log_model.score(X_test, y_test)\n",
    "    print(f\"= = = = = = = = = = = = = = [ {idx} ] = = = = = = = = = = = = = = \")\n",
    "    print(f\"     train score : {train_score}          test score : {test_score}\")\n",
    "    print()\n",
    "    train_score3.append(train_score)\n",
    "    test_score3.append(test_score)\n",
    "\n",
    "total_df['train_score'] = train_score3\n",
    "total_df['test_score'] = test_score3\n",
    "total_df['model'] = 'logistic regression'\n",
    "    \n",
    "# 최종 점수를 구하기 위해 평균을 구하기 위해 각 점수를 리스트에 담았다."
   ],
   "metadata": {
    "collapsed": false,
    "ExecuteTime": {
     "end_time": "2024-03-05T06:50:56.405920Z",
     "start_time": "2024-03-05T06:50:56.384162Z"
    }
   },
   "id": "fdcb6e95bf36380c",
   "execution_count": 376
  },
  {
   "cell_type": "code",
   "outputs": [
    {
     "data": {
      "text/plain": "   train_score  test_score                model\n0         0.97        0.94  logistic regression\n1         0.93        0.94  logistic regression\n2         0.97        0.96  logistic regression",
      "text/html": "<div>\n<style scoped>\n    .dataframe tbody tr th:only-of-type {\n        vertical-align: middle;\n    }\n\n    .dataframe tbody tr th {\n        vertical-align: top;\n    }\n\n    .dataframe thead th {\n        text-align: right;\n    }\n</style>\n<table border=\"1\" class=\"dataframe\">\n  <thead>\n    <tr style=\"text-align: right;\">\n      <th></th>\n      <th>train_score</th>\n      <th>test_score</th>\n      <th>model</th>\n    </tr>\n  </thead>\n  <tbody>\n    <tr>\n      <th>0</th>\n      <td>0.97</td>\n      <td>0.94</td>\n      <td>logistic regression</td>\n    </tr>\n    <tr>\n      <th>1</th>\n      <td>0.93</td>\n      <td>0.94</td>\n      <td>logistic regression</td>\n    </tr>\n    <tr>\n      <th>2</th>\n      <td>0.97</td>\n      <td>0.96</td>\n      <td>logistic regression</td>\n    </tr>\n  </tbody>\n</table>\n</div>"
     },
     "execution_count": 377,
     "metadata": {},
     "output_type": "execute_result"
    }
   ],
   "source": [
    "total_df"
   ],
   "metadata": {
    "collapsed": false,
    "ExecuteTime": {
     "end_time": "2024-03-05T06:50:56.413124Z",
     "start_time": "2024-03-05T06:50:56.406991Z"
    }
   },
   "id": "a6d9a608d9eb1196",
   "execution_count": 377
  },
  {
   "cell_type": "code",
   "outputs": [
    {
     "name": "stdout",
     "output_type": "stream",
     "text": [
      "train score 평균 0.9566666666666667\n",
      "test score 평균  0.9466666666666667\n"
     ]
    }
   ],
   "source": [
    "print(f\"train score 평균 {sum(train_score3)/3}\")\n",
    "print(f\"test score 평균  {sum(test_score3)/3}\")\n",
    "\n",
    "# 평균을 내서 최종 성적으로 결론짓는다!"
   ],
   "metadata": {
    "collapsed": false,
    "ExecuteTime": {
     "end_time": "2024-03-05T06:50:56.416969Z",
     "start_time": "2024-03-05T06:50:56.414189Z"
    }
   },
   "id": "55f40717e8a6d69c",
   "execution_count": 378
  }
 ],
 "metadata": {
  "kernelspec": {
   "display_name": "Python 3",
   "language": "python",
   "name": "python3"
  },
  "language_info": {
   "codemirror_mode": {
    "name": "ipython",
    "version": 2
   },
   "file_extension": ".py",
   "mimetype": "text/x-python",
   "name": "python",
   "nbconvert_exporter": "python",
   "pygments_lexer": "ipython2",
   "version": "2.7.6"
  }
 },
 "nbformat": 4,
 "nbformat_minor": 5
}
