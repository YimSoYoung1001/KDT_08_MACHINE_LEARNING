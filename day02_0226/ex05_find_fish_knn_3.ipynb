{
 "cells": [
  {
   "cell_type": "markdown",
   "source": [
    "#### 모델 : 생선 품종 분류 모델\n",
    "- 데이터 : fish.csv (2가지 품종의 생선 데이터)\n",
    "- 피  쳐 : Weight, Length\n",
    "- 타  겟 : Species\n",
    "- 학습유형: 지도학습 + 분류 (도미, 빙어 분류는 이진 분류)\n",
    "- 최적의 K 즉, 이웃 데이터 수 찾기 코드 추가"
   ],
   "metadata": {
    "collapsed": false
   },
   "id": "9d1d0baa10f0e502"
  },
  {
   "cell_type": "markdown",
   "source": [
    "(1) 모듈 로딩 & 데이터 준비"
   ],
   "metadata": {
    "collapsed": false
   },
   "id": "9a1c2ecd8226da10"
  },
  {
   "cell_type": "code",
   "outputs": [],
   "source": [
    "import pandas as pd                                     #데이터 파일 관련 모듈\n",
    "from sklearn.neighbors import KNeighborsClassifier      #기계학습 관련 모듈"
   ],
   "metadata": {
    "collapsed": false,
    "ExecuteTime": {
     "end_time": "2024-02-26T07:19:39.406456300Z",
     "start_time": "2024-02-26T07:19:39.194350500Z"
    }
   },
   "id": "3b75ac5bea2dd3aa",
   "execution_count": 128
  },
  {
   "cell_type": "code",
   "outputs": [],
   "source": [
    "data_file = '../data/fish.csv'"
   ],
   "metadata": {
    "collapsed": false,
    "ExecuteTime": {
     "end_time": "2024-02-26T07:19:39.474936200Z",
     "start_time": "2024-02-26T07:19:39.411773900Z"
    }
   },
   "id": "bb456087e1d7920b",
   "execution_count": 129
  },
  {
   "cell_type": "code",
   "outputs": [
    {
     "name": "stdout",
     "output_type": "stream",
     "text": [
      "<class 'pandas.core.frame.DataFrame'>\n",
      "RangeIndex: 159 entries, 0 to 158\n",
      "Data columns (total 3 columns):\n",
      " #   Column   Non-Null Count  Dtype  \n",
      "---  ------   --------------  -----  \n",
      " 0   Species  159 non-null    object \n",
      " 1   Weight   159 non-null    float64\n",
      " 2   Length   159 non-null    float64\n",
      "dtypes: float64(2), object(1)\n",
      "memory usage: 3.9+ KB\n"
     ]
    }
   ],
   "source": [
    "# 5개 피쳐/특성 중 2개의 피쳐/특성 선택\n",
    "fishDF = pd.read_csv(data_file, usecols = [0,1,2])\n",
    "fishDF.info()"
   ],
   "metadata": {
    "collapsed": false,
    "ExecuteTime": {
     "end_time": "2024-02-26T07:19:39.478140600Z",
     "start_time": "2024-02-26T07:19:39.429766Z"
    }
   },
   "id": "8f1a1f7860dc4882",
   "execution_count": 130
  },
  {
   "cell_type": "code",
   "outputs": [
    {
     "data": {
      "text/plain": "   Species  Weight  Length\n0    Bream   242.0    25.4\n1    Bream   290.0    26.3\n2    Bream   340.0    26.5\n3    Bream   363.0    29.0\n4    Bream   430.0    29.0\n5    Bream   450.0    29.7\n6    Bream   500.0    29.7\n7    Bream   390.0    30.0\n8    Bream   450.0    30.0\n9    Bream   500.0    30.7\n10   Bream   475.0    31.0\n11   Bream   500.0    31.0\n12   Bream   500.0    31.5\n13   Bream   340.0    32.0\n14   Bream   600.0    32.0\n15   Bream   600.0    32.0\n16   Bream   700.0    33.0\n17   Bream   700.0    33.0\n18   Bream   610.0    33.5\n19   Bream   650.0    33.5\n20   Bream   575.0    34.0\n21   Bream   685.0    34.0\n22   Bream   620.0    34.5\n23   Bream   680.0    35.0\n24   Bream   700.0    35.0\n25   Bream   725.0    35.0\n26   Bream   720.0    35.0\n27   Bream   714.0    36.0\n28   Bream   850.0    36.0\n29   Bream  1000.0    37.0\n30   Bream   920.0    38.5\n31   Bream   955.0    38.5\n32   Bream   925.0    39.5\n33   Bream   975.0    41.0\n34   Bream   950.0    41.0\n35   Smelt     6.7     9.8\n36   Smelt     7.5    10.5\n37   Smelt     7.0    10.6\n38   Smelt     9.7    11.0\n39   Smelt     9.8    11.2\n40   Smelt     8.7    11.3\n41   Smelt    10.0    11.8\n42   Smelt     9.9    11.8\n43   Smelt     9.8    12.0\n44   Smelt    12.2    12.2\n45   Smelt    13.4    12.4\n46   Smelt    12.2    13.0\n47   Smelt    19.7    14.3\n48   Smelt    19.9    15.0",
      "text/html": "<div>\n<style scoped>\n    .dataframe tbody tr th:only-of-type {\n        vertical-align: middle;\n    }\n\n    .dataframe tbody tr th {\n        vertical-align: top;\n    }\n\n    .dataframe thead th {\n        text-align: right;\n    }\n</style>\n<table border=\"1\" class=\"dataframe\">\n  <thead>\n    <tr style=\"text-align: right;\">\n      <th></th>\n      <th>Species</th>\n      <th>Weight</th>\n      <th>Length</th>\n    </tr>\n  </thead>\n  <tbody>\n    <tr>\n      <th>0</th>\n      <td>Bream</td>\n      <td>242.0</td>\n      <td>25.4</td>\n    </tr>\n    <tr>\n      <th>1</th>\n      <td>Bream</td>\n      <td>290.0</td>\n      <td>26.3</td>\n    </tr>\n    <tr>\n      <th>2</th>\n      <td>Bream</td>\n      <td>340.0</td>\n      <td>26.5</td>\n    </tr>\n    <tr>\n      <th>3</th>\n      <td>Bream</td>\n      <td>363.0</td>\n      <td>29.0</td>\n    </tr>\n    <tr>\n      <th>4</th>\n      <td>Bream</td>\n      <td>430.0</td>\n      <td>29.0</td>\n    </tr>\n    <tr>\n      <th>5</th>\n      <td>Bream</td>\n      <td>450.0</td>\n      <td>29.7</td>\n    </tr>\n    <tr>\n      <th>6</th>\n      <td>Bream</td>\n      <td>500.0</td>\n      <td>29.7</td>\n    </tr>\n    <tr>\n      <th>7</th>\n      <td>Bream</td>\n      <td>390.0</td>\n      <td>30.0</td>\n    </tr>\n    <tr>\n      <th>8</th>\n      <td>Bream</td>\n      <td>450.0</td>\n      <td>30.0</td>\n    </tr>\n    <tr>\n      <th>9</th>\n      <td>Bream</td>\n      <td>500.0</td>\n      <td>30.7</td>\n    </tr>\n    <tr>\n      <th>10</th>\n      <td>Bream</td>\n      <td>475.0</td>\n      <td>31.0</td>\n    </tr>\n    <tr>\n      <th>11</th>\n      <td>Bream</td>\n      <td>500.0</td>\n      <td>31.0</td>\n    </tr>\n    <tr>\n      <th>12</th>\n      <td>Bream</td>\n      <td>500.0</td>\n      <td>31.5</td>\n    </tr>\n    <tr>\n      <th>13</th>\n      <td>Bream</td>\n      <td>340.0</td>\n      <td>32.0</td>\n    </tr>\n    <tr>\n      <th>14</th>\n      <td>Bream</td>\n      <td>600.0</td>\n      <td>32.0</td>\n    </tr>\n    <tr>\n      <th>15</th>\n      <td>Bream</td>\n      <td>600.0</td>\n      <td>32.0</td>\n    </tr>\n    <tr>\n      <th>16</th>\n      <td>Bream</td>\n      <td>700.0</td>\n      <td>33.0</td>\n    </tr>\n    <tr>\n      <th>17</th>\n      <td>Bream</td>\n      <td>700.0</td>\n      <td>33.0</td>\n    </tr>\n    <tr>\n      <th>18</th>\n      <td>Bream</td>\n      <td>610.0</td>\n      <td>33.5</td>\n    </tr>\n    <tr>\n      <th>19</th>\n      <td>Bream</td>\n      <td>650.0</td>\n      <td>33.5</td>\n    </tr>\n    <tr>\n      <th>20</th>\n      <td>Bream</td>\n      <td>575.0</td>\n      <td>34.0</td>\n    </tr>\n    <tr>\n      <th>21</th>\n      <td>Bream</td>\n      <td>685.0</td>\n      <td>34.0</td>\n    </tr>\n    <tr>\n      <th>22</th>\n      <td>Bream</td>\n      <td>620.0</td>\n      <td>34.5</td>\n    </tr>\n    <tr>\n      <th>23</th>\n      <td>Bream</td>\n      <td>680.0</td>\n      <td>35.0</td>\n    </tr>\n    <tr>\n      <th>24</th>\n      <td>Bream</td>\n      <td>700.0</td>\n      <td>35.0</td>\n    </tr>\n    <tr>\n      <th>25</th>\n      <td>Bream</td>\n      <td>725.0</td>\n      <td>35.0</td>\n    </tr>\n    <tr>\n      <th>26</th>\n      <td>Bream</td>\n      <td>720.0</td>\n      <td>35.0</td>\n    </tr>\n    <tr>\n      <th>27</th>\n      <td>Bream</td>\n      <td>714.0</td>\n      <td>36.0</td>\n    </tr>\n    <tr>\n      <th>28</th>\n      <td>Bream</td>\n      <td>850.0</td>\n      <td>36.0</td>\n    </tr>\n    <tr>\n      <th>29</th>\n      <td>Bream</td>\n      <td>1000.0</td>\n      <td>37.0</td>\n    </tr>\n    <tr>\n      <th>30</th>\n      <td>Bream</td>\n      <td>920.0</td>\n      <td>38.5</td>\n    </tr>\n    <tr>\n      <th>31</th>\n      <td>Bream</td>\n      <td>955.0</td>\n      <td>38.5</td>\n    </tr>\n    <tr>\n      <th>32</th>\n      <td>Bream</td>\n      <td>925.0</td>\n      <td>39.5</td>\n    </tr>\n    <tr>\n      <th>33</th>\n      <td>Bream</td>\n      <td>975.0</td>\n      <td>41.0</td>\n    </tr>\n    <tr>\n      <th>34</th>\n      <td>Bream</td>\n      <td>950.0</td>\n      <td>41.0</td>\n    </tr>\n    <tr>\n      <th>35</th>\n      <td>Smelt</td>\n      <td>6.7</td>\n      <td>9.8</td>\n    </tr>\n    <tr>\n      <th>36</th>\n      <td>Smelt</td>\n      <td>7.5</td>\n      <td>10.5</td>\n    </tr>\n    <tr>\n      <th>37</th>\n      <td>Smelt</td>\n      <td>7.0</td>\n      <td>10.6</td>\n    </tr>\n    <tr>\n      <th>38</th>\n      <td>Smelt</td>\n      <td>9.7</td>\n      <td>11.0</td>\n    </tr>\n    <tr>\n      <th>39</th>\n      <td>Smelt</td>\n      <td>9.8</td>\n      <td>11.2</td>\n    </tr>\n    <tr>\n      <th>40</th>\n      <td>Smelt</td>\n      <td>8.7</td>\n      <td>11.3</td>\n    </tr>\n    <tr>\n      <th>41</th>\n      <td>Smelt</td>\n      <td>10.0</td>\n      <td>11.8</td>\n    </tr>\n    <tr>\n      <th>42</th>\n      <td>Smelt</td>\n      <td>9.9</td>\n      <td>11.8</td>\n    </tr>\n    <tr>\n      <th>43</th>\n      <td>Smelt</td>\n      <td>9.8</td>\n      <td>12.0</td>\n    </tr>\n    <tr>\n      <th>44</th>\n      <td>Smelt</td>\n      <td>12.2</td>\n      <td>12.2</td>\n    </tr>\n    <tr>\n      <th>45</th>\n      <td>Smelt</td>\n      <td>13.4</td>\n      <td>12.4</td>\n    </tr>\n    <tr>\n      <th>46</th>\n      <td>Smelt</td>\n      <td>12.2</td>\n      <td>13.0</td>\n    </tr>\n    <tr>\n      <th>47</th>\n      <td>Smelt</td>\n      <td>19.7</td>\n      <td>14.3</td>\n    </tr>\n    <tr>\n      <th>48</th>\n      <td>Smelt</td>\n      <td>19.9</td>\n      <td>15.0</td>\n    </tr>\n  </tbody>\n</table>\n</div>"
     },
     "execution_count": 131,
     "metadata": {},
     "output_type": "execute_result"
    }
   ],
   "source": [
    "# Bream, Smelt 품종 행만 추출\n",
    "mask = fishDF.Species.isin(['Bream', 'Smelt']) #Boolean Indexing\n",
    "\n",
    "#해당 행만 도출\n",
    "twoFishDF = fishDF[mask]\n",
    "twoFishDF.index\n",
    "\n",
    "# 인덱스 정리\n",
    "twoFishDF.reset_index(drop=True,inplace =True)\n",
    "twoFishDF"
   ],
   "metadata": {
    "collapsed": false,
    "ExecuteTime": {
     "end_time": "2024-02-26T07:19:39.512673700Z",
     "start_time": "2024-02-26T07:19:39.480370500Z"
    }
   },
   "id": "d5d785d62c29339c",
   "execution_count": 131
  },
  {
   "cell_type": "markdown",
   "source": [
    "(2) 데이터 전처리 <hr>\n",
    "- 정제 : 결측치, 중복데이터, 이상치 처리\n",
    "- 정규화 : 피쳐 스케일링"
   ],
   "metadata": {
    "collapsed": false
   },
   "id": "ef823529da65acd2"
  },
  {
   "cell_type": "code",
   "outputs": [
    {
     "data": {
      "text/plain": "            Weight     Length\ncount    49.000000  49.000000\nmean    444.500000  27.055102\nstd     328.143233  10.242804\nmin       6.700000   9.800000\n25%      19.700000  14.300000\n50%     500.000000  31.000000\n75%     700.000000  34.500000\nmax    1000.000000  41.000000",
      "text/html": "<div>\n<style scoped>\n    .dataframe tbody tr th:only-of-type {\n        vertical-align: middle;\n    }\n\n    .dataframe tbody tr th {\n        vertical-align: top;\n    }\n\n    .dataframe thead th {\n        text-align: right;\n    }\n</style>\n<table border=\"1\" class=\"dataframe\">\n  <thead>\n    <tr style=\"text-align: right;\">\n      <th></th>\n      <th>Weight</th>\n      <th>Length</th>\n    </tr>\n  </thead>\n  <tbody>\n    <tr>\n      <th>count</th>\n      <td>49.000000</td>\n      <td>49.000000</td>\n    </tr>\n    <tr>\n      <th>mean</th>\n      <td>444.500000</td>\n      <td>27.055102</td>\n    </tr>\n    <tr>\n      <th>std</th>\n      <td>328.143233</td>\n      <td>10.242804</td>\n    </tr>\n    <tr>\n      <th>min</th>\n      <td>6.700000</td>\n      <td>9.800000</td>\n    </tr>\n    <tr>\n      <th>25%</th>\n      <td>19.700000</td>\n      <td>14.300000</td>\n    </tr>\n    <tr>\n      <th>50%</th>\n      <td>500.000000</td>\n      <td>31.000000</td>\n    </tr>\n    <tr>\n      <th>75%</th>\n      <td>700.000000</td>\n      <td>34.500000</td>\n    </tr>\n    <tr>\n      <th>max</th>\n      <td>1000.000000</td>\n      <td>41.000000</td>\n    </tr>\n  </tbody>\n</table>\n</div>"
     },
     "execution_count": 132,
     "metadata": {},
     "output_type": "execute_result"
    }
   ],
   "source": [
    "# 표준 정규분포 => 평균 0, 표준편차 1 이 되는 정규분포를 말함.\n",
    "# 정규분포를 하려면 => Z-score = 피쳐 - 평균 / 표준편차 (여기서 z-score라 함은 표준화된 데이터를 가리킴)\n",
    "twoFishDF.describe()"
   ],
   "metadata": {
    "collapsed": false,
    "ExecuteTime": {
     "end_time": "2024-02-26T07:19:39.580478300Z",
     "start_time": "2024-02-26T07:19:39.505026100Z"
    }
   },
   "id": "df581e85b25ce15f",
   "execution_count": 132
  },
  {
   "cell_type": "code",
   "outputs": [
    {
     "data": {
      "text/plain": "(444.5, 328.1432328267642)"
     },
     "execution_count": 133,
     "metadata": {},
     "output_type": "execute_result"
    }
   ],
   "source": [
    "# Weight 컬럼\n",
    "twoFishDF.Weight.mean(), twoFishDF.Weight.std()"
   ],
   "metadata": {
    "collapsed": false,
    "ExecuteTime": {
     "end_time": "2024-02-26T07:19:39.601895500Z",
     "start_time": "2024-02-26T07:19:39.522985300Z"
    }
   },
   "id": "f23c9583f315c2a4",
   "execution_count": 133
  },
  {
   "cell_type": "code",
   "outputs": [],
   "source": [
    "ret1 = twoFishDF.Weight - twoFishDF.Weight.mean()\n",
    "ret1 = ret1/twoFishDF.Weight.std()\n",
    "#twoFishDF.loc[:, 'Weight'] = ret1"
   ],
   "metadata": {
    "collapsed": false,
    "ExecuteTime": {
     "end_time": "2024-02-26T07:19:39.695019300Z",
     "start_time": "2024-02-26T07:19:39.585990700Z"
    }
   },
   "id": "7c78c79f9e1d02c5",
   "execution_count": 134
  },
  {
   "cell_type": "code",
   "outputs": [
    {
     "data": {
      "text/plain": "(27.055102040816323, 10.242803596193967)"
     },
     "execution_count": 135,
     "metadata": {},
     "output_type": "execute_result"
    }
   ],
   "source": [
    "# Length 컬럼\n",
    "twoFishDF.Length.mean(), twoFishDF.Length.std()"
   ],
   "metadata": {
    "collapsed": false,
    "ExecuteTime": {
     "end_time": "2024-02-26T07:19:39.733780400Z",
     "start_time": "2024-02-26T07:19:39.654818800Z"
    }
   },
   "id": "82e65dd24e711852",
   "execution_count": 135
  },
  {
   "cell_type": "code",
   "outputs": [],
   "source": [
    "ret2 = twoFishDF.Length - twoFishDF.Length.mean()\n",
    "ret2 = ret2/twoFishDF.Length.std()\n",
    "#twoFishDF.loc[:, 'Length'] = ret2"
   ],
   "metadata": {
    "collapsed": false,
    "ExecuteTime": {
     "end_time": "2024-02-26T07:19:39.805235700Z",
     "start_time": "2024-02-26T07:19:39.739008900Z"
    }
   },
   "id": "9064fadbcb49df58",
   "execution_count": 136
  },
  {
   "cell_type": "code",
   "outputs": [],
   "source": [
    "# 하! 지! 만! 이걸 다~ 해주는 모듈이 있다."
   ],
   "metadata": {
    "collapsed": false,
    "ExecuteTime": {
     "end_time": "2024-02-26T07:19:39.830663700Z",
     "start_time": "2024-02-26T07:19:39.804165100Z"
    }
   },
   "id": "9577d366869872ab",
   "execution_count": 137
  },
  {
   "cell_type": "markdown",
   "source": [
    "(3) 기계학습 데이터셋 준비 => 피쳐 + 타겟 분리 <hr>"
   ],
   "metadata": {
    "collapsed": false
   },
   "id": "101c399d002c7794"
  },
  {
   "cell_type": "code",
   "outputs": [
    {
     "data": {
      "text/plain": "   Weight  Length\n0   242.0    25.4\n1   290.0    26.3",
      "text/html": "<div>\n<style scoped>\n    .dataframe tbody tr th:only-of-type {\n        vertical-align: middle;\n    }\n\n    .dataframe tbody tr th {\n        vertical-align: top;\n    }\n\n    .dataframe thead th {\n        text-align: right;\n    }\n</style>\n<table border=\"1\" class=\"dataframe\">\n  <thead>\n    <tr style=\"text-align: right;\">\n      <th></th>\n      <th>Weight</th>\n      <th>Length</th>\n    </tr>\n  </thead>\n  <tbody>\n    <tr>\n      <th>0</th>\n      <td>242.0</td>\n      <td>25.4</td>\n    </tr>\n    <tr>\n      <th>1</th>\n      <td>290.0</td>\n      <td>26.3</td>\n    </tr>\n  </tbody>\n</table>\n</div>"
     },
     "execution_count": 138,
     "metadata": {},
     "output_type": "execute_result"
    }
   ],
   "source": [
    "# 피쳐/특성/속성 데이터 추출\n",
    "featureDF = twoFishDF[twoFishDF.columns[1:]]\n",
    "featureDF.head(2)"
   ],
   "metadata": {
    "collapsed": false,
    "ExecuteTime": {
     "end_time": "2024-02-26T07:19:39.886377100Z",
     "start_time": "2024-02-26T07:19:39.836923300Z"
    }
   },
   "id": "a7ad283f1666d4a9",
   "execution_count": 138
  },
  {
   "cell_type": "code",
   "outputs": [
    {
     "data": {
      "text/plain": "0    Bream\n1    Bream\nName: Species, dtype: object"
     },
     "execution_count": 139,
     "metadata": {},
     "output_type": "execute_result"
    }
   ],
   "source": [
    "# 클래스/타켓/라벨 데이터 추출 후 수치화하기 (정수 인코딩)\n",
    "targetDF = twoFishDF['Species']\n",
    "targetDF.head(2)"
   ],
   "metadata": {
    "collapsed": false,
    "ExecuteTime": {
     "end_time": "2024-02-26T07:19:39.902106300Z",
     "start_time": "2024-02-26T07:19:39.861061900Z"
    }
   },
   "id": "e4e394262fff5bb9",
   "execution_count": 139
  },
  {
   "cell_type": "code",
   "outputs": [
    {
     "data": {
      "text/plain": "(dtype('int64'),\n 0    0\n 1    0\n Name: Species, dtype: int64)"
     },
     "execution_count": 140,
     "metadata": {},
     "output_type": "execute_result"
    }
   ],
   "source": [
    "targetDF = targetDF.replace({'Bream': 0, 'Smelt':1})\n",
    "targetDF.dtype, targetDF.head(2)"
   ],
   "metadata": {
    "collapsed": false,
    "ExecuteTime": {
     "end_time": "2024-02-26T07:19:39.964656800Z",
     "start_time": "2024-02-26T07:19:39.892592600Z"
    }
   },
   "id": "bd9e4e7c8bb159cb",
   "execution_count": 140
  },
  {
   "cell_type": "markdown",
   "source": [
    "(3-1) 학습/테스트 데이터셋 분리 <hr>\n",
    "- 지도학습 중 분류 => [고려] 타겟의 비율\n",
    "- 학습 : 테스트 = 80 : 20"
   ],
   "metadata": {
    "collapsed": false
   },
   "id": "652c3f4e9c6b9a41"
  },
  {
   "cell_type": "code",
   "outputs": [],
   "source": [
    "# 모듈 로딩\n",
    "from sklearn.model_selection import train_test_split"
   ],
   "metadata": {
    "collapsed": false,
    "ExecuteTime": {
     "end_time": "2024-02-26T07:19:40.035518300Z",
     "start_time": "2024-02-26T07:19:39.950279Z"
    }
   },
   "id": "5730580c735cf5fc",
   "execution_count": 141
  },
  {
   "cell_type": "code",
   "outputs": [],
   "source": [
    "X_train, X_test, y_train, y_test = train_test_split(featureDF, \n",
    "                                                    targetDF, \n",
    "                                                    test_size = 0.2, \n",
    "                                                    stratify = targetDF)"
   ],
   "metadata": {
    "collapsed": false,
    "ExecuteTime": {
     "end_time": "2024-02-26T07:19:40.107908800Z",
     "start_time": "2024-02-26T07:19:40.041947700Z"
    }
   },
   "id": "f6108617036ff0e5",
   "execution_count": 142
  },
  {
   "cell_type": "code",
   "outputs": [
    {
     "name": "stdout",
     "output_type": "stream",
     "text": [
      "학습용 데이터셋\n",
      "X_train.shape: (39, 2)\n",
      "y_train.shape: (39,)\n",
      "\n",
      "Species\n",
      "0    0.717949\n",
      "1    0.282051\n",
      "Name: count, dtype: float64\n",
      "\n",
      "테스트용 데이터셋\n",
      "X_test.shape: (10, 2)\n",
      "y_test.shape: (10,)\n"
     ]
    }
   ],
   "source": [
    "# 학습 및 테스트 데이터셋 확인\n",
    "print('학습용 데이터셋')\n",
    "print(f\"X_train.shape: {X_train.shape}\")\n",
    "print(f\"y_train.shape: {y_train.shape}\") #X,y의 shape에서 행의 숫자부분이 서로 동일한가 확인함\n",
    "print()\n",
    "print(y_train.value_counts()/y_train.shape[0])\n",
    "print()\n",
    "print('테스트용 데이터셋')\n",
    "print(f\"X_test.shape: {X_test.shape}\")\n",
    "print(f\"y_test.shape: {y_test.shape}\")"
   ],
   "metadata": {
    "collapsed": false,
    "ExecuteTime": {
     "end_time": "2024-02-26T07:19:40.129344900Z",
     "start_time": "2024-02-26T07:19:40.071700700Z"
    }
   },
   "id": "af337c744227bea6",
   "execution_count": 143
  },
  {
   "cell_type": "markdown",
   "source": [
    "(3-2) 피쳐 데이터의 스케일링 <hr>\n",
    "- 피쳐들의 값의 범위가 다른 것을 통일시켜줌\n",
    "- scikit-learn의 preprocessing 모듈 활용"
   ],
   "metadata": {
    "collapsed": false
   },
   "id": "5b8104c81b2dfd89"
  },
  {
   "cell_type": "code",
   "outputs": [],
   "source": [
    "# 모듈로딩\n",
    "from sklearn.preprocessing import StandardScaler"
   ],
   "metadata": {
    "collapsed": false,
    "ExecuteTime": {
     "end_time": "2024-02-26T07:19:40.150499100Z",
     "start_time": "2024-02-26T07:19:40.116280800Z"
    }
   },
   "id": "e38518a07826c409",
   "execution_count": 144
  },
  {
   "cell_type": "code",
   "outputs": [],
   "source": [
    "# 표준 정규분포 스케일링 : 평균 0, 편차 1\n",
    "# (1) 스케일러 인스턴스 생성\n",
    "# (2) 데이터에 대한 평균, 표준편차 계산 진행 : fit( ) 메서드\n",
    "# (3) 데이터에 대한 스케일링 진행 : transform( ) 메서드"
   ],
   "metadata": {
    "collapsed": false,
    "ExecuteTime": {
     "end_time": "2024-02-26T07:19:40.191544800Z",
     "start_time": "2024-02-26T07:19:40.140678600Z"
    }
   },
   "id": "2b2b956987110167",
   "execution_count": 145
  },
  {
   "cell_type": "code",
   "outputs": [
    {
     "data": {
      "text/plain": "StandardScaler()",
      "text/html": "<style>#sk-container-id-13 {color: black;}#sk-container-id-13 pre{padding: 0;}#sk-container-id-13 div.sk-toggleable {background-color: white;}#sk-container-id-13 label.sk-toggleable__label {cursor: pointer;display: block;width: 100%;margin-bottom: 0;padding: 0.3em;box-sizing: border-box;text-align: center;}#sk-container-id-13 label.sk-toggleable__label-arrow:before {content: \"▸\";float: left;margin-right: 0.25em;color: #696969;}#sk-container-id-13 label.sk-toggleable__label-arrow:hover:before {color: black;}#sk-container-id-13 div.sk-estimator:hover label.sk-toggleable__label-arrow:before {color: black;}#sk-container-id-13 div.sk-toggleable__content {max-height: 0;max-width: 0;overflow: hidden;text-align: left;background-color: #f0f8ff;}#sk-container-id-13 div.sk-toggleable__content pre {margin: 0.2em;color: black;border-radius: 0.25em;background-color: #f0f8ff;}#sk-container-id-13 input.sk-toggleable__control:checked~div.sk-toggleable__content {max-height: 200px;max-width: 100%;overflow: auto;}#sk-container-id-13 input.sk-toggleable__control:checked~label.sk-toggleable__label-arrow:before {content: \"▾\";}#sk-container-id-13 div.sk-estimator input.sk-toggleable__control:checked~label.sk-toggleable__label {background-color: #d4ebff;}#sk-container-id-13 div.sk-label input.sk-toggleable__control:checked~label.sk-toggleable__label {background-color: #d4ebff;}#sk-container-id-13 input.sk-hidden--visually {border: 0;clip: rect(1px 1px 1px 1px);clip: rect(1px, 1px, 1px, 1px);height: 1px;margin: -1px;overflow: hidden;padding: 0;position: absolute;width: 1px;}#sk-container-id-13 div.sk-estimator {font-family: monospace;background-color: #f0f8ff;border: 1px dotted black;border-radius: 0.25em;box-sizing: border-box;margin-bottom: 0.5em;}#sk-container-id-13 div.sk-estimator:hover {background-color: #d4ebff;}#sk-container-id-13 div.sk-parallel-item::after {content: \"\";width: 100%;border-bottom: 1px solid gray;flex-grow: 1;}#sk-container-id-13 div.sk-label:hover label.sk-toggleable__label {background-color: #d4ebff;}#sk-container-id-13 div.sk-serial::before {content: \"\";position: absolute;border-left: 1px solid gray;box-sizing: border-box;top: 0;bottom: 0;left: 50%;z-index: 0;}#sk-container-id-13 div.sk-serial {display: flex;flex-direction: column;align-items: center;background-color: white;padding-right: 0.2em;padding-left: 0.2em;position: relative;}#sk-container-id-13 div.sk-item {position: relative;z-index: 1;}#sk-container-id-13 div.sk-parallel {display: flex;align-items: stretch;justify-content: center;background-color: white;position: relative;}#sk-container-id-13 div.sk-item::before, #sk-container-id-13 div.sk-parallel-item::before {content: \"\";position: absolute;border-left: 1px solid gray;box-sizing: border-box;top: 0;bottom: 0;left: 50%;z-index: -1;}#sk-container-id-13 div.sk-parallel-item {display: flex;flex-direction: column;z-index: 1;position: relative;background-color: white;}#sk-container-id-13 div.sk-parallel-item:first-child::after {align-self: flex-end;width: 50%;}#sk-container-id-13 div.sk-parallel-item:last-child::after {align-self: flex-start;width: 50%;}#sk-container-id-13 div.sk-parallel-item:only-child::after {width: 0;}#sk-container-id-13 div.sk-dashed-wrapped {border: 1px dashed gray;margin: 0 0.4em 0.5em 0.4em;box-sizing: border-box;padding-bottom: 0.4em;background-color: white;}#sk-container-id-13 div.sk-label label {font-family: monospace;font-weight: bold;display: inline-block;line-height: 1.2em;}#sk-container-id-13 div.sk-label-container {text-align: center;}#sk-container-id-13 div.sk-container {/* jupyter's `normalize.less` sets `[hidden] { display: none; }` but bootstrap.min.css set `[hidden] { display: none !important; }` so we also need the `!important` here to be able to override the default hidden behavior on the sphinx rendered scikit-learn.org. See: https://github.com/scikit-learn/scikit-learn/issues/21755 */display: inline-block !important;position: relative;}#sk-container-id-13 div.sk-text-repr-fallback {display: none;}</style><div id=\"sk-container-id-13\" class=\"sk-top-container\"><div class=\"sk-text-repr-fallback\"><pre>StandardScaler()</pre><b>In a Jupyter environment, please rerun this cell to show the HTML representation or trust the notebook. <br />On GitHub, the HTML representation is unable to render, please try loading this page with nbviewer.org.</b></div><div class=\"sk-container\" hidden><div class=\"sk-item\"><div class=\"sk-estimator sk-toggleable\"><input class=\"sk-toggleable__control sk-hidden--visually\" id=\"sk-estimator-id-13\" type=\"checkbox\" checked><label for=\"sk-estimator-id-13\" class=\"sk-toggleable__label sk-toggleable__label-arrow\">StandardScaler</label><div class=\"sk-toggleable__content\"><pre>StandardScaler()</pre></div></div></div></div></div>"
     },
     "execution_count": 146,
     "metadata": {},
     "output_type": "execute_result"
    }
   ],
   "source": [
    "scaler = StandardScaler()\n",
    "scaler"
   ],
   "metadata": {
    "collapsed": false,
    "ExecuteTime": {
     "end_time": "2024-02-26T07:19:40.211475600Z",
     "start_time": "2024-02-26T07:19:40.160948300Z"
    }
   },
   "id": "c795fe27368eb2a",
   "execution_count": 146
  },
  {
   "cell_type": "code",
   "outputs": [
    {
     "data": {
      "text/plain": "StandardScaler()",
      "text/html": "<style>#sk-container-id-14 {color: black;}#sk-container-id-14 pre{padding: 0;}#sk-container-id-14 div.sk-toggleable {background-color: white;}#sk-container-id-14 label.sk-toggleable__label {cursor: pointer;display: block;width: 100%;margin-bottom: 0;padding: 0.3em;box-sizing: border-box;text-align: center;}#sk-container-id-14 label.sk-toggleable__label-arrow:before {content: \"▸\";float: left;margin-right: 0.25em;color: #696969;}#sk-container-id-14 label.sk-toggleable__label-arrow:hover:before {color: black;}#sk-container-id-14 div.sk-estimator:hover label.sk-toggleable__label-arrow:before {color: black;}#sk-container-id-14 div.sk-toggleable__content {max-height: 0;max-width: 0;overflow: hidden;text-align: left;background-color: #f0f8ff;}#sk-container-id-14 div.sk-toggleable__content pre {margin: 0.2em;color: black;border-radius: 0.25em;background-color: #f0f8ff;}#sk-container-id-14 input.sk-toggleable__control:checked~div.sk-toggleable__content {max-height: 200px;max-width: 100%;overflow: auto;}#sk-container-id-14 input.sk-toggleable__control:checked~label.sk-toggleable__label-arrow:before {content: \"▾\";}#sk-container-id-14 div.sk-estimator input.sk-toggleable__control:checked~label.sk-toggleable__label {background-color: #d4ebff;}#sk-container-id-14 div.sk-label input.sk-toggleable__control:checked~label.sk-toggleable__label {background-color: #d4ebff;}#sk-container-id-14 input.sk-hidden--visually {border: 0;clip: rect(1px 1px 1px 1px);clip: rect(1px, 1px, 1px, 1px);height: 1px;margin: -1px;overflow: hidden;padding: 0;position: absolute;width: 1px;}#sk-container-id-14 div.sk-estimator {font-family: monospace;background-color: #f0f8ff;border: 1px dotted black;border-radius: 0.25em;box-sizing: border-box;margin-bottom: 0.5em;}#sk-container-id-14 div.sk-estimator:hover {background-color: #d4ebff;}#sk-container-id-14 div.sk-parallel-item::after {content: \"\";width: 100%;border-bottom: 1px solid gray;flex-grow: 1;}#sk-container-id-14 div.sk-label:hover label.sk-toggleable__label {background-color: #d4ebff;}#sk-container-id-14 div.sk-serial::before {content: \"\";position: absolute;border-left: 1px solid gray;box-sizing: border-box;top: 0;bottom: 0;left: 50%;z-index: 0;}#sk-container-id-14 div.sk-serial {display: flex;flex-direction: column;align-items: center;background-color: white;padding-right: 0.2em;padding-left: 0.2em;position: relative;}#sk-container-id-14 div.sk-item {position: relative;z-index: 1;}#sk-container-id-14 div.sk-parallel {display: flex;align-items: stretch;justify-content: center;background-color: white;position: relative;}#sk-container-id-14 div.sk-item::before, #sk-container-id-14 div.sk-parallel-item::before {content: \"\";position: absolute;border-left: 1px solid gray;box-sizing: border-box;top: 0;bottom: 0;left: 50%;z-index: -1;}#sk-container-id-14 div.sk-parallel-item {display: flex;flex-direction: column;z-index: 1;position: relative;background-color: white;}#sk-container-id-14 div.sk-parallel-item:first-child::after {align-self: flex-end;width: 50%;}#sk-container-id-14 div.sk-parallel-item:last-child::after {align-self: flex-start;width: 50%;}#sk-container-id-14 div.sk-parallel-item:only-child::after {width: 0;}#sk-container-id-14 div.sk-dashed-wrapped {border: 1px dashed gray;margin: 0 0.4em 0.5em 0.4em;box-sizing: border-box;padding-bottom: 0.4em;background-color: white;}#sk-container-id-14 div.sk-label label {font-family: monospace;font-weight: bold;display: inline-block;line-height: 1.2em;}#sk-container-id-14 div.sk-label-container {text-align: center;}#sk-container-id-14 div.sk-container {/* jupyter's `normalize.less` sets `[hidden] { display: none; }` but bootstrap.min.css set `[hidden] { display: none !important; }` so we also need the `!important` here to be able to override the default hidden behavior on the sphinx rendered scikit-learn.org. See: https://github.com/scikit-learn/scikit-learn/issues/21755 */display: inline-block !important;position: relative;}#sk-container-id-14 div.sk-text-repr-fallback {display: none;}</style><div id=\"sk-container-id-14\" class=\"sk-top-container\"><div class=\"sk-text-repr-fallback\"><pre>StandardScaler()</pre><b>In a Jupyter environment, please rerun this cell to show the HTML representation or trust the notebook. <br />On GitHub, the HTML representation is unable to render, please try loading this page with nbviewer.org.</b></div><div class=\"sk-container\" hidden><div class=\"sk-item\"><div class=\"sk-estimator sk-toggleable\"><input class=\"sk-toggleable__control sk-hidden--visually\" id=\"sk-estimator-id-14\" type=\"checkbox\" checked><label for=\"sk-estimator-id-14\" class=\"sk-toggleable__label sk-toggleable__label-arrow\">StandardScaler</label><div class=\"sk-toggleable__content\"><pre>StandardScaler()</pre></div></div></div></div></div>"
     },
     "execution_count": 147,
     "metadata": {},
     "output_type": "execute_result"
    }
   ],
   "source": [
    "scaler.fit(X_train)"
   ],
   "metadata": {
    "collapsed": false,
    "ExecuteTime": {
     "end_time": "2024-02-26T07:19:40.252908700Z",
     "start_time": "2024-02-26T07:19:40.203065700Z"
    }
   },
   "id": "45090e475de1aff7",
   "execution_count": 147
  },
  {
   "cell_type": "code",
   "outputs": [
    {
     "data": {
      "text/plain": "array([435.77435897,  27.1025641 ])"
     },
     "execution_count": 148,
     "metadata": {},
     "output_type": "execute_result"
    }
   ],
   "source": [
    "scaler.mean_"
   ],
   "metadata": {
    "collapsed": false,
    "ExecuteTime": {
     "end_time": "2024-02-26T07:19:40.266625800Z",
     "start_time": "2024-02-26T07:19:40.242455Z"
    }
   },
   "id": "92e61098f988555d",
   "execution_count": 148
  },
  {
   "cell_type": "code",
   "outputs": [
    {
     "data": {
      "text/plain": "(39, 2)"
     },
     "execution_count": 149,
     "metadata": {},
     "output_type": "execute_result"
    }
   ],
   "source": [
    "# 학습용 데이터 피쳐 스케일링\n",
    "scaled_X_train = scaler.transform(X_train)\n",
    "scaled_X_train.shape"
   ],
   "metadata": {
    "collapsed": false,
    "ExecuteTime": {
     "end_time": "2024-02-26T07:19:40.311892600Z",
     "start_time": "2024-02-26T07:19:40.273104300Z"
    }
   },
   "id": "679e57af5d674124",
   "execution_count": 149
  },
  {
   "cell_type": "code",
   "outputs": [
    {
     "data": {
      "text/plain": "(10, 2)"
     },
     "execution_count": 150,
     "metadata": {},
     "output_type": "execute_result"
    }
   ],
   "source": [
    "# 테스트용 데이터 피쳐 스케일링\n",
    "scaled_X_test = scaler.transform(X_test)\n",
    "scaled_X_test.shape\n",
    "\n",
    "# X_test는 fit 할 필요가 없다. (검증용이니까)\n",
    "# X_train을 fit한 상태에서 그 후에 스케일링을 진행한것이기 때문이다."
   ],
   "metadata": {
    "collapsed": false,
    "ExecuteTime": {
     "end_time": "2024-02-26T07:19:40.340339300Z",
     "start_time": "2024-02-26T07:19:40.301315900Z"
    }
   },
   "id": "68bdcbc629787ab1",
   "execution_count": 150
  },
  {
   "cell_type": "markdown",
   "source": [
    "(3-3) 시각화"
   ],
   "metadata": {
    "collapsed": false
   },
   "id": "206efdf45acf439f"
  },
  {
   "cell_type": "code",
   "outputs": [],
   "source": [
    "# 모듈로딩\n",
    "import matplotlib.pyplot as plt"
   ],
   "metadata": {
    "collapsed": false,
    "ExecuteTime": {
     "end_time": "2024-02-26T07:19:40.375459500Z",
     "start_time": "2024-02-26T07:19:40.343422800Z"
    }
   },
   "id": "672b7d02b3f57bd7",
   "execution_count": 151
  },
  {
   "cell_type": "code",
   "outputs": [
    {
     "data": {
      "text/plain": "<Figure size 640x480 with 1 Axes>",
      "image/png": "[encoded data removed]"
     },
     "metadata": {},
     "output_type": "display_data"
    }
   ],
   "source": [
    "## => 원본 데이터 시각화\n",
    "plt.scatter(X_train['Weight'], X_train['Length'],  c= y_train)\n",
    "plt.xlabel('Weight')\n",
    "plt.ylabel('Length')\n",
    "plt.show()"
   ],
   "metadata": {
    "collapsed": false,
    "ExecuteTime": {
     "end_time": "2024-02-26T07:19:40.506607900Z",
     "start_time": "2024-02-26T07:19:40.364709200Z"
    }
   },
   "id": "b961a376d9f68066",
   "execution_count": 152
  },
  {
   "cell_type": "code",
   "outputs": [
    {
     "data": {
      "text/plain": "<Figure size 640x480 with 1 Axes>",
      "image/png": "[encoded data removed]"
     },
     "metadata": {},
     "output_type": "display_data"
    }
   ],
   "source": [
    "## -> 스케일된 데이터의 시각화\n",
    "#scaled_x_test\n",
    "plt.scatter(scaled_X_train[:, 0], scaled_X_train[:, 1], c = y_train)\n",
    "#스케일링된 넘은 np array 타입이라 이렇게 접근해야함\n",
    "\n",
    "plt.xlabel('Weight')\n",
    "plt.ylabel('Length')\n",
    "plt.show()"
   ],
   "metadata": {
    "collapsed": false,
    "ExecuteTime": {
     "end_time": "2024-02-26T07:19:40.625573300Z",
     "start_time": "2024-02-26T07:19:40.469303700Z"
    }
   },
   "id": "34bd66d5ef28e3da",
   "execution_count": 153
  },
  {
   "cell_type": "markdown",
   "source": [
    "(4) 학습 진행"
   ],
   "metadata": {
    "collapsed": false
   },
   "id": "71c56f85d2754567"
  },
  {
   "cell_type": "code",
   "outputs": [
    {
     "data": {
      "text/plain": "39"
     },
     "execution_count": 154,
     "metadata": {},
     "output_type": "execute_result"
    }
   ],
   "source": [
    "## 방법(1) : KNN 알고리즘\n",
    "## 모델 성능 좌우하는 매개변수 => 하이퍼파라미터 : n_neighbors\n",
    "## n_neighbors 즉 k의 갯수 : 1 ~ 전체 데이터 수\n",
    "max_k = scaled_X_train.shape[0]\n",
    "max_k"
   ],
   "metadata": {
    "collapsed": false,
    "ExecuteTime": {
     "end_time": "2024-02-26T07:19:40.627684100Z",
     "start_time": "2024-02-26T07:19:40.578881300Z"
    }
   },
   "id": "426bd0feed9f2d4",
   "execution_count": 154
  },
  {
   "cell_type": "code",
   "outputs": [],
   "source": [
    "train_scoreList = []\n",
    "test_scoreList = []\n",
    "for k in range(1, max_k+1):\n",
    "    model = KNeighborsClassifier(n_neighbors=k)\n",
    "    model.fit(scaled_X_train, y_train)\n",
    "    train_scoreList.append(model.score(scaled_X_train, y_train))\n",
    "    test_scoreList.append(model.score(scaled_X_test, y_test))"
   ],
   "metadata": {
    "collapsed": false,
    "ExecuteTime": {
     "end_time": "2024-02-26T07:19:41.683099100Z",
     "start_time": "2024-02-26T07:19:40.594797600Z"
    }
   },
   "id": "a4beaf352ec78f75",
   "execution_count": 155
  },
  {
   "cell_type": "code",
   "outputs": [
    {
     "name": "stdout",
     "output_type": "stream",
     "text": [
      "Train Score : [1.0, 1.0, 1.0, 1.0, 1.0, 1.0, 1.0, 1.0, 1.0, 1.0, 1.0, 1.0, 1.0, 1.0, 1.0, 1.0, 1.0, 1.0, 1.0, 1.0, 1.0, 0.717948717948718, 0.717948717948718, 0.717948717948718, 0.717948717948718, 0.717948717948718, 0.717948717948718, 0.717948717948718, 0.717948717948718, 0.717948717948718, 0.717948717948718, 0.717948717948718, 0.717948717948718, 0.717948717948718, 0.717948717948718, 0.717948717948718, 0.717948717948718, 0.717948717948718, 0.717948717948718]\n",
      "Test Score : [1.0, 1.0, 1.0, 1.0, 1.0, 1.0, 1.0, 1.0, 1.0, 1.0, 1.0, 1.0, 1.0, 1.0, 1.0, 1.0, 1.0, 1.0, 1.0, 1.0, 1.0, 0.7, 0.7, 0.7, 0.7, 0.7, 0.7, 0.7, 0.7, 0.7, 0.7, 0.7, 0.7, 0.7, 0.7, 0.7, 0.7, 0.7, 0.7]\n"
     ]
    }
   ],
   "source": [
    "# 학습 및 테스트 데이터에 대한 점수 확인\n",
    "print(f\"Train Score : {train_scoreList}\")\n",
    "print(f\"Test Score : {test_scoreList}\")"
   ],
   "metadata": {
    "collapsed": false,
    "ExecuteTime": {
     "end_time": "2024-02-26T07:19:41.702444900Z",
     "start_time": "2024-02-26T07:19:41.686163200Z"
    }
   },
   "id": "dc33f0d0a008c9e6",
   "execution_count": 156
  },
  {
   "cell_type": "code",
   "outputs": [
    {
     "data": {
      "text/plain": "<Figure size 640x480 with 1 Axes>",
      "image/png": "[encoded data removed]"
     },
     "metadata": {},
     "output_type": "display_data"
    }
   ],
   "source": [
    "# K 개수에 따른 학습용/테스트용 점수 시각화\n",
    "plt.plot(train_scoreList, 'b--', label = 'Train Score')\n",
    "plt.plot(test_scoreList, 'r--', label = 'Test Score')\n",
    "plt.title('K & Score')\n",
    "plt.xlabel('K')\n",
    "plt.ylabel('Score')\n",
    "plt.legend()\n",
    "plt.show()"
   ],
   "metadata": {
    "collapsed": false,
    "ExecuteTime": {
     "end_time": "2024-02-26T07:19:41.836027700Z",
     "start_time": "2024-02-26T07:19:41.701082400Z"
    }
   },
   "id": "d4634afc26489de2",
   "execution_count": 157
  },
  {
   "cell_type": "code",
   "outputs": [],
   "source": [],
   "metadata": {
    "collapsed": false,
    "ExecuteTime": {
     "end_time": "2024-02-26T07:19:41.851596200Z",
     "start_time": "2024-02-26T07:19:41.837024900Z"
    }
   },
   "id": "9cb774c4a4b5989b",
   "execution_count": 157
  },
  {
   "cell_type": "code",
   "outputs": [],
   "source": [],
   "metadata": {
    "collapsed": false,
    "ExecuteTime": {
     "end_time": "2024-02-26T07:19:41.887585200Z",
     "start_time": "2024-02-26T07:19:41.852593400Z"
    }
   },
   "id": "24b8dda57501e580",
   "execution_count": 157
  },
  {
   "cell_type": "code",
   "outputs": [],
   "source": [],
   "metadata": {
    "collapsed": false,
    "ExecuteTime": {
     "end_time": "2024-02-26T07:19:41.889662900Z",
     "start_time": "2024-02-26T07:19:41.868345Z"
    }
   },
   "id": "6645c4b323609857",
   "execution_count": 157
  },
  {
   "cell_type": "code",
   "outputs": [
    {
     "data": {
      "text/plain": "SVC()",
      "text/html": "<style>#sk-container-id-15 {color: black;}#sk-container-id-15 pre{padding: 0;}#sk-container-id-15 div.sk-toggleable {background-color: white;}#sk-container-id-15 label.sk-toggleable__label {cursor: pointer;display: block;width: 100%;margin-bottom: 0;padding: 0.3em;box-sizing: border-box;text-align: center;}#sk-container-id-15 label.sk-toggleable__label-arrow:before {content: \"▸\";float: left;margin-right: 0.25em;color: #696969;}#sk-container-id-15 label.sk-toggleable__label-arrow:hover:before {color: black;}#sk-container-id-15 div.sk-estimator:hover label.sk-toggleable__label-arrow:before {color: black;}#sk-container-id-15 div.sk-toggleable__content {max-height: 0;max-width: 0;overflow: hidden;text-align: left;background-color: #f0f8ff;}#sk-container-id-15 div.sk-toggleable__content pre {margin: 0.2em;color: black;border-radius: 0.25em;background-color: #f0f8ff;}#sk-container-id-15 input.sk-toggleable__control:checked~div.sk-toggleable__content {max-height: 200px;max-width: 100%;overflow: auto;}#sk-container-id-15 input.sk-toggleable__control:checked~label.sk-toggleable__label-arrow:before {content: \"▾\";}#sk-container-id-15 div.sk-estimator input.sk-toggleable__control:checked~label.sk-toggleable__label {background-color: #d4ebff;}#sk-container-id-15 div.sk-label input.sk-toggleable__control:checked~label.sk-toggleable__label {background-color: #d4ebff;}#sk-container-id-15 input.sk-hidden--visually {border: 0;clip: rect(1px 1px 1px 1px);clip: rect(1px, 1px, 1px, 1px);height: 1px;margin: -1px;overflow: hidden;padding: 0;position: absolute;width: 1px;}#sk-container-id-15 div.sk-estimator {font-family: monospace;background-color: #f0f8ff;border: 1px dotted black;border-radius: 0.25em;box-sizing: border-box;margin-bottom: 0.5em;}#sk-container-id-15 div.sk-estimator:hover {background-color: #d4ebff;}#sk-container-id-15 div.sk-parallel-item::after {content: \"\";width: 100%;border-bottom: 1px solid gray;flex-grow: 1;}#sk-container-id-15 div.sk-label:hover label.sk-toggleable__label {background-color: #d4ebff;}#sk-container-id-15 div.sk-serial::before {content: \"\";position: absolute;border-left: 1px solid gray;box-sizing: border-box;top: 0;bottom: 0;left: 50%;z-index: 0;}#sk-container-id-15 div.sk-serial {display: flex;flex-direction: column;align-items: center;background-color: white;padding-right: 0.2em;padding-left: 0.2em;position: relative;}#sk-container-id-15 div.sk-item {position: relative;z-index: 1;}#sk-container-id-15 div.sk-parallel {display: flex;align-items: stretch;justify-content: center;background-color: white;position: relative;}#sk-container-id-15 div.sk-item::before, #sk-container-id-15 div.sk-parallel-item::before {content: \"\";position: absolute;border-left: 1px solid gray;box-sizing: border-box;top: 0;bottom: 0;left: 50%;z-index: -1;}#sk-container-id-15 div.sk-parallel-item {display: flex;flex-direction: column;z-index: 1;position: relative;background-color: white;}#sk-container-id-15 div.sk-parallel-item:first-child::after {align-self: flex-end;width: 50%;}#sk-container-id-15 div.sk-parallel-item:last-child::after {align-self: flex-start;width: 50%;}#sk-container-id-15 div.sk-parallel-item:only-child::after {width: 0;}#sk-container-id-15 div.sk-dashed-wrapped {border: 1px dashed gray;margin: 0 0.4em 0.5em 0.4em;box-sizing: border-box;padding-bottom: 0.4em;background-color: white;}#sk-container-id-15 div.sk-label label {font-family: monospace;font-weight: bold;display: inline-block;line-height: 1.2em;}#sk-container-id-15 div.sk-label-container {text-align: center;}#sk-container-id-15 div.sk-container {/* jupyter's `normalize.less` sets `[hidden] { display: none; }` but bootstrap.min.css set `[hidden] { display: none !important; }` so we also need the `!important` here to be able to override the default hidden behavior on the sphinx rendered scikit-learn.org. See: https://github.com/scikit-learn/scikit-learn/issues/21755 */display: inline-block !important;position: relative;}#sk-container-id-15 div.sk-text-repr-fallback {display: none;}</style><div id=\"sk-container-id-15\" class=\"sk-top-container\"><div class=\"sk-text-repr-fallback\"><pre>SVC()</pre><b>In a Jupyter environment, please rerun this cell to show the HTML representation or trust the notebook. <br />On GitHub, the HTML representation is unable to render, please try loading this page with nbviewer.org.</b></div><div class=\"sk-container\" hidden><div class=\"sk-item\"><div class=\"sk-estimator sk-toggleable\"><input class=\"sk-toggleable__control sk-hidden--visually\" id=\"sk-estimator-id-15\" type=\"checkbox\" checked><label for=\"sk-estimator-id-15\" class=\"sk-toggleable__label sk-toggleable__label-arrow\">SVC</label><div class=\"sk-toggleable__content\"><pre>SVC()</pre></div></div></div></div></div>"
     },
     "execution_count": 158,
     "metadata": {},
     "output_type": "execute_result"
    }
   ],
   "source": [
    "## 방법(2) : SVC 알고리즘\n",
    "from sklearn.svm import SVC\n",
    "\n",
    "# 학습\n",
    "fishModel2 = SVC()\n",
    "fishModel2.fit(scaled_X_train, y_train)\n",
    "\n",
    "#어떤 알고리즘이 더 나은가는 score 해서 비교해보면 된다."
   ],
   "metadata": {
    "collapsed": false,
    "ExecuteTime": {
     "end_time": "2024-02-26T07:19:41.933818Z",
     "start_time": "2024-02-26T07:19:41.883454300Z"
    }
   },
   "id": "d6189c7d5d91ccff",
   "execution_count": 158
  },
  {
   "cell_type": "code",
   "outputs": [
    {
     "data": {
      "text/plain": "LogisticRegression()",
      "text/html": "<style>#sk-container-id-16 {color: black;}#sk-container-id-16 pre{padding: 0;}#sk-container-id-16 div.sk-toggleable {background-color: white;}#sk-container-id-16 label.sk-toggleable__label {cursor: pointer;display: block;width: 100%;margin-bottom: 0;padding: 0.3em;box-sizing: border-box;text-align: center;}#sk-container-id-16 label.sk-toggleable__label-arrow:before {content: \"▸\";float: left;margin-right: 0.25em;color: #696969;}#sk-container-id-16 label.sk-toggleable__label-arrow:hover:before {color: black;}#sk-container-id-16 div.sk-estimator:hover label.sk-toggleable__label-arrow:before {color: black;}#sk-container-id-16 div.sk-toggleable__content {max-height: 0;max-width: 0;overflow: hidden;text-align: left;background-color: #f0f8ff;}#sk-container-id-16 div.sk-toggleable__content pre {margin: 0.2em;color: black;border-radius: 0.25em;background-color: #f0f8ff;}#sk-container-id-16 input.sk-toggleable__control:checked~div.sk-toggleable__content {max-height: 200px;max-width: 100%;overflow: auto;}#sk-container-id-16 input.sk-toggleable__control:checked~label.sk-toggleable__label-arrow:before {content: \"▾\";}#sk-container-id-16 div.sk-estimator input.sk-toggleable__control:checked~label.sk-toggleable__label {background-color: #d4ebff;}#sk-container-id-16 div.sk-label input.sk-toggleable__control:checked~label.sk-toggleable__label {background-color: #d4ebff;}#sk-container-id-16 input.sk-hidden--visually {border: 0;clip: rect(1px 1px 1px 1px);clip: rect(1px, 1px, 1px, 1px);height: 1px;margin: -1px;overflow: hidden;padding: 0;position: absolute;width: 1px;}#sk-container-id-16 div.sk-estimator {font-family: monospace;background-color: #f0f8ff;border: 1px dotted black;border-radius: 0.25em;box-sizing: border-box;margin-bottom: 0.5em;}#sk-container-id-16 div.sk-estimator:hover {background-color: #d4ebff;}#sk-container-id-16 div.sk-parallel-item::after {content: \"\";width: 100%;border-bottom: 1px solid gray;flex-grow: 1;}#sk-container-id-16 div.sk-label:hover label.sk-toggleable__label {background-color: #d4ebff;}#sk-container-id-16 div.sk-serial::before {content: \"\";position: absolute;border-left: 1px solid gray;box-sizing: border-box;top: 0;bottom: 0;left: 50%;z-index: 0;}#sk-container-id-16 div.sk-serial {display: flex;flex-direction: column;align-items: center;background-color: white;padding-right: 0.2em;padding-left: 0.2em;position: relative;}#sk-container-id-16 div.sk-item {position: relative;z-index: 1;}#sk-container-id-16 div.sk-parallel {display: flex;align-items: stretch;justify-content: center;background-color: white;position: relative;}#sk-container-id-16 div.sk-item::before, #sk-container-id-16 div.sk-parallel-item::before {content: \"\";position: absolute;border-left: 1px solid gray;box-sizing: border-box;top: 0;bottom: 0;left: 50%;z-index: -1;}#sk-container-id-16 div.sk-parallel-item {display: flex;flex-direction: column;z-index: 1;position: relative;background-color: white;}#sk-container-id-16 div.sk-parallel-item:first-child::after {align-self: flex-end;width: 50%;}#sk-container-id-16 div.sk-parallel-item:last-child::after {align-self: flex-start;width: 50%;}#sk-container-id-16 div.sk-parallel-item:only-child::after {width: 0;}#sk-container-id-16 div.sk-dashed-wrapped {border: 1px dashed gray;margin: 0 0.4em 0.5em 0.4em;box-sizing: border-box;padding-bottom: 0.4em;background-color: white;}#sk-container-id-16 div.sk-label label {font-family: monospace;font-weight: bold;display: inline-block;line-height: 1.2em;}#sk-container-id-16 div.sk-label-container {text-align: center;}#sk-container-id-16 div.sk-container {/* jupyter's `normalize.less` sets `[hidden] { display: none; }` but bootstrap.min.css set `[hidden] { display: none !important; }` so we also need the `!important` here to be able to override the default hidden behavior on the sphinx rendered scikit-learn.org. See: https://github.com/scikit-learn/scikit-learn/issues/21755 */display: inline-block !important;position: relative;}#sk-container-id-16 div.sk-text-repr-fallback {display: none;}</style><div id=\"sk-container-id-16\" class=\"sk-top-container\"><div class=\"sk-text-repr-fallback\"><pre>LogisticRegression()</pre><b>In a Jupyter environment, please rerun this cell to show the HTML representation or trust the notebook. <br />On GitHub, the HTML representation is unable to render, please try loading this page with nbviewer.org.</b></div><div class=\"sk-container\" hidden><div class=\"sk-item\"><div class=\"sk-estimator sk-toggleable\"><input class=\"sk-toggleable__control sk-hidden--visually\" id=\"sk-estimator-id-16\" type=\"checkbox\" checked><label for=\"sk-estimator-id-16\" class=\"sk-toggleable__label sk-toggleable__label-arrow\">LogisticRegression</label><div class=\"sk-toggleable__content\"><pre>LogisticRegression()</pre></div></div></div></div></div>"
     },
     "execution_count": 159,
     "metadata": {},
     "output_type": "execute_result"
    }
   ],
   "source": [
    "## 방법(3) : \n",
    "from sklearn.linear_model import LogisticRegression\n",
    "\n",
    "fishModel3 = LogisticRegression()\n",
    "fishModel3.fit(scaled_X_train, y_train)\n"
   ],
   "metadata": {
    "collapsed": false,
    "ExecuteTime": {
     "end_time": "2024-02-26T07:19:41.935813600Z",
     "start_time": "2024-02-26T07:19:41.902295400Z"
    }
   },
   "id": "13f5e9310bc8e4f3",
   "execution_count": 159
  },
  {
   "cell_type": "markdown",
   "source": [
    "(5) 테스트 진행"
   ],
   "metadata": {
    "collapsed": false
   },
   "id": "649c74b1a6f95bdd"
  },
  {
   "cell_type": "code",
   "outputs": [
    {
     "ename": "NameError",
     "evalue": "name 'fishModel' is not defined",
     "output_type": "error",
     "traceback": [
      "\u001B[1;31m---------------------------------------------------------------------------\u001B[0m",
      "\u001B[1;31mNameError\u001B[0m                                 Traceback (most recent call last)",
      "Cell \u001B[1;32mIn[160], line 1\u001B[0m\n\u001B[1;32m----> 1\u001B[0m \u001B[38;5;28mprint\u001B[39m(\u001B[38;5;124m'\u001B[39m\u001B[38;5;124mKNN\u001B[39m\u001B[38;5;124m'\u001B[39m, \u001B[43mfishModel\u001B[49m\u001B[38;5;241m.\u001B[39mscore(scaled_X_test, y_test))\n",
      "\u001B[1;31mNameError\u001B[0m: name 'fishModel' is not defined"
     ]
    }
   ],
   "source": [
    "print('KNN', fishModel.score(scaled_X_test, y_test))"
   ],
   "metadata": {
    "collapsed": false,
    "ExecuteTime": {
     "end_time": "2024-02-26T07:19:41.991465600Z",
     "start_time": "2024-02-26T07:19:41.920060800Z"
    }
   },
   "id": "34374fb03cc7a81a",
   "execution_count": 160
  },
  {
   "cell_type": "code",
   "outputs": [],
   "source": [
    "print('SVC ', fishModel2.score(scaled_X_test, y_test))"
   ],
   "metadata": {
    "collapsed": false,
    "ExecuteTime": {
     "start_time": "2024-02-26T07:19:41.948395600Z"
    }
   },
   "id": "ef75c9344e71151c",
   "execution_count": null
  },
  {
   "cell_type": "code",
   "outputs": [],
   "source": [
    "print('LogisticRegression ', fishModel3.score(scaled_X_test, y_test))"
   ],
   "metadata": {
    "collapsed": false,
    "ExecuteTime": {
     "start_time": "2024-02-26T07:19:41.949392600Z"
    }
   },
   "id": "f0de987f64082192",
   "execution_count": null
  },
  {
   "cell_type": "markdown",
   "source": [
    "(6) 예측"
   ],
   "metadata": {
    "collapsed": false
   },
   "id": "594ced09c8b52330"
  },
  {
   "cell_type": "code",
   "outputs": [],
   "source": [
    "## 길이 25, 무게 160인 생선의 품종 예측 -----------------------\n",
    "new_data = pd.DataFrame([[160,25]], columns = twoFishDF.columns[1:])\n",
    "new_data    #현재 스케일링 되지 않은 상태이다"
   ],
   "metadata": {
    "collapsed": false,
    "ExecuteTime": {
     "start_time": "2024-02-26T07:19:41.951451900Z"
    }
   },
   "id": "c17256981854a7a9",
   "execution_count": null
  },
  {
   "cell_type": "code",
   "outputs": [],
   "source": [
    "# 피쳐스케일링 진행\n",
    "scaled_new_data = scaler.transform(new_data)\n",
    "# 스케일링한 상태이다."
   ],
   "metadata": {
    "collapsed": false,
    "ExecuteTime": {
     "start_time": "2024-02-26T07:19:41.952563200Z"
    }
   },
   "id": "69f8f4bef66afa40",
   "execution_count": null
  },
  {
   "cell_type": "code",
   "outputs": [],
   "source": [
    "# 예측\n",
    "y_pre = fishModel.predict(scaled_new_data)\n",
    "y_pre"
   ],
   "metadata": {
    "collapsed": false,
    "ExecuteTime": {
     "start_time": "2024-02-26T07:19:41.953558500Z"
    }
   },
   "id": "f97a71fa7fdde4c6",
   "execution_count": null
  }
 ],
 "metadata": {
  "kernelspec": {
   "display_name": "Python 3",
   "language": "python",
   "name": "python3"
  },
  "language_info": {
   "codemirror_mode": {
    "name": "ipython",
    "version": 2
   },
   "file_extension": ".py",
   "mimetype": "text/x-python",
   "name": "python",
   "nbconvert_exporter": "python",
   "pygments_lexer": "ipython2",
   "version": "2.7.6"
  }
 },
 "nbformat": 4,
 "nbformat_minor": 5
}
