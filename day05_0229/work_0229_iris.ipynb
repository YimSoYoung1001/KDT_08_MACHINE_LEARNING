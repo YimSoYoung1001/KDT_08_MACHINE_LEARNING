{
 "cells": [
  {
   "cell_type": "markdown",
   "source": [
    "## iris 과제 - 임소영"
   ],
   "metadata": {
    "collapsed": false
   },
   "id": "b66c4b52b16989e4"
  },
  {
   "cell_type": "markdown",
   "source": [
    "#### 데이터 로딩 및 전처리"
   ],
   "metadata": {
    "collapsed": false
   },
   "id": "76a5e050118f9d5b"
  },
  {
   "cell_type": "code",
   "outputs": [],
   "source": [
    "# 샘플 데이터 관련 모듈\n",
    "from sklearn.datasets import load_iris\n",
    "\n",
    "# 데이터 준비 관련 모듈\n",
    "import pandas as pd\n",
    "import matplotlib.pyplot as plt\n",
    "import numpy as np\n",
    "from sklearn.preprocessing import LabelEncoder    #데이테 라벨을 바꾸는거\n",
    "\n",
    "# 학습 & 테스트용 데이터셋 준비 관련 모듈\n",
    "from sklearn.model_selection import train_test_split\n",
    "\n",
    "# 스케일링, 전처리 관련 모듈\n",
    "from sklearn.preprocessing import StandardScaler, MinMaxScaler, RobustScaler\n",
    "from sklearn.preprocessing import PolynomialFeatures\n",
    "\n",
    "# 알고리즘 관련 모듈\n",
    "from sklearn.neighbors import KNeighborsClassifier\n",
    "from sklearn.svm import SVC\n",
    "from sklearn.linear_model import LogisticRegression\n",
    "from sklearn.linear_model import LinearRegression\n",
    "from sklearn.multiclass import OneVsOneClassifier, OneVsRestClassifier\n",
    "\n",
    "# 성능평가 관련 모듈\n",
    "from sklearn.metrics import mean_absolute_error, mean_squared_error, r2_score\n",
    "from sklearn.metrics import accuracy_score, f1_score, precision_score, recall_score, confusion_matrix, classification_report"
   ],
   "metadata": {
    "collapsed": true,
    "ExecuteTime": {
     "end_time": "2024-03-03T04:47:24.816801Z",
     "start_time": "2024-03-03T04:47:24.807616Z"
    }
   },
   "id": "initial_id",
   "execution_count": 672
  },
  {
   "cell_type": "code",
   "outputs": [
    {
     "data": {
      "text/plain": "dict_keys(['data', 'target', 'frame', 'target_names', 'DESCR', 'feature_names', 'filename', 'data_module'])"
     },
     "execution_count": 673,
     "metadata": {},
     "output_type": "execute_result"
    }
   ],
   "source": [
    "file = load_iris()\n",
    "file.keys()"
   ],
   "metadata": {
    "collapsed": false,
    "ExecuteTime": {
     "end_time": "2024-03-03T04:47:24.860328Z",
     "start_time": "2024-03-03T04:47:24.852918Z"
    }
   },
   "id": "1be83671c9f3b200",
   "execution_count": 673
  },
  {
   "cell_type": "code",
   "outputs": [
    {
     "data": {
      "text/plain": "     sepal-length  sepal-width  petal-length  petal-width\n0             5.1          3.5           1.4          0.2\n1             4.9          3.0           1.4          0.2\n2             4.7          3.2           1.3          0.2\n3             4.6          3.1           1.5          0.2\n4             5.0          3.6           1.4          0.2\n..            ...          ...           ...          ...\n145           6.7          3.0           5.2          2.3\n146           6.3          2.5           5.0          1.9\n147           6.5          3.0           5.2          2.0\n148           6.2          3.4           5.4          2.3\n149           5.9          3.0           5.1          1.8\n\n[150 rows x 4 columns]",
      "text/html": "<div>\n<style scoped>\n    .dataframe tbody tr th:only-of-type {\n        vertical-align: middle;\n    }\n\n    .dataframe tbody tr th {\n        vertical-align: top;\n    }\n\n    .dataframe thead th {\n        text-align: right;\n    }\n</style>\n<table border=\"1\" class=\"dataframe\">\n  <thead>\n    <tr style=\"text-align: right;\">\n      <th></th>\n      <th>sepal-length</th>\n      <th>sepal-width</th>\n      <th>petal-length</th>\n      <th>petal-width</th>\n    </tr>\n  </thead>\n  <tbody>\n    <tr>\n      <th>0</th>\n      <td>5.1</td>\n      <td>3.5</td>\n      <td>1.4</td>\n      <td>0.2</td>\n    </tr>\n    <tr>\n      <th>1</th>\n      <td>4.9</td>\n      <td>3.0</td>\n      <td>1.4</td>\n      <td>0.2</td>\n    </tr>\n    <tr>\n      <th>2</th>\n      <td>4.7</td>\n      <td>3.2</td>\n      <td>1.3</td>\n      <td>0.2</td>\n    </tr>\n    <tr>\n      <th>3</th>\n      <td>4.6</td>\n      <td>3.1</td>\n      <td>1.5</td>\n      <td>0.2</td>\n    </tr>\n    <tr>\n      <th>4</th>\n      <td>5.0</td>\n      <td>3.6</td>\n      <td>1.4</td>\n      <td>0.2</td>\n    </tr>\n    <tr>\n      <th>...</th>\n      <td>...</td>\n      <td>...</td>\n      <td>...</td>\n      <td>...</td>\n    </tr>\n    <tr>\n      <th>145</th>\n      <td>6.7</td>\n      <td>3.0</td>\n      <td>5.2</td>\n      <td>2.3</td>\n    </tr>\n    <tr>\n      <th>146</th>\n      <td>6.3</td>\n      <td>2.5</td>\n      <td>5.0</td>\n      <td>1.9</td>\n    </tr>\n    <tr>\n      <th>147</th>\n      <td>6.5</td>\n      <td>3.0</td>\n      <td>5.2</td>\n      <td>2.0</td>\n    </tr>\n    <tr>\n      <th>148</th>\n      <td>6.2</td>\n      <td>3.4</td>\n      <td>5.4</td>\n      <td>2.3</td>\n    </tr>\n    <tr>\n      <th>149</th>\n      <td>5.9</td>\n      <td>3.0</td>\n      <td>5.1</td>\n      <td>1.8</td>\n    </tr>\n  </tbody>\n</table>\n<p>150 rows × 4 columns</p>\n</div>"
     },
     "execution_count": 674,
     "metadata": {},
     "output_type": "execute_result"
    }
   ],
   "source": [
    "data = file['data']\n",
    "data = pd.DataFrame(data, columns=['sepal-length', 'sepal-width', 'petal-length', 'petal-width'])\n",
    "data"
   ],
   "metadata": {
    "collapsed": false,
    "ExecuteTime": {
     "end_time": "2024-03-03T04:47:24.930988Z",
     "start_time": "2024-03-03T04:47:24.921758Z"
    }
   },
   "id": "290200eff52f9f21",
   "execution_count": 674
  },
  {
   "cell_type": "code",
   "outputs": [
    {
     "data": {
      "text/plain": "0      0\n1      0\n2      0\n3      0\n4      0\n      ..\n145    2\n146    2\n147    2\n148    2\n149    2\nName: variety, Length: 150, dtype: int32"
     },
     "execution_count": 675,
     "metadata": {},
     "output_type": "execute_result"
    }
   ],
   "source": [
    "target = file['target']\n",
    "target = pd.Series(target, name = 'variety')\n",
    "target"
   ],
   "metadata": {
    "collapsed": false,
    "ExecuteTime": {
     "end_time": "2024-03-03T04:47:24.936195Z",
     "start_time": "2024-03-03T04:47:24.932056Z"
    }
   },
   "id": "f47989c4b2c58438",
   "execution_count": 675
  },
  {
   "cell_type": "code",
   "outputs": [
    {
     "data": {
      "text/plain": "array(['setosa', 'versicolor', 'virginica'], dtype='<U10')"
     },
     "execution_count": 676,
     "metadata": {},
     "output_type": "execute_result"
    }
   ],
   "source": [
    "file['target_names']"
   ],
   "metadata": {
    "collapsed": false,
    "ExecuteTime": {
     "end_time": "2024-03-03T04:47:24.954465Z",
     "start_time": "2024-03-03T04:47:24.950468Z"
    }
   },
   "id": "61095e0c669b584c",
   "execution_count": 676
  },
  {
   "cell_type": "code",
   "outputs": [
    {
     "name": "stdout",
     "output_type": "stream",
     "text": [
      "<class 'pandas.core.frame.DataFrame'>\n",
      "RangeIndex: 150 entries, 0 to 149\n",
      "Data columns (total 4 columns):\n",
      " #   Column        Non-Null Count  Dtype  \n",
      "---  ------        --------------  -----  \n",
      " 0   sepal-length  150 non-null    float64\n",
      " 1   sepal-width   150 non-null    float64\n",
      " 2   petal-length  150 non-null    float64\n",
      " 3   petal-width   150 non-null    float64\n",
      "dtypes: float64(4)\n",
      "memory usage: 4.8 KB\n"
     ]
    }
   ],
   "source": [
    "data.info()"
   ],
   "metadata": {
    "collapsed": false,
    "ExecuteTime": {
     "end_time": "2024-03-03T04:47:24.989812Z",
     "start_time": "2024-03-03T04:47:24.983664Z"
    }
   },
   "id": "ed8f9e75ea9158cd",
   "execution_count": 677
  },
  {
   "cell_type": "code",
   "outputs": [
    {
     "data": {
      "text/plain": "sepal-length    0\nsepal-width     0\npetal-length    0\npetal-width     0\ndtype: int64"
     },
     "execution_count": 678,
     "metadata": {},
     "output_type": "execute_result"
    }
   ],
   "source": [
    "# 결측치\n",
    "data.isna().sum()"
   ],
   "metadata": {
    "collapsed": false,
    "ExecuteTime": {
     "end_time": "2024-03-03T04:47:25.007519Z",
     "start_time": "2024-03-03T04:47:25.001838Z"
    }
   },
   "id": "4e1e54e32254895",
   "execution_count": 678
  },
  {
   "cell_type": "code",
   "outputs": [
    {
     "data": {
      "text/plain": "(150, 4)"
     },
     "execution_count": 679,
     "metadata": {},
     "output_type": "execute_result"
    }
   ],
   "source": [
    "data.shape"
   ],
   "metadata": {
    "collapsed": false,
    "ExecuteTime": {
     "end_time": "2024-03-03T04:47:25.034335Z",
     "start_time": "2024-03-03T04:47:25.030497Z"
    }
   },
   "id": "c06793a609133a82",
   "execution_count": 679
  },
  {
   "cell_type": "code",
   "outputs": [
    {
     "data": {
      "text/plain": "1"
     },
     "execution_count": 680,
     "metadata": {},
     "output_type": "execute_result"
    }
   ],
   "source": [
    "# 중복값 확인\n",
    "data.duplicated().sum()\n",
    "\n",
    "# 1개 존재하긴 하지만 삭제하지 않겠다."
   ],
   "metadata": {
    "collapsed": false,
    "ExecuteTime": {
     "end_time": "2024-03-03T04:47:25.054851Z",
     "start_time": "2024-03-03T04:47:25.049847Z"
    }
   },
   "id": "e571a0bd30361e8",
   "execution_count": 680
  },
  {
   "cell_type": "code",
   "outputs": [
    {
     "data": {
      "text/plain": "['sepal-length', 'sepal-width', 'petal-length', 'petal-width']"
     },
     "execution_count": 681,
     "metadata": {},
     "output_type": "execute_result"
    }
   ],
   "source": [
    "data.columns.tolist()"
   ],
   "metadata": {
    "collapsed": false,
    "ExecuteTime": {
     "end_time": "2024-03-03T04:47:25.060036Z",
     "start_time": "2024-03-03T04:47:25.055914Z"
    }
   },
   "id": "304dd30ae517b873",
   "execution_count": 681
  },
  {
   "cell_type": "code",
   "outputs": [],
   "source": [
    "def visual_flier(insert_data):\n",
    "    # 이상치 확인 by 시각화\n",
    "    obj = plt.boxplot(insert_data)\n",
    "    plt.title(f'box plot of data')\n",
    "    plt.xlabel(insert_data.columns.tolist())\n",
    "    plt.show()\n",
    "    \n",
    "    return obj"
   ],
   "metadata": {
    "collapsed": false,
    "ExecuteTime": {
     "end_time": "2024-03-03T04:47:25.079312Z",
     "start_time": "2024-03-03T04:47:25.075763Z"
    }
   },
   "id": "cb28ebbf66a667bf",
   "execution_count": 682
  },
  {
   "cell_type": "code",
   "outputs": [
    {
     "data": {
      "text/plain": "<Figure size 640x480 with 1 Axes>",
      "image/png": "[encoded data removed]"
     },
     "metadata": {},
     "output_type": "display_data"
    },
    {
     "data": {
      "text/plain": "{'whiskers': [<matplotlib.lines.Line2D at 0x2160ce16ed0>,\n  <matplotlib.lines.Line2D at 0x2160ce150d0>,\n  <matplotlib.lines.Line2D at 0x2160c738850>,\n  <matplotlib.lines.Line2D at 0x2160c575b90>,\n  <matplotlib.lines.Line2D at 0x2160d648290>,\n  <matplotlib.lines.Line2D at 0x2160c745fd0>,\n  <matplotlib.lines.Line2D at 0x2160d66b390>,\n  <matplotlib.lines.Line2D at 0x2160d66ba90>],\n 'caps': [<matplotlib.lines.Line2D at 0x2160ce15050>,\n  <matplotlib.lines.Line2D at 0x2160d8a9750>,\n  <matplotlib.lines.Line2D at 0x2160c732810>,\n  <matplotlib.lines.Line2D at 0x2160c733e50>,\n  <matplotlib.lines.Line2D at 0x2160c6cc890>,\n  <matplotlib.lines.Line2D at 0x2160c5f16d0>,\n  <matplotlib.lines.Line2D at 0x2160c5a2210>,\n  <matplotlib.lines.Line2D at 0x2160c5ef8d0>],\n 'boxes': [<matplotlib.lines.Line2D at 0x2160ce165d0>,\n  <matplotlib.lines.Line2D at 0x2160d89ec90>,\n  <matplotlib.lines.Line2D at 0x2160d649990>,\n  <matplotlib.lines.Line2D at 0x2160d669b50>],\n 'medians': [<matplotlib.lines.Line2D at 0x2160d794ed0>,\n  <matplotlib.lines.Line2D at 0x2160e0701d0>,\n  <matplotlib.lines.Line2D at 0x2160c5f0c90>,\n  <matplotlib.lines.Line2D at 0x2160c5ec2d0>],\n 'fliers': [<matplotlib.lines.Line2D at 0x2160e099910>,\n  <matplotlib.lines.Line2D at 0x2160e072d90>,\n  <matplotlib.lines.Line2D at 0x2160c5f1590>,\n  <matplotlib.lines.Line2D at 0x2160c746a50>],\n 'means': []}"
     },
     "execution_count": 683,
     "metadata": {},
     "output_type": "execute_result"
    }
   ],
   "source": [
    "visual_flier(data)"
   ],
   "metadata": {
    "collapsed": false,
    "ExecuteTime": {
     "end_time": "2024-03-03T04:47:25.246449Z",
     "start_time": "2024-03-03T04:47:25.108466Z"
    }
   },
   "id": "655c881332e718f",
   "execution_count": 683
  },
  {
   "cell_type": "code",
   "outputs": [],
   "source": [
    "def print_flier(insert_data):\n",
    "    q1 = insert_data.quantile(0.25)\n",
    "    q3 = insert_data.quantile(0.75)\n",
    "    iqr = q3 - q1\n",
    "    print(f\"[ q1 ] \\n{q1}\\n\\n[ q3 ] \\n{q3}\\n\")\n",
    "    print(f\"[ iqr의 범위 ]\\n{iqr}\\n\")\n",
    "    \n",
    "    print('------------------ 이상값이 될 기준 계산 ------------------\\n')\n",
    "    \n",
    "    lower = q1 - 1.5 * iqr\n",
    "    print(f\"[ lower의 값 ]\\n{lower} \\n\")\n",
    "    upper = q3 + 1.5 * iqr\n",
    "    print(f\"[ upper의 값 ]\\n{upper}\\n\")\n",
    "    \n",
    "    mask = insert_data < lower\n",
    "    print(f\"[ lower의 개수 ]\\n {mask.sum()}\\n\")\n",
    "    mask2 = insert_data > upper\n",
    "    print(f\"[ upper의 개수 ]\\n {mask2.sum()}\\n\")\n",
    "    \n",
    "    return lower, upper"
   ],
   "metadata": {
    "collapsed": false,
    "ExecuteTime": {
     "end_time": "2024-03-03T04:47:25.251669Z",
     "start_time": "2024-03-03T04:47:25.247508Z"
    }
   },
   "id": "cbe6cf2f893aad83",
   "execution_count": 684
  },
  {
   "cell_type": "code",
   "outputs": [
    {
     "name": "stdout",
     "output_type": "stream",
     "text": [
      "[ q1 ] \n",
      "sepal-length    5.1\n",
      "sepal-width     2.8\n",
      "petal-length    1.6\n",
      "petal-width     0.3\n",
      "Name: 0.25, dtype: float64\n",
      "\n",
      "[ q3 ] \n",
      "sepal-length    6.4\n",
      "sepal-width     3.3\n",
      "petal-length    5.1\n",
      "petal-width     1.8\n",
      "Name: 0.75, dtype: float64\n",
      "\n",
      "[ iqr의 범위 ]\n",
      "sepal-length    1.3\n",
      "sepal-width     0.5\n",
      "petal-length    3.5\n",
      "petal-width     1.5\n",
      "dtype: float64\n",
      "\n",
      "------------------ 이상값이 될 기준 계산 ------------------\n",
      "\n",
      "[ lower의 값 ]\n",
      "sepal-length    3.15\n",
      "sepal-width     2.05\n",
      "petal-length   -3.65\n",
      "petal-width    -1.95\n",
      "dtype: float64 \n",
      "\n",
      "[ upper의 값 ]\n",
      "sepal-length     8.35\n",
      "sepal-width      4.05\n",
      "petal-length    10.35\n",
      "petal-width      4.05\n",
      "dtype: float64\n",
      "\n",
      "[ lower의 개수 ]\n",
      " sepal-length    0\n",
      "sepal-width     1\n",
      "petal-length    0\n",
      "petal-width     0\n",
      "dtype: int64\n",
      "\n",
      "[ upper의 개수 ]\n",
      " sepal-length    0\n",
      "sepal-width     3\n",
      "petal-length    0\n",
      "petal-width     0\n",
      "dtype: int64\n"
     ]
    }
   ],
   "source": [
    "lower, upper = print_flier(data)"
   ],
   "metadata": {
    "collapsed": false,
    "ExecuteTime": {
     "end_time": "2024-03-03T04:47:25.262695Z",
     "start_time": "2024-03-03T04:47:25.252728Z"
    }
   },
   "id": "f42361c16d8ad82c",
   "execution_count": 685
  },
  {
   "cell_type": "code",
   "outputs": [],
   "source": [
    "def drop_flier(insert_data, col_name):\n",
    "    print('-------------------- 이상값 제거 --------------------\\n')\n",
    "\n",
    "    #어쨰서 둘의 반환값이 같을까? 컬럼별로 적용하지 않아서 그런걸까?\n",
    "    #data[~mask].shape\n",
    "    #data[mask].shape\n",
    "    #이렇게 하면 데이터 프레임 전체에서 조건이 맞는걸 구해야하기 때문에 내가 의도한 바와 맞지 않는다.\n",
    "    #그래서 컬럼별로 필터링을 적용해주어야 한다.\n",
    "\n",
    "    mask = insert_data[col_name] >= lower[col_name]\n",
    "    insert_data = insert_data[mask]\n",
    "    print(f\" '{col_name}' 컬럼에서 lower 미만의 값 제거 후 shape: {insert_data.shape}\\n\")\n",
    "    \n",
    "    mask2 = insert_data[col_name] <= upper[col_name]\n",
    "    insert_data = insert_data[mask2]\n",
    "    #insert_data = insert_data[insert_data[f\"{col_name}\"] <= upper[f\"{col_name}\"]]\n",
    "    print(f\" '{col_name}' 컬럼에서 upper 초과의 값 제거 후 shape: {insert_data.shape}\")\n",
    "    \n",
    "    return insert_data"
   ],
   "metadata": {
    "collapsed": false,
    "ExecuteTime": {
     "end_time": "2024-03-03T04:47:25.268871Z",
     "start_time": "2024-03-03T04:47:25.263763Z"
    }
   },
   "id": "f056f092f274e27d",
   "execution_count": 686
  },
  {
   "cell_type": "code",
   "outputs": [
    {
     "name": "stdout",
     "output_type": "stream",
     "text": [
      "-------------------- 이상값 제거 --------------------\n",
      "\n",
      " 'sepal-width' 컬럼에서 lower 미만의 값 제거 후 shape: (149, 4)\n",
      "\n",
      " 'sepal-width' 컬럼에서 upper 초과의 값 제거 후 shape: (146, 4)\n"
     ]
    },
    {
     "data": {
      "text/plain": "(146, 4)"
     },
     "execution_count": 687,
     "metadata": {},
     "output_type": "execute_result"
    }
   ],
   "source": [
    "data = drop_flier(data, 'sepal-width')\n",
    "data.shape"
   ],
   "metadata": {
    "collapsed": false,
    "ExecuteTime": {
     "end_time": "2024-03-03T04:47:25.276688Z",
     "start_time": "2024-03-03T04:47:25.269933Z"
    }
   },
   "id": "73cd833a80462f88",
   "execution_count": 687
  },
  {
   "cell_type": "code",
   "outputs": [],
   "source": [],
   "metadata": {
    "collapsed": false,
    "ExecuteTime": {
     "end_time": "2024-03-03T04:47:25.279906Z",
     "start_time": "2024-03-03T04:47:25.277739Z"
    }
   },
   "id": "510cc5a412d7049",
   "execution_count": 687
  },
  {
   "cell_type": "code",
   "outputs": [],
   "source": [],
   "metadata": {
    "collapsed": false,
    "ExecuteTime": {
     "end_time": "2024-03-03T04:47:25.283402Z",
     "start_time": "2024-03-03T04:47:25.280904Z"
    }
   },
   "id": "2c63924888e8d60",
   "execution_count": 687
  },
  {
   "cell_type": "code",
   "outputs": [],
   "source": [],
   "metadata": {
    "collapsed": false,
    "ExecuteTime": {
     "end_time": "2024-03-03T04:47:25.286485Z",
     "start_time": "2024-03-03T04:47:25.284459Z"
    }
   },
   "id": "1f94d6ddb14621da",
   "execution_count": 687
  },
  {
   "cell_type": "code",
   "outputs": [],
   "source": [],
   "metadata": {
    "collapsed": false,
    "ExecuteTime": {
     "end_time": "2024-03-03T04:47:25.290116Z",
     "start_time": "2024-03-03T04:47:25.287557Z"
    }
   },
   "id": "f659d16bbf12badc",
   "execution_count": 687
  }
 ],
 "metadata": {
  "kernelspec": {
   "display_name": "Python 3",
   "language": "python",
   "name": "python3"
  },
  "language_info": {
   "codemirror_mode": {
    "name": "ipython",
    "version": 2
   },
   "file_extension": ".py",
   "mimetype": "text/x-python",
   "name": "python",
   "nbconvert_exporter": "python",
   "pygments_lexer": "ipython2",
   "version": "2.7.6"
  }
 },
 "nbformat": 4,
 "nbformat_minor": 5
}
