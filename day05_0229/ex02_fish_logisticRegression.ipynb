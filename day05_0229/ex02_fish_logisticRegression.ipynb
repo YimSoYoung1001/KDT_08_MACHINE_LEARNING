{
 "cells": [
  {
   "cell_type": "markdown",
   "source": [
    "### 목표 : 생선 분류 모델\n",
    "- 데이터 : fish.csv\n",
    "- 피처 : 5개 (Weight, Length, Diagonal, Height, Width)\n",
    "- 타겟 : 1개 (Species)\n",
    "- 방법 : 지도학습 + 다중분류"
   ],
   "metadata": {
    "collapsed": false
   },
   "id": "eec77654eaddc14c"
  },
  {
   "cell_type": "markdown",
   "source": [
    "(1) 모듈 로딩 및 데이터 준비 <hr>"
   ],
   "metadata": {
    "collapsed": false
   },
   "id": "3e1d2ccf910aac6e"
  },
  {
   "cell_type": "code",
   "outputs": [],
   "source": [
    "# 모듈로딩\n",
    "import pandas as pd\n",
    "import numpy as np\n",
    "\n",
    "#여기서는 그냥 logistic 이랑 ova, ovr 볼거라서 전처리는 생략하겠긔"
   ],
   "metadata": {
    "collapsed": false,
    "ExecuteTime": {
     "end_time": "2024-02-29T06:57:04.652126Z",
     "start_time": "2024-02-29T06:57:04.638518Z"
    }
   },
   "id": "66ff83fa0fa18448",
   "execution_count": 258
  },
  {
   "cell_type": "code",
   "outputs": [
    {
     "data": {
      "text/plain": "  Species  Weight  Length  Diagonal   Height   Width\n0   Bream   242.0    25.4      30.0  11.5200  4.0200\n1   Bream   290.0    26.3      31.2  12.4800  4.3056\n2   Bream   340.0    26.5      31.1  12.3778  4.6961\n3   Bream   363.0    29.0      33.5  12.7300  4.4555\n4   Bream   430.0    29.0      34.0  12.4440  5.1340",
      "text/html": "<div>\n<style scoped>\n    .dataframe tbody tr th:only-of-type {\n        vertical-align: middle;\n    }\n\n    .dataframe tbody tr th {\n        vertical-align: top;\n    }\n\n    .dataframe thead th {\n        text-align: right;\n    }\n</style>\n<table border=\"1\" class=\"dataframe\">\n  <thead>\n    <tr style=\"text-align: right;\">\n      <th></th>\n      <th>Species</th>\n      <th>Weight</th>\n      <th>Length</th>\n      <th>Diagonal</th>\n      <th>Height</th>\n      <th>Width</th>\n    </tr>\n  </thead>\n  <tbody>\n    <tr>\n      <th>0</th>\n      <td>Bream</td>\n      <td>242.0</td>\n      <td>25.4</td>\n      <td>30.0</td>\n      <td>11.5200</td>\n      <td>4.0200</td>\n    </tr>\n    <tr>\n      <th>1</th>\n      <td>Bream</td>\n      <td>290.0</td>\n      <td>26.3</td>\n      <td>31.2</td>\n      <td>12.4800</td>\n      <td>4.3056</td>\n    </tr>\n    <tr>\n      <th>2</th>\n      <td>Bream</td>\n      <td>340.0</td>\n      <td>26.5</td>\n      <td>31.1</td>\n      <td>12.3778</td>\n      <td>4.6961</td>\n    </tr>\n    <tr>\n      <th>3</th>\n      <td>Bream</td>\n      <td>363.0</td>\n      <td>29.0</td>\n      <td>33.5</td>\n      <td>12.7300</td>\n      <td>4.4555</td>\n    </tr>\n    <tr>\n      <th>4</th>\n      <td>Bream</td>\n      <td>430.0</td>\n      <td>29.0</td>\n      <td>34.0</td>\n      <td>12.4440</td>\n      <td>5.1340</td>\n    </tr>\n  </tbody>\n</table>\n</div>"
     },
     "execution_count": 259,
     "metadata": {},
     "output_type": "execute_result"
    }
   ],
   "source": [
    "# 데이터 준비\n",
    "file = '../data/fish.csv'\n",
    "fishDF = pd.read_csv(file)\n",
    "fishDF.head()"
   ],
   "metadata": {
    "collapsed": false,
    "ExecuteTime": {
     "end_time": "2024-02-29T06:57:04.760449Z",
     "start_time": "2024-02-29T06:57:04.745770Z"
    }
   },
   "id": "80a82c2bdd390a21",
   "execution_count": 259
  },
  {
   "cell_type": "markdown",
   "source": [
    "(2) 학습 위한 데이터 준비  <hr>"
   ],
   "metadata": {
    "collapsed": false
   },
   "id": "f8cbfaf05db71b51"
  },
  {
   "cell_type": "markdown",
   "source": [
    "(2-1) 피처/타겟 분리"
   ],
   "metadata": {
    "collapsed": false
   },
   "id": "bbaf25704939694b"
  },
  {
   "cell_type": "code",
   "outputs": [],
   "source": [
    "featureDF = fishDF[fishDF.columns[1:]]\n",
    "targetDF = fishDF[fishDF.columns[0]]"
   ],
   "metadata": {
    "collapsed": false,
    "ExecuteTime": {
     "end_time": "2024-02-29T06:57:04.776107Z",
     "start_time": "2024-02-29T06:57:04.763587Z"
    }
   },
   "id": "58bca9eb5dcbe9e3",
   "execution_count": 260
  },
  {
   "cell_type": "code",
   "outputs": [
    {
     "name": "stdout",
     "output_type": "stream",
     "text": [
      "featureDF : (159, 5)\n",
      "targetDF : (159,)\n"
     ]
    }
   ],
   "source": [
    "print(f\"featureDF : {featureDF.shape}\")\n",
    "print(f\"targetDF : {targetDF.shape}\")"
   ],
   "metadata": {
    "collapsed": false,
    "ExecuteTime": {
     "end_time": "2024-02-29T06:57:04.791585Z",
     "start_time": "2024-02-29T06:57:04.777106Z"
    }
   },
   "id": "af07a2f1c483fc2c",
   "execution_count": 261
  },
  {
   "cell_type": "code",
   "outputs": [
    {
     "data": {
      "text/plain": "7"
     },
     "execution_count": 262,
     "metadata": {},
     "output_type": "execute_result"
    }
   ],
   "source": [
    "# 타겟의 클래스 수 확인\n",
    "targetDF.nunique()"
   ],
   "metadata": {
    "collapsed": false,
    "ExecuteTime": {
     "end_time": "2024-02-29T06:57:04.822865Z",
     "start_time": "2024-02-29T06:57:04.808247Z"
    }
   },
   "id": "7de8c206c183b58",
   "execution_count": 262
  },
  {
   "cell_type": "code",
   "outputs": [
    {
     "data": {
      "text/plain": "Species\nPerch        35.220126\nBream        22.012579\nRoach        12.578616\nPike         10.691824\nSmelt         8.805031\nParkki        6.918239\nWhitefish     3.773585\nName: count, dtype: float64"
     },
     "execution_count": 263,
     "metadata": {},
     "output_type": "execute_result"
    }
   ],
   "source": [
    "# 타겟 클래스 별 데이터 수 확인\n",
    "targetDF.value_counts()\n",
    "\n",
    "# target class별 데이터 수 확인\n",
    "(targetDF.value_counts() / targetDF.shape[0]) * 100"
   ],
   "metadata": {
    "collapsed": false,
    "ExecuteTime": {
     "end_time": "2024-02-29T06:57:04.838563Z",
     "start_time": "2024-02-29T06:57:04.825100Z"
    }
   },
   "id": "f7305d49d6b9a1c",
   "execution_count": 263
  },
  {
   "cell_type": "code",
   "outputs": [
    {
     "data": {
      "text/plain": "array([0, 0, 0, 0, 0, 0, 0, 0, 0, 0, 0, 0, 0, 0, 0, 0, 0, 0, 0, 0, 0, 0,\n       0, 0, 0, 0, 0, 0, 0, 0, 0, 0, 0, 0, 0, 4, 4, 4, 4, 4, 4, 4, 4, 4,\n       4, 4, 4, 4, 4, 4, 4, 4, 4, 4, 4, 6, 6, 6, 6, 6, 6, 1, 1, 1, 1, 1,\n       1, 1, 1, 1, 1, 1, 2, 2, 2, 2, 2, 2, 2, 2, 2, 2, 2, 2, 2, 2, 2, 2,\n       2, 2, 2, 2, 2, 2, 2, 2, 2, 2, 2, 2, 2, 2, 2, 2, 2, 2, 2, 2, 2, 2,\n       2, 2, 2, 2, 2, 2, 2, 2, 2, 2, 2, 2, 2, 2, 2, 2, 2, 2, 3, 3, 3, 3,\n       3, 3, 3, 3, 3, 3, 3, 3, 3, 3, 3, 3, 3, 5, 5, 5, 5, 5, 5, 5, 5, 5,\n       5, 5, 5, 5, 5])"
     },
     "execution_count": 264,
     "metadata": {},
     "output_type": "execute_result"
    }
   ],
   "source": [
    "# 이 방법으로 숫자로 바꾸거나 아니면 replace 하면 됨\n",
    "from sklearn.preprocessing import LabelEncoder\n",
    "\n",
    "encoder = LabelEncoder()\n",
    "encoder.fit(targetDF)\n",
    "targetDF = encoder.transform(targetDF)\n",
    "targetDF\n",
    "\n",
    "# inverse_transform => 반대로 바꿔줌. 원래대로 하는 거 ㅇㅇ"
   ],
   "metadata": {
    "collapsed": false,
    "ExecuteTime": {
     "end_time": "2024-02-29T06:57:04.854303Z",
     "start_time": "2024-02-29T06:57:04.839600Z"
    }
   },
   "id": "f132c972c8a5d2c0",
   "execution_count": 264
  },
  {
   "cell_type": "markdown",
   "source": [
    "(2-2) 학습 / 테스트용  데이터셋  준비"
   ],
   "metadata": {
    "collapsed": false
   },
   "id": "1a0b0aba7bfd798f"
  },
  {
   "cell_type": "code",
   "outputs": [
    {
     "name": "stdout",
     "output_type": "stream",
     "text": [
      "[train dataset] (119, 5), (119,)\n",
      "[test dataset] (40, 5), (40,)\n"
     ]
    }
   ],
   "source": [
    "from sklearn.model_selection import train_test_split\n",
    "\n",
    "X_train, X_test, y_train, y_test = train_test_split(featureDF, targetDF, stratify=targetDF, random_state=11)\n",
    "print(f'[train dataset] {X_train.shape}, {y_train.shape}')\n",
    "print(f'[test dataset] {X_test.shape}, {y_test.shape}')"
   ],
   "metadata": {
    "collapsed": false,
    "ExecuteTime": {
     "end_time": "2024-02-29T06:57:04.869860Z",
     "start_time": "2024-02-29T06:57:04.855302Z"
    }
   },
   "id": "e33f0c9e27912a24",
   "execution_count": 265
  },
  {
   "cell_type": "markdown",
   "source": [
    "(3) 학습 진행"
   ],
   "metadata": {
    "collapsed": false
   },
   "id": "63fac3b31f01980c"
  },
  {
   "cell_type": "markdown",
   "source": [],
   "metadata": {
    "collapsed": false
   },
   "id": "cd4350f848d75be5"
  },
  {
   "cell_type": "code",
   "outputs": [],
   "source": [
    "from sklearn.linear_model import LogisticRegression"
   ],
   "metadata": {
    "collapsed": false,
    "ExecuteTime": {
     "end_time": "2024-02-29T06:57:04.885950Z",
     "start_time": "2024-02-29T06:57:04.871938Z"
    }
   },
   "id": "e976ea0e7d2a6c5a",
   "execution_count": 266
  },
  {
   "cell_type": "code",
   "outputs": [
    {
     "data": {
      "text/plain": "LogisticRegression(max_iter=20000, solver='liblinear')",
      "text/html": "<style>#sk-container-id-18 {color: black;}#sk-container-id-18 pre{padding: 0;}#sk-container-id-18 div.sk-toggleable {background-color: white;}#sk-container-id-18 label.sk-toggleable__label {cursor: pointer;display: block;width: 100%;margin-bottom: 0;padding: 0.3em;box-sizing: border-box;text-align: center;}#sk-container-id-18 label.sk-toggleable__label-arrow:before {content: \"▸\";float: left;margin-right: 0.25em;color: #696969;}#sk-container-id-18 label.sk-toggleable__label-arrow:hover:before {color: black;}#sk-container-id-18 div.sk-estimator:hover label.sk-toggleable__label-arrow:before {color: black;}#sk-container-id-18 div.sk-toggleable__content {max-height: 0;max-width: 0;overflow: hidden;text-align: left;background-color: #f0f8ff;}#sk-container-id-18 div.sk-toggleable__content pre {margin: 0.2em;color: black;border-radius: 0.25em;background-color: #f0f8ff;}#sk-container-id-18 input.sk-toggleable__control:checked~div.sk-toggleable__content {max-height: 200px;max-width: 100%;overflow: auto;}#sk-container-id-18 input.sk-toggleable__control:checked~label.sk-toggleable__label-arrow:before {content: \"▾\";}#sk-container-id-18 div.sk-estimator input.sk-toggleable__control:checked~label.sk-toggleable__label {background-color: #d4ebff;}#sk-container-id-18 div.sk-label input.sk-toggleable__control:checked~label.sk-toggleable__label {background-color: #d4ebff;}#sk-container-id-18 input.sk-hidden--visually {border: 0;clip: rect(1px 1px 1px 1px);clip: rect(1px, 1px, 1px, 1px);height: 1px;margin: -1px;overflow: hidden;padding: 0;position: absolute;width: 1px;}#sk-container-id-18 div.sk-estimator {font-family: monospace;background-color: #f0f8ff;border: 1px dotted black;border-radius: 0.25em;box-sizing: border-box;margin-bottom: 0.5em;}#sk-container-id-18 div.sk-estimator:hover {background-color: #d4ebff;}#sk-container-id-18 div.sk-parallel-item::after {content: \"\";width: 100%;border-bottom: 1px solid gray;flex-grow: 1;}#sk-container-id-18 div.sk-label:hover label.sk-toggleable__label {background-color: #d4ebff;}#sk-container-id-18 div.sk-serial::before {content: \"\";position: absolute;border-left: 1px solid gray;box-sizing: border-box;top: 0;bottom: 0;left: 50%;z-index: 0;}#sk-container-id-18 div.sk-serial {display: flex;flex-direction: column;align-items: center;background-color: white;padding-right: 0.2em;padding-left: 0.2em;position: relative;}#sk-container-id-18 div.sk-item {position: relative;z-index: 1;}#sk-container-id-18 div.sk-parallel {display: flex;align-items: stretch;justify-content: center;background-color: white;position: relative;}#sk-container-id-18 div.sk-item::before, #sk-container-id-18 div.sk-parallel-item::before {content: \"\";position: absolute;border-left: 1px solid gray;box-sizing: border-box;top: 0;bottom: 0;left: 50%;z-index: -1;}#sk-container-id-18 div.sk-parallel-item {display: flex;flex-direction: column;z-index: 1;position: relative;background-color: white;}#sk-container-id-18 div.sk-parallel-item:first-child::after {align-self: flex-end;width: 50%;}#sk-container-id-18 div.sk-parallel-item:last-child::after {align-self: flex-start;width: 50%;}#sk-container-id-18 div.sk-parallel-item:only-child::after {width: 0;}#sk-container-id-18 div.sk-dashed-wrapped {border: 1px dashed gray;margin: 0 0.4em 0.5em 0.4em;box-sizing: border-box;padding-bottom: 0.4em;background-color: white;}#sk-container-id-18 div.sk-label label {font-family: monospace;font-weight: bold;display: inline-block;line-height: 1.2em;}#sk-container-id-18 div.sk-label-container {text-align: center;}#sk-container-id-18 div.sk-container {/* jupyter's `normalize.less` sets `[hidden] { display: none; }` but bootstrap.min.css set `[hidden] { display: none !important; }` so we also need the `!important` here to be able to override the default hidden behavior on the sphinx rendered scikit-learn.org. See: https://github.com/scikit-learn/scikit-learn/issues/21755 */display: inline-block !important;position: relative;}#sk-container-id-18 div.sk-text-repr-fallback {display: none;}</style><div id=\"sk-container-id-18\" class=\"sk-top-container\"><div class=\"sk-text-repr-fallback\"><pre>LogisticRegression(max_iter=20000, solver=&#x27;liblinear&#x27;)</pre><b>In a Jupyter environment, please rerun this cell to show the HTML representation or trust the notebook. <br />On GitHub, the HTML representation is unable to render, please try loading this page with nbviewer.org.</b></div><div class=\"sk-container\" hidden><div class=\"sk-item\"><div class=\"sk-estimator sk-toggleable\"><input class=\"sk-toggleable__control sk-hidden--visually\" id=\"sk-estimator-id-18\" type=\"checkbox\" checked><label for=\"sk-estimator-id-18\" class=\"sk-toggleable__label sk-toggleable__label-arrow\">LogisticRegression</label><div class=\"sk-toggleable__content\"><pre>LogisticRegression(max_iter=20000, solver=&#x27;liblinear&#x27;)</pre></div></div></div></div></div>"
     },
     "execution_count": 267,
     "metadata": {},
     "output_type": "execute_result"
    }
   ],
   "source": [
    "# 모델 인스턴스 생성 및 학습\n",
    "model = LogisticRegression(max_iter = 20000, solver = 'liblinear')    #solver라는 파라미터 설정을 통해 튜닝을 해서 test score를 올렸다. \n",
    "#max_iter는 전체 데이터를 몇번 공부하겠냐 ? 즉, 몇 번 회독하겠냐?\n",
    "#solver는 공부방식을 바꾸는거임 \n",
    "#solver –  default='lbfgs'\n",
    "#   Algorithm to use in the optimization problem. Default is 'lbfgs'. To choose a solver, you might want to consider the following aspects:\n",
    "#   For small datasets, 'liblinear' is a good choice, whereas 'sag' and 'saga' are faster for large ones;\n",
    "#   For multiclass problems, only 'newton-cg', 'sag', 'saga' and 'lbfgs' handle multinomial loss;\n",
    "#   'liblinear' is limited to one-versus-rest schemes.\n",
    "model.fit(X_train, y_train)"
   ],
   "metadata": {
    "collapsed": false,
    "ExecuteTime": {
     "end_time": "2024-02-29T06:57:04.901429Z",
     "start_time": "2024-02-29T06:57:04.888002Z"
    }
   },
   "id": "26106d66cb3e7e0",
   "execution_count": 267
  },
  {
   "cell_type": "code",
   "outputs": [
    {
     "name": "stdout",
     "output_type": "stream",
     "text": [
      "classes_: [0 1 2 3 4 5 6]\n",
      "feature_names_in_ : ['Weight' 'Length' 'Diagonal' 'Height' 'Width']\n",
      "max_iter : 20000\n",
      "coef_ : 7개 \n",
      " [[ 1.31151754e-02 -1.64944470e+00  8.28009575e-01  1.41621595e+00\n",
      "  -4.15067201e-01]\n",
      " [-2.10617657e-02  3.33701594e-01 -9.64909143e-01  2.19381184e+00\n",
      "   2.66611701e-02]\n",
      " [-1.97453974e-03  2.60616873e+00 -2.66412260e+00 -7.93176743e-03\n",
      "   1.91659551e+00]\n",
      " [ 1.01422059e-02  2.55168743e-01  1.51461260e-01 -1.94779290e+00\n",
      "  -8.36602128e-01]\n",
      " [-9.89829706e-03 -1.72578825e+00  1.53807538e+00 -5.12880032e-01\n",
      "   1.65750894e+00]\n",
      " [-7.29426634e-02  3.82049401e-01  1.62783679e-01 -1.55364795e+00\n",
      "  -5.97839461e-01]\n",
      " [ 5.68775586e-03 -5.20399292e-01  2.54546484e-01 -2.46921990e-01\n",
      "   8.40269158e-01]]\n"
     ]
    }
   ],
   "source": [
    "#모델 파라미터 확인\n",
    "print(f\"classes_: {model.classes_}\")\n",
    "print(f\"feature_names_in_ : {model.feature_names_in_}\")\n",
    "print(f\"max_iter : {model.max_iter}\")\n",
    "print(f\"coef_ : {len(model.coef_)}개 \\n {model.coef_}\")\n",
    "\n",
    "# 왜 coef_ 가 7개 나올까 ? => target 셋에서 종류가 7개임"
   ],
   "metadata": {
    "collapsed": false,
    "ExecuteTime": {
     "end_time": "2024-02-29T06:57:04.932446Z",
     "start_time": "2024-02-29T06:57:04.921128Z"
    }
   },
   "id": "d0d79c2ced6bab2a",
   "execution_count": 268
  },
  {
   "cell_type": "markdown",
   "source": [
    "(4) 평가 <hr>"
   ],
   "metadata": {
    "collapsed": false
   },
   "id": "6a92dd2432088d1c"
  },
  {
   "cell_type": "code",
   "outputs": [
    {
     "name": "stdout",
     "output_type": "stream",
     "text": [
      "[Train Score] 0.9495798319327731\n",
      "[Test Score] 0.975\n"
     ]
    }
   ],
   "source": [
    "print(f\"[Train Score] {model.score(X_train, y_train)}\")\n",
    "print(f\"[Test Score] {model.score(X_test, y_test)}\")"
   ],
   "metadata": {
    "collapsed": false,
    "ExecuteTime": {
     "end_time": "2024-02-29T06:57:04.978533Z",
     "start_time": "2024-02-29T06:57:04.965440Z"
    }
   },
   "id": "fb824163562d4be2",
   "execution_count": 269
  },
  {
   "cell_type": "markdown",
   "source": [
    "(5) 모델 활용 <hr>"
   ],
   "metadata": {
    "collapsed": false
   },
   "id": "89d3cccaa9f25a0b"
  },
  {
   "cell_type": "code",
   "outputs": [
    {
     "data": {
      "text/plain": "array([0])"
     },
     "execution_count": 270,
     "metadata": {},
     "output_type": "execute_result"
    }
   ],
   "source": [
    "y_pre = model.predict(X_test.iloc[[0]])\n",
    "y_pre"
   ],
   "metadata": {
    "collapsed": false,
    "ExecuteTime": {
     "end_time": "2024-02-29T06:57:05.026027Z",
     "start_time": "2024-02-29T06:57:05.016598Z"
    }
   },
   "id": "937b619c764ec10",
   "execution_count": 270
  },
  {
   "cell_type": "code",
   "outputs": [
    {
     "ename": "AttributeError",
     "evalue": "'numpy.ndarray' object has no attribute 'iloc'",
     "output_type": "error",
     "traceback": [
      "\u001B[1;31m---------------------------------------------------------------------------\u001B[0m",
      "\u001B[1;31mAttributeError\u001B[0m                            Traceback (most recent call last)",
      "Cell \u001B[1;32mIn[271], line 1\u001B[0m\n\u001B[1;32m----> 1\u001B[0m \u001B[43my_test\u001B[49m\u001B[38;5;241;43m.\u001B[39;49m\u001B[43miloc\u001B[49m[\u001B[38;5;241m0\u001B[39m]\n",
      "\u001B[1;31mAttributeError\u001B[0m: 'numpy.ndarray' object has no attribute 'iloc'"
     ]
    }
   ],
   "source": [
    "y_test.iloc[0]\n",
    "\n",
    "# 위의 예측값과 실제 데이터를 확인해보니 일치한다! 무야홍~"
   ],
   "metadata": {
    "collapsed": false,
    "ExecuteTime": {
     "end_time": "2024-02-29T06:57:05.073138Z",
     "start_time": "2024-02-29T06:57:05.040600Z"
    }
   },
   "id": "a9b020d209968a0b",
   "execution_count": 271
  },
  {
   "cell_type": "code",
   "outputs": [],
   "source": [
    "model.predict_proba(X_test.iloc[[0]])\n",
    "\n",
    "# 아까 7개의 모델이 있었다. 그걸 각각 돌려봤을 때 어떤 확률로 각각의 종류가 나왔을까 => 그래서 젤 높은 확률로 나온게 Bream이라는 종류였다"
   ],
   "metadata": {
    "collapsed": false
   },
   "id": "93807d96f3513950",
   "execution_count": null
  },
  {
   "cell_type": "code",
   "outputs": [
    {
     "name": "stdout",
     "output_type": "stream",
     "text": [
      "[0 1 2 3 4 5 6]\n"
     ]
    },
    {
     "data": {
      "text/plain": "array([[0.504, 0.311, 0.   , 0.   , 0.173, 0.   , 0.012],\n       [0.158, 0.73 , 0.044, 0.   , 0.057, 0.   , 0.01 ],\n       [0.772, 0.024, 0.001, 0.   , 0.18 , 0.   , 0.023],\n       [0.001, 0.089, 0.719, 0.002, 0.155, 0.004, 0.03 ],\n       [0.   , 0.021, 0.753, 0.009, 0.176, 0.009, 0.031]])"
     },
     "execution_count": 272,
     "metadata": {},
     "output_type": "execute_result"
    }
   ],
   "source": [
    "# 5개 데이터에 대한 생선 분류 예측\n",
    "print(model.classes_)\n",
    "np.round(model.predict_proba(X_test.iloc[:5]), 3)\n",
    "\n",
    "# 1개의 행을 뽑아서 다 더하면 1이 된다\n",
    "# 여기서 행 1개가 원본 데이터 1개가 된다. 원본데이터 1개에서 각 생선종류별로 어떤 확률이 될지 나온다\n",
    "# 그래서 젤 높은 확률이 되는것이 원본데이터 1개의 예측 생선 종류이다"
   ],
   "metadata": {
    "collapsed": false,
    "ExecuteTime": {
     "end_time": "2024-02-29T06:57:05.120874Z",
     "start_time": "2024-02-29T06:57:05.104009Z"
    }
   },
   "id": "89ee34378404166c",
   "execution_count": 272
  },
  {
   "cell_type": "code",
   "outputs": [
    {
     "ename": "AttributeError",
     "evalue": "'numpy.ndarray' object has no attribute 'to_list'",
     "output_type": "error",
     "traceback": [
      "\u001B[1;31m---------------------------------------------------------------------------\u001B[0m",
      "\u001B[1;31mAttributeError\u001B[0m                            Traceback (most recent call last)",
      "Cell \u001B[1;32mIn[273], line 1\u001B[0m\n\u001B[1;32m----> 1\u001B[0m \u001B[43my_test\u001B[49m\u001B[43m[\u001B[49m\u001B[43m:\u001B[49m\u001B[38;5;241;43m5\u001B[39;49m\u001B[43m]\u001B[49m\u001B[38;5;241;43m.\u001B[39;49m\u001B[43mto_list\u001B[49m()\n",
      "\u001B[1;31mAttributeError\u001B[0m: 'numpy.ndarray' object has no attribute 'to_list'"
     ]
    }
   ],
   "source": [
    "y_test[:5].to_list()"
   ],
   "metadata": {
    "collapsed": false,
    "ExecuteTime": {
     "end_time": "2024-02-29T06:57:05.152337Z",
     "start_time": "2024-02-29T06:57:05.134525Z"
    }
   },
   "id": "b390b20fc0431b3c",
   "execution_count": 273
  },
  {
   "cell_type": "code",
   "outputs": [
    {
     "data": {
      "text/plain": "array([0, 1, 0, 2, 2], dtype=int64)"
     },
     "execution_count": 274,
     "metadata": {},
     "output_type": "execute_result"
    }
   ],
   "source": [
    "result = model.predict_proba(X_test.iloc[:5]).argmax(axis = 1)\n",
    "result"
   ],
   "metadata": {
    "collapsed": false,
    "ExecuteTime": {
     "end_time": "2024-02-29T06:57:05.199578Z",
     "start_time": "2024-02-29T06:57:05.187924Z"
    }
   },
   "id": "137552c035c1d6e4",
   "execution_count": 274
  },
  {
   "cell_type": "code",
   "outputs": [
    {
     "ename": "AttributeError",
     "evalue": "'numpy.ndarray' object has no attribute 'to_list'",
     "output_type": "error",
     "traceback": [
      "\u001B[1;31m---------------------------------------------------------------------------\u001B[0m",
      "\u001B[1;31mAttributeError\u001B[0m                            Traceback (most recent call last)",
      "Cell \u001B[1;32mIn[275], line 2\u001B[0m\n\u001B[0;32m      1\u001B[0m data \u001B[38;5;241m=\u001B[39m {\u001B[38;5;124m\"\u001B[39m\u001B[38;5;124mPre Y\u001B[39m\u001B[38;5;124m\"\u001B[39m:[model\u001B[38;5;241m.\u001B[39mclasses_[idx] \u001B[38;5;28;01mfor\u001B[39;00m idx \u001B[38;5;129;01min\u001B[39;00m result],\n\u001B[1;32m----> 2\u001B[0m         \u001B[38;5;124m\"\u001B[39m\u001B[38;5;124mTrue Y\u001B[39m\u001B[38;5;124m\"\u001B[39m: \u001B[43my_test\u001B[49m\u001B[43m[\u001B[49m\u001B[43m:\u001B[49m\u001B[38;5;241;43m5\u001B[39;49m\u001B[43m]\u001B[49m\u001B[38;5;241;43m.\u001B[39;49m\u001B[43mto_list\u001B[49m()}\n",
      "\u001B[1;31mAttributeError\u001B[0m: 'numpy.ndarray' object has no attribute 'to_list'"
     ]
    }
   ],
   "source": [
    "data = {\"Pre Y\":[model.classes_[idx] for idx in result],\n",
    "        \"True Y\": y_test[:5].to_list()}"
   ],
   "metadata": {
    "collapsed": false,
    "ExecuteTime": {
     "end_time": "2024-02-29T06:57:05.246744Z",
     "start_time": "2024-02-29T06:57:05.216477Z"
    }
   },
   "id": "3ac565f79f1c1891",
   "execution_count": 275
  },
  {
   "cell_type": "code",
   "outputs": [
    {
     "data": {
      "text/plain": "    Pre Y  True Y\n0   Bream   Bream\n1  Parkki  Parkki\n2   Bream   Bream\n3   Perch   Perch\n4   Perch   Perch",
      "text/html": "<div>\n<style scoped>\n    .dataframe tbody tr th:only-of-type {\n        vertical-align: middle;\n    }\n\n    .dataframe tbody tr th {\n        vertical-align: top;\n    }\n\n    .dataframe thead th {\n        text-align: right;\n    }\n</style>\n<table border=\"1\" class=\"dataframe\">\n  <thead>\n    <tr style=\"text-align: right;\">\n      <th></th>\n      <th>Pre Y</th>\n      <th>True Y</th>\n    </tr>\n  </thead>\n  <tbody>\n    <tr>\n      <th>0</th>\n      <td>Bream</td>\n      <td>Bream</td>\n    </tr>\n    <tr>\n      <th>1</th>\n      <td>Parkki</td>\n      <td>Parkki</td>\n    </tr>\n    <tr>\n      <th>2</th>\n      <td>Bream</td>\n      <td>Bream</td>\n    </tr>\n    <tr>\n      <th>3</th>\n      <td>Perch</td>\n      <td>Perch</td>\n    </tr>\n    <tr>\n      <th>4</th>\n      <td>Perch</td>\n      <td>Perch</td>\n    </tr>\n  </tbody>\n</table>\n</div>"
     },
     "execution_count": 276,
     "metadata": {},
     "output_type": "execute_result"
    }
   ],
   "source": [
    "pd.DataFrame(data)\n",
    "\n",
    "# 예측값과 진짜값이 동일하게 나온걸 확인할 수 있다."
   ],
   "metadata": {
    "collapsed": false,
    "ExecuteTime": {
     "end_time": "2024-02-29T06:57:05.278077Z",
     "start_time": "2024-02-29T06:57:05.261306Z"
    }
   },
   "id": "39909f6c05af4513",
   "execution_count": 276
  },
  {
   "cell_type": "code",
   "outputs": [],
   "source": [],
   "metadata": {
    "collapsed": false,
    "ExecuteTime": {
     "end_time": "2024-02-29T06:57:05.293671Z",
     "start_time": "2024-02-29T06:57:05.279075Z"
    }
   },
   "id": "6615d9249e738ddb",
   "execution_count": 276
  },
  {
   "cell_type": "markdown",
   "source": [
    "(6) 모델 성능 평가 <hr>\n",
    "- 정확도\n",
    "- 정밀도\n",
    "- 재현율\n",
    "- F1 - score\n",
    "- Confusion Matrics\n",
    "- Classification Report"
   ],
   "metadata": {
    "collapsed": false
   },
   "id": "5ee6e2ebad9894d9"
  },
  {
   "cell_type": "code",
   "outputs": [],
   "source": [
    "from sklearn.metrics import accuracy_score, f1_score, precision_score, recall_score, confusion_matrix, classification_report"
   ],
   "metadata": {
    "collapsed": false,
    "ExecuteTime": {
     "end_time": "2024-02-29T06:57:05.309209Z",
     "start_time": "2024-02-29T06:57:05.294670Z"
    }
   },
   "id": "5bb201cf0494732b",
   "execution_count": 277
  },
  {
   "cell_type": "code",
   "outputs": [
    {
     "data": {
      "text/plain": "(40, 5)"
     },
     "execution_count": 278,
     "metadata": {},
     "output_type": "execute_result"
    }
   ],
   "source": [
    "X_test.shape"
   ],
   "metadata": {
    "collapsed": false,
    "ExecuteTime": {
     "end_time": "2024-02-29T06:57:05.324820Z",
     "start_time": "2024-02-29T06:57:05.310206Z"
    }
   },
   "id": "d7e8f9bfa334c6f8",
   "execution_count": 278
  },
  {
   "cell_type": "code",
   "outputs": [
    {
     "name": "stdout",
     "output_type": "stream",
     "text": [
      "              precision    recall  f1-score   support\n",
      "\n",
      "           0       1.00      1.00      1.00         9\n",
      "           1       1.00      1.00      1.00         3\n",
      "           2       0.93      1.00      0.97        14\n",
      "           3       1.00      1.00      1.00         4\n",
      "           4       1.00      1.00      1.00         5\n",
      "           5       1.00      1.00      1.00         4\n",
      "           6       0.00      0.00      0.00         1\n",
      "\n",
      "    accuracy                           0.97        40\n",
      "   macro avg       0.85      0.86      0.85        40\n",
      "weighted avg       0.95      0.97      0.96        40\n"
     ]
    }
   ],
   "source": [
    "result = classification_report(y_test, model.predict(X_test), zero_division = 0)\n",
    "print(result)"
   ],
   "metadata": {
    "collapsed": false,
    "ExecuteTime": {
     "end_time": "2024-02-29T06:57:05.340420Z",
     "start_time": "2024-02-29T06:57:05.325831Z"
    }
   },
   "id": "c9c234acc56c686c",
   "execution_count": 279
  },
  {
   "cell_type": "code",
   "outputs": [
    {
     "data": {
      "text/plain": "0.852216748768473"
     },
     "execution_count": 282,
     "metadata": {},
     "output_type": "execute_result"
    }
   ],
   "source": [
    "f1_score(y_test, model.predict(X_test), average = 'macro')"
   ],
   "metadata": {
    "collapsed": false,
    "ExecuteTime": {
     "end_time": "2024-02-29T06:58:58.048507Z",
     "start_time": "2024-02-29T06:58:58.026997Z"
    }
   },
   "id": "3306675f7ce8aa5f",
   "execution_count": 282
  },
  {
   "cell_type": "code",
   "outputs": [
    {
     "data": {
      "text/plain": "0.9629310344827587"
     },
     "execution_count": 283,
     "metadata": {},
     "output_type": "execute_result"
    }
   ],
   "source": [
    "f1_score(y_test, model.predict(X_test), average = 'weighted')"
   ],
   "metadata": {
    "collapsed": false,
    "ExecuteTime": {
     "end_time": "2024-02-29T06:59:12.489854Z",
     "start_time": "2024-02-29T06:59:12.470755Z"
    }
   },
   "id": "4a02c4358bb350e1",
   "execution_count": 283
  },
  {
   "cell_type": "code",
   "outputs": [
    {
     "data": {
      "text/plain": "0.975"
     },
     "execution_count": 285,
     "metadata": {},
     "output_type": "execute_result"
    }
   ],
   "source": [
    "recall_score(y_test, model.predict(X_test), average = 'micro')"
   ],
   "metadata": {
    "collapsed": false,
    "ExecuteTime": {
     "end_time": "2024-02-29T07:00:29.648059Z",
     "start_time": "2024-02-29T07:00:29.631898Z"
    }
   },
   "id": "eb7a78438b88852b",
   "execution_count": 285
  },
  {
   "cell_type": "code",
   "outputs": [
    {
     "data": {
      "text/plain": "array([[ 9,  0,  0,  0,  0,  0,  0],\n       [ 0,  3,  0,  0,  0,  0,  0],\n       [ 0,  0, 14,  0,  0,  0,  0],\n       [ 0,  0,  0,  4,  0,  0,  0],\n       [ 0,  0,  0,  0,  5,  0,  0],\n       [ 0,  0,  0,  0,  0,  4,  0],\n       [ 0,  0,  1,  0,  0,  0,  0]], dtype=int64)"
     },
     "execution_count": 286,
     "metadata": {},
     "output_type": "execute_result"
    }
   ],
   "source": [
    "confusion_matrix(y_test, model.predict(X_test), )"
   ],
   "metadata": {
    "collapsed": false,
    "ExecuteTime": {
     "end_time": "2024-02-29T07:01:35.065641Z",
     "start_time": "2024-02-29T07:01:35.056254Z"
    }
   },
   "id": "6d08fea3e831a31f",
   "execution_count": 286
  },
  {
   "cell_type": "code",
   "outputs": [],
   "source": [],
   "metadata": {
    "collapsed": false
   },
   "id": "bb6759f3250b0624"
  }
 ],
 "metadata": {
  "kernelspec": {
   "display_name": "Python 3",
   "language": "python",
   "name": "python3"
  },
  "language_info": {
   "codemirror_mode": {
    "name": "ipython",
    "version": 2
   },
   "file_extension": ".py",
   "mimetype": "text/x-python",
   "name": "python",
   "nbconvert_exporter": "python",
   "pygments_lexer": "ipython2",
   "version": "2.7.6"
  }
 },
 "nbformat": 4,
 "nbformat_minor": 5
}
