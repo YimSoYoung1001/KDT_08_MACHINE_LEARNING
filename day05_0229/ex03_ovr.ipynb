{
 "cells": [
  {
   "cell_type": "markdown",
   "source": [
    "### OvR & OvO 모듈 활용\n",
    "- OvR = OneVsRest\n",
    "- OvO = OneVsOne"
   ],
   "metadata": {
    "collapsed": false
   },
   "id": "6076767171dd8774"
  },
  {
   "cell_type": "markdown",
   "source": [
    "(1) 모듈 로딩 & 데이터 준비"
   ],
   "metadata": {
    "collapsed": false
   },
   "id": "f60083b28d9001d1"
  },
  {
   "cell_type": "code",
   "outputs": [],
   "source": [
    "## 모듈 로딩\n",
    "from sklearn.multiclass import OneVsOneClassifier, OneVsRestClassifier\n",
    "from sklearn.linear_model import LogisticRegression\n",
    "import pandas as pd\n",
    "import numpy as np"
   ],
   "metadata": {
    "collapsed": false,
    "ExecuteTime": {
     "end_time": "2024-03-02T11:44:18.168045Z",
     "start_time": "2024-03-02T11:44:18.155351Z"
    }
   },
   "id": "50279e747f1f7f85",
   "execution_count": 108
  },
  {
   "cell_type": "code",
   "outputs": [
    {
     "data": {
      "text/plain": "  Species  Weight  Length  Diagonal   Height   Width\n0   Bream   242.0    25.4      30.0  11.5200  4.0200\n1   Bream   290.0    26.3      31.2  12.4800  4.3056\n2   Bream   340.0    26.5      31.1  12.3778  4.6961\n3   Bream   363.0    29.0      33.5  12.7300  4.4555\n4   Bream   430.0    29.0      34.0  12.4440  5.1340",
      "text/html": "<div>\n<style scoped>\n    .dataframe tbody tr th:only-of-type {\n        vertical-align: middle;\n    }\n\n    .dataframe tbody tr th {\n        vertical-align: top;\n    }\n\n    .dataframe thead th {\n        text-align: right;\n    }\n</style>\n<table border=\"1\" class=\"dataframe\">\n  <thead>\n    <tr style=\"text-align: right;\">\n      <th></th>\n      <th>Species</th>\n      <th>Weight</th>\n      <th>Length</th>\n      <th>Diagonal</th>\n      <th>Height</th>\n      <th>Width</th>\n    </tr>\n  </thead>\n  <tbody>\n    <tr>\n      <th>0</th>\n      <td>Bream</td>\n      <td>242.0</td>\n      <td>25.4</td>\n      <td>30.0</td>\n      <td>11.5200</td>\n      <td>4.0200</td>\n    </tr>\n    <tr>\n      <th>1</th>\n      <td>Bream</td>\n      <td>290.0</td>\n      <td>26.3</td>\n      <td>31.2</td>\n      <td>12.4800</td>\n      <td>4.3056</td>\n    </tr>\n    <tr>\n      <th>2</th>\n      <td>Bream</td>\n      <td>340.0</td>\n      <td>26.5</td>\n      <td>31.1</td>\n      <td>12.3778</td>\n      <td>4.6961</td>\n    </tr>\n    <tr>\n      <th>3</th>\n      <td>Bream</td>\n      <td>363.0</td>\n      <td>29.0</td>\n      <td>33.5</td>\n      <td>12.7300</td>\n      <td>4.4555</td>\n    </tr>\n    <tr>\n      <th>4</th>\n      <td>Bream</td>\n      <td>430.0</td>\n      <td>29.0</td>\n      <td>34.0</td>\n      <td>12.4440</td>\n      <td>5.1340</td>\n    </tr>\n  </tbody>\n</table>\n</div>"
     },
     "execution_count": 109,
     "metadata": {},
     "output_type": "execute_result"
    }
   ],
   "source": [
    "# 데이터 준비\n",
    "file = '../data/fish.csv'\n",
    "fishDF = pd.read_csv(file)\n",
    "fishDF.head()"
   ],
   "metadata": {
    "collapsed": false,
    "ExecuteTime": {
     "end_time": "2024-03-02T11:44:18.292492Z",
     "start_time": "2024-03-02T11:44:18.272712Z"
    }
   },
   "id": "9eda6df69cb24b2b",
   "execution_count": 109
  },
  {
   "cell_type": "markdown",
   "source": [
    "(2) 데이터셋 준비"
   ],
   "metadata": {
    "collapsed": false
   },
   "id": "21b149a766bea039"
  },
  {
   "cell_type": "markdown",
   "source": [
    "(2-1) 피처/타겟 분리"
   ],
   "metadata": {
    "collapsed": false
   },
   "id": "298c1fdd96cc3e9d"
  },
  {
   "cell_type": "code",
   "outputs": [],
   "source": [
    "featureDF = fishDF[fishDF.columns[1:]]\n",
    "targetDF = fishDF[fishDF.columns[0]]"
   ],
   "metadata": {
    "collapsed": false,
    "ExecuteTime": {
     "end_time": "2024-03-02T11:44:18.308432Z",
     "start_time": "2024-03-02T11:44:18.294817Z"
    }
   },
   "id": "41547ebc5646f747",
   "execution_count": 110
  },
  {
   "cell_type": "code",
   "outputs": [
    {
     "name": "stdout",
     "output_type": "stream",
     "text": [
      "featureDF : (159, 5)\n",
      "targetDF : (159,)\n"
     ]
    }
   ],
   "source": [
    "print(f\"featureDF : {featureDF.shape}\")\n",
    "print(f\"targetDF : {targetDF.shape}\")"
   ],
   "metadata": {
    "collapsed": false,
    "ExecuteTime": {
     "end_time": "2024-03-02T11:44:18.324305Z",
     "start_time": "2024-03-02T11:44:18.309469Z"
    }
   },
   "id": "ddd675c57eaa262d",
   "execution_count": 111
  },
  {
   "cell_type": "code",
   "outputs": [
    {
     "data": {
      "text/plain": "array(['Bream', 'Roach', 'Whitefish', 'Parkki', 'Perch', 'Pike', 'Smelt'],\n      dtype=object)"
     },
     "execution_count": 112,
     "metadata": {},
     "output_type": "execute_result"
    }
   ],
   "source": [
    "targetDF.unique()"
   ],
   "metadata": {
    "collapsed": false,
    "ExecuteTime": {
     "end_time": "2024-03-02T11:44:18.340002Z",
     "start_time": "2024-03-02T11:44:18.325303Z"
    }
   },
   "id": "c88dd213303b7120",
   "execution_count": 112
  },
  {
   "cell_type": "markdown",
   "source": [
    "(2-2) 학습용/테스트용 데이터셋 준비 "
   ],
   "metadata": {
    "collapsed": false
   },
   "id": "3ab6b3aaf3d1eb92"
  },
  {
   "cell_type": "code",
   "outputs": [
    {
     "name": "stdout",
     "output_type": "stream",
     "text": [
      "[train dataset] (119, 5), (119,)\n",
      "[test dataset] (40, 5), (40,)\n"
     ]
    }
   ],
   "source": [
    "from sklearn.model_selection import train_test_split\n",
    "\n",
    "X_train, X_test, y_train, y_test = train_test_split(featureDF, targetDF, stratify=targetDF, random_state=11)\n",
    "print(f'[train dataset] {X_train.shape}, {y_train.shape}')\n",
    "print(f'[test dataset] {X_test.shape}, {y_test.shape}')"
   ],
   "metadata": {
    "collapsed": false,
    "ExecuteTime": {
     "end_time": "2024-03-02T11:44:18.355559Z",
     "start_time": "2024-03-02T11:44:18.342065Z"
    }
   },
   "id": "88c3241eea1a3c68",
   "execution_count": 113
  },
  {
   "cell_type": "markdown",
   "source": [
    "(3) 학습 진행"
   ],
   "metadata": {
    "collapsed": false
   },
   "id": "52a7138606d5dcce"
  },
  {
   "cell_type": "code",
   "outputs": [],
   "source": [
    "## OVO/OVR에서 사용할 관측치 (Estimator) 생성\n",
    "model = LogisticRegression(solver = 'liblinear')"
   ],
   "metadata": {
    "collapsed": false,
    "ExecuteTime": {
     "end_time": "2024-03-02T11:44:18.371245Z",
     "start_time": "2024-03-02T11:44:18.357682Z"
    }
   },
   "id": "5e41ca4f4d9c12a5",
   "execution_count": 114
  },
  {
   "cell_type": "markdown",
   "source": [
    "(3-1) OvO 기반 학습 진행"
   ],
   "metadata": {
    "collapsed": false
   },
   "id": "a2ccf38df2f80474"
  },
  {
   "cell_type": "code",
   "outputs": [
    {
     "data": {
      "text/plain": "OneVsOneClassifier(estimator=LogisticRegression(solver='liblinear'))",
      "text/html": "<style>#sk-container-id-12 {color: black;}#sk-container-id-12 pre{padding: 0;}#sk-container-id-12 div.sk-toggleable {background-color: white;}#sk-container-id-12 label.sk-toggleable__label {cursor: pointer;display: block;width: 100%;margin-bottom: 0;padding: 0.3em;box-sizing: border-box;text-align: center;}#sk-container-id-12 label.sk-toggleable__label-arrow:before {content: \"▸\";float: left;margin-right: 0.25em;color: #696969;}#sk-container-id-12 label.sk-toggleable__label-arrow:hover:before {color: black;}#sk-container-id-12 div.sk-estimator:hover label.sk-toggleable__label-arrow:before {color: black;}#sk-container-id-12 div.sk-toggleable__content {max-height: 0;max-width: 0;overflow: hidden;text-align: left;background-color: #f0f8ff;}#sk-container-id-12 div.sk-toggleable__content pre {margin: 0.2em;color: black;border-radius: 0.25em;background-color: #f0f8ff;}#sk-container-id-12 input.sk-toggleable__control:checked~div.sk-toggleable__content {max-height: 200px;max-width: 100%;overflow: auto;}#sk-container-id-12 input.sk-toggleable__control:checked~label.sk-toggleable__label-arrow:before {content: \"▾\";}#sk-container-id-12 div.sk-estimator input.sk-toggleable__control:checked~label.sk-toggleable__label {background-color: #d4ebff;}#sk-container-id-12 div.sk-label input.sk-toggleable__control:checked~label.sk-toggleable__label {background-color: #d4ebff;}#sk-container-id-12 input.sk-hidden--visually {border: 0;clip: rect(1px 1px 1px 1px);clip: rect(1px, 1px, 1px, 1px);height: 1px;margin: -1px;overflow: hidden;padding: 0;position: absolute;width: 1px;}#sk-container-id-12 div.sk-estimator {font-family: monospace;background-color: #f0f8ff;border: 1px dotted black;border-radius: 0.25em;box-sizing: border-box;margin-bottom: 0.5em;}#sk-container-id-12 div.sk-estimator:hover {background-color: #d4ebff;}#sk-container-id-12 div.sk-parallel-item::after {content: \"\";width: 100%;border-bottom: 1px solid gray;flex-grow: 1;}#sk-container-id-12 div.sk-label:hover label.sk-toggleable__label {background-color: #d4ebff;}#sk-container-id-12 div.sk-serial::before {content: \"\";position: absolute;border-left: 1px solid gray;box-sizing: border-box;top: 0;bottom: 0;left: 50%;z-index: 0;}#sk-container-id-12 div.sk-serial {display: flex;flex-direction: column;align-items: center;background-color: white;padding-right: 0.2em;padding-left: 0.2em;position: relative;}#sk-container-id-12 div.sk-item {position: relative;z-index: 1;}#sk-container-id-12 div.sk-parallel {display: flex;align-items: stretch;justify-content: center;background-color: white;position: relative;}#sk-container-id-12 div.sk-item::before, #sk-container-id-12 div.sk-parallel-item::before {content: \"\";position: absolute;border-left: 1px solid gray;box-sizing: border-box;top: 0;bottom: 0;left: 50%;z-index: -1;}#sk-container-id-12 div.sk-parallel-item {display: flex;flex-direction: column;z-index: 1;position: relative;background-color: white;}#sk-container-id-12 div.sk-parallel-item:first-child::after {align-self: flex-end;width: 50%;}#sk-container-id-12 div.sk-parallel-item:last-child::after {align-self: flex-start;width: 50%;}#sk-container-id-12 div.sk-parallel-item:only-child::after {width: 0;}#sk-container-id-12 div.sk-dashed-wrapped {border: 1px dashed gray;margin: 0 0.4em 0.5em 0.4em;box-sizing: border-box;padding-bottom: 0.4em;background-color: white;}#sk-container-id-12 div.sk-label label {font-family: monospace;font-weight: bold;display: inline-block;line-height: 1.2em;}#sk-container-id-12 div.sk-label-container {text-align: center;}#sk-container-id-12 div.sk-container {/* jupyter's `normalize.less` sets `[hidden] { display: none; }` but bootstrap.min.css set `[hidden] { display: none !important; }` so we also need the `!important` here to be able to override the default hidden behavior on the sphinx rendered scikit-learn.org. See: https://github.com/scikit-learn/scikit-learn/issues/21755 */display: inline-block !important;position: relative;}#sk-container-id-12 div.sk-text-repr-fallback {display: none;}</style><div id=\"sk-container-id-12\" class=\"sk-top-container\"><div class=\"sk-text-repr-fallback\"><pre>OneVsOneClassifier(estimator=LogisticRegression(solver=&#x27;liblinear&#x27;))</pre><b>In a Jupyter environment, please rerun this cell to show the HTML representation or trust the notebook. <br />On GitHub, the HTML representation is unable to render, please try loading this page with nbviewer.org.</b></div><div class=\"sk-container\" hidden><div class=\"sk-item sk-dashed-wrapped\"><div class=\"sk-label-container\"><div class=\"sk-label sk-toggleable\"><input class=\"sk-toggleable__control sk-hidden--visually\" id=\"sk-estimator-id-34\" type=\"checkbox\" ><label for=\"sk-estimator-id-34\" class=\"sk-toggleable__label sk-toggleable__label-arrow\">OneVsOneClassifier</label><div class=\"sk-toggleable__content\"><pre>OneVsOneClassifier(estimator=LogisticRegression(solver=&#x27;liblinear&#x27;))</pre></div></div></div><div class=\"sk-parallel\"><div class=\"sk-parallel-item\"><div class=\"sk-item\"><div class=\"sk-label-container\"><div class=\"sk-label sk-toggleable\"><input class=\"sk-toggleable__control sk-hidden--visually\" id=\"sk-estimator-id-35\" type=\"checkbox\" ><label for=\"sk-estimator-id-35\" class=\"sk-toggleable__label sk-toggleable__label-arrow\">estimator: LogisticRegression</label><div class=\"sk-toggleable__content\"><pre>LogisticRegression(solver=&#x27;liblinear&#x27;)</pre></div></div></div><div class=\"sk-serial\"><div class=\"sk-item\"><div class=\"sk-estimator sk-toggleable\"><input class=\"sk-toggleable__control sk-hidden--visually\" id=\"sk-estimator-id-36\" type=\"checkbox\" ><label for=\"sk-estimator-id-36\" class=\"sk-toggleable__label sk-toggleable__label-arrow\">LogisticRegression</label><div class=\"sk-toggleable__content\"><pre>LogisticRegression(solver=&#x27;liblinear&#x27;)</pre></div></div></div></div></div></div></div></div></div></div>"
     },
     "execution_count": 115,
     "metadata": {},
     "output_type": "execute_result"
    }
   ],
   "source": [
    "ovoModel = OneVsOneClassifier(model)\n",
    "ovoModel.fit(X_train, y_train)"
   ],
   "metadata": {
    "collapsed": false,
    "ExecuteTime": {
     "end_time": "2024-03-02T11:44:18.412488Z",
     "start_time": "2024-03-02T11:44:18.377468Z"
    }
   },
   "id": "733f8c5f90d53b30",
   "execution_count": 115
  },
  {
   "cell_type": "code",
   "outputs": [
    {
     "name": "stdout",
     "output_type": "stream",
     "text": [
      "classes_ : ['Bream' 'Parkki' 'Perch' 'Pike' 'Roach' 'Smelt' 'Whitefish']\n",
      "feature_names_in : ['Weight' 'Length' 'Diagonal' 'Height' 'Width']\n",
      "estimators_ : 21개\n"
     ]
    }
   ],
   "source": [
    "# 모델 파라미터 확인\n",
    "print(f\"classes_ : {ovoModel.classes_}\")\n",
    "print(f\"feature_names_in : {ovoModel.feature_names_in_}\")\n",
    "print(f\"estimators_ : {len(ovoModel.estimators_)}개\")     #7*6/2"
   ],
   "metadata": {
    "collapsed": false,
    "ExecuteTime": {
     "end_time": "2024-03-02T11:44:18.506114Z",
     "start_time": "2024-03-02T11:44:18.496732Z"
    }
   },
   "id": "a7488a1ccea734bc",
   "execution_count": 116
  },
  {
   "cell_type": "code",
   "outputs": [
    {
     "name": "stdout",
     "output_type": "stream",
     "text": [
      "[Train Score] 0.957983193277311\n",
      "[Test Score] 0.925\n"
     ]
    }
   ],
   "source": [
    "# 평가\n",
    "print(f\"[Train Score] {ovoModel.score(X_train, y_train)}\")\n",
    "print(f\"[Test Score] {ovoModel.score(X_test, y_test)}\")"
   ],
   "metadata": {
    "collapsed": false,
    "ExecuteTime": {
     "end_time": "2024-03-02T11:44:18.554643Z",
     "start_time": "2024-03-02T11:44:18.524431Z"
    }
   },
   "id": "fdcef4c87c347a8d",
   "execution_count": 117
  },
  {
   "cell_type": "code",
   "outputs": [
    {
     "data": {
      "text/plain": "array(['Bream', 'Parkki'], dtype=object)"
     },
     "execution_count": 118,
     "metadata": {},
     "output_type": "execute_result"
    }
   ],
   "source": [
    "# 예측\n",
    "ovoModel.predict(X_test[:2])"
   ],
   "metadata": {
    "collapsed": false,
    "ExecuteTime": {
     "end_time": "2024-03-02T11:44:18.606806Z",
     "start_time": "2024-03-02T11:44:18.567461Z"
    }
   },
   "id": "419653042ee34c67",
   "execution_count": 118
  },
  {
   "cell_type": "code",
   "outputs": [
    {
     "data": {
      "text/plain": "array([[ 6.32094951,  5.32872468,  2.32890163,  0.68506766,  3.322758  ,\n        -0.33168462,  4.3140798 ],\n       [ 4.26849104,  6.32543178,  2.3234672 ,  0.67951149,  5.319289  ,\n         0.67104504,  1.85564622]])"
     },
     "execution_count": 119,
     "metadata": {},
     "output_type": "execute_result"
    }
   ],
   "source": [
    "ovoModel.decision_function(X_test[:2])\n",
    "#얘가 왜 Bream이라고 결과를 내렸는지 그 과정을 보여줌"
   ],
   "metadata": {
    "collapsed": false,
    "ExecuteTime": {
     "end_time": "2024-03-02T11:44:18.654173Z",
     "start_time": "2024-03-02T11:44:18.624131Z"
    }
   },
   "id": "385a4da6526158b0",
   "execution_count": 119
  },
  {
   "cell_type": "code",
   "outputs": [
    {
     "data": {
      "text/plain": "array([[ 6.32094951,  5.32872468,  2.32890163,  0.68506766,  3.322758  ,\n        -0.33168462,  4.3140798 ],\n       [ 4.26849104,  6.32543178,  2.3234672 ,  0.67951149,  5.319289  ,\n         0.67104504,  1.85564622],\n       [ 6.32287166,  4.32937271,  2.33045826,  1.04130317,  3.32286917,\n        -0.33217509,  5.32135743],\n       [-0.31698922,  4.30727888,  6.32181067,  0.69272385,  5.31510032,\n         2.68531819,  1.70018312],\n       [-0.3193889 ,  4.29876919,  6.3233354 ,  0.70691145,  5.31506751,\n         2.68334065,  1.69981813],\n       [-0.31992394,  2.70465809,  5.26935084,  1.72912082,  4.30701097,\n         6.32315231,  0.69302848],\n       [ 4.32872803,  1.33115335,  6.33234265,  3.32967376,  2.31700958,\n        -0.33289414,  5.32965875],\n       [ 0.69526383,  2.32450671,  6.33001521,  3.30819361,  5.31761676,\n        -0.33133912,  4.29676335],\n       [ 2.32295666,  1.33062092,  5.33243552,  6.33077265,  3.32026527,\n        -0.33289516,  4.32935424],\n       [ 2.29564076,  3.32711992,  4.32988592,  1.27374952,  6.32021811,\n        -0.33167846,  5.31279929],\n       [-0.32008809,  2.70971074,  5.28518911,  1.72667499,  4.30655853,\n         6.3225542 ,  0.69264331],\n       [ 0.71247242,  2.32593755,  6.33045025,  3.31419828,  5.31776565,\n        -0.3316911 ,  4.30906013],\n       [ 0.6900211 ,  4.31683738,  5.32496221,  0.69907718,  6.31776243,\n         1.672951  ,  1.73561789],\n       [-0.31930908,  2.70646472,  5.2726204 ,  1.73178417,  4.30555978,\n         6.32250892,  0.69438945],\n       [ 0.67625617,  2.32094258,  5.33095952,  6.32556623,  4.32112957,\n        -0.33173513,  3.2953486 ],\n       [ 5.29813799,  6.32610585,  2.32589539,  0.6823665 ,  4.31854995,\n        -0.33011207,  3.26325231],\n       [ 6.32923496,  4.33104436,  2.3318618 ,  1.32452276,  3.32149879,\n        -0.33276398,  5.32863692],\n       [-0.31916193,  4.30959068,  6.32618727,  1.73771694,  5.31692548,\n         1.67387147,  1.71098038],\n       [ 4.32920885,  1.33136394,  6.3324466 ,  3.33008641,  2.31770625,\n        -0.33293959,  5.33005261],\n       [ 6.32946873,  4.33117604,  2.33189128,  1.32311288,  3.32286966,\n        -0.33278166,  5.32875647],\n       [ 6.32928144,  4.33114314,  2.33187397,  1.32268142,  3.32272981,\n        -0.33276892,  5.32857022],\n       [ 6.32666731,  4.33022625,  2.33116689,  1.30921954,  3.32211712,\n        -0.33248386,  5.32552877],\n       [ 6.32886642,  4.33098142,  2.33181283,  1.32254806,  3.32288018,\n        -0.33273723,  5.32826876],\n       [-0.317653  ,  4.28532671,  6.31637128,  0.6933066 ,  5.31242526,\n         3.23557264,  1.69648958],\n       [-0.31320393,  4.31204925,  6.32452382,  1.70528432,  5.31414305,\n         1.67484719,  1.72287229],\n       [ 2.74475886,  6.31859622,  2.28262335, -0.32087962,  5.31461212,\n         2.70398111,  1.708179  ],\n       [ 1.6864865 ,  1.32780017,  5.33186111,  6.32885043,  4.32146462,\n        -0.33250524,  3.32330776],\n       [ 2.25759131,  3.32701255,  5.33021717,  1.3006934 ,  6.3201178 ,\n        -0.33175093,  4.31264101],\n       [ 0.68378174,  3.31935822,  6.328509  ,  2.25554237,  5.31746264,\n        -0.32985436,  3.83810973],\n       [ 6.32926335,  4.33104777,  2.3318532 ,  1.32445837,  3.32169088,\n        -0.33276372,  5.32864183],\n       [ 0.68557836,  3.31561538,  5.32704902,  1.89780489,  6.31892474,\n         0.67116159,  2.78725992],\n       [ 0.67742022,  2.31783586,  5.33049488,  6.32393681,  4.32198605,\n        -0.33145326,  3.28890236],\n       [-0.31779289,  3.14439212,  6.30731793,  0.70033772,  5.30919381,\n         4.31159634,  1.69597973],\n       [ 5.31948158,  6.32910108,  2.32977614,  0.68826395,  3.32408804,\n        -0.33190018,  4.31525272],\n       [-0.31752153,  4.31351092,  6.32583695,  1.71192855,  5.31697815,\n         1.6737833 ,  1.71184415],\n       [-0.31721694,  4.29722678,  5.31769196,  0.69309415,  6.31675636,\n         2.70914071,  1.69839094],\n       [ 4.32605015,  1.33047327,  6.33202645,  3.32777578,  2.31891224,\n        -0.33273615,  5.32801764],\n       [-0.3140663 ,  4.31395242,  5.32467537,  1.70819377,  6.3187883 ,\n         1.67355701,  1.72304788],\n       [-0.31952623,  1.70126599,  4.27590101,  3.75828355,  4.30271937,\n         6.32278124,  0.69475592],\n       [-0.31285867,  2.78308952,  5.26405862,  0.70392302,  4.29445894,\n         6.31895089,  1.70185675]])"
     },
     "execution_count": 120,
     "metadata": {},
     "output_type": "execute_result"
    }
   ],
   "source": [
    "ovoModel.decision_function(X_test)"
   ],
   "metadata": {
    "collapsed": false,
    "ExecuteTime": {
     "end_time": "2024-03-02T11:44:18.685133Z",
     "start_time": "2024-03-02T11:44:18.657167Z"
    }
   },
   "id": "a7e795f674759c51",
   "execution_count": 120
  },
  {
   "cell_type": "markdown",
   "source": [
    "(3-2) OvR 기반 학습 진행"
   ],
   "metadata": {
    "collapsed": false
   },
   "id": "dda2cfb9d05b87ed"
  },
  {
   "cell_type": "code",
   "outputs": [
    {
     "data": {
      "text/plain": "OneVsRestClassifier(estimator=LogisticRegression(solver='liblinear'))",
      "text/html": "<style>#sk-container-id-13 {color: black;}#sk-container-id-13 pre{padding: 0;}#sk-container-id-13 div.sk-toggleable {background-color: white;}#sk-container-id-13 label.sk-toggleable__label {cursor: pointer;display: block;width: 100%;margin-bottom: 0;padding: 0.3em;box-sizing: border-box;text-align: center;}#sk-container-id-13 label.sk-toggleable__label-arrow:before {content: \"▸\";float: left;margin-right: 0.25em;color: #696969;}#sk-container-id-13 label.sk-toggleable__label-arrow:hover:before {color: black;}#sk-container-id-13 div.sk-estimator:hover label.sk-toggleable__label-arrow:before {color: black;}#sk-container-id-13 div.sk-toggleable__content {max-height: 0;max-width: 0;overflow: hidden;text-align: left;background-color: #f0f8ff;}#sk-container-id-13 div.sk-toggleable__content pre {margin: 0.2em;color: black;border-radius: 0.25em;background-color: #f0f8ff;}#sk-container-id-13 input.sk-toggleable__control:checked~div.sk-toggleable__content {max-height: 200px;max-width: 100%;overflow: auto;}#sk-container-id-13 input.sk-toggleable__control:checked~label.sk-toggleable__label-arrow:before {content: \"▾\";}#sk-container-id-13 div.sk-estimator input.sk-toggleable__control:checked~label.sk-toggleable__label {background-color: #d4ebff;}#sk-container-id-13 div.sk-label input.sk-toggleable__control:checked~label.sk-toggleable__label {background-color: #d4ebff;}#sk-container-id-13 input.sk-hidden--visually {border: 0;clip: rect(1px 1px 1px 1px);clip: rect(1px, 1px, 1px, 1px);height: 1px;margin: -1px;overflow: hidden;padding: 0;position: absolute;width: 1px;}#sk-container-id-13 div.sk-estimator {font-family: monospace;background-color: #f0f8ff;border: 1px dotted black;border-radius: 0.25em;box-sizing: border-box;margin-bottom: 0.5em;}#sk-container-id-13 div.sk-estimator:hover {background-color: #d4ebff;}#sk-container-id-13 div.sk-parallel-item::after {content: \"\";width: 100%;border-bottom: 1px solid gray;flex-grow: 1;}#sk-container-id-13 div.sk-label:hover label.sk-toggleable__label {background-color: #d4ebff;}#sk-container-id-13 div.sk-serial::before {content: \"\";position: absolute;border-left: 1px solid gray;box-sizing: border-box;top: 0;bottom: 0;left: 50%;z-index: 0;}#sk-container-id-13 div.sk-serial {display: flex;flex-direction: column;align-items: center;background-color: white;padding-right: 0.2em;padding-left: 0.2em;position: relative;}#sk-container-id-13 div.sk-item {position: relative;z-index: 1;}#sk-container-id-13 div.sk-parallel {display: flex;align-items: stretch;justify-content: center;background-color: white;position: relative;}#sk-container-id-13 div.sk-item::before, #sk-container-id-13 div.sk-parallel-item::before {content: \"\";position: absolute;border-left: 1px solid gray;box-sizing: border-box;top: 0;bottom: 0;left: 50%;z-index: -1;}#sk-container-id-13 div.sk-parallel-item {display: flex;flex-direction: column;z-index: 1;position: relative;background-color: white;}#sk-container-id-13 div.sk-parallel-item:first-child::after {align-self: flex-end;width: 50%;}#sk-container-id-13 div.sk-parallel-item:last-child::after {align-self: flex-start;width: 50%;}#sk-container-id-13 div.sk-parallel-item:only-child::after {width: 0;}#sk-container-id-13 div.sk-dashed-wrapped {border: 1px dashed gray;margin: 0 0.4em 0.5em 0.4em;box-sizing: border-box;padding-bottom: 0.4em;background-color: white;}#sk-container-id-13 div.sk-label label {font-family: monospace;font-weight: bold;display: inline-block;line-height: 1.2em;}#sk-container-id-13 div.sk-label-container {text-align: center;}#sk-container-id-13 div.sk-container {/* jupyter's `normalize.less` sets `[hidden] { display: none; }` but bootstrap.min.css set `[hidden] { display: none !important; }` so we also need the `!important` here to be able to override the default hidden behavior on the sphinx rendered scikit-learn.org. See: https://github.com/scikit-learn/scikit-learn/issues/21755 */display: inline-block !important;position: relative;}#sk-container-id-13 div.sk-text-repr-fallback {display: none;}</style><div id=\"sk-container-id-13\" class=\"sk-top-container\"><div class=\"sk-text-repr-fallback\"><pre>OneVsRestClassifier(estimator=LogisticRegression(solver=&#x27;liblinear&#x27;))</pre><b>In a Jupyter environment, please rerun this cell to show the HTML representation or trust the notebook. <br />On GitHub, the HTML representation is unable to render, please try loading this page with nbviewer.org.</b></div><div class=\"sk-container\" hidden><div class=\"sk-item sk-dashed-wrapped\"><div class=\"sk-label-container\"><div class=\"sk-label sk-toggleable\"><input class=\"sk-toggleable__control sk-hidden--visually\" id=\"sk-estimator-id-37\" type=\"checkbox\" ><label for=\"sk-estimator-id-37\" class=\"sk-toggleable__label sk-toggleable__label-arrow\">OneVsRestClassifier</label><div class=\"sk-toggleable__content\"><pre>OneVsRestClassifier(estimator=LogisticRegression(solver=&#x27;liblinear&#x27;))</pre></div></div></div><div class=\"sk-parallel\"><div class=\"sk-parallel-item\"><div class=\"sk-item\"><div class=\"sk-label-container\"><div class=\"sk-label sk-toggleable\"><input class=\"sk-toggleable__control sk-hidden--visually\" id=\"sk-estimator-id-38\" type=\"checkbox\" ><label for=\"sk-estimator-id-38\" class=\"sk-toggleable__label sk-toggleable__label-arrow\">estimator: LogisticRegression</label><div class=\"sk-toggleable__content\"><pre>LogisticRegression(solver=&#x27;liblinear&#x27;)</pre></div></div></div><div class=\"sk-serial\"><div class=\"sk-item\"><div class=\"sk-estimator sk-toggleable\"><input class=\"sk-toggleable__control sk-hidden--visually\" id=\"sk-estimator-id-39\" type=\"checkbox\" ><label for=\"sk-estimator-id-39\" class=\"sk-toggleable__label sk-toggleable__label-arrow\">LogisticRegression</label><div class=\"sk-toggleable__content\"><pre>LogisticRegression(solver=&#x27;liblinear&#x27;)</pre></div></div></div></div></div></div></div></div></div></div>"
     },
     "execution_count": 121,
     "metadata": {},
     "output_type": "execute_result"
    }
   ],
   "source": [
    "ovrModel = OneVsRestClassifier(model)\n",
    "ovrModel.fit(X_train, y_train)"
   ],
   "metadata": {
    "collapsed": false,
    "ExecuteTime": {
     "end_time": "2024-03-02T11:44:18.732501Z",
     "start_time": "2024-03-02T11:44:18.690336Z"
    }
   },
   "id": "2c7a30919773355a",
   "execution_count": 121
  },
  {
   "cell_type": "code",
   "outputs": [
    {
     "name": "stdout",
     "output_type": "stream",
     "text": [
      "classes_ : ['Bream' 'Parkki' 'Perch' 'Pike' 'Roach' 'Smelt' 'Whitefish']\n",
      "feature_names_in : ['Weight' 'Length' 'Diagonal' 'Height' 'Width']\n",
      "estimators_ : 7개\n"
     ]
    }
   ],
   "source": [
    "# 모델 파라미터 확인\n",
    "print(f\"classes_ : {ovrModel.classes_}\")\n",
    "print(f\"feature_names_in : {ovrModel.feature_names_in_}\")\n",
    "print(f\"estimators_ : {len(ovrModel.estimators_)}개\")"
   ],
   "metadata": {
    "collapsed": false,
    "ExecuteTime": {
     "end_time": "2024-03-02T11:44:18.748399Z",
     "start_time": "2024-03-02T11:44:18.734831Z"
    }
   },
   "id": "f80eb70b012e32d9",
   "execution_count": 122
  },
  {
   "cell_type": "code",
   "outputs": [
    {
     "name": "stdout",
     "output_type": "stream",
     "text": [
      "[Train Score] 0.9495798319327731\n",
      "[Test Score] 0.975\n"
     ]
    }
   ],
   "source": [
    "# 평가\n",
    "print(f\"[Train Score] {ovrModel.score(X_train, y_train)}\")\n",
    "print(f\"[Test Score] {ovrModel.score(X_test, y_test)}\")"
   ],
   "metadata": {
    "collapsed": false,
    "ExecuteTime": {
     "end_time": "2024-03-02T11:44:18.778841Z",
     "start_time": "2024-03-02T11:44:18.751817Z"
    }
   },
   "id": "6b0fb83f42741ade",
   "execution_count": 123
  },
  {
   "cell_type": "code",
   "outputs": [
    {
     "data": {
      "text/plain": "array(['Bream', 'Parkki'], dtype='<U9')"
     },
     "execution_count": 124,
     "metadata": {},
     "output_type": "execute_result"
    }
   ],
   "source": [
    "# 예측\n",
    "ovrModel.predict(X_test[:2])"
   ],
   "metadata": {
    "collapsed": false,
    "ExecuteTime": {
     "end_time": "2024-03-02T11:44:18.794788Z",
     "start_time": "2024-03-02T11:44:18.781831Z"
    }
   },
   "id": "ae04a99f013a6250",
   "execution_count": 124
  },
  {
   "cell_type": "code",
   "outputs": [
    {
     "data": {
      "text/plain": "array([[  1.87053679,   0.13665969,  -7.34472734, -14.76498298,\n         -0.86086327, -27.57113603,  -3.90345836],\n       [ -1.40152254,   2.39014045,  -2.83220689, -12.23098559,\n         -2.55867317, -15.03484394,  -4.32514035]])"
     },
     "execution_count": 125,
     "metadata": {},
     "output_type": "execute_result"
    }
   ],
   "source": [
    "ovrModel.decision_function(X_test[:2])"
   ],
   "metadata": {
    "collapsed": false,
    "ExecuteTime": {
     "end_time": "2024-03-02T11:44:18.810210Z",
     "start_time": "2024-03-02T11:44:18.796781Z"
    }
   },
   "id": "a0d9bdbe697e77f2",
   "execution_count": 125
  },
  {
   "cell_type": "code",
   "outputs": [],
   "source": [
    "ovrModel.decision_function(X_test)"
   ],
   "metadata": {
    "collapsed": false,
    "ExecuteTime": {
     "end_time": "2024-03-02T11:44:18.825300Z",
     "start_time": "2024-03-02T11:44:18.812317Z"
    }
   },
   "id": "8f8a2c26c1fdda3f",
   "execution_count": 126
  },
  {
   "cell_type": "code",
   "outputs": [
    {
     "data": {
      "text/plain": "array(['Bream', 'Parkki', 'Bream', 'Perch', 'Perch', 'Smelt', 'Perch',\n       'Perch', 'Pike', 'Roach', 'Smelt', 'Perch', 'Roach', 'Smelt',\n       'Pike', 'Parkki', 'Bream', 'Perch', 'Perch', 'Bream', 'Bream',\n       'Bream', 'Bream', 'Perch', 'Perch', 'Parkki', 'Pike', 'Perch',\n       'Perch', 'Bream', 'Roach', 'Pike', 'Perch', 'Bream', 'Perch',\n       'Roach', 'Perch', 'Roach', 'Smelt', 'Perch'], dtype='<U9')"
     },
     "execution_count": 127,
     "metadata": {},
     "output_type": "execute_result"
    }
   ],
   "source": [
    "ovrModel.predict(X_test)"
   ],
   "metadata": {
    "collapsed": false,
    "ExecuteTime": {
     "end_time": "2024-03-02T11:44:18.855650Z",
     "start_time": "2024-03-02T11:44:18.842952Z"
    }
   },
   "id": "107dfb76125e1abb",
   "execution_count": 127
  }
 ],
 "metadata": {
  "kernelspec": {
   "display_name": "Python 3",
   "language": "python",
   "name": "python3"
  },
  "language_info": {
   "codemirror_mode": {
    "name": "ipython",
    "version": 2
   },
   "file_extension": ".py",
   "mimetype": "text/x-python",
   "name": "python",
   "nbconvert_exporter": "python",
   "pygments_lexer": "ipython2",
   "version": "2.7.6"
  }
 },
 "nbformat": 4,
 "nbformat_minor": 5
}
