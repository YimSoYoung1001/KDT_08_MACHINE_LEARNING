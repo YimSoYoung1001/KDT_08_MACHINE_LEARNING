{
 "cells": [
  {
   "cell_type": "markdown",
   "source": [
    "### 목표 : 선형 모델 기반의 분류 모델 구현\n",
    "- 데이터 : sklearn.datasets의 iris\n",
    "- 피 처 : 2개\n",
    "- 타겟 : 3개"
   ],
   "metadata": {
    "collapsed": false
   },
   "id": "46a22bb54ab65d73"
  },
  {
   "cell_type": "markdown",
   "source": [
    "(1) 모듈로딩 <hr>"
   ],
   "metadata": {
    "collapsed": false
   },
   "id": "d5422f192c649fb0"
  },
  {
   "cell_type": "code",
   "outputs": [],
   "source": [
    "from sklearn.datasets import load_iris\n",
    "import pandas as pd\n",
    "import numpy as np\n",
    "import matplotlib.pyplot as plt"
   ],
   "metadata": {
    "collapsed": false,
    "ExecuteTime": {
     "end_time": "2024-02-29T04:23:32.014683Z",
     "start_time": "2024-02-29T04:23:32.006331Z"
    }
   },
   "id": "bce21bc6e1c4520c",
   "execution_count": 92
  },
  {
   "cell_type": "code",
   "outputs": [
    {
     "name": "stdout",
     "output_type": "stream",
     "text": [
      "<class 'tuple'> 2\n"
     ]
    }
   ],
   "source": [
    "# 데이터 로딩 => Bunch 타입으로 dict와 유사한 scikit-learn 클래스\n",
    "#load_iris() # 전체 다 나옴\n",
    "\n",
    "dataXy = load_iris(return_X_y=True) #데이터만 들고나옴\n",
    "\n",
    "print(type(dataXy), len(dataXy))"
   ],
   "metadata": {
    "collapsed": false,
    "ExecuteTime": {
     "end_time": "2024-02-29T04:23:32.046340Z",
     "start_time": "2024-02-29T04:23:32.025267Z"
    }
   },
   "id": "1e54065037c78cdc",
   "execution_count": 93
  },
  {
   "cell_type": "code",
   "outputs": [
    {
     "data": {
      "text/plain": "dict_keys(['data', 'target', 'frame', 'target_names', 'DESCR', 'feature_names', 'filename', 'data_module'])"
     },
     "execution_count": 94,
     "metadata": {},
     "output_type": "execute_result"
    }
   ],
   "source": [
    "data = load_iris()\n",
    "data.keys()"
   ],
   "metadata": {
    "collapsed": false,
    "ExecuteTime": {
     "end_time": "2024-02-29T04:23:32.093472Z",
     "start_time": "2024-02-29T04:23:32.074758Z"
    }
   },
   "id": "1576f22bccce589d",
   "execution_count": 94
  },
  {
   "cell_type": "code",
   "outputs": [],
   "source": [
    "# 데이터와 타겟을 DataFrame 형식으로 로딩하겠다.\n",
    "dataXy = load_iris(return_X_y=True, )\n",
    "#print(type(dataXy), len(dataXy), dataXy)\n",
    "#print(dataXy)"
   ],
   "metadata": {
    "collapsed": false,
    "ExecuteTime": {
     "end_time": "2024-02-29T04:23:32.109184Z",
     "start_time": "2024-02-29T04:23:32.095523Z"
    }
   },
   "id": "429896042c70415d",
   "execution_count": 95
  },
  {
   "cell_type": "code",
   "outputs": [
    {
     "data": {
      "text/plain": "dict_keys(['data', 'target', 'frame', 'target_names', 'DESCR', 'feature_names', 'filename', 'data_module'])"
     },
     "execution_count": 96,
     "metadata": {},
     "output_type": "execute_result"
    }
   ],
   "source": [
    "data = load_iris(as_frame=True)\n",
    "data.keys()\n"
   ],
   "metadata": {
    "collapsed": false,
    "ExecuteTime": {
     "end_time": "2024-02-29T04:23:32.124768Z",
     "start_time": "2024-02-29T04:23:32.110276Z"
    }
   },
   "id": "7b72ac181a7a3ee",
   "execution_count": 96
  },
  {
   "cell_type": "code",
   "outputs": [],
   "source": [
    "featureDF1 = data['data']\n",
    "targetDF1 = data['target']\n",
    "\n",
    "featureDF = data['data'][:100]\n",
    "targetDF = data['target'][:100]"
   ],
   "metadata": {
    "collapsed": false,
    "ExecuteTime": {
     "end_time": "2024-02-29T04:23:32.139631Z",
     "start_time": "2024-02-29T04:23:32.125766Z"
    }
   },
   "id": "871b0cb849e10a71",
   "execution_count": 97
  },
  {
   "cell_type": "markdown",
   "source": [
    "(2) 모델 학습 진행 <hr>"
   ],
   "metadata": {
    "collapsed": false
   },
   "id": "96ef0485903352ea"
  },
  {
   "cell_type": "code",
   "outputs": [],
   "source": [
    "# 모듈 로딩 \n",
    "from sklearn.linear_model import LogisticRegression"
   ],
   "metadata": {
    "collapsed": false,
    "ExecuteTime": {
     "end_time": "2024-02-29T04:23:32.155474Z",
     "start_time": "2024-02-29T04:23:32.141684Z"
    }
   },
   "id": "729d07a15f1f98b9",
   "execution_count": 98
  },
  {
   "cell_type": "code",
   "outputs": [
    {
     "data": {
      "text/plain": "LogisticRegression(max_iter=1000)",
      "text/html": "<style>#sk-container-id-6 {color: black;}#sk-container-id-6 pre{padding: 0;}#sk-container-id-6 div.sk-toggleable {background-color: white;}#sk-container-id-6 label.sk-toggleable__label {cursor: pointer;display: block;width: 100%;margin-bottom: 0;padding: 0.3em;box-sizing: border-box;text-align: center;}#sk-container-id-6 label.sk-toggleable__label-arrow:before {content: \"▸\";float: left;margin-right: 0.25em;color: #696969;}#sk-container-id-6 label.sk-toggleable__label-arrow:hover:before {color: black;}#sk-container-id-6 div.sk-estimator:hover label.sk-toggleable__label-arrow:before {color: black;}#sk-container-id-6 div.sk-toggleable__content {max-height: 0;max-width: 0;overflow: hidden;text-align: left;background-color: #f0f8ff;}#sk-container-id-6 div.sk-toggleable__content pre {margin: 0.2em;color: black;border-radius: 0.25em;background-color: #f0f8ff;}#sk-container-id-6 input.sk-toggleable__control:checked~div.sk-toggleable__content {max-height: 200px;max-width: 100%;overflow: auto;}#sk-container-id-6 input.sk-toggleable__control:checked~label.sk-toggleable__label-arrow:before {content: \"▾\";}#sk-container-id-6 div.sk-estimator input.sk-toggleable__control:checked~label.sk-toggleable__label {background-color: #d4ebff;}#sk-container-id-6 div.sk-label input.sk-toggleable__control:checked~label.sk-toggleable__label {background-color: #d4ebff;}#sk-container-id-6 input.sk-hidden--visually {border: 0;clip: rect(1px 1px 1px 1px);clip: rect(1px, 1px, 1px, 1px);height: 1px;margin: -1px;overflow: hidden;padding: 0;position: absolute;width: 1px;}#sk-container-id-6 div.sk-estimator {font-family: monospace;background-color: #f0f8ff;border: 1px dotted black;border-radius: 0.25em;box-sizing: border-box;margin-bottom: 0.5em;}#sk-container-id-6 div.sk-estimator:hover {background-color: #d4ebff;}#sk-container-id-6 div.sk-parallel-item::after {content: \"\";width: 100%;border-bottom: 1px solid gray;flex-grow: 1;}#sk-container-id-6 div.sk-label:hover label.sk-toggleable__label {background-color: #d4ebff;}#sk-container-id-6 div.sk-serial::before {content: \"\";position: absolute;border-left: 1px solid gray;box-sizing: border-box;top: 0;bottom: 0;left: 50%;z-index: 0;}#sk-container-id-6 div.sk-serial {display: flex;flex-direction: column;align-items: center;background-color: white;padding-right: 0.2em;padding-left: 0.2em;position: relative;}#sk-container-id-6 div.sk-item {position: relative;z-index: 1;}#sk-container-id-6 div.sk-parallel {display: flex;align-items: stretch;justify-content: center;background-color: white;position: relative;}#sk-container-id-6 div.sk-item::before, #sk-container-id-6 div.sk-parallel-item::before {content: \"\";position: absolute;border-left: 1px solid gray;box-sizing: border-box;top: 0;bottom: 0;left: 50%;z-index: -1;}#sk-container-id-6 div.sk-parallel-item {display: flex;flex-direction: column;z-index: 1;position: relative;background-color: white;}#sk-container-id-6 div.sk-parallel-item:first-child::after {align-self: flex-end;width: 50%;}#sk-container-id-6 div.sk-parallel-item:last-child::after {align-self: flex-start;width: 50%;}#sk-container-id-6 div.sk-parallel-item:only-child::after {width: 0;}#sk-container-id-6 div.sk-dashed-wrapped {border: 1px dashed gray;margin: 0 0.4em 0.5em 0.4em;box-sizing: border-box;padding-bottom: 0.4em;background-color: white;}#sk-container-id-6 div.sk-label label {font-family: monospace;font-weight: bold;display: inline-block;line-height: 1.2em;}#sk-container-id-6 div.sk-label-container {text-align: center;}#sk-container-id-6 div.sk-container {/* jupyter's `normalize.less` sets `[hidden] { display: none; }` but bootstrap.min.css set `[hidden] { display: none !important; }` so we also need the `!important` here to be able to override the default hidden behavior on the sphinx rendered scikit-learn.org. See: https://github.com/scikit-learn/scikit-learn/issues/21755 */display: inline-block !important;position: relative;}#sk-container-id-6 div.sk-text-repr-fallback {display: none;}</style><div id=\"sk-container-id-6\" class=\"sk-top-container\"><div class=\"sk-text-repr-fallback\"><pre>LogisticRegression(max_iter=1000)</pre><b>In a Jupyter environment, please rerun this cell to show the HTML representation or trust the notebook. <br />On GitHub, the HTML representation is unable to render, please try loading this page with nbviewer.org.</b></div><div class=\"sk-container\" hidden><div class=\"sk-item\"><div class=\"sk-estimator sk-toggleable\"><input class=\"sk-toggleable__control sk-hidden--visually\" id=\"sk-estimator-id-6\" type=\"checkbox\" checked><label for=\"sk-estimator-id-6\" class=\"sk-toggleable__label sk-toggleable__label-arrow\">LogisticRegression</label><div class=\"sk-toggleable__content\"><pre>LogisticRegression(max_iter=1000)</pre></div></div></div></div></div>"
     },
     "execution_count": 99,
     "metadata": {},
     "output_type": "execute_result"
    }
   ],
   "source": [
    "# 모델 인스턴스 생성\n",
    "model = LogisticRegression(max_iter=1000)\n",
    "model.fit(featureDF, targetDF)"
   ],
   "metadata": {
    "collapsed": false,
    "ExecuteTime": {
     "end_time": "2024-02-29T04:23:32.171422Z",
     "start_time": "2024-02-29T04:23:32.156473Z"
    }
   },
   "id": "f2e15cc465a16c25",
   "execution_count": 99
  },
  {
   "cell_type": "code",
   "outputs": [
    {
     "name": "stdout",
     "output_type": "stream",
     "text": [
      "classes_ : [0 1]\n",
      "feature_name_in_: \n",
      "['sepal length (cm)' 'sepal width (cm)' 'petal length (cm)'\n",
      " 'petal width (cm)']\n",
      "n_iter_: [23]\n",
      "coef_: \n",
      "[[ 0.44036482 -0.90696813  2.30849566  0.96232763]]\n",
      "intercept_: \n",
      "[-6.61165119]\n"
     ]
    }
   ],
   "source": [
    "# 학습 후 결정된 모델 파라미터 확인\n",
    "print(f\"classes_ : {model.classes_}\")\n",
    "print(f\"feature_name_in_: \\n{model.feature_names_in_}\")\n",
    "print(f\"n_iter_: {model.n_iter_}\")\n",
    "print(f\"coef_: \\n{model.coef_}\")\n",
    "print(f\"intercept_: \\n{model.intercept_}\")\n",
    "\n",
    "\n",
    "\n",
    "# featureDF1 = data['data']      targetDF1 = data['target'] 일때\n",
    "# 피쳐가 4개이다\n",
    "# coef가 12개, intercept가 3개로 나온 이유 => 타겟이 3종류니까 \n",
    "    # coef_: \n",
    "    # [[-0.42364806  0.96739434 -2.51708319 -1.07937296]\n",
    "    #    ㄴ  y = -0.4 * f1 + 0.96 * f2 + -2.5 * f3 + -1.07 * f4  이런식으로 predict가 진행될것\n",
    "    #  [ 0.53447765 -0.3216458  -0.20639707 -0.94423775]\n",
    "    #  [-0.11082959 -0.64574854  2.72348026  2.02361071]]\n",
    "    # intercept_: \n",
    "    # [  9.84997373   2.23721656 -12.08719029]\n",
    "\n",
    "\n",
    "# featureDF = data['data'][:100]    targetDF = data['target'][:100] 일떄\n",
    "# coef가 4개, interceptr가 1개 나온 이유 => 타겟이 2종류이지만, 한개가 무엇인지만 알면 나머지는 자연스레 알수있으니까"
   ],
   "metadata": {
    "collapsed": false,
    "ExecuteTime": {
     "end_time": "2024-02-29T04:23:32.187426Z",
     "start_time": "2024-02-29T04:23:32.172421Z"
    }
   },
   "id": "fa902105b58a928f",
   "execution_count": 100
  },
  {
   "cell_type": "markdown",
   "source": [
    "[OvA/OvR] ===> 3개 모델\n",
    "setosa      : setosa vs 나머지\n",
    "Versicolor  : Versicolor vs 나머지\n",
    "virginica   : virginica vs 나머지\n",
    "\n",
    "[OvO] ==> (3*2)/2 = 3개\n",
    "Setosa vs versicolor \n",
    "setosa vs virginica\n",
    "versicolor vs virginica"
   ],
   "metadata": {
    "collapsed": false
   },
   "id": "e66ce5bf41c110f0"
  },
  {
   "cell_type": "code",
   "outputs": [
    {
     "data": {
      "text/plain": "1.0"
     },
     "execution_count": 101,
     "metadata": {},
     "output_type": "execute_result"
    }
   ],
   "source": [
    "model.score(featureDF, targetDF)"
   ],
   "metadata": {
    "collapsed": false,
    "ExecuteTime": {
     "end_time": "2024-02-29T04:23:32.203108Z",
     "start_time": "2024-02-29T04:23:32.188480Z"
    }
   },
   "id": "55e1e41a01660a89",
   "execution_count": 101
  },
  {
   "cell_type": "code",
   "outputs": [
    {
     "data": {
      "text/plain": "   sepal length (cm)  sepal width (cm)  petal length (cm)  petal width (cm)\n0                5.1               3.5                1.4               0.2",
      "text/html": "<div>\n<style scoped>\n    .dataframe tbody tr th:only-of-type {\n        vertical-align: middle;\n    }\n\n    .dataframe tbody tr th {\n        vertical-align: top;\n    }\n\n    .dataframe thead th {\n        text-align: right;\n    }\n</style>\n<table border=\"1\" class=\"dataframe\">\n  <thead>\n    <tr style=\"text-align: right;\">\n      <th></th>\n      <th>sepal length (cm)</th>\n      <th>sepal width (cm)</th>\n      <th>petal length (cm)</th>\n      <th>petal width (cm)</th>\n    </tr>\n  </thead>\n  <tbody>\n    <tr>\n      <th>0</th>\n      <td>5.1</td>\n      <td>3.5</td>\n      <td>1.4</td>\n      <td>0.2</td>\n    </tr>\n  </tbody>\n</table>\n</div>"
     },
     "execution_count": 102,
     "metadata": {},
     "output_type": "execute_result"
    }
   ],
   "source": [
    "featureDF.head(1)"
   ],
   "metadata": {
    "collapsed": false,
    "ExecuteTime": {
     "end_time": "2024-02-29T04:23:32.218867Z",
     "start_time": "2024-02-29T04:23:32.204107Z"
    }
   },
   "id": "5b1065897f4dc4b2",
   "execution_count": 102
  },
  {
   "cell_type": "code",
   "outputs": [
    {
     "data": {
      "text/plain": "array([0])"
     },
     "execution_count": 103,
     "metadata": {},
     "output_type": "execute_result"
    }
   ],
   "source": [
    "model.predict(featureDF.iloc[[0]])\n",
    "\n",
    "# 제일 첫번째 행을 넣어봄\n",
    "# 2차원을 만들어주어야 해서 iloc[[0]]\n",
    "# 결과가 0번이다"
   ],
   "metadata": {
    "collapsed": false,
    "ExecuteTime": {
     "end_time": "2024-02-29T04:23:32.234423Z",
     "start_time": "2024-02-29T04:23:32.219866Z"
    }
   },
   "id": "8befbb0a6c9dba36",
   "execution_count": 103
  },
  {
   "cell_type": "code",
   "outputs": [
    {
     "data": {
      "text/plain": "array([1])"
     },
     "execution_count": 104,
     "metadata": {},
     "output_type": "execute_result"
    }
   ],
   "source": [
    "model.predict(featureDF.iloc[[-1]])\n",
    "\n",
    "# 제일 마지막 행을 넣어봄\n",
    "# 2차원을 만들어주어야 해서 iloc[[-1]]\n",
    "# 결과가 2번이다"
   ],
   "metadata": {
    "collapsed": false,
    "ExecuteTime": {
     "end_time": "2024-02-29T04:23:32.250Z",
     "start_time": "2024-02-29T04:23:32.236521Z"
    }
   },
   "id": "4685fe3cf911b8f6",
   "execution_count": 104
  },
  {
   "cell_type": "code",
   "outputs": [
    {
     "data": {
      "text/plain": "0     0\n1     0\n2     0\n3     0\n4     0\n     ..\n95    1\n96    1\n97    1\n98    1\n99    1\nName: target, Length: 100, dtype: int32"
     },
     "execution_count": 105,
     "metadata": {},
     "output_type": "execute_result"
    }
   ],
   "source": [
    "targetDF"
   ],
   "metadata": {
    "collapsed": false,
    "ExecuteTime": {
     "end_time": "2024-02-29T04:23:32.265933Z",
     "start_time": "2024-02-29T04:23:32.250984Z"
    }
   },
   "id": "ee45ea4c558aa9ff",
   "execution_count": 105
  },
  {
   "cell_type": "code",
   "outputs": [],
   "source": [],
   "metadata": {
    "collapsed": false
   },
   "id": "478e2d4ec83a280d"
  },
  {
   "cell_type": "code",
   "outputs": [
    {
     "data": {
      "text/plain": "array([[0.017, 0.983]])"
     },
     "execution_count": 106,
     "metadata": {},
     "output_type": "execute_result"
    }
   ],
   "source": [
    "# 각 분류 클래스에 대한 확률값\n",
    "np.round(model.predict_proba(featureDF.iloc[[-1]]), 3)"
   ],
   "metadata": {
    "collapsed": false,
    "ExecuteTime": {
     "end_time": "2024-02-29T06:22:51.960985Z",
     "start_time": "2024-02-29T06:22:51.945499Z"
    }
   },
   "id": "962e1e5b5fc4510e",
   "execution_count": 106
  },
  {
   "cell_type": "code",
   "outputs": [
    {
     "data": {
      "text/plain": "array([4.07477562])"
     },
     "execution_count": 107,
     "metadata": {},
     "output_type": "execute_result"
    }
   ],
   "source": [
    "# 각 분류기의 선형식에서 계산한 값\n",
    "model.decision_function(featureDF.iloc[[-1]])"
   ],
   "metadata": {
    "collapsed": false,
    "ExecuteTime": {
     "end_time": "2024-02-29T06:23:03.580247Z",
     "start_time": "2024-02-29T06:23:03.559274Z"
    }
   },
   "id": "e4c2a9bbe9a384cc",
   "execution_count": 107
  },
  {
   "cell_type": "code",
   "outputs": [],
   "source": [],
   "metadata": {
    "collapsed": false
   },
   "id": "966257f555b0de0a"
  }
 ],
 "metadata": {
  "kernelspec": {
   "display_name": "Python 3",
   "language": "python",
   "name": "python3"
  },
  "language_info": {
   "codemirror_mode": {
    "name": "ipython",
    "version": 2
   },
   "file_extension": ".py",
   "mimetype": "text/x-python",
   "name": "python",
   "nbconvert_exporter": "python",
   "pygments_lexer": "ipython2",
   "version": "2.7.6"
  }
 },
 "nbformat": 4,
 "nbformat_minor": 5
}
