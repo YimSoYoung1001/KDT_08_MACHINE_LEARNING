{
 "cells": [
  {
   "cell_type": "markdown",
   "source": [
    "### 목표 : 무게에 따른 길이를 예측해주는 모델\n",
    "- 데 이 터 : fish.csv\n",
    "- 피쳐/특성 : 무게\n",
    "- 라벨/타겟 : 길이\n",
    "- 학습 방법 : 지도학습 + 예측 => KNN 기반의 회귀\n",
    "- 학습/테스트 데이터 : 7:3으로 준비"
   ],
   "metadata": {
    "collapsed": false
   },
   "id": "9172b07f525613cd"
  },
  {
   "cell_type": "markdown",
   "source": [
    "#### 전처리"
   ],
   "metadata": {
    "collapsed": false
   },
   "id": "42e2f48b92a2676c"
  },
  {
   "cell_type": "code",
   "outputs": [],
   "source": [
    "import pandas as pd\n",
    "from sklearn.neighbors import KNeighborsRegressor\n",
    "import numpy as np"
   ],
   "metadata": {
    "collapsed": false,
    "ExecuteTime": {
     "end_time": "2024-02-27T07:41:00.064985600Z",
     "start_time": "2024-02-27T07:40:59.923760300Z"
    }
   },
   "id": "909dc585ae408654",
   "execution_count": 614
  },
  {
   "cell_type": "code",
   "outputs": [
    {
     "data": {
      "text/plain": "    Species  Weight  Length\n0     Bream   242.0    25.4\n1     Bream   290.0    26.3\n2     Bream   340.0    26.5\n3     Bream   363.0    29.0\n4     Bream   430.0    29.0\n..      ...     ...     ...\n154   Smelt    12.2    12.2\n155   Smelt    13.4    12.4\n156   Smelt    12.2    13.0\n157   Smelt    19.7    14.3\n158   Smelt    19.9    15.0\n\n[159 rows x 3 columns]",
      "text/html": "<div>\n<style scoped>\n    .dataframe tbody tr th:only-of-type {\n        vertical-align: middle;\n    }\n\n    .dataframe tbody tr th {\n        vertical-align: top;\n    }\n\n    .dataframe thead th {\n        text-align: right;\n    }\n</style>\n<table border=\"1\" class=\"dataframe\">\n  <thead>\n    <tr style=\"text-align: right;\">\n      <th></th>\n      <th>Species</th>\n      <th>Weight</th>\n      <th>Length</th>\n    </tr>\n  </thead>\n  <tbody>\n    <tr>\n      <th>0</th>\n      <td>Bream</td>\n      <td>242.0</td>\n      <td>25.4</td>\n    </tr>\n    <tr>\n      <th>1</th>\n      <td>Bream</td>\n      <td>290.0</td>\n      <td>26.3</td>\n    </tr>\n    <tr>\n      <th>2</th>\n      <td>Bream</td>\n      <td>340.0</td>\n      <td>26.5</td>\n    </tr>\n    <tr>\n      <th>3</th>\n      <td>Bream</td>\n      <td>363.0</td>\n      <td>29.0</td>\n    </tr>\n    <tr>\n      <th>4</th>\n      <td>Bream</td>\n      <td>430.0</td>\n      <td>29.0</td>\n    </tr>\n    <tr>\n      <th>...</th>\n      <td>...</td>\n      <td>...</td>\n      <td>...</td>\n    </tr>\n    <tr>\n      <th>154</th>\n      <td>Smelt</td>\n      <td>12.2</td>\n      <td>12.2</td>\n    </tr>\n    <tr>\n      <th>155</th>\n      <td>Smelt</td>\n      <td>13.4</td>\n      <td>12.4</td>\n    </tr>\n    <tr>\n      <th>156</th>\n      <td>Smelt</td>\n      <td>12.2</td>\n      <td>13.0</td>\n    </tr>\n    <tr>\n      <th>157</th>\n      <td>Smelt</td>\n      <td>19.7</td>\n      <td>14.3</td>\n    </tr>\n    <tr>\n      <th>158</th>\n      <td>Smelt</td>\n      <td>19.9</td>\n      <td>15.0</td>\n    </tr>\n  </tbody>\n</table>\n<p>159 rows × 3 columns</p>\n</div>"
     },
     "execution_count": 615,
     "metadata": {},
     "output_type": "execute_result"
    }
   ],
   "source": [
    "file = '../data/fish.csv'\n",
    "data = pd.read_csv(file,usecols=[0,1,2])\n",
    "data"
   ],
   "metadata": {
    "collapsed": false,
    "ExecuteTime": {
     "end_time": "2024-02-27T07:41:00.123531100Z",
     "start_time": "2024-02-27T07:41:00.069124100Z"
    }
   },
   "id": "8d9b63838cf9eacd",
   "execution_count": 615
  },
  {
   "cell_type": "code",
   "outputs": [
    {
     "data": {
      "text/plain": "   Species  Weight  Length\n0    Perch     5.9     8.4\n1    Perch    32.0    13.7\n2    Perch    40.0    15.0\n3    Perch    51.5    16.2\n4    Perch    70.0    17.4\n5    Perch   100.0    18.0\n6    Perch    78.0    18.7\n7    Perch    80.0    19.0\n8    Perch    85.0    19.6\n9    Perch    85.0    20.0\n10   Perch   110.0    21.0\n11   Perch   115.0    21.0\n12   Perch   125.0    21.0\n13   Perch   130.0    21.3\n14   Perch   120.0    22.0\n15   Perch   120.0    22.0\n16   Perch   130.0    22.0\n17   Perch   135.0    22.0\n18   Perch   110.0    22.0\n19   Perch   130.0    22.5\n20   Perch   150.0    22.5\n21   Perch   145.0    22.7\n22   Perch   150.0    23.0\n23   Perch   170.0    23.5\n24   Perch   225.0    24.0\n25   Perch   145.0    24.0\n26   Perch   188.0    24.6\n27   Perch   180.0    25.0\n28   Perch   197.0    25.6\n29   Perch   218.0    26.5\n30   Perch   300.0    27.3\n31   Perch   260.0    27.5\n32   Perch   265.0    27.5\n33   Perch   250.0    27.5\n34   Perch   250.0    28.0\n35   Perch   300.0    28.7\n36   Perch   320.0    30.0\n37   Perch   514.0    32.8\n38   Perch   556.0    34.5\n39   Perch   840.0    35.0\n40   Perch   685.0    36.5\n41   Perch   700.0    36.0\n42   Perch   700.0    37.0\n43   Perch   690.0    37.0\n44   Perch   900.0    39.0\n45   Perch   650.0    39.0\n46   Perch   820.0    39.0\n47   Perch   850.0    40.0\n48   Perch   900.0    40.0\n49   Perch  1015.0    40.0\n50   Perch   820.0    40.0\n51   Perch  1100.0    42.0\n52   Perch  1000.0    43.0\n53   Perch  1100.0    43.0\n54   Perch  1000.0    43.5\n55   Perch  1000.0    44.0",
      "text/html": "<div>\n<style scoped>\n    .dataframe tbody tr th:only-of-type {\n        vertical-align: middle;\n    }\n\n    .dataframe tbody tr th {\n        vertical-align: top;\n    }\n\n    .dataframe thead th {\n        text-align: right;\n    }\n</style>\n<table border=\"1\" class=\"dataframe\">\n  <thead>\n    <tr style=\"text-align: right;\">\n      <th></th>\n      <th>Species</th>\n      <th>Weight</th>\n      <th>Length</th>\n    </tr>\n  </thead>\n  <tbody>\n    <tr>\n      <th>0</th>\n      <td>Perch</td>\n      <td>5.9</td>\n      <td>8.4</td>\n    </tr>\n    <tr>\n      <th>1</th>\n      <td>Perch</td>\n      <td>32.0</td>\n      <td>13.7</td>\n    </tr>\n    <tr>\n      <th>2</th>\n      <td>Perch</td>\n      <td>40.0</td>\n      <td>15.0</td>\n    </tr>\n    <tr>\n      <th>3</th>\n      <td>Perch</td>\n      <td>51.5</td>\n      <td>16.2</td>\n    </tr>\n    <tr>\n      <th>4</th>\n      <td>Perch</td>\n      <td>70.0</td>\n      <td>17.4</td>\n    </tr>\n    <tr>\n      <th>5</th>\n      <td>Perch</td>\n      <td>100.0</td>\n      <td>18.0</td>\n    </tr>\n    <tr>\n      <th>6</th>\n      <td>Perch</td>\n      <td>78.0</td>\n      <td>18.7</td>\n    </tr>\n    <tr>\n      <th>7</th>\n      <td>Perch</td>\n      <td>80.0</td>\n      <td>19.0</td>\n    </tr>\n    <tr>\n      <th>8</th>\n      <td>Perch</td>\n      <td>85.0</td>\n      <td>19.6</td>\n    </tr>\n    <tr>\n      <th>9</th>\n      <td>Perch</td>\n      <td>85.0</td>\n      <td>20.0</td>\n    </tr>\n    <tr>\n      <th>10</th>\n      <td>Perch</td>\n      <td>110.0</td>\n      <td>21.0</td>\n    </tr>\n    <tr>\n      <th>11</th>\n      <td>Perch</td>\n      <td>115.0</td>\n      <td>21.0</td>\n    </tr>\n    <tr>\n      <th>12</th>\n      <td>Perch</td>\n      <td>125.0</td>\n      <td>21.0</td>\n    </tr>\n    <tr>\n      <th>13</th>\n      <td>Perch</td>\n      <td>130.0</td>\n      <td>21.3</td>\n    </tr>\n    <tr>\n      <th>14</th>\n      <td>Perch</td>\n      <td>120.0</td>\n      <td>22.0</td>\n    </tr>\n    <tr>\n      <th>15</th>\n      <td>Perch</td>\n      <td>120.0</td>\n      <td>22.0</td>\n    </tr>\n    <tr>\n      <th>16</th>\n      <td>Perch</td>\n      <td>130.0</td>\n      <td>22.0</td>\n    </tr>\n    <tr>\n      <th>17</th>\n      <td>Perch</td>\n      <td>135.0</td>\n      <td>22.0</td>\n    </tr>\n    <tr>\n      <th>18</th>\n      <td>Perch</td>\n      <td>110.0</td>\n      <td>22.0</td>\n    </tr>\n    <tr>\n      <th>19</th>\n      <td>Perch</td>\n      <td>130.0</td>\n      <td>22.5</td>\n    </tr>\n    <tr>\n      <th>20</th>\n      <td>Perch</td>\n      <td>150.0</td>\n      <td>22.5</td>\n    </tr>\n    <tr>\n      <th>21</th>\n      <td>Perch</td>\n      <td>145.0</td>\n      <td>22.7</td>\n    </tr>\n    <tr>\n      <th>22</th>\n      <td>Perch</td>\n      <td>150.0</td>\n      <td>23.0</td>\n    </tr>\n    <tr>\n      <th>23</th>\n      <td>Perch</td>\n      <td>170.0</td>\n      <td>23.5</td>\n    </tr>\n    <tr>\n      <th>24</th>\n      <td>Perch</td>\n      <td>225.0</td>\n      <td>24.0</td>\n    </tr>\n    <tr>\n      <th>25</th>\n      <td>Perch</td>\n      <td>145.0</td>\n      <td>24.0</td>\n    </tr>\n    <tr>\n      <th>26</th>\n      <td>Perch</td>\n      <td>188.0</td>\n      <td>24.6</td>\n    </tr>\n    <tr>\n      <th>27</th>\n      <td>Perch</td>\n      <td>180.0</td>\n      <td>25.0</td>\n    </tr>\n    <tr>\n      <th>28</th>\n      <td>Perch</td>\n      <td>197.0</td>\n      <td>25.6</td>\n    </tr>\n    <tr>\n      <th>29</th>\n      <td>Perch</td>\n      <td>218.0</td>\n      <td>26.5</td>\n    </tr>\n    <tr>\n      <th>30</th>\n      <td>Perch</td>\n      <td>300.0</td>\n      <td>27.3</td>\n    </tr>\n    <tr>\n      <th>31</th>\n      <td>Perch</td>\n      <td>260.0</td>\n      <td>27.5</td>\n    </tr>\n    <tr>\n      <th>32</th>\n      <td>Perch</td>\n      <td>265.0</td>\n      <td>27.5</td>\n    </tr>\n    <tr>\n      <th>33</th>\n      <td>Perch</td>\n      <td>250.0</td>\n      <td>27.5</td>\n    </tr>\n    <tr>\n      <th>34</th>\n      <td>Perch</td>\n      <td>250.0</td>\n      <td>28.0</td>\n    </tr>\n    <tr>\n      <th>35</th>\n      <td>Perch</td>\n      <td>300.0</td>\n      <td>28.7</td>\n    </tr>\n    <tr>\n      <th>36</th>\n      <td>Perch</td>\n      <td>320.0</td>\n      <td>30.0</td>\n    </tr>\n    <tr>\n      <th>37</th>\n      <td>Perch</td>\n      <td>514.0</td>\n      <td>32.8</td>\n    </tr>\n    <tr>\n      <th>38</th>\n      <td>Perch</td>\n      <td>556.0</td>\n      <td>34.5</td>\n    </tr>\n    <tr>\n      <th>39</th>\n      <td>Perch</td>\n      <td>840.0</td>\n      <td>35.0</td>\n    </tr>\n    <tr>\n      <th>40</th>\n      <td>Perch</td>\n      <td>685.0</td>\n      <td>36.5</td>\n    </tr>\n    <tr>\n      <th>41</th>\n      <td>Perch</td>\n      <td>700.0</td>\n      <td>36.0</td>\n    </tr>\n    <tr>\n      <th>42</th>\n      <td>Perch</td>\n      <td>700.0</td>\n      <td>37.0</td>\n    </tr>\n    <tr>\n      <th>43</th>\n      <td>Perch</td>\n      <td>690.0</td>\n      <td>37.0</td>\n    </tr>\n    <tr>\n      <th>44</th>\n      <td>Perch</td>\n      <td>900.0</td>\n      <td>39.0</td>\n    </tr>\n    <tr>\n      <th>45</th>\n      <td>Perch</td>\n      <td>650.0</td>\n      <td>39.0</td>\n    </tr>\n    <tr>\n      <th>46</th>\n      <td>Perch</td>\n      <td>820.0</td>\n      <td>39.0</td>\n    </tr>\n    <tr>\n      <th>47</th>\n      <td>Perch</td>\n      <td>850.0</td>\n      <td>40.0</td>\n    </tr>\n    <tr>\n      <th>48</th>\n      <td>Perch</td>\n      <td>900.0</td>\n      <td>40.0</td>\n    </tr>\n    <tr>\n      <th>49</th>\n      <td>Perch</td>\n      <td>1015.0</td>\n      <td>40.0</td>\n    </tr>\n    <tr>\n      <th>50</th>\n      <td>Perch</td>\n      <td>820.0</td>\n      <td>40.0</td>\n    </tr>\n    <tr>\n      <th>51</th>\n      <td>Perch</td>\n      <td>1100.0</td>\n      <td>42.0</td>\n    </tr>\n    <tr>\n      <th>52</th>\n      <td>Perch</td>\n      <td>1000.0</td>\n      <td>43.0</td>\n    </tr>\n    <tr>\n      <th>53</th>\n      <td>Perch</td>\n      <td>1100.0</td>\n      <td>43.0</td>\n    </tr>\n    <tr>\n      <th>54</th>\n      <td>Perch</td>\n      <td>1000.0</td>\n      <td>43.5</td>\n    </tr>\n    <tr>\n      <th>55</th>\n      <td>Perch</td>\n      <td>1000.0</td>\n      <td>44.0</td>\n    </tr>\n  </tbody>\n</table>\n</div>"
     },
     "execution_count": 616,
     "metadata": {},
     "output_type": "execute_result"
    }
   ],
   "source": [
    "mask = (data['Species'] == 'Perch')\n",
    "perchDF = data[mask].reset_index(drop=True)\n",
    "perchDF"
   ],
   "metadata": {
    "collapsed": false,
    "ExecuteTime": {
     "end_time": "2024-02-27T07:41:00.125647300Z",
     "start_time": "2024-02-27T07:41:00.097359600Z"
    }
   },
   "id": "89921f8b0206efed",
   "execution_count": 616
  },
  {
   "cell_type": "code",
   "outputs": [
    {
     "name": "stdout",
     "output_type": "stream",
     "text": [
      "<class 'pandas.core.frame.DataFrame'>\n",
      "RangeIndex: 56 entries, 0 to 55\n",
      "Data columns (total 3 columns):\n",
      " #   Column   Non-Null Count  Dtype  \n",
      "---  ------   --------------  -----  \n",
      " 0   Species  56 non-null     object \n",
      " 1   Weight   56 non-null     float64\n",
      " 2   Length   56 non-null     float64\n",
      "dtypes: float64(2), object(1)\n",
      "memory usage: 1.4+ KB\n"
     ]
    }
   ],
   "source": [
    "perchDF.info()"
   ],
   "metadata": {
    "collapsed": false,
    "ExecuteTime": {
     "end_time": "2024-02-27T07:41:00.148977400Z",
     "start_time": "2024-02-27T07:41:00.109878300Z"
    }
   },
   "id": "f6c3bf060d61f457",
   "execution_count": 617
  },
  {
   "cell_type": "code",
   "outputs": [
    {
     "data": {
      "text/plain": "          Weight    Length\nWeight  1.000000  0.958656\nLength  0.958656  1.000000",
      "text/html": "<div>\n<style scoped>\n    .dataframe tbody tr th:only-of-type {\n        vertical-align: middle;\n    }\n\n    .dataframe tbody tr th {\n        vertical-align: top;\n    }\n\n    .dataframe thead th {\n        text-align: right;\n    }\n</style>\n<table border=\"1\" class=\"dataframe\">\n  <thead>\n    <tr style=\"text-align: right;\">\n      <th></th>\n      <th>Weight</th>\n      <th>Length</th>\n    </tr>\n  </thead>\n  <tbody>\n    <tr>\n      <th>Weight</th>\n      <td>1.000000</td>\n      <td>0.958656</td>\n    </tr>\n    <tr>\n      <th>Length</th>\n      <td>0.958656</td>\n      <td>1.000000</td>\n    </tr>\n  </tbody>\n</table>\n</div>"
     },
     "execution_count": 618,
     "metadata": {},
     "output_type": "execute_result"
    }
   ],
   "source": [
    "perchDF.corr(numeric_only=True)"
   ],
   "metadata": {
    "collapsed": false,
    "ExecuteTime": {
     "end_time": "2024-02-27T07:41:00.321050Z",
     "start_time": "2024-02-27T07:41:00.136066600Z"
    }
   },
   "id": "e3e35f3347a57464",
   "execution_count": 618
  },
  {
   "cell_type": "code",
   "outputs": [
    {
     "data": {
      "text/plain": "(56, 3)"
     },
     "execution_count": 619,
     "metadata": {},
     "output_type": "execute_result"
    }
   ],
   "source": [
    "perchDF.shape"
   ],
   "metadata": {
    "collapsed": false,
    "ExecuteTime": {
     "end_time": "2024-02-27T07:41:00.377984500Z",
     "start_time": "2024-02-27T07:41:00.183034900Z"
    }
   },
   "id": "c0b0f246ea4b0360",
   "execution_count": 619
  },
  {
   "cell_type": "code",
   "outputs": [
    {
     "data": {
      "text/plain": "1"
     },
     "execution_count": 620,
     "metadata": {},
     "output_type": "execute_result"
    }
   ],
   "source": [
    "perchDF.duplicated().sum()\n",
    "\n",
    "# 1개정도는,, 괜찮지 않을까? ㅎ"
   ],
   "metadata": {
    "collapsed": false,
    "ExecuteTime": {
     "end_time": "2024-02-27T07:41:00.455328100Z",
     "start_time": "2024-02-27T07:41:00.361306200Z"
    }
   },
   "id": "74fb4e291929b96d",
   "execution_count": 620
  },
  {
   "cell_type": "markdown",
   "source": [
    "#### 데이터셋 준비하기"
   ],
   "metadata": {
    "collapsed": false
   },
   "id": "9840fd0a5fe63196"
  },
  {
   "cell_type": "code",
   "outputs": [],
   "source": [
    "# 피처와 타겟 분리해보자\n",
    "feature = perchDF[['Weight']]\n",
    "target = perchDF['Length']"
   ],
   "metadata": {
    "collapsed": false,
    "ExecuteTime": {
     "end_time": "2024-02-27T07:41:00.467711600Z",
     "start_time": "2024-02-27T07:41:00.439795200Z"
    }
   },
   "id": "189446af1d08f6f1",
   "execution_count": 621
  },
  {
   "cell_type": "code",
   "outputs": [
    {
     "name": "stdout",
     "output_type": "stream",
     "text": [
      "<class 'pandas.core.frame.DataFrame'>\n",
      "RangeIndex: 56 entries, 0 to 55\n",
      "Data columns (total 1 columns):\n",
      " #   Column  Non-Null Count  Dtype  \n",
      "---  ------  --------------  -----  \n",
      " 0   Weight  56 non-null     float64\n",
      "dtypes: float64(1)\n",
      "memory usage: 576.0 bytes\n"
     ]
    }
   ],
   "source": [
    "feature.info()"
   ],
   "metadata": {
    "collapsed": false,
    "ExecuteTime": {
     "end_time": "2024-02-27T07:41:00.523084Z",
     "start_time": "2024-02-27T07:41:00.469806900Z"
    }
   },
   "id": "8a5f243d0623af7c",
   "execution_count": 622
  },
  {
   "cell_type": "code",
   "outputs": [],
   "source": [
    "from sklearn.model_selection import train_test_split"
   ],
   "metadata": {
    "collapsed": false,
    "ExecuteTime": {
     "end_time": "2024-02-27T07:41:00.527260300Z",
     "start_time": "2024-02-27T07:41:00.513547400Z"
    }
   },
   "id": "4458763754e58d49",
   "execution_count": 623
  },
  {
   "cell_type": "code",
   "outputs": [],
   "source": [
    "#이렇게 하면 계속 랜덤으로 바뀐다.\n",
    "#X_train, X_test, y_train, y_test = train_test_split(feature, target, test_size = 0.3)\n",
    "\n",
    "X_train, X_test, y_train, y_test = train_test_split(feature, target, test_size = 0.3, random_state = 123)\n",
    "# random_state 값을 아무값이나 줘야 데이터가 고정이 된다. (randome에 seed 주듯이)\n",
    "# 이걸 배웠던가,,,,,,,,,,,,,,,,,,,ㅜ"
   ],
   "metadata": {
    "collapsed": false,
    "ExecuteTime": {
     "end_time": "2024-02-27T07:41:00.543990600Z",
     "start_time": "2024-02-27T07:41:00.531454400Z"
    }
   },
   "id": "be2c6a0a458a5278",
   "execution_count": 624
  },
  {
   "cell_type": "code",
   "outputs": [
    {
     "data": {
      "text/plain": "    Weight\n12   125.0\n47   850.0\n30   300.0\n1     32.0\n6     78.0\n29   218.0\n52  1000.0\n44   900.0\n31   260.0\n51  1100.0\n24   225.0\n15   120.0\n37   514.0\n46   820.0\n7     80.0\n20   150.0\n54  1000.0\n3     51.5\n4     70.0\n16   130.0\n48   900.0\n36   320.0\n14   120.0\n49  1015.0\n25   145.0\n43   690.0\n55  1000.0\n9     85.0\n32   265.0\n33   250.0\n22   150.0\n42   700.0\n19   130.0\n17   135.0\n38   556.0\n34   250.0\n28   197.0\n2     40.0\n45   650.0",
      "text/html": "<div>\n<style scoped>\n    .dataframe tbody tr th:only-of-type {\n        vertical-align: middle;\n    }\n\n    .dataframe tbody tr th {\n        vertical-align: top;\n    }\n\n    .dataframe thead th {\n        text-align: right;\n    }\n</style>\n<table border=\"1\" class=\"dataframe\">\n  <thead>\n    <tr style=\"text-align: right;\">\n      <th></th>\n      <th>Weight</th>\n    </tr>\n  </thead>\n  <tbody>\n    <tr>\n      <th>12</th>\n      <td>125.0</td>\n    </tr>\n    <tr>\n      <th>47</th>\n      <td>850.0</td>\n    </tr>\n    <tr>\n      <th>30</th>\n      <td>300.0</td>\n    </tr>\n    <tr>\n      <th>1</th>\n      <td>32.0</td>\n    </tr>\n    <tr>\n      <th>6</th>\n      <td>78.0</td>\n    </tr>\n    <tr>\n      <th>29</th>\n      <td>218.0</td>\n    </tr>\n    <tr>\n      <th>52</th>\n      <td>1000.0</td>\n    </tr>\n    <tr>\n      <th>44</th>\n      <td>900.0</td>\n    </tr>\n    <tr>\n      <th>31</th>\n      <td>260.0</td>\n    </tr>\n    <tr>\n      <th>51</th>\n      <td>1100.0</td>\n    </tr>\n    <tr>\n      <th>24</th>\n      <td>225.0</td>\n    </tr>\n    <tr>\n      <th>15</th>\n      <td>120.0</td>\n    </tr>\n    <tr>\n      <th>37</th>\n      <td>514.0</td>\n    </tr>\n    <tr>\n      <th>46</th>\n      <td>820.0</td>\n    </tr>\n    <tr>\n      <th>7</th>\n      <td>80.0</td>\n    </tr>\n    <tr>\n      <th>20</th>\n      <td>150.0</td>\n    </tr>\n    <tr>\n      <th>54</th>\n      <td>1000.0</td>\n    </tr>\n    <tr>\n      <th>3</th>\n      <td>51.5</td>\n    </tr>\n    <tr>\n      <th>4</th>\n      <td>70.0</td>\n    </tr>\n    <tr>\n      <th>16</th>\n      <td>130.0</td>\n    </tr>\n    <tr>\n      <th>48</th>\n      <td>900.0</td>\n    </tr>\n    <tr>\n      <th>36</th>\n      <td>320.0</td>\n    </tr>\n    <tr>\n      <th>14</th>\n      <td>120.0</td>\n    </tr>\n    <tr>\n      <th>49</th>\n      <td>1015.0</td>\n    </tr>\n    <tr>\n      <th>25</th>\n      <td>145.0</td>\n    </tr>\n    <tr>\n      <th>43</th>\n      <td>690.0</td>\n    </tr>\n    <tr>\n      <th>55</th>\n      <td>1000.0</td>\n    </tr>\n    <tr>\n      <th>9</th>\n      <td>85.0</td>\n    </tr>\n    <tr>\n      <th>32</th>\n      <td>265.0</td>\n    </tr>\n    <tr>\n      <th>33</th>\n      <td>250.0</td>\n    </tr>\n    <tr>\n      <th>22</th>\n      <td>150.0</td>\n    </tr>\n    <tr>\n      <th>42</th>\n      <td>700.0</td>\n    </tr>\n    <tr>\n      <th>19</th>\n      <td>130.0</td>\n    </tr>\n    <tr>\n      <th>17</th>\n      <td>135.0</td>\n    </tr>\n    <tr>\n      <th>38</th>\n      <td>556.0</td>\n    </tr>\n    <tr>\n      <th>34</th>\n      <td>250.0</td>\n    </tr>\n    <tr>\n      <th>28</th>\n      <td>197.0</td>\n    </tr>\n    <tr>\n      <th>2</th>\n      <td>40.0</td>\n    </tr>\n    <tr>\n      <th>45</th>\n      <td>650.0</td>\n    </tr>\n  </tbody>\n</table>\n</div>"
     },
     "execution_count": 625,
     "metadata": {},
     "output_type": "execute_result"
    }
   ],
   "source": [
    "X_train"
   ],
   "metadata": {
    "collapsed": false,
    "ExecuteTime": {
     "end_time": "2024-02-27T07:41:00.572459900Z",
     "start_time": "2024-02-27T07:41:00.546064700Z"
    }
   },
   "id": "8a73ff43c3a8b2f3",
   "execution_count": 625
  },
  {
   "cell_type": "code",
   "outputs": [
    {
     "name": "stdout",
     "output_type": "stream",
     "text": [
      "[학습용]\n",
      "X_train.shape:(39, 1)\n",
      "y_train.shape:(39,)\n",
      "[테스트용]\n",
      "X_test.shape:(17, 1)\n",
      "y_test.shape:(17,)\n"
     ]
    }
   ],
   "source": [
    "# 학습 및 테스트 데이터셋 확인해보자\n",
    "print(f\"[학습용]\")\n",
    "print(f\"X_train.shape:{X_train.shape}\")\n",
    "print(f\"y_train.shape:{y_train.shape}\")\n",
    "print(f\"[테스트용]\")\n",
    "print(f\"X_test.shape:{X_test.shape}\")\n",
    "print(f\"y_test.shape:{y_test.shape}\")"
   ],
   "metadata": {
    "collapsed": false,
    "ExecuteTime": {
     "end_time": "2024-02-27T07:41:00.583867200Z",
     "start_time": "2024-02-27T07:41:00.557759500Z"
    }
   },
   "id": "53835c9ad8d74b80",
   "execution_count": 626
  },
  {
   "cell_type": "code",
   "outputs": [],
   "source": [
    "import matplotlib.pyplot as plt"
   ],
   "metadata": {
    "collapsed": false,
    "ExecuteTime": {
     "end_time": "2024-02-27T07:41:00.603741700Z",
     "start_time": "2024-02-27T07:41:00.575517500Z"
    }
   },
   "id": "8e883a241ab3f77f",
   "execution_count": 627
  },
  {
   "cell_type": "code",
   "outputs": [
    {
     "data": {
      "text/plain": "<Figure size 640x480 with 1 Axes>",
      "image/png": "[encoded data removed]"
     },
     "metadata": {},
     "output_type": "display_data"
    }
   ],
   "source": [
    "plt.scatter(X_train,y_train)\n",
    "plt.xlabel('Weight')\n",
    "plt.ylabel('Length')\n",
    "plt.show()"
   ],
   "metadata": {
    "collapsed": false,
    "ExecuteTime": {
     "end_time": "2024-02-27T07:41:00.788673900Z",
     "start_time": "2024-02-27T07:41:00.589133400Z"
    }
   },
   "id": "2b88e0fd882350a7",
   "execution_count": 628
  },
  {
   "cell_type": "code",
   "outputs": [],
   "source": [
    "# 스케일링을 해보자\n",
    "from sklearn.preprocessing import StandardScaler"
   ],
   "metadata": {
    "collapsed": false,
    "ExecuteTime": {
     "end_time": "2024-02-27T07:41:00.806669800Z",
     "start_time": "2024-02-27T07:41:00.791744400Z"
    }
   },
   "id": "11abc19bbd6e7dc4",
   "execution_count": 629
  },
  {
   "cell_type": "code",
   "outputs": [
    {
     "data": {
      "text/plain": "StandardScaler()",
      "text/html": "<style>#sk-container-id-55 {color: black;}#sk-container-id-55 pre{padding: 0;}#sk-container-id-55 div.sk-toggleable {background-color: white;}#sk-container-id-55 label.sk-toggleable__label {cursor: pointer;display: block;width: 100%;margin-bottom: 0;padding: 0.3em;box-sizing: border-box;text-align: center;}#sk-container-id-55 label.sk-toggleable__label-arrow:before {content: \"▸\";float: left;margin-right: 0.25em;color: #696969;}#sk-container-id-55 label.sk-toggleable__label-arrow:hover:before {color: black;}#sk-container-id-55 div.sk-estimator:hover label.sk-toggleable__label-arrow:before {color: black;}#sk-container-id-55 div.sk-toggleable__content {max-height: 0;max-width: 0;overflow: hidden;text-align: left;background-color: #f0f8ff;}#sk-container-id-55 div.sk-toggleable__content pre {margin: 0.2em;color: black;border-radius: 0.25em;background-color: #f0f8ff;}#sk-container-id-55 input.sk-toggleable__control:checked~div.sk-toggleable__content {max-height: 200px;max-width: 100%;overflow: auto;}#sk-container-id-55 input.sk-toggleable__control:checked~label.sk-toggleable__label-arrow:before {content: \"▾\";}#sk-container-id-55 div.sk-estimator input.sk-toggleable__control:checked~label.sk-toggleable__label {background-color: #d4ebff;}#sk-container-id-55 div.sk-label input.sk-toggleable__control:checked~label.sk-toggleable__label {background-color: #d4ebff;}#sk-container-id-55 input.sk-hidden--visually {border: 0;clip: rect(1px 1px 1px 1px);clip: rect(1px, 1px, 1px, 1px);height: 1px;margin: -1px;overflow: hidden;padding: 0;position: absolute;width: 1px;}#sk-container-id-55 div.sk-estimator {font-family: monospace;background-color: #f0f8ff;border: 1px dotted black;border-radius: 0.25em;box-sizing: border-box;margin-bottom: 0.5em;}#sk-container-id-55 div.sk-estimator:hover {background-color: #d4ebff;}#sk-container-id-55 div.sk-parallel-item::after {content: \"\";width: 100%;border-bottom: 1px solid gray;flex-grow: 1;}#sk-container-id-55 div.sk-label:hover label.sk-toggleable__label {background-color: #d4ebff;}#sk-container-id-55 div.sk-serial::before {content: \"\";position: absolute;border-left: 1px solid gray;box-sizing: border-box;top: 0;bottom: 0;left: 50%;z-index: 0;}#sk-container-id-55 div.sk-serial {display: flex;flex-direction: column;align-items: center;background-color: white;padding-right: 0.2em;padding-left: 0.2em;position: relative;}#sk-container-id-55 div.sk-item {position: relative;z-index: 1;}#sk-container-id-55 div.sk-parallel {display: flex;align-items: stretch;justify-content: center;background-color: white;position: relative;}#sk-container-id-55 div.sk-item::before, #sk-container-id-55 div.sk-parallel-item::before {content: \"\";position: absolute;border-left: 1px solid gray;box-sizing: border-box;top: 0;bottom: 0;left: 50%;z-index: -1;}#sk-container-id-55 div.sk-parallel-item {display: flex;flex-direction: column;z-index: 1;position: relative;background-color: white;}#sk-container-id-55 div.sk-parallel-item:first-child::after {align-self: flex-end;width: 50%;}#sk-container-id-55 div.sk-parallel-item:last-child::after {align-self: flex-start;width: 50%;}#sk-container-id-55 div.sk-parallel-item:only-child::after {width: 0;}#sk-container-id-55 div.sk-dashed-wrapped {border: 1px dashed gray;margin: 0 0.4em 0.5em 0.4em;box-sizing: border-box;padding-bottom: 0.4em;background-color: white;}#sk-container-id-55 div.sk-label label {font-family: monospace;font-weight: bold;display: inline-block;line-height: 1.2em;}#sk-container-id-55 div.sk-label-container {text-align: center;}#sk-container-id-55 div.sk-container {/* jupyter's `normalize.less` sets `[hidden] { display: none; }` but bootstrap.min.css set `[hidden] { display: none !important; }` so we also need the `!important` here to be able to override the default hidden behavior on the sphinx rendered scikit-learn.org. See: https://github.com/scikit-learn/scikit-learn/issues/21755 */display: inline-block !important;position: relative;}#sk-container-id-55 div.sk-text-repr-fallback {display: none;}</style><div id=\"sk-container-id-55\" class=\"sk-top-container\"><div class=\"sk-text-repr-fallback\"><pre>StandardScaler()</pre><b>In a Jupyter environment, please rerun this cell to show the HTML representation or trust the notebook. <br />On GitHub, the HTML representation is unable to render, please try loading this page with nbviewer.org.</b></div><div class=\"sk-container\" hidden><div class=\"sk-item\"><div class=\"sk-estimator sk-toggleable\"><input class=\"sk-toggleable__control sk-hidden--visually\" id=\"sk-estimator-id-55\" type=\"checkbox\" checked><label for=\"sk-estimator-id-55\" class=\"sk-toggleable__label sk-toggleable__label-arrow\">StandardScaler</label><div class=\"sk-toggleable__content\"><pre>StandardScaler()</pre></div></div></div></div></div>"
     },
     "execution_count": 630,
     "metadata": {},
     "output_type": "execute_result"
    }
   ],
   "source": [
    "scaler = StandardScaler()\n",
    "scaler"
   ],
   "metadata": {
    "collapsed": false,
    "ExecuteTime": {
     "end_time": "2024-02-27T07:41:00.821869800Z",
     "start_time": "2024-02-27T07:41:00.809054500Z"
    }
   },
   "id": "32e2c69e7867df06",
   "execution_count": 630
  },
  {
   "cell_type": "code",
   "outputs": [
    {
     "data": {
      "text/plain": "StandardScaler()",
      "text/html": "<style>#sk-container-id-56 {color: black;}#sk-container-id-56 pre{padding: 0;}#sk-container-id-56 div.sk-toggleable {background-color: white;}#sk-container-id-56 label.sk-toggleable__label {cursor: pointer;display: block;width: 100%;margin-bottom: 0;padding: 0.3em;box-sizing: border-box;text-align: center;}#sk-container-id-56 label.sk-toggleable__label-arrow:before {content: \"▸\";float: left;margin-right: 0.25em;color: #696969;}#sk-container-id-56 label.sk-toggleable__label-arrow:hover:before {color: black;}#sk-container-id-56 div.sk-estimator:hover label.sk-toggleable__label-arrow:before {color: black;}#sk-container-id-56 div.sk-toggleable__content {max-height: 0;max-width: 0;overflow: hidden;text-align: left;background-color: #f0f8ff;}#sk-container-id-56 div.sk-toggleable__content pre {margin: 0.2em;color: black;border-radius: 0.25em;background-color: #f0f8ff;}#sk-container-id-56 input.sk-toggleable__control:checked~div.sk-toggleable__content {max-height: 200px;max-width: 100%;overflow: auto;}#sk-container-id-56 input.sk-toggleable__control:checked~label.sk-toggleable__label-arrow:before {content: \"▾\";}#sk-container-id-56 div.sk-estimator input.sk-toggleable__control:checked~label.sk-toggleable__label {background-color: #d4ebff;}#sk-container-id-56 div.sk-label input.sk-toggleable__control:checked~label.sk-toggleable__label {background-color: #d4ebff;}#sk-container-id-56 input.sk-hidden--visually {border: 0;clip: rect(1px 1px 1px 1px);clip: rect(1px, 1px, 1px, 1px);height: 1px;margin: -1px;overflow: hidden;padding: 0;position: absolute;width: 1px;}#sk-container-id-56 div.sk-estimator {font-family: monospace;background-color: #f0f8ff;border: 1px dotted black;border-radius: 0.25em;box-sizing: border-box;margin-bottom: 0.5em;}#sk-container-id-56 div.sk-estimator:hover {background-color: #d4ebff;}#sk-container-id-56 div.sk-parallel-item::after {content: \"\";width: 100%;border-bottom: 1px solid gray;flex-grow: 1;}#sk-container-id-56 div.sk-label:hover label.sk-toggleable__label {background-color: #d4ebff;}#sk-container-id-56 div.sk-serial::before {content: \"\";position: absolute;border-left: 1px solid gray;box-sizing: border-box;top: 0;bottom: 0;left: 50%;z-index: 0;}#sk-container-id-56 div.sk-serial {display: flex;flex-direction: column;align-items: center;background-color: white;padding-right: 0.2em;padding-left: 0.2em;position: relative;}#sk-container-id-56 div.sk-item {position: relative;z-index: 1;}#sk-container-id-56 div.sk-parallel {display: flex;align-items: stretch;justify-content: center;background-color: white;position: relative;}#sk-container-id-56 div.sk-item::before, #sk-container-id-56 div.sk-parallel-item::before {content: \"\";position: absolute;border-left: 1px solid gray;box-sizing: border-box;top: 0;bottom: 0;left: 50%;z-index: -1;}#sk-container-id-56 div.sk-parallel-item {display: flex;flex-direction: column;z-index: 1;position: relative;background-color: white;}#sk-container-id-56 div.sk-parallel-item:first-child::after {align-self: flex-end;width: 50%;}#sk-container-id-56 div.sk-parallel-item:last-child::after {align-self: flex-start;width: 50%;}#sk-container-id-56 div.sk-parallel-item:only-child::after {width: 0;}#sk-container-id-56 div.sk-dashed-wrapped {border: 1px dashed gray;margin: 0 0.4em 0.5em 0.4em;box-sizing: border-box;padding-bottom: 0.4em;background-color: white;}#sk-container-id-56 div.sk-label label {font-family: monospace;font-weight: bold;display: inline-block;line-height: 1.2em;}#sk-container-id-56 div.sk-label-container {text-align: center;}#sk-container-id-56 div.sk-container {/* jupyter's `normalize.less` sets `[hidden] { display: none; }` but bootstrap.min.css set `[hidden] { display: none !important; }` so we also need the `!important` here to be able to override the default hidden behavior on the sphinx rendered scikit-learn.org. See: https://github.com/scikit-learn/scikit-learn/issues/21755 */display: inline-block !important;position: relative;}#sk-container-id-56 div.sk-text-repr-fallback {display: none;}</style><div id=\"sk-container-id-56\" class=\"sk-top-container\"><div class=\"sk-text-repr-fallback\"><pre>StandardScaler()</pre><b>In a Jupyter environment, please rerun this cell to show the HTML representation or trust the notebook. <br />On GitHub, the HTML representation is unable to render, please try loading this page with nbviewer.org.</b></div><div class=\"sk-container\" hidden><div class=\"sk-item\"><div class=\"sk-estimator sk-toggleable\"><input class=\"sk-toggleable__control sk-hidden--visually\" id=\"sk-estimator-id-56\" type=\"checkbox\" checked><label for=\"sk-estimator-id-56\" class=\"sk-toggleable__label sk-toggleable__label-arrow\">StandardScaler</label><div class=\"sk-toggleable__content\"><pre>StandardScaler()</pre></div></div></div></div></div>"
     },
     "execution_count": 631,
     "metadata": {},
     "output_type": "execute_result"
    }
   ],
   "source": [
    "scaler.fit(X_train)"
   ],
   "metadata": {
    "collapsed": false,
    "ExecuteTime": {
     "end_time": "2024-02-27T07:41:00.837354100Z",
     "start_time": "2024-02-27T07:41:00.824180200Z"
    }
   },
   "id": "227a0b7d120a1ac4",
   "execution_count": 631
  },
  {
   "cell_type": "code",
   "outputs": [
    {
     "data": {
      "text/plain": "array([[-0.79003189],\n       [ 1.28861248],\n       [-0.28829015],\n       [-1.05667179],\n       [-0.92478539],\n       [-0.52339199],\n       [ 1.71867683],\n       [ 1.43196726],\n       [-0.40297397],\n       [ 2.0053864 ],\n       [-0.50332232],\n       [-0.80436737],\n       [ 0.32526833],\n       [ 1.20259961],\n       [-0.9190512 ],\n       [-0.7183545 ],\n       [ 1.71867683],\n       [-1.00076342],\n       [-0.94772215],\n       [-0.77569641],\n       [ 1.43196726],\n       [-0.23094823],\n       [-0.80436737],\n       [ 1.76168326],\n       [-0.73268998],\n       [ 0.82987717],\n       [ 1.71867683],\n       [-0.90471572],\n       [-0.38863849],\n       [-0.43164493],\n       [-0.7183545 ],\n       [ 0.85854812],\n       [-0.77569641],\n       [-0.76136093],\n       [ 0.44568635],\n       [-0.43164493],\n       [-0.583601  ],\n       [-1.03373502],\n       [ 0.71519334]])"
     },
     "execution_count": 632,
     "metadata": {},
     "output_type": "execute_result"
    }
   ],
   "source": [
    "# 스케일링 진행 - 학습용\n",
    "scaled_X_train = scaler.transform(X_train)\n",
    "scaled_X_train"
   ],
   "metadata": {
    "collapsed": false,
    "ExecuteTime": {
     "end_time": "2024-02-27T07:41:00.855558300Z",
     "start_time": "2024-02-27T07:41:00.842925400Z"
    }
   },
   "id": "2bc429837cd34e89",
   "execution_count": 632
  },
  {
   "cell_type": "code",
   "outputs": [
    {
     "data": {
      "text/plain": "array([[-0.83303832],\n       [-0.77569641],\n       [ 1.20259961],\n       [-0.60940486],\n       [ 0.85854812],\n       [-0.63234163],\n       [ 2.0053864 ],\n       [-0.28829015],\n       [ 1.25994152],\n       [-0.73268998],\n       [ 0.81554169],\n       [-0.81870285],\n       [-1.13150298],\n       [-0.86170928],\n       [-0.83303832],\n       [-0.66101258],\n       [-0.90471572]])"
     },
     "execution_count": 633,
     "metadata": {},
     "output_type": "execute_result"
    }
   ],
   "source": [
    "# 스케일링 진행 - 테스트용\n",
    "scaled_X_test = scaler.transform(X_test)\n",
    "scaled_X_test\n",
    "\n",
    "# 흠 오류가 난다. 그러면 스케일링 없이 일단 해볼까? "
   ],
   "metadata": {
    "collapsed": false,
    "ExecuteTime": {
     "end_time": "2024-02-27T07:41:00.868313Z",
     "start_time": "2024-02-27T07:41:00.854168100Z"
    }
   },
   "id": "66b7017e82e9c63c",
   "execution_count": 633
  },
  {
   "cell_type": "markdown",
   "source": [
    "#### 학습"
   ],
   "metadata": {
    "collapsed": false
   },
   "id": "2b851b6778582db0"
  },
  {
   "cell_type": "code",
   "outputs": [
    {
     "data": {
      "text/plain": "KNeighborsRegressor()",
      "text/html": "<style>#sk-container-id-57 {color: black;}#sk-container-id-57 pre{padding: 0;}#sk-container-id-57 div.sk-toggleable {background-color: white;}#sk-container-id-57 label.sk-toggleable__label {cursor: pointer;display: block;width: 100%;margin-bottom: 0;padding: 0.3em;box-sizing: border-box;text-align: center;}#sk-container-id-57 label.sk-toggleable__label-arrow:before {content: \"▸\";float: left;margin-right: 0.25em;color: #696969;}#sk-container-id-57 label.sk-toggleable__label-arrow:hover:before {color: black;}#sk-container-id-57 div.sk-estimator:hover label.sk-toggleable__label-arrow:before {color: black;}#sk-container-id-57 div.sk-toggleable__content {max-height: 0;max-width: 0;overflow: hidden;text-align: left;background-color: #f0f8ff;}#sk-container-id-57 div.sk-toggleable__content pre {margin: 0.2em;color: black;border-radius: 0.25em;background-color: #f0f8ff;}#sk-container-id-57 input.sk-toggleable__control:checked~div.sk-toggleable__content {max-height: 200px;max-width: 100%;overflow: auto;}#sk-container-id-57 input.sk-toggleable__control:checked~label.sk-toggleable__label-arrow:before {content: \"▾\";}#sk-container-id-57 div.sk-estimator input.sk-toggleable__control:checked~label.sk-toggleable__label {background-color: #d4ebff;}#sk-container-id-57 div.sk-label input.sk-toggleable__control:checked~label.sk-toggleable__label {background-color: #d4ebff;}#sk-container-id-57 input.sk-hidden--visually {border: 0;clip: rect(1px 1px 1px 1px);clip: rect(1px, 1px, 1px, 1px);height: 1px;margin: -1px;overflow: hidden;padding: 0;position: absolute;width: 1px;}#sk-container-id-57 div.sk-estimator {font-family: monospace;background-color: #f0f8ff;border: 1px dotted black;border-radius: 0.25em;box-sizing: border-box;margin-bottom: 0.5em;}#sk-container-id-57 div.sk-estimator:hover {background-color: #d4ebff;}#sk-container-id-57 div.sk-parallel-item::after {content: \"\";width: 100%;border-bottom: 1px solid gray;flex-grow: 1;}#sk-container-id-57 div.sk-label:hover label.sk-toggleable__label {background-color: #d4ebff;}#sk-container-id-57 div.sk-serial::before {content: \"\";position: absolute;border-left: 1px solid gray;box-sizing: border-box;top: 0;bottom: 0;left: 50%;z-index: 0;}#sk-container-id-57 div.sk-serial {display: flex;flex-direction: column;align-items: center;background-color: white;padding-right: 0.2em;padding-left: 0.2em;position: relative;}#sk-container-id-57 div.sk-item {position: relative;z-index: 1;}#sk-container-id-57 div.sk-parallel {display: flex;align-items: stretch;justify-content: center;background-color: white;position: relative;}#sk-container-id-57 div.sk-item::before, #sk-container-id-57 div.sk-parallel-item::before {content: \"\";position: absolute;border-left: 1px solid gray;box-sizing: border-box;top: 0;bottom: 0;left: 50%;z-index: -1;}#sk-container-id-57 div.sk-parallel-item {display: flex;flex-direction: column;z-index: 1;position: relative;background-color: white;}#sk-container-id-57 div.sk-parallel-item:first-child::after {align-self: flex-end;width: 50%;}#sk-container-id-57 div.sk-parallel-item:last-child::after {align-self: flex-start;width: 50%;}#sk-container-id-57 div.sk-parallel-item:only-child::after {width: 0;}#sk-container-id-57 div.sk-dashed-wrapped {border: 1px dashed gray;margin: 0 0.4em 0.5em 0.4em;box-sizing: border-box;padding-bottom: 0.4em;background-color: white;}#sk-container-id-57 div.sk-label label {font-family: monospace;font-weight: bold;display: inline-block;line-height: 1.2em;}#sk-container-id-57 div.sk-label-container {text-align: center;}#sk-container-id-57 div.sk-container {/* jupyter's `normalize.less` sets `[hidden] { display: none; }` but bootstrap.min.css set `[hidden] { display: none !important; }` so we also need the `!important` here to be able to override the default hidden behavior on the sphinx rendered scikit-learn.org. See: https://github.com/scikit-learn/scikit-learn/issues/21755 */display: inline-block !important;position: relative;}#sk-container-id-57 div.sk-text-repr-fallback {display: none;}</style><div id=\"sk-container-id-57\" class=\"sk-top-container\"><div class=\"sk-text-repr-fallback\"><pre>KNeighborsRegressor()</pre><b>In a Jupyter environment, please rerun this cell to show the HTML representation or trust the notebook. <br />On GitHub, the HTML representation is unable to render, please try loading this page with nbviewer.org.</b></div><div class=\"sk-container\" hidden><div class=\"sk-item\"><div class=\"sk-estimator sk-toggleable\"><input class=\"sk-toggleable__control sk-hidden--visually\" id=\"sk-estimator-id-57\" type=\"checkbox\" checked><label for=\"sk-estimator-id-57\" class=\"sk-toggleable__label sk-toggleable__label-arrow\">KNeighborsRegressor</label><div class=\"sk-toggleable__content\"><pre>KNeighborsRegressor()</pre></div></div></div></div></div>"
     },
     "execution_count": 634,
     "metadata": {},
     "output_type": "execute_result"
    }
   ],
   "source": [
    "from sklearn.neighbors import KNeighborsRegressor\n",
    "model = KNeighborsRegressor()\n",
    "model"
   ],
   "metadata": {
    "collapsed": false,
    "ExecuteTime": {
     "end_time": "2024-02-27T07:41:00.883347600Z",
     "start_time": "2024-02-27T07:41:00.871465100Z"
    }
   },
   "id": "6c7c0cea0fed1841",
   "execution_count": 634
  },
  {
   "cell_type": "code",
   "outputs": [],
   "source": [
    "# X_train_df = pd.DataFrame(X_train)\n",
    "# X_test_df = pd.DataFrame(X_test)"
   ],
   "metadata": {
    "collapsed": false,
    "ExecuteTime": {
     "end_time": "2024-02-27T07:41:00.898233200Z",
     "start_time": "2024-02-27T07:41:00.885453600Z"
    }
   },
   "id": "ff51a8c9c2e27928",
   "execution_count": 635
  },
  {
   "cell_type": "code",
   "outputs": [
    {
     "data": {
      "text/plain": "KNeighborsRegressor()",
      "text/html": "<style>#sk-container-id-58 {color: black;}#sk-container-id-58 pre{padding: 0;}#sk-container-id-58 div.sk-toggleable {background-color: white;}#sk-container-id-58 label.sk-toggleable__label {cursor: pointer;display: block;width: 100%;margin-bottom: 0;padding: 0.3em;box-sizing: border-box;text-align: center;}#sk-container-id-58 label.sk-toggleable__label-arrow:before {content: \"▸\";float: left;margin-right: 0.25em;color: #696969;}#sk-container-id-58 label.sk-toggleable__label-arrow:hover:before {color: black;}#sk-container-id-58 div.sk-estimator:hover label.sk-toggleable__label-arrow:before {color: black;}#sk-container-id-58 div.sk-toggleable__content {max-height: 0;max-width: 0;overflow: hidden;text-align: left;background-color: #f0f8ff;}#sk-container-id-58 div.sk-toggleable__content pre {margin: 0.2em;color: black;border-radius: 0.25em;background-color: #f0f8ff;}#sk-container-id-58 input.sk-toggleable__control:checked~div.sk-toggleable__content {max-height: 200px;max-width: 100%;overflow: auto;}#sk-container-id-58 input.sk-toggleable__control:checked~label.sk-toggleable__label-arrow:before {content: \"▾\";}#sk-container-id-58 div.sk-estimator input.sk-toggleable__control:checked~label.sk-toggleable__label {background-color: #d4ebff;}#sk-container-id-58 div.sk-label input.sk-toggleable__control:checked~label.sk-toggleable__label {background-color: #d4ebff;}#sk-container-id-58 input.sk-hidden--visually {border: 0;clip: rect(1px 1px 1px 1px);clip: rect(1px, 1px, 1px, 1px);height: 1px;margin: -1px;overflow: hidden;padding: 0;position: absolute;width: 1px;}#sk-container-id-58 div.sk-estimator {font-family: monospace;background-color: #f0f8ff;border: 1px dotted black;border-radius: 0.25em;box-sizing: border-box;margin-bottom: 0.5em;}#sk-container-id-58 div.sk-estimator:hover {background-color: #d4ebff;}#sk-container-id-58 div.sk-parallel-item::after {content: \"\";width: 100%;border-bottom: 1px solid gray;flex-grow: 1;}#sk-container-id-58 div.sk-label:hover label.sk-toggleable__label {background-color: #d4ebff;}#sk-container-id-58 div.sk-serial::before {content: \"\";position: absolute;border-left: 1px solid gray;box-sizing: border-box;top: 0;bottom: 0;left: 50%;z-index: 0;}#sk-container-id-58 div.sk-serial {display: flex;flex-direction: column;align-items: center;background-color: white;padding-right: 0.2em;padding-left: 0.2em;position: relative;}#sk-container-id-58 div.sk-item {position: relative;z-index: 1;}#sk-container-id-58 div.sk-parallel {display: flex;align-items: stretch;justify-content: center;background-color: white;position: relative;}#sk-container-id-58 div.sk-item::before, #sk-container-id-58 div.sk-parallel-item::before {content: \"\";position: absolute;border-left: 1px solid gray;box-sizing: border-box;top: 0;bottom: 0;left: 50%;z-index: -1;}#sk-container-id-58 div.sk-parallel-item {display: flex;flex-direction: column;z-index: 1;position: relative;background-color: white;}#sk-container-id-58 div.sk-parallel-item:first-child::after {align-self: flex-end;width: 50%;}#sk-container-id-58 div.sk-parallel-item:last-child::after {align-self: flex-start;width: 50%;}#sk-container-id-58 div.sk-parallel-item:only-child::after {width: 0;}#sk-container-id-58 div.sk-dashed-wrapped {border: 1px dashed gray;margin: 0 0.4em 0.5em 0.4em;box-sizing: border-box;padding-bottom: 0.4em;background-color: white;}#sk-container-id-58 div.sk-label label {font-family: monospace;font-weight: bold;display: inline-block;line-height: 1.2em;}#sk-container-id-58 div.sk-label-container {text-align: center;}#sk-container-id-58 div.sk-container {/* jupyter's `normalize.less` sets `[hidden] { display: none; }` but bootstrap.min.css set `[hidden] { display: none !important; }` so we also need the `!important` here to be able to override the default hidden behavior on the sphinx rendered scikit-learn.org. See: https://github.com/scikit-learn/scikit-learn/issues/21755 */display: inline-block !important;position: relative;}#sk-container-id-58 div.sk-text-repr-fallback {display: none;}</style><div id=\"sk-container-id-58\" class=\"sk-top-container\"><div class=\"sk-text-repr-fallback\"><pre>KNeighborsRegressor()</pre><b>In a Jupyter environment, please rerun this cell to show the HTML representation or trust the notebook. <br />On GitHub, the HTML representation is unable to render, please try loading this page with nbviewer.org.</b></div><div class=\"sk-container\" hidden><div class=\"sk-item\"><div class=\"sk-estimator sk-toggleable\"><input class=\"sk-toggleable__control sk-hidden--visually\" id=\"sk-estimator-id-58\" type=\"checkbox\" checked><label for=\"sk-estimator-id-58\" class=\"sk-toggleable__label sk-toggleable__label-arrow\">KNeighborsRegressor</label><div class=\"sk-toggleable__content\"><pre>KNeighborsRegressor()</pre></div></div></div></div></div>"
     },
     "execution_count": 636,
     "metadata": {},
     "output_type": "execute_result"
    }
   ],
   "source": [
    "# 학습\n",
    "model.fit(X_train,y_train)"
   ],
   "metadata": {
    "collapsed": false,
    "ExecuteTime": {
     "end_time": "2024-02-27T07:41:00.916752500Z",
     "start_time": "2024-02-27T07:41:00.903081800Z"
    }
   },
   "id": "4e878d4792f69dd3",
   "execution_count": 636
  },
  {
   "cell_type": "markdown",
   "source": [
    "#### 검증(테스트)"
   ],
   "metadata": {
    "collapsed": false
   },
   "id": "c675ad3e2dcfe710"
  },
  {
   "cell_type": "markdown",
   "source": [
    "(6) 테스트 <hr>\n",
    "- 제대로 만들어진 모델인지 확인하는 과정\n",
    "    * 훈령용 데이터에 대한 점수\n",
    "    * 테스트용 데이터에 대한 점수\n",
    "    * 훈련 점수와 테스트 점수 비교\n",
    "        - 훈련점수 > 테스트 점수 : 과대적합 (Overfitting)\n",
    "        - 훈련점수 ≒ 테스트 점수 : 최적적합\n",
    "        - 훈련점수 ▼ 테스트 점수 ▼ : 과소적합 (Underfitting) "
   ],
   "metadata": {
    "collapsed": false
   },
   "id": "2d19adcfe8952fb8"
  },
  {
   "cell_type": "code",
   "outputs": [
    {
     "data": {
      "text/plain": "0.9784324917738143"
     },
     "execution_count": 637,
     "metadata": {},
     "output_type": "execute_result"
    }
   ],
   "source": [
    "# 검증\n",
    "# 정확한 모델인가 검사해보자 (답안지가 있는 데이터를 해보자 => train_data)\n",
    "train_score = model.score(X_train,y_train)\n",
    "train_score"
   ],
   "metadata": {
    "collapsed": false,
    "ExecuteTime": {
     "end_time": "2024-02-27T07:41:00.930765Z",
     "start_time": "2024-02-27T07:41:00.916752500Z"
    }
   },
   "id": "825683dff15a1b21",
   "execution_count": 637
  },
  {
   "cell_type": "code",
   "outputs": [
    {
     "data": {
      "text/plain": "0.9304591558079884"
     },
     "execution_count": 638,
     "metadata": {},
     "output_type": "execute_result"
    }
   ],
   "source": [
    "# 정확한 모델인가 검사해보자 ( => test_data)\n",
    "test_score = model.score(X_test,y_test)\n",
    "test_score"
   ],
   "metadata": {
    "collapsed": false,
    "ExecuteTime": {
     "end_time": "2024-02-27T07:41:00.954805600Z",
     "start_time": "2024-02-27T07:41:00.935242500Z"
    }
   },
   "id": "724545464a6508f8",
   "execution_count": 638
  },
  {
   "cell_type": "code",
   "outputs": [],
   "source": [
    "# train_score와 test_score 를 비교했을때 이정도 차이나니까 ~ 적합으로 계속 진행하겠다. 아니면 전처리를 좀 더 해보겠다."
   ],
   "metadata": {
    "collapsed": false,
    "ExecuteTime": {
     "end_time": "2024-02-27T07:41:00.966432300Z",
     "start_time": "2024-02-27T07:41:00.949739500Z"
    }
   },
   "id": "292c98e583587ba8",
   "execution_count": 639
  },
  {
   "cell_type": "code",
   "outputs": [
    {
     "data": {
      "text/plain": "array([16.2, 16.2, 16.2, 16.2, 18.3, 20.3, 18.3, 18.3, 18.3, 18.3, 21.9,\n       21.9, 21.9, 21.9, 21.9, 21.9, 21.9, 22.3, 21.9, 21.9, 22.7, 22.7,\n       22.7, 23.4, 26.3, 22.7, 24.3, 24.3, 24.3, 26.3, 28. , 26.9, 27.6,\n       26.9, 26.9, 28. , 28. , 36.1, 36.1, 39. , 37.3, 37.3, 37.3, 37.3,\n       40.2, 36.1, 39. , 40.2, 40.2, 42.5, 39. , 42.5, 41.9, 42.5, 41.9,\n       41.9])"
     },
     "execution_count": 640,
     "metadata": {},
     "output_type": "execute_result"
    }
   ],
   "source": [
    "# 앗! 나는 완전히 새로운 데이터로 했다! 그게 아니었다.\n",
    "# 내가 학습시킨게 실제와 얼마나 다른가 확인해보는게 쟁점\n",
    "\n",
    "y_pre = model.predict(perchDF[['Weight']])\n",
    "y_pre = np.round(y_pre, 1)\n",
    "y_pre\n",
    "\n",
    "# KNN으로 학습시킨 모델로 예측값을 구해보았다."
   ],
   "metadata": {
    "collapsed": false,
    "ExecuteTime": {
     "end_time": "2024-02-27T07:41:00.977138Z",
     "start_time": "2024-02-27T07:41:00.965434900Z"
    }
   },
   "id": "b76aaa2e04bf30c2",
   "execution_count": 640
  },
  {
   "cell_type": "markdown",
   "source": [
    "#### 성능평가"
   ],
   "metadata": {
    "collapsed": false
   },
   "id": "6dd0c0147ca7493d"
  },
  {
   "cell_type": "code",
   "outputs": [],
   "source": [
    "# 그 예측값이 정말 타당할까? 성능평가해보자\n",
    "from sklearn.metrics import mean_absolute_error, mean_squared_error, r2_score"
   ],
   "metadata": {
    "collapsed": false,
    "ExecuteTime": {
     "end_time": "2024-02-27T07:41:00.992895Z",
     "start_time": "2024-02-27T07:41:00.979232900Z"
    }
   },
   "id": "54ded2f58b84a76d",
   "execution_count": 641
  },
  {
   "cell_type": "code",
   "outputs": [
    {
     "name": "stdout",
     "output_type": "stream",
     "text": [
      "모델설명도\n",
      "결정계수값(R2) : 0.9648585271453892\n",
      "에러\n",
      "평균제곱오차(MAE) : 2.8091071428571435\n",
      "평균절대값오차(MSE) : 1.0946428571428573\n"
     ]
    }
   ],
   "source": [
    "print('모델설명도')\n",
    "print(f\"결정계수값(R2) : {r2_score(perchDF.Length, y_pre)}\")\n",
    "print('에러')\n",
    "print(f\"평균제곱오차(MAE) : {mean_squared_error(perchDF.Length, y_pre)}\")\n",
    "print(f\"평균절대값오차(MSE) : {mean_absolute_error(perchDF.Length, y_pre)}\")"
   ],
   "metadata": {
    "collapsed": false,
    "ExecuteTime": {
     "end_time": "2024-02-27T07:41:01.013104Z",
     "start_time": "2024-02-27T07:41:00.995959500Z"
    }
   },
   "id": "8632253f03315be1",
   "execution_count": 642
  },
  {
   "cell_type": "code",
   "outputs": [],
   "source": [
    "# 회귀는 중요한게 얼마나 그 예상값에 가까이 나온건가가 쟁점"
   ],
   "metadata": {
    "collapsed": false,
    "ExecuteTime": {
     "end_time": "2024-02-27T07:41:01.022790800Z",
     "start_time": "2024-02-27T07:41:01.009861400Z"
    }
   },
   "id": "549281b013fc14e3",
   "execution_count": 643
  },
  {
   "cell_type": "code",
   "outputs": [],
   "source": [
    "# 이제 과소적합인지 과대적합인지 적정적합인지 확인이 필요하다. \n",
    "# 적정적합인지까지 확인을 하면 믿을만한거!"
   ],
   "metadata": {
    "collapsed": false,
    "ExecuteTime": {
     "end_time": "2024-02-27T07:41:01.038720Z",
     "start_time": "2024-02-27T07:41:01.024952400Z"
    }
   },
   "id": "6d708143da5dab68",
   "execution_count": 644
  },
  {
   "cell_type": "code",
   "outputs": [],
   "source": [],
   "metadata": {
    "collapsed": false,
    "ExecuteTime": {
     "end_time": "2024-02-27T07:41:01.054564Z",
     "start_time": "2024-02-27T07:41:01.039759600Z"
    }
   },
   "id": "ed9cda3ce496211d",
   "execution_count": 644
  },
  {
   "cell_type": "code",
   "outputs": [
    {
     "name": "stderr",
     "output_type": "stream",
     "text": [
      "C:\\ProgramData\\anaconda3\\envs\\EXAM_ML\\lib\\site-packages\\sklearn\\base.py:464: UserWarning: X does not have valid feature names, but KNeighborsRegressor was fitted with feature names\n",
      "  warnings.warn(\n"
     ]
    }
   ],
   "source": [
    "# 예측 (새로운 무게의 데이터를 입력)\n",
    "new_data = pd.DataFrame([[30]])\n",
    "predict_result = model.predict(new_data)"
   ],
   "metadata": {
    "collapsed": false,
    "ExecuteTime": {
     "end_time": "2024-02-27T07:41:01.075615Z",
     "start_time": "2024-02-27T07:41:01.055600400Z"
    }
   },
   "id": "c972d7748b8577e8",
   "execution_count": 645
  },
  {
   "cell_type": "markdown",
   "source": [
    "#### 최고의 K값을 향하여 ..."
   ],
   "metadata": {
    "collapsed": false
   },
   "id": "264850d2915b7141"
  },
  {
   "cell_type": "code",
   "outputs": [
    {
     "data": {
      "text/plain": "39"
     },
     "execution_count": 646,
     "metadata": {},
     "output_type": "execute_result"
    }
   ],
   "source": [
    "# 최고의 K 값을 찾아보자\n",
    "max_k = X_train.shape[0]\n",
    "max_k"
   ],
   "metadata": {
    "collapsed": false,
    "ExecuteTime": {
     "end_time": "2024-02-27T07:41:01.087273Z",
     "start_time": "2024-02-27T07:41:01.072462900Z"
    }
   },
   "id": "244f83c03911fa48",
   "execution_count": 646
  },
  {
   "cell_type": "code",
   "outputs": [],
   "source": [
    "\n",
    "train_scorelist = []\n",
    "test_scorelist = []\n",
    "for k in range(1,11):\n",
    "    model = KNeighborsRegressor(n_neighbors=k)\n",
    "    # 학습 진행\n",
    "    model.fit(X_train, y_train)\n",
    "    # 평가 진행\n",
    "    train_scorelist.append(model.score(X_train,y_train))\n",
    "    test_scorelist.append(model.score(X_test, y_test))"
   ],
   "metadata": {
    "collapsed": false,
    "ExecuteTime": {
     "end_time": "2024-02-27T07:41:01.134785900Z",
     "start_time": "2024-02-27T07:41:01.106111Z"
    }
   },
   "id": "1d845b8c62406974",
   "execution_count": 647
  },
  {
   "cell_type": "code",
   "outputs": [
    {
     "name": "stdout",
     "output_type": "stream",
     "text": [
      "[0.9990339619351278, 0.9943760483990024, 0.9896616037464883, 0.9836669126761037, 0.9784324917738143, 0.9804015027589056, 0.9785539549598375, 0.9769800676313342, 0.9722085160411309, 0.9665609143971378]\n",
      "[0.9471411138489381, 0.9410604267645315, 0.9403094645695753, 0.932089258740868, 0.9304591558079884, 0.9242377244912939, 0.9164310546751637, 0.9012079866487376, 0.8876066298805805, 0.8787221037566311]\n"
     ]
    }
   ],
   "source": [
    "# 확인해보자\n",
    "print(train_scorelist)\n",
    "print(test_scorelist)"
   ],
   "metadata": {
    "collapsed": false,
    "ExecuteTime": {
     "end_time": "2024-02-27T07:41:01.150619700Z",
     "start_time": "2024-02-27T07:41:01.136862100Z"
    }
   },
   "id": "b93b8ee25f0f760d",
   "execution_count": 648
  },
  {
   "cell_type": "code",
   "outputs": [
    {
     "data": {
      "text/plain": "<Figure size 640x480 with 1 Axes>",
      "image/png": "[encoded data removed]"
     },
     "metadata": {},
     "output_type": "display_data"
    }
   ],
   "source": [
    "plt.plot(train_scorelist, 'b--')\n",
    "plt.plot(test_scorelist, 'r--')\n",
    "plt.xlabel('k')\n",
    "plt.ylabel('score')\n",
    "plt.show()\n",
    "\n",
    "\n",
    "#random_state 값에 따라 최적의 k가 달라진다.\n",
    "#122, 123일땐 1\n",
    "#150일땐 6"
   ],
   "metadata": {
    "collapsed": false,
    "ExecuteTime": {
     "end_time": "2024-02-27T07:41:01.290074400Z",
     "start_time": "2024-02-27T07:41:01.152997600Z"
    }
   },
   "id": "962833b6dcc5877e",
   "execution_count": 649
  },
  {
   "cell_type": "code",
   "outputs": [],
   "source": [],
   "metadata": {
    "collapsed": false,
    "ExecuteTime": {
     "end_time": "2024-02-27T07:41:01.312572800Z",
     "start_time": "2024-02-27T07:41:01.292158500Z"
    }
   },
   "id": "dc4c6feb5ca2e563",
   "execution_count": 649
  }
 ],
 "metadata": {
  "kernelspec": {
   "display_name": "Python 3",
   "language": "python",
   "name": "python3"
  },
  "language_info": {
   "codemirror_mode": {
    "name": "ipython",
    "version": 2
   },
   "file_extension": ".py",
   "mimetype": "text/x-python",
   "name": "python",
   "nbconvert_exporter": "python",
   "pygments_lexer": "ipython2",
   "version": "2.7.6"
  }
 },
 "nbformat": 4,
 "nbformat_minor": 5
}
