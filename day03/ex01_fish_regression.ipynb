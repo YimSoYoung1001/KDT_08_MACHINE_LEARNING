{
 "cells": [
  {
   "cell_type": "code",
   "execution_count": 30,
   "id": "initial_id",
   "metadata": {
    "collapsed": true,
    "ExecuteTime": {
     "end_time": "2024-02-27T05:20:19.351583700Z",
     "start_time": "2024-02-27T05:20:19.054850100Z"
    }
   },
   "outputs": [],
   "source": [
    "# 분석은 정답이 없다. 어떤 피쳐를 할건가, 어떻게 가공할건가 등등 다 본인의 선택. 그러니까 다른분들 과제를 많이 봐라~"
   ]
  },
  {
   "cell_type": "markdown",
   "source": [
    "### 목표 : 무게에 따른 길이를 예측해주는 모델\n",
    "- 데 이 터 : fish.csv\n",
    "- 피쳐/특성 : 무게\n",
    "- 라벨/타겟 : 길이"
   ],
   "metadata": {
    "collapsed": false
   },
   "id": "6d58e68664d6d0db"
  },
  {
   "cell_type": "markdown",
   "source": [
    "(1) 모듈 로딩 및 데이터 준비"
   ],
   "metadata": {
    "collapsed": false
   },
   "id": "3eb33334ad458668"
  },
  {
   "cell_type": "code",
   "outputs": [],
   "source": [
    "import pandas as pd\n",
    "import matplotlib.pyplot as plt\n",
    "import seaborn as sns\n",
    "from sklearn.preprocessing import StandardScaler, MinMaxScaler\n",
    "from sklearn.linear_model import LinearRegression\n",
    "import numpy as np\n",
    "import sklearn"
   ],
   "metadata": {
    "collapsed": false,
    "ExecuteTime": {
     "end_time": "2024-02-27T05:20:19.379282Z",
     "start_time": "2024-02-27T05:20:19.340485800Z"
    }
   },
   "id": "120004b3f780e93c",
   "execution_count": 31
  },
  {
   "cell_type": "code",
   "outputs": [
    {
     "name": "stdout",
     "output_type": "stream",
     "text": [
      "1.3.0\n"
     ]
    }
   ],
   "source": [
    "print(sklearn.__version__)"
   ],
   "metadata": {
    "collapsed": false,
    "ExecuteTime": {
     "end_time": "2024-02-27T05:20:19.443530600Z",
     "start_time": "2024-02-27T05:20:19.366391400Z"
    }
   },
   "id": "82d95782142d6af2",
   "execution_count": 32
  },
  {
   "cell_type": "code",
   "outputs": [
    {
     "data": {
      "text/plain": "    Species  Weight  Length\n0     Bream   242.0    25.4\n1     Bream   290.0    26.3\n2     Bream   340.0    26.5\n3     Bream   363.0    29.0\n4     Bream   430.0    29.0\n..      ...     ...     ...\n154   Smelt    12.2    12.2\n155   Smelt    13.4    12.4\n156   Smelt    12.2    13.0\n157   Smelt    19.7    14.3\n158   Smelt    19.9    15.0\n\n[159 rows x 3 columns]",
      "text/html": "<div>\n<style scoped>\n    .dataframe tbody tr th:only-of-type {\n        vertical-align: middle;\n    }\n\n    .dataframe tbody tr th {\n        vertical-align: top;\n    }\n\n    .dataframe thead th {\n        text-align: right;\n    }\n</style>\n<table border=\"1\" class=\"dataframe\">\n  <thead>\n    <tr style=\"text-align: right;\">\n      <th></th>\n      <th>Species</th>\n      <th>Weight</th>\n      <th>Length</th>\n    </tr>\n  </thead>\n  <tbody>\n    <tr>\n      <th>0</th>\n      <td>Bream</td>\n      <td>242.0</td>\n      <td>25.4</td>\n    </tr>\n    <tr>\n      <th>1</th>\n      <td>Bream</td>\n      <td>290.0</td>\n      <td>26.3</td>\n    </tr>\n    <tr>\n      <th>2</th>\n      <td>Bream</td>\n      <td>340.0</td>\n      <td>26.5</td>\n    </tr>\n    <tr>\n      <th>3</th>\n      <td>Bream</td>\n      <td>363.0</td>\n      <td>29.0</td>\n    </tr>\n    <tr>\n      <th>4</th>\n      <td>Bream</td>\n      <td>430.0</td>\n      <td>29.0</td>\n    </tr>\n    <tr>\n      <th>...</th>\n      <td>...</td>\n      <td>...</td>\n      <td>...</td>\n    </tr>\n    <tr>\n      <th>154</th>\n      <td>Smelt</td>\n      <td>12.2</td>\n      <td>12.2</td>\n    </tr>\n    <tr>\n      <th>155</th>\n      <td>Smelt</td>\n      <td>13.4</td>\n      <td>12.4</td>\n    </tr>\n    <tr>\n      <th>156</th>\n      <td>Smelt</td>\n      <td>12.2</td>\n      <td>13.0</td>\n    </tr>\n    <tr>\n      <th>157</th>\n      <td>Smelt</td>\n      <td>19.7</td>\n      <td>14.3</td>\n    </tr>\n    <tr>\n      <th>158</th>\n      <td>Smelt</td>\n      <td>19.9</td>\n      <td>15.0</td>\n    </tr>\n  </tbody>\n</table>\n<p>159 rows × 3 columns</p>\n</div>"
     },
     "execution_count": 33,
     "metadata": {},
     "output_type": "execute_result"
    }
   ],
   "source": [
    "file = '../data/fish.csv'\n",
    "fishDF = pd.read_csv(file, usecols = [0,1,2])\n",
    "fishDF"
   ],
   "metadata": {
    "collapsed": false,
    "ExecuteTime": {
     "end_time": "2024-02-27T05:20:19.509813200Z",
     "start_time": "2024-02-27T05:20:19.447116200Z"
    }
   },
   "id": "ddb3a8f2a488ab7f",
   "execution_count": 33
  },
  {
   "cell_type": "code",
   "outputs": [
    {
     "data": {
      "text/plain": "   Species  Weight  Length\n0    Perch     5.9     8.4\n1    Perch    32.0    13.7\n2    Perch    40.0    15.0\n3    Perch    51.5    16.2\n4    Perch    70.0    17.4\n5    Perch   100.0    18.0\n6    Perch    78.0    18.7\n7    Perch    80.0    19.0\n8    Perch    85.0    19.6\n9    Perch    85.0    20.0\n10   Perch   110.0    21.0\n11   Perch   115.0    21.0\n12   Perch   125.0    21.0\n13   Perch   130.0    21.3\n14   Perch   120.0    22.0\n15   Perch   120.0    22.0\n16   Perch   130.0    22.0\n17   Perch   135.0    22.0\n18   Perch   110.0    22.0\n19   Perch   130.0    22.5\n20   Perch   150.0    22.5\n21   Perch   145.0    22.7\n22   Perch   150.0    23.0\n23   Perch   170.0    23.5\n24   Perch   225.0    24.0\n25   Perch   145.0    24.0\n26   Perch   188.0    24.6\n27   Perch   180.0    25.0\n28   Perch   197.0    25.6\n29   Perch   218.0    26.5\n30   Perch   300.0    27.3\n31   Perch   260.0    27.5\n32   Perch   265.0    27.5\n33   Perch   250.0    27.5\n34   Perch   250.0    28.0\n35   Perch   300.0    28.7\n36   Perch   320.0    30.0\n37   Perch   514.0    32.8\n38   Perch   556.0    34.5\n39   Perch   840.0    35.0\n40   Perch   685.0    36.5\n41   Perch   700.0    36.0\n42   Perch   700.0    37.0\n43   Perch   690.0    37.0\n44   Perch   900.0    39.0\n45   Perch   650.0    39.0\n46   Perch   820.0    39.0\n47   Perch   850.0    40.0\n48   Perch   900.0    40.0\n49   Perch  1015.0    40.0\n50   Perch   820.0    40.0\n51   Perch  1100.0    42.0\n52   Perch  1000.0    43.0\n53   Perch  1100.0    43.0\n54   Perch  1000.0    43.5\n55   Perch  1000.0    44.0",
      "text/html": "<div>\n<style scoped>\n    .dataframe tbody tr th:only-of-type {\n        vertical-align: middle;\n    }\n\n    .dataframe tbody tr th {\n        vertical-align: top;\n    }\n\n    .dataframe thead th {\n        text-align: right;\n    }\n</style>\n<table border=\"1\" class=\"dataframe\">\n  <thead>\n    <tr style=\"text-align: right;\">\n      <th></th>\n      <th>Species</th>\n      <th>Weight</th>\n      <th>Length</th>\n    </tr>\n  </thead>\n  <tbody>\n    <tr>\n      <th>0</th>\n      <td>Perch</td>\n      <td>5.9</td>\n      <td>8.4</td>\n    </tr>\n    <tr>\n      <th>1</th>\n      <td>Perch</td>\n      <td>32.0</td>\n      <td>13.7</td>\n    </tr>\n    <tr>\n      <th>2</th>\n      <td>Perch</td>\n      <td>40.0</td>\n      <td>15.0</td>\n    </tr>\n    <tr>\n      <th>3</th>\n      <td>Perch</td>\n      <td>51.5</td>\n      <td>16.2</td>\n    </tr>\n    <tr>\n      <th>4</th>\n      <td>Perch</td>\n      <td>70.0</td>\n      <td>17.4</td>\n    </tr>\n    <tr>\n      <th>5</th>\n      <td>Perch</td>\n      <td>100.0</td>\n      <td>18.0</td>\n    </tr>\n    <tr>\n      <th>6</th>\n      <td>Perch</td>\n      <td>78.0</td>\n      <td>18.7</td>\n    </tr>\n    <tr>\n      <th>7</th>\n      <td>Perch</td>\n      <td>80.0</td>\n      <td>19.0</td>\n    </tr>\n    <tr>\n      <th>8</th>\n      <td>Perch</td>\n      <td>85.0</td>\n      <td>19.6</td>\n    </tr>\n    <tr>\n      <th>9</th>\n      <td>Perch</td>\n      <td>85.0</td>\n      <td>20.0</td>\n    </tr>\n    <tr>\n      <th>10</th>\n      <td>Perch</td>\n      <td>110.0</td>\n      <td>21.0</td>\n    </tr>\n    <tr>\n      <th>11</th>\n      <td>Perch</td>\n      <td>115.0</td>\n      <td>21.0</td>\n    </tr>\n    <tr>\n      <th>12</th>\n      <td>Perch</td>\n      <td>125.0</td>\n      <td>21.0</td>\n    </tr>\n    <tr>\n      <th>13</th>\n      <td>Perch</td>\n      <td>130.0</td>\n      <td>21.3</td>\n    </tr>\n    <tr>\n      <th>14</th>\n      <td>Perch</td>\n      <td>120.0</td>\n      <td>22.0</td>\n    </tr>\n    <tr>\n      <th>15</th>\n      <td>Perch</td>\n      <td>120.0</td>\n      <td>22.0</td>\n    </tr>\n    <tr>\n      <th>16</th>\n      <td>Perch</td>\n      <td>130.0</td>\n      <td>22.0</td>\n    </tr>\n    <tr>\n      <th>17</th>\n      <td>Perch</td>\n      <td>135.0</td>\n      <td>22.0</td>\n    </tr>\n    <tr>\n      <th>18</th>\n      <td>Perch</td>\n      <td>110.0</td>\n      <td>22.0</td>\n    </tr>\n    <tr>\n      <th>19</th>\n      <td>Perch</td>\n      <td>130.0</td>\n      <td>22.5</td>\n    </tr>\n    <tr>\n      <th>20</th>\n      <td>Perch</td>\n      <td>150.0</td>\n      <td>22.5</td>\n    </tr>\n    <tr>\n      <th>21</th>\n      <td>Perch</td>\n      <td>145.0</td>\n      <td>22.7</td>\n    </tr>\n    <tr>\n      <th>22</th>\n      <td>Perch</td>\n      <td>150.0</td>\n      <td>23.0</td>\n    </tr>\n    <tr>\n      <th>23</th>\n      <td>Perch</td>\n      <td>170.0</td>\n      <td>23.5</td>\n    </tr>\n    <tr>\n      <th>24</th>\n      <td>Perch</td>\n      <td>225.0</td>\n      <td>24.0</td>\n    </tr>\n    <tr>\n      <th>25</th>\n      <td>Perch</td>\n      <td>145.0</td>\n      <td>24.0</td>\n    </tr>\n    <tr>\n      <th>26</th>\n      <td>Perch</td>\n      <td>188.0</td>\n      <td>24.6</td>\n    </tr>\n    <tr>\n      <th>27</th>\n      <td>Perch</td>\n      <td>180.0</td>\n      <td>25.0</td>\n    </tr>\n    <tr>\n      <th>28</th>\n      <td>Perch</td>\n      <td>197.0</td>\n      <td>25.6</td>\n    </tr>\n    <tr>\n      <th>29</th>\n      <td>Perch</td>\n      <td>218.0</td>\n      <td>26.5</td>\n    </tr>\n    <tr>\n      <th>30</th>\n      <td>Perch</td>\n      <td>300.0</td>\n      <td>27.3</td>\n    </tr>\n    <tr>\n      <th>31</th>\n      <td>Perch</td>\n      <td>260.0</td>\n      <td>27.5</td>\n    </tr>\n    <tr>\n      <th>32</th>\n      <td>Perch</td>\n      <td>265.0</td>\n      <td>27.5</td>\n    </tr>\n    <tr>\n      <th>33</th>\n      <td>Perch</td>\n      <td>250.0</td>\n      <td>27.5</td>\n    </tr>\n    <tr>\n      <th>34</th>\n      <td>Perch</td>\n      <td>250.0</td>\n      <td>28.0</td>\n    </tr>\n    <tr>\n      <th>35</th>\n      <td>Perch</td>\n      <td>300.0</td>\n      <td>28.7</td>\n    </tr>\n    <tr>\n      <th>36</th>\n      <td>Perch</td>\n      <td>320.0</td>\n      <td>30.0</td>\n    </tr>\n    <tr>\n      <th>37</th>\n      <td>Perch</td>\n      <td>514.0</td>\n      <td>32.8</td>\n    </tr>\n    <tr>\n      <th>38</th>\n      <td>Perch</td>\n      <td>556.0</td>\n      <td>34.5</td>\n    </tr>\n    <tr>\n      <th>39</th>\n      <td>Perch</td>\n      <td>840.0</td>\n      <td>35.0</td>\n    </tr>\n    <tr>\n      <th>40</th>\n      <td>Perch</td>\n      <td>685.0</td>\n      <td>36.5</td>\n    </tr>\n    <tr>\n      <th>41</th>\n      <td>Perch</td>\n      <td>700.0</td>\n      <td>36.0</td>\n    </tr>\n    <tr>\n      <th>42</th>\n      <td>Perch</td>\n      <td>700.0</td>\n      <td>37.0</td>\n    </tr>\n    <tr>\n      <th>43</th>\n      <td>Perch</td>\n      <td>690.0</td>\n      <td>37.0</td>\n    </tr>\n    <tr>\n      <th>44</th>\n      <td>Perch</td>\n      <td>900.0</td>\n      <td>39.0</td>\n    </tr>\n    <tr>\n      <th>45</th>\n      <td>Perch</td>\n      <td>650.0</td>\n      <td>39.0</td>\n    </tr>\n    <tr>\n      <th>46</th>\n      <td>Perch</td>\n      <td>820.0</td>\n      <td>39.0</td>\n    </tr>\n    <tr>\n      <th>47</th>\n      <td>Perch</td>\n      <td>850.0</td>\n      <td>40.0</td>\n    </tr>\n    <tr>\n      <th>48</th>\n      <td>Perch</td>\n      <td>900.0</td>\n      <td>40.0</td>\n    </tr>\n    <tr>\n      <th>49</th>\n      <td>Perch</td>\n      <td>1015.0</td>\n      <td>40.0</td>\n    </tr>\n    <tr>\n      <th>50</th>\n      <td>Perch</td>\n      <td>820.0</td>\n      <td>40.0</td>\n    </tr>\n    <tr>\n      <th>51</th>\n      <td>Perch</td>\n      <td>1100.0</td>\n      <td>42.0</td>\n    </tr>\n    <tr>\n      <th>52</th>\n      <td>Perch</td>\n      <td>1000.0</td>\n      <td>43.0</td>\n    </tr>\n    <tr>\n      <th>53</th>\n      <td>Perch</td>\n      <td>1100.0</td>\n      <td>43.0</td>\n    </tr>\n    <tr>\n      <th>54</th>\n      <td>Perch</td>\n      <td>1000.0</td>\n      <td>43.5</td>\n    </tr>\n    <tr>\n      <th>55</th>\n      <td>Perch</td>\n      <td>1000.0</td>\n      <td>44.0</td>\n    </tr>\n  </tbody>\n</table>\n</div>"
     },
     "execution_count": 34,
     "metadata": {},
     "output_type": "execute_result"
    }
   ],
   "source": [
    "# 학습에 사용할 데이터 추출 => Perch 행만 추출\n",
    "mask = (fishDF['Species'] == 'Perch')\n",
    "perchDF = fishDF[mask]\n",
    "\n",
    "# 인데긋 정리\n",
    "perchDF.reset_index(drop = True, inplace = True)\n",
    "perchDF"
   ],
   "metadata": {
    "collapsed": false,
    "ExecuteTime": {
     "end_time": "2024-02-27T05:20:19.535727Z",
     "start_time": "2024-02-27T05:20:19.484285400Z"
    }
   },
   "id": "5f1880f9f724b6b2",
   "execution_count": 34
  },
  {
   "cell_type": "code",
   "outputs": [
    {
     "name": "stdout",
     "output_type": "stream",
     "text": [
      "<class 'pandas.core.frame.DataFrame'>\n",
      "RangeIndex: 56 entries, 0 to 55\n",
      "Data columns (total 3 columns):\n",
      " #   Column   Non-Null Count  Dtype  \n",
      "---  ------   --------------  -----  \n",
      " 0   Species  56 non-null     object \n",
      " 1   Weight   56 non-null     float64\n",
      " 2   Length   56 non-null     float64\n",
      "dtypes: float64(2), object(1)\n",
      "memory usage: 1.4+ KB\n"
     ]
    }
   ],
   "source": [
    "# 추출된 데이터 기본 정보 확이\n",
    "perchDF.info()"
   ],
   "metadata": {
    "collapsed": false,
    "ExecuteTime": {
     "end_time": "2024-02-27T05:20:19.614385500Z",
     "start_time": "2024-02-27T05:20:19.507372600Z"
    }
   },
   "id": "e43904a7ed8fbf8a",
   "execution_count": 35
  },
  {
   "cell_type": "code",
   "outputs": [
    {
     "data": {
      "text/plain": "            Weight     Length\ncount    56.000000  56.000000\nmean    382.239286  27.892857\nstd     347.617717   9.021668\nmin       5.900000   8.400000\n25%     120.000000  21.825000\n50%     207.500000  25.300000\n75%     692.500000  36.625000\nmax    1100.000000  44.000000",
      "text/html": "<div>\n<style scoped>\n    .dataframe tbody tr th:only-of-type {\n        vertical-align: middle;\n    }\n\n    .dataframe tbody tr th {\n        vertical-align: top;\n    }\n\n    .dataframe thead th {\n        text-align: right;\n    }\n</style>\n<table border=\"1\" class=\"dataframe\">\n  <thead>\n    <tr style=\"text-align: right;\">\n      <th></th>\n      <th>Weight</th>\n      <th>Length</th>\n    </tr>\n  </thead>\n  <tbody>\n    <tr>\n      <th>count</th>\n      <td>56.000000</td>\n      <td>56.000000</td>\n    </tr>\n    <tr>\n      <th>mean</th>\n      <td>382.239286</td>\n      <td>27.892857</td>\n    </tr>\n    <tr>\n      <th>std</th>\n      <td>347.617717</td>\n      <td>9.021668</td>\n    </tr>\n    <tr>\n      <th>min</th>\n      <td>5.900000</td>\n      <td>8.400000</td>\n    </tr>\n    <tr>\n      <th>25%</th>\n      <td>120.000000</td>\n      <td>21.825000</td>\n    </tr>\n    <tr>\n      <th>50%</th>\n      <td>207.500000</td>\n      <td>25.300000</td>\n    </tr>\n    <tr>\n      <th>75%</th>\n      <td>692.500000</td>\n      <td>36.625000</td>\n    </tr>\n    <tr>\n      <th>max</th>\n      <td>1100.000000</td>\n      <td>44.000000</td>\n    </tr>\n  </tbody>\n</table>\n</div>"
     },
     "execution_count": 36,
     "metadata": {},
     "output_type": "execute_result"
    }
   ],
   "source": [
    "# 수치 컬럼의 데이터 정보 확인\n",
    "perchDF.describe()"
   ],
   "metadata": {
    "collapsed": false,
    "ExecuteTime": {
     "end_time": "2024-02-27T05:20:19.616511900Z",
     "start_time": "2024-02-27T05:20:19.520623100Z"
    }
   },
   "id": "80e519c9bacc9c26",
   "execution_count": 36
  },
  {
   "cell_type": "markdown",
   "source": [
    "(3) 데이터 전처리 <hr>\n",
    "- 결측치, 이상치, 중복값 처리\n",
    "- 데이터의 분포, 컬럼 분포, 최빈값, 고유값"
   ],
   "metadata": {
    "collapsed": false
   },
   "id": "ef9cf0fc1a8f618a"
  },
  {
   "cell_type": "markdown",
   "source": [
    "(3-1) 데이터 분포"
   ],
   "metadata": {
    "collapsed": false
   },
   "id": "b12ba7a82b032218"
  },
  {
   "cell_type": "code",
   "outputs": [
    {
     "data": {
      "text/plain": "<Figure size 640x480 with 1 Axes>",
      "image/png": "[encoded data removed]"
     },
     "metadata": {},
     "output_type": "display_data"
    }
   ],
   "source": [
    "# 무게와 길이에 대한 시각화\n",
    "plt.plot(perchDF['Weight'], perchDF['Length'], 'go--')\n",
    "plt.xlabel('Weight')\n",
    "plt.ylabel('Length')\n",
    "plt.title('perch - Weight & Length')\n",
    "plt.show()"
   ],
   "metadata": {
    "collapsed": false,
    "ExecuteTime": {
     "end_time": "2024-02-27T05:20:19.872384700Z",
     "start_time": "2024-02-27T05:20:19.604321500Z"
    }
   },
   "id": "e5603088900e893c",
   "execution_count": 37
  },
  {
   "cell_type": "code",
   "outputs": [
    {
     "data": {
      "text/plain": "          Weight    Length\nWeight  1.000000  0.958656\nLength  0.958656  1.000000",
      "text/html": "<div>\n<style scoped>\n    .dataframe tbody tr th:only-of-type {\n        vertical-align: middle;\n    }\n\n    .dataframe tbody tr th {\n        vertical-align: top;\n    }\n\n    .dataframe thead th {\n        text-align: right;\n    }\n</style>\n<table border=\"1\" class=\"dataframe\">\n  <thead>\n    <tr style=\"text-align: right;\">\n      <th></th>\n      <th>Weight</th>\n      <th>Length</th>\n    </tr>\n  </thead>\n  <tbody>\n    <tr>\n      <th>Weight</th>\n      <td>1.000000</td>\n      <td>0.958656</td>\n    </tr>\n    <tr>\n      <th>Length</th>\n      <td>0.958656</td>\n      <td>1.000000</td>\n    </tr>\n  </tbody>\n</table>\n</div>"
     },
     "execution_count": 38,
     "metadata": {},
     "output_type": "execute_result"
    }
   ],
   "source": [
    "# 무게와 길이에 대한 상관계수\n",
    "perchDF.corr(numeric_only=True)\n",
    "\n",
    "# 시각화와 상관관계를 보니 비례관계가 있다는 것을 확인했다."
   ],
   "metadata": {
    "collapsed": false,
    "ExecuteTime": {
     "end_time": "2024-02-27T05:20:19.873487900Z",
     "start_time": "2024-02-27T05:20:19.783013100Z"
    }
   },
   "id": "1647a711c722fee9",
   "execution_count": 38
  },
  {
   "cell_type": "code",
   "outputs": [
    {
     "data": {
      "text/plain": "  Species  Weight  Length\n0   Perch     5.9     8.4\n1   Perch    32.0    13.7\n2   Perch    40.0    15.0",
      "text/html": "<div>\n<style scoped>\n    .dataframe tbody tr th:only-of-type {\n        vertical-align: middle;\n    }\n\n    .dataframe tbody tr th {\n        vertical-align: top;\n    }\n\n    .dataframe thead th {\n        text-align: right;\n    }\n</style>\n<table border=\"1\" class=\"dataframe\">\n  <thead>\n    <tr style=\"text-align: right;\">\n      <th></th>\n      <th>Species</th>\n      <th>Weight</th>\n      <th>Length</th>\n    </tr>\n  </thead>\n  <tbody>\n    <tr>\n      <th>0</th>\n      <td>Perch</td>\n      <td>5.9</td>\n      <td>8.4</td>\n    </tr>\n    <tr>\n      <th>1</th>\n      <td>Perch</td>\n      <td>32.0</td>\n      <td>13.7</td>\n    </tr>\n    <tr>\n      <th>2</th>\n      <td>Perch</td>\n      <td>40.0</td>\n      <td>15.0</td>\n    </tr>\n  </tbody>\n</table>\n</div>"
     },
     "execution_count": 39,
     "metadata": {},
     "output_type": "execute_result"
    }
   ],
   "source": [
    "## [분석 결과] 무게에 따른 길이는 비례관계\n",
    "# 무게 값 제공 ==> 길이 값 도출\n",
    "# 무게 + 연산 ==> 길이\n",
    "perchDF.iloc[:3]"
   ],
   "metadata": {
    "collapsed": false,
    "ExecuteTime": {
     "end_time": "2024-02-27T05:20:19.986442400Z",
     "start_time": "2024-02-27T05:20:19.829811500Z"
    }
   },
   "id": "e2a92c5fbea9dd24",
   "execution_count": 39
  },
  {
   "cell_type": "code",
   "outputs": [
    {
     "data": {
      "text/plain": "0      -0.22\n1      -0.30\n2       0.00\n3       1.10\n4       3.60\n5       9.00\n6       3.90\n7       4.00\n8       4.40\n9       4.00\n10      8.00\n11      9.00\n12     11.00\n13     11.70\n14      9.00\n15      9.00\n16     11.00\n17     12.00\n18      7.00\n19     10.50\n20     14.50\n21     13.30\n22     14.00\n23     17.50\n24     28.00\n25     12.00\n26     20.00\n27     18.00\n28     20.80\n29     24.10\n30     39.70\n31     31.50\n32     32.50\n33     29.50\n34     29.00\n35     38.30\n36     41.00\n37     77.00\n38     83.70\n39    140.00\n40    107.50\n41    111.00\n42    110.00\n43    108.00\n44    148.00\n45     98.00\n46    132.00\n47    137.00\n48    147.00\n49    170.00\n50    131.00\n51    185.00\n52    164.00\n53    184.00\n54    163.50\n55    163.00\ndtype: float64"
     },
     "execution_count": 40,
     "metadata": {},
     "output_type": "execute_result"
    }
   ],
   "source": [
    "model = (perchDF.Weight*0.2) + 7\n",
    "model - perchDF.Length"
   ],
   "metadata": {
    "collapsed": false,
    "ExecuteTime": {
     "end_time": "2024-02-27T05:20:20.064668Z",
     "start_time": "2024-02-27T05:20:19.935094500Z"
    }
   },
   "id": "44d95078a4e5e83e",
   "execution_count": 40
  },
  {
   "cell_type": "code",
   "outputs": [
    {
     "data": {
      "text/plain": "55.57357142857143"
     },
     "execution_count": 41,
     "metadata": {},
     "output_type": "execute_result"
    }
   ],
   "source": [
    "# 전체에 대한 오차값\n",
    "result = (model - perchDF.Length).abs().sum()\n",
    "\n",
    "# 전체의 오차값에 대한 평균\n",
    "result/len(perchDF)\n",
    "\n",
    "\n",
    "# 이렇게 공식을 계산해주는 모듈이 따로 있다!\n",
    "# 아래에서 해당되는 모듈을 적용해보자"
   ],
   "metadata": {
    "collapsed": false,
    "ExecuteTime": {
     "end_time": "2024-02-27T05:20:20.198264700Z",
     "start_time": "2024-02-27T05:20:20.049963Z"
    }
   },
   "id": "b78241663ddbb157",
   "execution_count": 41
  },
  {
   "cell_type": "markdown",
   "source": [
    "(4) 학습 진행 <hr>\n",
    "- 학습 방법 : 지도학습 + 회귀(예측) => 선형회귀 LinearRegression             => 이 데이터는 이게 가능하다"
   ],
   "metadata": {
    "collapsed": false
   },
   "id": "bf63000c7f753146"
  },
  {
   "cell_type": "code",
   "outputs": [],
   "source": [
    "# 모델 인스턴스 생성\n",
    "model = LinearRegression()"
   ],
   "metadata": {
    "collapsed": false,
    "ExecuteTime": {
     "end_time": "2024-02-27T05:20:20.269549100Z",
     "start_time": "2024-02-27T05:20:20.161245900Z"
    }
   },
   "id": "da613eeb990db334",
   "execution_count": 42
  },
  {
   "cell_type": "code",
   "outputs": [
    {
     "data": {
      "text/plain": "LinearRegression()",
      "text/html": "<style>#sk-container-id-2 {color: black;}#sk-container-id-2 pre{padding: 0;}#sk-container-id-2 div.sk-toggleable {background-color: white;}#sk-container-id-2 label.sk-toggleable__label {cursor: pointer;display: block;width: 100%;margin-bottom: 0;padding: 0.3em;box-sizing: border-box;text-align: center;}#sk-container-id-2 label.sk-toggleable__label-arrow:before {content: \"▸\";float: left;margin-right: 0.25em;color: #696969;}#sk-container-id-2 label.sk-toggleable__label-arrow:hover:before {color: black;}#sk-container-id-2 div.sk-estimator:hover label.sk-toggleable__label-arrow:before {color: black;}#sk-container-id-2 div.sk-toggleable__content {max-height: 0;max-width: 0;overflow: hidden;text-align: left;background-color: #f0f8ff;}#sk-container-id-2 div.sk-toggleable__content pre {margin: 0.2em;color: black;border-radius: 0.25em;background-color: #f0f8ff;}#sk-container-id-2 input.sk-toggleable__control:checked~div.sk-toggleable__content {max-height: 200px;max-width: 100%;overflow: auto;}#sk-container-id-2 input.sk-toggleable__control:checked~label.sk-toggleable__label-arrow:before {content: \"▾\";}#sk-container-id-2 div.sk-estimator input.sk-toggleable__control:checked~label.sk-toggleable__label {background-color: #d4ebff;}#sk-container-id-2 div.sk-label input.sk-toggleable__control:checked~label.sk-toggleable__label {background-color: #d4ebff;}#sk-container-id-2 input.sk-hidden--visually {border: 0;clip: rect(1px 1px 1px 1px);clip: rect(1px, 1px, 1px, 1px);height: 1px;margin: -1px;overflow: hidden;padding: 0;position: absolute;width: 1px;}#sk-container-id-2 div.sk-estimator {font-family: monospace;background-color: #f0f8ff;border: 1px dotted black;border-radius: 0.25em;box-sizing: border-box;margin-bottom: 0.5em;}#sk-container-id-2 div.sk-estimator:hover {background-color: #d4ebff;}#sk-container-id-2 div.sk-parallel-item::after {content: \"\";width: 100%;border-bottom: 1px solid gray;flex-grow: 1;}#sk-container-id-2 div.sk-label:hover label.sk-toggleable__label {background-color: #d4ebff;}#sk-container-id-2 div.sk-serial::before {content: \"\";position: absolute;border-left: 1px solid gray;box-sizing: border-box;top: 0;bottom: 0;left: 50%;z-index: 0;}#sk-container-id-2 div.sk-serial {display: flex;flex-direction: column;align-items: center;background-color: white;padding-right: 0.2em;padding-left: 0.2em;position: relative;}#sk-container-id-2 div.sk-item {position: relative;z-index: 1;}#sk-container-id-2 div.sk-parallel {display: flex;align-items: stretch;justify-content: center;background-color: white;position: relative;}#sk-container-id-2 div.sk-item::before, #sk-container-id-2 div.sk-parallel-item::before {content: \"\";position: absolute;border-left: 1px solid gray;box-sizing: border-box;top: 0;bottom: 0;left: 50%;z-index: -1;}#sk-container-id-2 div.sk-parallel-item {display: flex;flex-direction: column;z-index: 1;position: relative;background-color: white;}#sk-container-id-2 div.sk-parallel-item:first-child::after {align-self: flex-end;width: 50%;}#sk-container-id-2 div.sk-parallel-item:last-child::after {align-self: flex-start;width: 50%;}#sk-container-id-2 div.sk-parallel-item:only-child::after {width: 0;}#sk-container-id-2 div.sk-dashed-wrapped {border: 1px dashed gray;margin: 0 0.4em 0.5em 0.4em;box-sizing: border-box;padding-bottom: 0.4em;background-color: white;}#sk-container-id-2 div.sk-label label {font-family: monospace;font-weight: bold;display: inline-block;line-height: 1.2em;}#sk-container-id-2 div.sk-label-container {text-align: center;}#sk-container-id-2 div.sk-container {/* jupyter's `normalize.less` sets `[hidden] { display: none; }` but bootstrap.min.css set `[hidden] { display: none !important; }` so we also need the `!important` here to be able to override the default hidden behavior on the sphinx rendered scikit-learn.org. See: https://github.com/scikit-learn/scikit-learn/issues/21755 */display: inline-block !important;position: relative;}#sk-container-id-2 div.sk-text-repr-fallback {display: none;}</style><div id=\"sk-container-id-2\" class=\"sk-top-container\"><div class=\"sk-text-repr-fallback\"><pre>LinearRegression()</pre><b>In a Jupyter environment, please rerun this cell to show the HTML representation or trust the notebook. <br />On GitHub, the HTML representation is unable to render, please try loading this page with nbviewer.org.</b></div><div class=\"sk-container\" hidden><div class=\"sk-item\"><div class=\"sk-estimator sk-toggleable\"><input class=\"sk-toggleable__control sk-hidden--visually\" id=\"sk-estimator-id-2\" type=\"checkbox\" checked><label for=\"sk-estimator-id-2\" class=\"sk-toggleable__label sk-toggleable__label-arrow\">LinearRegression</label><div class=\"sk-toggleable__content\"><pre>LinearRegression()</pre></div></div></div></div></div>"
     },
     "execution_count": 43,
     "metadata": {},
     "output_type": "execute_result"
    }
   ],
   "source": [
    "# 학습\n",
    "model.fit(perchDF[['Weight']], perchDF['Length'])        #2차원 데이터가 들어가야한다는 점을 잊지말자"
   ],
   "metadata": {
    "collapsed": false,
    "ExecuteTime": {
     "end_time": "2024-02-27T05:20:20.296588400Z",
     "start_time": "2024-02-27T05:20:20.205732100Z"
    }
   },
   "id": "aae7f5b536c232e7",
   "execution_count": 43
  },
  {
   "cell_type": "code",
   "outputs": [
    {
     "name": "stdout",
     "output_type": "stream",
     "text": [
      "피쳐에 할당되는 가중치 계수 : [0.02487985]\n",
      "수식에 사용되는 절편 계수 : 18.382802913636723\n"
     ]
    }
   ],
   "source": [
    "# 학습 후 속성 확인\n",
    "print(f\"피쳐에 할당되는 가중치 계수 : {model.coef_}\")\n",
    "print(f\"수식에 사용되는 절편 계수 : {model.intercept_}\")"
   ],
   "metadata": {
    "collapsed": false,
    "ExecuteTime": {
     "end_time": "2024-02-27T05:20:20.309287400Z",
     "start_time": "2024-02-27T05:20:20.280328400Z"
    }
   },
   "id": "8cb2e6bdb0d028c",
   "execution_count": 44
  },
  {
   "cell_type": "code",
   "outputs": [
    {
     "data": {
      "text/plain": "0     18.529594\n1     19.178958\n2     19.377997\n3     19.664115\n4     20.124392\n5     20.870787\n6     20.323431\n7     20.373191\n8     20.497590\n9     20.497590\n10    21.119586\n11    21.243985\n12    21.492784\n13    21.617183\n14    21.368384\n15    21.368384\n16    21.617183\n17    21.741582\n18    21.119586\n19    21.617183\n20    22.114780\n21    21.990380\n22    22.114780\n23    22.612377\n24    23.980768\n25    21.990380\n26    23.060214\n27    22.861175\n28    23.284132\n29    23.806609\n30    25.846756\n31    24.851563\n32    24.975962\n33    24.602764\n34    24.602764\n35    25.846756\n36    26.344353\n37    31.171043\n38    32.215997\n39    39.281873\n40    35.425497\n41    35.798695\n42    35.798695\n43    35.549896\n44    40.774664\n45    34.554702\n46    38.784276\n47    39.530671\n48    40.774664\n49    43.635846\n50    38.784276\n51    45.750633\n52    43.262648\n53    45.750633\n54    43.262648\n55    43.262648\nName: Weight, dtype: float64"
     },
     "execution_count": 45,
     "metadata": {},
     "output_type": "execute_result"
    }
   ],
   "source": [
    "(perchDF['Weight'] * model.coef_) + model.intercept_\n",
    "\n",
    "#위의 모듈에서 나온 공식을 실제로 적용해보았다.\n",
    "#이 넘은 선형회귀라서 ax+b = y 로 계산가능하다."
   ],
   "metadata": {
    "collapsed": false,
    "ExecuteTime": {
     "end_time": "2024-02-27T05:20:20.377517100Z",
     "start_time": "2024-02-27T05:20:20.313564900Z"
    }
   },
   "id": "4f71c453e6ce6c49",
   "execution_count": 45
  },
  {
   "cell_type": "markdown",
   "source": [
    "(5) 테스트 <hr>"
   ],
   "metadata": {
    "collapsed": false
   },
   "id": "3cdf3a80b35cf8de"
  },
  {
   "cell_type": "code",
   "outputs": [
    {
     "data": {
      "text/plain": "0.919021073244782"
     },
     "execution_count": 46,
     "metadata": {},
     "output_type": "execute_result"
    }
   ],
   "source": [
    "# 결정계수 R2 즉, 얼마나 정답에 가깝게 근사하게 겨로가를 예측해내는지 나타내는 계수값\n",
    "# 범위 : 0.0 ~ 1.0  \n",
    "# 1.0에 가까울수록 잘 만들어진 모델\n",
    "model.score(perchDF[['Weight']], perchDF.Length)\n",
    "\n",
    "# score => R**2 (결정계수) 개념을 이용하여 얼마나 실제 값과 가까운지 평가하는 모듈이다."
   ],
   "metadata": {
    "collapsed": false,
    "ExecuteTime": {
     "end_time": "2024-02-27T05:20:20.448794800Z",
     "start_time": "2024-02-27T05:20:20.381732Z"
    }
   },
   "id": "fdd0a043b1c1d7ff",
   "execution_count": 46
  },
  {
   "cell_type": "code",
   "outputs": [
    {
     "data": {
      "text/plain": "array([18.5, 19.2, 19.4, 19.7, 20.1, 20.9, 20.3, 20.4, 20.5, 20.5, 21.1,\n       21.2, 21.5, 21.6, 21.4, 21.4, 21.6, 21.7, 21.1, 21.6, 22.1, 22. ,\n       22.1, 22.6, 24. , 22. , 23.1, 22.9, 23.3, 23.8, 25.8, 24.9, 25. ,\n       24.6, 24.6, 25.8, 26.3, 31.2, 32.2, 39.3, 35.4, 35.8, 35.8, 35.5,\n       40.8, 34.6, 38.8, 39.5, 40.8, 43.6, 38.8, 45.8, 43.3, 45.8, 43.3,\n       43.3])"
     },
     "execution_count": 47,
     "metadata": {},
     "output_type": "execute_result"
    }
   ],
   "source": [
    "y_pre = model.predict(perchDF[['Weight']])\n",
    "y_pre = np.round(y_pre, 1)\n",
    "y_pre"
   ],
   "metadata": {
    "collapsed": false,
    "ExecuteTime": {
     "end_time": "2024-02-27T05:20:20.513077400Z",
     "start_time": "2024-02-27T05:20:20.435663400Z"
    }
   },
   "id": "c70d82caa1f600c8",
   "execution_count": 47
  },
  {
   "cell_type": "code",
   "outputs": [
    {
     "data": {
      "text/plain": "0     10.1\n1      5.5\n2      4.4\n3      3.5\n4      2.7\n5      2.9\n6      1.6\n7      1.4\n8      0.9\n9      0.5\n10     0.1\n11     0.2\n12     0.5\n13     0.3\n14    -0.6\n15    -0.6\n16    -0.4\n17    -0.3\n18    -0.9\n19    -0.9\n20    -0.4\n21    -0.7\n22    -0.9\n23    -0.9\n24     0.0\n25    -2.0\n26    -1.5\n27    -2.1\n28    -2.3\n29    -2.7\n30    -1.5\n31    -2.6\n32    -2.5\n33    -2.9\n34    -3.4\n35    -2.9\n36    -3.7\n37    -1.6\n38    -2.3\n39     4.3\n40    -1.1\n41    -0.2\n42    -1.2\n43    -1.5\n44     1.8\n45    -4.4\n46    -0.2\n47    -0.5\n48     0.8\n49     3.6\n50    -1.2\n51     3.8\n52     0.3\n53     2.8\n54    -0.2\n55    -0.7\nName: Length, dtype: float64"
     },
     "execution_count": 48,
     "metadata": {},
     "output_type": "execute_result"
    }
   ],
   "source": [
    "# 오차 계산 => 예측값 - 정답\n",
    "errorSR = y_pre - perchDF.Length\n",
    "errorSR\n",
    "# 예측값과 실제값 사이의 오차값을 구했다."
   ],
   "metadata": {
    "collapsed": false,
    "ExecuteTime": {
     "end_time": "2024-02-27T05:20:20.565439200Z",
     "start_time": "2024-02-27T05:20:20.500567700Z"
    }
   },
   "id": "ea7712f2d97ef950",
   "execution_count": 48
  },
  {
   "cell_type": "code",
   "outputs": [
    {
     "data": {
      "text/plain": "6.483571428571426"
     },
     "execution_count": 49,
     "metadata": {},
     "output_type": "execute_result"
    }
   ],
   "source": [
    "(errorSR**2).sum()/errorSR.shape[0]\n",
    "#오차의 제곱에 대한 전체 합을 행 개수를 나누어서 평균을 나옴"
   ],
   "metadata": {
    "collapsed": false,
    "ExecuteTime": {
     "end_time": "2024-02-27T05:20:20.609003600Z",
     "start_time": "2024-02-27T05:20:20.554967100Z"
    }
   },
   "id": "348f4434ccf54b87",
   "execution_count": 49
  },
  {
   "cell_type": "code",
   "outputs": [
    {
     "data": {
      "text/plain": "24    0.0\nName: Length, dtype: float64"
     },
     "execution_count": 50,
     "metadata": {},
     "output_type": "execute_result"
    }
   ],
   "source": [
    "# 정답과 완벽하게 똑같은 갯수 찾기\n",
    "errorSR[errorSR == 0.0]\n",
    "# 맞춘 데이터의 개수를 구해보자"
   ],
   "metadata": {
    "collapsed": false,
    "ExecuteTime": {
     "end_time": "2024-02-27T05:20:20.629675400Z",
     "start_time": "2024-02-27T05:20:20.594301700Z"
    }
   },
   "id": "974eff85013c4811",
   "execution_count": 50
  },
  {
   "cell_type": "code",
   "outputs": [],
   "source": [
    "# 이렇게 계산한거를 해주는 모듈이 따로 존재한다."
   ],
   "metadata": {
    "collapsed": false,
    "ExecuteTime": {
     "end_time": "2024-02-27T05:20:20.677687100Z",
     "start_time": "2024-02-27T05:20:20.618131200Z"
    }
   },
   "id": "e4a6c730414ce488",
   "execution_count": 51
  },
  {
   "cell_type": "markdown",
   "source": [
    "(6) 성능평가 <hr>\n",
    "- 결정계수 값 : 1.0에 가까울수록 좋음\n",
    "- 오차평균 값 : 낮을수록 좋음\n",
    "- 활용 모듈 : sklearn.metrics"
   ],
   "metadata": {
    "collapsed": false
   },
   "id": "4c80f404053cac50"
  },
  {
   "cell_type": "code",
   "outputs": [],
   "source": [
    "from sklearn.metrics import mean_absolute_error, mean_squared_error, r2_score\n",
    "# 모델을 만들고나서 성능을 평가할때 사용할것."
   ],
   "metadata": {
    "collapsed": false,
    "ExecuteTime": {
     "end_time": "2024-02-27T05:20:20.698646900Z",
     "start_time": "2024-02-27T05:20:20.640038800Z"
    }
   },
   "id": "62059f1ab574fcce",
   "execution_count": 52
  },
  {
   "cell_type": "code",
   "outputs": [
    {
     "data": {
      "text/plain": "0.918891577369194"
     },
     "execution_count": 53,
     "metadata": {},
     "output_type": "execute_result"
    }
   ],
   "source": [
    "# 결정 계수 값\n",
    "r2_score(perchDF.Length, y_pre)\n",
    "\n",
    "# (+) 결정계수가 뭘까?\n",
    "# => 회귀모델에서 독립변수가 종속변수를 얼마만큼 설명해주는지를 가리키는 지표를 가리킴. 예를 들어 0.3의 값이 나왔다고 하면 독립변수가 종속변수의 30% 정도를 설명한다고 이야기 함"
   ],
   "metadata": {
    "collapsed": false,
    "ExecuteTime": {
     "end_time": "2024-02-27T05:20:20.747908200Z",
     "start_time": "2024-02-27T05:20:20.702868500Z"
    }
   },
   "id": "5d595e380dd38fec",
   "execution_count": 53
  },
  {
   "cell_type": "code",
   "outputs": [
    {
     "data": {
      "text/plain": "6.483571428571426"
     },
     "execution_count": 54,
     "metadata": {},
     "output_type": "execute_result"
    }
   ],
   "source": [
    "# 평균 제곱 오차 : MSE\n",
    "mean_squared_error(perchDF.Length, y_pre)"
   ],
   "metadata": {
    "collapsed": false,
    "ExecuteTime": {
     "end_time": "2024-02-27T05:20:20.785934Z",
     "start_time": "2024-02-27T05:20:20.735446600Z"
    }
   },
   "id": "88c4eadbc51af10e",
   "execution_count": 54
  },
  {
   "cell_type": "code",
   "outputs": [
    {
     "data": {
      "text/plain": "2.5462858104642194"
     },
     "execution_count": 55,
     "metadata": {},
     "output_type": "execute_result"
    }
   ],
   "source": [
    "# 루트 평균 제곱 오차 : RMSE => 1.4 버전에 추가\n",
    "mean_squared_error(perchDF.Length, y_pre, squared=False)"
   ],
   "metadata": {
    "collapsed": false,
    "ExecuteTime": {
     "end_time": "2024-02-27T05:20:20.811463700Z",
     "start_time": "2024-02-27T05:20:20.760106600Z"
    }
   },
   "id": "4eaac08ab5a3b29d",
   "execution_count": 55
  },
  {
   "cell_type": "code",
   "outputs": [
    {
     "data": {
      "text/plain": "1.8535714285714282"
     },
     "execution_count": 56,
     "metadata": {},
     "output_type": "execute_result"
    }
   ],
   "source": [
    "# 평균 절대값 오차 : MAE\n",
    "mean_absolute_error(perchDF.Length, y_pre)"
   ],
   "metadata": {
    "collapsed": false,
    "ExecuteTime": {
     "end_time": "2024-02-27T05:20:20.833145300Z",
     "start_time": "2024-02-27T05:20:20.797458Z"
    }
   },
   "id": "8c955e89832d4e14",
   "execution_count": 56
  },
  {
   "cell_type": "code",
   "outputs": [],
   "source": [
    "# 위에서 계산을 일일이 했던 것을 여기서 계산이 되었다.\n",
    "# 저 3개 중에 뭐가 가장 중요한가요? => 다 봐야죠, 그런데 그 의뢰하는 쪽에서 무얼 기준으로 해달라 이럴것이다."
   ],
   "metadata": {
    "collapsed": false,
    "ExecuteTime": {
     "end_time": "2024-02-27T05:20:20.909964900Z",
     "start_time": "2024-02-27T05:20:20.836792200Z"
    }
   },
   "id": "7945750ecbc6d53a",
   "execution_count": 57
  },
  {
   "cell_type": "code",
   "outputs": [],
   "source": [],
   "metadata": {
    "collapsed": false,
    "ExecuteTime": {
     "end_time": "2024-02-27T05:20:21.346014200Z",
     "start_time": "2024-02-27T05:20:21.298999600Z"
    }
   },
   "id": "d681a303785b096f",
   "execution_count": 57
  },
  {
   "cell_type": "code",
   "outputs": [],
   "source": [],
   "metadata": {
    "collapsed": false,
    "ExecuteTime": {
     "end_time": "2024-02-27T05:20:21.347085700Z",
     "start_time": "2024-02-27T05:20:21.315369600Z"
    }
   },
   "id": "92eefbd1e0f4dd91",
   "execution_count": 57
  }
 ],
 "metadata": {
  "kernelspec": {
   "display_name": "Python 3",
   "language": "python",
   "name": "python3"
  },
  "language_info": {
   "codemirror_mode": {
    "name": "ipython",
    "version": 2
   },
   "file_extension": ".py",
   "mimetype": "text/x-python",
   "name": "python",
   "nbconvert_exporter": "python",
   "pygments_lexer": "ipython2",
   "version": "2.7.6"
  }
 },
 "nbformat": 4,
 "nbformat_minor": 5
}
