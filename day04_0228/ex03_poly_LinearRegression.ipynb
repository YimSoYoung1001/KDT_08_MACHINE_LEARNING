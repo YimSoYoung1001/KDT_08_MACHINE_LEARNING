{
 "cells": [
  {
   "cell_type": "markdown",
   "source": [
    "### 목표 : 부족한 피쳐를 조합 생성하여 모델 성능 향상\n",
    "- 특성공학 => 피쳐 추출/선택/생성\n",
    "- 비선형의 데이터에 대한 피쳐 생성 ==> 곡선 형태의 회귀선 수식을 생성할 것\n",
    "- 모듈 : sklearn.preprocessing 내에 포함\n",
    "- 데이터 : fish.csv\n",
    "- 피처 : Perch의 Height, Length, Width\n",
    "- 타겟 : Perch의 Weight\n",
    "- 학습유형 : 지도학습\n",
    "\n",
    "https://scikit-learn.org/stable/modules/generated/sklearn.preprocessing.PolynomialFeatures.html#sklearn.preprocessing.PolynomialFeatures"
   ],
   "metadata": {
    "collapsed": false
   },
   "id": "deb0fe50351b1176"
  },
  {
   "cell_type": "markdown",
   "source": [
    "[1] 전처리 피처 조합 생성 살펴보기"
   ],
   "metadata": {
    "collapsed": false
   },
   "id": "7da9834dbe6da879"
  },
  {
   "cell_type": "code",
   "outputs": [],
   "source": [
    "# 모듀롤딩\n",
    "from sklearn.preprocessing import PolynomialFeatures\n",
    "from sklearn.model_selection import train_test_split\n",
    "from sklearn.preprocessing import StandardScaler, MinMaxScaler, RobustScaler"
   ],
   "metadata": {
    "collapsed": false,
    "ExecuteTime": {
     "end_time": "2024-03-02T04:52:18.563241Z",
     "start_time": "2024-03-02T04:52:17.342104Z"
    }
   },
   "id": "ee4c7416306e77e8",
   "execution_count": 2
  },
  {
   "cell_type": "code",
   "outputs": [
    {
     "data": {
      "text/plain": "'\\npoly = PolynomialFeatures(interaction_only=True)\\n>>> poly.fit_transform(X)\\n[return값]\\narray([[ 1.,  0.,  1.,  0.],\\n       [ 1.,  2.,  3.,  6.],\\n       [ 1.,  4.,  5., 20.]])\\n'"
     },
     "execution_count": 3,
     "metadata": {},
     "output_type": "execute_result"
    }
   ],
   "source": [
    "# 인스턴스 생성\n",
    "#poly = PolynomialFeatures() \n",
    "#poly = PolynomialFeatures(include_bias=False) #transform하면 1이 사라짐\n",
    "poly = PolynomialFeatures(include_bias=False, degree = 5) #degree (차원) default값은 2이다. 여기서는 5차원까지 해보겠다.\n",
    "\n",
    "'''\n",
    "poly = PolynomialFeatures(interaction_only=True)\n",
    ">>> poly.fit_transform(X)\n",
    "[return값]\n",
    "array([[ 1.,  0.,  1.,  0.],\n",
    "       [ 1.,  2.,  3.,  6.],\n",
    "       [ 1.,  4.,  5., 20.]])\n",
    "'''"
   ],
   "metadata": {
    "collapsed": false,
    "ExecuteTime": {
     "end_time": "2024-03-02T04:52:18.579332Z",
     "start_time": "2024-03-02T04:52:18.565315Z"
    }
   },
   "id": "20f0edfd82e26163",
   "execution_count": 3
  },
  {
   "cell_type": "code",
   "outputs": [
    {
     "data": {
      "text/plain": "PolynomialFeatures(degree=5, include_bias=False)",
      "text/html": "<style>#sk-container-id-1 {color: black;}#sk-container-id-1 pre{padding: 0;}#sk-container-id-1 div.sk-toggleable {background-color: white;}#sk-container-id-1 label.sk-toggleable__label {cursor: pointer;display: block;width: 100%;margin-bottom: 0;padding: 0.3em;box-sizing: border-box;text-align: center;}#sk-container-id-1 label.sk-toggleable__label-arrow:before {content: \"▸\";float: left;margin-right: 0.25em;color: #696969;}#sk-container-id-1 label.sk-toggleable__label-arrow:hover:before {color: black;}#sk-container-id-1 div.sk-estimator:hover label.sk-toggleable__label-arrow:before {color: black;}#sk-container-id-1 div.sk-toggleable__content {max-height: 0;max-width: 0;overflow: hidden;text-align: left;background-color: #f0f8ff;}#sk-container-id-1 div.sk-toggleable__content pre {margin: 0.2em;color: black;border-radius: 0.25em;background-color: #f0f8ff;}#sk-container-id-1 input.sk-toggleable__control:checked~div.sk-toggleable__content {max-height: 200px;max-width: 100%;overflow: auto;}#sk-container-id-1 input.sk-toggleable__control:checked~label.sk-toggleable__label-arrow:before {content: \"▾\";}#sk-container-id-1 div.sk-estimator input.sk-toggleable__control:checked~label.sk-toggleable__label {background-color: #d4ebff;}#sk-container-id-1 div.sk-label input.sk-toggleable__control:checked~label.sk-toggleable__label {background-color: #d4ebff;}#sk-container-id-1 input.sk-hidden--visually {border: 0;clip: rect(1px 1px 1px 1px);clip: rect(1px, 1px, 1px, 1px);height: 1px;margin: -1px;overflow: hidden;padding: 0;position: absolute;width: 1px;}#sk-container-id-1 div.sk-estimator {font-family: monospace;background-color: #f0f8ff;border: 1px dotted black;border-radius: 0.25em;box-sizing: border-box;margin-bottom: 0.5em;}#sk-container-id-1 div.sk-estimator:hover {background-color: #d4ebff;}#sk-container-id-1 div.sk-parallel-item::after {content: \"\";width: 100%;border-bottom: 1px solid gray;flex-grow: 1;}#sk-container-id-1 div.sk-label:hover label.sk-toggleable__label {background-color: #d4ebff;}#sk-container-id-1 div.sk-serial::before {content: \"\";position: absolute;border-left: 1px solid gray;box-sizing: border-box;top: 0;bottom: 0;left: 50%;z-index: 0;}#sk-container-id-1 div.sk-serial {display: flex;flex-direction: column;align-items: center;background-color: white;padding-right: 0.2em;padding-left: 0.2em;position: relative;}#sk-container-id-1 div.sk-item {position: relative;z-index: 1;}#sk-container-id-1 div.sk-parallel {display: flex;align-items: stretch;justify-content: center;background-color: white;position: relative;}#sk-container-id-1 div.sk-item::before, #sk-container-id-1 div.sk-parallel-item::before {content: \"\";position: absolute;border-left: 1px solid gray;box-sizing: border-box;top: 0;bottom: 0;left: 50%;z-index: -1;}#sk-container-id-1 div.sk-parallel-item {display: flex;flex-direction: column;z-index: 1;position: relative;background-color: white;}#sk-container-id-1 div.sk-parallel-item:first-child::after {align-self: flex-end;width: 50%;}#sk-container-id-1 div.sk-parallel-item:last-child::after {align-self: flex-start;width: 50%;}#sk-container-id-1 div.sk-parallel-item:only-child::after {width: 0;}#sk-container-id-1 div.sk-dashed-wrapped {border: 1px dashed gray;margin: 0 0.4em 0.5em 0.4em;box-sizing: border-box;padding-bottom: 0.4em;background-color: white;}#sk-container-id-1 div.sk-label label {font-family: monospace;font-weight: bold;display: inline-block;line-height: 1.2em;}#sk-container-id-1 div.sk-label-container {text-align: center;}#sk-container-id-1 div.sk-container {/* jupyter's `normalize.less` sets `[hidden] { display: none; }` but bootstrap.min.css set `[hidden] { display: none !important; }` so we also need the `!important` here to be able to override the default hidden behavior on the sphinx rendered scikit-learn.org. See: https://github.com/scikit-learn/scikit-learn/issues/21755 */display: inline-block !important;position: relative;}#sk-container-id-1 div.sk-text-repr-fallback {display: none;}</style><div id=\"sk-container-id-1\" class=\"sk-top-container\"><div class=\"sk-text-repr-fallback\"><pre>PolynomialFeatures(degree=5, include_bias=False)</pre><b>In a Jupyter environment, please rerun this cell to show the HTML representation or trust the notebook. <br />On GitHub, the HTML representation is unable to render, please try loading this page with nbviewer.org.</b></div><div class=\"sk-container\" hidden><div class=\"sk-item\"><div class=\"sk-estimator sk-toggleable\"><input class=\"sk-toggleable__control sk-hidden--visually\" id=\"sk-estimator-id-1\" type=\"checkbox\" checked><label for=\"sk-estimator-id-1\" class=\"sk-toggleable__label sk-toggleable__label-arrow\">PolynomialFeatures</label><div class=\"sk-toggleable__content\"><pre>PolynomialFeatures(degree=5, include_bias=False)</pre></div></div></div></div></div>"
     },
     "execution_count": 4,
     "metadata": {},
     "output_type": "execute_result"
    }
   ],
   "source": [
    "poly.fit([[2,3]])"
   ],
   "metadata": {
    "collapsed": false,
    "ExecuteTime": {
     "end_time": "2024-03-02T04:52:18.594293Z",
     "start_time": "2024-03-02T04:52:18.580387Z"
    }
   },
   "id": "d037fad8f6c7b049",
   "execution_count": 4
  },
  {
   "cell_type": "code",
   "outputs": [
    {
     "data": {
      "text/plain": "array([[  2.,   3.,   4.,   6.,   9.,   8.,  12.,  18.,  27.,  16.,  24.,\n         36.,  54.,  81.,  32.,  48.,  72., 108., 162., 243.]])"
     },
     "execution_count": 5,
     "metadata": {},
     "output_type": "execute_result"
    }
   ],
   "source": [
    "poly.transform([[2, 3]])    # a=2, b=3\n",
    "\n",
    "# 2,3,4,6,9,8,12,18,27,16,24,36,54,81,32,48,72,108,162,243\n",
    "# degree=5 => 5차항까지 구하기\n",
    "# 1차항 a,b,\n",
    "# 2차항 a^2,ab,b^2,\n",
    "# 3차항 a^3,a^2*b,a*b^2,b^3,\n",
    "# 4차항 a^4,a^3*b,a^2*b^2,a*b^3,b^4\n",
    "# 5차항 a^5,a^4*b,a^3*b^2,a^2*b^3,a^b^4,b^5"
   ],
   "metadata": {
    "collapsed": false,
    "ExecuteTime": {
     "end_time": "2024-03-02T04:52:18.610135Z",
     "start_time": "2024-03-02T04:52:18.595292Z"
    }
   },
   "id": "166adfc397ce2032",
   "execution_count": 5
  },
  {
   "cell_type": "code",
   "outputs": [
    {
     "data": {
      "text/plain": "array(['x0', 'x1', 'x0^2', 'x0 x1', 'x1^2', 'x0^3', 'x0^2 x1', 'x0 x1^2',\n       'x1^3', 'x0^4', 'x0^3 x1', 'x0^2 x1^2', 'x0 x1^3', 'x1^4', 'x0^5',\n       'x0^4 x1', 'x0^3 x1^2', 'x0^2 x1^3', 'x0 x1^4', 'x1^5'],\n      dtype=object)"
     },
     "execution_count": 6,
     "metadata": {},
     "output_type": "execute_result"
    }
   ],
   "source": [
    "poly.get_feature_names_out()\n",
    "# 위의 연산 결과가 어떻게 나왔는지 보여줌."
   ],
   "metadata": {
    "collapsed": false,
    "ExecuteTime": {
     "end_time": "2024-03-02T04:52:18.626112Z",
     "start_time": "2024-03-02T04:52:18.612223Z"
    }
   },
   "id": "a7a5e57c58afc473",
   "execution_count": 6
  },
  {
   "cell_type": "code",
   "outputs": [],
   "source": [
    "# 그래서 이걸 왜 하는데??\n",
    "# => 피처를 가공해서 더 높은 성능을 가지도록 하는것임. 여기서 말하는 '차원'은 2D, 3D가 아니라 지수를 의미 (2제곱, 3제곱 ,,, )\n",
    "# 여기서도 어떤 차원일 때 성능이 제일 높은지 알아봐야 할것이다~"
   ],
   "metadata": {
    "collapsed": false,
    "ExecuteTime": {
     "end_time": "2024-03-02T04:52:18.641216Z",
     "start_time": "2024-03-02T04:52:18.628134Z"
    }
   },
   "id": "162342b1d7b0464d",
   "execution_count": 7
  },
  {
   "cell_type": "markdown",
   "source": [
    "[2] Perch 데이터를 최대한 만족하는 회귀선을 찾기"
   ],
   "metadata": {
    "collapsed": false
   },
   "id": "1f8965ccc1757cc3"
  },
  {
   "cell_type": "markdown",
   "source": [
    "[2-1] 모듈로딩 및 데이터 준비 <hr>"
   ],
   "metadata": {
    "collapsed": false
   },
   "id": "5bb8a9ea76a1626"
  },
  {
   "cell_type": "code",
   "outputs": [],
   "source": [
    "import pandas as pd\n",
    "import numpy as np\n",
    "import matplotlib.pyplot as plt"
   ],
   "metadata": {
    "collapsed": false,
    "ExecuteTime": {
     "end_time": "2024-03-02T04:52:19.545399Z",
     "start_time": "2024-03-02T04:52:18.642213Z"
    }
   },
   "id": "646938eb45734c5a",
   "execution_count": 8
  },
  {
   "cell_type": "code",
   "outputs": [
    {
     "name": "stdout",
     "output_type": "stream",
     "text": [
      "<class 'pandas.core.frame.DataFrame'>\n",
      "RangeIndex: 159 entries, 0 to 158\n",
      "Data columns (total 6 columns):\n",
      " #   Column    Non-Null Count  Dtype  \n",
      "---  ------    --------------  -----  \n",
      " 0   Species   159 non-null    object \n",
      " 1   Weight    159 non-null    float64\n",
      " 2   Length    159 non-null    float64\n",
      " 3   Diagonal  159 non-null    float64\n",
      " 4   Height    159 non-null    float64\n",
      " 5   Width     159 non-null    float64\n",
      "dtypes: float64(5), object(1)\n",
      "memory usage: 7.6+ KB\n"
     ]
    }
   ],
   "source": [
    "# 데이터 준비\n",
    "data_file = '../data/fish.csv'\n",
    "\n",
    "dataDF = pd.read_csv(data_file)\n",
    "dataDF.info()"
   ],
   "metadata": {
    "collapsed": false,
    "ExecuteTime": {
     "end_time": "2024-03-02T04:52:19.577479Z",
     "start_time": "2024-03-02T04:52:19.546493Z"
    }
   },
   "id": "c7dcd501f4ae2a61",
   "execution_count": 9
  },
  {
   "cell_type": "code",
   "outputs": [],
   "source": [
    "# 불필요한 컬럼 제거\n",
    "dataDF.drop('Diagonal', axis = 1, inplace = True)"
   ],
   "metadata": {
    "collapsed": false,
    "ExecuteTime": {
     "end_time": "2024-03-02T04:52:19.593187Z",
     "start_time": "2024-03-02T04:52:19.578552Z"
    }
   },
   "id": "6d0b8a5caca715b0",
   "execution_count": 10
  },
  {
   "cell_type": "code",
   "outputs": [],
   "source": [
    "# perch행만 추출\n",
    "perchDF = dataDF[dataDF.Species == 'Perch']"
   ],
   "metadata": {
    "collapsed": false,
    "ExecuteTime": {
     "end_time": "2024-03-02T04:52:19.608928Z",
     "start_time": "2024-03-02T04:52:19.594254Z"
    }
   },
   "id": "35833064c4cb0e58",
   "execution_count": 11
  },
  {
   "cell_type": "code",
   "outputs": [],
   "source": [
    "# perch가 적힌 열 삭제\n",
    "perchDF = perchDF.drop('Species', axis = 'columns').copy()"
   ],
   "metadata": {
    "collapsed": false,
    "ExecuteTime": {
     "end_time": "2024-03-02T04:52:19.624486Z",
     "start_time": "2024-03-02T04:52:19.610922Z"
    }
   },
   "id": "c720f4def60aca42",
   "execution_count": 12
  },
  {
   "cell_type": "code",
   "outputs": [],
   "source": [
    "# 행 인덱스 초기화\n",
    "perchDF.reset_index(drop = True, inplace = True)"
   ],
   "metadata": {
    "collapsed": false,
    "ExecuteTime": {
     "end_time": "2024-03-02T04:52:19.640097Z",
     "start_time": "2024-03-02T04:52:19.625483Z"
    }
   },
   "id": "23b48256aad6f5f1",
   "execution_count": 13
  },
  {
   "cell_type": "code",
   "outputs": [
    {
     "data": {
      "text/plain": "    Weight  Length   Height   Width\n0      5.9     8.4   2.1120  1.4080\n1     32.0    13.7   3.5280  1.9992\n2     40.0    15.0   3.8240  2.4320\n3     51.5    16.2   4.5924  2.6316\n4     70.0    17.4   4.5880  2.9415\n5    100.0    18.0   5.2224  3.3216\n6     78.0    18.7   5.1992  3.1234\n7     80.0    19.0   5.6358  3.0502\n8     85.0    19.6   5.1376  3.0368\n9     85.0    20.0   5.0820  2.7720\n10   110.0    21.0   5.6925  3.5550\n11   115.0    21.0   5.9175  3.3075\n12   125.0    21.0   5.6925  3.6675\n13   130.0    21.3   6.3840  3.5340\n14   120.0    22.0   6.1100  3.4075\n15   120.0    22.0   5.6400  3.5250\n16   130.0    22.0   6.1100  3.5250\n17   135.0    22.0   5.8750  3.5250\n18   110.0    22.0   5.5225  3.9950\n19   130.0    22.5   5.8560  3.6240\n20   150.0    22.5   6.7920  3.6240\n21   145.0    22.7   5.9532  3.6300\n22   150.0    23.0   5.2185  3.6260\n23   170.0    23.5   6.2750  3.7250\n24   225.0    24.0   7.2930  3.7230\n25   145.0    24.0   6.3750  3.8250\n26   188.0    24.6   6.7334  4.1658\n27   180.0    25.0   6.4395  3.6835\n28   197.0    25.6   6.5610  4.2390\n29   218.0    26.5   7.1680  4.1440\n30   300.0    27.3   8.3230  5.1373\n31   260.0    27.5   7.1672  4.3350\n32   265.0    27.5   7.0516  4.3350\n33   250.0    27.5   7.2828  4.5662\n34   250.0    28.0   7.8204  4.2042\n35   300.0    28.7   7.5852  4.6354\n36   320.0    30.0   7.6156  4.7716\n37   514.0    32.8  10.0300  6.0180\n38   556.0    34.5  10.2565  6.3875\n39   840.0    35.0  11.4884  7.7957\n40   685.0    36.5  10.8810  6.8640\n41   700.0    36.0  10.6091  6.7408\n42   700.0    37.0  10.8350  6.2646\n43   690.0    37.0  10.5717  6.3666\n44   900.0    39.0  11.1366  7.4934\n45   650.0    39.0  11.1366  6.0030\n46   820.0    39.0  12.4313  7.3514\n47   850.0    40.0  11.9286  7.1064\n48   900.0    40.0  11.7300  7.2250\n49  1015.0    40.0  12.3808  7.4624\n50   820.0    40.0  11.1350  6.6300\n51  1100.0    42.0  12.8002  6.8684\n52  1000.0    43.0  11.9328  7.2772\n53  1100.0    43.0  12.5125  7.4165\n54  1000.0    43.5  12.6040  8.1420\n55  1000.0    44.0  12.4888  7.5958",
      "text/html": "<div>\n<style scoped>\n    .dataframe tbody tr th:only-of-type {\n        vertical-align: middle;\n    }\n\n    .dataframe tbody tr th {\n        vertical-align: top;\n    }\n\n    .dataframe thead th {\n        text-align: right;\n    }\n</style>\n<table border=\"1\" class=\"dataframe\">\n  <thead>\n    <tr style=\"text-align: right;\">\n      <th></th>\n      <th>Weight</th>\n      <th>Length</th>\n      <th>Height</th>\n      <th>Width</th>\n    </tr>\n  </thead>\n  <tbody>\n    <tr>\n      <th>0</th>\n      <td>5.9</td>\n      <td>8.4</td>\n      <td>2.1120</td>\n      <td>1.4080</td>\n    </tr>\n    <tr>\n      <th>1</th>\n      <td>32.0</td>\n      <td>13.7</td>\n      <td>3.5280</td>\n      <td>1.9992</td>\n    </tr>\n    <tr>\n      <th>2</th>\n      <td>40.0</td>\n      <td>15.0</td>\n      <td>3.8240</td>\n      <td>2.4320</td>\n    </tr>\n    <tr>\n      <th>3</th>\n      <td>51.5</td>\n      <td>16.2</td>\n      <td>4.5924</td>\n      <td>2.6316</td>\n    </tr>\n    <tr>\n      <th>4</th>\n      <td>70.0</td>\n      <td>17.4</td>\n      <td>4.5880</td>\n      <td>2.9415</td>\n    </tr>\n    <tr>\n      <th>5</th>\n      <td>100.0</td>\n      <td>18.0</td>\n      <td>5.2224</td>\n      <td>3.3216</td>\n    </tr>\n    <tr>\n      <th>6</th>\n      <td>78.0</td>\n      <td>18.7</td>\n      <td>5.1992</td>\n      <td>3.1234</td>\n    </tr>\n    <tr>\n      <th>7</th>\n      <td>80.0</td>\n      <td>19.0</td>\n      <td>5.6358</td>\n      <td>3.0502</td>\n    </tr>\n    <tr>\n      <th>8</th>\n      <td>85.0</td>\n      <td>19.6</td>\n      <td>5.1376</td>\n      <td>3.0368</td>\n    </tr>\n    <tr>\n      <th>9</th>\n      <td>85.0</td>\n      <td>20.0</td>\n      <td>5.0820</td>\n      <td>2.7720</td>\n    </tr>\n    <tr>\n      <th>10</th>\n      <td>110.0</td>\n      <td>21.0</td>\n      <td>5.6925</td>\n      <td>3.5550</td>\n    </tr>\n    <tr>\n      <th>11</th>\n      <td>115.0</td>\n      <td>21.0</td>\n      <td>5.9175</td>\n      <td>3.3075</td>\n    </tr>\n    <tr>\n      <th>12</th>\n      <td>125.0</td>\n      <td>21.0</td>\n      <td>5.6925</td>\n      <td>3.6675</td>\n    </tr>\n    <tr>\n      <th>13</th>\n      <td>130.0</td>\n      <td>21.3</td>\n      <td>6.3840</td>\n      <td>3.5340</td>\n    </tr>\n    <tr>\n      <th>14</th>\n      <td>120.0</td>\n      <td>22.0</td>\n      <td>6.1100</td>\n      <td>3.4075</td>\n    </tr>\n    <tr>\n      <th>15</th>\n      <td>120.0</td>\n      <td>22.0</td>\n      <td>5.6400</td>\n      <td>3.5250</td>\n    </tr>\n    <tr>\n      <th>16</th>\n      <td>130.0</td>\n      <td>22.0</td>\n      <td>6.1100</td>\n      <td>3.5250</td>\n    </tr>\n    <tr>\n      <th>17</th>\n      <td>135.0</td>\n      <td>22.0</td>\n      <td>5.8750</td>\n      <td>3.5250</td>\n    </tr>\n    <tr>\n      <th>18</th>\n      <td>110.0</td>\n      <td>22.0</td>\n      <td>5.5225</td>\n      <td>3.9950</td>\n    </tr>\n    <tr>\n      <th>19</th>\n      <td>130.0</td>\n      <td>22.5</td>\n      <td>5.8560</td>\n      <td>3.6240</td>\n    </tr>\n    <tr>\n      <th>20</th>\n      <td>150.0</td>\n      <td>22.5</td>\n      <td>6.7920</td>\n      <td>3.6240</td>\n    </tr>\n    <tr>\n      <th>21</th>\n      <td>145.0</td>\n      <td>22.7</td>\n      <td>5.9532</td>\n      <td>3.6300</td>\n    </tr>\n    <tr>\n      <th>22</th>\n      <td>150.0</td>\n      <td>23.0</td>\n      <td>5.2185</td>\n      <td>3.6260</td>\n    </tr>\n    <tr>\n      <th>23</th>\n      <td>170.0</td>\n      <td>23.5</td>\n      <td>6.2750</td>\n      <td>3.7250</td>\n    </tr>\n    <tr>\n      <th>24</th>\n      <td>225.0</td>\n      <td>24.0</td>\n      <td>7.2930</td>\n      <td>3.7230</td>\n    </tr>\n    <tr>\n      <th>25</th>\n      <td>145.0</td>\n      <td>24.0</td>\n      <td>6.3750</td>\n      <td>3.8250</td>\n    </tr>\n    <tr>\n      <th>26</th>\n      <td>188.0</td>\n      <td>24.6</td>\n      <td>6.7334</td>\n      <td>4.1658</td>\n    </tr>\n    <tr>\n      <th>27</th>\n      <td>180.0</td>\n      <td>25.0</td>\n      <td>6.4395</td>\n      <td>3.6835</td>\n    </tr>\n    <tr>\n      <th>28</th>\n      <td>197.0</td>\n      <td>25.6</td>\n      <td>6.5610</td>\n      <td>4.2390</td>\n    </tr>\n    <tr>\n      <th>29</th>\n      <td>218.0</td>\n      <td>26.5</td>\n      <td>7.1680</td>\n      <td>4.1440</td>\n    </tr>\n    <tr>\n      <th>30</th>\n      <td>300.0</td>\n      <td>27.3</td>\n      <td>8.3230</td>\n      <td>5.1373</td>\n    </tr>\n    <tr>\n      <th>31</th>\n      <td>260.0</td>\n      <td>27.5</td>\n      <td>7.1672</td>\n      <td>4.3350</td>\n    </tr>\n    <tr>\n      <th>32</th>\n      <td>265.0</td>\n      <td>27.5</td>\n      <td>7.0516</td>\n      <td>4.3350</td>\n    </tr>\n    <tr>\n      <th>33</th>\n      <td>250.0</td>\n      <td>27.5</td>\n      <td>7.2828</td>\n      <td>4.5662</td>\n    </tr>\n    <tr>\n      <th>34</th>\n      <td>250.0</td>\n      <td>28.0</td>\n      <td>7.8204</td>\n      <td>4.2042</td>\n    </tr>\n    <tr>\n      <th>35</th>\n      <td>300.0</td>\n      <td>28.7</td>\n      <td>7.5852</td>\n      <td>4.6354</td>\n    </tr>\n    <tr>\n      <th>36</th>\n      <td>320.0</td>\n      <td>30.0</td>\n      <td>7.6156</td>\n      <td>4.7716</td>\n    </tr>\n    <tr>\n      <th>37</th>\n      <td>514.0</td>\n      <td>32.8</td>\n      <td>10.0300</td>\n      <td>6.0180</td>\n    </tr>\n    <tr>\n      <th>38</th>\n      <td>556.0</td>\n      <td>34.5</td>\n      <td>10.2565</td>\n      <td>6.3875</td>\n    </tr>\n    <tr>\n      <th>39</th>\n      <td>840.0</td>\n      <td>35.0</td>\n      <td>11.4884</td>\n      <td>7.7957</td>\n    </tr>\n    <tr>\n      <th>40</th>\n      <td>685.0</td>\n      <td>36.5</td>\n      <td>10.8810</td>\n      <td>6.8640</td>\n    </tr>\n    <tr>\n      <th>41</th>\n      <td>700.0</td>\n      <td>36.0</td>\n      <td>10.6091</td>\n      <td>6.7408</td>\n    </tr>\n    <tr>\n      <th>42</th>\n      <td>700.0</td>\n      <td>37.0</td>\n      <td>10.8350</td>\n      <td>6.2646</td>\n    </tr>\n    <tr>\n      <th>43</th>\n      <td>690.0</td>\n      <td>37.0</td>\n      <td>10.5717</td>\n      <td>6.3666</td>\n    </tr>\n    <tr>\n      <th>44</th>\n      <td>900.0</td>\n      <td>39.0</td>\n      <td>11.1366</td>\n      <td>7.4934</td>\n    </tr>\n    <tr>\n      <th>45</th>\n      <td>650.0</td>\n      <td>39.0</td>\n      <td>11.1366</td>\n      <td>6.0030</td>\n    </tr>\n    <tr>\n      <th>46</th>\n      <td>820.0</td>\n      <td>39.0</td>\n      <td>12.4313</td>\n      <td>7.3514</td>\n    </tr>\n    <tr>\n      <th>47</th>\n      <td>850.0</td>\n      <td>40.0</td>\n      <td>11.9286</td>\n      <td>7.1064</td>\n    </tr>\n    <tr>\n      <th>48</th>\n      <td>900.0</td>\n      <td>40.0</td>\n      <td>11.7300</td>\n      <td>7.2250</td>\n    </tr>\n    <tr>\n      <th>49</th>\n      <td>1015.0</td>\n      <td>40.0</td>\n      <td>12.3808</td>\n      <td>7.4624</td>\n    </tr>\n    <tr>\n      <th>50</th>\n      <td>820.0</td>\n      <td>40.0</td>\n      <td>11.1350</td>\n      <td>6.6300</td>\n    </tr>\n    <tr>\n      <th>51</th>\n      <td>1100.0</td>\n      <td>42.0</td>\n      <td>12.8002</td>\n      <td>6.8684</td>\n    </tr>\n    <tr>\n      <th>52</th>\n      <td>1000.0</td>\n      <td>43.0</td>\n      <td>11.9328</td>\n      <td>7.2772</td>\n    </tr>\n    <tr>\n      <th>53</th>\n      <td>1100.0</td>\n      <td>43.0</td>\n      <td>12.5125</td>\n      <td>7.4165</td>\n    </tr>\n    <tr>\n      <th>54</th>\n      <td>1000.0</td>\n      <td>43.5</td>\n      <td>12.6040</td>\n      <td>8.1420</td>\n    </tr>\n    <tr>\n      <th>55</th>\n      <td>1000.0</td>\n      <td>44.0</td>\n      <td>12.4888</td>\n      <td>7.5958</td>\n    </tr>\n  </tbody>\n</table>\n</div>"
     },
     "execution_count": 14,
     "metadata": {},
     "output_type": "execute_result"
    }
   ],
   "source": [
    "perchDF"
   ],
   "metadata": {
    "collapsed": false,
    "ExecuteTime": {
     "end_time": "2024-03-02T04:52:19.671Z",
     "start_time": "2024-03-02T04:52:19.641201Z"
    }
   },
   "id": "dd8f9ea517377289",
   "execution_count": 14
  },
  {
   "cell_type": "markdown",
   "source": [
    "[2-2] 데이터 확인 <hr>\n",
    "- 학습 유형 결정 위한 단계\n",
    "- 피처 스케일링 진행 여부 체크"
   ],
   "metadata": {
    "collapsed": false
   },
   "id": "71ed96266c2eee16"
  },
  {
   "cell_type": "code",
   "outputs": [
    {
     "data": {
      "text/plain": "0     5.9\n1    32.0\n2    40.0\n3    51.5\n4    70.0\nName: Weight, dtype: float64"
     },
     "execution_count": 15,
     "metadata": {},
     "output_type": "execute_result"
    }
   ],
   "source": [
    "target = perchDF['Weight']\n",
    "target.head()"
   ],
   "metadata": {
    "collapsed": false,
    "ExecuteTime": {
     "end_time": "2024-03-02T04:52:19.686888Z",
     "start_time": "2024-03-02T04:52:19.675114Z"
    }
   },
   "id": "afaef505291d98b6",
   "execution_count": 15
  },
  {
   "cell_type": "code",
   "outputs": [
    {
     "name": "stdout",
     "output_type": "stream",
     "text": [
      "<class 'pandas.core.series.Series'>\n",
      "RangeIndex: 56 entries, 0 to 55\n",
      "Series name: Weight\n",
      "Non-Null Count  Dtype  \n",
      "--------------  -----  \n",
      "56 non-null     float64\n",
      "dtypes: float64(1)\n",
      "memory usage: 576.0 bytes\n"
     ]
    }
   ],
   "source": [
    "target.info()"
   ],
   "metadata": {
    "collapsed": false,
    "ExecuteTime": {
     "end_time": "2024-03-02T04:52:19.702510Z",
     "start_time": "2024-03-02T04:52:19.688921Z"
    }
   },
   "id": "177722881a46320a",
   "execution_count": 16
  },
  {
   "cell_type": "code",
   "outputs": [
    {
     "data": {
      "text/plain": "   Length  Height   Width\n0     8.4  2.1120  1.4080\n1    13.7  3.5280  1.9992\n2    15.0  3.8240  2.4320\n3    16.2  4.5924  2.6316\n4    17.4  4.5880  2.9415",
      "text/html": "<div>\n<style scoped>\n    .dataframe tbody tr th:only-of-type {\n        vertical-align: middle;\n    }\n\n    .dataframe tbody tr th {\n        vertical-align: top;\n    }\n\n    .dataframe thead th {\n        text-align: right;\n    }\n</style>\n<table border=\"1\" class=\"dataframe\">\n  <thead>\n    <tr style=\"text-align: right;\">\n      <th></th>\n      <th>Length</th>\n      <th>Height</th>\n      <th>Width</th>\n    </tr>\n  </thead>\n  <tbody>\n    <tr>\n      <th>0</th>\n      <td>8.4</td>\n      <td>2.1120</td>\n      <td>1.4080</td>\n    </tr>\n    <tr>\n      <th>1</th>\n      <td>13.7</td>\n      <td>3.5280</td>\n      <td>1.9992</td>\n    </tr>\n    <tr>\n      <th>2</th>\n      <td>15.0</td>\n      <td>3.8240</td>\n      <td>2.4320</td>\n    </tr>\n    <tr>\n      <th>3</th>\n      <td>16.2</td>\n      <td>4.5924</td>\n      <td>2.6316</td>\n    </tr>\n    <tr>\n      <th>4</th>\n      <td>17.4</td>\n      <td>4.5880</td>\n      <td>2.9415</td>\n    </tr>\n  </tbody>\n</table>\n</div>"
     },
     "execution_count": 17,
     "metadata": {},
     "output_type": "execute_result"
    }
   ],
   "source": [
    "feature = perchDF[['Length', 'Height', 'Width']]\n",
    "feature.head()"
   ],
   "metadata": {
    "collapsed": false,
    "ExecuteTime": {
     "end_time": "2024-03-02T04:52:19.718359Z",
     "start_time": "2024-03-02T04:52:19.704635Z"
    }
   },
   "id": "bbcadd29689350a5",
   "execution_count": 17
  },
  {
   "cell_type": "code",
   "outputs": [
    {
     "data": {
      "text/plain": "[0.959, 0.968, 0.964]"
     },
     "execution_count": 18,
     "metadata": {},
     "output_type": "execute_result"
    }
   ],
   "source": [
    "corr_list = perchDF.corr()['Weight'].tolist()\n",
    "corr_list = corr_list[1:]\n",
    "#corr_list\n",
    "for i in range(len(corr_list)):\n",
    "    corr_list[i] = round(corr_list[i], 3)\n",
    "corr_list"
   ],
   "metadata": {
    "collapsed": false,
    "ExecuteTime": {
     "end_time": "2024-03-02T04:52:19.733982Z",
     "start_time": "2024-03-02T04:52:19.719498Z"
    }
   },
   "id": "9c4b36975ffdcb2e",
   "execution_count": 18
  },
  {
   "cell_type": "code",
   "outputs": [
    {
     "data": {
      "text/plain": "3"
     },
     "execution_count": 19,
     "metadata": {},
     "output_type": "execute_result"
    }
   ],
   "source": [
    "feature.shape[1]"
   ],
   "metadata": {
    "collapsed": false,
    "ExecuteTime": {
     "end_time": "2024-03-02T04:52:19.750024Z",
     "start_time": "2024-03-02T04:52:19.735158Z"
    }
   },
   "id": "63f24971ee6c7680",
   "execution_count": 19
  },
  {
   "cell_type": "code",
   "outputs": [
    {
     "data": {
      "text/plain": "0      8.4\n1     13.7\n2     15.0\n3     16.2\n4     17.4\n5     18.0\n6     18.7\n7     19.0\n8     19.6\n9     20.0\n10    21.0\n11    21.0\n12    21.0\n13    21.3\n14    22.0\n15    22.0\n16    22.0\n17    22.0\n18    22.0\n19    22.5\n20    22.5\n21    22.7\n22    23.0\n23    23.5\n24    24.0\n25    24.0\n26    24.6\n27    25.0\n28    25.6\n29    26.5\n30    27.3\n31    27.5\n32    27.5\n33    27.5\n34    28.0\n35    28.7\n36    30.0\n37    32.8\n38    34.5\n39    35.0\n40    36.5\n41    36.0\n42    37.0\n43    37.0\n44    39.0\n45    39.0\n46    39.0\n47    40.0\n48    40.0\n49    40.0\n50    40.0\n51    42.0\n52    43.0\n53    43.0\n54    43.5\n55    44.0\nName: Length, dtype: float64"
     },
     "execution_count": 20,
     "metadata": {},
     "output_type": "execute_result"
    }
   ],
   "source": [
    "feature[feature.columns[0]]"
   ],
   "metadata": {
    "collapsed": false,
    "ExecuteTime": {
     "end_time": "2024-03-02T04:52:19.765565Z",
     "start_time": "2024-03-02T04:52:19.751096Z"
    }
   },
   "id": "588ff55375918042",
   "execution_count": 20
  },
  {
   "cell_type": "code",
   "outputs": [
    {
     "data": {
      "text/plain": "<Figure size 1800x600 with 3 Axes>",
      "image/png": "[encoded data removed]"
     },
     "metadata": {},
     "output_type": "display_data"
    }
   ],
   "source": [
    "plt.figure(figsize = (18, 6))\n",
    "for idx in range(feature.shape[1]):\n",
    "    plt.subplot(1, 3, idx+1)\n",
    "    plt.scatter(target[:], feature[feature.columns[idx]], label = corr_list[idx])\n",
    "    plt.xlabel('Weight')\n",
    "    plt.ylabel(feature.columns[idx])\n",
    "    plt.legend()\n",
    "    plt.title(f\"[{feature.columns[idx]}] with correlation\", fontsize = 20)\n",
    "plt.tight_layout()\n",
    "plt.show()"
   ],
   "metadata": {
    "collapsed": false,
    "ExecuteTime": {
     "end_time": "2024-03-02T04:52:20.354401Z",
     "start_time": "2024-03-02T04:52:19.766594Z"
    }
   },
   "id": "500a510b0a304bee",
   "execution_count": 21
  },
  {
   "cell_type": "markdown",
   "source": [
    "## [ TO DO ]\n",
    "- 피처를 생각하지 않고 하나 해보기\n",
    "- 전처리에서 피처를 적용해서 회귀 해보기\n",
    "- 그래서 이 둘을 비교해보라"
   ],
   "metadata": {
    "collapsed": false
   },
   "id": "e0598509e6eef220"
  },
  {
   "cell_type": "markdown",
   "source": [
    "(3) 학습 준비      \n",
    "- 학습 알고리즘 : 양의 선형관계 파악됨 => 선형 모델\n",
    "- 학습 데이터 준비 : 학습용 & 테스트용데이터셋 분리\n",
    "- 전처리 : 스케일링, PolynomialFeatures 처리"
   ],
   "metadata": {
    "collapsed": false
   },
   "id": "c1c4f3f459e5edbd"
  },
  {
   "cell_type": "markdown",
   "source": [
    "(3-1) 학습 데이터 준비"
   ],
   "metadata": {
    "collapsed": false
   },
   "id": "91961a90f19a67d9"
  },
  {
   "cell_type": "code",
   "outputs": [],
   "source": [
    "X_train, X_test, y_train, y_test = train_test_split(feature, target, test_size=0.2, random_state = 10)"
   ],
   "metadata": {
    "collapsed": false,
    "ExecuteTime": {
     "end_time": "2024-03-02T04:52:20.369814Z",
     "start_time": "2024-03-02T04:52:20.355400Z"
    }
   },
   "id": "38a63b3e79d10b91",
   "execution_count": 22
  },
  {
   "cell_type": "code",
   "outputs": [
    {
     "name": "stdout",
     "output_type": "stream",
     "text": [
      "[훈련용]  X_train: (44, 3)    y_train: (44,)\n",
      "[테스트용] X_test: (12, 3)    y_test: (12,)\n"
     ]
    }
   ],
   "source": [
    "print(f\"[훈련용]  X_train: {X_train.shape}    y_train: {y_train.shape}\")\n",
    "print(f\"[테스트용] X_test: {X_test.shape}    y_test: {y_test.shape}\")"
   ],
   "metadata": {
    "collapsed": false,
    "ExecuteTime": {
     "end_time": "2024-03-02T04:52:20.388285Z",
     "start_time": "2024-03-02T04:52:20.370813Z"
    }
   },
   "id": "ac2deccbe81d4eee",
   "execution_count": 23
  },
  {
   "cell_type": "markdown",
   "source": [
    "(3-2) 피처를 스케일링 해보자"
   ],
   "metadata": {
    "collapsed": false
   },
   "id": "9a9a040443885f1d"
  },
  {
   "cell_type": "code",
   "outputs": [
    {
     "data": {
      "text/plain": "'\\nscale_list = [StandardScaler, MinMaxScaler, RobustScaler]\\n\\ndef train_variety(scale_type):\\n    scaler = scale_type()\\n    scaler.fit(X_train)\\n    scaled_X_train = scaler.transform(X_train)\\n    scaled_X_test = scaler.transform(X_test)\\n    \\n    print(scaled_X_train)\\n    print(scaled_X_test)\\n'"
     },
     "execution_count": 24,
     "metadata": {},
     "output_type": "execute_result"
    }
   ],
   "source": [
    "\"\"\"\n",
    "scale_list = [StandardScaler, MinMaxScaler, RobustScaler]\n",
    "\n",
    "def train_variety(scale_type):\n",
    "    scaler = scale_type()\n",
    "    scaler.fit(X_train)\n",
    "    scaled_X_train = scaler.transform(X_train)\n",
    "    scaled_X_test = scaler.transform(X_test)\n",
    "    \n",
    "    print(scaled_X_train)\n",
    "    print(scaled_X_test)\n",
    "\"\"\""
   ],
   "metadata": {
    "collapsed": false,
    "ExecuteTime": {
     "end_time": "2024-03-02T04:52:20.402786Z",
     "start_time": "2024-03-02T04:52:20.390407Z"
    }
   },
   "id": "dbb193d77e0b36f2",
   "execution_count": 24
  },
  {
   "cell_type": "code",
   "outputs": [
    {
     "data": {
      "text/plain": "\"\\nscaler=StandardScaler()\\nscaler.fit(X_train)\\nscaled_X_train = scaler.transform(X_train)\\nscaled_X_test = scaler.transform(X_test)\\n\\nplt.scatter(X_train, y_train, color = 'red')\\nplt.xlabel('X_train')\\nplt.ylabel('y_train')\\n\""
     },
     "execution_count": 25,
     "metadata": {},
     "output_type": "execute_result"
    }
   ],
   "source": [
    "\"\"\"\n",
    "scaler=StandardScaler()\n",
    "scaler.fit(X_train)\n",
    "scaled_X_train = scaler.transform(X_train)\n",
    "scaled_X_test = scaler.transform(X_test)\n",
    "\n",
    "plt.scatter(X_train, y_train, color = 'red')\n",
    "plt.xlabel('X_train')\n",
    "plt.ylabel('y_train')\n",
    "\"\"\""
   ],
   "metadata": {
    "collapsed": false,
    "ExecuteTime": {
     "end_time": "2024-03-02T04:52:20.418384Z",
     "start_time": "2024-03-02T04:52:20.405206Z"
    }
   },
   "id": "701d5ae269e1d85b",
   "execution_count": 25
  },
  {
   "cell_type": "markdown",
   "source": [
    "poly로 전처리 해보자"
   ],
   "metadata": {
    "collapsed": false
   },
   "id": "711f1faeed747604"
  },
  {
   "cell_type": "code",
   "outputs": [
    {
     "data": {
      "text/plain": "PolynomialFeatures(include_bias=False)",
      "text/html": "<style>#sk-container-id-2 {color: black;}#sk-container-id-2 pre{padding: 0;}#sk-container-id-2 div.sk-toggleable {background-color: white;}#sk-container-id-2 label.sk-toggleable__label {cursor: pointer;display: block;width: 100%;margin-bottom: 0;padding: 0.3em;box-sizing: border-box;text-align: center;}#sk-container-id-2 label.sk-toggleable__label-arrow:before {content: \"▸\";float: left;margin-right: 0.25em;color: #696969;}#sk-container-id-2 label.sk-toggleable__label-arrow:hover:before {color: black;}#sk-container-id-2 div.sk-estimator:hover label.sk-toggleable__label-arrow:before {color: black;}#sk-container-id-2 div.sk-toggleable__content {max-height: 0;max-width: 0;overflow: hidden;text-align: left;background-color: #f0f8ff;}#sk-container-id-2 div.sk-toggleable__content pre {margin: 0.2em;color: black;border-radius: 0.25em;background-color: #f0f8ff;}#sk-container-id-2 input.sk-toggleable__control:checked~div.sk-toggleable__content {max-height: 200px;max-width: 100%;overflow: auto;}#sk-container-id-2 input.sk-toggleable__control:checked~label.sk-toggleable__label-arrow:before {content: \"▾\";}#sk-container-id-2 div.sk-estimator input.sk-toggleable__control:checked~label.sk-toggleable__label {background-color: #d4ebff;}#sk-container-id-2 div.sk-label input.sk-toggleable__control:checked~label.sk-toggleable__label {background-color: #d4ebff;}#sk-container-id-2 input.sk-hidden--visually {border: 0;clip: rect(1px 1px 1px 1px);clip: rect(1px, 1px, 1px, 1px);height: 1px;margin: -1px;overflow: hidden;padding: 0;position: absolute;width: 1px;}#sk-container-id-2 div.sk-estimator {font-family: monospace;background-color: #f0f8ff;border: 1px dotted black;border-radius: 0.25em;box-sizing: border-box;margin-bottom: 0.5em;}#sk-container-id-2 div.sk-estimator:hover {background-color: #d4ebff;}#sk-container-id-2 div.sk-parallel-item::after {content: \"\";width: 100%;border-bottom: 1px solid gray;flex-grow: 1;}#sk-container-id-2 div.sk-label:hover label.sk-toggleable__label {background-color: #d4ebff;}#sk-container-id-2 div.sk-serial::before {content: \"\";position: absolute;border-left: 1px solid gray;box-sizing: border-box;top: 0;bottom: 0;left: 50%;z-index: 0;}#sk-container-id-2 div.sk-serial {display: flex;flex-direction: column;align-items: center;background-color: white;padding-right: 0.2em;padding-left: 0.2em;position: relative;}#sk-container-id-2 div.sk-item {position: relative;z-index: 1;}#sk-container-id-2 div.sk-parallel {display: flex;align-items: stretch;justify-content: center;background-color: white;position: relative;}#sk-container-id-2 div.sk-item::before, #sk-container-id-2 div.sk-parallel-item::before {content: \"\";position: absolute;border-left: 1px solid gray;box-sizing: border-box;top: 0;bottom: 0;left: 50%;z-index: -1;}#sk-container-id-2 div.sk-parallel-item {display: flex;flex-direction: column;z-index: 1;position: relative;background-color: white;}#sk-container-id-2 div.sk-parallel-item:first-child::after {align-self: flex-end;width: 50%;}#sk-container-id-2 div.sk-parallel-item:last-child::after {align-self: flex-start;width: 50%;}#sk-container-id-2 div.sk-parallel-item:only-child::after {width: 0;}#sk-container-id-2 div.sk-dashed-wrapped {border: 1px dashed gray;margin: 0 0.4em 0.5em 0.4em;box-sizing: border-box;padding-bottom: 0.4em;background-color: white;}#sk-container-id-2 div.sk-label label {font-family: monospace;font-weight: bold;display: inline-block;line-height: 1.2em;}#sk-container-id-2 div.sk-label-container {text-align: center;}#sk-container-id-2 div.sk-container {/* jupyter's `normalize.less` sets `[hidden] { display: none; }` but bootstrap.min.css set `[hidden] { display: none !important; }` so we also need the `!important` here to be able to override the default hidden behavior on the sphinx rendered scikit-learn.org. See: https://github.com/scikit-learn/scikit-learn/issues/21755 */display: inline-block !important;position: relative;}#sk-container-id-2 div.sk-text-repr-fallback {display: none;}</style><div id=\"sk-container-id-2\" class=\"sk-top-container\"><div class=\"sk-text-repr-fallback\"><pre>PolynomialFeatures(include_bias=False)</pre><b>In a Jupyter environment, please rerun this cell to show the HTML representation or trust the notebook. <br />On GitHub, the HTML representation is unable to render, please try loading this page with nbviewer.org.</b></div><div class=\"sk-container\" hidden><div class=\"sk-item\"><div class=\"sk-estimator sk-toggleable\"><input class=\"sk-toggleable__control sk-hidden--visually\" id=\"sk-estimator-id-2\" type=\"checkbox\" checked><label for=\"sk-estimator-id-2\" class=\"sk-toggleable__label sk-toggleable__label-arrow\">PolynomialFeatures</label><div class=\"sk-toggleable__content\"><pre>PolynomialFeatures(include_bias=False)</pre></div></div></div></div></div>"
     },
     "execution_count": 26,
     "metadata": {},
     "output_type": "execute_result"
    }
   ],
   "source": [
    "# 인스턴스 생성\n",
    "degree_num = 2\n",
    "poly = PolynomialFeatures(include_bias=False, degree = degree_num)\n",
    "poly"
   ],
   "metadata": {
    "collapsed": false,
    "ExecuteTime": {
     "end_time": "2024-03-02T04:52:20.447730Z",
     "start_time": "2024-03-02T04:52:20.420551Z"
    }
   },
   "id": "8f4c0e1e8d690f51",
   "execution_count": 26
  },
  {
   "cell_type": "code",
   "outputs": [
    {
     "data": {
      "text/plain": "PolynomialFeatures(include_bias=False)",
      "text/html": "<style>#sk-container-id-3 {color: black;}#sk-container-id-3 pre{padding: 0;}#sk-container-id-3 div.sk-toggleable {background-color: white;}#sk-container-id-3 label.sk-toggleable__label {cursor: pointer;display: block;width: 100%;margin-bottom: 0;padding: 0.3em;box-sizing: border-box;text-align: center;}#sk-container-id-3 label.sk-toggleable__label-arrow:before {content: \"▸\";float: left;margin-right: 0.25em;color: #696969;}#sk-container-id-3 label.sk-toggleable__label-arrow:hover:before {color: black;}#sk-container-id-3 div.sk-estimator:hover label.sk-toggleable__label-arrow:before {color: black;}#sk-container-id-3 div.sk-toggleable__content {max-height: 0;max-width: 0;overflow: hidden;text-align: left;background-color: #f0f8ff;}#sk-container-id-3 div.sk-toggleable__content pre {margin: 0.2em;color: black;border-radius: 0.25em;background-color: #f0f8ff;}#sk-container-id-3 input.sk-toggleable__control:checked~div.sk-toggleable__content {max-height: 200px;max-width: 100%;overflow: auto;}#sk-container-id-3 input.sk-toggleable__control:checked~label.sk-toggleable__label-arrow:before {content: \"▾\";}#sk-container-id-3 div.sk-estimator input.sk-toggleable__control:checked~label.sk-toggleable__label {background-color: #d4ebff;}#sk-container-id-3 div.sk-label input.sk-toggleable__control:checked~label.sk-toggleable__label {background-color: #d4ebff;}#sk-container-id-3 input.sk-hidden--visually {border: 0;clip: rect(1px 1px 1px 1px);clip: rect(1px, 1px, 1px, 1px);height: 1px;margin: -1px;overflow: hidden;padding: 0;position: absolute;width: 1px;}#sk-container-id-3 div.sk-estimator {font-family: monospace;background-color: #f0f8ff;border: 1px dotted black;border-radius: 0.25em;box-sizing: border-box;margin-bottom: 0.5em;}#sk-container-id-3 div.sk-estimator:hover {background-color: #d4ebff;}#sk-container-id-3 div.sk-parallel-item::after {content: \"\";width: 100%;border-bottom: 1px solid gray;flex-grow: 1;}#sk-container-id-3 div.sk-label:hover label.sk-toggleable__label {background-color: #d4ebff;}#sk-container-id-3 div.sk-serial::before {content: \"\";position: absolute;border-left: 1px solid gray;box-sizing: border-box;top: 0;bottom: 0;left: 50%;z-index: 0;}#sk-container-id-3 div.sk-serial {display: flex;flex-direction: column;align-items: center;background-color: white;padding-right: 0.2em;padding-left: 0.2em;position: relative;}#sk-container-id-3 div.sk-item {position: relative;z-index: 1;}#sk-container-id-3 div.sk-parallel {display: flex;align-items: stretch;justify-content: center;background-color: white;position: relative;}#sk-container-id-3 div.sk-item::before, #sk-container-id-3 div.sk-parallel-item::before {content: \"\";position: absolute;border-left: 1px solid gray;box-sizing: border-box;top: 0;bottom: 0;left: 50%;z-index: -1;}#sk-container-id-3 div.sk-parallel-item {display: flex;flex-direction: column;z-index: 1;position: relative;background-color: white;}#sk-container-id-3 div.sk-parallel-item:first-child::after {align-self: flex-end;width: 50%;}#sk-container-id-3 div.sk-parallel-item:last-child::after {align-self: flex-start;width: 50%;}#sk-container-id-3 div.sk-parallel-item:only-child::after {width: 0;}#sk-container-id-3 div.sk-dashed-wrapped {border: 1px dashed gray;margin: 0 0.4em 0.5em 0.4em;box-sizing: border-box;padding-bottom: 0.4em;background-color: white;}#sk-container-id-3 div.sk-label label {font-family: monospace;font-weight: bold;display: inline-block;line-height: 1.2em;}#sk-container-id-3 div.sk-label-container {text-align: center;}#sk-container-id-3 div.sk-container {/* jupyter's `normalize.less` sets `[hidden] { display: none; }` but bootstrap.min.css set `[hidden] { display: none !important; }` so we also need the `!important` here to be able to override the default hidden behavior on the sphinx rendered scikit-learn.org. See: https://github.com/scikit-learn/scikit-learn/issues/21755 */display: inline-block !important;position: relative;}#sk-container-id-3 div.sk-text-repr-fallback {display: none;}</style><div id=\"sk-container-id-3\" class=\"sk-top-container\"><div class=\"sk-text-repr-fallback\"><pre>PolynomialFeatures(include_bias=False)</pre><b>In a Jupyter environment, please rerun this cell to show the HTML representation or trust the notebook. <br />On GitHub, the HTML representation is unable to render, please try loading this page with nbviewer.org.</b></div><div class=\"sk-container\" hidden><div class=\"sk-item\"><div class=\"sk-estimator sk-toggleable\"><input class=\"sk-toggleable__control sk-hidden--visually\" id=\"sk-estimator-id-3\" type=\"checkbox\" checked><label for=\"sk-estimator-id-3\" class=\"sk-toggleable__label sk-toggleable__label-arrow\">PolynomialFeatures</label><div class=\"sk-toggleable__content\"><pre>PolynomialFeatures(include_bias=False)</pre></div></div></div></div></div>"
     },
     "execution_count": 27,
     "metadata": {},
     "output_type": "execute_result"
    }
   ],
   "source": [
    "poly.fit(perchDF)"
   ],
   "metadata": {
    "collapsed": false,
    "ExecuteTime": {
     "end_time": "2024-03-02T04:52:20.463355Z",
     "start_time": "2024-03-02T04:52:20.449923Z"
    }
   },
   "id": "db1ce38e461631d4",
   "execution_count": 27
  },
  {
   "cell_type": "code",
   "outputs": [
    {
     "data": {
      "text/plain": "    Weight  Length   Height   Width\n0      5.9     8.4   2.1120  1.4080\n1     32.0    13.7   3.5280  1.9992\n2     40.0    15.0   3.8240  2.4320\n3     51.5    16.2   4.5924  2.6316\n4     70.0    17.4   4.5880  2.9415\n5    100.0    18.0   5.2224  3.3216\n6     78.0    18.7   5.1992  3.1234\n7     80.0    19.0   5.6358  3.0502\n8     85.0    19.6   5.1376  3.0368\n9     85.0    20.0   5.0820  2.7720\n10   110.0    21.0   5.6925  3.5550\n11   115.0    21.0   5.9175  3.3075\n12   125.0    21.0   5.6925  3.6675\n13   130.0    21.3   6.3840  3.5340\n14   120.0    22.0   6.1100  3.4075\n15   120.0    22.0   5.6400  3.5250\n16   130.0    22.0   6.1100  3.5250\n17   135.0    22.0   5.8750  3.5250\n18   110.0    22.0   5.5225  3.9950\n19   130.0    22.5   5.8560  3.6240\n20   150.0    22.5   6.7920  3.6240\n21   145.0    22.7   5.9532  3.6300\n22   150.0    23.0   5.2185  3.6260\n23   170.0    23.5   6.2750  3.7250\n24   225.0    24.0   7.2930  3.7230\n25   145.0    24.0   6.3750  3.8250\n26   188.0    24.6   6.7334  4.1658\n27   180.0    25.0   6.4395  3.6835\n28   197.0    25.6   6.5610  4.2390\n29   218.0    26.5   7.1680  4.1440\n30   300.0    27.3   8.3230  5.1373\n31   260.0    27.5   7.1672  4.3350\n32   265.0    27.5   7.0516  4.3350\n33   250.0    27.5   7.2828  4.5662\n34   250.0    28.0   7.8204  4.2042\n35   300.0    28.7   7.5852  4.6354\n36   320.0    30.0   7.6156  4.7716\n37   514.0    32.8  10.0300  6.0180\n38   556.0    34.5  10.2565  6.3875\n39   840.0    35.0  11.4884  7.7957\n40   685.0    36.5  10.8810  6.8640\n41   700.0    36.0  10.6091  6.7408\n42   700.0    37.0  10.8350  6.2646\n43   690.0    37.0  10.5717  6.3666\n44   900.0    39.0  11.1366  7.4934\n45   650.0    39.0  11.1366  6.0030\n46   820.0    39.0  12.4313  7.3514\n47   850.0    40.0  11.9286  7.1064\n48   900.0    40.0  11.7300  7.2250\n49  1015.0    40.0  12.3808  7.4624\n50   820.0    40.0  11.1350  6.6300\n51  1100.0    42.0  12.8002  6.8684\n52  1000.0    43.0  11.9328  7.2772\n53  1100.0    43.0  12.5125  7.4165\n54  1000.0    43.5  12.6040  8.1420\n55  1000.0    44.0  12.4888  7.5958",
      "text/html": "<div>\n<style scoped>\n    .dataframe tbody tr th:only-of-type {\n        vertical-align: middle;\n    }\n\n    .dataframe tbody tr th {\n        vertical-align: top;\n    }\n\n    .dataframe thead th {\n        text-align: right;\n    }\n</style>\n<table border=\"1\" class=\"dataframe\">\n  <thead>\n    <tr style=\"text-align: right;\">\n      <th></th>\n      <th>Weight</th>\n      <th>Length</th>\n      <th>Height</th>\n      <th>Width</th>\n    </tr>\n  </thead>\n  <tbody>\n    <tr>\n      <th>0</th>\n      <td>5.9</td>\n      <td>8.4</td>\n      <td>2.1120</td>\n      <td>1.4080</td>\n    </tr>\n    <tr>\n      <th>1</th>\n      <td>32.0</td>\n      <td>13.7</td>\n      <td>3.5280</td>\n      <td>1.9992</td>\n    </tr>\n    <tr>\n      <th>2</th>\n      <td>40.0</td>\n      <td>15.0</td>\n      <td>3.8240</td>\n      <td>2.4320</td>\n    </tr>\n    <tr>\n      <th>3</th>\n      <td>51.5</td>\n      <td>16.2</td>\n      <td>4.5924</td>\n      <td>2.6316</td>\n    </tr>\n    <tr>\n      <th>4</th>\n      <td>70.0</td>\n      <td>17.4</td>\n      <td>4.5880</td>\n      <td>2.9415</td>\n    </tr>\n    <tr>\n      <th>5</th>\n      <td>100.0</td>\n      <td>18.0</td>\n      <td>5.2224</td>\n      <td>3.3216</td>\n    </tr>\n    <tr>\n      <th>6</th>\n      <td>78.0</td>\n      <td>18.7</td>\n      <td>5.1992</td>\n      <td>3.1234</td>\n    </tr>\n    <tr>\n      <th>7</th>\n      <td>80.0</td>\n      <td>19.0</td>\n      <td>5.6358</td>\n      <td>3.0502</td>\n    </tr>\n    <tr>\n      <th>8</th>\n      <td>85.0</td>\n      <td>19.6</td>\n      <td>5.1376</td>\n      <td>3.0368</td>\n    </tr>\n    <tr>\n      <th>9</th>\n      <td>85.0</td>\n      <td>20.0</td>\n      <td>5.0820</td>\n      <td>2.7720</td>\n    </tr>\n    <tr>\n      <th>10</th>\n      <td>110.0</td>\n      <td>21.0</td>\n      <td>5.6925</td>\n      <td>3.5550</td>\n    </tr>\n    <tr>\n      <th>11</th>\n      <td>115.0</td>\n      <td>21.0</td>\n      <td>5.9175</td>\n      <td>3.3075</td>\n    </tr>\n    <tr>\n      <th>12</th>\n      <td>125.0</td>\n      <td>21.0</td>\n      <td>5.6925</td>\n      <td>3.6675</td>\n    </tr>\n    <tr>\n      <th>13</th>\n      <td>130.0</td>\n      <td>21.3</td>\n      <td>6.3840</td>\n      <td>3.5340</td>\n    </tr>\n    <tr>\n      <th>14</th>\n      <td>120.0</td>\n      <td>22.0</td>\n      <td>6.1100</td>\n      <td>3.4075</td>\n    </tr>\n    <tr>\n      <th>15</th>\n      <td>120.0</td>\n      <td>22.0</td>\n      <td>5.6400</td>\n      <td>3.5250</td>\n    </tr>\n    <tr>\n      <th>16</th>\n      <td>130.0</td>\n      <td>22.0</td>\n      <td>6.1100</td>\n      <td>3.5250</td>\n    </tr>\n    <tr>\n      <th>17</th>\n      <td>135.0</td>\n      <td>22.0</td>\n      <td>5.8750</td>\n      <td>3.5250</td>\n    </tr>\n    <tr>\n      <th>18</th>\n      <td>110.0</td>\n      <td>22.0</td>\n      <td>5.5225</td>\n      <td>3.9950</td>\n    </tr>\n    <tr>\n      <th>19</th>\n      <td>130.0</td>\n      <td>22.5</td>\n      <td>5.8560</td>\n      <td>3.6240</td>\n    </tr>\n    <tr>\n      <th>20</th>\n      <td>150.0</td>\n      <td>22.5</td>\n      <td>6.7920</td>\n      <td>3.6240</td>\n    </tr>\n    <tr>\n      <th>21</th>\n      <td>145.0</td>\n      <td>22.7</td>\n      <td>5.9532</td>\n      <td>3.6300</td>\n    </tr>\n    <tr>\n      <th>22</th>\n      <td>150.0</td>\n      <td>23.0</td>\n      <td>5.2185</td>\n      <td>3.6260</td>\n    </tr>\n    <tr>\n      <th>23</th>\n      <td>170.0</td>\n      <td>23.5</td>\n      <td>6.2750</td>\n      <td>3.7250</td>\n    </tr>\n    <tr>\n      <th>24</th>\n      <td>225.0</td>\n      <td>24.0</td>\n      <td>7.2930</td>\n      <td>3.7230</td>\n    </tr>\n    <tr>\n      <th>25</th>\n      <td>145.0</td>\n      <td>24.0</td>\n      <td>6.3750</td>\n      <td>3.8250</td>\n    </tr>\n    <tr>\n      <th>26</th>\n      <td>188.0</td>\n      <td>24.6</td>\n      <td>6.7334</td>\n      <td>4.1658</td>\n    </tr>\n    <tr>\n      <th>27</th>\n      <td>180.0</td>\n      <td>25.0</td>\n      <td>6.4395</td>\n      <td>3.6835</td>\n    </tr>\n    <tr>\n      <th>28</th>\n      <td>197.0</td>\n      <td>25.6</td>\n      <td>6.5610</td>\n      <td>4.2390</td>\n    </tr>\n    <tr>\n      <th>29</th>\n      <td>218.0</td>\n      <td>26.5</td>\n      <td>7.1680</td>\n      <td>4.1440</td>\n    </tr>\n    <tr>\n      <th>30</th>\n      <td>300.0</td>\n      <td>27.3</td>\n      <td>8.3230</td>\n      <td>5.1373</td>\n    </tr>\n    <tr>\n      <th>31</th>\n      <td>260.0</td>\n      <td>27.5</td>\n      <td>7.1672</td>\n      <td>4.3350</td>\n    </tr>\n    <tr>\n      <th>32</th>\n      <td>265.0</td>\n      <td>27.5</td>\n      <td>7.0516</td>\n      <td>4.3350</td>\n    </tr>\n    <tr>\n      <th>33</th>\n      <td>250.0</td>\n      <td>27.5</td>\n      <td>7.2828</td>\n      <td>4.5662</td>\n    </tr>\n    <tr>\n      <th>34</th>\n      <td>250.0</td>\n      <td>28.0</td>\n      <td>7.8204</td>\n      <td>4.2042</td>\n    </tr>\n    <tr>\n      <th>35</th>\n      <td>300.0</td>\n      <td>28.7</td>\n      <td>7.5852</td>\n      <td>4.6354</td>\n    </tr>\n    <tr>\n      <th>36</th>\n      <td>320.0</td>\n      <td>30.0</td>\n      <td>7.6156</td>\n      <td>4.7716</td>\n    </tr>\n    <tr>\n      <th>37</th>\n      <td>514.0</td>\n      <td>32.8</td>\n      <td>10.0300</td>\n      <td>6.0180</td>\n    </tr>\n    <tr>\n      <th>38</th>\n      <td>556.0</td>\n      <td>34.5</td>\n      <td>10.2565</td>\n      <td>6.3875</td>\n    </tr>\n    <tr>\n      <th>39</th>\n      <td>840.0</td>\n      <td>35.0</td>\n      <td>11.4884</td>\n      <td>7.7957</td>\n    </tr>\n    <tr>\n      <th>40</th>\n      <td>685.0</td>\n      <td>36.5</td>\n      <td>10.8810</td>\n      <td>6.8640</td>\n    </tr>\n    <tr>\n      <th>41</th>\n      <td>700.0</td>\n      <td>36.0</td>\n      <td>10.6091</td>\n      <td>6.7408</td>\n    </tr>\n    <tr>\n      <th>42</th>\n      <td>700.0</td>\n      <td>37.0</td>\n      <td>10.8350</td>\n      <td>6.2646</td>\n    </tr>\n    <tr>\n      <th>43</th>\n      <td>690.0</td>\n      <td>37.0</td>\n      <td>10.5717</td>\n      <td>6.3666</td>\n    </tr>\n    <tr>\n      <th>44</th>\n      <td>900.0</td>\n      <td>39.0</td>\n      <td>11.1366</td>\n      <td>7.4934</td>\n    </tr>\n    <tr>\n      <th>45</th>\n      <td>650.0</td>\n      <td>39.0</td>\n      <td>11.1366</td>\n      <td>6.0030</td>\n    </tr>\n    <tr>\n      <th>46</th>\n      <td>820.0</td>\n      <td>39.0</td>\n      <td>12.4313</td>\n      <td>7.3514</td>\n    </tr>\n    <tr>\n      <th>47</th>\n      <td>850.0</td>\n      <td>40.0</td>\n      <td>11.9286</td>\n      <td>7.1064</td>\n    </tr>\n    <tr>\n      <th>48</th>\n      <td>900.0</td>\n      <td>40.0</td>\n      <td>11.7300</td>\n      <td>7.2250</td>\n    </tr>\n    <tr>\n      <th>49</th>\n      <td>1015.0</td>\n      <td>40.0</td>\n      <td>12.3808</td>\n      <td>7.4624</td>\n    </tr>\n    <tr>\n      <th>50</th>\n      <td>820.0</td>\n      <td>40.0</td>\n      <td>11.1350</td>\n      <td>6.6300</td>\n    </tr>\n    <tr>\n      <th>51</th>\n      <td>1100.0</td>\n      <td>42.0</td>\n      <td>12.8002</td>\n      <td>6.8684</td>\n    </tr>\n    <tr>\n      <th>52</th>\n      <td>1000.0</td>\n      <td>43.0</td>\n      <td>11.9328</td>\n      <td>7.2772</td>\n    </tr>\n    <tr>\n      <th>53</th>\n      <td>1100.0</td>\n      <td>43.0</td>\n      <td>12.5125</td>\n      <td>7.4165</td>\n    </tr>\n    <tr>\n      <th>54</th>\n      <td>1000.0</td>\n      <td>43.5</td>\n      <td>12.6040</td>\n      <td>8.1420</td>\n    </tr>\n    <tr>\n      <th>55</th>\n      <td>1000.0</td>\n      <td>44.0</td>\n      <td>12.4888</td>\n      <td>7.5958</td>\n    </tr>\n  </tbody>\n</table>\n</div>"
     },
     "execution_count": 28,
     "metadata": {},
     "output_type": "execute_result"
    }
   ],
   "source": [
    "perchDF"
   ],
   "metadata": {
    "collapsed": false,
    "ExecuteTime": {
     "end_time": "2024-03-02T04:52:20.494556Z",
     "start_time": "2024-03-02T04:52:20.465734Z"
    }
   },
   "id": "c44412b084eed4c2",
   "execution_count": 28
  },
  {
   "cell_type": "code",
   "outputs": [
    {
     "data": {
      "text/plain": "array([[5.90000000e+00, 8.40000000e+00, 2.11200000e+00, 1.40800000e+00,\n        3.48100000e+01, 4.95600000e+01, 1.24608000e+01, 8.30720000e+00,\n        7.05600000e+01, 1.77408000e+01, 1.18272000e+01, 4.46054400e+00,\n        2.97369600e+00, 1.98246400e+00],\n       [3.20000000e+01, 1.37000000e+01, 3.52800000e+00, 1.99920000e+00,\n        1.02400000e+03, 4.38400000e+02, 1.12896000e+02, 6.39744000e+01,\n        1.87690000e+02, 4.83336000e+01, 2.73890400e+01, 1.24467840e+01,\n        7.05317760e+00, 3.99680064e+00],\n       [4.00000000e+01, 1.50000000e+01, 3.82400000e+00, 2.43200000e+00,\n        1.60000000e+03, 6.00000000e+02, 1.52960000e+02, 9.72800000e+01,\n        2.25000000e+02, 5.73600000e+01, 3.64800000e+01, 1.46229760e+01,\n        9.29996800e+00, 5.91462400e+00],\n       [5.15000000e+01, 1.62000000e+01, 4.59240000e+00, 2.63160000e+00,\n        2.65225000e+03, 8.34300000e+02, 2.36508600e+02, 1.35527400e+02,\n        2.62440000e+02, 7.43968800e+01, 4.26319200e+01, 2.10901378e+01,\n        1.20853598e+01, 6.92531856e+00],\n       [7.00000000e+01, 1.74000000e+01, 4.58800000e+00, 2.94150000e+00,\n        4.90000000e+03, 1.21800000e+03, 3.21160000e+02, 2.05905000e+02,\n        3.02760000e+02, 7.98312000e+01, 5.11821000e+01, 2.10497440e+01,\n        1.34956020e+01, 8.65242225e+00],\n       [1.00000000e+02, 1.80000000e+01, 5.22240000e+00, 3.32160000e+00,\n        1.00000000e+04, 1.80000000e+03, 5.22240000e+02, 3.32160000e+02,\n        3.24000000e+02, 9.40032000e+01, 5.97888000e+01, 2.72734618e+01,\n        1.73467238e+01, 1.10330266e+01],\n       [7.80000000e+01, 1.87000000e+01, 5.19920000e+00, 3.12340000e+00,\n        6.08400000e+03, 1.45860000e+03, 4.05537600e+02, 2.43625200e+02,\n        3.49690000e+02, 9.72250400e+01, 5.84075800e+01, 2.70316806e+01,\n        1.62391813e+01, 9.75562756e+00],\n       [8.00000000e+01, 1.90000000e+01, 5.63580000e+00, 3.05020000e+00,\n        6.40000000e+03, 1.52000000e+03, 4.50864000e+02, 2.44016000e+02,\n        3.61000000e+02, 1.07080200e+02, 5.79538000e+01, 3.17622416e+01,\n        1.71903172e+01, 9.30372004e+00],\n       [8.50000000e+01, 1.96000000e+01, 5.13760000e+00, 3.03680000e+00,\n        7.22500000e+03, 1.66600000e+03, 4.36696000e+02, 2.58128000e+02,\n        3.84160000e+02, 1.00696960e+02, 5.95212800e+01, 2.63949338e+01,\n        1.56018637e+01, 9.22215424e+00],\n       [8.50000000e+01, 2.00000000e+01, 5.08200000e+00, 2.77200000e+00,\n        7.22500000e+03, 1.70000000e+03, 4.31970000e+02, 2.35620000e+02,\n        4.00000000e+02, 1.01640000e+02, 5.54400000e+01, 2.58267240e+01,\n        1.40873040e+01, 7.68398400e+00],\n       [1.10000000e+02, 2.10000000e+01, 5.69250000e+00, 3.55500000e+00,\n        1.21000000e+04, 2.31000000e+03, 6.26175000e+02, 3.91050000e+02,\n        4.41000000e+02, 1.19542500e+02, 7.46550000e+01, 3.24045562e+01,\n        2.02368375e+01, 1.26380250e+01],\n       [1.15000000e+02, 2.10000000e+01, 5.91750000e+00, 3.30750000e+00,\n        1.32250000e+04, 2.41500000e+03, 6.80512500e+02, 3.80362500e+02,\n        4.41000000e+02, 1.24267500e+02, 6.94575000e+01, 3.50168063e+01,\n        1.95721313e+01, 1.09395563e+01],\n       [1.25000000e+02, 2.10000000e+01, 5.69250000e+00, 3.66750000e+00,\n        1.56250000e+04, 2.62500000e+03, 7.11562500e+02, 4.58437500e+02,\n        4.41000000e+02, 1.19542500e+02, 7.70175000e+01, 3.24045562e+01,\n        2.08772437e+01, 1.34505562e+01],\n       [1.30000000e+02, 2.13000000e+01, 6.38400000e+00, 3.53400000e+00,\n        1.69000000e+04, 2.76900000e+03, 8.29920000e+02, 4.59420000e+02,\n        4.53690000e+02, 1.35979200e+02, 7.52742000e+01, 4.07554560e+01,\n        2.25610560e+01, 1.24891560e+01],\n       [1.20000000e+02, 2.20000000e+01, 6.11000000e+00, 3.40750000e+00,\n        1.44000000e+04, 2.64000000e+03, 7.33200000e+02, 4.08900000e+02,\n        4.84000000e+02, 1.34420000e+02, 7.49650000e+01, 3.73321000e+01,\n        2.08198250e+01, 1.16110563e+01],\n       [1.20000000e+02, 2.20000000e+01, 5.64000000e+00, 3.52500000e+00,\n        1.44000000e+04, 2.64000000e+03, 6.76800000e+02, 4.23000000e+02,\n        4.84000000e+02, 1.24080000e+02, 7.75500000e+01, 3.18096000e+01,\n        1.98810000e+01, 1.24256250e+01],\n       [1.30000000e+02, 2.20000000e+01, 6.11000000e+00, 3.52500000e+00,\n        1.69000000e+04, 2.86000000e+03, 7.94300000e+02, 4.58250000e+02,\n        4.84000000e+02, 1.34420000e+02, 7.75500000e+01, 3.73321000e+01,\n        2.15377500e+01, 1.24256250e+01],\n       [1.35000000e+02, 2.20000000e+01, 5.87500000e+00, 3.52500000e+00,\n        1.82250000e+04, 2.97000000e+03, 7.93125000e+02, 4.75875000e+02,\n        4.84000000e+02, 1.29250000e+02, 7.75500000e+01, 3.45156250e+01,\n        2.07093750e+01, 1.24256250e+01],\n       [1.10000000e+02, 2.20000000e+01, 5.52250000e+00, 3.99500000e+00,\n        1.21000000e+04, 2.42000000e+03, 6.07475000e+02, 4.39450000e+02,\n        4.84000000e+02, 1.21495000e+02, 8.78900000e+01, 3.04980062e+01,\n        2.20623875e+01, 1.59600250e+01],\n       [1.30000000e+02, 2.25000000e+01, 5.85600000e+00, 3.62400000e+00,\n        1.69000000e+04, 2.92500000e+03, 7.61280000e+02, 4.71120000e+02,\n        5.06250000e+02, 1.31760000e+02, 8.15400000e+01, 3.42927360e+01,\n        2.12221440e+01, 1.31333760e+01],\n       [1.50000000e+02, 2.25000000e+01, 6.79200000e+00, 3.62400000e+00,\n        2.25000000e+04, 3.37500000e+03, 1.01880000e+03, 5.43600000e+02,\n        5.06250000e+02, 1.52820000e+02, 8.15400000e+01, 4.61312640e+01,\n        2.46142080e+01, 1.31333760e+01],\n       [1.45000000e+02, 2.27000000e+01, 5.95320000e+00, 3.63000000e+00,\n        2.10250000e+04, 3.29150000e+03, 8.63214000e+02, 5.26350000e+02,\n        5.15290000e+02, 1.35137640e+02, 8.24010000e+01, 3.54405902e+01,\n        2.16101160e+01, 1.31769000e+01],\n       [1.50000000e+02, 2.30000000e+01, 5.21850000e+00, 3.62600000e+00,\n        2.25000000e+04, 3.45000000e+03, 7.82775000e+02, 5.43900000e+02,\n        5.29000000e+02, 1.20025500e+02, 8.33980000e+01, 2.72327422e+01,\n        1.89222810e+01, 1.31478760e+01],\n       [1.70000000e+02, 2.35000000e+01, 6.27500000e+00, 3.72500000e+00,\n        2.89000000e+04, 3.99500000e+03, 1.06675000e+03, 6.33250000e+02,\n        5.52250000e+02, 1.47462500e+02, 8.75375000e+01, 3.93756250e+01,\n        2.33743750e+01, 1.38756250e+01],\n       [2.25000000e+02, 2.40000000e+01, 7.29300000e+00, 3.72300000e+00,\n        5.06250000e+04, 5.40000000e+03, 1.64092500e+03, 8.37675000e+02,\n        5.76000000e+02, 1.75032000e+02, 8.93520000e+01, 5.31878490e+01,\n        2.71518390e+01, 1.38607290e+01],\n       [1.45000000e+02, 2.40000000e+01, 6.37500000e+00, 3.82500000e+00,\n        2.10250000e+04, 3.48000000e+03, 9.24375000e+02, 5.54625000e+02,\n        5.76000000e+02, 1.53000000e+02, 9.18000000e+01, 4.06406250e+01,\n        2.43843750e+01, 1.46306250e+01],\n       [1.88000000e+02, 2.46000000e+01, 6.73340000e+00, 4.16580000e+00,\n        3.53440000e+04, 4.62480000e+03, 1.26587920e+03, 7.83170400e+02,\n        6.05160000e+02, 1.65641640e+02, 1.02478680e+02, 4.53386756e+01,\n        2.80499977e+01, 1.73538896e+01],\n       [1.80000000e+02, 2.50000000e+01, 6.43950000e+00, 3.68350000e+00,\n        3.24000000e+04, 4.50000000e+03, 1.15911000e+03, 6.63030000e+02,\n        6.25000000e+02, 1.60987500e+02, 9.20875000e+01, 4.14671602e+01,\n        2.37198982e+01, 1.35681722e+01],\n       [1.97000000e+02, 2.56000000e+01, 6.56100000e+00, 4.23900000e+00,\n        3.88090000e+04, 5.04320000e+03, 1.29251700e+03, 8.35083000e+02,\n        6.55360000e+02, 1.67961600e+02, 1.08518400e+02, 4.30467210e+01,\n        2.78120790e+01, 1.79691210e+01],\n       [2.18000000e+02, 2.65000000e+01, 7.16800000e+00, 4.14400000e+00,\n        4.75240000e+04, 5.77700000e+03, 1.56262400e+03, 9.03392000e+02,\n        7.02250000e+02, 1.89952000e+02, 1.09816000e+02, 5.13802240e+01,\n        2.97041920e+01, 1.71727360e+01],\n       [3.00000000e+02, 2.73000000e+01, 8.32300000e+00, 5.13730000e+00,\n        9.00000000e+04, 8.19000000e+03, 2.49690000e+03, 1.54119000e+03,\n        7.45290000e+02, 2.27217900e+02, 1.40248290e+02, 6.92723290e+01,\n        4.27577479e+01, 2.63918513e+01],\n       [2.60000000e+02, 2.75000000e+01, 7.16720000e+00, 4.33500000e+00,\n        6.76000000e+04, 7.15000000e+03, 1.86347200e+03, 1.12710000e+03,\n        7.56250000e+02, 1.97098000e+02, 1.19212500e+02, 5.13687558e+01,\n        3.10698120e+01, 1.87922250e+01],\n       [2.65000000e+02, 2.75000000e+01, 7.05160000e+00, 4.33500000e+00,\n        7.02250000e+04, 7.28750000e+03, 1.86867400e+03, 1.14877500e+03,\n        7.56250000e+02, 1.93919000e+02, 1.19212500e+02, 4.97250626e+01,\n        3.05686860e+01, 1.87922250e+01],\n       [2.50000000e+02, 2.75000000e+01, 7.28280000e+00, 4.56620000e+00,\n        6.25000000e+04, 6.87500000e+03, 1.82070000e+03, 1.14155000e+03,\n        7.56250000e+02, 2.00277000e+02, 1.25570500e+02, 5.30391758e+01,\n        3.32547214e+01, 2.08501824e+01],\n       [2.50000000e+02, 2.80000000e+01, 7.82040000e+00, 4.20420000e+00,\n        6.25000000e+04, 7.00000000e+03, 1.95510000e+03, 1.05105000e+03,\n        7.84000000e+02, 2.18971200e+02, 1.17717600e+02, 6.11586562e+01,\n        3.28785257e+01, 1.76752976e+01],\n       [3.00000000e+02, 2.87000000e+01, 7.58520000e+00, 4.63540000e+00,\n        9.00000000e+04, 8.61000000e+03, 2.27556000e+03, 1.39062000e+03,\n        8.23690000e+02, 2.17695240e+02, 1.33035980e+02, 5.75352590e+01,\n        3.51604361e+01, 2.14869332e+01],\n       [3.20000000e+02, 3.00000000e+01, 7.61560000e+00, 4.77160000e+00,\n        1.02400000e+05, 9.60000000e+03, 2.43699200e+03, 1.52691200e+03,\n        9.00000000e+02, 2.28468000e+02, 1.43148000e+02, 5.79973634e+01,\n        3.63385970e+01, 2.27681666e+01],\n       [5.14000000e+02, 3.28000000e+01, 1.00300000e+01, 6.01800000e+00,\n        2.64196000e+05, 1.68592000e+04, 5.15542000e+03, 3.09325200e+03,\n        1.07584000e+03, 3.28984000e+02, 1.97390400e+02, 1.00600900e+02,\n        6.03605400e+01, 3.62163240e+01],\n       [5.56000000e+02, 3.45000000e+01, 1.02565000e+01, 6.38750000e+00,\n        3.09136000e+05, 1.91820000e+04, 5.70261400e+03, 3.55145000e+03,\n        1.19025000e+03, 3.53849250e+02, 2.20368750e+02, 1.05195792e+02,\n        6.55133938e+01, 4.08001563e+01],\n       [8.40000000e+02, 3.50000000e+01, 1.14884000e+01, 7.79570000e+00,\n        7.05600000e+05, 2.94000000e+04, 9.65025600e+03, 6.54838800e+03,\n        1.22500000e+03, 4.02094000e+02, 2.72849500e+02, 1.31983335e+02,\n        8.95601199e+01, 6.07729385e+01],\n       [6.85000000e+02, 3.65000000e+01, 1.08810000e+01, 6.86400000e+00,\n        4.69225000e+05, 2.50025000e+04, 7.45348500e+03, 4.70184000e+03,\n        1.33225000e+03, 3.97156500e+02, 2.50536000e+02, 1.18396161e+02,\n        7.46871840e+01, 4.71144960e+01],\n       [7.00000000e+02, 3.60000000e+01, 1.06091000e+01, 6.74080000e+00,\n        4.90000000e+05, 2.52000000e+04, 7.42637000e+03, 4.71856000e+03,\n        1.29600000e+03, 3.81927600e+02, 2.42668800e+02, 1.12553003e+02,\n        7.15138213e+01, 4.54383846e+01],\n       [7.00000000e+02, 3.70000000e+01, 1.08350000e+01, 6.26460000e+00,\n        4.90000000e+05, 2.59000000e+04, 7.58450000e+03, 4.38522000e+03,\n        1.36900000e+03, 4.00895000e+02, 2.31790200e+02, 1.17397225e+02,\n        6.78769410e+01, 3.92452132e+01],\n       [6.90000000e+02, 3.70000000e+01, 1.05717000e+01, 6.36660000e+00,\n        4.76100000e+05, 2.55300000e+04, 7.29447300e+03, 4.39295400e+03,\n        1.36900000e+03, 3.91152900e+02, 2.35564200e+02, 1.11760841e+02,\n        6.73057852e+01, 4.05335956e+01],\n       [9.00000000e+02, 3.90000000e+01, 1.11366000e+01, 7.49340000e+00,\n        8.10000000e+05, 3.51000000e+04, 1.00229400e+04, 6.74406000e+03,\n        1.52100000e+03, 4.34327400e+02, 2.92242600e+02, 1.24023860e+02,\n        8.34509984e+01, 5.61510436e+01],\n       [6.50000000e+02, 3.90000000e+01, 1.11366000e+01, 6.00300000e+00,\n        4.22500000e+05, 2.53500000e+04, 7.23879000e+03, 3.90195000e+03,\n        1.52100000e+03, 4.34327400e+02, 2.34117000e+02, 1.24023860e+02,\n        6.68530098e+01, 3.60360090e+01],\n       [8.20000000e+02, 3.90000000e+01, 1.24313000e+01, 7.35140000e+00,\n        6.72400000e+05, 3.19800000e+04, 1.01936660e+04, 6.02814800e+03,\n        1.52100000e+03, 4.84820700e+02, 2.86704600e+02, 1.54537220e+02,\n        9.13874588e+01, 5.40430820e+01],\n       [8.50000000e+02, 4.00000000e+01, 1.19286000e+01, 7.10640000e+00,\n        7.22500000e+05, 3.40000000e+04, 1.01393100e+04, 6.04044000e+03,\n        1.60000000e+03, 4.77144000e+02, 2.84256000e+02, 1.42291498e+02,\n        8.47694030e+01, 5.05009210e+01],\n       [9.00000000e+02, 4.00000000e+01, 1.17300000e+01, 7.22500000e+00,\n        8.10000000e+05, 3.60000000e+04, 1.05570000e+04, 6.50250000e+03,\n        1.60000000e+03, 4.69200000e+02, 2.89000000e+02, 1.37592900e+02,\n        8.47492500e+01, 5.22006250e+01],\n       [1.01500000e+03, 4.00000000e+01, 1.23808000e+01, 7.46240000e+00,\n        1.03022500e+06, 4.06000000e+04, 1.25665120e+04, 7.57433600e+03,\n        1.60000000e+03, 4.95232000e+02, 2.98496000e+02, 1.53284209e+02,\n        9.23904819e+01, 5.56874138e+01],\n       [8.20000000e+02, 4.00000000e+01, 1.11350000e+01, 6.63000000e+00,\n        6.72400000e+05, 3.28000000e+04, 9.13070000e+03, 5.43660000e+03,\n        1.60000000e+03, 4.45400000e+02, 2.65200000e+02, 1.23988225e+02,\n        7.38250500e+01, 4.39569000e+01],\n       [1.10000000e+03, 4.20000000e+01, 1.28002000e+01, 6.86840000e+00,\n        1.21000000e+06, 4.62000000e+04, 1.40802200e+04, 7.55524000e+03,\n        1.76400000e+03, 5.37608400e+02, 2.88472800e+02, 1.63845120e+02,\n        8.79168937e+01, 4.71749186e+01],\n       [1.00000000e+03, 4.30000000e+01, 1.19328000e+01, 7.27720000e+00,\n        1.00000000e+06, 4.30000000e+04, 1.19328000e+04, 7.27720000e+03,\n        1.84900000e+03, 5.13110400e+02, 3.12919600e+02, 1.42391716e+02,\n        8.68373722e+01, 5.29576398e+01],\n       [1.10000000e+03, 4.30000000e+01, 1.25125000e+01, 7.41650000e+00,\n        1.21000000e+06, 4.73000000e+04, 1.37637500e+04, 8.15815000e+03,\n        1.84900000e+03, 5.38037500e+02, 3.18909500e+02, 1.56562656e+02,\n        9.27989562e+01, 5.50044722e+01],\n       [1.00000000e+03, 4.35000000e+01, 1.26040000e+01, 8.14200000e+00,\n        1.00000000e+06, 4.35000000e+04, 1.26040000e+04, 8.14200000e+03,\n        1.89225000e+03, 5.48274000e+02, 3.54177000e+02, 1.58860816e+02,\n        1.02621768e+02, 6.62921640e+01],\n       [1.00000000e+03, 4.40000000e+01, 1.24888000e+01, 7.59580000e+00,\n        1.00000000e+06, 4.40000000e+04, 1.24888000e+04, 7.59580000e+03,\n        1.93600000e+03, 5.49507200e+02, 3.34215200e+02, 1.55970125e+02,\n        9.48624270e+01, 5.76961776e+01]])"
     },
     "execution_count": 29,
     "metadata": {},
     "output_type": "execute_result"
    }
   ],
   "source": [
    "poly_df = poly.transform(perchDF)\n",
    "# numpy.ndarray의 형태로 반환값이 나옴\n",
    "poly_df"
   ],
   "metadata": {
    "collapsed": false,
    "ExecuteTime": {
     "end_time": "2024-03-02T04:52:20.525626Z",
     "start_time": "2024-03-02T04:52:20.497043Z"
    }
   },
   "id": "efc37984d4fb54a8",
   "execution_count": 29
  },
  {
   "cell_type": "code",
   "outputs": [
    {
     "data": {
      "text/plain": "array(['Weight', 'Length', 'Height', 'Width', 'Weight^2', 'Weight Length',\n       'Weight Height', 'Weight Width', 'Length^2', 'Length Height',\n       'Length Width', 'Height^2', 'Height Width', 'Width^2'],\n      dtype=object)"
     },
     "execution_count": 30,
     "metadata": {},
     "output_type": "execute_result"
    }
   ],
   "source": [
    "poly.get_feature_names_out()\n",
    "# 위의 연산 결과가 어떻게 나왔는지 보여줌."
   ],
   "metadata": {
    "collapsed": false,
    "ExecuteTime": {
     "end_time": "2024-03-02T04:52:20.541449Z",
     "start_time": "2024-03-02T04:52:20.527820Z"
    }
   },
   "id": "cc0de5e12e0e11fe",
   "execution_count": 30
  },
  {
   "cell_type": "code",
   "outputs": [
    {
     "data": {
      "text/plain": "    Weight  Length   Height   Width    Weight^2  Weight Length  Weight Height  \\\n0      5.9     8.4   2.1120  1.4080       34.81          49.56        12.4608   \n1     32.0    13.7   3.5280  1.9992     1024.00         438.40       112.8960   \n2     40.0    15.0   3.8240  2.4320     1600.00         600.00       152.9600   \n3     51.5    16.2   4.5924  2.6316     2652.25         834.30       236.5086   \n4     70.0    17.4   4.5880  2.9415     4900.00        1218.00       321.1600   \n5    100.0    18.0   5.2224  3.3216    10000.00        1800.00       522.2400   \n6     78.0    18.7   5.1992  3.1234     6084.00        1458.60       405.5376   \n7     80.0    19.0   5.6358  3.0502     6400.00        1520.00       450.8640   \n8     85.0    19.6   5.1376  3.0368     7225.00        1666.00       436.6960   \n9     85.0    20.0   5.0820  2.7720     7225.00        1700.00       431.9700   \n10   110.0    21.0   5.6925  3.5550    12100.00        2310.00       626.1750   \n11   115.0    21.0   5.9175  3.3075    13225.00        2415.00       680.5125   \n12   125.0    21.0   5.6925  3.6675    15625.00        2625.00       711.5625   \n13   130.0    21.3   6.3840  3.5340    16900.00        2769.00       829.9200   \n14   120.0    22.0   6.1100  3.4075    14400.00        2640.00       733.2000   \n15   120.0    22.0   5.6400  3.5250    14400.00        2640.00       676.8000   \n16   130.0    22.0   6.1100  3.5250    16900.00        2860.00       794.3000   \n17   135.0    22.0   5.8750  3.5250    18225.00        2970.00       793.1250   \n18   110.0    22.0   5.5225  3.9950    12100.00        2420.00       607.4750   \n19   130.0    22.5   5.8560  3.6240    16900.00        2925.00       761.2800   \n20   150.0    22.5   6.7920  3.6240    22500.00        3375.00      1018.8000   \n21   145.0    22.7   5.9532  3.6300    21025.00        3291.50       863.2140   \n22   150.0    23.0   5.2185  3.6260    22500.00        3450.00       782.7750   \n23   170.0    23.5   6.2750  3.7250    28900.00        3995.00      1066.7500   \n24   225.0    24.0   7.2930  3.7230    50625.00        5400.00      1640.9250   \n25   145.0    24.0   6.3750  3.8250    21025.00        3480.00       924.3750   \n26   188.0    24.6   6.7334  4.1658    35344.00        4624.80      1265.8792   \n27   180.0    25.0   6.4395  3.6835    32400.00        4500.00      1159.1100   \n28   197.0    25.6   6.5610  4.2390    38809.00        5043.20      1292.5170   \n29   218.0    26.5   7.1680  4.1440    47524.00        5777.00      1562.6240   \n30   300.0    27.3   8.3230  5.1373    90000.00        8190.00      2496.9000   \n31   260.0    27.5   7.1672  4.3350    67600.00        7150.00      1863.4720   \n32   265.0    27.5   7.0516  4.3350    70225.00        7287.50      1868.6740   \n33   250.0    27.5   7.2828  4.5662    62500.00        6875.00      1820.7000   \n34   250.0    28.0   7.8204  4.2042    62500.00        7000.00      1955.1000   \n35   300.0    28.7   7.5852  4.6354    90000.00        8610.00      2275.5600   \n36   320.0    30.0   7.6156  4.7716   102400.00        9600.00      2436.9920   \n37   514.0    32.8  10.0300  6.0180   264196.00       16859.20      5155.4200   \n38   556.0    34.5  10.2565  6.3875   309136.00       19182.00      5702.6140   \n39   840.0    35.0  11.4884  7.7957   705600.00       29400.00      9650.2560   \n40   685.0    36.5  10.8810  6.8640   469225.00       25002.50      7453.4850   \n41   700.0    36.0  10.6091  6.7408   490000.00       25200.00      7426.3700   \n42   700.0    37.0  10.8350  6.2646   490000.00       25900.00      7584.5000   \n43   690.0    37.0  10.5717  6.3666   476100.00       25530.00      7294.4730   \n44   900.0    39.0  11.1366  7.4934   810000.00       35100.00     10022.9400   \n45   650.0    39.0  11.1366  6.0030   422500.00       25350.00      7238.7900   \n46   820.0    39.0  12.4313  7.3514   672400.00       31980.00     10193.6660   \n47   850.0    40.0  11.9286  7.1064   722500.00       34000.00     10139.3100   \n48   900.0    40.0  11.7300  7.2250   810000.00       36000.00     10557.0000   \n49  1015.0    40.0  12.3808  7.4624  1030225.00       40600.00     12566.5120   \n50   820.0    40.0  11.1350  6.6300   672400.00       32800.00      9130.7000   \n51  1100.0    42.0  12.8002  6.8684  1210000.00       46200.00     14080.2200   \n52  1000.0    43.0  11.9328  7.2772  1000000.00       43000.00     11932.8000   \n53  1100.0    43.0  12.5125  7.4165  1210000.00       47300.00     13763.7500   \n54  1000.0    43.5  12.6040  8.1420  1000000.00       43500.00     12604.0000   \n55  1000.0    44.0  12.4888  7.5958  1000000.00       44000.00     12488.8000   \n\n    Weight Width  Length^2  Length Height  Length Width    Height^2  \\\n0         8.3072     70.56       17.74080      11.82720    4.460544   \n1        63.9744    187.69       48.33360      27.38904   12.446784   \n2        97.2800    225.00       57.36000      36.48000   14.622976   \n3       135.5274    262.44       74.39688      42.63192   21.090138   \n4       205.9050    302.76       79.83120      51.18210   21.049744   \n5       332.1600    324.00       94.00320      59.78880   27.273462   \n6       243.6252    349.69       97.22504      58.40758   27.031681   \n7       244.0160    361.00      107.08020      57.95380   31.762242   \n8       258.1280    384.16      100.69696      59.52128   26.394934   \n9       235.6200    400.00      101.64000      55.44000   25.826724   \n10      391.0500    441.00      119.54250      74.65500   32.404556   \n11      380.3625    441.00      124.26750      69.45750   35.016806   \n12      458.4375    441.00      119.54250      77.01750   32.404556   \n13      459.4200    453.69      135.97920      75.27420   40.755456   \n14      408.9000    484.00      134.42000      74.96500   37.332100   \n15      423.0000    484.00      124.08000      77.55000   31.809600   \n16      458.2500    484.00      134.42000      77.55000   37.332100   \n17      475.8750    484.00      129.25000      77.55000   34.515625   \n18      439.4500    484.00      121.49500      87.89000   30.498006   \n19      471.1200    506.25      131.76000      81.54000   34.292736   \n20      543.6000    506.25      152.82000      81.54000   46.131264   \n21      526.3500    515.29      135.13764      82.40100   35.440590   \n22      543.9000    529.00      120.02550      83.39800   27.232742   \n23      633.2500    552.25      147.46250      87.53750   39.375625   \n24      837.6750    576.00      175.03200      89.35200   53.187849   \n25      554.6250    576.00      153.00000      91.80000   40.640625   \n26      783.1704    605.16      165.64164     102.47868   45.338676   \n27      663.0300    625.00      160.98750      92.08750   41.467160   \n28      835.0830    655.36      167.96160     108.51840   43.046721   \n29      903.3920    702.25      189.95200     109.81600   51.380224   \n30     1541.1900    745.29      227.21790     140.24829   69.272329   \n31     1127.1000    756.25      197.09800     119.21250   51.368756   \n32     1148.7750    756.25      193.91900     119.21250   49.725063   \n33     1141.5500    756.25      200.27700     125.57050   53.039176   \n34     1051.0500    784.00      218.97120     117.71760   61.158656   \n35     1390.6200    823.69      217.69524     133.03598   57.535259   \n36     1526.9120    900.00      228.46800     143.14800   57.997363   \n37     3093.2520   1075.84      328.98400     197.39040  100.600900   \n38     3551.4500   1190.25      353.84925     220.36875  105.195792   \n39     6548.3880   1225.00      402.09400     272.84950  131.983335   \n40     4701.8400   1332.25      397.15650     250.53600  118.396161   \n41     4718.5600   1296.00      381.92760     242.66880  112.553003   \n42     4385.2200   1369.00      400.89500     231.79020  117.397225   \n43     4392.9540   1369.00      391.15290     235.56420  111.760841   \n44     6744.0600   1521.00      434.32740     292.24260  124.023860   \n45     3901.9500   1521.00      434.32740     234.11700  124.023860   \n46     6028.1480   1521.00      484.82070     286.70460  154.537220   \n47     6040.4400   1600.00      477.14400     284.25600  142.291498   \n48     6502.5000   1600.00      469.20000     289.00000  137.592900   \n49     7574.3360   1600.00      495.23200     298.49600  153.284209   \n50     5436.6000   1600.00      445.40000     265.20000  123.988225   \n51     7555.2400   1764.00      537.60840     288.47280  163.845120   \n52     7277.2000   1849.00      513.11040     312.91960  142.391716   \n53     8158.1500   1849.00      538.03750     318.90950  156.562656   \n54     8142.0000   1892.25      548.27400     354.17700  158.860816   \n55     7595.8000   1936.00      549.50720     334.21520  155.970125   \n\n    Height Width    Width^2  \n0       2.973696   1.982464  \n1       7.053178   3.996801  \n2       9.299968   5.914624  \n3      12.085360   6.925319  \n4      13.495602   8.652422  \n5      17.346724  11.033027  \n6      16.239181   9.755628  \n7      17.190317   9.303720  \n8      15.601864   9.222154  \n9      14.087304   7.683984  \n10     20.236838  12.638025  \n11     19.572131  10.939556  \n12     20.877244  13.450556  \n13     22.561056  12.489156  \n14     20.819825  11.611056  \n15     19.881000  12.425625  \n16     21.537750  12.425625  \n17     20.709375  12.425625  \n18     22.062387  15.960025  \n19     21.222144  13.133376  \n20     24.614208  13.133376  \n21     21.610116  13.176900  \n22     18.922281  13.147876  \n23     23.374375  13.875625  \n24     27.151839  13.860729  \n25     24.384375  14.630625  \n26     28.049998  17.353890  \n27     23.719898  13.568172  \n28     27.812079  17.969121  \n29     29.704192  17.172736  \n30     42.757748  26.391851  \n31     31.069812  18.792225  \n32     30.568686  18.792225  \n33     33.254721  20.850182  \n34     32.878526  17.675298  \n35     35.160436  21.486933  \n36     36.338597  22.768167  \n37     60.360540  36.216324  \n38     65.513394  40.800156  \n39     89.560120  60.772938  \n40     74.687184  47.114496  \n41     71.513821  45.438385  \n42     67.876941  39.245213  \n43     67.305785  40.533596  \n44     83.450998  56.151044  \n45     66.853010  36.036009  \n46     91.387459  54.043082  \n47     84.769403  50.500921  \n48     84.749250  52.200625  \n49     92.390482  55.687414  \n50     73.825050  43.956900  \n51     87.916894  47.174919  \n52     86.837372  52.957640  \n53     92.798956  55.004472  \n54    102.621768  66.292164  \n55     94.862427  57.696178  ",
      "text/html": "<div>\n<style scoped>\n    .dataframe tbody tr th:only-of-type {\n        vertical-align: middle;\n    }\n\n    .dataframe tbody tr th {\n        vertical-align: top;\n    }\n\n    .dataframe thead th {\n        text-align: right;\n    }\n</style>\n<table border=\"1\" class=\"dataframe\">\n  <thead>\n    <tr style=\"text-align: right;\">\n      <th></th>\n      <th>Weight</th>\n      <th>Length</th>\n      <th>Height</th>\n      <th>Width</th>\n      <th>Weight^2</th>\n      <th>Weight Length</th>\n      <th>Weight Height</th>\n      <th>Weight Width</th>\n      <th>Length^2</th>\n      <th>Length Height</th>\n      <th>Length Width</th>\n      <th>Height^2</th>\n      <th>Height Width</th>\n      <th>Width^2</th>\n    </tr>\n  </thead>\n  <tbody>\n    <tr>\n      <th>0</th>\n      <td>5.9</td>\n      <td>8.4</td>\n      <td>2.1120</td>\n      <td>1.4080</td>\n      <td>34.81</td>\n      <td>49.56</td>\n      <td>12.4608</td>\n      <td>8.3072</td>\n      <td>70.56</td>\n      <td>17.74080</td>\n      <td>11.82720</td>\n      <td>4.460544</td>\n      <td>2.973696</td>\n      <td>1.982464</td>\n    </tr>\n    <tr>\n      <th>1</th>\n      <td>32.0</td>\n      <td>13.7</td>\n      <td>3.5280</td>\n      <td>1.9992</td>\n      <td>1024.00</td>\n      <td>438.40</td>\n      <td>112.8960</td>\n      <td>63.9744</td>\n      <td>187.69</td>\n      <td>48.33360</td>\n      <td>27.38904</td>\n      <td>12.446784</td>\n      <td>7.053178</td>\n      <td>3.996801</td>\n    </tr>\n    <tr>\n      <th>2</th>\n      <td>40.0</td>\n      <td>15.0</td>\n      <td>3.8240</td>\n      <td>2.4320</td>\n      <td>1600.00</td>\n      <td>600.00</td>\n      <td>152.9600</td>\n      <td>97.2800</td>\n      <td>225.00</td>\n      <td>57.36000</td>\n      <td>36.48000</td>\n      <td>14.622976</td>\n      <td>9.299968</td>\n      <td>5.914624</td>\n    </tr>\n    <tr>\n      <th>3</th>\n      <td>51.5</td>\n      <td>16.2</td>\n      <td>4.5924</td>\n      <td>2.6316</td>\n      <td>2652.25</td>\n      <td>834.30</td>\n      <td>236.5086</td>\n      <td>135.5274</td>\n      <td>262.44</td>\n      <td>74.39688</td>\n      <td>42.63192</td>\n      <td>21.090138</td>\n      <td>12.085360</td>\n      <td>6.925319</td>\n    </tr>\n    <tr>\n      <th>4</th>\n      <td>70.0</td>\n      <td>17.4</td>\n      <td>4.5880</td>\n      <td>2.9415</td>\n      <td>4900.00</td>\n      <td>1218.00</td>\n      <td>321.1600</td>\n      <td>205.9050</td>\n      <td>302.76</td>\n      <td>79.83120</td>\n      <td>51.18210</td>\n      <td>21.049744</td>\n      <td>13.495602</td>\n      <td>8.652422</td>\n    </tr>\n    <tr>\n      <th>5</th>\n      <td>100.0</td>\n      <td>18.0</td>\n      <td>5.2224</td>\n      <td>3.3216</td>\n      <td>10000.00</td>\n      <td>1800.00</td>\n      <td>522.2400</td>\n      <td>332.1600</td>\n      <td>324.00</td>\n      <td>94.00320</td>\n      <td>59.78880</td>\n      <td>27.273462</td>\n      <td>17.346724</td>\n      <td>11.033027</td>\n    </tr>\n    <tr>\n      <th>6</th>\n      <td>78.0</td>\n      <td>18.7</td>\n      <td>5.1992</td>\n      <td>3.1234</td>\n      <td>6084.00</td>\n      <td>1458.60</td>\n      <td>405.5376</td>\n      <td>243.6252</td>\n      <td>349.69</td>\n      <td>97.22504</td>\n      <td>58.40758</td>\n      <td>27.031681</td>\n      <td>16.239181</td>\n      <td>9.755628</td>\n    </tr>\n    <tr>\n      <th>7</th>\n      <td>80.0</td>\n      <td>19.0</td>\n      <td>5.6358</td>\n      <td>3.0502</td>\n      <td>6400.00</td>\n      <td>1520.00</td>\n      <td>450.8640</td>\n      <td>244.0160</td>\n      <td>361.00</td>\n      <td>107.08020</td>\n      <td>57.95380</td>\n      <td>31.762242</td>\n      <td>17.190317</td>\n      <td>9.303720</td>\n    </tr>\n    <tr>\n      <th>8</th>\n      <td>85.0</td>\n      <td>19.6</td>\n      <td>5.1376</td>\n      <td>3.0368</td>\n      <td>7225.00</td>\n      <td>1666.00</td>\n      <td>436.6960</td>\n      <td>258.1280</td>\n      <td>384.16</td>\n      <td>100.69696</td>\n      <td>59.52128</td>\n      <td>26.394934</td>\n      <td>15.601864</td>\n      <td>9.222154</td>\n    </tr>\n    <tr>\n      <th>9</th>\n      <td>85.0</td>\n      <td>20.0</td>\n      <td>5.0820</td>\n      <td>2.7720</td>\n      <td>7225.00</td>\n      <td>1700.00</td>\n      <td>431.9700</td>\n      <td>235.6200</td>\n      <td>400.00</td>\n      <td>101.64000</td>\n      <td>55.44000</td>\n      <td>25.826724</td>\n      <td>14.087304</td>\n      <td>7.683984</td>\n    </tr>\n    <tr>\n      <th>10</th>\n      <td>110.0</td>\n      <td>21.0</td>\n      <td>5.6925</td>\n      <td>3.5550</td>\n      <td>12100.00</td>\n      <td>2310.00</td>\n      <td>626.1750</td>\n      <td>391.0500</td>\n      <td>441.00</td>\n      <td>119.54250</td>\n      <td>74.65500</td>\n      <td>32.404556</td>\n      <td>20.236838</td>\n      <td>12.638025</td>\n    </tr>\n    <tr>\n      <th>11</th>\n      <td>115.0</td>\n      <td>21.0</td>\n      <td>5.9175</td>\n      <td>3.3075</td>\n      <td>13225.00</td>\n      <td>2415.00</td>\n      <td>680.5125</td>\n      <td>380.3625</td>\n      <td>441.00</td>\n      <td>124.26750</td>\n      <td>69.45750</td>\n      <td>35.016806</td>\n      <td>19.572131</td>\n      <td>10.939556</td>\n    </tr>\n    <tr>\n      <th>12</th>\n      <td>125.0</td>\n      <td>21.0</td>\n      <td>5.6925</td>\n      <td>3.6675</td>\n      <td>15625.00</td>\n      <td>2625.00</td>\n      <td>711.5625</td>\n      <td>458.4375</td>\n      <td>441.00</td>\n      <td>119.54250</td>\n      <td>77.01750</td>\n      <td>32.404556</td>\n      <td>20.877244</td>\n      <td>13.450556</td>\n    </tr>\n    <tr>\n      <th>13</th>\n      <td>130.0</td>\n      <td>21.3</td>\n      <td>6.3840</td>\n      <td>3.5340</td>\n      <td>16900.00</td>\n      <td>2769.00</td>\n      <td>829.9200</td>\n      <td>459.4200</td>\n      <td>453.69</td>\n      <td>135.97920</td>\n      <td>75.27420</td>\n      <td>40.755456</td>\n      <td>22.561056</td>\n      <td>12.489156</td>\n    </tr>\n    <tr>\n      <th>14</th>\n      <td>120.0</td>\n      <td>22.0</td>\n      <td>6.1100</td>\n      <td>3.4075</td>\n      <td>14400.00</td>\n      <td>2640.00</td>\n      <td>733.2000</td>\n      <td>408.9000</td>\n      <td>484.00</td>\n      <td>134.42000</td>\n      <td>74.96500</td>\n      <td>37.332100</td>\n      <td>20.819825</td>\n      <td>11.611056</td>\n    </tr>\n    <tr>\n      <th>15</th>\n      <td>120.0</td>\n      <td>22.0</td>\n      <td>5.6400</td>\n      <td>3.5250</td>\n      <td>14400.00</td>\n      <td>2640.00</td>\n      <td>676.8000</td>\n      <td>423.0000</td>\n      <td>484.00</td>\n      <td>124.08000</td>\n      <td>77.55000</td>\n      <td>31.809600</td>\n      <td>19.881000</td>\n      <td>12.425625</td>\n    </tr>\n    <tr>\n      <th>16</th>\n      <td>130.0</td>\n      <td>22.0</td>\n      <td>6.1100</td>\n      <td>3.5250</td>\n      <td>16900.00</td>\n      <td>2860.00</td>\n      <td>794.3000</td>\n      <td>458.2500</td>\n      <td>484.00</td>\n      <td>134.42000</td>\n      <td>77.55000</td>\n      <td>37.332100</td>\n      <td>21.537750</td>\n      <td>12.425625</td>\n    </tr>\n    <tr>\n      <th>17</th>\n      <td>135.0</td>\n      <td>22.0</td>\n      <td>5.8750</td>\n      <td>3.5250</td>\n      <td>18225.00</td>\n      <td>2970.00</td>\n      <td>793.1250</td>\n      <td>475.8750</td>\n      <td>484.00</td>\n      <td>129.25000</td>\n      <td>77.55000</td>\n      <td>34.515625</td>\n      <td>20.709375</td>\n      <td>12.425625</td>\n    </tr>\n    <tr>\n      <th>18</th>\n      <td>110.0</td>\n      <td>22.0</td>\n      <td>5.5225</td>\n      <td>3.9950</td>\n      <td>12100.00</td>\n      <td>2420.00</td>\n      <td>607.4750</td>\n      <td>439.4500</td>\n      <td>484.00</td>\n      <td>121.49500</td>\n      <td>87.89000</td>\n      <td>30.498006</td>\n      <td>22.062387</td>\n      <td>15.960025</td>\n    </tr>\n    <tr>\n      <th>19</th>\n      <td>130.0</td>\n      <td>22.5</td>\n      <td>5.8560</td>\n      <td>3.6240</td>\n      <td>16900.00</td>\n      <td>2925.00</td>\n      <td>761.2800</td>\n      <td>471.1200</td>\n      <td>506.25</td>\n      <td>131.76000</td>\n      <td>81.54000</td>\n      <td>34.292736</td>\n      <td>21.222144</td>\n      <td>13.133376</td>\n    </tr>\n    <tr>\n      <th>20</th>\n      <td>150.0</td>\n      <td>22.5</td>\n      <td>6.7920</td>\n      <td>3.6240</td>\n      <td>22500.00</td>\n      <td>3375.00</td>\n      <td>1018.8000</td>\n      <td>543.6000</td>\n      <td>506.25</td>\n      <td>152.82000</td>\n      <td>81.54000</td>\n      <td>46.131264</td>\n      <td>24.614208</td>\n      <td>13.133376</td>\n    </tr>\n    <tr>\n      <th>21</th>\n      <td>145.0</td>\n      <td>22.7</td>\n      <td>5.9532</td>\n      <td>3.6300</td>\n      <td>21025.00</td>\n      <td>3291.50</td>\n      <td>863.2140</td>\n      <td>526.3500</td>\n      <td>515.29</td>\n      <td>135.13764</td>\n      <td>82.40100</td>\n      <td>35.440590</td>\n      <td>21.610116</td>\n      <td>13.176900</td>\n    </tr>\n    <tr>\n      <th>22</th>\n      <td>150.0</td>\n      <td>23.0</td>\n      <td>5.2185</td>\n      <td>3.6260</td>\n      <td>22500.00</td>\n      <td>3450.00</td>\n      <td>782.7750</td>\n      <td>543.9000</td>\n      <td>529.00</td>\n      <td>120.02550</td>\n      <td>83.39800</td>\n      <td>27.232742</td>\n      <td>18.922281</td>\n      <td>13.147876</td>\n    </tr>\n    <tr>\n      <th>23</th>\n      <td>170.0</td>\n      <td>23.5</td>\n      <td>6.2750</td>\n      <td>3.7250</td>\n      <td>28900.00</td>\n      <td>3995.00</td>\n      <td>1066.7500</td>\n      <td>633.2500</td>\n      <td>552.25</td>\n      <td>147.46250</td>\n      <td>87.53750</td>\n      <td>39.375625</td>\n      <td>23.374375</td>\n      <td>13.875625</td>\n    </tr>\n    <tr>\n      <th>24</th>\n      <td>225.0</td>\n      <td>24.0</td>\n      <td>7.2930</td>\n      <td>3.7230</td>\n      <td>50625.00</td>\n      <td>5400.00</td>\n      <td>1640.9250</td>\n      <td>837.6750</td>\n      <td>576.00</td>\n      <td>175.03200</td>\n      <td>89.35200</td>\n      <td>53.187849</td>\n      <td>27.151839</td>\n      <td>13.860729</td>\n    </tr>\n    <tr>\n      <th>25</th>\n      <td>145.0</td>\n      <td>24.0</td>\n      <td>6.3750</td>\n      <td>3.8250</td>\n      <td>21025.00</td>\n      <td>3480.00</td>\n      <td>924.3750</td>\n      <td>554.6250</td>\n      <td>576.00</td>\n      <td>153.00000</td>\n      <td>91.80000</td>\n      <td>40.640625</td>\n      <td>24.384375</td>\n      <td>14.630625</td>\n    </tr>\n    <tr>\n      <th>26</th>\n      <td>188.0</td>\n      <td>24.6</td>\n      <td>6.7334</td>\n      <td>4.1658</td>\n      <td>35344.00</td>\n      <td>4624.80</td>\n      <td>1265.8792</td>\n      <td>783.1704</td>\n      <td>605.16</td>\n      <td>165.64164</td>\n      <td>102.47868</td>\n      <td>45.338676</td>\n      <td>28.049998</td>\n      <td>17.353890</td>\n    </tr>\n    <tr>\n      <th>27</th>\n      <td>180.0</td>\n      <td>25.0</td>\n      <td>6.4395</td>\n      <td>3.6835</td>\n      <td>32400.00</td>\n      <td>4500.00</td>\n      <td>1159.1100</td>\n      <td>663.0300</td>\n      <td>625.00</td>\n      <td>160.98750</td>\n      <td>92.08750</td>\n      <td>41.467160</td>\n      <td>23.719898</td>\n      <td>13.568172</td>\n    </tr>\n    <tr>\n      <th>28</th>\n      <td>197.0</td>\n      <td>25.6</td>\n      <td>6.5610</td>\n      <td>4.2390</td>\n      <td>38809.00</td>\n      <td>5043.20</td>\n      <td>1292.5170</td>\n      <td>835.0830</td>\n      <td>655.36</td>\n      <td>167.96160</td>\n      <td>108.51840</td>\n      <td>43.046721</td>\n      <td>27.812079</td>\n      <td>17.969121</td>\n    </tr>\n    <tr>\n      <th>29</th>\n      <td>218.0</td>\n      <td>26.5</td>\n      <td>7.1680</td>\n      <td>4.1440</td>\n      <td>47524.00</td>\n      <td>5777.00</td>\n      <td>1562.6240</td>\n      <td>903.3920</td>\n      <td>702.25</td>\n      <td>189.95200</td>\n      <td>109.81600</td>\n      <td>51.380224</td>\n      <td>29.704192</td>\n      <td>17.172736</td>\n    </tr>\n    <tr>\n      <th>30</th>\n      <td>300.0</td>\n      <td>27.3</td>\n      <td>8.3230</td>\n      <td>5.1373</td>\n      <td>90000.00</td>\n      <td>8190.00</td>\n      <td>2496.9000</td>\n      <td>1541.1900</td>\n      <td>745.29</td>\n      <td>227.21790</td>\n      <td>140.24829</td>\n      <td>69.272329</td>\n      <td>42.757748</td>\n      <td>26.391851</td>\n    </tr>\n    <tr>\n      <th>31</th>\n      <td>260.0</td>\n      <td>27.5</td>\n      <td>7.1672</td>\n      <td>4.3350</td>\n      <td>67600.00</td>\n      <td>7150.00</td>\n      <td>1863.4720</td>\n      <td>1127.1000</td>\n      <td>756.25</td>\n      <td>197.09800</td>\n      <td>119.21250</td>\n      <td>51.368756</td>\n      <td>31.069812</td>\n      <td>18.792225</td>\n    </tr>\n    <tr>\n      <th>32</th>\n      <td>265.0</td>\n      <td>27.5</td>\n      <td>7.0516</td>\n      <td>4.3350</td>\n      <td>70225.00</td>\n      <td>7287.50</td>\n      <td>1868.6740</td>\n      <td>1148.7750</td>\n      <td>756.25</td>\n      <td>193.91900</td>\n      <td>119.21250</td>\n      <td>49.725063</td>\n      <td>30.568686</td>\n      <td>18.792225</td>\n    </tr>\n    <tr>\n      <th>33</th>\n      <td>250.0</td>\n      <td>27.5</td>\n      <td>7.2828</td>\n      <td>4.5662</td>\n      <td>62500.00</td>\n      <td>6875.00</td>\n      <td>1820.7000</td>\n      <td>1141.5500</td>\n      <td>756.25</td>\n      <td>200.27700</td>\n      <td>125.57050</td>\n      <td>53.039176</td>\n      <td>33.254721</td>\n      <td>20.850182</td>\n    </tr>\n    <tr>\n      <th>34</th>\n      <td>250.0</td>\n      <td>28.0</td>\n      <td>7.8204</td>\n      <td>4.2042</td>\n      <td>62500.00</td>\n      <td>7000.00</td>\n      <td>1955.1000</td>\n      <td>1051.0500</td>\n      <td>784.00</td>\n      <td>218.97120</td>\n      <td>117.71760</td>\n      <td>61.158656</td>\n      <td>32.878526</td>\n      <td>17.675298</td>\n    </tr>\n    <tr>\n      <th>35</th>\n      <td>300.0</td>\n      <td>28.7</td>\n      <td>7.5852</td>\n      <td>4.6354</td>\n      <td>90000.00</td>\n      <td>8610.00</td>\n      <td>2275.5600</td>\n      <td>1390.6200</td>\n      <td>823.69</td>\n      <td>217.69524</td>\n      <td>133.03598</td>\n      <td>57.535259</td>\n      <td>35.160436</td>\n      <td>21.486933</td>\n    </tr>\n    <tr>\n      <th>36</th>\n      <td>320.0</td>\n      <td>30.0</td>\n      <td>7.6156</td>\n      <td>4.7716</td>\n      <td>102400.00</td>\n      <td>9600.00</td>\n      <td>2436.9920</td>\n      <td>1526.9120</td>\n      <td>900.00</td>\n      <td>228.46800</td>\n      <td>143.14800</td>\n      <td>57.997363</td>\n      <td>36.338597</td>\n      <td>22.768167</td>\n    </tr>\n    <tr>\n      <th>37</th>\n      <td>514.0</td>\n      <td>32.8</td>\n      <td>10.0300</td>\n      <td>6.0180</td>\n      <td>264196.00</td>\n      <td>16859.20</td>\n      <td>5155.4200</td>\n      <td>3093.2520</td>\n      <td>1075.84</td>\n      <td>328.98400</td>\n      <td>197.39040</td>\n      <td>100.600900</td>\n      <td>60.360540</td>\n      <td>36.216324</td>\n    </tr>\n    <tr>\n      <th>38</th>\n      <td>556.0</td>\n      <td>34.5</td>\n      <td>10.2565</td>\n      <td>6.3875</td>\n      <td>309136.00</td>\n      <td>19182.00</td>\n      <td>5702.6140</td>\n      <td>3551.4500</td>\n      <td>1190.25</td>\n      <td>353.84925</td>\n      <td>220.36875</td>\n      <td>105.195792</td>\n      <td>65.513394</td>\n      <td>40.800156</td>\n    </tr>\n    <tr>\n      <th>39</th>\n      <td>840.0</td>\n      <td>35.0</td>\n      <td>11.4884</td>\n      <td>7.7957</td>\n      <td>705600.00</td>\n      <td>29400.00</td>\n      <td>9650.2560</td>\n      <td>6548.3880</td>\n      <td>1225.00</td>\n      <td>402.09400</td>\n      <td>272.84950</td>\n      <td>131.983335</td>\n      <td>89.560120</td>\n      <td>60.772938</td>\n    </tr>\n    <tr>\n      <th>40</th>\n      <td>685.0</td>\n      <td>36.5</td>\n      <td>10.8810</td>\n      <td>6.8640</td>\n      <td>469225.00</td>\n      <td>25002.50</td>\n      <td>7453.4850</td>\n      <td>4701.8400</td>\n      <td>1332.25</td>\n      <td>397.15650</td>\n      <td>250.53600</td>\n      <td>118.396161</td>\n      <td>74.687184</td>\n      <td>47.114496</td>\n    </tr>\n    <tr>\n      <th>41</th>\n      <td>700.0</td>\n      <td>36.0</td>\n      <td>10.6091</td>\n      <td>6.7408</td>\n      <td>490000.00</td>\n      <td>25200.00</td>\n      <td>7426.3700</td>\n      <td>4718.5600</td>\n      <td>1296.00</td>\n      <td>381.92760</td>\n      <td>242.66880</td>\n      <td>112.553003</td>\n      <td>71.513821</td>\n      <td>45.438385</td>\n    </tr>\n    <tr>\n      <th>42</th>\n      <td>700.0</td>\n      <td>37.0</td>\n      <td>10.8350</td>\n      <td>6.2646</td>\n      <td>490000.00</td>\n      <td>25900.00</td>\n      <td>7584.5000</td>\n      <td>4385.2200</td>\n      <td>1369.00</td>\n      <td>400.89500</td>\n      <td>231.79020</td>\n      <td>117.397225</td>\n      <td>67.876941</td>\n      <td>39.245213</td>\n    </tr>\n    <tr>\n      <th>43</th>\n      <td>690.0</td>\n      <td>37.0</td>\n      <td>10.5717</td>\n      <td>6.3666</td>\n      <td>476100.00</td>\n      <td>25530.00</td>\n      <td>7294.4730</td>\n      <td>4392.9540</td>\n      <td>1369.00</td>\n      <td>391.15290</td>\n      <td>235.56420</td>\n      <td>111.760841</td>\n      <td>67.305785</td>\n      <td>40.533596</td>\n    </tr>\n    <tr>\n      <th>44</th>\n      <td>900.0</td>\n      <td>39.0</td>\n      <td>11.1366</td>\n      <td>7.4934</td>\n      <td>810000.00</td>\n      <td>35100.00</td>\n      <td>10022.9400</td>\n      <td>6744.0600</td>\n      <td>1521.00</td>\n      <td>434.32740</td>\n      <td>292.24260</td>\n      <td>124.023860</td>\n      <td>83.450998</td>\n      <td>56.151044</td>\n    </tr>\n    <tr>\n      <th>45</th>\n      <td>650.0</td>\n      <td>39.0</td>\n      <td>11.1366</td>\n      <td>6.0030</td>\n      <td>422500.00</td>\n      <td>25350.00</td>\n      <td>7238.7900</td>\n      <td>3901.9500</td>\n      <td>1521.00</td>\n      <td>434.32740</td>\n      <td>234.11700</td>\n      <td>124.023860</td>\n      <td>66.853010</td>\n      <td>36.036009</td>\n    </tr>\n    <tr>\n      <th>46</th>\n      <td>820.0</td>\n      <td>39.0</td>\n      <td>12.4313</td>\n      <td>7.3514</td>\n      <td>672400.00</td>\n      <td>31980.00</td>\n      <td>10193.6660</td>\n      <td>6028.1480</td>\n      <td>1521.00</td>\n      <td>484.82070</td>\n      <td>286.70460</td>\n      <td>154.537220</td>\n      <td>91.387459</td>\n      <td>54.043082</td>\n    </tr>\n    <tr>\n      <th>47</th>\n      <td>850.0</td>\n      <td>40.0</td>\n      <td>11.9286</td>\n      <td>7.1064</td>\n      <td>722500.00</td>\n      <td>34000.00</td>\n      <td>10139.3100</td>\n      <td>6040.4400</td>\n      <td>1600.00</td>\n      <td>477.14400</td>\n      <td>284.25600</td>\n      <td>142.291498</td>\n      <td>84.769403</td>\n      <td>50.500921</td>\n    </tr>\n    <tr>\n      <th>48</th>\n      <td>900.0</td>\n      <td>40.0</td>\n      <td>11.7300</td>\n      <td>7.2250</td>\n      <td>810000.00</td>\n      <td>36000.00</td>\n      <td>10557.0000</td>\n      <td>6502.5000</td>\n      <td>1600.00</td>\n      <td>469.20000</td>\n      <td>289.00000</td>\n      <td>137.592900</td>\n      <td>84.749250</td>\n      <td>52.200625</td>\n    </tr>\n    <tr>\n      <th>49</th>\n      <td>1015.0</td>\n      <td>40.0</td>\n      <td>12.3808</td>\n      <td>7.4624</td>\n      <td>1030225.00</td>\n      <td>40600.00</td>\n      <td>12566.5120</td>\n      <td>7574.3360</td>\n      <td>1600.00</td>\n      <td>495.23200</td>\n      <td>298.49600</td>\n      <td>153.284209</td>\n      <td>92.390482</td>\n      <td>55.687414</td>\n    </tr>\n    <tr>\n      <th>50</th>\n      <td>820.0</td>\n      <td>40.0</td>\n      <td>11.1350</td>\n      <td>6.6300</td>\n      <td>672400.00</td>\n      <td>32800.00</td>\n      <td>9130.7000</td>\n      <td>5436.6000</td>\n      <td>1600.00</td>\n      <td>445.40000</td>\n      <td>265.20000</td>\n      <td>123.988225</td>\n      <td>73.825050</td>\n      <td>43.956900</td>\n    </tr>\n    <tr>\n      <th>51</th>\n      <td>1100.0</td>\n      <td>42.0</td>\n      <td>12.8002</td>\n      <td>6.8684</td>\n      <td>1210000.00</td>\n      <td>46200.00</td>\n      <td>14080.2200</td>\n      <td>7555.2400</td>\n      <td>1764.00</td>\n      <td>537.60840</td>\n      <td>288.47280</td>\n      <td>163.845120</td>\n      <td>87.916894</td>\n      <td>47.174919</td>\n    </tr>\n    <tr>\n      <th>52</th>\n      <td>1000.0</td>\n      <td>43.0</td>\n      <td>11.9328</td>\n      <td>7.2772</td>\n      <td>1000000.00</td>\n      <td>43000.00</td>\n      <td>11932.8000</td>\n      <td>7277.2000</td>\n      <td>1849.00</td>\n      <td>513.11040</td>\n      <td>312.91960</td>\n      <td>142.391716</td>\n      <td>86.837372</td>\n      <td>52.957640</td>\n    </tr>\n    <tr>\n      <th>53</th>\n      <td>1100.0</td>\n      <td>43.0</td>\n      <td>12.5125</td>\n      <td>7.4165</td>\n      <td>1210000.00</td>\n      <td>47300.00</td>\n      <td>13763.7500</td>\n      <td>8158.1500</td>\n      <td>1849.00</td>\n      <td>538.03750</td>\n      <td>318.90950</td>\n      <td>156.562656</td>\n      <td>92.798956</td>\n      <td>55.004472</td>\n    </tr>\n    <tr>\n      <th>54</th>\n      <td>1000.0</td>\n      <td>43.5</td>\n      <td>12.6040</td>\n      <td>8.1420</td>\n      <td>1000000.00</td>\n      <td>43500.00</td>\n      <td>12604.0000</td>\n      <td>8142.0000</td>\n      <td>1892.25</td>\n      <td>548.27400</td>\n      <td>354.17700</td>\n      <td>158.860816</td>\n      <td>102.621768</td>\n      <td>66.292164</td>\n    </tr>\n    <tr>\n      <th>55</th>\n      <td>1000.0</td>\n      <td>44.0</td>\n      <td>12.4888</td>\n      <td>7.5958</td>\n      <td>1000000.00</td>\n      <td>44000.00</td>\n      <td>12488.8000</td>\n      <td>7595.8000</td>\n      <td>1936.00</td>\n      <td>549.50720</td>\n      <td>334.21520</td>\n      <td>155.970125</td>\n      <td>94.862427</td>\n      <td>57.696178</td>\n    </tr>\n  </tbody>\n</table>\n</div>"
     },
     "execution_count": 31,
     "metadata": {},
     "output_type": "execute_result"
    }
   ],
   "source": [
    "# n.array 형태로 나왔으니 그걸 데이터프레임의 형식으로 수정했다.\n",
    "poly_df = pd.DataFrame(poly_df, columns = poly.get_feature_names_out())\n",
    "poly_df"
   ],
   "metadata": {
    "collapsed": false,
    "ExecuteTime": {
     "end_time": "2024-03-02T04:52:20.604034Z",
     "start_time": "2024-03-02T04:52:20.542447Z"
    }
   },
   "id": "5d8f03fd11991401",
   "execution_count": 31
  },
  {
   "cell_type": "code",
   "outputs": [
    {
     "data": {
      "text/plain": "['Weight',\n 'Length',\n 'Height',\n 'Width',\n 'Weight^2',\n 'Weight Length',\n 'Weight Height',\n 'Weight Width',\n 'Length^2',\n 'Length Height',\n 'Length Width',\n 'Height^2',\n 'Height Width',\n 'Width^2']"
     },
     "execution_count": 32,
     "metadata": {},
     "output_type": "execute_result"
    }
   ],
   "source": [
    "col_list = poly_df.columns.tolist()\n",
    "col_list"
   ],
   "metadata": {
    "collapsed": false,
    "ExecuteTime": {
     "end_time": "2024-03-02T04:52:20.619789Z",
     "start_time": "2024-03-02T04:52:20.605456Z"
    }
   },
   "id": "a9c6a325205e8425",
   "execution_count": 32
  },
  {
   "cell_type": "code",
   "outputs": [
    {
     "name": "stdout",
     "output_type": "stream",
     "text": [
      "['Weight', 'Weight^2', 'Weight Length', 'Weight Height', 'Weight Width']\n"
     ]
    }
   ],
   "source": [
    "sample_list = []\n",
    "for col in col_list:\n",
    "    if 'Weight' in col:\n",
    "        sample_list.append(col)\n",
    "print(sample_list)"
   ],
   "metadata": {
    "collapsed": false,
    "ExecuteTime": {
     "end_time": "2024-03-02T04:52:20.635407Z",
     "start_time": "2024-03-02T04:52:20.621993Z"
    }
   },
   "id": "aca47f82d64ae7e0",
   "execution_count": 33
  },
  {
   "cell_type": "code",
   "outputs": [],
   "source": [],
   "metadata": {
    "collapsed": false,
    "ExecuteTime": {
     "end_time": "2024-03-02T04:52:20.651501Z",
     "start_time": "2024-03-02T04:52:20.637485Z"
    }
   },
   "id": "3b731c37bb6d9760",
   "execution_count": 33
  },
  {
   "cell_type": "code",
   "outputs": [],
   "source": [],
   "metadata": {
    "collapsed": false,
    "ExecuteTime": {
     "end_time": "2024-03-02T04:52:20.667447Z",
     "start_time": "2024-03-02T04:52:20.655487Z"
    }
   },
   "id": "53b05fc9962deceb",
   "execution_count": 33
  },
  {
   "cell_type": "code",
   "outputs": [],
   "source": [],
   "metadata": {
    "collapsed": false,
    "ExecuteTime": {
     "end_time": "2024-03-02T04:52:20.683128Z",
     "start_time": "2024-03-02T04:52:20.669441Z"
    }
   },
   "id": "de2daa9b12d1d03c",
   "execution_count": 33
  },
  {
   "cell_type": "markdown",
   "source": [
    "# [오늘 과제] auto-mpg 파일로 연비 예측해보는거 (예전에 했던거) 처음부터 끝까지 해보기"
   ],
   "metadata": {
    "collapsed": false
   },
   "id": "9272bd42481ed41"
  },
  {
   "cell_type": "markdown",
   "source": [],
   "metadata": {
    "collapsed": false
   },
   "id": "db14fe69422246cc"
  }
 ],
 "metadata": {
  "kernelspec": {
   "display_name": "Python 3",
   "language": "python",
   "name": "python3"
  },
  "language_info": {
   "codemirror_mode": {
    "name": "ipython",
    "version": 2
   },
   "file_extension": ".py",
   "mimetype": "text/x-python",
   "name": "python",
   "nbconvert_exporter": "python",
   "pygments_lexer": "ipython2",
   "version": "2.7.6"
  }
 },
 "nbformat": 4,
 "nbformat_minor": 5
}
