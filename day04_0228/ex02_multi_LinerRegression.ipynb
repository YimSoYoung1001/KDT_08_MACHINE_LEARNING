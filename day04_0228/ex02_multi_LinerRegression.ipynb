{
 "cells": [
  {
   "cell_type": "markdown",
   "source": [
    "### 목표 : 다중 속성/피쳐를 기반으로 수치값 예측\n",
    "- 데이터 : fish.csv\n",
    "- 피쳐 : 4개 Length, Diagonal, Height, Width\n",
    "- 타겟 : 수치값 Weight\n",
    "- 학습유형 : 지도학습 + 회귀\n",
    "- 알고리즘 : 데이터를 확인 후 결정"
   ],
   "metadata": {
    "collapsed": false
   },
   "id": "bfb11d957785b1cf"
  },
  {
   "cell_type": "markdown",
   "source": [
    "(1) 모듈 로딩 및 데이터 준비 <hr>"
   ],
   "metadata": {
    "collapsed": false
   },
   "id": "38950d4cb25820ee"
  },
  {
   "cell_type": "code",
   "outputs": [],
   "source": [
    "import pandas as pd\n",
    "import numpy as np\n",
    "import matplotlib.pyplot as plt\n",
    "from sklearn.model_selection import train_test_split\n",
    "from sklearn.preprocessing import StandardScaler, MinMaxScaler, RobustScaler"
   ],
   "metadata": {
    "collapsed": false,
    "ExecuteTime": {
     "end_time": "2024-02-28T06:35:47.824232700Z",
     "start_time": "2024-02-28T06:35:47.735830Z"
    }
   },
   "id": "1818ab2f744951f7",
   "execution_count": 318
  },
  {
   "cell_type": "code",
   "outputs": [
    {
     "data": {
      "text/plain": "    Weight  Length  Diagonal   Height   Width\n0      242    25.4      30.0  11.5200  4.0200\n1      290    26.3      31.2  12.4800  4.3056\n2      340    26.5      31.1  12.3778  4.6961\n3      363    29.0      33.5  12.7300  4.4555\n4      430    29.0      34.0  12.4440  5.1340\n5      450    29.7      34.7  13.6024  4.9274\n6      500    29.7      34.5  14.1795  5.2785\n7      390    30.0      35.0  12.6700  4.6900\n8      450    30.0      35.1  14.0049  4.8438\n9      500    30.7      36.2  14.2266  4.9594\n10     475    31.0      36.2  14.2628  5.1042\n11     500    31.0      36.2  14.3714  4.8146\n12     500    31.5      36.4  13.7592  4.3680\n13     340    32.0      37.3  13.9129  5.0728\n14     600    32.0      37.2  14.9544  5.1708\n15     600    32.0      37.2  15.4380  5.5800\n16     700    33.0      38.3  14.8604  5.2854\n17     700    33.0      38.5  14.9380  5.1975\n18     610    33.5      38.6  15.6330  5.1338\n19     650    33.5      38.7  14.4738  5.7276\n20     575    34.0      39.5  15.1285  5.5695\n21     685    34.0      39.2  15.9936  5.3704\n22     620    34.5      39.7  15.5227  5.2801\n23     680    35.0      40.6  15.4686  6.1306\n24     700    35.0      40.5  16.2405  5.5890\n25     725    35.0      40.9  16.3600  6.0532\n26     720    35.0      40.6  16.3618  6.0900\n27     714    36.0      41.5  16.5170  5.8515\n28     850    36.0      41.6  16.8896  6.1984\n29    1000    37.0      42.6  18.9570  6.6030\n30     920    38.5      44.1  18.0369  6.3063\n31     955    38.5      44.0  18.0840  6.2920\n32     925    39.5      45.3  18.7542  6.7497\n33     975    41.0      45.9  18.6354  6.7473\n34     950    41.0      46.5  17.6235  6.3705",
      "text/html": "<div>\n<style scoped>\n    .dataframe tbody tr th:only-of-type {\n        vertical-align: middle;\n    }\n\n    .dataframe tbody tr th {\n        vertical-align: top;\n    }\n\n    .dataframe thead th {\n        text-align: right;\n    }\n</style>\n<table border=\"1\" class=\"dataframe\">\n  <thead>\n    <tr style=\"text-align: right;\">\n      <th></th>\n      <th>Weight</th>\n      <th>Length</th>\n      <th>Diagonal</th>\n      <th>Height</th>\n      <th>Width</th>\n    </tr>\n  </thead>\n  <tbody>\n    <tr>\n      <th>0</th>\n      <td>242</td>\n      <td>25.4</td>\n      <td>30.0</td>\n      <td>11.5200</td>\n      <td>4.0200</td>\n    </tr>\n    <tr>\n      <th>1</th>\n      <td>290</td>\n      <td>26.3</td>\n      <td>31.2</td>\n      <td>12.4800</td>\n      <td>4.3056</td>\n    </tr>\n    <tr>\n      <th>2</th>\n      <td>340</td>\n      <td>26.5</td>\n      <td>31.1</td>\n      <td>12.3778</td>\n      <td>4.6961</td>\n    </tr>\n    <tr>\n      <th>3</th>\n      <td>363</td>\n      <td>29.0</td>\n      <td>33.5</td>\n      <td>12.7300</td>\n      <td>4.4555</td>\n    </tr>\n    <tr>\n      <th>4</th>\n      <td>430</td>\n      <td>29.0</td>\n      <td>34.0</td>\n      <td>12.4440</td>\n      <td>5.1340</td>\n    </tr>\n    <tr>\n      <th>5</th>\n      <td>450</td>\n      <td>29.7</td>\n      <td>34.7</td>\n      <td>13.6024</td>\n      <td>4.9274</td>\n    </tr>\n    <tr>\n      <th>6</th>\n      <td>500</td>\n      <td>29.7</td>\n      <td>34.5</td>\n      <td>14.1795</td>\n      <td>5.2785</td>\n    </tr>\n    <tr>\n      <th>7</th>\n      <td>390</td>\n      <td>30.0</td>\n      <td>35.0</td>\n      <td>12.6700</td>\n      <td>4.6900</td>\n    </tr>\n    <tr>\n      <th>8</th>\n      <td>450</td>\n      <td>30.0</td>\n      <td>35.1</td>\n      <td>14.0049</td>\n      <td>4.8438</td>\n    </tr>\n    <tr>\n      <th>9</th>\n      <td>500</td>\n      <td>30.7</td>\n      <td>36.2</td>\n      <td>14.2266</td>\n      <td>4.9594</td>\n    </tr>\n    <tr>\n      <th>10</th>\n      <td>475</td>\n      <td>31.0</td>\n      <td>36.2</td>\n      <td>14.2628</td>\n      <td>5.1042</td>\n    </tr>\n    <tr>\n      <th>11</th>\n      <td>500</td>\n      <td>31.0</td>\n      <td>36.2</td>\n      <td>14.3714</td>\n      <td>4.8146</td>\n    </tr>\n    <tr>\n      <th>12</th>\n      <td>500</td>\n      <td>31.5</td>\n      <td>36.4</td>\n      <td>13.7592</td>\n      <td>4.3680</td>\n    </tr>\n    <tr>\n      <th>13</th>\n      <td>340</td>\n      <td>32.0</td>\n      <td>37.3</td>\n      <td>13.9129</td>\n      <td>5.0728</td>\n    </tr>\n    <tr>\n      <th>14</th>\n      <td>600</td>\n      <td>32.0</td>\n      <td>37.2</td>\n      <td>14.9544</td>\n      <td>5.1708</td>\n    </tr>\n    <tr>\n      <th>15</th>\n      <td>600</td>\n      <td>32.0</td>\n      <td>37.2</td>\n      <td>15.4380</td>\n      <td>5.5800</td>\n    </tr>\n    <tr>\n      <th>16</th>\n      <td>700</td>\n      <td>33.0</td>\n      <td>38.3</td>\n      <td>14.8604</td>\n      <td>5.2854</td>\n    </tr>\n    <tr>\n      <th>17</th>\n      <td>700</td>\n      <td>33.0</td>\n      <td>38.5</td>\n      <td>14.9380</td>\n      <td>5.1975</td>\n    </tr>\n    <tr>\n      <th>18</th>\n      <td>610</td>\n      <td>33.5</td>\n      <td>38.6</td>\n      <td>15.6330</td>\n      <td>5.1338</td>\n    </tr>\n    <tr>\n      <th>19</th>\n      <td>650</td>\n      <td>33.5</td>\n      <td>38.7</td>\n      <td>14.4738</td>\n      <td>5.7276</td>\n    </tr>\n    <tr>\n      <th>20</th>\n      <td>575</td>\n      <td>34.0</td>\n      <td>39.5</td>\n      <td>15.1285</td>\n      <td>5.5695</td>\n    </tr>\n    <tr>\n      <th>21</th>\n      <td>685</td>\n      <td>34.0</td>\n      <td>39.2</td>\n      <td>15.9936</td>\n      <td>5.3704</td>\n    </tr>\n    <tr>\n      <th>22</th>\n      <td>620</td>\n      <td>34.5</td>\n      <td>39.7</td>\n      <td>15.5227</td>\n      <td>5.2801</td>\n    </tr>\n    <tr>\n      <th>23</th>\n      <td>680</td>\n      <td>35.0</td>\n      <td>40.6</td>\n      <td>15.4686</td>\n      <td>6.1306</td>\n    </tr>\n    <tr>\n      <th>24</th>\n      <td>700</td>\n      <td>35.0</td>\n      <td>40.5</td>\n      <td>16.2405</td>\n      <td>5.5890</td>\n    </tr>\n    <tr>\n      <th>25</th>\n      <td>725</td>\n      <td>35.0</td>\n      <td>40.9</td>\n      <td>16.3600</td>\n      <td>6.0532</td>\n    </tr>\n    <tr>\n      <th>26</th>\n      <td>720</td>\n      <td>35.0</td>\n      <td>40.6</td>\n      <td>16.3618</td>\n      <td>6.0900</td>\n    </tr>\n    <tr>\n      <th>27</th>\n      <td>714</td>\n      <td>36.0</td>\n      <td>41.5</td>\n      <td>16.5170</td>\n      <td>5.8515</td>\n    </tr>\n    <tr>\n      <th>28</th>\n      <td>850</td>\n      <td>36.0</td>\n      <td>41.6</td>\n      <td>16.8896</td>\n      <td>6.1984</td>\n    </tr>\n    <tr>\n      <th>29</th>\n      <td>1000</td>\n      <td>37.0</td>\n      <td>42.6</td>\n      <td>18.9570</td>\n      <td>6.6030</td>\n    </tr>\n    <tr>\n      <th>30</th>\n      <td>920</td>\n      <td>38.5</td>\n      <td>44.1</td>\n      <td>18.0369</td>\n      <td>6.3063</td>\n    </tr>\n    <tr>\n      <th>31</th>\n      <td>955</td>\n      <td>38.5</td>\n      <td>44.0</td>\n      <td>18.0840</td>\n      <td>6.2920</td>\n    </tr>\n    <tr>\n      <th>32</th>\n      <td>925</td>\n      <td>39.5</td>\n      <td>45.3</td>\n      <td>18.7542</td>\n      <td>6.7497</td>\n    </tr>\n    <tr>\n      <th>33</th>\n      <td>975</td>\n      <td>41.0</td>\n      <td>45.9</td>\n      <td>18.6354</td>\n      <td>6.7473</td>\n    </tr>\n    <tr>\n      <th>34</th>\n      <td>950</td>\n      <td>41.0</td>\n      <td>46.5</td>\n      <td>17.6235</td>\n      <td>6.3705</td>\n    </tr>\n  </tbody>\n</table>\n</div>"
     },
     "execution_count": 319,
     "metadata": {},
     "output_type": "execute_result"
    }
   ],
   "source": [
    "# 데이터 준비\n",
    "data_file = '../data/fish.csv'\n",
    "\n",
    "# Bream행만 추출 => 35개 행만 추출\n",
    "dataDF = pd.read_csv(data_file, nrows = 35, usecols = [1, 2, 3, 4, 5])\n",
    "dataDF"
   ],
   "metadata": {
    "collapsed": false,
    "ExecuteTime": {
     "end_time": "2024-02-28T06:35:47.858757Z",
     "start_time": "2024-02-28T06:35:47.813609500Z"
    }
   },
   "id": "2f6b56138b793983",
   "execution_count": 319
  },
  {
   "cell_type": "code",
   "outputs": [
    {
     "name": "stdout",
     "output_type": "stream",
     "text": [
      "<class 'pandas.core.frame.DataFrame'>\n",
      "RangeIndex: 35 entries, 0 to 34\n",
      "Data columns (total 5 columns):\n",
      " #   Column    Non-Null Count  Dtype  \n",
      "---  ------    --------------  -----  \n",
      " 0   Weight    35 non-null     int64  \n",
      " 1   Length    35 non-null     float64\n",
      " 2   Diagonal  35 non-null     float64\n",
      " 3   Height    35 non-null     float64\n",
      " 4   Width     35 non-null     float64\n",
      "dtypes: float64(4), int64(1)\n",
      "memory usage: 1.5 KB\n"
     ]
    }
   ],
   "source": [
    "# 기본정보\n",
    "dataDF.info()"
   ],
   "metadata": {
    "collapsed": false,
    "ExecuteTime": {
     "end_time": "2024-02-28T06:35:47.878646500Z",
     "start_time": "2024-02-28T06:35:47.844038800Z"
    }
   },
   "id": "e6d042104a23b079",
   "execution_count": 320
  },
  {
   "cell_type": "markdown",
   "source": [
    "(2) 데이터 확인 <hr>"
   ],
   "metadata": {
    "collapsed": false
   },
   "id": "896e5caeaa50d60c"
  },
  {
   "cell_type": "markdown",
   "source": [
    "- 타겟과 피쳐 사이의 관계 => 상관계수, 시각화"
   ],
   "metadata": {
    "collapsed": false
   },
   "id": "b250ece06a51e20a"
  },
  {
   "cell_type": "code",
   "outputs": [],
   "source": [
    "# 함수기능 : 피처와 타겟과의 관계 정도를 시각화 및 수치값으로 표기 및 출력\n",
    "# 매개변수 : 행수, 열수, 타겟, 피쳐 리스트, 상관계수값\n",
    "# 반환 : 없음\n",
    "def print_feature(nrows, ncols, df, target, features, corrs):\n",
    "    # idx를 결정하는 것은 피쳐의 수다.\n",
    "    for idx in range(len(features)):\n",
    "        #인덱스는 0번 부터 시작하니까 +1 해주어야 함\n",
    "        plt.subplot(nrows, ncols, idx+1)\n",
    "        \n",
    "        #타겟과 나머지 피쳐들이 for문 돌면서 순서대로 들어감\n",
    "        #corr은 라벨을 설정하기 위해서 넣어줌 (범례)\n",
    "        plt.scatter(df[target], df[features[idx]], label = f\"{corrs[idx]:.2}\") \n",
    "\n",
    "        plt.legend()\n",
    "        plt.xlabel(target)\n",
    "        plt.ylabel(features[idx])\n",
    "        \n",
    "    plt.tight_layout()  #표들끼리 겹치지 않게끔 해준다\n",
    "    plt.show()"
   ],
   "metadata": {
    "collapsed": false,
    "ExecuteTime": {
     "end_time": "2024-02-28T06:35:47.935294200Z",
     "start_time": "2024-02-28T06:35:47.857758100Z"
    }
   },
   "id": "6e9afc3552e7988a",
   "execution_count": 321
  },
  {
   "cell_type": "code",
   "outputs": [
    {
     "data": {
      "text/plain": "Index(['Length', 'Diagonal', 'Height', 'Width'], dtype='object')"
     },
     "execution_count": 322,
     "metadata": {},
     "output_type": "execute_result"
    }
   ],
   "source": [
    "dataDF.columns[1:] \n",
    "# 컬럼 다 필요한것이 아니라 필요한게 정해져 있다."
   ],
   "metadata": {
    "collapsed": false,
    "ExecuteTime": {
     "end_time": "2024-02-28T06:35:47.946910Z",
     "start_time": "2024-02-28T06:35:47.872462500Z"
    }
   },
   "id": "b567a7c71369e167",
   "execution_count": 322
  },
  {
   "cell_type": "code",
   "outputs": [
    {
     "data": {
      "text/plain": "Weight      1.000000\nLength      0.946256\nDiagonal    0.947136\nHeight      0.964528\nWidth       0.925303\nName: Weight, dtype: float64"
     },
     "execution_count": 323,
     "metadata": {},
     "output_type": "execute_result"
    }
   ],
   "source": [
    "dataDF.corr()['Weight']\n",
    "# 상관계수에서 필요한 것은 이부분"
   ],
   "metadata": {
    "collapsed": false,
    "ExecuteTime": {
     "end_time": "2024-02-28T06:35:47.947908200Z",
     "start_time": "2024-02-28T06:35:47.890158500Z"
    }
   },
   "id": "c22547ad7f363a95",
   "execution_count": 323
  },
  {
   "cell_type": "code",
   "outputs": [
    {
     "data": {
      "text/plain": "[0.9462561265460506, 0.947135878863793, 0.9645275374662504, 0.9253033105453]"
     },
     "execution_count": 324,
     "metadata": {},
     "output_type": "execute_result"
    }
   ],
   "source": [
    "# 위에서 구한 상관계수 table에서 값만 뽑아서 리스트에 담아보자\n",
    "corrList = dataDF.corr()['Weight'].to_list()\n",
    "corrList[1:]"
   ],
   "metadata": {
    "collapsed": false,
    "ExecuteTime": {
     "end_time": "2024-02-28T06:35:48.005029900Z",
     "start_time": "2024-02-28T06:35:47.952025400Z"
    }
   },
   "id": "42ccc210c3c2bb35",
   "execution_count": 324
  },
  {
   "cell_type": "code",
   "outputs": [
    {
     "data": {
      "text/plain": "<Figure size 640x480 with 4 Axes>",
      "image/png": "[encoded data removed]"
     },
     "metadata": {},
     "output_type": "display_data"
    }
   ],
   "source": [
    "print_feature(2, 2, dataDF, dataDF.columns[0], dataDF.columns[1:], corrList[1:])\n",
    "\n",
    "# 이쁜 형태로 선형관계가 보인다\n",
    "# 이제 모델을 만들어보자!"
   ],
   "metadata": {
    "collapsed": false,
    "ExecuteTime": {
     "end_time": "2024-02-28T06:35:48.331479600Z",
     "start_time": "2024-02-28T06:35:48.007133Z"
    }
   },
   "id": "abcc1d6e329f074",
   "execution_count": 325
  },
  {
   "cell_type": "markdown",
   "source": [
    "(3) 학습 준비 <hr>\n",
    "- 학습 알고리즘 : 양의 선형관계 파악됨 => 선형 모델\n",
    "- 학습 데이터 준비 : 피처 - 타겟 분리, 학습용 데이터셋 - 테스트용 데이터셋\n",
    "- 스케일링 왜 함? ==> 피쳐들 사이의 값의 범위의 차이가 클때 해줌!\n",
    "- 피쳐 값의 범위 비교 : 작은 범위의 최대값 8 <~> 큰 범위 최대값 50 ===> 피처 스케일링해주자"
   ],
   "metadata": {
    "collapsed": false
   },
   "id": "990dbf38335d601a"
  },
  {
   "cell_type": "markdown",
   "source": [
    "(3-1) 학습 데이터 분리 => 피쳐 - 타겟, 학습용 데이터 셋 - 테스트용 데이터셋"
   ],
   "metadata": {
    "collapsed": false
   },
   "id": "ea4118dd50e30cd5"
  },
  {
   "cell_type": "code",
   "outputs": [],
   "source": [
    "from sklearn.model_selection import train_test_split\n",
    "from sklearn.preprocessing import StandardScaler, MinMaxScaler, RobustScaler"
   ],
   "metadata": {
    "collapsed": false,
    "ExecuteTime": {
     "end_time": "2024-02-28T06:35:48.333541600Z",
     "start_time": "2024-02-28T06:35:48.329104400Z"
    }
   },
   "id": "a3c5f52c1d5e4fa7",
   "execution_count": 326
  },
  {
   "cell_type": "code",
   "outputs": [
    {
     "data": {
      "text/plain": "   Length  Diagonal  Height   Width\n0    25.4      30.0   11.52  4.0200\n1    26.3      31.2   12.48  4.3056",
      "text/html": "<div>\n<style scoped>\n    .dataframe tbody tr th:only-of-type {\n        vertical-align: middle;\n    }\n\n    .dataframe tbody tr th {\n        vertical-align: top;\n    }\n\n    .dataframe thead th {\n        text-align: right;\n    }\n</style>\n<table border=\"1\" class=\"dataframe\">\n  <thead>\n    <tr style=\"text-align: right;\">\n      <th></th>\n      <th>Length</th>\n      <th>Diagonal</th>\n      <th>Height</th>\n      <th>Width</th>\n    </tr>\n  </thead>\n  <tbody>\n    <tr>\n      <th>0</th>\n      <td>25.4</td>\n      <td>30.0</td>\n      <td>11.52</td>\n      <td>4.0200</td>\n    </tr>\n    <tr>\n      <th>1</th>\n      <td>26.3</td>\n      <td>31.2</td>\n      <td>12.48</td>\n      <td>4.3056</td>\n    </tr>\n  </tbody>\n</table>\n</div>"
     },
     "execution_count": 327,
     "metadata": {},
     "output_type": "execute_result"
    }
   ],
   "source": [
    "# 피처와 타겟 분리\n",
    "featureDF = dataDF[dataDF.columns[1:]]\n",
    "featureDF.head(2)"
   ],
   "metadata": {
    "collapsed": false,
    "ExecuteTime": {
     "end_time": "2024-02-28T06:35:48.363033500Z",
     "start_time": "2024-02-28T06:35:48.338749300Z"
    }
   },
   "id": "9143dfaa4f982a9",
   "execution_count": 327
  },
  {
   "cell_type": "code",
   "outputs": [
    {
     "data": {
      "text/plain": "0    242\n1    290\nName: Weight, dtype: int64"
     },
     "execution_count": 328,
     "metadata": {},
     "output_type": "execute_result"
    }
   ],
   "source": [
    "targetDF = dataDF[dataDF.columns[0]]\n",
    "targetDF.head(2)"
   ],
   "metadata": {
    "collapsed": false,
    "ExecuteTime": {
     "end_time": "2024-02-28T06:35:48.383543900Z",
     "start_time": "2024-02-28T06:35:48.352423300Z"
    }
   },
   "id": "f1e8007b4587e831",
   "execution_count": 328
  },
  {
   "cell_type": "code",
   "outputs": [],
   "source": [
    "# 데이터셋 준비\n",
    "X_train, X_test, y_train, y_test = train_test_split(featureDF, targetDF, test_size = 0.3, random_state = 10)\n",
    "# - random_state는 주고 싶은 값 주면 됨\n",
    "# - 기본 사이즈 비율은 75:25, 설정하고 싶다면 파라미터에 값을 부여하면 된다.\n",
    "#   여기서는 test를 0.3으로 하자, 그러면 자동으로 train은 1-0.3인 0.7이 된다.\n",
    "# - 분류 라면 표본을 섞어줘야하기때문에 stratify를 해야하지만 이거는 선형모델이라 필요없다."
   ],
   "metadata": {
    "collapsed": false,
    "ExecuteTime": {
     "end_time": "2024-02-28T06:35:48.429808800Z",
     "start_time": "2024-02-28T06:35:48.369694300Z"
    }
   },
   "id": "da64dd1214919959",
   "execution_count": 329
  },
  {
   "cell_type": "code",
   "outputs": [
    {
     "name": "stdout",
     "output_type": "stream",
     "text": [
      "[훈련용] X_train : (24, 4), y_train : (24,)\n",
      "[테스트용] X_test : (11, 4), y_test : (11,)\n"
     ]
    }
   ],
   "source": [
    "print(f'[훈련용] X_train : {X_train.shape}, y_train : {y_train.shape}')\n",
    "print(f'[테스트용] X_test : {X_test.shape}, y_test : {y_test.shape}')"
   ],
   "metadata": {
    "collapsed": false,
    "ExecuteTime": {
     "end_time": "2024-02-28T06:35:48.430890300Z",
     "start_time": "2024-02-28T06:35:48.382457600Z"
    }
   },
   "id": "48fa9314ce534fea",
   "execution_count": 330
  },
  {
   "cell_type": "markdown",
   "source": [
    "(3-2) 피처 스케일링  ==> 훈련 데이터로 생성"
   ],
   "metadata": {
    "collapsed": false
   },
   "id": "1573580f28cc074f"
  },
  {
   "cell_type": "code",
   "outputs": [
    {
     "data": {
      "text/plain": "StandardScaler()",
      "text/html": "<style>#sk-container-id-32 {color: black;}#sk-container-id-32 pre{padding: 0;}#sk-container-id-32 div.sk-toggleable {background-color: white;}#sk-container-id-32 label.sk-toggleable__label {cursor: pointer;display: block;width: 100%;margin-bottom: 0;padding: 0.3em;box-sizing: border-box;text-align: center;}#sk-container-id-32 label.sk-toggleable__label-arrow:before {content: \"▸\";float: left;margin-right: 0.25em;color: #696969;}#sk-container-id-32 label.sk-toggleable__label-arrow:hover:before {color: black;}#sk-container-id-32 div.sk-estimator:hover label.sk-toggleable__label-arrow:before {color: black;}#sk-container-id-32 div.sk-toggleable__content {max-height: 0;max-width: 0;overflow: hidden;text-align: left;background-color: #f0f8ff;}#sk-container-id-32 div.sk-toggleable__content pre {margin: 0.2em;color: black;border-radius: 0.25em;background-color: #f0f8ff;}#sk-container-id-32 input.sk-toggleable__control:checked~div.sk-toggleable__content {max-height: 200px;max-width: 100%;overflow: auto;}#sk-container-id-32 input.sk-toggleable__control:checked~label.sk-toggleable__label-arrow:before {content: \"▾\";}#sk-container-id-32 div.sk-estimator input.sk-toggleable__control:checked~label.sk-toggleable__label {background-color: #d4ebff;}#sk-container-id-32 div.sk-label input.sk-toggleable__control:checked~label.sk-toggleable__label {background-color: #d4ebff;}#sk-container-id-32 input.sk-hidden--visually {border: 0;clip: rect(1px 1px 1px 1px);clip: rect(1px, 1px, 1px, 1px);height: 1px;margin: -1px;overflow: hidden;padding: 0;position: absolute;width: 1px;}#sk-container-id-32 div.sk-estimator {font-family: monospace;background-color: #f0f8ff;border: 1px dotted black;border-radius: 0.25em;box-sizing: border-box;margin-bottom: 0.5em;}#sk-container-id-32 div.sk-estimator:hover {background-color: #d4ebff;}#sk-container-id-32 div.sk-parallel-item::after {content: \"\";width: 100%;border-bottom: 1px solid gray;flex-grow: 1;}#sk-container-id-32 div.sk-label:hover label.sk-toggleable__label {background-color: #d4ebff;}#sk-container-id-32 div.sk-serial::before {content: \"\";position: absolute;border-left: 1px solid gray;box-sizing: border-box;top: 0;bottom: 0;left: 50%;z-index: 0;}#sk-container-id-32 div.sk-serial {display: flex;flex-direction: column;align-items: center;background-color: white;padding-right: 0.2em;padding-left: 0.2em;position: relative;}#sk-container-id-32 div.sk-item {position: relative;z-index: 1;}#sk-container-id-32 div.sk-parallel {display: flex;align-items: stretch;justify-content: center;background-color: white;position: relative;}#sk-container-id-32 div.sk-item::before, #sk-container-id-32 div.sk-parallel-item::before {content: \"\";position: absolute;border-left: 1px solid gray;box-sizing: border-box;top: 0;bottom: 0;left: 50%;z-index: -1;}#sk-container-id-32 div.sk-parallel-item {display: flex;flex-direction: column;z-index: 1;position: relative;background-color: white;}#sk-container-id-32 div.sk-parallel-item:first-child::after {align-self: flex-end;width: 50%;}#sk-container-id-32 div.sk-parallel-item:last-child::after {align-self: flex-start;width: 50%;}#sk-container-id-32 div.sk-parallel-item:only-child::after {width: 0;}#sk-container-id-32 div.sk-dashed-wrapped {border: 1px dashed gray;margin: 0 0.4em 0.5em 0.4em;box-sizing: border-box;padding-bottom: 0.4em;background-color: white;}#sk-container-id-32 div.sk-label label {font-family: monospace;font-weight: bold;display: inline-block;line-height: 1.2em;}#sk-container-id-32 div.sk-label-container {text-align: center;}#sk-container-id-32 div.sk-container {/* jupyter's `normalize.less` sets `[hidden] { display: none; }` but bootstrap.min.css set `[hidden] { display: none !important; }` so we also need the `!important` here to be able to override the default hidden behavior on the sphinx rendered scikit-learn.org. See: https://github.com/scikit-learn/scikit-learn/issues/21755 */display: inline-block !important;position: relative;}#sk-container-id-32 div.sk-text-repr-fallback {display: none;}</style><div id=\"sk-container-id-32\" class=\"sk-top-container\"><div class=\"sk-text-repr-fallback\"><pre>StandardScaler()</pre><b>In a Jupyter environment, please rerun this cell to show the HTML representation or trust the notebook. <br />On GitHub, the HTML representation is unable to render, please try loading this page with nbviewer.org.</b></div><div class=\"sk-container\" hidden><div class=\"sk-item\"><div class=\"sk-estimator sk-toggleable\"><input class=\"sk-toggleable__control sk-hidden--visually\" id=\"sk-estimator-id-32\" type=\"checkbox\" checked><label for=\"sk-estimator-id-32\" class=\"sk-toggleable__label sk-toggleable__label-arrow\">StandardScaler</label><div class=\"sk-toggleable__content\"><pre>StandardScaler()</pre></div></div></div></div></div>"
     },
     "execution_count": 331,
     "metadata": {},
     "output_type": "execute_result"
    }
   ],
   "source": [
    "std_scaler = StandardScaler()\n",
    "std_scaler.fit(X_train)"
   ],
   "metadata": {
    "collapsed": false,
    "ExecuteTime": {
     "end_time": "2024-02-28T06:35:48.431987100Z",
     "start_time": "2024-02-28T06:35:48.397398500Z"
    }
   },
   "id": "947b85dd42691f5e",
   "execution_count": 331
  },
  {
   "cell_type": "code",
   "outputs": [
    {
     "data": {
      "text/plain": "MinMaxScaler()",
      "text/html": "<style>#sk-container-id-33 {color: black;}#sk-container-id-33 pre{padding: 0;}#sk-container-id-33 div.sk-toggleable {background-color: white;}#sk-container-id-33 label.sk-toggleable__label {cursor: pointer;display: block;width: 100%;margin-bottom: 0;padding: 0.3em;box-sizing: border-box;text-align: center;}#sk-container-id-33 label.sk-toggleable__label-arrow:before {content: \"▸\";float: left;margin-right: 0.25em;color: #696969;}#sk-container-id-33 label.sk-toggleable__label-arrow:hover:before {color: black;}#sk-container-id-33 div.sk-estimator:hover label.sk-toggleable__label-arrow:before {color: black;}#sk-container-id-33 div.sk-toggleable__content {max-height: 0;max-width: 0;overflow: hidden;text-align: left;background-color: #f0f8ff;}#sk-container-id-33 div.sk-toggleable__content pre {margin: 0.2em;color: black;border-radius: 0.25em;background-color: #f0f8ff;}#sk-container-id-33 input.sk-toggleable__control:checked~div.sk-toggleable__content {max-height: 200px;max-width: 100%;overflow: auto;}#sk-container-id-33 input.sk-toggleable__control:checked~label.sk-toggleable__label-arrow:before {content: \"▾\";}#sk-container-id-33 div.sk-estimator input.sk-toggleable__control:checked~label.sk-toggleable__label {background-color: #d4ebff;}#sk-container-id-33 div.sk-label input.sk-toggleable__control:checked~label.sk-toggleable__label {background-color: #d4ebff;}#sk-container-id-33 input.sk-hidden--visually {border: 0;clip: rect(1px 1px 1px 1px);clip: rect(1px, 1px, 1px, 1px);height: 1px;margin: -1px;overflow: hidden;padding: 0;position: absolute;width: 1px;}#sk-container-id-33 div.sk-estimator {font-family: monospace;background-color: #f0f8ff;border: 1px dotted black;border-radius: 0.25em;box-sizing: border-box;margin-bottom: 0.5em;}#sk-container-id-33 div.sk-estimator:hover {background-color: #d4ebff;}#sk-container-id-33 div.sk-parallel-item::after {content: \"\";width: 100%;border-bottom: 1px solid gray;flex-grow: 1;}#sk-container-id-33 div.sk-label:hover label.sk-toggleable__label {background-color: #d4ebff;}#sk-container-id-33 div.sk-serial::before {content: \"\";position: absolute;border-left: 1px solid gray;box-sizing: border-box;top: 0;bottom: 0;left: 50%;z-index: 0;}#sk-container-id-33 div.sk-serial {display: flex;flex-direction: column;align-items: center;background-color: white;padding-right: 0.2em;padding-left: 0.2em;position: relative;}#sk-container-id-33 div.sk-item {position: relative;z-index: 1;}#sk-container-id-33 div.sk-parallel {display: flex;align-items: stretch;justify-content: center;background-color: white;position: relative;}#sk-container-id-33 div.sk-item::before, #sk-container-id-33 div.sk-parallel-item::before {content: \"\";position: absolute;border-left: 1px solid gray;box-sizing: border-box;top: 0;bottom: 0;left: 50%;z-index: -1;}#sk-container-id-33 div.sk-parallel-item {display: flex;flex-direction: column;z-index: 1;position: relative;background-color: white;}#sk-container-id-33 div.sk-parallel-item:first-child::after {align-self: flex-end;width: 50%;}#sk-container-id-33 div.sk-parallel-item:last-child::after {align-self: flex-start;width: 50%;}#sk-container-id-33 div.sk-parallel-item:only-child::after {width: 0;}#sk-container-id-33 div.sk-dashed-wrapped {border: 1px dashed gray;margin: 0 0.4em 0.5em 0.4em;box-sizing: border-box;padding-bottom: 0.4em;background-color: white;}#sk-container-id-33 div.sk-label label {font-family: monospace;font-weight: bold;display: inline-block;line-height: 1.2em;}#sk-container-id-33 div.sk-label-container {text-align: center;}#sk-container-id-33 div.sk-container {/* jupyter's `normalize.less` sets `[hidden] { display: none; }` but bootstrap.min.css set `[hidden] { display: none !important; }` so we also need the `!important` here to be able to override the default hidden behavior on the sphinx rendered scikit-learn.org. See: https://github.com/scikit-learn/scikit-learn/issues/21755 */display: inline-block !important;position: relative;}#sk-container-id-33 div.sk-text-repr-fallback {display: none;}</style><div id=\"sk-container-id-33\" class=\"sk-top-container\"><div class=\"sk-text-repr-fallback\"><pre>MinMaxScaler()</pre><b>In a Jupyter environment, please rerun this cell to show the HTML representation or trust the notebook. <br />On GitHub, the HTML representation is unable to render, please try loading this page with nbviewer.org.</b></div><div class=\"sk-container\" hidden><div class=\"sk-item\"><div class=\"sk-estimator sk-toggleable\"><input class=\"sk-toggleable__control sk-hidden--visually\" id=\"sk-estimator-id-33\" type=\"checkbox\" checked><label for=\"sk-estimator-id-33\" class=\"sk-toggleable__label sk-toggleable__label-arrow\">MinMaxScaler</label><div class=\"sk-toggleable__content\"><pre>MinMaxScaler()</pre></div></div></div></div></div>"
     },
     "execution_count": 332,
     "metadata": {},
     "output_type": "execute_result"
    }
   ],
   "source": [
    "mm_scaler = MinMaxScaler()\n",
    "mm_scaler.fit(X_train)"
   ],
   "metadata": {
    "collapsed": false,
    "ExecuteTime": {
     "end_time": "2024-02-28T06:35:48.451849400Z",
     "start_time": "2024-02-28T06:35:48.415157600Z"
    }
   },
   "id": "ee3a074abb37416c",
   "execution_count": 332
  },
  {
   "cell_type": "code",
   "outputs": [
    {
     "data": {
      "text/plain": "RobustScaler()",
      "text/html": "<style>#sk-container-id-34 {color: black;}#sk-container-id-34 pre{padding: 0;}#sk-container-id-34 div.sk-toggleable {background-color: white;}#sk-container-id-34 label.sk-toggleable__label {cursor: pointer;display: block;width: 100%;margin-bottom: 0;padding: 0.3em;box-sizing: border-box;text-align: center;}#sk-container-id-34 label.sk-toggleable__label-arrow:before {content: \"▸\";float: left;margin-right: 0.25em;color: #696969;}#sk-container-id-34 label.sk-toggleable__label-arrow:hover:before {color: black;}#sk-container-id-34 div.sk-estimator:hover label.sk-toggleable__label-arrow:before {color: black;}#sk-container-id-34 div.sk-toggleable__content {max-height: 0;max-width: 0;overflow: hidden;text-align: left;background-color: #f0f8ff;}#sk-container-id-34 div.sk-toggleable__content pre {margin: 0.2em;color: black;border-radius: 0.25em;background-color: #f0f8ff;}#sk-container-id-34 input.sk-toggleable__control:checked~div.sk-toggleable__content {max-height: 200px;max-width: 100%;overflow: auto;}#sk-container-id-34 input.sk-toggleable__control:checked~label.sk-toggleable__label-arrow:before {content: \"▾\";}#sk-container-id-34 div.sk-estimator input.sk-toggleable__control:checked~label.sk-toggleable__label {background-color: #d4ebff;}#sk-container-id-34 div.sk-label input.sk-toggleable__control:checked~label.sk-toggleable__label {background-color: #d4ebff;}#sk-container-id-34 input.sk-hidden--visually {border: 0;clip: rect(1px 1px 1px 1px);clip: rect(1px, 1px, 1px, 1px);height: 1px;margin: -1px;overflow: hidden;padding: 0;position: absolute;width: 1px;}#sk-container-id-34 div.sk-estimator {font-family: monospace;background-color: #f0f8ff;border: 1px dotted black;border-radius: 0.25em;box-sizing: border-box;margin-bottom: 0.5em;}#sk-container-id-34 div.sk-estimator:hover {background-color: #d4ebff;}#sk-container-id-34 div.sk-parallel-item::after {content: \"\";width: 100%;border-bottom: 1px solid gray;flex-grow: 1;}#sk-container-id-34 div.sk-label:hover label.sk-toggleable__label {background-color: #d4ebff;}#sk-container-id-34 div.sk-serial::before {content: \"\";position: absolute;border-left: 1px solid gray;box-sizing: border-box;top: 0;bottom: 0;left: 50%;z-index: 0;}#sk-container-id-34 div.sk-serial {display: flex;flex-direction: column;align-items: center;background-color: white;padding-right: 0.2em;padding-left: 0.2em;position: relative;}#sk-container-id-34 div.sk-item {position: relative;z-index: 1;}#sk-container-id-34 div.sk-parallel {display: flex;align-items: stretch;justify-content: center;background-color: white;position: relative;}#sk-container-id-34 div.sk-item::before, #sk-container-id-34 div.sk-parallel-item::before {content: \"\";position: absolute;border-left: 1px solid gray;box-sizing: border-box;top: 0;bottom: 0;left: 50%;z-index: -1;}#sk-container-id-34 div.sk-parallel-item {display: flex;flex-direction: column;z-index: 1;position: relative;background-color: white;}#sk-container-id-34 div.sk-parallel-item:first-child::after {align-self: flex-end;width: 50%;}#sk-container-id-34 div.sk-parallel-item:last-child::after {align-self: flex-start;width: 50%;}#sk-container-id-34 div.sk-parallel-item:only-child::after {width: 0;}#sk-container-id-34 div.sk-dashed-wrapped {border: 1px dashed gray;margin: 0 0.4em 0.5em 0.4em;box-sizing: border-box;padding-bottom: 0.4em;background-color: white;}#sk-container-id-34 div.sk-label label {font-family: monospace;font-weight: bold;display: inline-block;line-height: 1.2em;}#sk-container-id-34 div.sk-label-container {text-align: center;}#sk-container-id-34 div.sk-container {/* jupyter's `normalize.less` sets `[hidden] { display: none; }` but bootstrap.min.css set `[hidden] { display: none !important; }` so we also need the `!important` here to be able to override the default hidden behavior on the sphinx rendered scikit-learn.org. See: https://github.com/scikit-learn/scikit-learn/issues/21755 */display: inline-block !important;position: relative;}#sk-container-id-34 div.sk-text-repr-fallback {display: none;}</style><div id=\"sk-container-id-34\" class=\"sk-top-container\"><div class=\"sk-text-repr-fallback\"><pre>RobustScaler()</pre><b>In a Jupyter environment, please rerun this cell to show the HTML representation or trust the notebook. <br />On GitHub, the HTML representation is unable to render, please try loading this page with nbviewer.org.</b></div><div class=\"sk-container\" hidden><div class=\"sk-item\"><div class=\"sk-estimator sk-toggleable\"><input class=\"sk-toggleable__control sk-hidden--visually\" id=\"sk-estimator-id-34\" type=\"checkbox\" checked><label for=\"sk-estimator-id-34\" class=\"sk-toggleable__label sk-toggleable__label-arrow\">RobustScaler</label><div class=\"sk-toggleable__content\"><pre>RobustScaler()</pre></div></div></div></div></div>"
     },
     "execution_count": 333,
     "metadata": {},
     "output_type": "execute_result"
    }
   ],
   "source": [
    "rb_scaler = RobustScaler()\n",
    "rb_scaler.fit(X_train)"
   ],
   "metadata": {
    "collapsed": false,
    "ExecuteTime": {
     "end_time": "2024-02-28T06:35:48.467518300Z",
     "start_time": "2024-02-28T06:35:48.430890300Z"
    }
   },
   "id": "fc92dccff272a18",
   "execution_count": 333
  },
  {
   "cell_type": "code",
   "outputs": [],
   "source": [
    "# 3가지 버전으로 스케일링된 데이터셋 준비\n",
    "X_train_std = std_scaler.transform(X_train)\n",
    "X_test_std = std_scaler.transform(X_test)\n",
    "\n",
    "X_train_mm = mm_scaler.transform(X_train)\n",
    "x_test_mm = mm_scaler.transform(X_test)\n",
    "\n",
    "X_train_rb = rb_scaler.transform(X_train)\n",
    "X_test_rb = rb_scaler.transform(X_test)"
   ],
   "metadata": {
    "collapsed": false,
    "ExecuteTime": {
     "end_time": "2024-02-28T06:35:48.505782Z",
     "start_time": "2024-02-28T06:35:48.445658300Z"
    }
   },
   "id": "a3e34181ca8574c2",
   "execution_count": 334
  },
  {
   "cell_type": "markdown",
   "source": [
    "(4) 학습 진행 <hr>"
   ],
   "metadata": {
    "collapsed": false
   },
   "id": "4cca2ecae290c563"
  },
  {
   "cell_type": "code",
   "outputs": [],
   "source": [
    "from sklearn.linear_model import LinearRegression"
   ],
   "metadata": {
    "collapsed": false,
    "ExecuteTime": {
     "end_time": "2024-02-28T06:35:48.507827900Z",
     "start_time": "2024-02-28T06:35:48.459113200Z"
    }
   },
   "id": "2dae6cfa33c88440",
   "execution_count": 335
  },
  {
   "cell_type": "code",
   "outputs": [
    {
     "name": "stdout",
     "output_type": "stream",
     "text": [
      "[모델 파라미터] \n",
      " - coef_ : [14.47599157 52.88038006 86.20924109 45.43621153] \n",
      " - intercept_ : 677.125\n"
     ]
    }
   ],
   "source": [
    "model = LinearRegression()\n",
    "model.fit(X_train_std, y_train)\n",
    "\n",
    "print(f\"[모델 파라미터] \\n - coef_ : {model.coef_} \\n - intercept_ : {model.intercept_}\")\n",
    "\n",
    "# 왜 coef_는 4개가 나올까? 피쳐가 4개 니까 !\n",
    "# y = L * model.coef_[0] + D * model.coef_[1] + ... +    ====> 이렇게 해서 계산해주는게 predict"
   ],
   "metadata": {
    "collapsed": false,
    "ExecuteTime": {
     "end_time": "2024-02-28T06:35:48.522465700Z",
     "start_time": "2024-02-28T06:35:48.475853Z"
    }
   },
   "id": "f00c21776c49bef1",
   "execution_count": 336
  },
  {
   "cell_type": "markdown",
   "source": [
    "(5) 모델 평가 <hr>\n",
    "- 훈련용 데이터셋의 점수와 테스트 데이터셋 점수 비교\n",
    "    * 훈련 점수 > 테스트 점수 : (그 갭이 크다면) 과대 적합\n",
    "    * 훈련 점수 ▼ , 테스트 점수 ▼ : 과소 적합\n",
    "    * 훈련 점수 ≒ 테스트 점수 : 최적 적합"
   ],
   "metadata": {
    "collapsed": false
   },
   "id": "e8034972202ec672"
  },
  {
   "cell_type": "code",
   "outputs": [
    {
     "name": "stdout",
     "output_type": "stream",
     "text": [
      "train_score = 0.9483836242705043 --- test_score = 0.8382943580729838\n"
     ]
    }
   ],
   "source": [
    "train_score = model.score(X_train_std, y_train)\n",
    "test_score = model.score(X_test_std, y_test)\n",
    "\n",
    "print(f\"train_score = {train_score} --- test_score = {test_score}\")\n",
    "\n",
    "# 그 차이가 큰지 작은지 어케 판별하냐? => 본인이 판단! 나는 더 꼼꼼하게 하겠다!라면 더 수정하든가 ~ 이정도도 ㄱㅊ하다면 킵고잉"
   ],
   "metadata": {
    "collapsed": false,
    "ExecuteTime": {
     "end_time": "2024-02-28T06:35:48.564817500Z",
     "start_time": "2024-02-28T06:35:48.489427600Z"
    }
   },
   "id": "dc29e046ac6209a2",
   "execution_count": 337
  },
  {
   "cell_type": "markdown",
   "source": [
    "3가지 방식으로 전처리된 걸로 학습을 시켜보자\n",
    "- 함수로 만들어봄 (전처리 방식을 다르게 한 3가지 데이터 셋을 넣기 > 훈련 > 검사 )"
   ],
   "metadata": {
    "collapsed": false
   },
   "id": "1cdb7c080fda6144"
  },
  {
   "cell_type": "code",
   "outputs": [],
   "source": [
    "# 이때는 모델이 총 3개의 모델이 만들어져야한다. 즉, 서로 다른 객체의 모델이 만들어져야 한다.\n",
    "# 모델 1개당 스케일러 1개만! (1개의 모델에 스케일러를 여러번을 하면 스케일이 덮어씌워진다\n",
    "\n",
    "test_dict = {}\n",
    "\n",
    "def train_variety(scale_type):\n",
    "    scaler = scale_type\n",
    "    scaler.fit(X_train)\n",
    "    scaled_X_train = scaler.transform(X_train)\n",
    "    scaled_X_test = scaler.transform(X_test)\n",
    "\n",
    "    model = LinearRegression()\n",
    "    model.fit(scaled_X_train, y_train)\n",
    "    print(f\"[모델 파라미터] \\n - coef_ : {model.coef_} \\n - intercept_ : {model.intercept_}\\n\")\n",
    "    \n",
    "    train_score = model.score(scaled_X_train, y_train)\n",
    "    test_score = model.score(scaled_X_test, y_test)\n",
    "    print(f\"[score 비교] \\n  train_score = {train_score} --- test_score = {test_score}\")\n",
    "    \n",
    "    test_dict[scale_type] = test_score\n"
   ],
   "metadata": {
    "collapsed": false,
    "ExecuteTime": {
     "end_time": "2024-02-28T06:35:48.566932400Z",
     "start_time": "2024-02-28T06:35:48.508880800Z"
    }
   },
   "id": "5c7bba4055808966",
   "execution_count": 338
  },
  {
   "cell_type": "code",
   "outputs": [
    {
     "name": "stdout",
     "output_type": "stream",
     "text": [
      "[모델 파라미터] \n",
      " - coef_ : [14.47599157 52.88038006 86.20924109 45.43621153] \n",
      " - intercept_ : 677.125\n",
      "\n",
      "[score 비교] \n",
      "  train_score = 0.9483836242705043 --- test_score = 0.8382943580729838\n"
     ]
    }
   ],
   "source": [
    "train_variety(StandardScaler())"
   ],
   "metadata": {
    "collapsed": false,
    "ExecuteTime": {
     "end_time": "2024-02-28T06:35:48.583894400Z",
     "start_time": "2024-02-28T06:35:48.519354600Z"
    }
   },
   "id": "30c1f9af122888f7",
   "execution_count": 339
  },
  {
   "cell_type": "code",
   "outputs": [
    {
     "name": "stdout",
     "output_type": "stream",
     "text": [
      "[모델 파라미터] \n",
      " - coef_ : [ 58.64992101 216.09844352 333.90902722 181.9246653 ] \n",
      " - intercept_ : 228.99056285357727\n",
      "\n",
      "[score 비교] \n",
      "  train_score = 0.9483836242705043 --- test_score = 0.8382943580729829\n"
     ]
    }
   ],
   "source": [
    "train_variety(MinMaxScaler())"
   ],
   "metadata": {
    "collapsed": false,
    "ExecuteTime": {
     "end_time": "2024-02-28T06:35:48.584933600Z",
     "start_time": "2024-02-28T06:35:48.539902Z"
    }
   },
   "id": "b82de887eeee9604",
   "execution_count": 340
  },
  {
   "cell_type": "code",
   "outputs": [
    {
     "name": "stdout",
     "output_type": "stream",
     "text": [
      "[모델 파라미터] \n",
      " - coef_ : [ 19.73795418  73.99734581 122.5197393   72.50128115] \n",
      " - intercept_ : 652.0474639351822\n",
      "\n",
      "[score 비교] \n",
      "  train_score = 0.9483836242705043 --- test_score = 0.8382943580729836\n"
     ]
    }
   ],
   "source": [
    "train_variety(RobustScaler())"
   ],
   "metadata": {
    "collapsed": false,
    "ExecuteTime": {
     "end_time": "2024-02-28T06:35:48.622628600Z",
     "start_time": "2024-02-28T06:35:48.551859800Z"
    }
   },
   "id": "28dd942e84c91681",
   "execution_count": 341
  },
  {
   "cell_type": "code",
   "outputs": [],
   "source": [
    "# 1차방정식을 생각하고 왜 함수를 돌릴때마다 모델 파라미터가 다를까라고 생각했는데, 여기는 피처가 4개이다. 그래서 1차방정식이라고 생각하면 안됨"
   ],
   "metadata": {
    "collapsed": false,
    "ExecuteTime": {
     "end_time": "2024-02-28T06:35:48.625733600Z",
     "start_time": "2024-02-28T06:35:48.567983300Z"
    }
   },
   "id": "fb1ed05333f168a2",
   "execution_count": 342
  },
  {
   "cell_type": "code",
   "outputs": [
    {
     "data": {
      "text/plain": "{StandardScaler(): 0.8382943580729838,\n MinMaxScaler(): 0.8382943580729829,\n RobustScaler(): 0.8382943580729836}"
     },
     "execution_count": 343,
     "metadata": {},
     "output_type": "execute_result"
    }
   ],
   "source": [
    "test_dict"
   ],
   "metadata": {
    "collapsed": false,
    "ExecuteTime": {
     "end_time": "2024-02-28T06:35:48.642007600Z",
     "start_time": "2024-02-28T06:35:48.581541900Z"
    }
   },
   "id": "63abe9f2f83e8573",
   "execution_count": 343
  },
  {
   "cell_type": "code",
   "outputs": [
    {
     "name": "stdout",
     "output_type": "stream",
     "text": [
      "안녕하세요 임 쏘영씨 사랑해요 임 쏘영씨 위아원♥♥♥\n"
     ]
    }
   ],
   "source": [
    "print(\"안녕하세요 임 쏘영씨 사랑해요 임 쏘영씨 위아원♥♥♥\")\n",
    "# - 옒 핸드 - "
   ],
   "metadata": {
    "collapsed": false,
    "ExecuteTime": {
     "end_time": "2024-02-28T06:41:00.923560800Z",
     "start_time": "2024-02-28T06:41:00.884991500Z"
    }
   },
   "id": "c0730df2e690245e",
   "execution_count": 344
  },
  {
   "cell_type": "code",
   "outputs": [],
   "source": [],
   "metadata": {
    "collapsed": false
   },
   "id": "92ddbdd745b4979a"
  }
 ],
 "metadata": {
  "kernelspec": {
   "display_name": "Python 3",
   "language": "python",
   "name": "python3"
  },
  "language_info": {
   "codemirror_mode": {
    "name": "ipython",
    "version": 2
   },
   "file_extension": ".py",
   "mimetype": "text/x-python",
   "name": "python",
   "nbconvert_exporter": "python",
   "pygments_lexer": "ipython2",
   "version": "2.7.6"
  }
 },
 "nbformat": 4,
 "nbformat_minor": 5
}
