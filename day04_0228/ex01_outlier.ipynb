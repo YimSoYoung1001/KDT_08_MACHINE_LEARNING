{
 "cells": [
  {
   "cell_type": "markdown",
   "source": [
    "### 이상치 데이터 처리\n",
    "- 피쳐/특성에 데이터 값의 범위를 벗어나는 데이터를 의미\n",
    "- 종류 : 잘못 입력된 경우, 자연으로 생성된 데이터\n",
    "    * 잘못 입력된 데이터 : ex) 입력시 오타   ===> 제거 또는 대체\n",
    "    * 자연 생성 데이터 : ex) 연봉, 키, 몸무게, 나이   ===> 분리해서 전용 모델 / 식별용 피쳐\n",
    "- 탐지\n",
    "    * 시각화로 확인\n",
    "    * 데이터의 분포를 확인 : Z-Score / IQR(Turkey Fences)\n",
    "- 처리\n",
    "    * 삭제 / 대체 / 분리 모델 / 파생변수 추가 ... => 데이터마다 처리하기 나름이다."
   ],
   "metadata": {
    "collapsed": false
   },
   "id": "fdfdd3ac48dc09a8"
  },
  {
   "cell_type": "code",
   "outputs": [],
   "source": [
    "from IPython.display import Image #주피터 노트북에 이미지 삽입"
   ],
   "metadata": {
    "collapsed": false,
    "ExecuteTime": {
     "end_time": "2024-02-28T02:16:02.596378900Z",
     "start_time": "2024-02-28T02:16:02.515043400Z"
    }
   },
   "id": "64d0fa500065c035",
   "execution_count": 155
  },
  {
   "cell_type": "markdown",
   "source": [
    "(1) 모듈 로딩 및 데이터 준비 <hr>"
   ],
   "metadata": {
    "collapsed": false
   },
   "id": "d36ea5c48d4cd6f1"
  },
  {
   "cell_type": "code",
   "outputs": [],
   "source": [
    "import pandas as pd\n",
    "import matplotlib.pyplot as plt"
   ],
   "metadata": {
    "collapsed": false,
    "ExecuteTime": {
     "end_time": "2024-02-28T02:16:02.599414500Z",
     "start_time": "2024-02-28T02:16:02.553647100Z"
    }
   },
   "id": "4e0b6f5a030fa351",
   "execution_count": 156
  },
  {
   "cell_type": "code",
   "outputs": [
    {
     "name": "stdout",
     "output_type": "stream",
     "text": [
      "<class 'pandas.core.frame.DataFrame'>\n",
      "RangeIndex: 10 entries, 0 to 9\n",
      "Data columns (total 1 columns):\n",
      " #   Column  Non-Null Count  Dtype\n",
      "---  ------  --------------  -----\n",
      " 0   num     10 non-null     int64\n",
      "dtypes: int64(1)\n",
      "memory usage: 208.0 bytes\n"
     ]
    }
   ],
   "source": [
    "# 임의의 데이터\n",
    "dataDF = pd.DataFrame({'num': [ 1,4,3,2,4,5,-14,2,1,15]})\n",
    "dataDF.info()"
   ],
   "metadata": {
    "collapsed": false,
    "ExecuteTime": {
     "end_time": "2024-02-28T02:16:02.622448600Z",
     "start_time": "2024-02-28T02:16:02.605675Z"
    }
   },
   "id": "f12f9bf5dbbf895",
   "execution_count": 157
  },
  {
   "cell_type": "code",
   "outputs": [
    {
     "data": {
      "text/plain": "   num\n0    1\n1    4\n2    3\n3    2\n4    4\n5    5\n6  -14\n7    2\n8    1\n9   15",
      "text/html": "<div>\n<style scoped>\n    .dataframe tbody tr th:only-of-type {\n        vertical-align: middle;\n    }\n\n    .dataframe tbody tr th {\n        vertical-align: top;\n    }\n\n    .dataframe thead th {\n        text-align: right;\n    }\n</style>\n<table border=\"1\" class=\"dataframe\">\n  <thead>\n    <tr style=\"text-align: right;\">\n      <th></th>\n      <th>num</th>\n    </tr>\n  </thead>\n  <tbody>\n    <tr>\n      <th>0</th>\n      <td>1</td>\n    </tr>\n    <tr>\n      <th>1</th>\n      <td>4</td>\n    </tr>\n    <tr>\n      <th>2</th>\n      <td>3</td>\n    </tr>\n    <tr>\n      <th>3</th>\n      <td>2</td>\n    </tr>\n    <tr>\n      <th>4</th>\n      <td>4</td>\n    </tr>\n    <tr>\n      <th>5</th>\n      <td>5</td>\n    </tr>\n    <tr>\n      <th>6</th>\n      <td>-14</td>\n    </tr>\n    <tr>\n      <th>7</th>\n      <td>2</td>\n    </tr>\n    <tr>\n      <th>8</th>\n      <td>1</td>\n    </tr>\n    <tr>\n      <th>9</th>\n      <td>15</td>\n    </tr>\n  </tbody>\n</table>\n</div>"
     },
     "execution_count": 158,
     "metadata": {},
     "output_type": "execute_result"
    }
   ],
   "source": [
    "dataDF"
   ],
   "metadata": {
    "collapsed": false,
    "ExecuteTime": {
     "end_time": "2024-02-28T02:16:02.667271800Z",
     "start_time": "2024-02-28T02:16:02.626582900Z"
    }
   },
   "id": "2e23a76a3cbe33d5",
   "execution_count": 158
  },
  {
   "cell_type": "markdown",
   "source": [
    "(2) 데이터 전처리 <hr>"
   ],
   "metadata": {
    "collapsed": false
   },
   "id": "2d765d6ca02dc39a"
  },
  {
   "cell_type": "markdown",
   "source": [
    "(2-1) 데이터 확인"
   ],
   "metadata": {
    "collapsed": false
   },
   "id": "ac541fcdd92b7bd6"
  },
  {
   "cell_type": "code",
   "outputs": [
    {
     "data": {
      "text/plain": "<Figure size 640x480 with 1 Axes>",
      "image/png": "[encoded data removed]"
     },
     "metadata": {},
     "output_type": "display_data"
    }
   ],
   "source": [
    "# 시각화로 데이터 분포 확인\n",
    "plt.plot(dataDF, 'bo')\n",
    "plt.title('Data Distribution')\n",
    "plt.show()"
   ],
   "metadata": {
    "collapsed": false,
    "ExecuteTime": {
     "end_time": "2024-02-28T02:16:02.788063500Z",
     "start_time": "2024-02-28T02:16:02.646566200Z"
    }
   },
   "id": "b537acd5009198a9",
   "execution_count": 159
  },
  {
   "cell_type": "code",
   "outputs": [
    {
     "data": {
      "text/plain": "<Figure size 640x480 with 1 Axes>",
      "image/png": "[encoded data removed]"
     },
     "metadata": {},
     "output_type": "display_data"
    }
   ],
   "source": [
    "plt.hist(dataDF)\n",
    "plt.title('Data Distribution')\n",
    "plt.show()"
   ],
   "metadata": {
    "collapsed": false,
    "ExecuteTime": {
     "end_time": "2024-02-28T02:16:02.884757400Z",
     "start_time": "2024-02-28T02:16:02.763897300Z"
    }
   },
   "id": "a613244b04c254ec",
   "execution_count": 160
  },
  {
   "cell_type": "markdown",
   "source": [
    "(2-2) 불필요 데이터 체크 => 결측치, 이상치"
   ],
   "metadata": {
    "collapsed": false
   },
   "id": "bcf56099e09572e1"
  },
  {
   "cell_type": "code",
   "outputs": [
    {
     "data": {
      "text/plain": "num    0\ndtype: int64"
     },
     "execution_count": 161,
     "metadata": {},
     "output_type": "execute_result"
    }
   ],
   "source": [
    "# 결측치\n",
    "dataDF.isnull().sum()"
   ],
   "metadata": {
    "collapsed": false,
    "ExecuteTime": {
     "end_time": "2024-02-28T02:16:02.918000700Z",
     "start_time": "2024-02-28T02:16:02.883285500Z"
    }
   },
   "id": "fc02c54ed011ff9f",
   "execution_count": 161
  },
  {
   "cell_type": "code",
   "outputs": [
    {
     "data": {
      "text/plain": "        num\n0 -0.185065\n1  0.242008\n2  0.099650\n3 -0.042707\n4  0.242008\n5  0.384366\n6 -2.320430\n7 -0.042707\n8 -0.185065\n9  1.807942",
      "text/html": "<div>\n<style scoped>\n    .dataframe tbody tr th:only-of-type {\n        vertical-align: middle;\n    }\n\n    .dataframe tbody tr th {\n        vertical-align: top;\n    }\n\n    .dataframe thead th {\n        text-align: right;\n    }\n</style>\n<table border=\"1\" class=\"dataframe\">\n  <thead>\n    <tr style=\"text-align: right;\">\n      <th></th>\n      <th>num</th>\n    </tr>\n  </thead>\n  <tbody>\n    <tr>\n      <th>0</th>\n      <td>-0.185065</td>\n    </tr>\n    <tr>\n      <th>1</th>\n      <td>0.242008</td>\n    </tr>\n    <tr>\n      <th>2</th>\n      <td>0.099650</td>\n    </tr>\n    <tr>\n      <th>3</th>\n      <td>-0.042707</td>\n    </tr>\n    <tr>\n      <th>4</th>\n      <td>0.242008</td>\n    </tr>\n    <tr>\n      <th>5</th>\n      <td>0.384366</td>\n    </tr>\n    <tr>\n      <th>6</th>\n      <td>-2.320430</td>\n    </tr>\n    <tr>\n      <th>7</th>\n      <td>-0.042707</td>\n    </tr>\n    <tr>\n      <th>8</th>\n      <td>-0.185065</td>\n    </tr>\n    <tr>\n      <th>9</th>\n      <td>1.807942</td>\n    </tr>\n  </tbody>\n</table>\n</div>"
     },
     "execution_count": 162,
     "metadata": {},
     "output_type": "execute_result"
    }
   ],
   "source": [
    "# 이상치 탐지 - 방법(1) 평균과 편차를 이용한 탐지 Z - Score\n",
    "# Z - Score = (데이터 - 평균)/표준편차\n",
    "mean_value = dataDF['num'].mean()\n",
    "std_value = dataDF['num'].std()\n",
    "\n",
    "z_data = (dataDF - mean_value) / std_value\n",
    "z_data\n",
    "\n",
    "# 정규분포를 그렸을때 양 끝단의 값을 이상치로 판단하겠다는 story"
   ],
   "metadata": {
    "collapsed": false,
    "ExecuteTime": {
     "end_time": "2024-02-28T02:16:02.921136400Z",
     "start_time": "2024-02-28T02:16:02.902461100Z"
    }
   },
   "id": "a2c9d804b1c65b83",
   "execution_count": 162
  },
  {
   "cell_type": "code",
   "outputs": [],
   "source": [
    "# 양 끝단 제거를 위한 기준값  => 1.0 으로 정했다\n",
    "base = 1.0\n",
    "mask = z_data.abs() > base"
   ],
   "metadata": {
    "collapsed": false,
    "ExecuteTime": {
     "end_time": "2024-02-28T02:16:02.956176900Z",
     "start_time": "2024-02-28T02:16:02.910832100Z"
    }
   },
   "id": "aa2cb390b0ade2af",
   "execution_count": 163
  },
  {
   "cell_type": "code",
   "outputs": [
    {
     "data": {
      "text/plain": "        num\n0 -0.185065\n1  0.242008\n2  0.099650\n3 -0.042707\n4  0.242008\n5  0.384366\n6       NaN\n7 -0.042707\n8 -0.185065\n9       NaN",
      "text/html": "<div>\n<style scoped>\n    .dataframe tbody tr th:only-of-type {\n        vertical-align: middle;\n    }\n\n    .dataframe tbody tr th {\n        vertical-align: top;\n    }\n\n    .dataframe thead th {\n        text-align: right;\n    }\n</style>\n<table border=\"1\" class=\"dataframe\">\n  <thead>\n    <tr style=\"text-align: right;\">\n      <th></th>\n      <th>num</th>\n    </tr>\n  </thead>\n  <tbody>\n    <tr>\n      <th>0</th>\n      <td>-0.185065</td>\n    </tr>\n    <tr>\n      <th>1</th>\n      <td>0.242008</td>\n    </tr>\n    <tr>\n      <th>2</th>\n      <td>0.099650</td>\n    </tr>\n    <tr>\n      <th>3</th>\n      <td>-0.042707</td>\n    </tr>\n    <tr>\n      <th>4</th>\n      <td>0.242008</td>\n    </tr>\n    <tr>\n      <th>5</th>\n      <td>0.384366</td>\n    </tr>\n    <tr>\n      <th>6</th>\n      <td>NaN</td>\n    </tr>\n    <tr>\n      <th>7</th>\n      <td>-0.042707</td>\n    </tr>\n    <tr>\n      <th>8</th>\n      <td>-0.185065</td>\n    </tr>\n    <tr>\n      <th>9</th>\n      <td>NaN</td>\n    </tr>\n  </tbody>\n</table>\n</div>"
     },
     "execution_count": 164,
     "metadata": {},
     "output_type": "execute_result"
    }
   ],
   "source": [
    "z_data[~mask]\n",
    "# 이상치를 제거하고 나와야하니까 물결을 붙여준다 (반대로 ㅇㅇ)"
   ],
   "metadata": {
    "collapsed": false,
    "ExecuteTime": {
     "end_time": "2024-02-28T02:16:02.975205Z",
     "start_time": "2024-02-28T02:16:02.932842300Z"
    }
   },
   "id": "2f8219dfa2632d80",
   "execution_count": 164
  },
  {
   "cell_type": "code",
   "outputs": [
    {
     "data": {
      "text/plain": "   num\n0  1.0\n1  4.0\n2  3.0\n3  2.0\n4  4.0\n5  5.0\n7  2.0\n8  1.0",
      "text/html": "<div>\n<style scoped>\n    .dataframe tbody tr th:only-of-type {\n        vertical-align: middle;\n    }\n\n    .dataframe tbody tr th {\n        vertical-align: top;\n    }\n\n    .dataframe thead th {\n        text-align: right;\n    }\n</style>\n<table border=\"1\" class=\"dataframe\">\n  <thead>\n    <tr style=\"text-align: right;\">\n      <th></th>\n      <th>num</th>\n    </tr>\n  </thead>\n  <tbody>\n    <tr>\n      <th>0</th>\n      <td>1.0</td>\n    </tr>\n    <tr>\n      <th>1</th>\n      <td>4.0</td>\n    </tr>\n    <tr>\n      <th>2</th>\n      <td>3.0</td>\n    </tr>\n    <tr>\n      <th>3</th>\n      <td>2.0</td>\n    </tr>\n    <tr>\n      <th>4</th>\n      <td>4.0</td>\n    </tr>\n    <tr>\n      <th>5</th>\n      <td>5.0</td>\n    </tr>\n    <tr>\n      <th>7</th>\n      <td>2.0</td>\n    </tr>\n    <tr>\n      <th>8</th>\n      <td>1.0</td>\n    </tr>\n  </tbody>\n</table>\n</div>"
     },
     "execution_count": 165,
     "metadata": {},
     "output_type": "execute_result"
    }
   ],
   "source": [
    "dataDF[~mask].dropna()\n",
    "# 결측치가 제거됨\n",
    "# 만약 결측치를 제거하지 않고 대체하고싶으면 대체해도 된다."
   ],
   "metadata": {
    "collapsed": false,
    "ExecuteTime": {
     "end_time": "2024-02-28T02:16:02.976203200Z",
     "start_time": "2024-02-28T02:16:02.948356600Z"
    }
   },
   "id": "273c6d0d4f7baeef",
   "execution_count": 165
  },
  {
   "cell_type": "code",
   "outputs": [
    {
     "name": "stdout",
     "output_type": "stream",
     "text": [
      "q1 : num    1.25\n",
      "Name: 0.25, dtype: float64 \n",
      " q3 : num    4.0\n",
      "Name: 0.75, dtype: float64 \n",
      " iqr : num    2.75\n",
      "dtype: float64\n",
      "lower : num   -2.875\n",
      "dtype: float64 \n",
      " upper : num    8.125\n",
      "dtype: float64\n"
     ]
    }
   ],
   "source": [
    "# 이상치 탐지 - 방법(2) 데이터를 4등분해서 가운데 데이터를 기준으로 이상치 탐지\n",
    "# | ======== | ======== | ======== | ======== | \n",
    "#            25%        50%        75%             => 이렇게 4등분하겠다는 소리\n",
    "\n",
    "q1 = dataDF.quantile(0.25)\n",
    "q3 = dataDF.quantile(0.75)\n",
    "iqr = q3 - q1\n",
    "\n",
    "# 이상치로 판단할 기준되는 값\n",
    "lower = q1 - 1.5 * iqr\n",
    "upper = q3 + 1.5 * iqr\n",
    "\n",
    "print(f\"q1 : {q1} \\n q3 : {q3} \\n iqr : {iqr}\")\n",
    "print(f\"lower : {lower} \\n upper : {upper}\")"
   ],
   "metadata": {
    "collapsed": false,
    "ExecuteTime": {
     "end_time": "2024-02-28T02:16:03.039048500Z",
     "start_time": "2024-02-28T02:16:02.960307500Z"
    }
   },
   "id": "531de846997d3a12",
   "execution_count": 166
  },
  {
   "cell_type": "code",
   "outputs": [
    {
     "data": {
      "text/plain": "(     num\n 0  False\n 1  False\n 2  False\n 3  False\n 4  False\n 5  False\n 6   True\n 7  False\n 8  False\n 9  False,\n      num\n 0  False\n 1  False\n 2  False\n 3  False\n 4  False\n 5  False\n 6  False\n 7  False\n 8  False\n 9   True)"
     },
     "execution_count": 167,
     "metadata": {},
     "output_type": "execute_result"
    }
   ],
   "source": [
    "dataDF < lower , dataDF > upper\n",
    "\n",
    "# 방법1과 마찬가지로 mask 씌워서 제거 해주면 된다"
   ],
   "metadata": {
    "collapsed": false,
    "ExecuteTime": {
     "end_time": "2024-02-28T02:16:03.042126800Z",
     "start_time": "2024-02-28T02:16:02.978272Z"
    }
   },
   "id": "2c1a6cb6d8c8b09",
   "execution_count": 167
  },
  {
   "cell_type": "code",
   "outputs": [
    {
     "data": {
      "image/png": "[encoded data removed]",
      "text/plain": "<IPython.core.display.Image object>"
     },
     "execution_count": 168,
     "metadata": {},
     "output_type": "execute_result"
    }
   ],
   "source": [
    "\"\"\"\n",
    "     Q1-1.5IQR   Q1   median  Q3   Q3+1.5IQR\n",
    "                  |-----:-----|\n",
    "  o      |--------|     :     |--------|    o  o\n",
    "                  |-----:-----|\n",
    "flier             <----------->            fliers\n",
    "                       IQR\n",
    "\n",
    "\n",
    "Q1 - 1.5IQR 과 Q1 + 1.5IQR을 넘어서는 값들을 이상치로 보겠다.\n",
    "\"\"\"\n",
    "\n",
    "Image('img01.png')"
   ],
   "metadata": {
    "collapsed": false,
    "ExecuteTime": {
     "end_time": "2024-02-28T02:16:03.042126800Z",
     "start_time": "2024-02-28T02:16:02.991297100Z"
    }
   },
   "id": "735b6dd544e395bc",
   "execution_count": 168
  },
  {
   "cell_type": "code",
   "outputs": [
    {
     "data": {
      "text/plain": "<Figure size 640x480 with 1 Axes>",
      "image/png": "[encoded data removed]"
     },
     "metadata": {},
     "output_type": "display_data"
    }
   ],
   "source": [
    "# 시각화\n",
    "bp_obj = plt.boxplot(dataDF)\n",
    "plt.show()"
   ],
   "metadata": {
    "collapsed": false,
    "ExecuteTime": {
     "end_time": "2024-02-28T02:16:03.192220700Z",
     "start_time": "2024-02-28T02:16:03.005555600Z"
    }
   },
   "id": "a71cef98163df413",
   "execution_count": 169
  },
  {
   "cell_type": "code",
   "outputs": [
    {
     "data": {
      "text/plain": "dict_keys(['whiskers', 'caps', 'boxes', 'medians', 'fliers', 'means'])"
     },
     "execution_count": 170,
     "metadata": {},
     "output_type": "execute_result"
    }
   ],
   "source": [
    "# 박스플랏을 그리면 반환값으로 딕셔너리 형태의 값들이 나온다.\n",
    "bp_obj.keys()"
   ],
   "metadata": {
    "collapsed": false,
    "ExecuteTime": {
     "end_time": "2024-02-28T02:16:03.211153800Z",
     "start_time": "2024-02-28T02:16:03.083382400Z"
    }
   },
   "id": "2e8dda6160b8f775",
   "execution_count": 170
  },
  {
   "cell_type": "code",
   "outputs": [
    {
     "data": {
      "text/plain": "(array([1.25, 1.  ]), array([4., 5.]))"
     },
     "execution_count": 171,
     "metadata": {},
     "output_type": "execute_result"
    }
   ],
   "source": [
    "# q1, min, q3, max\n",
    "bp_obj['whiskers'][0].get_ydata(), bp_obj['whiskers'][1].get_ydata()\n",
    "\n",
    "# return값으로,,\n",
    "# [ 1사분위, 최소값 ]이 나왔고, [ 3사분위, 최대값 ]이 나왔다."
   ],
   "metadata": {
    "collapsed": false,
    "ExecuteTime": {
     "end_time": "2024-02-28T02:16:03.230082100Z",
     "start_time": "2024-02-28T02:16:03.097491500Z"
    }
   },
   "id": "a9c65c77d948d512",
   "execution_count": 171
  },
  {
   "cell_type": "code",
   "outputs": [
    {
     "data": {
      "text/plain": "array([2.5, 2.5])"
     },
     "execution_count": 172,
     "metadata": {},
     "output_type": "execute_result"
    }
   ],
   "source": [
    "bp_obj['medians'][0].get_ydata()"
   ],
   "metadata": {
    "collapsed": false,
    "ExecuteTime": {
     "end_time": "2024-02-28T02:16:03.231217600Z",
     "start_time": "2024-02-28T02:16:03.115220900Z"
    }
   },
   "id": "e10bfda2bb763059",
   "execution_count": 172
  },
  {
   "cell_type": "code",
   "outputs": [
    {
     "data": {
      "text/plain": "array([-14,  15], dtype=int64)"
     },
     "execution_count": 173,
     "metadata": {},
     "output_type": "execute_result"
    }
   ],
   "source": [
    "bp_obj['fliers'][0].get_ydata()"
   ],
   "metadata": {
    "collapsed": false,
    "ExecuteTime": {
     "end_time": "2024-02-28T02:16:03.231217600Z",
     "start_time": "2024-02-28T02:16:03.132065100Z"
    }
   },
   "id": "33938c5d35fe810f",
   "execution_count": 173
  },
  {
   "cell_type": "code",
   "outputs": [],
   "source": [
    "# 여기서는 버릴 값으로 이상치를 이미 조정해놓은 데이터다.\n",
    "# 하지만 실제 데이터에서는 이상치라고 다 버리면 안된다. 실제 데이터를 확인해보고 버릴지 말지 , 대체할지, 등등 여러 모델을 만들어서 비교해봐야함."
   ],
   "metadata": {
    "collapsed": false,
    "ExecuteTime": {
     "end_time": "2024-02-28T02:16:03.232292900Z",
     "start_time": "2024-02-28T02:16:03.145658700Z"
    }
   },
   "id": "8cce851c02021383",
   "execution_count": 174
  },
  {
   "cell_type": "code",
   "outputs": [],
   "source": [
    "# 처음에 데이터 확인할 때 결측치, 고유값, 그래프, 이상치 등을 다 확인하는 함수를 하나 만들어놔라. \n",
    "# 컬럼명만 바뀌면 그거를 확인할 수 있게끔,, 매번 같은 코드를 짜기엔 쩜^^;;\n",
    "# 그래서 확인되는 이상치를 어케 할지 판단해보라"
   ],
   "metadata": {
    "collapsed": false,
    "ExecuteTime": {
     "end_time": "2024-02-28T02:16:03.233408500Z",
     "start_time": "2024-02-28T02:16:03.160268400Z"
    }
   },
   "id": "372a72d4b765c256",
   "execution_count": 175
  },
  {
   "cell_type": "code",
   "outputs": [
    {
     "data": {
      "text/plain": "'\\n(+) [ Q & A ]\\n- 상관계수를 확인했을때 다 고만고만하다 => 피쳐를 다 가져가야함\\n- 예쁜 데이터만 할 수없다. 이런 저런 데이터로 일단 해봐야한다. 배경 지식이 없다면 구글링도 해보고,, 그런거지 모,,~ (막막함은 기본이지만 ~ )\\n- 젤 베스트는 과제할때는 수업시간에 했던 코드 창을 닫고 그냥 쭈우우욱 칠 수 있으면 좋겟다.\\n  일단 1단계 는 이거햇고 2단계로는 이거해야하고 이런식으로 어째저째 혼자 이끌어 나가봤으면 좋겠다.\\n'"
     },
     "execution_count": 176,
     "metadata": {},
     "output_type": "execute_result"
    }
   ],
   "source": [
    "\"\"\"\n",
    "(+) [ Q & A ]\n",
    "- 상관계수를 확인했을때 다 고만고만하다 => 피쳐를 다 가져가야함\n",
    "- 예쁜 데이터만 할 수없다. 이런 저런 데이터로 일단 해봐야한다. 배경 지식이 없다면 구글링도 해보고,, 그런거지 모,,~ (막막함은 기본이지만 ~ )\n",
    "- 젤 베스트는 과제할때는 수업시간에 했던 코드 창을 닫고 그냥 쭈우우욱 칠 수 있으면 좋겟다.\n",
    "  일단 1단계 는 이거햇고 2단계로는 이거해야하고 이런식으로 어째저째 혼자 이끌어 나가봤으면 좋겠다.\n",
    "- 첨에는 점수를 높인다기 보다는, 사용할 알고리즘이 전제조건이 일치하는가 생각해서 어째저쨰 또 해보고,,, ~\n",
    "\"\"\""
   ],
   "metadata": {
    "collapsed": false,
    "ExecuteTime": {
     "end_time": "2024-02-28T02:16:03.286848300Z",
     "start_time": "2024-02-28T02:16:03.178109500Z"
    }
   },
   "id": "1e2932654fadd315",
   "execution_count": 176
  },
  {
   "cell_type": "code",
   "outputs": [],
   "source": [],
   "metadata": {
    "collapsed": false,
    "ExecuteTime": {
     "end_time": "2024-02-28T02:16:03.288936300Z",
     "start_time": "2024-02-28T02:16:03.191222Z"
    }
   },
   "id": "d2a00702ba89a0fa",
   "execution_count": 176
  }
 ],
 "metadata": {
  "kernelspec": {
   "display_name": "Python 3",
   "language": "python",
   "name": "python3"
  },
  "language_info": {
   "codemirror_mode": {
    "name": "ipython",
    "version": 2
   },
   "file_extension": ".py",
   "mimetype": "text/x-python",
   "name": "python",
   "nbconvert_exporter": "python",
   "pygments_lexer": "ipython2",
   "version": "2.7.6"
  }
 },
 "nbformat": 4,
 "nbformat_minor": 5
}
