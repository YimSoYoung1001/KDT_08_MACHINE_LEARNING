{
 "cells": [
  {
   "cell_type": "code",
   "execution_count": null,
   "id": "initial_id",
   "metadata": {
    "collapsed": true,
    "is_executing": true
   },
   "outputs": [],
   "source": [
    "#머신러닝 2일차 과제_임소영\n",
    "#white wine파일\n",
    "#피쳐 값을 사용자가 입력했을 때 어떤 등급의 와인인지 나오게 끔 머신러닝을 하라"
   ]
  },
  {
   "cell_type": "markdown",
   "source": [
    "(1) 모듈 로딩 + 데이터 준비"
   ],
   "metadata": {
    "collapsed": false
   },
   "id": "f9e2341b8e350766"
  },
  {
   "cell_type": "code",
   "outputs": [],
   "source": [
    "import pandas as pd\n",
    "import matplotlib.pyplot as plt\n",
    "from sklearn.neighbors import KNeighborsClassifier"
   ],
   "metadata": {
    "collapsed": false,
    "is_executing": true,
    "ExecuteTime": {
     "start_time": "2024-02-26T08:45:04.443772500Z"
    }
   },
   "id": "8c17ca16e6bb05c1",
   "execution_count": null
  },
  {
   "cell_type": "code",
   "outputs": [],
   "source": [
    "file = '../data/winequality-white.csv'\n",
    "data = pd.read_csv(file, sep=';')\n",
    "data"
   ],
   "metadata": {
    "collapsed": false,
    "is_executing": true,
    "ExecuteTime": {
     "start_time": "2024-02-26T08:45:06.164891400Z"
    }
   },
   "id": "8ea8e745cb188df2",
   "execution_count": null
  },
  {
   "cell_type": "code",
   "outputs": [],
   "source": [
    "# 결측치 확인\n",
    "data.isna().sum()"
   ],
   "metadata": {
    "collapsed": false,
    "is_executing": true,
    "ExecuteTime": {
     "start_time": "2024-02-26T08:45:06.195010200Z"
    }
   },
   "id": "cf27d5eea5fec9a4",
   "execution_count": null
  },
  {
   "cell_type": "code",
   "outputs": [],
   "source": [
    "# 형변환\n",
    "data['quality'] = data['quality'].astype('float64')\n",
    "data.info()"
   ],
   "metadata": {
    "collapsed": false,
    "is_executing": true,
    "ExecuteTime": {
     "start_time": "2024-02-26T08:45:06.210590700Z"
    }
   },
   "id": "d09ac0417a21c0e0",
   "execution_count": null
  },
  {
   "cell_type": "code",
   "outputs": [],
   "source": [
    "data['quality'].value_counts()"
   ],
   "metadata": {
    "collapsed": false,
    "is_executing": true,
    "ExecuteTime": {
     "start_time": "2024-02-26T08:45:06.226112900Z"
    }
   },
   "id": "6c881a5298dd7c6a",
   "execution_count": null
  },
  {
   "cell_type": "code",
   "outputs": [],
   "source": [
    "result = data.corr()\n",
    "result"
   ],
   "metadata": {
    "collapsed": false,
    "is_executing": true
   },
   "id": "3b0e9f1fc8fea938",
   "execution_count": null
  },
  {
   "cell_type": "code",
   "outputs": [],
   "source": [
    "result.loc['quality']"
   ],
   "metadata": {
    "collapsed": false,
    "is_executing": true
   },
   "id": "4d1afa74e6aa71a4",
   "execution_count": null
  },
  {
   "cell_type": "code",
   "outputs": [],
   "source": [
    "# 상관계수를 뽑았을때 alcohol과 density가 가장 관련성이 높으므로 이 둘을 피쳐로 설정해보자\n",
    "# 타겟 = quality\n",
    "# 피쳐 = density, alcohol\n",
    "file = '../data/winequality-white.csv'\n",
    "wine = pd.read_csv(file, sep=';', usecols = ['density', 'alcohol', 'quality'])\n",
    "wine"
   ],
   "metadata": {
    "collapsed": false,
    "is_executing": true
   },
   "id": "9f3b1e9b468a6c15",
   "execution_count": null
  },
  {
   "cell_type": "code",
   "outputs": [],
   "source": [
    "plt.scatter(wine['density'], wine['alcohol'], alpha = 0.5)\n",
    "plt.show()"
   ],
   "metadata": {
    "collapsed": false,
    "is_executing": true
   },
   "id": "fd2cd961f1a2f960",
   "execution_count": null
  },
  {
   "cell_type": "markdown",
   "source": [
    "(2) 데이터 전처리"
   ],
   "metadata": {
    "collapsed": false
   },
   "id": "fcea697accf14faf"
  },
  {
   "cell_type": "code",
   "outputs": [],
   "source": [
    "wine.shape"
   ],
   "metadata": {
    "collapsed": false,
    "is_executing": true
   },
   "id": "3f2ebb3de1dd5556",
   "execution_count": null
  },
  {
   "cell_type": "code",
   "outputs": [],
   "source": [
    "# 중복값 확인\n",
    "wine.duplicated().sum()"
   ],
   "metadata": {
    "collapsed": false,
    "is_executing": true
   },
   "id": "d8c16188bbb55f80",
   "execution_count": null
  },
  {
   "cell_type": "code",
   "outputs": [],
   "source": [
    "wine.drop_duplicates(keep = 'first', inplace = True)\n",
    "wine.shape"
   ],
   "metadata": {
    "collapsed": false,
    "is_executing": true
   },
   "id": "aff68f742c2c00aa",
   "execution_count": null
  },
  {
   "cell_type": "markdown",
   "source": [
    "(3-1) 학습용 데이터 준비 => 피쳐와 타겟을 분리함  "
   ],
   "metadata": {
    "collapsed": false
   },
   "id": "c7d36ced27e477db"
  },
  {
   "cell_type": "code",
   "outputs": [],
   "source": [
    "# 먼저 피쳐와 타겟을 분리함\n",
    "feature = wine[['density', 'alcohol']]\n",
    "feature"
   ],
   "metadata": {
    "collapsed": false,
    "is_executing": true
   },
   "id": "e9c20ecdf856a16c",
   "execution_count": null
  },
  {
   "cell_type": "code",
   "outputs": [],
   "source": [
    "target = wine['quality']\n",
    "target"
   ],
   "metadata": {
    "collapsed": false,
    "is_executing": true
   },
   "id": "4bea678c91983467",
   "execution_count": null
  },
  {
   "cell_type": "markdown",
   "source": [
    "(3-2) 학습용 데이터 준비 => 학습 / 테스트 데이터 셋 분리"
   ],
   "metadata": {
    "collapsed": false
   },
   "id": "e30cc1882498e084"
  },
  {
   "cell_type": "code",
   "outputs": [],
   "source": [
    "# 학습/테스트 데이터셋을 분리시켜보자\n",
    "# 학습 : 테스트 = 80 : 20\n",
    "\n",
    "from sklearn.model_selection import train_test_split\n",
    "\n",
    "X_train, X_test, y_train, y_test = train_test_split(feature, target, test_size = 0.2, stratify = target)"
   ],
   "metadata": {
    "collapsed": false,
    "is_executing": true
   },
   "id": "2f5715655aeb9552",
   "execution_count": null
  },
  {
   "cell_type": "code",
   "outputs": [],
   "source": [
    "# 학습 및 테스트 데이터셋을 확인해보자\n",
    "print('학습용 데이터셋')\n",
    "print(f\"X_train.shape: {X_train.shape}\")\n",
    "print(f\"y_train.shape: {y_train.shape}\")\n",
    "print()\n",
    "print(y_train.value_counts()/y_train.shape[0])\n",
    "print()\n",
    "print('테스트용 데이터셋')\n",
    "print(f\"X_test.shape: {X_test.shape}\")\n",
    "print(f\"y_test.shape: {y_test.shape}\")"
   ],
   "metadata": {
    "collapsed": false,
    "is_executing": true
   },
   "id": "665362139424848a",
   "execution_count": null
  },
  {
   "cell_type": "markdown",
   "source": [
    "(3-3) 학습용 데이터 준비 => 피쳐 데이터의 스케일링"
   ],
   "metadata": {
    "collapsed": false
   },
   "id": "bf4de59a18ae6d5"
  },
  {
   "cell_type": "code",
   "outputs": [],
   "source": [
    "# 피쳐들의 범위가 다르니까 그것을 통일시켜보자\n",
    "\n",
    "from sklearn.preprocessing import StandardScaler"
   ],
   "metadata": {
    "collapsed": false,
    "is_executing": true
   },
   "id": "aa8b09c7558e0cf",
   "execution_count": null
  },
  {
   "cell_type": "code",
   "outputs": [],
   "source": [
    "scaler = StandardScaler()\n",
    "scaler"
   ],
   "metadata": {
    "collapsed": false,
    "is_executing": true
   },
   "id": "344b5af3e367701b",
   "execution_count": null
  },
  {
   "cell_type": "code",
   "outputs": [],
   "source": [
    "scaler.fit(X_train)"
   ],
   "metadata": {
    "collapsed": false,
    "is_executing": true
   },
   "id": "b6784bd7f0bb3f93",
   "execution_count": null
  },
  {
   "cell_type": "code",
   "outputs": [],
   "source": [
    "#학습용 데이터 피처를 스케일링 해보자\n",
    "scaled_X_train = scaler.transform(X_train)\n",
    "scaled_X_train.shape"
   ],
   "metadata": {
    "collapsed": false,
    "is_executing": true
   },
   "id": "ce023afb11cb12fa",
   "execution_count": null
  },
  {
   "cell_type": "code",
   "outputs": [],
   "source": [
    "# 테스트용 데이터 피처를 스케일링 해보자\n",
    "scaled_X_test = scaler.transform(X_test)\n",
    "scaled_X_test.shape"
   ],
   "metadata": {
    "collapsed": false,
    "is_executing": true
   },
   "id": "ce41b254b6962729",
   "execution_count": null
  },
  {
   "cell_type": "code",
   "outputs": [],
   "source": [
    "# 시각화 해보자 - 원본\n",
    "plt.scatter(X_train['density'], X_train['alcohol'], c=y_train)\n",
    "plt.xlabel('density')\n",
    "plt.ylabel('alcohol')\n",
    "plt.title('BEFORE SCALE')\n",
    "plt.show()"
   ],
   "metadata": {
    "collapsed": false,
    "is_executing": true
   },
   "id": "87cbb217aca528cd",
   "execution_count": null
  },
  {
   "cell_type": "code",
   "outputs": [],
   "source": [
    "scaled_X_train"
   ],
   "metadata": {
    "collapsed": false,
    "is_executing": true
   },
   "id": "1b14598704e9e52a",
   "execution_count": null
  },
  {
   "cell_type": "code",
   "outputs": [],
   "source": [
    "scaled_X_train[:,0].max()\n",
    "scaled_X_train[:,0].min()"
   ],
   "metadata": {
    "collapsed": false,
    "is_executing": true
   },
   "id": "62fbfe838765f3dc",
   "execution_count": null
  },
  {
   "cell_type": "code",
   "outputs": [],
   "source": [
    "# 시각화 해보자 - 스케일링 후\n",
    "plt.scatter(scaled_X_train[:,0], scaled_X_train[:,1], c = y_train)\n",
    "plt.xlabel('density')\n",
    "plt.ylabel('alcohol')\n",
    "plt.title('AFTER SCALE')\n",
    "plt.show()"
   ],
   "metadata": {
    "collapsed": false,
    "is_executing": true
   },
   "id": "5dec8703bdcd1196",
   "execution_count": null
  },
  {
   "cell_type": "markdown",
   "source": [
    "(4) 학습 진행"
   ],
   "metadata": {
    "collapsed": false
   },
   "id": "5bc6946750eb4d26"
  },
  {
   "cell_type": "code",
   "outputs": [],
   "source": [
    "model = KNeighborsClassifier()\n",
    "model"
   ],
   "metadata": {
    "collapsed": false,
    "is_executing": true
   },
   "id": "58d3560f9fc1886a"
  },
  {
   "cell_type": "code",
   "outputs": [],
   "source": [
    "# 학습\n",
    "model.fit(scaled_X_train, y_train)"
   ],
   "metadata": {
    "collapsed": false,
    "is_executing": true
   },
   "id": "4fddef33d69260d"
  },
  {
   "cell_type": "code",
   "outputs": [],
   "source": [
    "# 테스트\n",
    "model.score(scaled_X_test, y_test)"
   ],
   "metadata": {
    "collapsed": false,
    "is_executing": true
   },
   "id": "8bc79d79b7a257d6"
  },
  {
   "cell_type": "code",
   "outputs": [],
   "source": [
    "# 예측\n",
    "user_data = input('와인 품종을 확인하기 위한 데이터를 입력하세요 (density, alcohol 순서로 입력: ')\n",
    "user_list = user_data.split(' ')\n",
    "user_density = float(user_list[0])\n",
    "user_alcohol = float(user_list[1])"
   ],
   "metadata": {
    "collapsed": false,
    "is_executing": true
   },
   "id": "b04ce42015a82e16"
  },
  {
   "cell_type": "code",
   "outputs": [],
   "source": [
    "new_data = pd.DataFrame([[user_density, user_alcohol]], columns = ['density', 'alcohol'])\n",
    "new_data"
   ],
   "metadata": {
    "collapsed": false,
    "is_executing": true
   },
   "id": "d40e15ab6fbb42c3"
  },
  {
   "cell_type": "code",
   "outputs": [],
   "source": [
    "# 피쳐를 스케일링 시켜보자\n",
    "scaled_new_data = scaler.transform(new_data)"
   ],
   "metadata": {
    "collapsed": false,
    "is_executing": true
   },
   "id": "9b521d6502d4c4ed"
  },
  {
   "cell_type": "code",
   "outputs": [],
   "source": [
    "y_pre = model.predict(scaled_new_data)\n",
    "y_pre"
   ],
   "metadata": {
    "collapsed": false,
    "is_executing": true
   },
   "id": "e59cf68973bd264b"
  },
  {
   "cell_type": "code",
   "outputs": [],
   "source": [],
   "metadata": {
    "collapsed": false,
    "is_executing": true
   },
   "id": "7c94054f80113bed"
  },
  {
   "cell_type": "code",
   "outputs": [],
   "source": [],
   "metadata": {
    "collapsed": false,
    "is_executing": true
   },
   "id": "1c3cd15b7ce8e293"
  },
  {
   "cell_type": "code",
   "outputs": [],
   "source": [],
   "metadata": {
    "collapsed": false,
    "is_executing": true
   },
   "id": "ae997c7962f61585"
  },
  {
   "cell_type": "code",
   "outputs": [],
   "source": [
    "# 방법 : KNN 알고리즘\n",
    "# max_k = scaled_X_train.shape[0]\n",
    "# max_k"
   ],
   "metadata": {
    "collapsed": false,
    "is_executing": true
   },
   "id": "bb96f624bdece301",
   "execution_count": null
  },
  {
   "cell_type": "code",
   "outputs": [],
   "source": [
    "'''\n",
    "train_scoreList = []\n",
    "test_scoreList = []\n",
    "for k in range(1, max_k + 1):\n",
    "    model = KNeighborsClassifier(n_neighbors=k)\n",
    "    # 학습 진행\n",
    "    model.fit(scaled_X_train, y_train)\n",
    "    # 점수 확인\n",
    "    train_scoreList.append(model.score(scaled_X_train, y_train))\n",
    "    test_scoreList.append(model.score(scaled_X_test, y_test))\n",
    "    \n",
    "'''"
   ],
   "metadata": {
    "collapsed": false,
    "is_executing": true
   },
   "id": "dfe949f65f086e01",
   "execution_count": null
  },
  {
   "cell_type": "code",
   "outputs": [],
   "source": [
    "# 학습 및 테스트 데이터에 대한 점수 확인\n",
    "#print(f\"Train Score : {train_scoreList}\")\n",
    "#print(f\"Test Score : {test_scoreList}\")"
   ],
   "metadata": {
    "collapsed": false,
    "is_executing": true
   },
   "id": "a50a7ea55ac9a0ba",
   "execution_count": null
  },
  {
   "cell_type": "code",
   "outputs": [],
   "source": [
    "# K 개수에 따른 학습용/테스트용 점수 시각화\n",
    "# plt.plot(train_scoreList, 'b--', label = 'Train Score')\n",
    "# plt.plot(test_scoreList, 'r--', label = 'Test Score')\n",
    "# plt.title('K & Score')\n",
    "# plt.xlabel('K')\n",
    "# plt.ylabel('Score')\n",
    "# plt.legend()\n",
    "# plt.show()"
   ],
   "metadata": {
    "collapsed": false,
    "is_executing": true
   },
   "id": "ac05bbd686b7439a",
   "execution_count": null
  },
  {
   "cell_type": "code",
   "outputs": [],
   "source": [],
   "metadata": {
    "collapsed": false,
    "is_executing": true
   },
   "id": "7a31eea70ae190e1",
   "execution_count": null
  },
  {
   "cell_type": "code",
   "outputs": [],
   "source": [],
   "metadata": {
    "collapsed": false,
    "is_executing": true
   },
   "id": "bd2e5aa65048a943",
   "execution_count": null
  },
  {
   "cell_type": "code",
   "outputs": [],
   "source": [],
   "metadata": {
    "collapsed": false,
    "is_executing": true
   },
   "id": "ecc3abf0b1547880",
   "execution_count": null
  },
  {
   "cell_type": "code",
   "outputs": [],
   "source": [],
   "metadata": {
    "collapsed": false,
    "is_executing": true
   },
   "id": "7226979eebb2805",
   "execution_count": null
  },
  {
   "cell_type": "code",
   "outputs": [],
   "source": [],
   "metadata": {
    "collapsed": false,
    "is_executing": true
   },
   "id": "56ddde1b49fcf32d",
   "execution_count": null
  },
  {
   "cell_type": "code",
   "outputs": [],
   "source": [],
   "metadata": {
    "collapsed": false,
    "is_executing": true
   },
   "id": "3b2e8d28328646e9",
   "execution_count": null
  },
  {
   "cell_type": "code",
   "outputs": [],
   "source": [],
   "metadata": {
    "collapsed": false,
    "is_executing": true
   },
   "id": "ac092ba532fa9730",
   "execution_count": null
  },
  {
   "cell_type": "code",
   "outputs": [],
   "source": [],
   "metadata": {
    "collapsed": false,
    "is_executing": true
   },
   "id": "e161e78dfbc8d621",
   "execution_count": null
  }
 ],
 "metadata": {
  "kernelspec": {
   "display_name": "Python 3",
   "language": "python",
   "name": "python3"
  },
  "language_info": {
   "codemirror_mode": {
    "name": "ipython",
    "version": 2
   },
   "file_extension": ".py",
   "mimetype": "text/x-python",
   "name": "python",
   "nbconvert_exporter": "python",
   "pygments_lexer": "ipython2",
   "version": "2.7.6"
  }
 },
 "nbformat": 4,
 "nbformat_minor": 5
}
