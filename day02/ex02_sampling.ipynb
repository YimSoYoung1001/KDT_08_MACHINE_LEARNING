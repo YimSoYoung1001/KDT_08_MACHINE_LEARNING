{
 "cells": [
  {
   "cell_type": "markdown",
   "source": [
    "### 표본추출/샘플링\n",
    "- 전체 데이터에서 일부 데이터를 추출\n",
    "- pandas.DataFrame.sample( ) 메서드\n",
    "- 복원추출 : 추출된 데이터를 다시 추가해서 추출하는 방식\n",
    "- 비복원추출 : 추출된 데이터를 제거 후 남은 데이터에서 추출하는 방식"
   ],
   "metadata": {
    "collapsed": false
   },
   "id": "7374ee69e131a772"
  },
  {
   "cell_type": "code",
   "outputs": [],
   "source": [
    "import pandas as pd"
   ],
   "metadata": {
    "collapsed": false,
    "ExecuteTime": {
     "end_time": "2024-02-26T01:24:19.048648100Z",
     "start_time": "2024-02-26T01:24:19.034032500Z"
    }
   },
   "id": "a0744a7122c046b2",
   "execution_count": 10
  },
  {
   "cell_type": "code",
   "outputs": [
    {
     "data": {
      "text/plain": "   kor  math  eng\n0   10    11  111\n1   20    22  222\n2   30    33  333",
      "text/html": "<div>\n<style scoped>\n    .dataframe tbody tr th:only-of-type {\n        vertical-align: middle;\n    }\n\n    .dataframe tbody tr th {\n        vertical-align: top;\n    }\n\n    .dataframe thead th {\n        text-align: right;\n    }\n</style>\n<table border=\"1\" class=\"dataframe\">\n  <thead>\n    <tr style=\"text-align: right;\">\n      <th></th>\n      <th>kor</th>\n      <th>math</th>\n      <th>eng</th>\n    </tr>\n  </thead>\n  <tbody>\n    <tr>\n      <th>0</th>\n      <td>10</td>\n      <td>11</td>\n      <td>111</td>\n    </tr>\n    <tr>\n      <th>1</th>\n      <td>20</td>\n      <td>22</td>\n      <td>222</td>\n    </tr>\n    <tr>\n      <th>2</th>\n      <td>30</td>\n      <td>33</td>\n      <td>333</td>\n    </tr>\n  </tbody>\n</table>\n</div>"
     },
     "execution_count": 11,
     "metadata": {},
     "output_type": "execute_result"
    }
   ],
   "source": [
    "# 임의의 데이터 생성\n",
    "dataDF = pd.DataFrame({'kor':[10, 20, 30], \n",
    "                       'math':[11, 22, 33], \n",
    "                       'eng':[111, 222, 333]})\n",
    "dataDF"
   ],
   "metadata": {
    "collapsed": false,
    "ExecuteTime": {
     "end_time": "2024-02-26T01:24:19.084434800Z",
     "start_time": "2024-02-26T01:24:19.056890700Z"
    }
   },
   "id": "f03840b9cb50f4ab",
   "execution_count": 11
  },
  {
   "cell_type": "code",
   "outputs": [
    {
     "name": "stdout",
     "output_type": "stream",
     "text": [
      "[0번]\n",
      "   kor  math  eng\n",
      "1   20    22  222\n",
      "--------------------------------------------------\n",
      "   eng  kor\n",
      "0  111   10\n",
      "1  222   20\n",
      "2  333   30\n",
      "--------------------------------------------------\n",
      "[1번]\n",
      "   kor  math  eng\n",
      "1   20    22  222\n",
      "--------------------------------------------------\n",
      "   kor  math\n",
      "0   10    11\n",
      "1   20    22\n",
      "2   30    33\n",
      "--------------------------------------------------\n",
      "[2번]\n",
      "   kor  math  eng\n",
      "2   30    33  333\n",
      "--------------------------------------------------\n",
      "   math  kor\n",
      "0    11   10\n",
      "1    22   20\n",
      "2    33   30\n",
      "--------------------------------------------------\n",
      "[3번]\n",
      "   kor  math  eng\n",
      "2   30    33  333\n",
      "--------------------------------------------------\n",
      "   eng  kor\n",
      "0  111   10\n",
      "1  222   20\n",
      "2  333   30\n",
      "--------------------------------------------------\n",
      "[4번]\n",
      "   kor  math  eng\n",
      "2   30    33  333\n",
      "--------------------------------------------------\n",
      "   math  eng\n",
      "0    11  111\n",
      "1    22  222\n",
      "2    33  333\n",
      "--------------------------------------------------\n"
     ]
    }
   ],
   "source": [
    "# 1개의 샘플/표본 데이터 추출 => [기본] : 비복원 - 전체 데이터 수 초과 불가\n",
    "# 추출 기준 축(axis)로 설정. default값은 행\n",
    "\n",
    "for cnt in range(5):\n",
    "    print(f\"[{cnt}번]\")\n",
    "    print(dataDF.sample(n=1))\n",
    "    print('-'*50)\n",
    "    print(dataDF.sample(n=2, axis = 'columns'))\n",
    "    print('-'*50)"
   ],
   "metadata": {
    "collapsed": false,
    "ExecuteTime": {
     "end_time": "2024-02-26T01:24:19.138899300Z",
     "start_time": "2024-02-26T01:24:19.066356700Z"
    }
   },
   "id": "eb17766551d9f028",
   "execution_count": 12
  },
  {
   "cell_type": "code",
   "outputs": [
    {
     "name": "stdout",
     "output_type": "stream",
     "text": [
      "[0번]\n",
      "   kor  math  eng\n",
      "2   30    33  333\n",
      "1   20    22  222\n",
      "0   10    11  111\n",
      "[1번]\n",
      "   kor  math  eng\n",
      "2   30    33  333\n",
      "1   20    22  222\n",
      "0   10    11  111\n",
      "[2번]\n",
      "   kor  math  eng\n",
      "1   20    22  222\n",
      "0   10    11  111\n",
      "2   30    33  333\n",
      "[3번]\n",
      "   kor  math  eng\n",
      "1   20    22  222\n",
      "2   30    33  333\n",
      "0   10    11  111\n",
      "[4번]\n",
      "   kor  math  eng\n",
      "2   30    33  333\n",
      "0   10    11  111\n",
      "1   20    22  222\n"
     ]
    }
   ],
   "source": [
    "# 1개의 샘플/표본 데이터 추출 => [설정] 복원 : replace 매개변수 True 설정\n",
    "# 추출 기준 축(axis)로 설정. default값은 행\n",
    "\n",
    "for cnt in range(5):\n",
    "    print(f\"[{cnt}번]\")\n",
    "    print(dataDF.sample(n=3))"
   ],
   "metadata": {
    "collapsed": false,
    "ExecuteTime": {
     "end_time": "2024-02-26T01:25:42.749183200Z",
     "start_time": "2024-02-26T01:25:42.720062900Z"
    }
   },
   "id": "8b3f472f516ca9c",
   "execution_count": 14
  },
  {
   "cell_type": "code",
   "outputs": [],
   "source": [],
   "metadata": {
    "collapsed": false
   },
   "id": "925ffba59b99cd3c"
  }
 ],
 "metadata": {
  "kernelspec": {
   "display_name": "Python 3",
   "language": "python",
   "name": "python3"
  },
  "language_info": {
   "codemirror_mode": {
    "name": "ipython",
    "version": 2
   },
   "file_extension": ".py",
   "mimetype": "text/x-python",
   "name": "python",
   "nbconvert_exporter": "python",
   "pygments_lexer": "ipython2",
   "version": "2.7.6"
  }
 },
 "nbformat": 4,
 "nbformat_minor": 5
}
