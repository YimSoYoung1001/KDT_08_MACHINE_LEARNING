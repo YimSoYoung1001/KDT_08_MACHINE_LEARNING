{
 "cells": [
  {
   "cell_type": "markdown",
   "source": [
    "#### 머신러닝 4일차 과제 (auto-mpg.csv 연비 분석 모델) _ 임소영"
   ],
   "metadata": {
    "collapsed": false
   },
   "id": "96655fb70d0d8ad9"
  },
  {
   "cell_type": "markdown",
   "source": [
    "\n",
    "1) mpg: 연비, continuous\n",
    "\n",
    "2) cylinders: 실린더 개수, multi-valued discrete\n",
    "\n",
    "3) displacement: 배기량, continuous\n",
    "\n",
    "4) horsepower: 마력, continuous\n",
    "\n",
    "5) weight: 무게, continuous\n",
    "\n",
    "6) acceleration: 엔진이 초당 얻을 수 있는 가속력, continuous\n",
    "\n",
    "7) model year: 출시 년도, multi-valued discrete\n",
    "\n",
    "8) origin: 제조 장소(1: 미국 USA, 2: 유럽 EU, 3: 일본 JPN), multi-valued discrete\n",
    "\n",
    "9) car name: 자동차 이름, string (unique for each instance)"
   ],
   "metadata": {
    "collapsed": false
   },
   "id": "9e8f3fa1d25e9e96"
  },
  {
   "cell_type": "code",
   "outputs": [],
   "source": [
    "import pandas as pd\n",
    "import numpy as np\n",
    "import matplotlib.pyplot as plt\n",
    "from sklearn.model_selection import train_test_split\n",
    "from sklearn.preprocessing import StandardScaler, MinMaxScaler, RobustScaler\n",
    "from sklearn.linear_model import LinearRegression\n",
    "from sklearn.metrics import mean_absolute_error, mean_squared_error, r2_score\n",
    "from sklearn.preprocessing import PolynomialFeatures"
   ],
   "metadata": {
    "collapsed": false,
    "ExecuteTime": {
     "end_time": "2024-03-02T06:07:43.113180Z",
     "start_time": "2024-03-02T06:07:43.105451Z"
    }
   },
   "id": "47afe86b24e3ab2",
   "execution_count": 259
  },
  {
   "cell_type": "code",
   "outputs": [
    {
     "data": {
      "text/plain": "      mpg  cylinders  displacement horsepower  weight  acceleration  \\\n0    18.0          8         307.0        130    3504          12.0   \n1    15.0          8         350.0        165    3693          11.5   \n2    18.0          8         318.0        150    3436          11.0   \n3    16.0          8         304.0        150    3433          12.0   \n4    17.0          8         302.0        140    3449          10.5   \n..    ...        ...           ...        ...     ...           ...   \n393  27.0          4         140.0         86    2790          15.6   \n394  44.0          4          97.0         52    2130          24.6   \n395  32.0          4         135.0         84    2295          11.6   \n396  28.0          4         120.0         79    2625          18.6   \n397  31.0          4         119.0         82    2720          19.4   \n\n     model year  origin                   car name  \n0            70       1  chevrolet chevelle malibu  \n1            70       1          buick skylark 320  \n2            70       1         plymouth satellite  \n3            70       1              amc rebel sst  \n4            70       1                ford torino  \n..          ...     ...                        ...  \n393          82       1            ford mustang gl  \n394          82       2                  vw pickup  \n395          82       1              dodge rampage  \n396          82       1                ford ranger  \n397          82       1                 chevy s-10  \n\n[398 rows x 9 columns]",
      "text/html": "<div>\n<style scoped>\n    .dataframe tbody tr th:only-of-type {\n        vertical-align: middle;\n    }\n\n    .dataframe tbody tr th {\n        vertical-align: top;\n    }\n\n    .dataframe thead th {\n        text-align: right;\n    }\n</style>\n<table border=\"1\" class=\"dataframe\">\n  <thead>\n    <tr style=\"text-align: right;\">\n      <th></th>\n      <th>mpg</th>\n      <th>cylinders</th>\n      <th>displacement</th>\n      <th>horsepower</th>\n      <th>weight</th>\n      <th>acceleration</th>\n      <th>model year</th>\n      <th>origin</th>\n      <th>car name</th>\n    </tr>\n  </thead>\n  <tbody>\n    <tr>\n      <th>0</th>\n      <td>18.0</td>\n      <td>8</td>\n      <td>307.0</td>\n      <td>130</td>\n      <td>3504</td>\n      <td>12.0</td>\n      <td>70</td>\n      <td>1</td>\n      <td>chevrolet chevelle malibu</td>\n    </tr>\n    <tr>\n      <th>1</th>\n      <td>15.0</td>\n      <td>8</td>\n      <td>350.0</td>\n      <td>165</td>\n      <td>3693</td>\n      <td>11.5</td>\n      <td>70</td>\n      <td>1</td>\n      <td>buick skylark 320</td>\n    </tr>\n    <tr>\n      <th>2</th>\n      <td>18.0</td>\n      <td>8</td>\n      <td>318.0</td>\n      <td>150</td>\n      <td>3436</td>\n      <td>11.0</td>\n      <td>70</td>\n      <td>1</td>\n      <td>plymouth satellite</td>\n    </tr>\n    <tr>\n      <th>3</th>\n      <td>16.0</td>\n      <td>8</td>\n      <td>304.0</td>\n      <td>150</td>\n      <td>3433</td>\n      <td>12.0</td>\n      <td>70</td>\n      <td>1</td>\n      <td>amc rebel sst</td>\n    </tr>\n    <tr>\n      <th>4</th>\n      <td>17.0</td>\n      <td>8</td>\n      <td>302.0</td>\n      <td>140</td>\n      <td>3449</td>\n      <td>10.5</td>\n      <td>70</td>\n      <td>1</td>\n      <td>ford torino</td>\n    </tr>\n    <tr>\n      <th>...</th>\n      <td>...</td>\n      <td>...</td>\n      <td>...</td>\n      <td>...</td>\n      <td>...</td>\n      <td>...</td>\n      <td>...</td>\n      <td>...</td>\n      <td>...</td>\n    </tr>\n    <tr>\n      <th>393</th>\n      <td>27.0</td>\n      <td>4</td>\n      <td>140.0</td>\n      <td>86</td>\n      <td>2790</td>\n      <td>15.6</td>\n      <td>82</td>\n      <td>1</td>\n      <td>ford mustang gl</td>\n    </tr>\n    <tr>\n      <th>394</th>\n      <td>44.0</td>\n      <td>4</td>\n      <td>97.0</td>\n      <td>52</td>\n      <td>2130</td>\n      <td>24.6</td>\n      <td>82</td>\n      <td>2</td>\n      <td>vw pickup</td>\n    </tr>\n    <tr>\n      <th>395</th>\n      <td>32.0</td>\n      <td>4</td>\n      <td>135.0</td>\n      <td>84</td>\n      <td>2295</td>\n      <td>11.6</td>\n      <td>82</td>\n      <td>1</td>\n      <td>dodge rampage</td>\n    </tr>\n    <tr>\n      <th>396</th>\n      <td>28.0</td>\n      <td>4</td>\n      <td>120.0</td>\n      <td>79</td>\n      <td>2625</td>\n      <td>18.6</td>\n      <td>82</td>\n      <td>1</td>\n      <td>ford ranger</td>\n    </tr>\n    <tr>\n      <th>397</th>\n      <td>31.0</td>\n      <td>4</td>\n      <td>119.0</td>\n      <td>82</td>\n      <td>2720</td>\n      <td>19.4</td>\n      <td>82</td>\n      <td>1</td>\n      <td>chevy s-10</td>\n    </tr>\n  </tbody>\n</table>\n<p>398 rows × 9 columns</p>\n</div>"
     },
     "execution_count": 260,
     "metadata": {},
     "output_type": "execute_result"
    }
   ],
   "source": [
    "file = '../data/auto-mpg.csv'\n",
    "data = pd.read_csv(file)\n",
    "data"
   ],
   "metadata": {
    "collapsed": false,
    "ExecuteTime": {
     "end_time": "2024-03-02T06:07:43.345551Z",
     "start_time": "2024-03-02T06:07:43.323242Z"
    }
   },
   "id": "169ee6718d882a77",
   "execution_count": 260
  },
  {
   "cell_type": "code",
   "outputs": [
    {
     "name": "stdout",
     "output_type": "stream",
     "text": [
      "<class 'pandas.core.frame.DataFrame'>\n",
      "RangeIndex: 398 entries, 0 to 397\n",
      "Data columns (total 9 columns):\n",
      " #   Column        Non-Null Count  Dtype  \n",
      "---  ------        --------------  -----  \n",
      " 0   mpg           398 non-null    float64\n",
      " 1   cylinders     398 non-null    int64  \n",
      " 2   displacement  398 non-null    float64\n",
      " 3   horsepower    398 non-null    object \n",
      " 4   weight        398 non-null    int64  \n",
      " 5   acceleration  398 non-null    float64\n",
      " 6   model year    398 non-null    int64  \n",
      " 7   origin        398 non-null    int64  \n",
      " 8   car name      398 non-null    object \n",
      "dtypes: float64(3), int64(4), object(2)\n",
      "memory usage: 28.1+ KB\n"
     ]
    }
   ],
   "source": [
    "data.info()\n",
    "# cylinders, model year, origin => category로 형변환"
   ],
   "metadata": {
    "collapsed": false,
    "ExecuteTime": {
     "end_time": "2024-03-02T06:07:43.377056Z",
     "start_time": "2024-03-02T06:07:43.354274Z"
    }
   },
   "id": "be1e15e94e943622",
   "execution_count": 261
  },
  {
   "cell_type": "code",
   "outputs": [
    {
     "name": "stdout",
     "output_type": "stream",
     "text": [
      "<class 'pandas.core.frame.DataFrame'>\n",
      "RangeIndex: 398 entries, 0 to 397\n",
      "Data columns (total 9 columns):\n",
      " #   Column        Non-Null Count  Dtype   \n",
      "---  ------        --------------  -----   \n",
      " 0   mpg           398 non-null    float64 \n",
      " 1   cylinders     398 non-null    category\n",
      " 2   displacement  398 non-null    float64 \n",
      " 3   horsepower    398 non-null    object  \n",
      " 4   weight        398 non-null    int64   \n",
      " 5   acceleration  398 non-null    float64 \n",
      " 6   model year    398 non-null    category\n",
      " 7   origin        398 non-null    category\n",
      " 8   car name      398 non-null    object  \n",
      "dtypes: category(3), float64(3), int64(1), object(2)\n",
      "memory usage: 20.9+ KB\n"
     ]
    }
   ],
   "source": [
    "data['cylinders'] = data['cylinders'].astype('category')\n",
    "data['model year'] = data['model year'].astype('category')\n",
    "data['origin'] = data['origin'].astype('category')\n",
    "#data['horsepower'] = data['horsepower'].astype('int64')\n",
    "data.info()\n",
    "\n",
    "# horsepower 컬럼에서 형변환이 되지 않는다."
   ],
   "metadata": {
    "collapsed": false,
    "ExecuteTime": {
     "end_time": "2024-03-02T06:07:43.423961Z",
     "start_time": "2024-03-02T06:07:43.403367Z"
    }
   },
   "id": "8a347ddb286c3d7c",
   "execution_count": 262
  },
  {
   "cell_type": "code",
   "outputs": [
    {
     "data": {
      "text/plain": "mpg             0\ncylinders       0\ndisplacement    0\nhorsepower      0\nweight          0\nacceleration    0\nmodel year      0\norigin          0\ncar name        0\ndtype: int64"
     },
     "execution_count": 263,
     "metadata": {},
     "output_type": "execute_result"
    }
   ],
   "source": [
    "# 결측치 확인\n",
    "data.isnull().sum()"
   ],
   "metadata": {
    "collapsed": false,
    "ExecuteTime": {
     "end_time": "2024-03-02T06:07:43.502686Z",
     "start_time": "2024-03-02T06:07:43.486937Z"
    }
   },
   "id": "1bd6da3f728fdb7e",
   "execution_count": 263
  },
  {
   "cell_type": "code",
   "outputs": [
    {
     "data": {
      "text/plain": "0"
     },
     "execution_count": 264,
     "metadata": {},
     "output_type": "execute_result"
    }
   ],
   "source": [
    "# 중복값 확인\n",
    "data.duplicated().sum()"
   ],
   "metadata": {
    "collapsed": false,
    "ExecuteTime": {
     "end_time": "2024-03-02T06:07:43.580042Z",
     "start_time": "2024-03-02T06:07:43.563856Z"
    }
   },
   "id": "868333529a46f917",
   "execution_count": 264
  },
  {
   "cell_type": "code",
   "outputs": [
    {
     "data": {
      "text/plain": "mpg             129\ncylinders         5\ndisplacement     82\nhorsepower       94\nweight          351\nacceleration     95\nmodel year       13\norigin            3\ncar name        305\ndtype: int64"
     },
     "execution_count": 265,
     "metadata": {},
     "output_type": "execute_result"
    }
   ],
   "source": [
    "# 값 확인\n",
    "data.nunique()"
   ],
   "metadata": {
    "collapsed": false,
    "ExecuteTime": {
     "end_time": "2024-03-02T06:07:43.626977Z",
     "start_time": "2024-03-02T06:07:43.605972Z"
    }
   },
   "id": "fa6e51d100052356",
   "execution_count": 265
  },
  {
   "cell_type": "code",
   "outputs": [
    {
     "name": "stdout",
     "output_type": "stream",
     "text": [
      "[18.  15.  16.  17.  14.  24.  22.  21.  27.  26.  25.  10.  11.   9.\n",
      " 28.  19.  12.  13.  23.  30.  31.  35.  20.  29.  32.  33.  17.5 15.5\n",
      " 14.5 22.5 24.5 18.5 29.5 26.5 16.5 31.5 36.  25.5 33.5 20.5 30.5 21.5\n",
      " 43.1 36.1 32.8 39.4 19.9 19.4 20.2 19.2 25.1 20.6 20.8 18.6 18.1 17.7\n",
      " 27.5 27.2 30.9 21.1 23.2 23.8 23.9 20.3 21.6 16.2 19.8 22.3 17.6 18.2\n",
      " 16.9 31.9 34.1 35.7 27.4 25.4 34.2 34.5 31.8 37.3 28.4 28.8 26.8 41.5\n",
      " 38.1 32.1 37.2 26.4 24.3 19.1 34.3 29.8 31.3 37.  32.2 46.6 27.9 40.8\n",
      " 44.3 43.4 36.4 44.6 40.9 33.8 32.7 23.7 23.6 32.4 26.6 25.8 23.5 39.1\n",
      " 39.  35.1 32.3 37.7 34.7 34.4 29.9 33.7 32.9 31.6 28.1 30.7 24.2 22.4\n",
      " 34.  38.  44. ]\n",
      "--------------------------------------------------\n",
      "[8, 4, 6, 3, 5]\n",
      "Categories (5, int64): [3, 4, 5, 6, 8]\n",
      "--------------------------------------------------\n",
      "[307.  350.  318.  304.  302.  429.  454.  440.  455.  390.  383.  340.\n",
      " 400.  113.  198.  199.  200.   97.  110.  107.  104.  121.  360.  140.\n",
      "  98.  232.  225.  250.  351.  258.  122.  116.   79.   88.   71.   72.\n",
      "  91.   97.5  70.  120.   96.  108.  155.   68.  114.  156.   76.   83.\n",
      "  90.  231.  262.  134.  119.  171.  115.  101.  305.   85.  130.  168.\n",
      " 111.  260.  151.  146.   80.   78.  105.  131.  163.   89.  267.   86.\n",
      " 183.  141.  173.  135.   81.  100.  145.  112.  181.  144. ]\n",
      "--------------------------------------------------\n",
      "['130' '165' '150' '140' '198' '220' '215' '225' '190' '170' '160' '95'\n",
      " '97' '85' '88' '46' '87' '90' '113' '200' '210' '193' '?' '100' '105'\n",
      " '175' '153' '180' '110' '72' '86' '70' '76' '65' '69' '60' '80' '54'\n",
      " '208' '155' '112' '92' '145' '137' '158' '167' '94' '107' '230' '49' '75'\n",
      " '91' '122' '67' '83' '78' '52' '61' '93' '148' '129' '96' '71' '98' '115'\n",
      " '53' '81' '79' '120' '152' '102' '108' '68' '58' '149' '89' '63' '48'\n",
      " '66' '139' '103' '125' '133' '138' '135' '142' '77' '62' '132' '84' '64'\n",
      " '74' '116' '82']\n",
      "--------------------------------------------------\n",
      "[3504 3693 3436 3433 3449 4341 4354 4312 4425 3850 3563 3609 3761 3086\n",
      " 2372 2833 2774 2587 2130 1835 2672 2430 2375 2234 2648 4615 4376 4382\n",
      " 4732 2264 2228 2046 2634 3439 3329 3302 3288 4209 4464 4154 4096 4955\n",
      " 4746 5140 2962 2408 3282 3139 2220 2123 2074 2065 1773 1613 1834 1955\n",
      " 2278 2126 2254 2226 4274 4385 4135 4129 3672 4633 4502 4456 4422 2330\n",
      " 3892 4098 4294 4077 2933 2511 2979 2189 2395 2288 2506 2164 2100 4100\n",
      " 3988 4042 3777 4952 4363 4237 4735 4951 3821 3121 3278 2945 3021 2904\n",
      " 1950 4997 4906 4654 4499 2789 2279 2401 2379 2124 2310 2472 2265 4082\n",
      " 4278 1867 2158 2582 2868 3399 2660 2807 3664 3102 2875 2901 3336 2451\n",
      " 1836 2542 3781 3632 3613 4141 4699 4457 4638 4257 2219 1963 2300 1649\n",
      " 2003 2125 2108 2246 2489 2391 2000 3264 3459 3432 3158 4668 4440 4498\n",
      " 4657 3907 3897 3730 3785 3039 3221 3169 2171 2639 2914 2592 2702 2223\n",
      " 2545 2984 1937 3211 2694 2957 2671 1795 2464 2572 2255 2202 4215 4190\n",
      " 3962 3233 3353 3012 3085 2035 3651 3574 3645 3193 1825 1990 2155 2565\n",
      " 3150 3940 3270 2930 3820 4380 4055 3870 3755 2045 1945 3880 4060 4140\n",
      " 4295 3520 3425 3630 3525 4220 4165 4325 4335 1940 2740 2755 2051 2075\n",
      " 1985 2190 2815 2600 2720 1800 2070 3365 3735 3570 3535 3155 2965 3430\n",
      " 3210 3380 3070 3620 3410 3445 3205 4080 2560 2230 2515 2745 2855 2405\n",
      " 2830 3140 2795 2135 3245 2990 2890 3265 3360 3840 3725 3955 3830 4360\n",
      " 4054 3605 1925 1975 1915 2670 3530 3900 3190 3420 2200 2150 2020 2595\n",
      " 2700 2556 2144 1968 2120 2019 2678 2870 3003 3381 2188 2711 2434 2110\n",
      " 2800 2085 2335 2950 3250 1850 2145 1845 2910 2420 2500 2905 2290 2490\n",
      " 2635 2620 2725 2385 1755 1875 1760 2050 2215 2380 2320 2210 2350 2615\n",
      " 3230 3160 2900 3415 3060 3465 2605 2640 2575 2525 2735 2865 3035 1980\n",
      " 2025 1970 2160 2205 2245 1965 1995 3015 2585 2835 2665 2370 2790 2295\n",
      " 2625]\n",
      "--------------------------------------------------\n",
      "[12.  11.5 11.  10.5 10.   9.   8.5  8.   9.5 15.  15.5 16.  14.5 20.5\n",
      " 17.5 12.5 14.  13.5 18.5 19.  13.  19.5 18.  17.  23.5 16.5 21.  16.9\n",
      " 14.9 17.7 15.3 13.9 12.8 15.4 17.6 22.2 22.1 14.2 17.4 16.2 17.8 12.2\n",
      " 16.4 13.6 15.7 13.2 21.9 16.7 12.1 14.8 18.6 16.8 13.7 11.1 11.4 18.2\n",
      " 15.8 15.9 14.1 21.5 14.4 19.4 19.2 17.2 18.7 15.1 13.4 11.2 14.7 16.6\n",
      " 17.3 15.2 14.3 20.1 24.8 11.3 12.9 18.8 18.1 17.9 21.7 23.7 19.9 21.8\n",
      " 13.8 12.6 16.1 20.7 18.3 20.4 19.6 17.1 15.6 24.6 11.6]\n",
      "--------------------------------------------------\n",
      "[70, 71, 72, 73, 74, ..., 78, 79, 80, 81, 82]\n",
      "Length: 13\n",
      "Categories (13, int64): [70, 71, 72, 73, ..., 79, 80, 81, 82]\n",
      "--------------------------------------------------\n",
      "[1, 3, 2]\n",
      "Categories (3, int64): [1, 2, 3]\n",
      "--------------------------------------------------\n",
      "['chevrolet chevelle malibu' 'buick skylark 320' 'plymouth satellite'\n",
      " 'amc rebel sst' 'ford torino' 'ford galaxie 500' 'chevrolet impala'\n",
      " 'plymouth fury iii' 'pontiac catalina' 'amc ambassador dpl'\n",
      " 'dodge challenger se' \"plymouth 'cuda 340\" 'chevrolet monte carlo'\n",
      " 'buick estate wagon (sw)' 'toyota corona mark ii' 'plymouth duster'\n",
      " 'amc hornet' 'ford maverick' 'datsun pl510'\n",
      " 'volkswagen 1131 deluxe sedan' 'peugeot 504' 'audi 100 ls' 'saab 99e'\n",
      " 'bmw 2002' 'amc gremlin' 'ford f250' 'chevy c20' 'dodge d200' 'hi 1200d'\n",
      " 'chevrolet vega 2300' 'toyota corona' 'ford pinto'\n",
      " 'plymouth satellite custom' 'ford torino 500' 'amc matador'\n",
      " 'pontiac catalina brougham' 'dodge monaco (sw)'\n",
      " 'ford country squire (sw)' 'pontiac safari (sw)'\n",
      " 'amc hornet sportabout (sw)' 'chevrolet vega (sw)' 'pontiac firebird'\n",
      " 'ford mustang' 'mercury capri 2000' 'opel 1900' 'peugeot 304' 'fiat 124b'\n",
      " 'toyota corolla 1200' 'datsun 1200' 'volkswagen model 111'\n",
      " 'plymouth cricket' 'toyota corona hardtop' 'dodge colt hardtop'\n",
      " 'volkswagen type 3' 'chevrolet vega' 'ford pinto runabout'\n",
      " 'amc ambassador sst' 'mercury marquis' 'buick lesabre custom'\n",
      " 'oldsmobile delta 88 royale' 'chrysler newport royal' 'mazda rx2 coupe'\n",
      " 'amc matador (sw)' 'chevrolet chevelle concours (sw)'\n",
      " 'ford gran torino (sw)' 'plymouth satellite custom (sw)'\n",
      " 'volvo 145e (sw)' 'volkswagen 411 (sw)' 'peugeot 504 (sw)'\n",
      " 'renault 12 (sw)' 'ford pinto (sw)' 'datsun 510 (sw)'\n",
      " 'toyouta corona mark ii (sw)' 'dodge colt (sw)'\n",
      " 'toyota corolla 1600 (sw)' 'buick century 350' 'chevrolet malibu'\n",
      " 'ford gran torino' 'dodge coronet custom' 'mercury marquis brougham'\n",
      " 'chevrolet caprice classic' 'ford ltd' 'plymouth fury gran sedan'\n",
      " 'chrysler new yorker brougham' 'buick electra 225 custom'\n",
      " 'amc ambassador brougham' 'plymouth valiant' 'chevrolet nova custom'\n",
      " 'volkswagen super beetle' 'ford country' 'plymouth custom suburb'\n",
      " 'oldsmobile vista cruiser' 'toyota carina' 'datsun 610' 'maxda rx3'\n",
      " 'mercury capri v6' 'fiat 124 sport coupe' 'chevrolet monte carlo s'\n",
      " 'pontiac grand prix' 'fiat 128' 'opel manta' 'audi 100ls' 'volvo 144ea'\n",
      " 'dodge dart custom' 'saab 99le' 'toyota mark ii' 'oldsmobile omega'\n",
      " 'chevrolet nova' 'datsun b210' 'chevrolet chevelle malibu classic'\n",
      " 'plymouth satellite sebring' 'buick century luxus (sw)'\n",
      " 'dodge coronet custom (sw)' 'audi fox' 'volkswagen dasher' 'datsun 710'\n",
      " 'dodge colt' 'fiat 124 tc' 'honda civic' 'subaru' 'fiat x1.9'\n",
      " 'plymouth valiant custom' 'mercury monarch' 'chevrolet bel air'\n",
      " 'plymouth grand fury' 'buick century' 'chevroelt chevelle malibu'\n",
      " 'plymouth fury' 'buick skyhawk' 'chevrolet monza 2+2' 'ford mustang ii'\n",
      " 'toyota corolla' 'pontiac astro' 'volkswagen rabbit' 'amc pacer'\n",
      " 'volvo 244dl' 'honda civic cvcc' 'fiat 131' 'capri ii' 'renault 12tl'\n",
      " 'dodge coronet brougham' 'chevrolet chevette' 'chevrolet woody'\n",
      " 'vw rabbit' 'dodge aspen se' 'ford granada ghia' 'pontiac ventura sj'\n",
      " 'amc pacer d/l' 'datsun b-210' 'volvo 245' 'plymouth volare premier v8'\n",
      " 'mercedes-benz 280s' 'cadillac seville' 'chevy c10' 'ford f108'\n",
      " 'dodge d100' 'honda accord cvcc' 'buick opel isuzu deluxe'\n",
      " 'renault 5 gtl' 'plymouth arrow gs' 'datsun f-10 hatchback'\n",
      " 'oldsmobile cutlass supreme' 'dodge monaco brougham'\n",
      " 'mercury cougar brougham' 'chevrolet concours' 'buick skylark'\n",
      " 'plymouth volare custom' 'ford granada' 'pontiac grand prix lj'\n",
      " 'chevrolet monte carlo landau' 'chrysler cordoba' 'ford thunderbird'\n",
      " 'volkswagen rabbit custom' 'pontiac sunbird coupe'\n",
      " 'toyota corolla liftback' 'ford mustang ii 2+2' 'dodge colt m/m'\n",
      " 'subaru dl' 'datsun 810' 'bmw 320i' 'mazda rx-4'\n",
      " 'volkswagen rabbit custom diesel' 'ford fiesta' 'mazda glc deluxe'\n",
      " 'datsun b210 gx' 'oldsmobile cutlass salon brougham' 'dodge diplomat'\n",
      " 'mercury monarch ghia' 'pontiac phoenix lj' 'ford fairmont (auto)'\n",
      " 'ford fairmont (man)' 'plymouth volare' 'amc concord'\n",
      " 'buick century special' 'mercury zephyr' 'dodge aspen' 'amc concord d/l'\n",
      " 'buick regal sport coupe (turbo)' 'ford futura' 'dodge magnum xe'\n",
      " 'datsun 510' 'dodge omni' 'toyota celica gt liftback' 'plymouth sapporo'\n",
      " 'oldsmobile starfire sx' 'datsun 200-sx' 'audi 5000' 'volvo 264gl'\n",
      " 'saab 99gle' 'peugeot 604sl' 'volkswagen scirocco' 'honda accord lx'\n",
      " 'pontiac lemans v6' 'mercury zephyr 6' 'ford fairmont 4'\n",
      " 'amc concord dl 6' 'dodge aspen 6' 'ford ltd landau'\n",
      " 'mercury grand marquis' 'dodge st. regis' 'chevrolet malibu classic (sw)'\n",
      " 'chrysler lebaron town @ country (sw)' 'vw rabbit custom'\n",
      " 'maxda glc deluxe' 'dodge colt hatchback custom' 'amc spirit dl'\n",
      " 'mercedes benz 300d' 'cadillac eldorado' 'plymouth horizon'\n",
      " 'plymouth horizon tc3' 'datsun 210' 'fiat strada custom'\n",
      " 'buick skylark limited' 'chevrolet citation' 'oldsmobile omega brougham'\n",
      " 'pontiac phoenix' 'toyota corolla tercel' 'datsun 310' 'ford fairmont'\n",
      " 'audi 4000' 'toyota corona liftback' 'mazda 626' 'datsun 510 hatchback'\n",
      " 'mazda glc' 'vw rabbit c (diesel)' 'vw dasher (diesel)'\n",
      " 'audi 5000s (diesel)' 'mercedes-benz 240d' 'honda civic 1500 gl'\n",
      " 'renault lecar deluxe' 'vokswagen rabbit' 'datsun 280-zx' 'mazda rx-7 gs'\n",
      " 'triumph tr7 coupe' 'ford mustang cobra' 'honda accord'\n",
      " 'plymouth reliant' 'dodge aries wagon (sw)' 'toyota starlet'\n",
      " 'plymouth champ' 'honda civic 1300' 'datsun 210 mpg' 'toyota tercel'\n",
      " 'mazda glc 4' 'plymouth horizon 4' 'ford escort 4w' 'ford escort 2h'\n",
      " 'volkswagen jetta' 'renault 18i' 'honda prelude' 'datsun 200sx'\n",
      " 'peugeot 505s turbo diesel' 'volvo diesel' 'toyota cressida'\n",
      " 'datsun 810 maxima' 'oldsmobile cutlass ls' 'ford granada gl'\n",
      " 'chrysler lebaron salon' 'chevrolet cavalier' 'chevrolet cavalier wagon'\n",
      " 'chevrolet cavalier 2-door' 'pontiac j2000 se hatchback' 'dodge aries se'\n",
      " 'ford fairmont futura' 'amc concord dl' 'volkswagen rabbit l'\n",
      " 'mazda glc custom l' 'mazda glc custom' 'plymouth horizon miser'\n",
      " 'mercury lynx l' 'nissan stanza xe' 'honda civic (auto)' 'datsun 310 gx'\n",
      " 'buick century limited' 'oldsmobile cutlass ciera (diesel)'\n",
      " 'chrysler lebaron medallion' 'ford granada l' 'toyota celica gt'\n",
      " 'dodge charger 2.2' 'chevrolet camaro' 'ford mustang gl' 'vw pickup'\n",
      " 'dodge rampage' 'ford ranger' 'chevy s-10']\n",
      "--------------------------------------------------\n"
     ]
    }
   ],
   "source": [
    "list = data.columns.tolist()\n",
    "\n",
    "for col in list:\n",
    "    print(data[col].unique())\n",
    "    print('-'*50)"
   ],
   "metadata": {
    "collapsed": false,
    "ExecuteTime": {
     "end_time": "2024-03-02T06:07:43.657068Z",
     "start_time": "2024-03-02T06:07:43.637686Z"
    }
   },
   "id": "9ee42f4e1639e991",
   "execution_count": 266
  },
  {
   "cell_type": "code",
   "outputs": [],
   "source": [
    "data['horsepower'] = data['horsepower'].replace('?', '0')"
   ],
   "metadata": {
    "collapsed": false,
    "ExecuteTime": {
     "end_time": "2024-03-02T06:07:43.688226Z",
     "start_time": "2024-03-02T06:07:43.670934Z"
    }
   },
   "id": "a89831e71b3cad25",
   "execution_count": 267
  },
  {
   "cell_type": "code",
   "outputs": [
    {
     "name": "stdout",
     "output_type": "stream",
     "text": [
      "<class 'pandas.core.frame.DataFrame'>\n",
      "RangeIndex: 398 entries, 0 to 397\n",
      "Data columns (total 9 columns):\n",
      " #   Column        Non-Null Count  Dtype   \n",
      "---  ------        --------------  -----   \n",
      " 0   mpg           398 non-null    float64 \n",
      " 1   cylinders     398 non-null    category\n",
      " 2   displacement  398 non-null    float64 \n",
      " 3   horsepower    398 non-null    int64   \n",
      " 4   weight        398 non-null    int64   \n",
      " 5   acceleration  398 non-null    float64 \n",
      " 6   model year    398 non-null    category\n",
      " 7   origin        398 non-null    category\n",
      " 8   car name      398 non-null    object  \n",
      "dtypes: category(3), float64(3), int64(2), object(1)\n",
      "memory usage: 20.9+ KB\n"
     ]
    }
   ],
   "source": [
    "data['horsepower'] = data['horsepower'].astype('int64')\n",
    "data.info()"
   ],
   "metadata": {
    "collapsed": false,
    "ExecuteTime": {
     "end_time": "2024-03-02T06:07:43.704027Z",
     "start_time": "2024-03-02T06:07:43.692240Z"
    }
   },
   "id": "4cad5b495f224481",
   "execution_count": 268
  },
  {
   "cell_type": "code",
   "outputs": [
    {
     "data": {
      "text/plain": "      mpg cylinders  displacement  horsepower  weight  acceleration  \\\n0    18.0         8         307.0         130    3504          12.0   \n1    15.0         8         350.0         165    3693          11.5   \n2    18.0         8         318.0         150    3436          11.0   \n3    16.0         8         304.0         150    3433          12.0   \n4    17.0         8         302.0         140    3449          10.5   \n..    ...       ...           ...         ...     ...           ...   \n393  27.0         4         140.0          86    2790          15.6   \n394  44.0         4          97.0          52    2130          24.6   \n395  32.0         4         135.0          84    2295          11.6   \n396  28.0         4         120.0          79    2625          18.6   \n397  31.0         4         119.0          82    2720          19.4   \n\n    model year origin                   car name  \n0           70      1  chevrolet chevelle malibu  \n1           70      1          buick skylark 320  \n2           70      1         plymouth satellite  \n3           70      1              amc rebel sst  \n4           70      1                ford torino  \n..         ...    ...                        ...  \n393         82      1            ford mustang gl  \n394         82      2                  vw pickup  \n395         82      1              dodge rampage  \n396         82      1                ford ranger  \n397         82      1                 chevy s-10  \n\n[398 rows x 9 columns]",
      "text/html": "<div>\n<style scoped>\n    .dataframe tbody tr th:only-of-type {\n        vertical-align: middle;\n    }\n\n    .dataframe tbody tr th {\n        vertical-align: top;\n    }\n\n    .dataframe thead th {\n        text-align: right;\n    }\n</style>\n<table border=\"1\" class=\"dataframe\">\n  <thead>\n    <tr style=\"text-align: right;\">\n      <th></th>\n      <th>mpg</th>\n      <th>cylinders</th>\n      <th>displacement</th>\n      <th>horsepower</th>\n      <th>weight</th>\n      <th>acceleration</th>\n      <th>model year</th>\n      <th>origin</th>\n      <th>car name</th>\n    </tr>\n  </thead>\n  <tbody>\n    <tr>\n      <th>0</th>\n      <td>18.0</td>\n      <td>8</td>\n      <td>307.0</td>\n      <td>130</td>\n      <td>3504</td>\n      <td>12.0</td>\n      <td>70</td>\n      <td>1</td>\n      <td>chevrolet chevelle malibu</td>\n    </tr>\n    <tr>\n      <th>1</th>\n      <td>15.0</td>\n      <td>8</td>\n      <td>350.0</td>\n      <td>165</td>\n      <td>3693</td>\n      <td>11.5</td>\n      <td>70</td>\n      <td>1</td>\n      <td>buick skylark 320</td>\n    </tr>\n    <tr>\n      <th>2</th>\n      <td>18.0</td>\n      <td>8</td>\n      <td>318.0</td>\n      <td>150</td>\n      <td>3436</td>\n      <td>11.0</td>\n      <td>70</td>\n      <td>1</td>\n      <td>plymouth satellite</td>\n    </tr>\n    <tr>\n      <th>3</th>\n      <td>16.0</td>\n      <td>8</td>\n      <td>304.0</td>\n      <td>150</td>\n      <td>3433</td>\n      <td>12.0</td>\n      <td>70</td>\n      <td>1</td>\n      <td>amc rebel sst</td>\n    </tr>\n    <tr>\n      <th>4</th>\n      <td>17.0</td>\n      <td>8</td>\n      <td>302.0</td>\n      <td>140</td>\n      <td>3449</td>\n      <td>10.5</td>\n      <td>70</td>\n      <td>1</td>\n      <td>ford torino</td>\n    </tr>\n    <tr>\n      <th>...</th>\n      <td>...</td>\n      <td>...</td>\n      <td>...</td>\n      <td>...</td>\n      <td>...</td>\n      <td>...</td>\n      <td>...</td>\n      <td>...</td>\n      <td>...</td>\n    </tr>\n    <tr>\n      <th>393</th>\n      <td>27.0</td>\n      <td>4</td>\n      <td>140.0</td>\n      <td>86</td>\n      <td>2790</td>\n      <td>15.6</td>\n      <td>82</td>\n      <td>1</td>\n      <td>ford mustang gl</td>\n    </tr>\n    <tr>\n      <th>394</th>\n      <td>44.0</td>\n      <td>4</td>\n      <td>97.0</td>\n      <td>52</td>\n      <td>2130</td>\n      <td>24.6</td>\n      <td>82</td>\n      <td>2</td>\n      <td>vw pickup</td>\n    </tr>\n    <tr>\n      <th>395</th>\n      <td>32.0</td>\n      <td>4</td>\n      <td>135.0</td>\n      <td>84</td>\n      <td>2295</td>\n      <td>11.6</td>\n      <td>82</td>\n      <td>1</td>\n      <td>dodge rampage</td>\n    </tr>\n    <tr>\n      <th>396</th>\n      <td>28.0</td>\n      <td>4</td>\n      <td>120.0</td>\n      <td>79</td>\n      <td>2625</td>\n      <td>18.6</td>\n      <td>82</td>\n      <td>1</td>\n      <td>ford ranger</td>\n    </tr>\n    <tr>\n      <th>397</th>\n      <td>31.0</td>\n      <td>4</td>\n      <td>119.0</td>\n      <td>82</td>\n      <td>2720</td>\n      <td>19.4</td>\n      <td>82</td>\n      <td>1</td>\n      <td>chevy s-10</td>\n    </tr>\n  </tbody>\n</table>\n<p>398 rows × 9 columns</p>\n</div>"
     },
     "execution_count": 269,
     "metadata": {},
     "output_type": "execute_result"
    }
   ],
   "source": [
    "data"
   ],
   "metadata": {
    "collapsed": false,
    "ExecuteTime": {
     "end_time": "2024-03-02T06:07:43.751228Z",
     "start_time": "2024-03-02T06:07:43.732739Z"
    }
   },
   "id": "27f390e97f0d3faa",
   "execution_count": 269
  },
  {
   "cell_type": "code",
   "outputs": [
    {
     "data": {
      "text/plain": "    mpg cylinders  displacement  horsepower  weight  acceleration model year  \\\n0  18.0         8         307.0         130    3504          12.0         70   \n1  15.0         8         350.0         165    3693          11.5         70   \n2  18.0         8         318.0         150    3436          11.0         70   \n\n  origin  \n0      1  \n1      1  \n2      1  ",
      "text/html": "<div>\n<style scoped>\n    .dataframe tbody tr th:only-of-type {\n        vertical-align: middle;\n    }\n\n    .dataframe tbody tr th {\n        vertical-align: top;\n    }\n\n    .dataframe thead th {\n        text-align: right;\n    }\n</style>\n<table border=\"1\" class=\"dataframe\">\n  <thead>\n    <tr style=\"text-align: right;\">\n      <th></th>\n      <th>mpg</th>\n      <th>cylinders</th>\n      <th>displacement</th>\n      <th>horsepower</th>\n      <th>weight</th>\n      <th>acceleration</th>\n      <th>model year</th>\n      <th>origin</th>\n    </tr>\n  </thead>\n  <tbody>\n    <tr>\n      <th>0</th>\n      <td>18.0</td>\n      <td>8</td>\n      <td>307.0</td>\n      <td>130</td>\n      <td>3504</td>\n      <td>12.0</td>\n      <td>70</td>\n      <td>1</td>\n    </tr>\n    <tr>\n      <th>1</th>\n      <td>15.0</td>\n      <td>8</td>\n      <td>350.0</td>\n      <td>165</td>\n      <td>3693</td>\n      <td>11.5</td>\n      <td>70</td>\n      <td>1</td>\n    </tr>\n    <tr>\n      <th>2</th>\n      <td>18.0</td>\n      <td>8</td>\n      <td>318.0</td>\n      <td>150</td>\n      <td>3436</td>\n      <td>11.0</td>\n      <td>70</td>\n      <td>1</td>\n    </tr>\n  </tbody>\n</table>\n</div>"
     },
     "execution_count": 270,
     "metadata": {},
     "output_type": "execute_result"
    }
   ],
   "source": [
    "# 이상치 확인\n",
    "col_numeric = data.columns.tolist()[:-1]\n",
    "\n",
    "data[col_numeric].head(3)"
   ],
   "metadata": {
    "collapsed": false,
    "ExecuteTime": {
     "end_time": "2024-03-02T06:07:43.766872Z",
     "start_time": "2024-03-02T06:07:43.752791Z"
    }
   },
   "id": "a979d9d20967de8c",
   "execution_count": 270
  },
  {
   "cell_type": "code",
   "outputs": [
    {
     "data": {
      "text/plain": "['mpg',\n 'cylinders',\n 'displacement',\n 'horsepower',\n 'weight',\n 'acceleration',\n 'model year',\n 'origin']"
     },
     "execution_count": 271,
     "metadata": {},
     "output_type": "execute_result"
    }
   ],
   "source": [
    "col_list = data[col_numeric].columns.tolist()\n",
    "col_list"
   ],
   "metadata": {
    "collapsed": false,
    "ExecuteTime": {
     "end_time": "2024-03-02T06:07:43.798214Z",
     "start_time": "2024-03-02T06:07:43.777748Z"
    }
   },
   "id": "6b93649046a3bfc3",
   "execution_count": 271
  },
  {
   "cell_type": "code",
   "outputs": [
    {
     "data": {
      "text/plain": "<Figure size 2000x1000 with 8 Axes>",
      "image/png": "[encoded data removed]"
     },
     "metadata": {},
     "output_type": "display_data"
    }
   ],
   "source": [
    "bp_obj = []\n",
    "plt.figure(figsize = (20, 10))\n",
    "for i in range(len(col_list)):\n",
    "    plt.subplot(1 ,len(col_list), i+1)\n",
    "    plt.xlabel(col_list[i], fontsize=15)\n",
    "    obj = plt.boxplot(data[col_list[i]])\n",
    "    bp_obj.append(obj)\n",
    "plt.tight_layout()  # 표들끼리 겹치지 않게끔 해준다\n",
    "plt.show()"
   ],
   "metadata": {
    "collapsed": false,
    "ExecuteTime": {
     "end_time": "2024-03-02T06:07:44.594467Z",
     "start_time": "2024-03-02T06:07:43.814637Z"
    }
   },
   "id": "bf6cc0b0215eb564",
   "execution_count": 272
  },
  {
   "cell_type": "code",
   "outputs": [
    {
     "data": {
      "text/plain": "[{'whiskers': [<matplotlib.lines.Line2D at 0x200b3cb82e0>,\n   <matplotlib.lines.Line2D at 0x200b3cb8dc0>],\n  'caps': [<matplotlib.lines.Line2D at 0x200b28516d0>,\n   <matplotlib.lines.Line2D at 0x200b3b85c10>],\n  'boxes': [<matplotlib.lines.Line2D at 0x200b3cb8cd0>],\n  'medians': [<matplotlib.lines.Line2D at 0x200b2378130>],\n  'fliers': [<matplotlib.lines.Line2D at 0x200b3c52fd0>],\n  'means': []},\n {'whiskers': [<matplotlib.lines.Line2D at 0x200b3d9f640>,\n   <matplotlib.lines.Line2D at 0x200b3d9f9a0>],\n  'caps': [<matplotlib.lines.Line2D at 0x200b3d9fc10>,\n   <matplotlib.lines.Line2D at 0x200b3d9fac0>],\n  'boxes': [<matplotlib.lines.Line2D at 0x200b3bab2b0>],\n  'medians': [<matplotlib.lines.Line2D at 0x200b3d9f9d0>],\n  'fliers': [<matplotlib.lines.Line2D at 0x200b3d9fdf0>],\n  'means': []},\n {'whiskers': [<matplotlib.lines.Line2D at 0x200b280a280>,\n   <matplotlib.lines.Line2D at 0x200b3b9c070>],\n  'caps': [<matplotlib.lines.Line2D at 0x200b472ff10>,\n   <matplotlib.lines.Line2D at 0x200b3aeeca0>],\n  'boxes': [<matplotlib.lines.Line2D at 0x200b3ba5910>],\n  'medians': [<matplotlib.lines.Line2D at 0x200b3b53a00>],\n  'fliers': [<matplotlib.lines.Line2D at 0x200b3c5caf0>],\n  'means': []},\n {'whiskers': [<matplotlib.lines.Line2D at 0x200b3eab820>,\n   <matplotlib.lines.Line2D at 0x200b3eabac0>],\n  'caps': [<matplotlib.lines.Line2D at 0x200b3eabd60>,\n   <matplotlib.lines.Line2D at 0x200b3eb8040>],\n  'boxes': [<matplotlib.lines.Line2D at 0x200b3eab580>],\n  'medians': [<matplotlib.lines.Line2D at 0x200b3eb82e0>],\n  'fliers': [<matplotlib.lines.Line2D at 0x200b3eb8580>],\n  'means': []},\n {'whiskers': [<matplotlib.lines.Line2D at 0x200b3ef2970>,\n   <matplotlib.lines.Line2D at 0x200b3ef2c10>],\n  'caps': [<matplotlib.lines.Line2D at 0x200b3ef2eb0>,\n   <matplotlib.lines.Line2D at 0x200b3eff070>],\n  'boxes': [<matplotlib.lines.Line2D at 0x200b3ef26d0>],\n  'medians': [<matplotlib.lines.Line2D at 0x200b3eff310>],\n  'fliers': [<matplotlib.lines.Line2D at 0x200b3eff5b0>],\n  'means': []},\n {'whiskers': [<matplotlib.lines.Line2D at 0x200b3f36a60>,\n   <matplotlib.lines.Line2D at 0x200b3f36d00>],\n  'caps': [<matplotlib.lines.Line2D at 0x200b3f36fa0>,\n   <matplotlib.lines.Line2D at 0x200b3f45280>],\n  'boxes': [<matplotlib.lines.Line2D at 0x200b3f367c0>],\n  'medians': [<matplotlib.lines.Line2D at 0x200b3f45550>],\n  'fliers': [<matplotlib.lines.Line2D at 0x200b3f457f0>],\n  'means': []},\n {'whiskers': [<matplotlib.lines.Line2D at 0x200b4f0cc70>,\n   <matplotlib.lines.Line2D at 0x200b4f0cf10>],\n  'caps': [<matplotlib.lines.Line2D at 0x200b4f1b1f0>,\n   <matplotlib.lines.Line2D at 0x200b4f1b490>],\n  'boxes': [<matplotlib.lines.Line2D at 0x200b4f0c9d0>],\n  'medians': [<matplotlib.lines.Line2D at 0x200b4f1b730>],\n  'fliers': [<matplotlib.lines.Line2D at 0x200b4f1b9d0>],\n  'means': []},\n {'whiskers': [<matplotlib.lines.Line2D at 0x200b4f55d30>,\n   <matplotlib.lines.Line2D at 0x200b4f55fd0>],\n  'caps': [<matplotlib.lines.Line2D at 0x200b4f662b0>,\n   <matplotlib.lines.Line2D at 0x200b4f66550>],\n  'boxes': [<matplotlib.lines.Line2D at 0x200b4f55a90>],\n  'medians': [<matplotlib.lines.Line2D at 0x200b4f667f0>],\n  'fliers': [<matplotlib.lines.Line2D at 0x200b4eff850>],\n  'means': []}]"
     },
     "execution_count": 273,
     "metadata": {},
     "output_type": "execute_result"
    }
   ],
   "source": [
    "# 각 컬럼별의 딕셔너리가 하나의 리스트에 담겼다.\n",
    "bp_obj"
   ],
   "metadata": {
    "collapsed": false,
    "ExecuteTime": {
     "end_time": "2024-03-02T06:07:44.610120Z",
     "start_time": "2024-03-02T06:07:44.597523Z"
    }
   },
   "id": "a1b986171721cbca",
   "execution_count": 273
  },
  {
   "cell_type": "code",
   "outputs": [
    {
     "data": {
      "text/plain": "[[46.6],\n [],\n [],\n [220, 215, 225, 225, 215, 210, 208, 215, 225, 230],\n [],\n [8.5, 8.5, 8.0, 23.5, 24.8, 23.7, 24.6],\n [],\n []]"
     },
     "execution_count": 274,
     "metadata": {},
     "output_type": "execute_result"
    }
   ],
   "source": [
    "drop_list_set = []\n",
    "for i in range(len(bp_obj)):\n",
    "    value = bp_obj[i]  #1개의 컬럼 가져옴\n",
    "    drop_list = value['fliers'][0].get_ydata().tolist()\n",
    "    #print('='*50)\n",
    "    #print(f\"drop_list : {drop_list}\") # 1개의 컬럼에 대한 이상치 목록 가져옴\n",
    "    drop_list_set.append(drop_list)\n",
    "drop_list_set"
   ],
   "metadata": {
    "collapsed": false,
    "ExecuteTime": {
     "end_time": "2024-03-02T06:07:44.625173Z",
     "start_time": "2024-03-02T06:07:44.612219Z"
    }
   },
   "id": "b87fd2941665bcac",
   "execution_count": 274
  },
  {
   "cell_type": "code",
   "outputs": [],
   "source": [
    "#col_list = data[col_numeric].columns.tolist()"
   ],
   "metadata": {
    "collapsed": false,
    "ExecuteTime": {
     "end_time": "2024-03-02T06:07:44.641646Z",
     "start_time": "2024-03-02T06:07:44.626506Z"
    }
   },
   "id": "c8d2517804362d93",
   "execution_count": 275
  },
  {
   "cell_type": "code",
   "outputs": [
    {
     "name": "stdout",
     "output_type": "stream",
     "text": [
      "========================= 0 =========================\n",
      "drop_list => [46.6]\n",
      "-- drop_list에서 제거할 값 => 46.6\n",
      "-- data에서 이상치 제거할 컬럼 목록 => mpg\n",
      "========================= 1 =========================\n",
      "drop_list => []\n",
      "========================= 2 =========================\n",
      "drop_list => []\n",
      "========================= 3 =========================\n",
      "drop_list => [220, 215, 225, 225, 215, 210, 208, 215, 225, 230]\n",
      "-- drop_list에서 제거할 값 => 220\n",
      "-- data에서 이상치 제거할 컬럼 목록 => horsepower\n",
      "-- drop_list에서 제거할 값 => 215\n",
      "-- data에서 이상치 제거할 컬럼 목록 => horsepower\n",
      "-- drop_list에서 제거할 값 => 225\n",
      "-- data에서 이상치 제거할 컬럼 목록 => horsepower\n",
      "-- drop_list에서 제거할 값 => 225\n",
      "-- data에서 이상치 제거할 컬럼 목록 => horsepower\n",
      "-- drop_list에서 제거할 값 => 215\n",
      "-- data에서 이상치 제거할 컬럼 목록 => horsepower\n",
      "-- drop_list에서 제거할 값 => 210\n",
      "-- data에서 이상치 제거할 컬럼 목록 => horsepower\n",
      "-- drop_list에서 제거할 값 => 208\n",
      "-- data에서 이상치 제거할 컬럼 목록 => horsepower\n",
      "-- drop_list에서 제거할 값 => 215\n",
      "-- data에서 이상치 제거할 컬럼 목록 => horsepower\n",
      "-- drop_list에서 제거할 값 => 225\n",
      "-- data에서 이상치 제거할 컬럼 목록 => horsepower\n",
      "-- drop_list에서 제거할 값 => 230\n",
      "-- data에서 이상치 제거할 컬럼 목록 => horsepower\n",
      "========================= 4 =========================\n",
      "drop_list => []\n",
      "========================= 5 =========================\n",
      "drop_list => [8.5, 8.5, 8.0, 23.5, 24.8, 23.7, 24.6]\n",
      "-- drop_list에서 제거할 값 => 8.5\n",
      "-- data에서 이상치 제거할 컬럼 목록 => acceleration\n",
      "-- drop_list에서 제거할 값 => 8.5\n",
      "-- data에서 이상치 제거할 컬럼 목록 => acceleration\n",
      "-- drop_list에서 제거할 값 => 8.0\n",
      "-- data에서 이상치 제거할 컬럼 목록 => acceleration\n",
      "-- drop_list에서 제거할 값 => 23.5\n",
      "-- data에서 이상치 제거할 컬럼 목록 => acceleration\n",
      "-- drop_list에서 제거할 값 => 24.8\n",
      "-- data에서 이상치 제거할 컬럼 목록 => acceleration\n",
      "-- drop_list에서 제거할 값 => 23.7\n",
      "-- data에서 이상치 제거할 컬럼 목록 => acceleration\n",
      "-- drop_list에서 제거할 값 => 24.6\n",
      "-- data에서 이상치 제거할 컬럼 목록 => acceleration\n",
      "========================= 6 =========================\n",
      "drop_list => []\n",
      "========================= 7 =========================\n",
      "drop_list => []\n"
     ]
    }
   ],
   "source": [
    "# 각 컬럼별 이상치를 0으로 바꾸었다.\n",
    "# 원래는 아예 제거하려고 했는데 제거가 되지 않는다. (shape 출력에서 수가 감소하지 않고 그대로 유지된다)\n",
    "\n",
    "for i in range(len(drop_list_set)):\n",
    "    drop_list = drop_list_set[i]\n",
    "    print(f\"========================= {i} =========================\")\n",
    "    print(f\"drop_list => {drop_list}\")\n",
    "    if len(drop_list) != 0:\n",
    "        for d in drop_list:\n",
    "            drop = d\n",
    "            print(f\"-- drop_list에서 제거할 값 => {d}\")\n",
    "            print(f\"-- data에서 이상치 제거할 컬럼 목록 => {col_list[i]}\")\n",
    "            data[col_list[i]] = data[col_list[i]].replace(drop, 0)\n",
    "            #data[col_list[i]].drop()\n",
    "            \n",
    "            # data[col_list[i]] = data[col_list[i]].replace(drop, np.NaN)\n",
    "            # print(data[col_list[i]].isnull().sum())\n",
    "            # data = data.dropna()\n",
    "            # print(f\"NaN값 설정 후 dropna 시키기 완료 : {data[col_list[i]].shape}\")\n",
    "        #print('='*50)"
   ],
   "metadata": {
    "collapsed": false,
    "ExecuteTime": {
     "end_time": "2024-03-02T06:07:44.657401Z",
     "start_time": "2024-03-02T06:07:44.644862Z"
    }
   },
   "id": "1c670055bb8d03b3",
   "execution_count": 276
  },
  {
   "cell_type": "code",
   "outputs": [
    {
     "data": {
      "text/plain": "['mpg',\n 'cylinders',\n 'displacement',\n 'horsepower',\n 'weight',\n 'acceleration',\n 'model year',\n 'origin']"
     },
     "execution_count": 277,
     "metadata": {},
     "output_type": "execute_result"
    }
   ],
   "source": [
    "col_list"
   ],
   "metadata": {
    "collapsed": false,
    "ExecuteTime": {
     "end_time": "2024-03-02T06:07:44.673432Z",
     "start_time": "2024-03-02T06:07:44.659789Z"
    }
   },
   "id": "e6c81f62d655e85e",
   "execution_count": 277
  },
  {
   "cell_type": "markdown",
   "source": [
    "}### mpg를 타겟으로 할 때 피쳐값을 무엇으로 할지 결정해보자"
   ],
   "metadata": {
    "collapsed": false
   },
   "id": "6a09bb1d000e41f3"
  },
  {
   "cell_type": "code",
   "outputs": [
    {
     "data": {
      "text/plain": "      mpg  displacement  horsepower  weight  acceleration\n0    18.0         307.0         130    3504          12.0\n1    15.0         350.0         165    3693          11.5\n2    18.0         318.0         150    3436          11.0\n3    16.0         304.0         150    3433          12.0\n4    17.0         302.0         140    3449          10.5\n..    ...           ...         ...     ...           ...\n393  27.0         140.0          86    2790          15.6\n394  44.0          97.0          52    2130           0.0\n395  32.0         135.0          84    2295          11.6\n396  28.0         120.0          79    2625          18.6\n397  31.0         119.0          82    2720          19.4\n\n[398 rows x 5 columns]",
      "text/html": "<div>\n<style scoped>\n    .dataframe tbody tr th:only-of-type {\n        vertical-align: middle;\n    }\n\n    .dataframe tbody tr th {\n        vertical-align: top;\n    }\n\n    .dataframe thead th {\n        text-align: right;\n    }\n</style>\n<table border=\"1\" class=\"dataframe\">\n  <thead>\n    <tr style=\"text-align: right;\">\n      <th></th>\n      <th>mpg</th>\n      <th>displacement</th>\n      <th>horsepower</th>\n      <th>weight</th>\n      <th>acceleration</th>\n    </tr>\n  </thead>\n  <tbody>\n    <tr>\n      <th>0</th>\n      <td>18.0</td>\n      <td>307.0</td>\n      <td>130</td>\n      <td>3504</td>\n      <td>12.0</td>\n    </tr>\n    <tr>\n      <th>1</th>\n      <td>15.0</td>\n      <td>350.0</td>\n      <td>165</td>\n      <td>3693</td>\n      <td>11.5</td>\n    </tr>\n    <tr>\n      <th>2</th>\n      <td>18.0</td>\n      <td>318.0</td>\n      <td>150</td>\n      <td>3436</td>\n      <td>11.0</td>\n    </tr>\n    <tr>\n      <th>3</th>\n      <td>16.0</td>\n      <td>304.0</td>\n      <td>150</td>\n      <td>3433</td>\n      <td>12.0</td>\n    </tr>\n    <tr>\n      <th>4</th>\n      <td>17.0</td>\n      <td>302.0</td>\n      <td>140</td>\n      <td>3449</td>\n      <td>10.5</td>\n    </tr>\n    <tr>\n      <th>...</th>\n      <td>...</td>\n      <td>...</td>\n      <td>...</td>\n      <td>...</td>\n      <td>...</td>\n    </tr>\n    <tr>\n      <th>393</th>\n      <td>27.0</td>\n      <td>140.0</td>\n      <td>86</td>\n      <td>2790</td>\n      <td>15.6</td>\n    </tr>\n    <tr>\n      <th>394</th>\n      <td>44.0</td>\n      <td>97.0</td>\n      <td>52</td>\n      <td>2130</td>\n      <td>0.0</td>\n    </tr>\n    <tr>\n      <th>395</th>\n      <td>32.0</td>\n      <td>135.0</td>\n      <td>84</td>\n      <td>2295</td>\n      <td>11.6</td>\n    </tr>\n    <tr>\n      <th>396</th>\n      <td>28.0</td>\n      <td>120.0</td>\n      <td>79</td>\n      <td>2625</td>\n      <td>18.6</td>\n    </tr>\n    <tr>\n      <th>397</th>\n      <td>31.0</td>\n      <td>119.0</td>\n      <td>82</td>\n      <td>2720</td>\n      <td>19.4</td>\n    </tr>\n  </tbody>\n</table>\n<p>398 rows × 5 columns</p>\n</div>"
     },
     "execution_count": 278,
     "metadata": {},
     "output_type": "execute_result"
    }
   ],
   "source": [
    "# 사용할 데이터로 정리\n",
    "use_data = data[['mpg','displacement', 'horsepower', 'weight', 'acceleration']]\n",
    "use_data\n",
    "\n",
    "# 생각해보니 꼭 카테고리 데이터를 제외할 필요가 없었다! "
   ],
   "metadata": {
    "collapsed": false,
    "ExecuteTime": {
     "end_time": "2024-03-02T06:07:44.689142Z",
     "start_time": "2024-03-02T06:07:44.675514Z"
    }
   },
   "id": "2b24f16f1be770b9",
   "execution_count": 278
  },
  {
   "cell_type": "code",
   "outputs": [
    {
     "data": {
      "text/plain": "mpg             1.000000\ndisplacement   -0.788494\nhorsepower     -0.575480\nweight         -0.816237\nacceleration    0.261531\nName: mpg, dtype: float64"
     },
     "execution_count": 279,
     "metadata": {},
     "output_type": "execute_result"
    }
   ],
   "source": [
    "# 상관관계 분석하기\n",
    "result = data.corr(numeric_only=True)['mpg']\n",
    "result\n",
    "# 상관관계가 높은 순위 : weight > displacement > horsepower > acceleration"
   ],
   "metadata": {
    "collapsed": false,
    "ExecuteTime": {
     "end_time": "2024-03-02T06:07:44.704815Z",
     "start_time": "2024-03-02T06:07:44.690482Z"
    }
   },
   "id": "8195ed431f0e799e",
   "execution_count": 279
  },
  {
   "cell_type": "code",
   "outputs": [
    {
     "data": {
      "text/plain": "[-0.79, -0.58, -0.82, 0.26]"
     },
     "execution_count": 280,
     "metadata": {},
     "output_type": "execute_result"
    }
   ],
   "source": [
    "corr_list = result.values.tolist()[1:]\n",
    "for i in range(len(corr_list)):\n",
    "    corr_list[i] = round(corr_list[i], 2)\n",
    "corr_list"
   ],
   "metadata": {
    "collapsed": false,
    "ExecuteTime": {
     "end_time": "2024-03-02T06:07:44.720111Z",
     "start_time": "2024-03-02T06:07:44.705910Z"
    }
   },
   "id": "dbd655d0bf5face1",
   "execution_count": 280
  },
  {
   "cell_type": "code",
   "outputs": [],
   "source": [
    "# 시각화로도 관계성이 보이는지 확인해보자\n",
    "#from hamsu import print_feature\n",
    "# from hamsu import print_feature\n",
    "# \n",
    "# features = ['displacement', 'horsepower', 'weight', 'acceleration']\n",
    "# plt.figure(figsize = (20,8))\n",
    "# print_feature(1, 4, use_data, 'mpg', features, corr_list)\n",
    "\n",
    "# 시각화로 확인해보니 피쳐로 displacement, horsepower, weight로 해도 된다고 결론내렸다."
   ],
   "metadata": {
    "collapsed": false,
    "ExecuteTime": {
     "end_time": "2024-03-02T06:07:44.735481Z",
     "start_time": "2024-03-02T06:07:44.721108Z"
    }
   },
   "id": "35511b6a5336233",
   "execution_count": 281
  },
  {
   "cell_type": "markdown",
   "source": [
    "### 타겟 & 피처 분리"
   ],
   "metadata": {
    "collapsed": false
   },
   "id": "814c4f78ed6dbd6c"
  },
  {
   "cell_type": "code",
   "outputs": [
    {
     "data": {
      "text/plain": "0    18.0\n1    15.0\n2    18.0\n3    16.0\n4    17.0\nName: mpg, dtype: float64"
     },
     "execution_count": 282,
     "metadata": {},
     "output_type": "execute_result"
    }
   ],
   "source": [
    "target = use_data['mpg']\n",
    "target.head()"
   ],
   "metadata": {
    "collapsed": false,
    "ExecuteTime": {
     "end_time": "2024-03-02T06:07:44.750801Z",
     "start_time": "2024-03-02T06:07:44.737529Z"
    }
   },
   "id": "50dbfa9e7f4f50dc",
   "execution_count": 282
  },
  {
   "cell_type": "code",
   "outputs": [
    {
     "data": {
      "text/plain": "   displacement  horsepower  weight\n0         307.0         130    3504\n1         350.0         165    3693\n2         318.0         150    3436\n3         304.0         150    3433\n4         302.0         140    3449",
      "text/html": "<div>\n<style scoped>\n    .dataframe tbody tr th:only-of-type {\n        vertical-align: middle;\n    }\n\n    .dataframe tbody tr th {\n        vertical-align: top;\n    }\n\n    .dataframe thead th {\n        text-align: right;\n    }\n</style>\n<table border=\"1\" class=\"dataframe\">\n  <thead>\n    <tr style=\"text-align: right;\">\n      <th></th>\n      <th>displacement</th>\n      <th>horsepower</th>\n      <th>weight</th>\n    </tr>\n  </thead>\n  <tbody>\n    <tr>\n      <th>0</th>\n      <td>307.0</td>\n      <td>130</td>\n      <td>3504</td>\n    </tr>\n    <tr>\n      <th>1</th>\n      <td>350.0</td>\n      <td>165</td>\n      <td>3693</td>\n    </tr>\n    <tr>\n      <th>2</th>\n      <td>318.0</td>\n      <td>150</td>\n      <td>3436</td>\n    </tr>\n    <tr>\n      <th>3</th>\n      <td>304.0</td>\n      <td>150</td>\n      <td>3433</td>\n    </tr>\n    <tr>\n      <th>4</th>\n      <td>302.0</td>\n      <td>140</td>\n      <td>3449</td>\n    </tr>\n  </tbody>\n</table>\n</div>"
     },
     "execution_count": 283,
     "metadata": {},
     "output_type": "execute_result"
    }
   ],
   "source": [
    "feature = use_data[['displacement', 'horsepower', 'weight']]\n",
    "feature.head()"
   ],
   "metadata": {
    "collapsed": false,
    "ExecuteTime": {
     "end_time": "2024-03-02T06:07:44.766082Z",
     "start_time": "2024-03-02T06:07:44.751808Z"
    }
   },
   "id": "c882d65bfb9e8e36",
   "execution_count": 283
  },
  {
   "cell_type": "markdown",
   "source": [
    "### train & test set 분리"
   ],
   "metadata": {
    "collapsed": false
   },
   "id": "e580e2324c030ff2"
  },
  {
   "cell_type": "code",
   "outputs": [],
   "source": [
    "X_train,X_test, y_train,  y_test = train_test_split(feature, target, random_state=10)"
   ],
   "metadata": {
    "collapsed": false,
    "ExecuteTime": {
     "end_time": "2024-03-02T06:07:44.781685Z",
     "start_time": "2024-03-02T06:07:44.767111Z"
    }
   },
   "id": "2c2e4775c01951fe",
   "execution_count": 284
  },
  {
   "cell_type": "code",
   "outputs": [
    {
     "name": "stdout",
     "output_type": "stream",
     "text": [
      "[훈련용]\n",
      " X_train: (298, 3)       y_train: (298,)\n",
      "[테스트용]\n",
      " X_test: (100, 3)       y_test: (100,)\n"
     ]
    }
   ],
   "source": [
    "print(f\"[훈련용]\\n X_train: {X_train.shape}       y_train: {y_train.shape}\")\n",
    "print(f\"[테스트용]\\n X_test: {X_test.shape}       y_test: {y_test.shape}\")"
   ],
   "metadata": {
    "collapsed": false,
    "ExecuteTime": {
     "end_time": "2024-03-02T06:07:44.797705Z",
     "start_time": "2024-03-02T06:07:44.786004Z"
    }
   },
   "id": "e2b5204553369dbe",
   "execution_count": 285
  },
  {
   "cell_type": "markdown",
   "source": [
    "### 타겟 데이터에 다항회귀를 적용해보자"
   ],
   "metadata": {
    "collapsed": false
   },
   "id": "34c723d2fd0f838"
  },
  {
   "cell_type": "code",
   "outputs": [
    {
     "data": {
      "text/plain": "PolynomialFeatures(include_bias=False)",
      "text/html": "<style>#sk-container-id-25 {color: black;}#sk-container-id-25 pre{padding: 0;}#sk-container-id-25 div.sk-toggleable {background-color: white;}#sk-container-id-25 label.sk-toggleable__label {cursor: pointer;display: block;width: 100%;margin-bottom: 0;padding: 0.3em;box-sizing: border-box;text-align: center;}#sk-container-id-25 label.sk-toggleable__label-arrow:before {content: \"▸\";float: left;margin-right: 0.25em;color: #696969;}#sk-container-id-25 label.sk-toggleable__label-arrow:hover:before {color: black;}#sk-container-id-25 div.sk-estimator:hover label.sk-toggleable__label-arrow:before {color: black;}#sk-container-id-25 div.sk-toggleable__content {max-height: 0;max-width: 0;overflow: hidden;text-align: left;background-color: #f0f8ff;}#sk-container-id-25 div.sk-toggleable__content pre {margin: 0.2em;color: black;border-radius: 0.25em;background-color: #f0f8ff;}#sk-container-id-25 input.sk-toggleable__control:checked~div.sk-toggleable__content {max-height: 200px;max-width: 100%;overflow: auto;}#sk-container-id-25 input.sk-toggleable__control:checked~label.sk-toggleable__label-arrow:before {content: \"▾\";}#sk-container-id-25 div.sk-estimator input.sk-toggleable__control:checked~label.sk-toggleable__label {background-color: #d4ebff;}#sk-container-id-25 div.sk-label input.sk-toggleable__control:checked~label.sk-toggleable__label {background-color: #d4ebff;}#sk-container-id-25 input.sk-hidden--visually {border: 0;clip: rect(1px 1px 1px 1px);clip: rect(1px, 1px, 1px, 1px);height: 1px;margin: -1px;overflow: hidden;padding: 0;position: absolute;width: 1px;}#sk-container-id-25 div.sk-estimator {font-family: monospace;background-color: #f0f8ff;border: 1px dotted black;border-radius: 0.25em;box-sizing: border-box;margin-bottom: 0.5em;}#sk-container-id-25 div.sk-estimator:hover {background-color: #d4ebff;}#sk-container-id-25 div.sk-parallel-item::after {content: \"\";width: 100%;border-bottom: 1px solid gray;flex-grow: 1;}#sk-container-id-25 div.sk-label:hover label.sk-toggleable__label {background-color: #d4ebff;}#sk-container-id-25 div.sk-serial::before {content: \"\";position: absolute;border-left: 1px solid gray;box-sizing: border-box;top: 0;bottom: 0;left: 50%;z-index: 0;}#sk-container-id-25 div.sk-serial {display: flex;flex-direction: column;align-items: center;background-color: white;padding-right: 0.2em;padding-left: 0.2em;position: relative;}#sk-container-id-25 div.sk-item {position: relative;z-index: 1;}#sk-container-id-25 div.sk-parallel {display: flex;align-items: stretch;justify-content: center;background-color: white;position: relative;}#sk-container-id-25 div.sk-item::before, #sk-container-id-25 div.sk-parallel-item::before {content: \"\";position: absolute;border-left: 1px solid gray;box-sizing: border-box;top: 0;bottom: 0;left: 50%;z-index: -1;}#sk-container-id-25 div.sk-parallel-item {display: flex;flex-direction: column;z-index: 1;position: relative;background-color: white;}#sk-container-id-25 div.sk-parallel-item:first-child::after {align-self: flex-end;width: 50%;}#sk-container-id-25 div.sk-parallel-item:last-child::after {align-self: flex-start;width: 50%;}#sk-container-id-25 div.sk-parallel-item:only-child::after {width: 0;}#sk-container-id-25 div.sk-dashed-wrapped {border: 1px dashed gray;margin: 0 0.4em 0.5em 0.4em;box-sizing: border-box;padding-bottom: 0.4em;background-color: white;}#sk-container-id-25 div.sk-label label {font-family: monospace;font-weight: bold;display: inline-block;line-height: 1.2em;}#sk-container-id-25 div.sk-label-container {text-align: center;}#sk-container-id-25 div.sk-container {/* jupyter's `normalize.less` sets `[hidden] { display: none; }` but bootstrap.min.css set `[hidden] { display: none !important; }` so we also need the `!important` here to be able to override the default hidden behavior on the sphinx rendered scikit-learn.org. See: https://github.com/scikit-learn/scikit-learn/issues/21755 */display: inline-block !important;position: relative;}#sk-container-id-25 div.sk-text-repr-fallback {display: none;}</style><div id=\"sk-container-id-25\" class=\"sk-top-container\"><div class=\"sk-text-repr-fallback\"><pre>PolynomialFeatures(include_bias=False)</pre><b>In a Jupyter environment, please rerun this cell to show the HTML representation or trust the notebook. <br />On GitHub, the HTML representation is unable to render, please try loading this page with nbviewer.org.</b></div><div class=\"sk-container\" hidden><div class=\"sk-item\"><div class=\"sk-estimator sk-toggleable\"><input class=\"sk-toggleable__control sk-hidden--visually\" id=\"sk-estimator-id-25\" type=\"checkbox\" checked><label for=\"sk-estimator-id-25\" class=\"sk-toggleable__label sk-toggleable__label-arrow\">PolynomialFeatures</label><div class=\"sk-toggleable__content\"><pre>PolynomialFeatures(include_bias=False)</pre></div></div></div></div></div>"
     },
     "execution_count": 286,
     "metadata": {},
     "output_type": "execute_result"
    }
   ],
   "source": [
    "poly = PolynomialFeatures(degree = 2, include_bias=False)\n",
    "poly"
   ],
   "metadata": {
    "collapsed": false,
    "ExecuteTime": {
     "end_time": "2024-03-02T06:07:44.813585Z",
     "start_time": "2024-03-02T06:07:44.798709Z"
    }
   },
   "id": "11b207367c24ffd8",
   "execution_count": 286
  },
  {
   "cell_type": "code",
   "outputs": [
    {
     "data": {
      "text/plain": "PolynomialFeatures(include_bias=False)",
      "text/html": "<style>#sk-container-id-26 {color: black;}#sk-container-id-26 pre{padding: 0;}#sk-container-id-26 div.sk-toggleable {background-color: white;}#sk-container-id-26 label.sk-toggleable__label {cursor: pointer;display: block;width: 100%;margin-bottom: 0;padding: 0.3em;box-sizing: border-box;text-align: center;}#sk-container-id-26 label.sk-toggleable__label-arrow:before {content: \"▸\";float: left;margin-right: 0.25em;color: #696969;}#sk-container-id-26 label.sk-toggleable__label-arrow:hover:before {color: black;}#sk-container-id-26 div.sk-estimator:hover label.sk-toggleable__label-arrow:before {color: black;}#sk-container-id-26 div.sk-toggleable__content {max-height: 0;max-width: 0;overflow: hidden;text-align: left;background-color: #f0f8ff;}#sk-container-id-26 div.sk-toggleable__content pre {margin: 0.2em;color: black;border-radius: 0.25em;background-color: #f0f8ff;}#sk-container-id-26 input.sk-toggleable__control:checked~div.sk-toggleable__content {max-height: 200px;max-width: 100%;overflow: auto;}#sk-container-id-26 input.sk-toggleable__control:checked~label.sk-toggleable__label-arrow:before {content: \"▾\";}#sk-container-id-26 div.sk-estimator input.sk-toggleable__control:checked~label.sk-toggleable__label {background-color: #d4ebff;}#sk-container-id-26 div.sk-label input.sk-toggleable__control:checked~label.sk-toggleable__label {background-color: #d4ebff;}#sk-container-id-26 input.sk-hidden--visually {border: 0;clip: rect(1px 1px 1px 1px);clip: rect(1px, 1px, 1px, 1px);height: 1px;margin: -1px;overflow: hidden;padding: 0;position: absolute;width: 1px;}#sk-container-id-26 div.sk-estimator {font-family: monospace;background-color: #f0f8ff;border: 1px dotted black;border-radius: 0.25em;box-sizing: border-box;margin-bottom: 0.5em;}#sk-container-id-26 div.sk-estimator:hover {background-color: #d4ebff;}#sk-container-id-26 div.sk-parallel-item::after {content: \"\";width: 100%;border-bottom: 1px solid gray;flex-grow: 1;}#sk-container-id-26 div.sk-label:hover label.sk-toggleable__label {background-color: #d4ebff;}#sk-container-id-26 div.sk-serial::before {content: \"\";position: absolute;border-left: 1px solid gray;box-sizing: border-box;top: 0;bottom: 0;left: 50%;z-index: 0;}#sk-container-id-26 div.sk-serial {display: flex;flex-direction: column;align-items: center;background-color: white;padding-right: 0.2em;padding-left: 0.2em;position: relative;}#sk-container-id-26 div.sk-item {position: relative;z-index: 1;}#sk-container-id-26 div.sk-parallel {display: flex;align-items: stretch;justify-content: center;background-color: white;position: relative;}#sk-container-id-26 div.sk-item::before, #sk-container-id-26 div.sk-parallel-item::before {content: \"\";position: absolute;border-left: 1px solid gray;box-sizing: border-box;top: 0;bottom: 0;left: 50%;z-index: -1;}#sk-container-id-26 div.sk-parallel-item {display: flex;flex-direction: column;z-index: 1;position: relative;background-color: white;}#sk-container-id-26 div.sk-parallel-item:first-child::after {align-self: flex-end;width: 50%;}#sk-container-id-26 div.sk-parallel-item:last-child::after {align-self: flex-start;width: 50%;}#sk-container-id-26 div.sk-parallel-item:only-child::after {width: 0;}#sk-container-id-26 div.sk-dashed-wrapped {border: 1px dashed gray;margin: 0 0.4em 0.5em 0.4em;box-sizing: border-box;padding-bottom: 0.4em;background-color: white;}#sk-container-id-26 div.sk-label label {font-family: monospace;font-weight: bold;display: inline-block;line-height: 1.2em;}#sk-container-id-26 div.sk-label-container {text-align: center;}#sk-container-id-26 div.sk-container {/* jupyter's `normalize.less` sets `[hidden] { display: none; }` but bootstrap.min.css set `[hidden] { display: none !important; }` so we also need the `!important` here to be able to override the default hidden behavior on the sphinx rendered scikit-learn.org. See: https://github.com/scikit-learn/scikit-learn/issues/21755 */display: inline-block !important;position: relative;}#sk-container-id-26 div.sk-text-repr-fallback {display: none;}</style><div id=\"sk-container-id-26\" class=\"sk-top-container\"><div class=\"sk-text-repr-fallback\"><pre>PolynomialFeatures(include_bias=False)</pre><b>In a Jupyter environment, please rerun this cell to show the HTML representation or trust the notebook. <br />On GitHub, the HTML representation is unable to render, please try loading this page with nbviewer.org.</b></div><div class=\"sk-container\" hidden><div class=\"sk-item\"><div class=\"sk-estimator sk-toggleable\"><input class=\"sk-toggleable__control sk-hidden--visually\" id=\"sk-estimator-id-26\" type=\"checkbox\" checked><label for=\"sk-estimator-id-26\" class=\"sk-toggleable__label sk-toggleable__label-arrow\">PolynomialFeatures</label><div class=\"sk-toggleable__content\"><pre>PolynomialFeatures(include_bias=False)</pre></div></div></div></div></div>"
     },
     "execution_count": 287,
     "metadata": {},
     "output_type": "execute_result"
    }
   ],
   "source": [
    "poly.fit(X_train)"
   ],
   "metadata": {
    "collapsed": false,
    "ExecuteTime": {
     "end_time": "2024-03-02T06:07:44.829173Z",
     "start_time": "2024-03-02T06:07:44.816189Z"
    }
   },
   "id": "260babc33748fbdf",
   "execution_count": 287
  },
  {
   "cell_type": "code",
   "outputs": [
    {
     "data": {
      "text/plain": "     displacement  horsepower  weight  displacement^2  \\\n0           113.0        95.0  2278.0         12769.0   \n1           350.0       145.0  3988.0        122500.0   \n2           107.0        75.0  2210.0         11449.0   \n3           105.0        74.0  2190.0         11025.0   \n4            98.0        83.0  2075.0          9604.0   \n..            ...         ...     ...             ...   \n293         112.0        88.0  2395.0         12544.0   \n294         119.0        92.0  2434.0         14161.0   \n295         198.0        95.0  2833.0         39204.0   \n296         198.0        95.0  3102.0         39204.0   \n297         318.0       140.0  4080.0        101124.0   \n\n     displacement horsepower  displacement weight  horsepower^2  \\\n0                    10735.0             257414.0        9025.0   \n1                    50750.0            1395800.0       21025.0   \n2                     8025.0             236470.0        5625.0   \n3                     7770.0             229950.0        5476.0   \n4                     8134.0             203350.0        6889.0   \n..                       ...                  ...           ...   \n293                   9856.0             268240.0        7744.0   \n294                  10948.0             289646.0        8464.0   \n295                  18810.0             560934.0        9025.0   \n296                  18810.0             614196.0        9025.0   \n297                  44520.0            1297440.0       19600.0   \n\n     horsepower weight    weight^2  \n0             216410.0   5189284.0  \n1             578260.0  15904144.0  \n2             165750.0   4884100.0  \n3             162060.0   4796100.0  \n4             172225.0   4305625.0  \n..                 ...         ...  \n293           210760.0   5736025.0  \n294           223928.0   5924356.0  \n295           269135.0   8025889.0  \n296           294690.0   9622404.0  \n297           571200.0  16646400.0  \n\n[298 rows x 9 columns]",
      "text/html": "<div>\n<style scoped>\n    .dataframe tbody tr th:only-of-type {\n        vertical-align: middle;\n    }\n\n    .dataframe tbody tr th {\n        vertical-align: top;\n    }\n\n    .dataframe thead th {\n        text-align: right;\n    }\n</style>\n<table border=\"1\" class=\"dataframe\">\n  <thead>\n    <tr style=\"text-align: right;\">\n      <th></th>\n      <th>displacement</th>\n      <th>horsepower</th>\n      <th>weight</th>\n      <th>displacement^2</th>\n      <th>displacement horsepower</th>\n      <th>displacement weight</th>\n      <th>horsepower^2</th>\n      <th>horsepower weight</th>\n      <th>weight^2</th>\n    </tr>\n  </thead>\n  <tbody>\n    <tr>\n      <th>0</th>\n      <td>113.0</td>\n      <td>95.0</td>\n      <td>2278.0</td>\n      <td>12769.0</td>\n      <td>10735.0</td>\n      <td>257414.0</td>\n      <td>9025.0</td>\n      <td>216410.0</td>\n      <td>5189284.0</td>\n    </tr>\n    <tr>\n      <th>1</th>\n      <td>350.0</td>\n      <td>145.0</td>\n      <td>3988.0</td>\n      <td>122500.0</td>\n      <td>50750.0</td>\n      <td>1395800.0</td>\n      <td>21025.0</td>\n      <td>578260.0</td>\n      <td>15904144.0</td>\n    </tr>\n    <tr>\n      <th>2</th>\n      <td>107.0</td>\n      <td>75.0</td>\n      <td>2210.0</td>\n      <td>11449.0</td>\n      <td>8025.0</td>\n      <td>236470.0</td>\n      <td>5625.0</td>\n      <td>165750.0</td>\n      <td>4884100.0</td>\n    </tr>\n    <tr>\n      <th>3</th>\n      <td>105.0</td>\n      <td>74.0</td>\n      <td>2190.0</td>\n      <td>11025.0</td>\n      <td>7770.0</td>\n      <td>229950.0</td>\n      <td>5476.0</td>\n      <td>162060.0</td>\n      <td>4796100.0</td>\n    </tr>\n    <tr>\n      <th>4</th>\n      <td>98.0</td>\n      <td>83.0</td>\n      <td>2075.0</td>\n      <td>9604.0</td>\n      <td>8134.0</td>\n      <td>203350.0</td>\n      <td>6889.0</td>\n      <td>172225.0</td>\n      <td>4305625.0</td>\n    </tr>\n    <tr>\n      <th>...</th>\n      <td>...</td>\n      <td>...</td>\n      <td>...</td>\n      <td>...</td>\n      <td>...</td>\n      <td>...</td>\n      <td>...</td>\n      <td>...</td>\n      <td>...</td>\n    </tr>\n    <tr>\n      <th>293</th>\n      <td>112.0</td>\n      <td>88.0</td>\n      <td>2395.0</td>\n      <td>12544.0</td>\n      <td>9856.0</td>\n      <td>268240.0</td>\n      <td>7744.0</td>\n      <td>210760.0</td>\n      <td>5736025.0</td>\n    </tr>\n    <tr>\n      <th>294</th>\n      <td>119.0</td>\n      <td>92.0</td>\n      <td>2434.0</td>\n      <td>14161.0</td>\n      <td>10948.0</td>\n      <td>289646.0</td>\n      <td>8464.0</td>\n      <td>223928.0</td>\n      <td>5924356.0</td>\n    </tr>\n    <tr>\n      <th>295</th>\n      <td>198.0</td>\n      <td>95.0</td>\n      <td>2833.0</td>\n      <td>39204.0</td>\n      <td>18810.0</td>\n      <td>560934.0</td>\n      <td>9025.0</td>\n      <td>269135.0</td>\n      <td>8025889.0</td>\n    </tr>\n    <tr>\n      <th>296</th>\n      <td>198.0</td>\n      <td>95.0</td>\n      <td>3102.0</td>\n      <td>39204.0</td>\n      <td>18810.0</td>\n      <td>614196.0</td>\n      <td>9025.0</td>\n      <td>294690.0</td>\n      <td>9622404.0</td>\n    </tr>\n    <tr>\n      <th>297</th>\n      <td>318.0</td>\n      <td>140.0</td>\n      <td>4080.0</td>\n      <td>101124.0</td>\n      <td>44520.0</td>\n      <td>1297440.0</td>\n      <td>19600.0</td>\n      <td>571200.0</td>\n      <td>16646400.0</td>\n    </tr>\n  </tbody>\n</table>\n<p>298 rows × 9 columns</p>\n</div>"
     },
     "execution_count": 288,
     "metadata": {},
     "output_type": "execute_result"
    }
   ],
   "source": [
    "scaled_X_train = pd.DataFrame(poly.transform(X_train))\n",
    "scaled_X_train.columns = poly.get_feature_names_out().tolist()\n",
    "scaled_X_train"
   ],
   "metadata": {
    "collapsed": false,
    "ExecuteTime": {
     "end_time": "2024-03-02T06:07:44.860410Z",
     "start_time": "2024-03-02T06:07:44.830203Z"
    }
   },
   "id": "ecc6b064351dc911",
   "execution_count": 288
  },
  {
   "cell_type": "code",
   "outputs": [
    {
     "data": {
      "text/plain": "    displacement  horsepower  weight  displacement^2  displacement horsepower  \\\n0           97.0        67.0  2145.0          9409.0                   6499.0   \n1           70.0        90.0  2124.0          4900.0                   6300.0   \n2          105.0        63.0  2215.0         11025.0                   6615.0   \n3           97.0        75.0  2155.0          9409.0                   7275.0   \n4           91.0        70.0  1955.0          8281.0                   6370.0   \n..           ...         ...     ...             ...                      ...   \n95         121.0       112.0  2933.0         14641.0                  13552.0   \n96         151.0        84.0  2635.0         22801.0                  12684.0   \n97         225.0       105.0  3439.0         50625.0                  23625.0   \n98          91.0        53.0  1795.0          8281.0                   4823.0   \n99         122.0        86.0  2395.0         14884.0                  10492.0   \n\n    displacement weight  horsepower^2  horsepower weight    weight^2  \n0              208065.0        4489.0           143715.0   4601025.0  \n1              148680.0        8100.0           191160.0   4511376.0  \n2              232575.0        3969.0           139545.0   4906225.0  \n3              209035.0        5625.0           161625.0   4644025.0  \n4              177905.0        4900.0           136850.0   3822025.0  \n..                  ...           ...                ...         ...  \n95             354893.0       12544.0           328496.0   8602489.0  \n96             397885.0        7056.0           221340.0   6943225.0  \n97             773775.0       11025.0           361095.0  11826721.0  \n98             163345.0        2809.0            95135.0   3222025.0  \n99             292190.0        7396.0           205970.0   5736025.0  \n\n[100 rows x 9 columns]",
      "text/html": "<div>\n<style scoped>\n    .dataframe tbody tr th:only-of-type {\n        vertical-align: middle;\n    }\n\n    .dataframe tbody tr th {\n        vertical-align: top;\n    }\n\n    .dataframe thead th {\n        text-align: right;\n    }\n</style>\n<table border=\"1\" class=\"dataframe\">\n  <thead>\n    <tr style=\"text-align: right;\">\n      <th></th>\n      <th>displacement</th>\n      <th>horsepower</th>\n      <th>weight</th>\n      <th>displacement^2</th>\n      <th>displacement horsepower</th>\n      <th>displacement weight</th>\n      <th>horsepower^2</th>\n      <th>horsepower weight</th>\n      <th>weight^2</th>\n    </tr>\n  </thead>\n  <tbody>\n    <tr>\n      <th>0</th>\n      <td>97.0</td>\n      <td>67.0</td>\n      <td>2145.0</td>\n      <td>9409.0</td>\n      <td>6499.0</td>\n      <td>208065.0</td>\n      <td>4489.0</td>\n      <td>143715.0</td>\n      <td>4601025.0</td>\n    </tr>\n    <tr>\n      <th>1</th>\n      <td>70.0</td>\n      <td>90.0</td>\n      <td>2124.0</td>\n      <td>4900.0</td>\n      <td>6300.0</td>\n      <td>148680.0</td>\n      <td>8100.0</td>\n      <td>191160.0</td>\n      <td>4511376.0</td>\n    </tr>\n    <tr>\n      <th>2</th>\n      <td>105.0</td>\n      <td>63.0</td>\n      <td>2215.0</td>\n      <td>11025.0</td>\n      <td>6615.0</td>\n      <td>232575.0</td>\n      <td>3969.0</td>\n      <td>139545.0</td>\n      <td>4906225.0</td>\n    </tr>\n    <tr>\n      <th>3</th>\n      <td>97.0</td>\n      <td>75.0</td>\n      <td>2155.0</td>\n      <td>9409.0</td>\n      <td>7275.0</td>\n      <td>209035.0</td>\n      <td>5625.0</td>\n      <td>161625.0</td>\n      <td>4644025.0</td>\n    </tr>\n    <tr>\n      <th>4</th>\n      <td>91.0</td>\n      <td>70.0</td>\n      <td>1955.0</td>\n      <td>8281.0</td>\n      <td>6370.0</td>\n      <td>177905.0</td>\n      <td>4900.0</td>\n      <td>136850.0</td>\n      <td>3822025.0</td>\n    </tr>\n    <tr>\n      <th>...</th>\n      <td>...</td>\n      <td>...</td>\n      <td>...</td>\n      <td>...</td>\n      <td>...</td>\n      <td>...</td>\n      <td>...</td>\n      <td>...</td>\n      <td>...</td>\n    </tr>\n    <tr>\n      <th>95</th>\n      <td>121.0</td>\n      <td>112.0</td>\n      <td>2933.0</td>\n      <td>14641.0</td>\n      <td>13552.0</td>\n      <td>354893.0</td>\n      <td>12544.0</td>\n      <td>328496.0</td>\n      <td>8602489.0</td>\n    </tr>\n    <tr>\n      <th>96</th>\n      <td>151.0</td>\n      <td>84.0</td>\n      <td>2635.0</td>\n      <td>22801.0</td>\n      <td>12684.0</td>\n      <td>397885.0</td>\n      <td>7056.0</td>\n      <td>221340.0</td>\n      <td>6943225.0</td>\n    </tr>\n    <tr>\n      <th>97</th>\n      <td>225.0</td>\n      <td>105.0</td>\n      <td>3439.0</td>\n      <td>50625.0</td>\n      <td>23625.0</td>\n      <td>773775.0</td>\n      <td>11025.0</td>\n      <td>361095.0</td>\n      <td>11826721.0</td>\n    </tr>\n    <tr>\n      <th>98</th>\n      <td>91.0</td>\n      <td>53.0</td>\n      <td>1795.0</td>\n      <td>8281.0</td>\n      <td>4823.0</td>\n      <td>163345.0</td>\n      <td>2809.0</td>\n      <td>95135.0</td>\n      <td>3222025.0</td>\n    </tr>\n    <tr>\n      <th>99</th>\n      <td>122.0</td>\n      <td>86.0</td>\n      <td>2395.0</td>\n      <td>14884.0</td>\n      <td>10492.0</td>\n      <td>292190.0</td>\n      <td>7396.0</td>\n      <td>205970.0</td>\n      <td>5736025.0</td>\n    </tr>\n  </tbody>\n</table>\n<p>100 rows × 9 columns</p>\n</div>"
     },
     "execution_count": 289,
     "metadata": {},
     "output_type": "execute_result"
    }
   ],
   "source": [
    "scaled_X_test = pd.DataFrame(poly.transform(X_test))\n",
    "scaled_X_test.columns = poly.get_feature_names_out().tolist()\n",
    "scaled_X_test"
   ],
   "metadata": {
    "collapsed": false,
    "ExecuteTime": {
     "end_time": "2024-03-02T06:07:44.891330Z",
     "start_time": "2024-03-02T06:07:44.861448Z"
    }
   },
   "id": "558fb8710d1cbf18",
   "execution_count": 289
  },
  {
   "cell_type": "markdown",
   "source": [
    "### 학습, 검정, 예측을 해보자"
   ],
   "metadata": {
    "collapsed": false
   },
   "id": "ed66d2af601987a1"
  },
  {
   "cell_type": "code",
   "outputs": [
    {
     "data": {
      "text/plain": "LinearRegression()",
      "text/html": "<style>#sk-container-id-27 {color: black;}#sk-container-id-27 pre{padding: 0;}#sk-container-id-27 div.sk-toggleable {background-color: white;}#sk-container-id-27 label.sk-toggleable__label {cursor: pointer;display: block;width: 100%;margin-bottom: 0;padding: 0.3em;box-sizing: border-box;text-align: center;}#sk-container-id-27 label.sk-toggleable__label-arrow:before {content: \"▸\";float: left;margin-right: 0.25em;color: #696969;}#sk-container-id-27 label.sk-toggleable__label-arrow:hover:before {color: black;}#sk-container-id-27 div.sk-estimator:hover label.sk-toggleable__label-arrow:before {color: black;}#sk-container-id-27 div.sk-toggleable__content {max-height: 0;max-width: 0;overflow: hidden;text-align: left;background-color: #f0f8ff;}#sk-container-id-27 div.sk-toggleable__content pre {margin: 0.2em;color: black;border-radius: 0.25em;background-color: #f0f8ff;}#sk-container-id-27 input.sk-toggleable__control:checked~div.sk-toggleable__content {max-height: 200px;max-width: 100%;overflow: auto;}#sk-container-id-27 input.sk-toggleable__control:checked~label.sk-toggleable__label-arrow:before {content: \"▾\";}#sk-container-id-27 div.sk-estimator input.sk-toggleable__control:checked~label.sk-toggleable__label {background-color: #d4ebff;}#sk-container-id-27 div.sk-label input.sk-toggleable__control:checked~label.sk-toggleable__label {background-color: #d4ebff;}#sk-container-id-27 input.sk-hidden--visually {border: 0;clip: rect(1px 1px 1px 1px);clip: rect(1px, 1px, 1px, 1px);height: 1px;margin: -1px;overflow: hidden;padding: 0;position: absolute;width: 1px;}#sk-container-id-27 div.sk-estimator {font-family: monospace;background-color: #f0f8ff;border: 1px dotted black;border-radius: 0.25em;box-sizing: border-box;margin-bottom: 0.5em;}#sk-container-id-27 div.sk-estimator:hover {background-color: #d4ebff;}#sk-container-id-27 div.sk-parallel-item::after {content: \"\";width: 100%;border-bottom: 1px solid gray;flex-grow: 1;}#sk-container-id-27 div.sk-label:hover label.sk-toggleable__label {background-color: #d4ebff;}#sk-container-id-27 div.sk-serial::before {content: \"\";position: absolute;border-left: 1px solid gray;box-sizing: border-box;top: 0;bottom: 0;left: 50%;z-index: 0;}#sk-container-id-27 div.sk-serial {display: flex;flex-direction: column;align-items: center;background-color: white;padding-right: 0.2em;padding-left: 0.2em;position: relative;}#sk-container-id-27 div.sk-item {position: relative;z-index: 1;}#sk-container-id-27 div.sk-parallel {display: flex;align-items: stretch;justify-content: center;background-color: white;position: relative;}#sk-container-id-27 div.sk-item::before, #sk-container-id-27 div.sk-parallel-item::before {content: \"\";position: absolute;border-left: 1px solid gray;box-sizing: border-box;top: 0;bottom: 0;left: 50%;z-index: -1;}#sk-container-id-27 div.sk-parallel-item {display: flex;flex-direction: column;z-index: 1;position: relative;background-color: white;}#sk-container-id-27 div.sk-parallel-item:first-child::after {align-self: flex-end;width: 50%;}#sk-container-id-27 div.sk-parallel-item:last-child::after {align-self: flex-start;width: 50%;}#sk-container-id-27 div.sk-parallel-item:only-child::after {width: 0;}#sk-container-id-27 div.sk-dashed-wrapped {border: 1px dashed gray;margin: 0 0.4em 0.5em 0.4em;box-sizing: border-box;padding-bottom: 0.4em;background-color: white;}#sk-container-id-27 div.sk-label label {font-family: monospace;font-weight: bold;display: inline-block;line-height: 1.2em;}#sk-container-id-27 div.sk-label-container {text-align: center;}#sk-container-id-27 div.sk-container {/* jupyter's `normalize.less` sets `[hidden] { display: none; }` but bootstrap.min.css set `[hidden] { display: none !important; }` so we also need the `!important` here to be able to override the default hidden behavior on the sphinx rendered scikit-learn.org. See: https://github.com/scikit-learn/scikit-learn/issues/21755 */display: inline-block !important;position: relative;}#sk-container-id-27 div.sk-text-repr-fallback {display: none;}</style><div id=\"sk-container-id-27\" class=\"sk-top-container\"><div class=\"sk-text-repr-fallback\"><pre>LinearRegression()</pre><b>In a Jupyter environment, please rerun this cell to show the HTML representation or trust the notebook. <br />On GitHub, the HTML representation is unable to render, please try loading this page with nbviewer.org.</b></div><div class=\"sk-container\" hidden><div class=\"sk-item\"><div class=\"sk-estimator sk-toggleable\"><input class=\"sk-toggleable__control sk-hidden--visually\" id=\"sk-estimator-id-27\" type=\"checkbox\" checked><label for=\"sk-estimator-id-27\" class=\"sk-toggleable__label sk-toggleable__label-arrow\">LinearRegression</label><div class=\"sk-toggleable__content\"><pre>LinearRegression()</pre></div></div></div></div></div>"
     },
     "execution_count": 290,
     "metadata": {},
     "output_type": "execute_result"
    }
   ],
   "source": [
    "model = LinearRegression()\n",
    "model"
   ],
   "metadata": {
    "collapsed": false,
    "ExecuteTime": {
     "end_time": "2024-03-02T06:07:44.922779Z",
     "start_time": "2024-03-02T06:07:44.899087Z"
    }
   },
   "id": "506700c7168dc4de",
   "execution_count": 290
  },
  {
   "cell_type": "code",
   "outputs": [
    {
     "data": {
      "text/plain": "LinearRegression()",
      "text/html": "<style>#sk-container-id-28 {color: black;}#sk-container-id-28 pre{padding: 0;}#sk-container-id-28 div.sk-toggleable {background-color: white;}#sk-container-id-28 label.sk-toggleable__label {cursor: pointer;display: block;width: 100%;margin-bottom: 0;padding: 0.3em;box-sizing: border-box;text-align: center;}#sk-container-id-28 label.sk-toggleable__label-arrow:before {content: \"▸\";float: left;margin-right: 0.25em;color: #696969;}#sk-container-id-28 label.sk-toggleable__label-arrow:hover:before {color: black;}#sk-container-id-28 div.sk-estimator:hover label.sk-toggleable__label-arrow:before {color: black;}#sk-container-id-28 div.sk-toggleable__content {max-height: 0;max-width: 0;overflow: hidden;text-align: left;background-color: #f0f8ff;}#sk-container-id-28 div.sk-toggleable__content pre {margin: 0.2em;color: black;border-radius: 0.25em;background-color: #f0f8ff;}#sk-container-id-28 input.sk-toggleable__control:checked~div.sk-toggleable__content {max-height: 200px;max-width: 100%;overflow: auto;}#sk-container-id-28 input.sk-toggleable__control:checked~label.sk-toggleable__label-arrow:before {content: \"▾\";}#sk-container-id-28 div.sk-estimator input.sk-toggleable__control:checked~label.sk-toggleable__label {background-color: #d4ebff;}#sk-container-id-28 div.sk-label input.sk-toggleable__control:checked~label.sk-toggleable__label {background-color: #d4ebff;}#sk-container-id-28 input.sk-hidden--visually {border: 0;clip: rect(1px 1px 1px 1px);clip: rect(1px, 1px, 1px, 1px);height: 1px;margin: -1px;overflow: hidden;padding: 0;position: absolute;width: 1px;}#sk-container-id-28 div.sk-estimator {font-family: monospace;background-color: #f0f8ff;border: 1px dotted black;border-radius: 0.25em;box-sizing: border-box;margin-bottom: 0.5em;}#sk-container-id-28 div.sk-estimator:hover {background-color: #d4ebff;}#sk-container-id-28 div.sk-parallel-item::after {content: \"\";width: 100%;border-bottom: 1px solid gray;flex-grow: 1;}#sk-container-id-28 div.sk-label:hover label.sk-toggleable__label {background-color: #d4ebff;}#sk-container-id-28 div.sk-serial::before {content: \"\";position: absolute;border-left: 1px solid gray;box-sizing: border-box;top: 0;bottom: 0;left: 50%;z-index: 0;}#sk-container-id-28 div.sk-serial {display: flex;flex-direction: column;align-items: center;background-color: white;padding-right: 0.2em;padding-left: 0.2em;position: relative;}#sk-container-id-28 div.sk-item {position: relative;z-index: 1;}#sk-container-id-28 div.sk-parallel {display: flex;align-items: stretch;justify-content: center;background-color: white;position: relative;}#sk-container-id-28 div.sk-item::before, #sk-container-id-28 div.sk-parallel-item::before {content: \"\";position: absolute;border-left: 1px solid gray;box-sizing: border-box;top: 0;bottom: 0;left: 50%;z-index: -1;}#sk-container-id-28 div.sk-parallel-item {display: flex;flex-direction: column;z-index: 1;position: relative;background-color: white;}#sk-container-id-28 div.sk-parallel-item:first-child::after {align-self: flex-end;width: 50%;}#sk-container-id-28 div.sk-parallel-item:last-child::after {align-self: flex-start;width: 50%;}#sk-container-id-28 div.sk-parallel-item:only-child::after {width: 0;}#sk-container-id-28 div.sk-dashed-wrapped {border: 1px dashed gray;margin: 0 0.4em 0.5em 0.4em;box-sizing: border-box;padding-bottom: 0.4em;background-color: white;}#sk-container-id-28 div.sk-label label {font-family: monospace;font-weight: bold;display: inline-block;line-height: 1.2em;}#sk-container-id-28 div.sk-label-container {text-align: center;}#sk-container-id-28 div.sk-container {/* jupyter's `normalize.less` sets `[hidden] { display: none; }` but bootstrap.min.css set `[hidden] { display: none !important; }` so we also need the `!important` here to be able to override the default hidden behavior on the sphinx rendered scikit-learn.org. See: https://github.com/scikit-learn/scikit-learn/issues/21755 */display: inline-block !important;position: relative;}#sk-container-id-28 div.sk-text-repr-fallback {display: none;}</style><div id=\"sk-container-id-28\" class=\"sk-top-container\"><div class=\"sk-text-repr-fallback\"><pre>LinearRegression()</pre><b>In a Jupyter environment, please rerun this cell to show the HTML representation or trust the notebook. <br />On GitHub, the HTML representation is unable to render, please try loading this page with nbviewer.org.</b></div><div class=\"sk-container\" hidden><div class=\"sk-item\"><div class=\"sk-estimator sk-toggleable\"><input class=\"sk-toggleable__control sk-hidden--visually\" id=\"sk-estimator-id-28\" type=\"checkbox\" checked><label for=\"sk-estimator-id-28\" class=\"sk-toggleable__label sk-toggleable__label-arrow\">LinearRegression</label><div class=\"sk-toggleable__content\"><pre>LinearRegression()</pre></div></div></div></div></div>"
     },
     "execution_count": 291,
     "metadata": {},
     "output_type": "execute_result"
    }
   ],
   "source": [
    "model.fit(scaled_X_train, y_train)"
   ],
   "metadata": {
    "collapsed": false,
    "ExecuteTime": {
     "end_time": "2024-03-02T06:07:44.937907Z",
     "start_time": "2024-03-02T06:07:44.926982Z"
    }
   },
   "id": "8918452819b6e669",
   "execution_count": 291
  },
  {
   "cell_type": "code",
   "outputs": [
    {
     "name": "stdout",
     "output_type": "stream",
     "text": [
      "모델 파라미터 : \n",
      " coef_ : [-1.09635244e-01 -5.05620251e-02 -1.71397409e-03  2.15696913e-05\n",
      "  2.44603570e-04  1.96000635e-05 -4.49900867e-04  8.73687413e-06\n",
      " -1.15021400e-06]      intercept_ : 48.907776154284896 \n"
     ]
    }
   ],
   "source": [
    "print(f\"모델 파라미터 : \\n coef_ : {model.coef_}      intercept_ : {model.intercept_} \")"
   ],
   "metadata": {
    "collapsed": false,
    "ExecuteTime": {
     "end_time": "2024-03-02T06:07:44.953259Z",
     "start_time": "2024-03-02T06:07:44.939901Z"
    }
   },
   "id": "125eba11cbaf8506",
   "execution_count": 292
  },
  {
   "cell_type": "code",
   "outputs": [
    {
     "data": {
      "text/plain": "0.7518562239526926"
     },
     "execution_count": 293,
     "metadata": {},
     "output_type": "execute_result"
    }
   ],
   "source": [
    "model.score(scaled_X_test, y_test)"
   ],
   "metadata": {
    "collapsed": false,
    "ExecuteTime": {
     "end_time": "2024-03-02T06:07:44.968710Z",
     "start_time": "2024-03-02T06:07:44.955254Z"
    }
   },
   "id": "5b16877017493230",
   "execution_count": 293
  },
  {
   "cell_type": "code",
   "outputs": [
    {
     "data": {
      "text/plain": "0.7037326263506749"
     },
     "execution_count": 294,
     "metadata": {},
     "output_type": "execute_result"
    }
   ],
   "source": [
    "model.score(scaled_X_train, y_train)"
   ],
   "metadata": {
    "collapsed": false,
    "ExecuteTime": {
     "end_time": "2024-03-02T06:07:44.983923Z",
     "start_time": "2024-03-02T06:07:44.970780Z"
    }
   },
   "id": "bda47ece24de6685",
   "execution_count": 294
  },
  {
   "cell_type": "code",
   "outputs": [
    {
     "data": {
      "text/plain": "array([31.02359389, 30.43997325, 30.61888042, 30.40671321, 31.85948078,\n       31.94833568, 28.44543985, 16.63510258, 32.66050568, 27.47615273,\n       26.62885462, 30.7266229 , 32.0395192 , 23.98581312, 23.93728551,\n       23.25763541, 24.76917331, 15.19022177, 13.7555032 , 26.86894829,\n       20.34142239, 12.46760589, 31.89005532, 19.74520152, 22.8828216 ,\n       24.48346885, 24.18893776, 21.75668758, 25.24559448, 27.13971489,\n       15.35352018, 13.05537942, 28.876037  ,  8.64453131, 35.78356951,\n       26.13323257, 31.34917776, 15.29778319, 20.82265688, 13.31820585,\n       32.5073813 , 24.96887172, 15.90776203, 20.5064385 , 30.88052107,\n       33.74742553, 19.21250069, 13.40572083, 24.92758317, 17.17304031,\n       20.91503861, 19.68269316, 23.89562027, 20.35536509, 30.78121641,\n       31.99932011, 17.86750432, 15.55797059, 31.74891813, 27.119983  ,\n       28.22457589, 22.5694138 , 32.46882158, 16.52407537, 31.69428254,\n       17.36323879, 24.67863835, 19.08203734, 15.21580872, 27.82717962,\n       16.71089861, 30.87031645, 21.69402653, 22.78568609, 31.11023848,\n       31.22866358, 14.71699869, 18.63210913, 14.62335603, 13.94024376,\n       32.26561494, 32.4489979 , 26.34342254, 21.74521134, 31.9784419 ,\n       33.06479583, 26.68020917, 21.76540485, 20.79874119, 20.95144026,\n       32.0395192 , 13.58939829, 18.98113275, 12.27147712, 15.73997951,\n       22.870242  , 25.75538051, 19.6646652 , 33.59590482, 27.56775163])"
     },
     "execution_count": 295,
     "metadata": {},
     "output_type": "execute_result"
    }
   ],
   "source": [
    "y_pred = model.predict(scaled_X_test)\n",
    "y_pred"
   ],
   "metadata": {
    "collapsed": false,
    "ExecuteTime": {
     "end_time": "2024-03-02T06:07:44.999503Z",
     "start_time": "2024-03-02T06:07:44.985958Z"
    }
   },
   "id": "c02ce6c55dc8c38f",
   "execution_count": 295
  },
  {
   "cell_type": "code",
   "outputs": [
    {
     "name": "stdout",
     "output_type": "stream",
     "text": [
      "[ 모델설명도 ]\n",
      "설정계수값(R2) : 0.7518562239526926\n",
      "[ 에러 ]\n",
      "평균제곱오차(MSE) : 14.644753589320688\n",
      "평균절대값오차(MAE) : 2.9001484294611406\n"
     ]
    }
   ],
   "source": [
    "print('[ 모델설명도 ]')\n",
    "print(f\"설정계수값(R2) : {r2_score(y_test, y_pred)}\")\n",
    "print('[ 에러 ]')\n",
    "print(f\"평균제곱오차(MSE) : {mean_squared_error(y_test, y_pred)}\")\n",
    "print(f\"평균절대값오차(MAE) : {mean_absolute_error(y_test, y_pred)}\")\n",
    "print()"
   ],
   "metadata": {
    "collapsed": false,
    "ExecuteTime": {
     "end_time": "2024-03-02T06:07:45.015094Z",
     "start_time": "2024-03-02T06:07:45.001538Z"
    }
   },
   "id": "90785f5c089a3af4",
   "execution_count": 296
  },
  {
   "cell_type": "code",
   "outputs": [],
   "source": [],
   "metadata": {
    "collapsed": false,
    "ExecuteTime": {
     "end_time": "2024-03-02T06:07:45.031039Z",
     "start_time": "2024-03-02T06:07:45.017086Z"
    }
   },
   "id": "48f498e20e73e9d7",
   "execution_count": 296
  },
  {
   "cell_type": "code",
   "outputs": [],
   "source": [],
   "metadata": {
    "collapsed": false,
    "ExecuteTime": {
     "end_time": "2024-03-02T06:07:45.046364Z",
     "start_time": "2024-03-02T06:07:45.034033Z"
    }
   },
   "id": "509c1936f6f7c264",
   "execution_count": 296
  },
  {
   "cell_type": "markdown",
   "source": [
    "### 스케일링 + 학습 + 검정"
   ],
   "metadata": {
    "collapsed": false
   },
   "id": "29d67af4cff00da5"
  },
  {
   "cell_type": "markdown",
   "source": [
    "##### 스케일링에 따른 score 변화"
   ],
   "metadata": {
    "collapsed": false
   },
   "id": "d6e64ddca4825935"
  },
  {
   "cell_type": "code",
   "outputs": [
    {
     "name": "stdout",
     "output_type": "stream",
     "text": [
      "[모델 파라미터] \n",
      " - coef_ : [-1.77393253 -0.74823857 -4.25606897] \n",
      " - intercept_ : 23.486241610738254\n",
      "\n",
      "[score 비교] \n",
      "  train_score = 0.6718186983645191 --- test_score = 0.6923053038683202\n",
      "\n",
      "[모델 파라미터] \n",
      " - coef_ : [ -6.5145829   -3.79637801 -17.58093046] \n",
      " - intercept_ : 34.35068364806038\n",
      "\n",
      "[score 비교] \n",
      "  train_score = 0.6718186983645191 --- test_score = 0.69230530386832\n",
      "\n",
      "[모델 파라미터] \n",
      " - coef_ : [-2.70599277 -0.78132527 -6.83024382] \n",
      " - intercept_ : 25.377791151827452\n",
      "\n",
      "[score 비교] \n",
      "  train_score = 0.6718186983645191 --- test_score = 0.6923053038683202\n"
     ]
    }
   ],
   "source": [
    "test_dict = {}\n",
    "def scaling(scale_type):\n",
    "    scaler = scale_type\n",
    "    scaler.fit(X_train)\n",
    "    scaled_X_train = scaler.transform(X_train)\n",
    "    scaled_X_test = scaler.transform(X_test)\n",
    "\n",
    "    model = LinearRegression()\n",
    "    model.fit(scaled_X_train, y_train)\n",
    "    print(f\"[모델 파라미터] \\n - coef_ : {model.coef_} \\n - intercept_ : {model.intercept_}\\n\")\n",
    "\n",
    "    train_score = model.score(scaled_X_train, y_train)\n",
    "    test_score = model.score(scaled_X_test, y_test)\n",
    "    print(f\"[score 비교] \\n  train_score = {train_score} --- test_score = {test_score}\")\n",
    "    print()\n",
    "    test_dict[scale_type] = test_score\n",
    "    return scaler, scaled_X_train, scaled_X_test, model\n",
    "    \n",
    "scaling(StandardScaler())\n",
    "scaling(MinMaxScaler())\n",
    "scaler, scaled_X_train, scaled_X_test, model = scaling(RobustScaler())"
   ],
   "metadata": {
    "collapsed": false,
    "ExecuteTime": {
     "end_time": "2024-03-02T06:07:45.093086Z",
     "start_time": "2024-03-02T06:07:45.049416Z"
    }
   },
   "id": "c65ac91da5ebbb69",
   "execution_count": 297
  },
  {
   "cell_type": "markdown",
   "source": [
    "확인해보니 모두 score가 거의 유사하다. 아무꺼나 써도 상관없을 듯 하다\n",
    "그리고 훈련점수와 테스트 점수의 차이가 크지 않으므로 >>최적적합<<으로 판단가능하다."
   ],
   "metadata": {
    "collapsed": false
   },
   "id": "137b88fd70f5174e"
  },
  {
   "cell_type": "markdown",
   "source": [
    "### 예측"
   ],
   "metadata": {
    "collapsed": false
   },
   "id": "36cf3c21e89eba72"
  },
  {
   "cell_type": "code",
   "outputs": [
    {
     "data": {
      "text/plain": "array([[-0.30482115, -0.56441718, -0.48056924],\n       [-0.47278383,  0.        , -0.49589491],\n       [-0.25505443, -0.66257669, -0.42948367],\n       [-0.30482115, -0.36809816, -0.4732713 ],\n       [-0.34214619, -0.49079755, -0.61923007],\n       [-0.34214619, -0.5398773 , -0.60828316],\n       [-0.30482115,  0.04907975, -0.37620872],\n       [ 0.97045101,  0.98159509,  0.77832512],\n       [-0.41679627, -0.56441718, -0.61339172],\n       [-0.23639191,  0.09815951, -0.30979748],\n       [-0.19906687,  0.02453988, -0.16164933],\n       [-0.34836703, -0.46625767, -0.42364532],\n       [-0.34214619, -0.56441718, -0.61193213],\n       [-0.0933126 ,  0.3190184 ,  0.01933954],\n       [ 0.32970451,  0.        , -0.11348294],\n       [-0.155521  ,  0.61349693, -0.00620325],\n       [-0.16174184, -0.07361963,  0.12807882],\n       [ 1.27527216,  1.54601227,  0.96734173],\n       [ 1.58009331,  1.96319018,  1.41762452],\n       [-0.06842924, -0.14723926, -0.22879037],\n       [ 0.64696734,  0.24539877,  0.34920635],\n       [ 1.33125972,  1.96319018,  1.35048349],\n       [-0.34214619, -0.5398773 , -0.59733625],\n       [ 0.52877138,  0.61349693,  0.32220398],\n       [ 0.16796267,  0.49079755, -0.05728882],\n       [ 0.05598756,  0.41717791, -0.24192666],\n       [ 0.        ,  0.17177914,  0.00839263],\n       [ 0.33592535,  0.12269939,  0.25652253],\n       [ 0.0622084 ,  0.04907975, -0.15945995],\n       [-0.16174184, -0.26993865, -0.1302682 ],\n       [ 1.26905132,  1.8404908 ,  0.64915161],\n       [ 1.91601866, -2.20858896,  1.13154534],\n       [-0.18662519, -0.2208589 , -0.4258347 ],\n       [ 1.00155521,  2.6993865 ,  1.1476008 ],\n       [-0.37947123, -2.20858896, -0.70680533],\n       [-0.16796267,  0.17177914, -0.18865171],\n       [-0.30482115, -0.56441718, -0.53895275],\n       [ 1.06998445,  1.47239264,  0.82941069],\n       [ 0.64696734, -0.44171779,  0.45867542],\n       [ 1.06998445,  1.47239264,  1.2067141 ],\n       [-0.41679627, -0.56441718, -0.58638935],\n       [-0.01244168,  0.14723926, -0.10107645],\n       [ 0.98289269,  1.47239264,  0.63382594],\n       [ 0.53499222,  0.24539877,  0.35358511],\n       [-0.29860031, -0.24539877, -0.64842182],\n       [-0.46656299, -0.61349693, -0.70607553],\n       [ 0.52877138,  0.36809816,  0.53384419],\n       [ 1.58009331,  2.45398773,  1.11038132],\n       [ 0.0311042 ,  0.        , -0.04999088],\n       [ 1.58009331,  1.47239264,  0.6987776 ],\n       [ 0.49144635,  0.36809816,  0.23170954],\n       [ 0.52877138,  0.36809816,  0.45356687],\n       [-0.00622084, -0.34355828,  0.2601715 ],\n       [ 0.64696734,  0.24539877,  0.34628717],\n       [-0.25505443, -0.39263804, -0.60098522],\n       [-0.35458787, -0.46625767, -0.64112388],\n       [ 0.97045101,  1.20245399,  0.29301222],\n       [ 0.97045101,  1.15337423,  0.90384966],\n       [-0.35458787, -0.46625767, -0.59368728],\n       [-0.14930016,  0.14723926, -0.3674512 ],\n       [-0.14930016, -0.09815951, -0.42145594],\n       [ 0.0622084 ,  0.44171779,  0.09231892],\n       [-0.34214619, -0.56441718, -0.69585842],\n       [ 0.70917574,  0.49079755,  0.91698595],\n       [-0.37947123, -0.49079755, -0.53530378],\n       [ 1.26905132,  0.85889571,  0.80021894],\n       [ 0.33592535, -2.20858896,  0.05218026],\n       [ 0.49144635,  0.24539877,  0.6031746 ],\n       [ 0.98289269,  1.47239264,  0.79438059],\n       [-0.03732504, -0.44171779, -0.29374202],\n       [ 1.06998445,  1.47239264,  0.43459223],\n       [-0.29860031, -0.49079755, -0.49881409],\n       [ 0.53499222,  0.24539877,  0.10326583],\n       [ 0.32348367,  0.12269939,  0.07334428],\n       [-0.36080871, -0.34355828, -0.53895275],\n       [-0.34214619, -0.51533742, -0.49151615],\n       [ 0.98911353,  1.22699387,  1.030104  ],\n       [ 0.97045101,  0.95705521,  0.26673965],\n       [ 1.06998445,  1.47239264,  0.97172049],\n       [ 1.06998445, -2.20858896,  1.15197957],\n       [-0.37947123, -0.61349693, -0.57179347],\n       [-0.37947123, -0.61349693, -0.60463419],\n       [-0.16174184,  0.17177914, -0.22952016],\n       [ 0.64696734, -0.04907975,  0.15873016],\n       [-0.34836703, -0.49079755, -0.63236636],\n       [-0.30482115, -1.0797546 , -0.62287904],\n       [-0.03732504, -0.29447853, -0.1543514 ],\n       [ 0.53499222,  0.        ,  0.20543696],\n       [ 0.49144635,  0.24539877,  0.31344645],\n       [ 0.49144635,  0.12269939,  0.33607006],\n       [-0.34214619, -0.56441718, -0.61193213],\n       [ 1.26905132,  1.71779141,  1.20598431],\n       [ 0.49144635,  0.24539877,  0.61850027],\n       [ 1.26905132,  2.20858896,  1.15051998],\n       [ 1.47433904,  1.96319018,  0.55427842],\n       [-0.155521  ,  0.5398773 ,  0.0945083 ],\n       [ 0.0311042 , -0.14723926, -0.12297026],\n       [ 0.49144635,  0.36809816,  0.46378398],\n       [-0.34214619, -0.90797546, -0.73599708],\n       [-0.14930016, -0.09815951, -0.29812078]])"
     },
     "execution_count": 298,
     "metadata": {},
     "output_type": "execute_result"
    }
   ],
   "source": [
    "scaled_X_test"
   ],
   "metadata": {
    "collapsed": false,
    "ExecuteTime": {
     "end_time": "2024-03-02T06:07:45.108423Z",
     "start_time": "2024-03-02T06:07:45.095128Z"
    }
   },
   "id": "297ff951b07579a7",
   "execution_count": 298
  },
  {
   "cell_type": "code",
   "outputs": [
    {
     "data": {
      "text/plain": "array([29.9, 30. , 29.5, 29.7, 30.9, 30.9, 28.7, 16.7, 31.1, 28.1, 27. ,\n       29.6, 30.9, 25.2, 25.3, 25.4, 25. , 14.1,  9.9, 27.2, 21.1, 11. ,\n       30.8, 21.3, 24.9, 26.6, 25.2, 22.6, 26.3, 26.9, 16.1, 14.2, 29. ,\n       12.7, 33. , 27. , 30.3, 15.7, 20.8, 13.1, 31. , 26. , 17.2, 21.3,\n       30.8, 31.9, 20. , 11.6, 25.6, 15.2, 22.2, 20.6, 23.9, 21.1, 30.5,\n       31.1, 19.8, 15.7, 30.8, 28.2, 28.7, 24.2, 31.5, 16.8, 30.4, 15.8,\n       25.8, 19.7, 16.1, 27.8, 18.4, 30. , 23. , 23.9, 30.3, 30.1, 14.7,\n       20.2, 14.7, 16.3, 30.8, 31. , 27.2, 22.6, 31. , 31.3, 26.8, 22.5,\n       21.7, 21.7, 30.9, 12.4, 19.6, 12.4, 16.1, 24.7, 26.2, 20.6, 32. ,\n       27.9])"
     },
     "execution_count": 299,
     "metadata": {},
     "output_type": "execute_result"
    }
   ],
   "source": [
    "y_pred = model.predict(scaled_X_test).round(1)\n",
    "y_pred"
   ],
   "metadata": {
    "collapsed": false,
    "ExecuteTime": {
     "end_time": "2024-03-02T06:07:45.123986Z",
     "start_time": "2024-03-02T06:07:45.109497Z"
    }
   },
   "id": "7bacf3e964f4377e",
   "execution_count": 299
  },
  {
   "cell_type": "code",
   "outputs": [],
   "source": [
    "# new_data = [[300, 100, 3000]]\n",
    "# new_data = pd.DataFrame(new_data)\n",
    "# #print(new_data)\n",
    "# \n",
    "# scaler.transform(new_data)\n",
    "# model.predict(new_data)\n",
    "\n",
    "# 뭔가 잘못되긴 했다. 마이너스 값이 나온다."
   ],
   "metadata": {
    "collapsed": false,
    "ExecuteTime": {
     "end_time": "2024-03-02T06:07:45.139366Z",
     "start_time": "2024-03-02T06:07:45.124976Z"
    }
   },
   "id": "af35da4b161dba5c",
   "execution_count": 300
  },
  {
   "cell_type": "markdown",
   "source": [
    "### 성능평가"
   ],
   "metadata": {
    "collapsed": false
   },
   "id": "30387cc606f1ebff"
  },
  {
   "cell_type": "code",
   "outputs": [
    {
     "name": "stdout",
     "output_type": "stream",
     "text": [
      "[ 모델설명도 ]\n",
      "설정계수값(R2) : 0.6925659533453724\n",
      "[ 에러 ]\n",
      "평균제곱오차(MSE) : 18.1439\n",
      "평균절대값오차(MAE) : 3.289\n"
     ]
    }
   ],
   "source": [
    "print('[ 모델설명도 ]')\n",
    "print(f\"설정계수값(R2) : {r2_score(y_test, y_pred)}\")\n",
    "print('[ 에러 ]')\n",
    "print(f\"평균제곱오차(MSE) : {mean_squared_error(y_test, y_pred):.4f}\")\n",
    "print(f\"평균절대값오차(MAE) : {mean_absolute_error(y_test, y_pred):.4}\")\n",
    "print()"
   ],
   "metadata": {
    "collapsed": false,
    "ExecuteTime": {
     "end_time": "2024-03-02T06:07:45.155032Z",
     "start_time": "2024-03-02T06:07:45.140520Z"
    }
   },
   "id": "72a2c946a9f0e967",
   "execution_count": 301
  }
 ],
 "metadata": {
  "kernelspec": {
   "display_name": "Python 3",
   "language": "python",
   "name": "python3"
  },
  "language_info": {
   "codemirror_mode": {
    "name": "ipython",
    "version": 2
   },
   "file_extension": ".py",
   "mimetype": "text/x-python",
   "name": "python",
   "nbconvert_exporter": "python",
   "pygments_lexer": "ipython2",
   "version": "2.7.6"
  }
 },
 "nbformat": 4,
 "nbformat_minor": 5
}
