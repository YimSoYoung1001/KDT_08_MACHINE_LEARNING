{
 "cells": [
  {
   "cell_type": "markdown",
   "source": [
    "# 0305 머신러닝 과제 _ 임소영"
   ],
   "metadata": {
    "collapsed": false
   },
   "id": "5bf00808cf2d2512"
  },
  {
   "cell_type": "markdown",
   "source": [
    "- crim : 마을별 1인당 범죄율\n",
    "- zn : 25,000평방피트 이상의 부지에 대해 구역이 지정된 주거용 토지의 비율입니다.\n",
    "- indus : 도시별 비소매업 면적의 비율.\n",
    "- chas : 찰스 강 더미 변수(지역이 강을 경계로 하는 경우 1, 그렇지 않으면 0).\n",
    "- nox : 질소 산화물 농도(천만 개당 부품).\n",
    "- rm : 주거지당 평균 방 수입니다.\n",
    "- age : 1940년 이전에 지어진 소유주가 거주하는 유닛의 비율입니다.\n",
    "- dis : 보스턴의 5개 고용 센터까지의 거리의 가중 평균.\n",
    "- rad : 방사형 고속도로에 대한 접근성 지수.\n",
    "- tax : 10,000달러당 전체 가치의 재산세율.\n",
    "- ptratio : 도시별 학생 대 교사 비율입니다.\n",
    "- black : 1000(Bk - 0.63)^2 여기서 Bk는 도시별 흑인 비율입니다.\n",
    "- lstat : 인구의 하위 상태(백분율)입니다.\n",
    "- medv : 소유주가 거주하는 주택의 중간값($1000대)"
   ],
   "metadata": {
    "collapsed": false
   },
   "id": "b3cf6cdc897be01e"
  },
  {
   "cell_type": "markdown",
   "source": [
    "### 모듈 로딩 & 데이터 전처리"
   ],
   "metadata": {
    "collapsed": false
   },
   "id": "af45de7d4478eca4"
  },
  {
   "cell_type": "code",
   "outputs": [],
   "source": [
    "import pandas as pd\n",
    "import numpy as np\n",
    "import matplotlib.pyplot as plt"
   ],
   "metadata": {
    "collapsed": false,
    "ExecuteTime": {
     "end_time": "2024-03-06T00:40:47.398892Z",
     "start_time": "2024-03-06T00:40:47.395676Z"
    }
   },
   "id": "ab7945a5207f307",
   "execution_count": 142
  },
  {
   "cell_type": "code",
   "outputs": [
    {
     "data": {
      "text/plain": "      CRIM    ZN  INDUS  CHAS    NOX     RM   AGE     DIS  RAD  TAX  PTRATIO  \\\n0  0.00632  18.0   2.31   0.0  0.538  6.575  65.2  4.0900    1  296     15.3   \n1  0.02731   0.0   7.07   0.0  0.469  6.421  78.9  4.9671    2  242     17.8   \n2  0.02729   0.0   7.07   0.0  0.469  7.185  61.1  4.9671    2  242     17.8   \n3  0.03237   0.0   2.18   0.0  0.458  6.998  45.8  6.0622    3  222     18.7   \n4  0.06905   0.0   2.18   0.0  0.458  7.147  54.2  6.0622    3  222     18.7   \n\n        B  LSTAT  MEDV  \n0  396.90   4.98  24.0  \n1  396.90   9.14  21.6  \n2  392.83   4.03  34.7  \n3  394.63   2.94  33.4  \n4  396.90    NaN  36.2  ",
      "text/html": "<div>\n<style scoped>\n    .dataframe tbody tr th:only-of-type {\n        vertical-align: middle;\n    }\n\n    .dataframe tbody tr th {\n        vertical-align: top;\n    }\n\n    .dataframe thead th {\n        text-align: right;\n    }\n</style>\n<table border=\"1\" class=\"dataframe\">\n  <thead>\n    <tr style=\"text-align: right;\">\n      <th></th>\n      <th>CRIM</th>\n      <th>ZN</th>\n      <th>INDUS</th>\n      <th>CHAS</th>\n      <th>NOX</th>\n      <th>RM</th>\n      <th>AGE</th>\n      <th>DIS</th>\n      <th>RAD</th>\n      <th>TAX</th>\n      <th>PTRATIO</th>\n      <th>B</th>\n      <th>LSTAT</th>\n      <th>MEDV</th>\n    </tr>\n  </thead>\n  <tbody>\n    <tr>\n      <th>0</th>\n      <td>0.00632</td>\n      <td>18.0</td>\n      <td>2.31</td>\n      <td>0.0</td>\n      <td>0.538</td>\n      <td>6.575</td>\n      <td>65.2</td>\n      <td>4.0900</td>\n      <td>1</td>\n      <td>296</td>\n      <td>15.3</td>\n      <td>396.90</td>\n      <td>4.98</td>\n      <td>24.0</td>\n    </tr>\n    <tr>\n      <th>1</th>\n      <td>0.02731</td>\n      <td>0.0</td>\n      <td>7.07</td>\n      <td>0.0</td>\n      <td>0.469</td>\n      <td>6.421</td>\n      <td>78.9</td>\n      <td>4.9671</td>\n      <td>2</td>\n      <td>242</td>\n      <td>17.8</td>\n      <td>396.90</td>\n      <td>9.14</td>\n      <td>21.6</td>\n    </tr>\n    <tr>\n      <th>2</th>\n      <td>0.02729</td>\n      <td>0.0</td>\n      <td>7.07</td>\n      <td>0.0</td>\n      <td>0.469</td>\n      <td>7.185</td>\n      <td>61.1</td>\n      <td>4.9671</td>\n      <td>2</td>\n      <td>242</td>\n      <td>17.8</td>\n      <td>392.83</td>\n      <td>4.03</td>\n      <td>34.7</td>\n    </tr>\n    <tr>\n      <th>3</th>\n      <td>0.03237</td>\n      <td>0.0</td>\n      <td>2.18</td>\n      <td>0.0</td>\n      <td>0.458</td>\n      <td>6.998</td>\n      <td>45.8</td>\n      <td>6.0622</td>\n      <td>3</td>\n      <td>222</td>\n      <td>18.7</td>\n      <td>394.63</td>\n      <td>2.94</td>\n      <td>33.4</td>\n    </tr>\n    <tr>\n      <th>4</th>\n      <td>0.06905</td>\n      <td>0.0</td>\n      <td>2.18</td>\n      <td>0.0</td>\n      <td>0.458</td>\n      <td>7.147</td>\n      <td>54.2</td>\n      <td>6.0622</td>\n      <td>3</td>\n      <td>222</td>\n      <td>18.7</td>\n      <td>396.90</td>\n      <td>NaN</td>\n      <td>36.2</td>\n    </tr>\n  </tbody>\n</table>\n</div>"
     },
     "execution_count": 143,
     "metadata": {},
     "output_type": "execute_result"
    }
   ],
   "source": [
    "file = '../data/HousingData.csv'\n",
    "data = pd.read_csv(file)\n",
    "data.head()"
   ],
   "metadata": {
    "collapsed": false,
    "ExecuteTime": {
     "end_time": "2024-03-06T00:40:47.501599Z",
     "start_time": "2024-03-06T00:40:47.487365Z"
    }
   },
   "id": "970a50bd58e37a03",
   "execution_count": 143
  },
  {
   "cell_type": "code",
   "outputs": [
    {
     "name": "stdout",
     "output_type": "stream",
     "text": [
      "<class 'pandas.core.frame.DataFrame'>\n",
      "RangeIndex: 506 entries, 0 to 505\n",
      "Data columns (total 14 columns):\n",
      " #   Column   Non-Null Count  Dtype  \n",
      "---  ------   --------------  -----  \n",
      " 0   CRIM     486 non-null    float64\n",
      " 1   ZN       486 non-null    float64\n",
      " 2   INDUS    486 non-null    float64\n",
      " 3   CHAS     486 non-null    float64\n",
      " 4   NOX      506 non-null    float64\n",
      " 5   RM       506 non-null    float64\n",
      " 6   AGE      486 non-null    float64\n",
      " 7   DIS      506 non-null    float64\n",
      " 8   RAD      506 non-null    int64  \n",
      " 9   TAX      506 non-null    int64  \n",
      " 10  PTRATIO  506 non-null    float64\n",
      " 11  B        506 non-null    float64\n",
      " 12  LSTAT    486 non-null    float64\n",
      " 13  MEDV     506 non-null    float64\n",
      "dtypes: float64(12), int64(2)\n",
      "memory usage: 55.5 KB\n"
     ]
    }
   ],
   "source": [
    "data.info()"
   ],
   "metadata": {
    "collapsed": false,
    "ExecuteTime": {
     "end_time": "2024-03-06T00:40:47.509634Z",
     "start_time": "2024-03-06T00:40:47.502753Z"
    }
   },
   "id": "734abe902072c189",
   "execution_count": 144
  },
  {
   "cell_type": "code",
   "outputs": [
    {
     "data": {
      "text/plain": "CRIM       20\nZN         20\nINDUS      20\nCHAS       20\nNOX         0\nRM          0\nAGE        20\nDIS         0\nRAD         0\nTAX         0\nPTRATIO     0\nB           0\nLSTAT      20\nMEDV        0\ndtype: int64"
     },
     "execution_count": 145,
     "metadata": {},
     "output_type": "execute_result"
    }
   ],
   "source": [
    "data.isna().sum()"
   ],
   "metadata": {
    "collapsed": false,
    "ExecuteTime": {
     "end_time": "2024-03-06T00:40:47.516193Z",
     "start_time": "2024-03-06T00:40:47.510695Z"
    }
   },
   "id": "7411a0a3f228e5a4",
   "execution_count": 145
  },
  {
   "cell_type": "code",
   "outputs": [],
   "source": [
    "data.dropna(inplace=True)"
   ],
   "metadata": {
    "collapsed": false,
    "ExecuteTime": {
     "end_time": "2024-03-06T00:40:47.521840Z",
     "start_time": "2024-03-06T00:40:47.517354Z"
    }
   },
   "id": "e1c7e07f02932068",
   "execution_count": 146
  },
  {
   "cell_type": "code",
   "outputs": [
    {
     "data": {
      "text/plain": "CRIM       0\nZN         0\nINDUS      0\nCHAS       0\nNOX        0\nRM         0\nAGE        0\nDIS        0\nRAD        0\nTAX        0\nPTRATIO    0\nB          0\nLSTAT      0\nMEDV       0\ndtype: int64"
     },
     "execution_count": 147,
     "metadata": {},
     "output_type": "execute_result"
    }
   ],
   "source": [
    "data.isna().sum()\n"
   ],
   "metadata": {
    "collapsed": false,
    "ExecuteTime": {
     "end_time": "2024-03-06T00:40:47.530861Z",
     "start_time": "2024-03-06T00:40:47.526062Z"
    }
   },
   "id": "3cf5fc0374313150",
   "execution_count": 147
  },
  {
   "cell_type": "code",
   "outputs": [
    {
     "data": {
      "text/plain": "0"
     },
     "execution_count": 148,
     "metadata": {},
     "output_type": "execute_result"
    }
   ],
   "source": [
    "data.duplicated().sum()"
   ],
   "metadata": {
    "collapsed": false,
    "ExecuteTime": {
     "end_time": "2024-03-06T00:40:47.557348Z",
     "start_time": "2024-03-06T00:40:47.551032Z"
    }
   },
   "id": "1d0f304d8f1ab3aa",
   "execution_count": 148
  },
  {
   "cell_type": "code",
   "outputs": [
    {
     "data": {
      "text/plain": "<Figure size 640x480 with 1 Axes>",
      "image/png": "[encoded data removed]"
     },
     "metadata": {},
     "output_type": "display_data"
    }
   ],
   "source": [
    "plt.boxplot(data)\n",
    "plt.show()"
   ],
   "metadata": {
    "collapsed": false,
    "ExecuteTime": {
     "end_time": "2024-03-06T00:40:47.723308Z",
     "start_time": "2024-03-06T00:40:47.573220Z"
    }
   },
   "id": "d0a6c819527eeb80",
   "execution_count": 149
  },
  {
   "cell_type": "code",
   "outputs": [
    {
     "name": "stdout",
     "output_type": "stream",
     "text": [
      "[ lower의 개수 ]\n",
      "CRIM        0\n",
      "ZN          0\n",
      "INDUS       0\n",
      "CHAS        0\n",
      "NOX         0\n",
      "RM          6\n",
      "AGE         0\n",
      "DIS         0\n",
      "RAD         0\n",
      "TAX         0\n",
      "PTRATIO    12\n",
      "B          58\n",
      "LSTAT       0\n",
      "MEDV        0\n",
      "dtype: int64\n",
      "\n",
      "[ upper의 개수 ]\n",
      "CRIM       54\n",
      "ZN         50\n",
      "INDUS       0\n",
      "CHAS       27\n",
      "NOX         0\n",
      "RM         17\n",
      "AGE         0\n",
      "DIS         4\n",
      "RAD         0\n",
      "TAX         0\n",
      "PTRATIO     0\n",
      "B           0\n",
      "LSTAT       6\n",
      "MEDV       26\n",
      "dtype: int64\n"
     ]
    }
   ],
   "source": [
    "def print_flier(insert_data):\n",
    "    q1 = insert_data.quantile(0.25)\n",
    "    q3 = insert_data.quantile(0.75)\n",
    "    iqr = q3 - q1\n",
    "    #print(f\"[ q1 ] \\n{q1}\\n\\n[ q3 ] \\n{q3}\\n\")\n",
    "    #print(f\"[ iqr의 범위 ]\\n{iqr}\\n\")\n",
    "\n",
    "    #print('------------------ 이상값이 될 기준 계산 ------------------\\n')\n",
    "\n",
    "    lower = q1 - 1.5 * iqr\n",
    "    #print(f\"[ lower의 값 ]\\n{lower}\\n\")\n",
    "    upper = q3 + 1.5 * iqr\n",
    "    #print(f\"[ upper의 값 ]\\n{upper}\\n\")\n",
    "\n",
    "    mask = insert_data < lower\n",
    "    print(f\"[ lower의 개수 ]\\n{mask.sum()}\\n\")\n",
    "    mask2 = insert_data > upper\n",
    "    print(f\"[ upper의 개수 ]\\n{mask2.sum()}\\n\")\n",
    "\n",
    "    return lower, upper\n",
    "\n",
    "lower, upper = print_flier(data)"
   ],
   "metadata": {
    "collapsed": false,
    "ExecuteTime": {
     "end_time": "2024-03-06T00:40:47.735406Z",
     "start_time": "2024-03-06T00:40:47.724390Z"
    }
   },
   "id": "5e299e79c499a389",
   "execution_count": 150
  },
  {
   "cell_type": "code",
   "outputs": [
    {
     "name": "stdout",
     "output_type": "stream",
     "text": [
      "[BEFORE] (394, 14)\n",
      " 'CRIM' 컬럼에서 lower 미만의 값 제거 후 shape: (394, 14)\n",
      " 'CRIM' 컬럼에서 upper 초과의 값 제거 후 shape: (340, 14)\n",
      "\n",
      " 'ZN' 컬럼에서 lower 미만의 값 제거 후 shape: (340, 14)\n",
      " 'ZN' 컬럼에서 upper 초과의 값 제거 후 shape: (290, 14)\n",
      "\n",
      " 'INDUS' 컬럼에서 lower 미만의 값 제거 후 shape: (290, 14)\n",
      " 'INDUS' 컬럼에서 upper 초과의 값 제거 후 shape: (290, 14)\n",
      "\n",
      " 'CHAS' 컬럼에서 lower 미만의 값 제거 후 shape: (290, 14)\n",
      " 'CHAS' 컬럼에서 upper 초과의 값 제거 후 shape: (267, 14)\n",
      "\n",
      " 'NOX' 컬럼에서 lower 미만의 값 제거 후 shape: (267, 14)\n",
      " 'NOX' 컬럼에서 upper 초과의 값 제거 후 shape: (267, 14)\n",
      "\n",
      " 'RM' 컬럼에서 lower 미만의 값 제거 후 shape: (266, 14)\n",
      " 'RM' 컬럼에서 upper 초과의 값 제거 후 shape: (255, 14)\n",
      "\n",
      " 'AGE' 컬럼에서 lower 미만의 값 제거 후 shape: (255, 14)\n",
      " 'AGE' 컬럼에서 upper 초과의 값 제거 후 shape: (255, 14)\n",
      "\n",
      " 'DIS' 컬럼에서 lower 미만의 값 제거 후 shape: (255, 14)\n",
      " 'DIS' 컬럼에서 upper 초과의 값 제거 후 shape: (255, 14)\n",
      "\n",
      " 'RAD' 컬럼에서 lower 미만의 값 제거 후 shape: (255, 14)\n",
      " 'RAD' 컬럼에서 upper 초과의 값 제거 후 shape: (255, 14)\n",
      "\n",
      " 'TAX' 컬럼에서 lower 미만의 값 제거 후 shape: (255, 14)\n",
      " 'TAX' 컬럼에서 upper 초과의 값 제거 후 shape: (255, 14)\n",
      "\n",
      " 'PTRATIO' 컬럼에서 lower 미만의 값 제거 후 shape: (247, 14)\n",
      " 'PTRATIO' 컬럼에서 upper 초과의 값 제거 후 shape: (247, 14)\n",
      "\n",
      " 'B' 컬럼에서 lower 미만의 값 제거 후 shape: (217, 14)\n",
      " 'B' 컬럼에서 upper 초과의 값 제거 후 shape: (217, 14)\n",
      "\n",
      " 'LSTAT' 컬럼에서 lower 미만의 값 제거 후 shape: (217, 14)\n",
      " 'LSTAT' 컬럼에서 upper 초과의 값 제거 후 shape: (216, 14)\n",
      "\n",
      " 'MEDV' 컬럼에서 lower 미만의 값 제거 후 shape: (216, 14)\n",
      " 'MEDV' 컬럼에서 upper 초과의 값 제거 후 shape: (214, 14)\n",
      "\n",
      "[AFTER] (214, 14)\n"
     ]
    }
   ],
   "source": [
    "def drop_flier(insert_data, col_name):\n",
    "    global lower\n",
    "    global upper\n",
    "    # 어쨰서 둘의 반환값이 같을까? 컬럼별로 적용하지 않아서 그런걸까?\n",
    "    # data[~mask].shape\n",
    "    # data[mask].shape\n",
    "    # 이렇게 하면 데이터 프레임 전체에서 조건이 맞는걸 구해야하기 때문에 내가 의도한 바와 맞지 않는다.\n",
    "    # 그래서 컬럼별로 필터링을 적용해주어야 한다.\n",
    "\n",
    "    mask = insert_data[col_name] >= lower.loc[col_name]\n",
    "    insert_data = insert_data[mask]\n",
    "    print(f\" '{col_name}' 컬럼에서 lower 미만의 값 제거 후 shape: {insert_data.shape}\")\n",
    "\n",
    "    mask2 = insert_data[col_name] <= upper.loc[col_name]\n",
    "    insert_data = insert_data[mask2]\n",
    "    print(f\" '{col_name}' 컬럼에서 upper 초과의 값 제거 후 shape: {insert_data.shape}\\n\")\n",
    "    return insert_data\n",
    "\n",
    "print(f\"[BEFORE] {data.shape}\")\n",
    "for col in (data.columns.tolist()):\n",
    "    data = drop_flier(data,col)\n",
    "print(f\"[AFTER] {data.shape}\")"
   ],
   "metadata": {
    "collapsed": false,
    "ExecuteTime": {
     "end_time": "2024-03-06T00:40:47.752782Z",
     "start_time": "2024-03-06T00:40:47.737717Z"
    }
   },
   "id": "9c8778c5a0681c12",
   "execution_count": 151
  },
  {
   "cell_type": "markdown",
   "source": [
    "### 데이터셋 분리"
   ],
   "metadata": {
    "collapsed": false
   },
   "id": "9a23ef7bc3f9b26a"
  },
  {
   "cell_type": "code",
   "outputs": [
    {
     "data": {
      "text/plain": "MEDV       1.000000\nLSTAT      0.679860\nRM         0.678150\nAGE        0.440684\nNOX        0.418711\nINDUS      0.403472\nTAX        0.369924\nPTRATIO    0.330153\nCRIM       0.319912\nDIS        0.221995\nRAD        0.190236\nZN         0.153678\nB          0.100440\nCHAS            NaN\nName: MEDV, dtype: float64"
     },
     "execution_count": 152,
     "metadata": {},
     "output_type": "execute_result"
    }
   ],
   "source": [
    "data.corr()['MEDV'].abs().sort_values(ascending=False)\n",
    "\n",
    "#집세와 가장 연관있는 요소는 'LSTAT'와 'RM'이다."
   ],
   "metadata": {
    "collapsed": false,
    "ExecuteTime": {
     "end_time": "2024-03-06T00:40:47.761756Z",
     "start_time": "2024-03-06T00:40:47.754997Z"
    }
   },
   "id": "b0b759b42e7c6789",
   "execution_count": 152
  },
  {
   "cell_type": "code",
   "outputs": [
    {
     "data": {
      "text/plain": "      RM  LSTAT  MEDV\n0  6.575   4.98  24.0\n1  6.421   9.14  21.6\n2  7.185   4.03  34.7\n3  6.998   2.94  33.4\n5  6.430   5.21  28.7",
      "text/html": "<div>\n<style scoped>\n    .dataframe tbody tr th:only-of-type {\n        vertical-align: middle;\n    }\n\n    .dataframe tbody tr th {\n        vertical-align: top;\n    }\n\n    .dataframe thead th {\n        text-align: right;\n    }\n</style>\n<table border=\"1\" class=\"dataframe\">\n  <thead>\n    <tr style=\"text-align: right;\">\n      <th></th>\n      <th>RM</th>\n      <th>LSTAT</th>\n      <th>MEDV</th>\n    </tr>\n  </thead>\n  <tbody>\n    <tr>\n      <th>0</th>\n      <td>6.575</td>\n      <td>4.98</td>\n      <td>24.0</td>\n    </tr>\n    <tr>\n      <th>1</th>\n      <td>6.421</td>\n      <td>9.14</td>\n      <td>21.6</td>\n    </tr>\n    <tr>\n      <th>2</th>\n      <td>7.185</td>\n      <td>4.03</td>\n      <td>34.7</td>\n    </tr>\n    <tr>\n      <th>3</th>\n      <td>6.998</td>\n      <td>2.94</td>\n      <td>33.4</td>\n    </tr>\n    <tr>\n      <th>5</th>\n      <td>6.430</td>\n      <td>5.21</td>\n      <td>28.7</td>\n    </tr>\n  </tbody>\n</table>\n</div>"
     },
     "execution_count": 153,
     "metadata": {},
     "output_type": "execute_result"
    }
   ],
   "source": [
    "use_data = data[['RM','LSTAT','MEDV']]\n",
    "use_data.head()"
   ],
   "metadata": {
    "collapsed": false,
    "ExecuteTime": {
     "end_time": "2024-03-06T00:40:47.772523Z",
     "start_time": "2024-03-06T00:40:47.763034Z"
    }
   },
   "id": "eed390e60544a64e",
   "execution_count": 153
  },
  {
   "cell_type": "code",
   "outputs": [
    {
     "data": {
      "text/plain": "<Figure size 640x480 with 2 Axes>",
      "image/png": "[encoded data removed]"
     },
     "metadata": {},
     "output_type": "display_data"
    }
   ],
   "source": [
    "#plt.figure(figsize = (6, 6))\n",
    "\n",
    "plt.subplot(1,2,1)\n",
    "plt.scatter(use_data['RM'], use_data['MEDV'])\n",
    "plt.xlabel('RM')\n",
    "plt.ylabel('MEDV')\n",
    "plt.title('RM & MEDV')\n",
    "\n",
    "plt.subplot(1,2,2)\n",
    "plt.scatter(use_data['LSTAT'], use_data['MEDV'])\n",
    "plt.xlabel('LSTAT')\n",
    "plt.ylabel('MEDV')\n",
    "plt.title('LSTAT & MEDV')\n",
    "\n",
    "plt.tight_layout()\n",
    "plt.show()"
   ],
   "metadata": {
    "collapsed": false,
    "ExecuteTime": {
     "end_time": "2024-03-06T00:40:48.097112Z",
     "start_time": "2024-03-06T00:40:47.773598Z"
    }
   },
   "id": "773233dc9f38a959",
   "execution_count": 154
  },
  {
   "cell_type": "code",
   "outputs": [],
   "source": [
    "# 스케일링 진행하자\n",
    "# 선형회귀 분석 라쓰고"
   ],
   "metadata": {
    "collapsed": false,
    "ExecuteTime": {
     "end_time": "2024-03-06T00:40:48.100389Z",
     "start_time": "2024-03-06T00:40:48.097112Z"
    }
   },
   "id": "6ec92caaa147b374",
   "execution_count": 155
  },
  {
   "cell_type": "code",
   "outputs": [],
   "source": [
    "figure = use_data[['RM','LSTAT']]\n",
    "target = use_data['MEDV']"
   ],
   "metadata": {
    "collapsed": false,
    "ExecuteTime": {
     "end_time": "2024-03-06T00:40:48.105080Z",
     "start_time": "2024-03-06T00:40:48.101514Z"
    }
   },
   "id": "3e84af71c73f7819",
   "execution_count": 156
  },
  {
   "cell_type": "code",
   "outputs": [],
   "source": [
    "from sklearn.model_selection import train_test_split\n",
    "\n",
    "X_train, X_test, y_train, y_test = train_test_split(figure, target, random_state=42)"
   ],
   "metadata": {
    "collapsed": false,
    "ExecuteTime": {
     "end_time": "2024-03-06T00:40:48.110543Z",
     "start_time": "2024-03-06T00:40:48.106225Z"
    }
   },
   "id": "37dbf0a75ed59ebd",
   "execution_count": 157
  },
  {
   "cell_type": "code",
   "outputs": [],
   "source": [
    "from sklearn.preprocessing import StandardScaler\n",
    "\n",
    "scaler = StandardScaler()\n",
    "scaler.fit(X_train)\n",
    "\n",
    "scaled_X_train = scaler.transform(X_train)\n",
    "scaled_X_test = scaler.transform(X_test)"
   ],
   "metadata": {
    "collapsed": false,
    "ExecuteTime": {
     "end_time": "2024-03-06T00:40:48.118433Z",
     "start_time": "2024-03-06T00:40:48.112744Z"
    }
   },
   "id": "666186e29fda43d6",
   "execution_count": 158
  },
  {
   "cell_type": "code",
   "outputs": [],
   "source": [
    "X_train = scaled_X_train\n",
    "X_test = scaled_X_test"
   ],
   "metadata": {
    "collapsed": false,
    "ExecuteTime": {
     "end_time": "2024-03-06T00:40:48.122662Z",
     "start_time": "2024-03-06T00:40:48.119594Z"
    }
   },
   "id": "99cebda7eccdcdd2",
   "execution_count": 159
  },
  {
   "cell_type": "markdown",
   "source": [
    "### 학습 > 예측 > 성능평가"
   ],
   "metadata": {
    "collapsed": false
   },
   "id": "a6e56fb5fdab9177"
  },
  {
   "cell_type": "code",
   "outputs": [
    {
     "data": {
      "text/plain": "LinearRegression()",
      "text/html": "<style>#sk-container-id-6 {color: black;}#sk-container-id-6 pre{padding: 0;}#sk-container-id-6 div.sk-toggleable {background-color: white;}#sk-container-id-6 label.sk-toggleable__label {cursor: pointer;display: block;width: 100%;margin-bottom: 0;padding: 0.3em;box-sizing: border-box;text-align: center;}#sk-container-id-6 label.sk-toggleable__label-arrow:before {content: \"▸\";float: left;margin-right: 0.25em;color: #696969;}#sk-container-id-6 label.sk-toggleable__label-arrow:hover:before {color: black;}#sk-container-id-6 div.sk-estimator:hover label.sk-toggleable__label-arrow:before {color: black;}#sk-container-id-6 div.sk-toggleable__content {max-height: 0;max-width: 0;overflow: hidden;text-align: left;background-color: #f0f8ff;}#sk-container-id-6 div.sk-toggleable__content pre {margin: 0.2em;color: black;border-radius: 0.25em;background-color: #f0f8ff;}#sk-container-id-6 input.sk-toggleable__control:checked~div.sk-toggleable__content {max-height: 200px;max-width: 100%;overflow: auto;}#sk-container-id-6 input.sk-toggleable__control:checked~label.sk-toggleable__label-arrow:before {content: \"▾\";}#sk-container-id-6 div.sk-estimator input.sk-toggleable__control:checked~label.sk-toggleable__label {background-color: #d4ebff;}#sk-container-id-6 div.sk-label input.sk-toggleable__control:checked~label.sk-toggleable__label {background-color: #d4ebff;}#sk-container-id-6 input.sk-hidden--visually {border: 0;clip: rect(1px 1px 1px 1px);clip: rect(1px, 1px, 1px, 1px);height: 1px;margin: -1px;overflow: hidden;padding: 0;position: absolute;width: 1px;}#sk-container-id-6 div.sk-estimator {font-family: monospace;background-color: #f0f8ff;border: 1px dotted black;border-radius: 0.25em;box-sizing: border-box;margin-bottom: 0.5em;}#sk-container-id-6 div.sk-estimator:hover {background-color: #d4ebff;}#sk-container-id-6 div.sk-parallel-item::after {content: \"\";width: 100%;border-bottom: 1px solid gray;flex-grow: 1;}#sk-container-id-6 div.sk-label:hover label.sk-toggleable__label {background-color: #d4ebff;}#sk-container-id-6 div.sk-serial::before {content: \"\";position: absolute;border-left: 1px solid gray;box-sizing: border-box;top: 0;bottom: 0;left: 50%;z-index: 0;}#sk-container-id-6 div.sk-serial {display: flex;flex-direction: column;align-items: center;background-color: white;padding-right: 0.2em;padding-left: 0.2em;position: relative;}#sk-container-id-6 div.sk-item {position: relative;z-index: 1;}#sk-container-id-6 div.sk-parallel {display: flex;align-items: stretch;justify-content: center;background-color: white;position: relative;}#sk-container-id-6 div.sk-item::before, #sk-container-id-6 div.sk-parallel-item::before {content: \"\";position: absolute;border-left: 1px solid gray;box-sizing: border-box;top: 0;bottom: 0;left: 50%;z-index: -1;}#sk-container-id-6 div.sk-parallel-item {display: flex;flex-direction: column;z-index: 1;position: relative;background-color: white;}#sk-container-id-6 div.sk-parallel-item:first-child::after {align-self: flex-end;width: 50%;}#sk-container-id-6 div.sk-parallel-item:last-child::after {align-self: flex-start;width: 50%;}#sk-container-id-6 div.sk-parallel-item:only-child::after {width: 0;}#sk-container-id-6 div.sk-dashed-wrapped {border: 1px dashed gray;margin: 0 0.4em 0.5em 0.4em;box-sizing: border-box;padding-bottom: 0.4em;background-color: white;}#sk-container-id-6 div.sk-label label {font-family: monospace;font-weight: bold;display: inline-block;line-height: 1.2em;}#sk-container-id-6 div.sk-label-container {text-align: center;}#sk-container-id-6 div.sk-container {/* jupyter's `normalize.less` sets `[hidden] { display: none; }` but bootstrap.min.css set `[hidden] { display: none !important; }` so we also need the `!important` here to be able to override the default hidden behavior on the sphinx rendered scikit-learn.org. See: https://github.com/scikit-learn/scikit-learn/issues/21755 */display: inline-block !important;position: relative;}#sk-container-id-6 div.sk-text-repr-fallback {display: none;}</style><div id=\"sk-container-id-6\" class=\"sk-top-container\"><div class=\"sk-text-repr-fallback\"><pre>LinearRegression()</pre><b>In a Jupyter environment, please rerun this cell to show the HTML representation or trust the notebook. <br />On GitHub, the HTML representation is unable to render, please try loading this page with nbviewer.org.</b></div><div class=\"sk-container\" hidden><div class=\"sk-item\"><div class=\"sk-estimator sk-toggleable\"><input class=\"sk-toggleable__control sk-hidden--visually\" id=\"sk-estimator-id-6\" type=\"checkbox\" checked><label for=\"sk-estimator-id-6\" class=\"sk-toggleable__label sk-toggleable__label-arrow\">LinearRegression</label><div class=\"sk-toggleable__content\"><pre>LinearRegression()</pre></div></div></div></div></div>"
     },
     "execution_count": 160,
     "metadata": {},
     "output_type": "execute_result"
    }
   ],
   "source": [
    "from sklearn.linear_model import LinearRegression\n",
    "\n",
    "model = LinearRegression()\n",
    "model.fit(X_train, y_train)"
   ],
   "metadata": {
    "collapsed": false,
    "ExecuteTime": {
     "end_time": "2024-03-06T00:40:48.129338Z",
     "start_time": "2024-03-06T00:40:48.123744Z"
    }
   },
   "id": "6c4d329a77983e63",
   "execution_count": 160
  },
  {
   "cell_type": "code",
   "outputs": [
    {
     "name": "stdout",
     "output_type": "stream",
     "text": [
      "0.5605604802794295 0.5399605117129869\n"
     ]
    }
   ],
   "source": [
    "train_score = model.score(X_train, y_train)\n",
    "test_score = model.score(X_test, y_test)\n",
    "\n",
    "print(train_score, test_score)\n",
    "\n",
    "#음 ... 0.03 의 점수 차이가 나온다. 조금 아쉽지만 그대로 진행해보겠다."
   ],
   "metadata": {
    "collapsed": false,
    "ExecuteTime": {
     "end_time": "2024-03-06T00:40:48.134546Z",
     "start_time": "2024-03-06T00:40:48.129338Z"
    }
   },
   "id": "4ee0aa0777b87d94",
   "execution_count": 161
  },
  {
   "cell_type": "code",
   "outputs": [],
   "source": [
    "y_pred = model.predict(X_test)"
   ],
   "metadata": {
    "collapsed": false,
    "ExecuteTime": {
     "end_time": "2024-03-06T00:40:48.138714Z",
     "start_time": "2024-03-06T00:40:48.135625Z"
    }
   },
   "id": "e7e10c8a54da8021",
   "execution_count": 162
  },
  {
   "cell_type": "code",
   "outputs": [
    {
     "name": "stdout",
     "output_type": "stream",
     "text": [
      "- R2 score: 0.5399605117129869\n",
      "- MSE :10.65004036495225\n",
      "- MAE :2.4038518969287415\n"
     ]
    }
   ],
   "source": [
    "from sklearn.metrics import mean_squared_error, r2_score, mean_absolute_error\n",
    "\n",
    "r2 = r2_score(y_test, y_pred)\n",
    "mse = mean_squared_error(y_test, y_pred)\n",
    "mae = mean_absolute_error(y_test, y_pred)\n",
    "\n",
    "print(f\"- R2 score: {r2}\")\n",
    "print(f\"- MSE :{mse}\")\n",
    "print(f\"- MAE :{mae}\")\n",
    "\n",
    "# 어떠한 규제도 설정하지 않은 채로 했을 떄\n",
    "# 결과를 보니 r2 값이 0.53이다. 절반.. 흠 좀 더 올려보도록 하자"
   ],
   "metadata": {
    "collapsed": false,
    "ExecuteTime": {
     "end_time": "2024-03-06T00:40:48.144894Z",
     "start_time": "2024-03-06T00:40:48.139788Z"
    }
   },
   "id": "d201585ee2a67884",
   "execution_count": 163
  },
  {
   "cell_type": "markdown",
   "source": [
    "##### 어떠한 규제도 설정하지 않은 채로 했을 떄\n",
    "- 결과를 보니 r2 값이 0.53이다. 절반.. 흠 좀 더 올려보도록 하자\n",
    "- R2 score: 0.5399605117129869\n",
    "- MSE :10.65004036495225\n",
    "- MAE :2.4038518969287415\n",
    "\n",
    "##### 제거했던 이상치를 다시 복원시키고 돌려봤을 때\n",
    "- r2 값은 0.61로 올라왔지만 MSE와 MAE는 오히려 증가했다\n",
    "- R2 score: 0.6127549875719406\n",
    "- MSE :36.38571758575449\n",
    "- MAE :3.896355607741455\n",
    "- score값도 상당히 차이나서 이상치 제거는 그대로 제거 둔 상태로 해보았다."
   ],
   "metadata": {
    "collapsed": false
   },
   "id": "1a036d0a4f4641ea"
  },
  {
   "cell_type": "code",
   "outputs": [],
   "source": [],
   "metadata": {
    "collapsed": false,
    "ExecuteTime": {
     "end_time": "2024-03-06T00:40:48.147859Z",
     "start_time": "2024-03-06T00:40:48.145955Z"
    }
   },
   "id": "f65f67a2d295d6ba",
   "execution_count": 163
  }
 ],
 "metadata": {
  "kernelspec": {
   "display_name": "Python 3",
   "language": "python",
   "name": "python3"
  },
  "language_info": {
   "codemirror_mode": {
    "name": "ipython",
    "version": 2
   },
   "file_extension": ".py",
   "mimetype": "text/x-python",
   "name": "python",
   "nbconvert_exporter": "python",
   "pygments_lexer": "ipython2",
   "version": "2.7.6"
  }
 },
 "nbformat": 4,
 "nbformat_minor": 5
}
