{
 "cells": [
  {
   "cell_type": "markdown",
   "source": [
    "### 의사결정 나무 (DT)\n",
    "- IF - ElSE 방식의 질문에 대한 답변으로 문제를 해결하는 알고리즘\n",
    "- 피처(특성) 중에서 선택한 기준으로 데이터 분할\n",
    "    * 엔트로피 (불순정도) => 낮아지는 방향 \n",
    "    * 정보이득 : 1 - 엔트로피 => 높아지는 방향\n",
    "    * 지니계수 : 불평등 수치값 => 낮아지는 방향\n",
    "- 단점 : 과대적합이 될 가능성 높음! 성능이 좋지 않음\n",
    "- 장점 : 전처리 영향을 받지 않음 / 직관성이 높음 / 피처들 중 주요 피처 확인 가능\n",
    "- 주의\n",
    "    * 여기서의 주요 피처는 데이터 분할을 위한 주요 피처\n",
    "    * 100% 데이터의 주요 피처가 아닐 수도 있음\n",
    "      => 다른 검사 (상관계수, 시각화 등등)와 함꼐 평가"
   ],
   "metadata": {
    "collapsed": false
   },
   "id": "8f07f2efc43430c8"
  },
  {
   "cell_type": "markdown",
   "source": [
    "[1] 모듈 로딩 및 데이터 준비"
   ],
   "metadata": {
    "collapsed": false
   },
   "id": "9f1bbad48ea134d7"
  },
  {
   "cell_type": "code",
   "outputs": [],
   "source": [
    "# 모듈 로딩\n",
    "import pandas as pd\n",
    "import numpy as np\n",
    "import matplotlib.pyplot as plt"
   ],
   "metadata": {
    "collapsed": false,
    "ExecuteTime": {
     "end_time": "2024-03-10T01:09:02.857634Z",
     "start_time": "2024-03-10T01:09:02.841486Z"
    }
   },
   "id": "acf98943728c7eb9",
   "execution_count": 27
  },
  {
   "cell_type": "code",
   "outputs": [
    {
     "data": {
      "text/plain": "     0    1    2    3            4\n0  5.1  3.5  1.4  0.2  Iris-setosa\n1  4.9  3.0  1.4  0.2  Iris-setosa\n2  4.7  3.2  1.3  0.2  Iris-setosa\n3  4.6  3.1  1.5  0.2  Iris-setosa\n4  5.0  3.6  1.4  0.2  Iris-setosa",
      "text/html": "<div>\n<style scoped>\n    .dataframe tbody tr th:only-of-type {\n        vertical-align: middle;\n    }\n\n    .dataframe tbody tr th {\n        vertical-align: top;\n    }\n\n    .dataframe thead th {\n        text-align: right;\n    }\n</style>\n<table border=\"1\" class=\"dataframe\">\n  <thead>\n    <tr style=\"text-align: right;\">\n      <th></th>\n      <th>0</th>\n      <th>1</th>\n      <th>2</th>\n      <th>3</th>\n      <th>4</th>\n    </tr>\n  </thead>\n  <tbody>\n    <tr>\n      <th>0</th>\n      <td>5.1</td>\n      <td>3.5</td>\n      <td>1.4</td>\n      <td>0.2</td>\n      <td>Iris-setosa</td>\n    </tr>\n    <tr>\n      <th>1</th>\n      <td>4.9</td>\n      <td>3.0</td>\n      <td>1.4</td>\n      <td>0.2</td>\n      <td>Iris-setosa</td>\n    </tr>\n    <tr>\n      <th>2</th>\n      <td>4.7</td>\n      <td>3.2</td>\n      <td>1.3</td>\n      <td>0.2</td>\n      <td>Iris-setosa</td>\n    </tr>\n    <tr>\n      <th>3</th>\n      <td>4.6</td>\n      <td>3.1</td>\n      <td>1.5</td>\n      <td>0.2</td>\n      <td>Iris-setosa</td>\n    </tr>\n    <tr>\n      <th>4</th>\n      <td>5.0</td>\n      <td>3.6</td>\n      <td>1.4</td>\n      <td>0.2</td>\n      <td>Iris-setosa</td>\n    </tr>\n  </tbody>\n</table>\n</div>"
     },
     "execution_count": 28,
     "metadata": {},
     "output_type": "execute_result"
    }
   ],
   "source": [
    "irisDF = pd.read_csv('../data/iris.csv', header = None)\n",
    "irisDF.head()"
   ],
   "metadata": {
    "collapsed": false,
    "ExecuteTime": {
     "end_time": "2024-03-10T01:09:02.997502Z",
     "start_time": "2024-03-10T01:09:02.971966Z"
    }
   },
   "id": "7180cdc209374685",
   "execution_count": 28
  },
  {
   "cell_type": "code",
   "outputs": [],
   "source": [
    "irisDF.columns = ['sepal_length','sepal_width', 'petal_length','sepal_width', 'variety']"
   ],
   "metadata": {
    "collapsed": false,
    "ExecuteTime": {
     "end_time": "2024-03-10T01:09:03.013232Z",
     "start_time": "2024-03-10T01:09:03.000572Z"
    }
   },
   "id": "24a2447e947cc770",
   "execution_count": 29
  },
  {
   "cell_type": "markdown",
   "source": [
    "[2] 학습용 데이터셋 준비 <hr>"
   ],
   "metadata": {
    "collapsed": false
   },
   "id": "4421187c66c62a46"
  },
  {
   "cell_type": "markdown",
   "source": [
    "[2-1] 피처와 타겟 분리"
   ],
   "metadata": {
    "collapsed": false
   },
   "id": "76bbeb8f1bacf93b"
  },
  {
   "cell_type": "code",
   "outputs": [],
   "source": [
    "feature = irisDF[irisDF.columns[:3]]\n",
    "target = irisDF[irisDF.columns[4]]"
   ],
   "metadata": {
    "collapsed": false,
    "ExecuteTime": {
     "end_time": "2024-03-10T01:09:03.028402Z",
     "start_time": "2024-03-10T01:09:03.020572Z"
    }
   },
   "id": "3dadb8ea2c5f9db7",
   "execution_count": 30
  },
  {
   "cell_type": "markdown",
   "source": [
    "[2-2] 훈련용과 테스트용 데이터셋 분리"
   ],
   "metadata": {
    "collapsed": false
   },
   "id": "850c7ab4cc2decb2"
  },
  {
   "cell_type": "code",
   "outputs": [],
   "source": [
    "from sklearn.model_selection import train_test_split"
   ],
   "metadata": {
    "collapsed": false,
    "ExecuteTime": {
     "end_time": "2024-03-10T01:09:03.058611Z",
     "start_time": "2024-03-10T01:09:03.044536Z"
    }
   },
   "id": "67c84a32f3bf67db",
   "execution_count": 31
  },
  {
   "cell_type": "code",
   "outputs": [],
   "source": [
    "X_train, X_test, y_train, y_test = train_test_split(feature, target, stratify = target, test_size = 0.2)"
   ],
   "metadata": {
    "collapsed": false,
    "ExecuteTime": {
     "end_time": "2024-03-10T01:09:03.136302Z",
     "start_time": "2024-03-10T01:09:03.123567Z"
    }
   },
   "id": "c33dfe9eaed29da5",
   "execution_count": 32
  },
  {
   "cell_type": "code",
   "outputs": [
    {
     "name": "stdout",
     "output_type": "stream",
     "text": [
      "(120, 4) (30, 4) (120,) (30,)\n"
     ]
    }
   ],
   "source": [
    "print(X_train.shape, X_test.shape, y_train.shape, y_test.shape)"
   ],
   "metadata": {
    "collapsed": false,
    "ExecuteTime": {
     "end_time": "2024-03-10T01:09:03.167374Z",
     "start_time": "2024-03-10T01:09:03.156100Z"
    }
   },
   "id": "8b5666ef11a9e0ea",
   "execution_count": 33
  },
  {
   "cell_type": "markdown",
   "source": [
    "[3] 기계학습 진행 <hr>\n",
    "- 타겟 데이터 확인 결과 : 3개의 분류\n",
    "- 학습 유형 : 지도학습 + 분류\n",
    "    * 분류 알고리즘 => KNN, LogisticRegression, SVM - SVC, DecisionTree"
   ],
   "metadata": {
    "collapsed": false
   },
   "id": "c6aa204cac0fb7f6"
  },
  {
   "cell_type": "markdown",
   "source": [
    "[3-1] 의사결정 알고리즘으로 분류"
   ],
   "metadata": {
    "collapsed": false
   },
   "id": "f16616c2162eab83"
  },
  {
   "cell_type": "code",
   "outputs": [],
   "source": [
    "from sklearn.tree import DecisionTreeClassifier"
   ],
   "metadata": {
    "collapsed": false,
    "ExecuteTime": {
     "end_time": "2024-03-10T01:09:03.198990Z",
     "start_time": "2024-03-10T01:09:03.180881Z"
    }
   },
   "id": "548bf72eeeafc1c0",
   "execution_count": 34
  },
  {
   "cell_type": "code",
   "outputs": [
    {
     "data": {
      "text/plain": "DecisionTreeClassifier()",
      "text/html": "<style>#sk-container-id-3 {color: black;}#sk-container-id-3 pre{padding: 0;}#sk-container-id-3 div.sk-toggleable {background-color: white;}#sk-container-id-3 label.sk-toggleable__label {cursor: pointer;display: block;width: 100%;margin-bottom: 0;padding: 0.3em;box-sizing: border-box;text-align: center;}#sk-container-id-3 label.sk-toggleable__label-arrow:before {content: \"▸\";float: left;margin-right: 0.25em;color: #696969;}#sk-container-id-3 label.sk-toggleable__label-arrow:hover:before {color: black;}#sk-container-id-3 div.sk-estimator:hover label.sk-toggleable__label-arrow:before {color: black;}#sk-container-id-3 div.sk-toggleable__content {max-height: 0;max-width: 0;overflow: hidden;text-align: left;background-color: #f0f8ff;}#sk-container-id-3 div.sk-toggleable__content pre {margin: 0.2em;color: black;border-radius: 0.25em;background-color: #f0f8ff;}#sk-container-id-3 input.sk-toggleable__control:checked~div.sk-toggleable__content {max-height: 200px;max-width: 100%;overflow: auto;}#sk-container-id-3 input.sk-toggleable__control:checked~label.sk-toggleable__label-arrow:before {content: \"▾\";}#sk-container-id-3 div.sk-estimator input.sk-toggleable__control:checked~label.sk-toggleable__label {background-color: #d4ebff;}#sk-container-id-3 div.sk-label input.sk-toggleable__control:checked~label.sk-toggleable__label {background-color: #d4ebff;}#sk-container-id-3 input.sk-hidden--visually {border: 0;clip: rect(1px 1px 1px 1px);clip: rect(1px, 1px, 1px, 1px);height: 1px;margin: -1px;overflow: hidden;padding: 0;position: absolute;width: 1px;}#sk-container-id-3 div.sk-estimator {font-family: monospace;background-color: #f0f8ff;border: 1px dotted black;border-radius: 0.25em;box-sizing: border-box;margin-bottom: 0.5em;}#sk-container-id-3 div.sk-estimator:hover {background-color: #d4ebff;}#sk-container-id-3 div.sk-parallel-item::after {content: \"\";width: 100%;border-bottom: 1px solid gray;flex-grow: 1;}#sk-container-id-3 div.sk-label:hover label.sk-toggleable__label {background-color: #d4ebff;}#sk-container-id-3 div.sk-serial::before {content: \"\";position: absolute;border-left: 1px solid gray;box-sizing: border-box;top: 0;bottom: 0;left: 50%;z-index: 0;}#sk-container-id-3 div.sk-serial {display: flex;flex-direction: column;align-items: center;background-color: white;padding-right: 0.2em;padding-left: 0.2em;position: relative;}#sk-container-id-3 div.sk-item {position: relative;z-index: 1;}#sk-container-id-3 div.sk-parallel {display: flex;align-items: stretch;justify-content: center;background-color: white;position: relative;}#sk-container-id-3 div.sk-item::before, #sk-container-id-3 div.sk-parallel-item::before {content: \"\";position: absolute;border-left: 1px solid gray;box-sizing: border-box;top: 0;bottom: 0;left: 50%;z-index: -1;}#sk-container-id-3 div.sk-parallel-item {display: flex;flex-direction: column;z-index: 1;position: relative;background-color: white;}#sk-container-id-3 div.sk-parallel-item:first-child::after {align-self: flex-end;width: 50%;}#sk-container-id-3 div.sk-parallel-item:last-child::after {align-self: flex-start;width: 50%;}#sk-container-id-3 div.sk-parallel-item:only-child::after {width: 0;}#sk-container-id-3 div.sk-dashed-wrapped {border: 1px dashed gray;margin: 0 0.4em 0.5em 0.4em;box-sizing: border-box;padding-bottom: 0.4em;background-color: white;}#sk-container-id-3 div.sk-label label {font-family: monospace;font-weight: bold;display: inline-block;line-height: 1.2em;}#sk-container-id-3 div.sk-label-container {text-align: center;}#sk-container-id-3 div.sk-container {/* jupyter's `normalize.less` sets `[hidden] { display: none; }` but bootstrap.min.css set `[hidden] { display: none !important; }` so we also need the `!important` here to be able to override the default hidden behavior on the sphinx rendered scikit-learn.org. See: https://github.com/scikit-learn/scikit-learn/issues/21755 */display: inline-block !important;position: relative;}#sk-container-id-3 div.sk-text-repr-fallback {display: none;}</style><div id=\"sk-container-id-3\" class=\"sk-top-container\"><div class=\"sk-text-repr-fallback\"><pre>DecisionTreeClassifier()</pre><b>In a Jupyter environment, please rerun this cell to show the HTML representation or trust the notebook. <br />On GitHub, the HTML representation is unable to render, please try loading this page with nbviewer.org.</b></div><div class=\"sk-container\" hidden><div class=\"sk-item\"><div class=\"sk-estimator sk-toggleable\"><input class=\"sk-toggleable__control sk-hidden--visually\" id=\"sk-estimator-id-5\" type=\"checkbox\" checked><label for=\"sk-estimator-id-5\" class=\"sk-toggleable__label sk-toggleable__label-arrow\">DecisionTreeClassifier</label><div class=\"sk-toggleable__content\"><pre>DecisionTreeClassifier()</pre></div></div></div></div></div>"
     },
     "execution_count": 35,
     "metadata": {},
     "output_type": "execute_result"
    }
   ],
   "source": [
    "# 인스턴스 생성\n",
    "model = DecisionTreeClassifier()\n",
    "model.fit(X_train, y_train)"
   ],
   "metadata": {
    "collapsed": false,
    "ExecuteTime": {
     "end_time": "2024-03-10T01:09:03.214236Z",
     "start_time": "2024-03-10T01:09:03.201173Z"
    }
   },
   "id": "153981633845f472",
   "execution_count": 35
  },
  {
   "cell_type": "code",
   "outputs": [],
   "source": [
    "# 생성된 모델 구조 시각화\n",
    "from sklearn.tree import export_graphviz"
   ],
   "metadata": {
    "collapsed": false,
    "ExecuteTime": {
     "end_time": "2024-03-10T01:09:03.230476Z",
     "start_time": "2024-03-10T01:09:03.216337Z"
    }
   },
   "id": "e928596c01b84fe3",
   "execution_count": 36
  },
  {
   "cell_type": "code",
   "outputs": [
    {
     "data": {
      "text/plain": "array(['Iris-setosa', 'Iris-versicolor', 'Iris-virginica'], dtype=object)"
     },
     "execution_count": 37,
     "metadata": {},
     "output_type": "execute_result"
    }
   ],
   "source": [
    "model.classes_"
   ],
   "metadata": {
    "collapsed": false,
    "ExecuteTime": {
     "end_time": "2024-03-10T01:09:03.261798Z",
     "start_time": "2024-03-10T01:09:03.244403Z"
    }
   },
   "id": "12079d3394706fc2",
   "execution_count": 37
  },
  {
   "cell_type": "code",
   "outputs": [
    {
     "name": "stdout",
     "output_type": "stream",
     "text": [
      "None\n",
      "None\n"
     ]
    }
   ],
   "source": [
    "print(export_graphviz(model, 'iris_dt_model.txt'))\n",
    "print(export_graphviz(model, 'iris_dt_model.dot'))\n",
    "\n",
    "# 각 gini 값들이 보인다."
   ],
   "metadata": {
    "collapsed": false,
    "ExecuteTime": {
     "end_time": "2024-03-10T01:09:03.277001Z",
     "start_time": "2024-03-10T01:09:03.268195Z"
    }
   },
   "id": "63eee4f73ecda782",
   "execution_count": 38
  },
  {
   "cell_type": "code",
   "outputs": [
    {
     "name": "stdout",
     "output_type": "stream",
     "text": [
      "None\n"
     ]
    }
   ],
   "source": [
    "# DT 모델의 시각화 정보를 dot언어로 작성해서 파일로 저장\n",
    "print(export_graphviz(model, 'iris_dt_model.dot', feature_names=model.feature_names_in_, class_names = model.classes_, rounded = True, filled = True))"
   ],
   "metadata": {
    "collapsed": false,
    "ExecuteTime": {
     "end_time": "2024-03-10T01:09:03.340170Z",
     "start_time": "2024-03-10T01:09:03.330303Z"
    }
   },
   "id": "b2c9e5f6dfdf9f69",
   "execution_count": 39
  },
  {
   "cell_type": "code",
   "outputs": [
    {
     "data": {
      "image/svg+xml": "<?xml version=\"1.0\" encoding=\"UTF-8\" standalone=\"no\"?>\n<!DOCTYPE svg PUBLIC \"-//W3C//DTD SVG 1.1//EN\"\n \"http://www.w3.org/Graphics/SVG/1.1/DTD/svg11.dtd\">\n<!-- Generated by graphviz version 2.50.0 (0)\n -->\n<!-- Title: Tree Pages: 1 -->\n<svg width=\"629pt\" height=\"552pt\"\n viewBox=\"0.00 0.00 629.00 552.00\" xmlns=\"http://www.w3.org/2000/svg\" xmlns:xlink=\"http://www.w3.org/1999/xlink\">\n<g id=\"graph0\" class=\"graph\" transform=\"scale(1 1) rotate(0) translate(4 548)\">\n<title>Tree</title>\n<polygon fill=\"white\" stroke=\"transparent\" points=\"-4,4 -4,-548 625,-548 625,4 -4,4\"/>\n<!-- 0 -->\n<g id=\"node1\" class=\"node\">\n<title>0</title>\n<path fill=\"#ffffff\" stroke=\"black\" d=\"M291,-544C291,-544 182,-544 182,-544 176,-544 170,-538 170,-532 170,-532 170,-473 170,-473 170,-467 176,-461 182,-461 182,-461 291,-461 291,-461 297,-461 303,-467 303,-473 303,-473 303,-532 303,-532 303,-538 297,-544 291,-544\"/>\n<text text-anchor=\"middle\" x=\"236.5\" y=\"-528.8\" font-family=\"Helvetica,sans-Serif\" font-size=\"14.00\">petal_length &lt;= 2.6</text>\n<text text-anchor=\"middle\" x=\"236.5\" y=\"-513.8\" font-family=\"Helvetica,sans-Serif\" font-size=\"14.00\">gini = 0.667</text>\n<text text-anchor=\"middle\" x=\"236.5\" y=\"-498.8\" font-family=\"Helvetica,sans-Serif\" font-size=\"14.00\">samples = 120</text>\n<text text-anchor=\"middle\" x=\"236.5\" y=\"-483.8\" font-family=\"Helvetica,sans-Serif\" font-size=\"14.00\">value = [40, 40, 40]</text>\n<text text-anchor=\"middle\" x=\"236.5\" y=\"-468.8\" font-family=\"Helvetica,sans-Serif\" font-size=\"14.00\">class = Iris&#45;setosa</text>\n</g>\n<!-- 1 -->\n<g id=\"node2\" class=\"node\">\n<title>1</title>\n<path fill=\"#e58139\" stroke=\"black\" d=\"M211,-417.5C211,-417.5 110,-417.5 110,-417.5 104,-417.5 98,-411.5 98,-405.5 98,-405.5 98,-361.5 98,-361.5 98,-355.5 104,-349.5 110,-349.5 110,-349.5 211,-349.5 211,-349.5 217,-349.5 223,-355.5 223,-361.5 223,-361.5 223,-405.5 223,-405.5 223,-411.5 217,-417.5 211,-417.5\"/>\n<text text-anchor=\"middle\" x=\"160.5\" y=\"-402.3\" font-family=\"Helvetica,sans-Serif\" font-size=\"14.00\">gini = 0.0</text>\n<text text-anchor=\"middle\" x=\"160.5\" y=\"-387.3\" font-family=\"Helvetica,sans-Serif\" font-size=\"14.00\">samples = 40</text>\n<text text-anchor=\"middle\" x=\"160.5\" y=\"-372.3\" font-family=\"Helvetica,sans-Serif\" font-size=\"14.00\">value = [40, 0, 0]</text>\n<text text-anchor=\"middle\" x=\"160.5\" y=\"-357.3\" font-family=\"Helvetica,sans-Serif\" font-size=\"14.00\">class = Iris&#45;setosa</text>\n</g>\n<!-- 0&#45;&gt;1 -->\n<g id=\"edge1\" class=\"edge\">\n<title>0&#45;&gt;1</title>\n<path fill=\"none\" stroke=\"black\" d=\"M210.13,-460.91C202.82,-449.65 194.87,-437.42 187.53,-426.11\"/>\n<polygon fill=\"black\" stroke=\"black\" points=\"190.43,-424.15 182.04,-417.67 184.56,-427.96 190.43,-424.15\"/>\n<text text-anchor=\"middle\" x=\"176.85\" y=\"-438.42\" font-family=\"Helvetica,sans-Serif\" font-size=\"14.00\">True</text>\n</g>\n<!-- 2 -->\n<g id=\"node3\" class=\"node\">\n<title>2</title>\n<path fill=\"#ffffff\" stroke=\"black\" d=\"M372,-425C372,-425 253,-425 253,-425 247,-425 241,-419 241,-413 241,-413 241,-354 241,-354 241,-348 247,-342 253,-342 253,-342 372,-342 372,-342 378,-342 384,-348 384,-354 384,-354 384,-413 384,-413 384,-419 378,-425 372,-425\"/>\n<text text-anchor=\"middle\" x=\"312.5\" y=\"-409.8\" font-family=\"Helvetica,sans-Serif\" font-size=\"14.00\">sepal_width &lt;= 1.75</text>\n<text text-anchor=\"middle\" x=\"312.5\" y=\"-394.8\" font-family=\"Helvetica,sans-Serif\" font-size=\"14.00\">gini = 0.5</text>\n<text text-anchor=\"middle\" x=\"312.5\" y=\"-379.8\" font-family=\"Helvetica,sans-Serif\" font-size=\"14.00\">samples = 80</text>\n<text text-anchor=\"middle\" x=\"312.5\" y=\"-364.8\" font-family=\"Helvetica,sans-Serif\" font-size=\"14.00\">value = [0, 40, 40]</text>\n<text text-anchor=\"middle\" x=\"312.5\" y=\"-349.8\" font-family=\"Helvetica,sans-Serif\" font-size=\"14.00\">class = Iris&#45;versicolor</text>\n</g>\n<!-- 0&#45;&gt;2 -->\n<g id=\"edge2\" class=\"edge\">\n<title>0&#45;&gt;2</title>\n<path fill=\"none\" stroke=\"black\" d=\"M262.87,-460.91C268.59,-452.1 274.69,-442.7 280.6,-433.61\"/>\n<polygon fill=\"black\" stroke=\"black\" points=\"283.67,-435.31 286.18,-425.02 277.8,-431.5 283.67,-435.31\"/>\n<text text-anchor=\"middle\" x=\"291.37\" y=\"-445.78\" font-family=\"Helvetica,sans-Serif\" font-size=\"14.00\">False</text>\n</g>\n<!-- 3 -->\n<g id=\"node4\" class=\"node\">\n<title>3</title>\n<path fill=\"#43e687\" stroke=\"black\" d=\"M292,-306C292,-306 173,-306 173,-306 167,-306 161,-300 161,-294 161,-294 161,-235 161,-235 161,-229 167,-223 173,-223 173,-223 292,-223 292,-223 298,-223 304,-229 304,-235 304,-235 304,-294 304,-294 304,-300 298,-306 292,-306\"/>\n<text text-anchor=\"middle\" x=\"232.5\" y=\"-290.8\" font-family=\"Helvetica,sans-Serif\" font-size=\"14.00\">petal_length &lt;= 4.95</text>\n<text text-anchor=\"middle\" x=\"232.5\" y=\"-275.8\" font-family=\"Helvetica,sans-Serif\" font-size=\"14.00\">gini = 0.093</text>\n<text text-anchor=\"middle\" x=\"232.5\" y=\"-260.8\" font-family=\"Helvetica,sans-Serif\" font-size=\"14.00\">samples = 41</text>\n<text text-anchor=\"middle\" x=\"232.5\" y=\"-245.8\" font-family=\"Helvetica,sans-Serif\" font-size=\"14.00\">value = [0, 39, 2]</text>\n<text text-anchor=\"middle\" x=\"232.5\" y=\"-230.8\" font-family=\"Helvetica,sans-Serif\" font-size=\"14.00\">class = Iris&#45;versicolor</text>\n</g>\n<!-- 2&#45;&gt;3 -->\n<g id=\"edge3\" class=\"edge\">\n<title>2&#45;&gt;3</title>\n<path fill=\"none\" stroke=\"black\" d=\"M284.74,-341.91C278.66,-333.01 272.16,-323.51 265.89,-314.33\"/>\n<polygon fill=\"black\" stroke=\"black\" points=\"268.74,-312.3 260.21,-306.02 262.96,-316.25 268.74,-312.3\"/>\n</g>\n<!-- 8 -->\n<g id=\"node9\" class=\"node\">\n<title>8</title>\n<path fill=\"#843ee6\" stroke=\"black\" d=\"M451.5,-306C451.5,-306 335.5,-306 335.5,-306 329.5,-306 323.5,-300 323.5,-294 323.5,-294 323.5,-235 323.5,-235 323.5,-229 329.5,-223 335.5,-223 335.5,-223 451.5,-223 451.5,-223 457.5,-223 463.5,-229 463.5,-235 463.5,-235 463.5,-294 463.5,-294 463.5,-300 457.5,-306 451.5,-306\"/>\n<text text-anchor=\"middle\" x=\"393.5\" y=\"-290.8\" font-family=\"Helvetica,sans-Serif\" font-size=\"14.00\">petal_length &lt;= 4.85</text>\n<text text-anchor=\"middle\" x=\"393.5\" y=\"-275.8\" font-family=\"Helvetica,sans-Serif\" font-size=\"14.00\">gini = 0.05</text>\n<text text-anchor=\"middle\" x=\"393.5\" y=\"-260.8\" font-family=\"Helvetica,sans-Serif\" font-size=\"14.00\">samples = 39</text>\n<text text-anchor=\"middle\" x=\"393.5\" y=\"-245.8\" font-family=\"Helvetica,sans-Serif\" font-size=\"14.00\">value = [0, 1, 38]</text>\n<text text-anchor=\"middle\" x=\"393.5\" y=\"-230.8\" font-family=\"Helvetica,sans-Serif\" font-size=\"14.00\">class = Iris&#45;virginica</text>\n</g>\n<!-- 2&#45;&gt;8 -->\n<g id=\"edge8\" class=\"edge\">\n<title>2&#45;&gt;8</title>\n<path fill=\"none\" stroke=\"black\" d=\"M340.6,-341.91C346.76,-333.01 353.34,-323.51 359.69,-314.33\"/>\n<polygon fill=\"black\" stroke=\"black\" points=\"362.63,-316.24 365.45,-306.02 356.88,-312.25 362.63,-316.24\"/>\n</g>\n<!-- 4 -->\n<g id=\"node5\" class=\"node\">\n<title>4</title>\n<path fill=\"#39e581\" stroke=\"black\" d=\"M131,-179.5C131,-179.5 12,-179.5 12,-179.5 6,-179.5 0,-173.5 0,-167.5 0,-167.5 0,-123.5 0,-123.5 0,-117.5 6,-111.5 12,-111.5 12,-111.5 131,-111.5 131,-111.5 137,-111.5 143,-117.5 143,-123.5 143,-123.5 143,-167.5 143,-167.5 143,-173.5 137,-179.5 131,-179.5\"/>\n<text text-anchor=\"middle\" x=\"71.5\" y=\"-164.3\" font-family=\"Helvetica,sans-Serif\" font-size=\"14.00\">gini = 0.0</text>\n<text text-anchor=\"middle\" x=\"71.5\" y=\"-149.3\" font-family=\"Helvetica,sans-Serif\" font-size=\"14.00\">samples = 37</text>\n<text text-anchor=\"middle\" x=\"71.5\" y=\"-134.3\" font-family=\"Helvetica,sans-Serif\" font-size=\"14.00\">value = [0, 37, 0]</text>\n<text text-anchor=\"middle\" x=\"71.5\" y=\"-119.3\" font-family=\"Helvetica,sans-Serif\" font-size=\"14.00\">class = Iris&#45;versicolor</text>\n</g>\n<!-- 3&#45;&gt;4 -->\n<g id=\"edge4\" class=\"edge\">\n<title>3&#45;&gt;4</title>\n<path fill=\"none\" stroke=\"black\" d=\"M176.64,-222.91C160.09,-210.88 142,-197.73 125.57,-185.79\"/>\n<polygon fill=\"black\" stroke=\"black\" points=\"127.29,-182.71 117.14,-179.67 123.17,-188.38 127.29,-182.71\"/>\n</g>\n<!-- 5 -->\n<g id=\"node6\" class=\"node\">\n<title>5</title>\n<path fill=\"#ffffff\" stroke=\"black\" d=\"M292,-187C292,-187 173,-187 173,-187 167,-187 161,-181 161,-175 161,-175 161,-116 161,-116 161,-110 167,-104 173,-104 173,-104 292,-104 292,-104 298,-104 304,-110 304,-116 304,-116 304,-175 304,-175 304,-181 298,-187 292,-187\"/>\n<text text-anchor=\"middle\" x=\"232.5\" y=\"-171.8\" font-family=\"Helvetica,sans-Serif\" font-size=\"14.00\">sepal_width &lt;= 1.55</text>\n<text text-anchor=\"middle\" x=\"232.5\" y=\"-156.8\" font-family=\"Helvetica,sans-Serif\" font-size=\"14.00\">gini = 0.5</text>\n<text text-anchor=\"middle\" x=\"232.5\" y=\"-141.8\" font-family=\"Helvetica,sans-Serif\" font-size=\"14.00\">samples = 4</text>\n<text text-anchor=\"middle\" x=\"232.5\" y=\"-126.8\" font-family=\"Helvetica,sans-Serif\" font-size=\"14.00\">value = [0, 2, 2]</text>\n<text text-anchor=\"middle\" x=\"232.5\" y=\"-111.8\" font-family=\"Helvetica,sans-Serif\" font-size=\"14.00\">class = Iris&#45;versicolor</text>\n</g>\n<!-- 3&#45;&gt;5 -->\n<g id=\"edge5\" class=\"edge\">\n<title>3&#45;&gt;5</title>\n<path fill=\"none\" stroke=\"black\" d=\"M232.5,-222.91C232.5,-214.65 232.5,-205.86 232.5,-197.3\"/>\n<polygon fill=\"black\" stroke=\"black\" points=\"236,-197.02 232.5,-187.02 229,-197.02 236,-197.02\"/>\n</g>\n<!-- 6 -->\n<g id=\"node7\" class=\"node\">\n<title>6</title>\n<path fill=\"#8139e5\" stroke=\"black\" d=\"M132,-68C132,-68 21,-68 21,-68 15,-68 9,-62 9,-56 9,-56 9,-12 9,-12 9,-6 15,0 21,0 21,0 132,0 132,0 138,0 144,-6 144,-12 144,-12 144,-56 144,-56 144,-62 138,-68 132,-68\"/>\n<text text-anchor=\"middle\" x=\"76.5\" y=\"-52.8\" font-family=\"Helvetica,sans-Serif\" font-size=\"14.00\">gini = 0.0</text>\n<text text-anchor=\"middle\" x=\"76.5\" y=\"-37.8\" font-family=\"Helvetica,sans-Serif\" font-size=\"14.00\">samples = 2</text>\n<text text-anchor=\"middle\" x=\"76.5\" y=\"-22.8\" font-family=\"Helvetica,sans-Serif\" font-size=\"14.00\">value = [0, 0, 2]</text>\n<text text-anchor=\"middle\" x=\"76.5\" y=\"-7.8\" font-family=\"Helvetica,sans-Serif\" font-size=\"14.00\">class = Iris&#45;virginica</text>\n</g>\n<!-- 5&#45;&gt;6 -->\n<g id=\"edge6\" class=\"edge\">\n<title>5&#45;&gt;6</title>\n<path fill=\"none\" stroke=\"black\" d=\"M174.41,-103.73C160.64,-94.06 145.98,-83.77 132.31,-74.17\"/>\n<polygon fill=\"black\" stroke=\"black\" points=\"134.14,-71.18 123.94,-68.3 130.11,-76.91 134.14,-71.18\"/>\n</g>\n<!-- 7 -->\n<g id=\"node8\" class=\"node\">\n<title>7</title>\n<path fill=\"#39e581\" stroke=\"black\" d=\"M293,-68C293,-68 174,-68 174,-68 168,-68 162,-62 162,-56 162,-56 162,-12 162,-12 162,-6 168,0 174,0 174,0 293,0 293,0 299,0 305,-6 305,-12 305,-12 305,-56 305,-56 305,-62 299,-68 293,-68\"/>\n<text text-anchor=\"middle\" x=\"233.5\" y=\"-52.8\" font-family=\"Helvetica,sans-Serif\" font-size=\"14.00\">gini = 0.0</text>\n<text text-anchor=\"middle\" x=\"233.5\" y=\"-37.8\" font-family=\"Helvetica,sans-Serif\" font-size=\"14.00\">samples = 2</text>\n<text text-anchor=\"middle\" x=\"233.5\" y=\"-22.8\" font-family=\"Helvetica,sans-Serif\" font-size=\"14.00\">value = [0, 2, 0]</text>\n<text text-anchor=\"middle\" x=\"233.5\" y=\"-7.8\" font-family=\"Helvetica,sans-Serif\" font-size=\"14.00\">class = Iris&#45;versicolor</text>\n</g>\n<!-- 5&#45;&gt;7 -->\n<g id=\"edge7\" class=\"edge\">\n<title>5&#45;&gt;7</title>\n<path fill=\"none\" stroke=\"black\" d=\"M232.87,-103.73C232.95,-95.52 233.03,-86.86 233.1,-78.56\"/>\n<polygon fill=\"black\" stroke=\"black\" points=\"236.6,-78.33 233.2,-68.3 229.6,-78.27 236.6,-78.33\"/>\n</g>\n<!-- 9 -->\n<g id=\"node10\" class=\"node\">\n<title>9</title>\n<path fill=\"#ffffff\" stroke=\"black\" d=\"M453,-187C453,-187 334,-187 334,-187 328,-187 322,-181 322,-175 322,-175 322,-116 322,-116 322,-110 328,-104 334,-104 334,-104 453,-104 453,-104 459,-104 465,-110 465,-116 465,-116 465,-175 465,-175 465,-181 459,-187 453,-187\"/>\n<text text-anchor=\"middle\" x=\"393.5\" y=\"-171.8\" font-family=\"Helvetica,sans-Serif\" font-size=\"14.00\">sepal_width &lt;= 3.0</text>\n<text text-anchor=\"middle\" x=\"393.5\" y=\"-156.8\" font-family=\"Helvetica,sans-Serif\" font-size=\"14.00\">gini = 0.5</text>\n<text text-anchor=\"middle\" x=\"393.5\" y=\"-141.8\" font-family=\"Helvetica,sans-Serif\" font-size=\"14.00\">samples = 2</text>\n<text text-anchor=\"middle\" x=\"393.5\" y=\"-126.8\" font-family=\"Helvetica,sans-Serif\" font-size=\"14.00\">value = [0, 1, 1]</text>\n<text text-anchor=\"middle\" x=\"393.5\" y=\"-111.8\" font-family=\"Helvetica,sans-Serif\" font-size=\"14.00\">class = Iris&#45;versicolor</text>\n</g>\n<!-- 8&#45;&gt;9 -->\n<g id=\"edge9\" class=\"edge\">\n<title>8&#45;&gt;9</title>\n<path fill=\"none\" stroke=\"black\" d=\"M393.5,-222.91C393.5,-214.65 393.5,-205.86 393.5,-197.3\"/>\n<polygon fill=\"black\" stroke=\"black\" points=\"397,-197.02 393.5,-187.02 390,-197.02 397,-197.02\"/>\n</g>\n<!-- 12 -->\n<g id=\"node13\" class=\"node\">\n<title>12</title>\n<path fill=\"#8139e5\" stroke=\"black\" d=\"M606,-179.5C606,-179.5 495,-179.5 495,-179.5 489,-179.5 483,-173.5 483,-167.5 483,-167.5 483,-123.5 483,-123.5 483,-117.5 489,-111.5 495,-111.5 495,-111.5 606,-111.5 606,-111.5 612,-111.5 618,-117.5 618,-123.5 618,-123.5 618,-167.5 618,-167.5 618,-173.5 612,-179.5 606,-179.5\"/>\n<text text-anchor=\"middle\" x=\"550.5\" y=\"-164.3\" font-family=\"Helvetica,sans-Serif\" font-size=\"14.00\">gini = 0.0</text>\n<text text-anchor=\"middle\" x=\"550.5\" y=\"-149.3\" font-family=\"Helvetica,sans-Serif\" font-size=\"14.00\">samples = 37</text>\n<text text-anchor=\"middle\" x=\"550.5\" y=\"-134.3\" font-family=\"Helvetica,sans-Serif\" font-size=\"14.00\">value = [0, 0, 37]</text>\n<text text-anchor=\"middle\" x=\"550.5\" y=\"-119.3\" font-family=\"Helvetica,sans-Serif\" font-size=\"14.00\">class = Iris&#45;virginica</text>\n</g>\n<!-- 8&#45;&gt;12 -->\n<g id=\"edge12\" class=\"edge\">\n<title>8&#45;&gt;12</title>\n<path fill=\"none\" stroke=\"black\" d=\"M447.97,-222.91C464.11,-210.88 481.75,-197.73 497.78,-185.79\"/>\n<polygon fill=\"black\" stroke=\"black\" points=\"500.07,-188.45 505.99,-179.67 495.88,-182.84 500.07,-188.45\"/>\n</g>\n<!-- 10 -->\n<g id=\"node11\" class=\"node\">\n<title>10</title>\n<path fill=\"#8139e5\" stroke=\"black\" d=\"M448,-68C448,-68 337,-68 337,-68 331,-68 325,-62 325,-56 325,-56 325,-12 325,-12 325,-6 331,0 337,0 337,0 448,0 448,0 454,0 460,-6 460,-12 460,-12 460,-56 460,-56 460,-62 454,-68 448,-68\"/>\n<text text-anchor=\"middle\" x=\"392.5\" y=\"-52.8\" font-family=\"Helvetica,sans-Serif\" font-size=\"14.00\">gini = 0.0</text>\n<text text-anchor=\"middle\" x=\"392.5\" y=\"-37.8\" font-family=\"Helvetica,sans-Serif\" font-size=\"14.00\">samples = 1</text>\n<text text-anchor=\"middle\" x=\"392.5\" y=\"-22.8\" font-family=\"Helvetica,sans-Serif\" font-size=\"14.00\">value = [0, 0, 1]</text>\n<text text-anchor=\"middle\" x=\"392.5\" y=\"-7.8\" font-family=\"Helvetica,sans-Serif\" font-size=\"14.00\">class = Iris&#45;virginica</text>\n</g>\n<!-- 9&#45;&gt;10 -->\n<g id=\"edge10\" class=\"edge\">\n<title>9&#45;&gt;10</title>\n<path fill=\"none\" stroke=\"black\" d=\"M393.13,-103.73C393.05,-95.52 392.97,-86.86 392.9,-78.56\"/>\n<polygon fill=\"black\" stroke=\"black\" points=\"396.4,-78.27 392.8,-68.3 389.4,-78.33 396.4,-78.27\"/>\n</g>\n<!-- 11 -->\n<g id=\"node12\" class=\"node\">\n<title>11</title>\n<path fill=\"#39e581\" stroke=\"black\" d=\"M609,-68C609,-68 490,-68 490,-68 484,-68 478,-62 478,-56 478,-56 478,-12 478,-12 478,-6 484,0 490,0 490,0 609,0 609,0 615,0 621,-6 621,-12 621,-12 621,-56 621,-56 621,-62 615,-68 609,-68\"/>\n<text text-anchor=\"middle\" x=\"549.5\" y=\"-52.8\" font-family=\"Helvetica,sans-Serif\" font-size=\"14.00\">gini = 0.0</text>\n<text text-anchor=\"middle\" x=\"549.5\" y=\"-37.8\" font-family=\"Helvetica,sans-Serif\" font-size=\"14.00\">samples = 1</text>\n<text text-anchor=\"middle\" x=\"549.5\" y=\"-22.8\" font-family=\"Helvetica,sans-Serif\" font-size=\"14.00\">value = [0, 1, 0]</text>\n<text text-anchor=\"middle\" x=\"549.5\" y=\"-7.8\" font-family=\"Helvetica,sans-Serif\" font-size=\"14.00\">class = Iris&#45;versicolor</text>\n</g>\n<!-- 9&#45;&gt;11 -->\n<g id=\"edge11\" class=\"edge\">\n<title>9&#45;&gt;11</title>\n<path fill=\"none\" stroke=\"black\" d=\"M451.59,-103.73C465.36,-94.06 480.02,-83.77 493.69,-74.17\"/>\n<polygon fill=\"black\" stroke=\"black\" points=\"495.89,-76.91 502.06,-68.3 491.86,-71.18 495.89,-76.91\"/>\n</g>\n</g>\n</svg>\n",
      "text/plain": "<graphviz.sources.Source at 0x2188321f5e0>"
     },
     "execution_count": 40,
     "metadata": {},
     "output_type": "execute_result"
    }
   ],
   "source": [
    "# dot 언어로 작성된 내용을 시각화 해주는 모듈\n",
    "import graphviz as gz\n",
    "gz.Source.from_file('./iris_dt_model.dot')\n",
    "\n",
    "# 클래스 이름 나오냐는 거였고 제일 많이 들어있는게 나오고 기본적으로 숫자가 같으면 젤 먼저 나온거 나온단 얘기였음"
   ],
   "metadata": {
    "collapsed": false,
    "ExecuteTime": {
     "end_time": "2024-03-10T01:09:03.623102Z",
     "start_time": "2024-03-10T01:09:03.354231Z"
    }
   },
   "id": "725d706c7774c90c",
   "execution_count": 40
  },
  {
   "cell_type": "markdown",
   "source": [
    "[4] 모델 평가"
   ],
   "metadata": {
    "collapsed": false
   },
   "id": "3a8810396a16cfef"
  },
  {
   "cell_type": "code",
   "outputs": [
    {
     "name": "stdout",
     "output_type": "stream",
     "text": [
      "1.0 0.9333333333333333\n"
     ]
    }
   ],
   "source": [
    "train_score = model.score(X_train, y_train)\n",
    "test_score = model.score(X_test, y_test)\n",
    "\n",
    "print(train_score, test_score)\n",
    "\n",
    "#과대 적합이다."
   ],
   "metadata": {
    "collapsed": false,
    "ExecuteTime": {
     "end_time": "2024-03-10T01:09:03.638377Z",
     "start_time": "2024-03-10T01:09:03.625276Z"
    }
   },
   "id": "426fb33eb3531454",
   "execution_count": 41
  },
  {
   "cell_type": "markdown",
   "source": [
    "[5] 문제 해결 및 성능 향상 즉, 튜닝 <hr>\n",
    "- 원인 예상\n",
    "    * 데이터셋 부족 => cv\n",
    "    * DT의 여러가지 하이퍼 파라미터 기본값으로만 사용 => 다양한 값 조절\n",
    "- 해결 방법\n",
    "    * 2개의 원인을 한꺼번에 해결하기 위해서 GridSearchCV\n",
    "                     "
   ],
   "metadata": {
    "collapsed": false
   },
   "id": "64a10e1a1bc91273"
  },
  {
   "cell_type": "code",
   "outputs": [],
   "source": [
    "# 모듈 로딩\n",
    "from sklearn.model_selection import GridSearchCV, RandomizedSearchCV"
   ],
   "metadata": {
    "collapsed": false,
    "ExecuteTime": {
     "end_time": "2024-03-10T01:09:03.654424Z",
     "start_time": "2024-03-10T01:09:03.639394Z"
    }
   },
   "id": "f2f7e9950319e6b6",
   "execution_count": 42
  },
  {
   "cell_type": "code",
   "outputs": [],
   "source": [
    "# 모델 조합 조건\n",
    "# cv => 기본 5, ...\n",
    "# DT의 하이퍼파라미터 => max_depth, ..\n",
    "dt_model = DecisionTreeClassifier()\n",
    "n_cv = 5\n",
    "prams = {\n",
    "         'criterion': ['gini', 'entropy', 'log_loss'],\n",
    "         'max_depth': [5, 10, 15],\n",
    "         'min_samples_split':[2, 4, 6]\n",
    "         }\n",
    "\n",
    "# 하이퍼파라미터 조합된 모델 생성 후 교차검증 데이터셋으로 학습\n",
    "# 진행해주는 인스턴스\n",
    "gs = GridSearchCV(dt_model, param_grid=prams, cv=n_cv)"
   ],
   "metadata": {
    "collapsed": false,
    "ExecuteTime": {
     "end_time": "2024-03-10T01:09:03.670375Z",
     "start_time": "2024-03-10T01:09:03.655426Z"
    }
   },
   "id": "ab8c5d807cb2e06c",
   "execution_count": 43
  },
  {
   "cell_type": "code",
   "outputs": [],
   "source": [
    "# 조합된 모델들의 학습 진행\n",
    "result = gs.fit(X_train, y_train)"
   ],
   "metadata": {
    "collapsed": false,
    "ExecuteTime": {
     "end_time": "2024-03-10T01:09:04.078371Z",
     "start_time": "2024-03-10T01:09:03.672400Z"
    }
   },
   "id": "18c6dcc0b78cc955",
   "execution_count": 44
  },
  {
   "cell_type": "code",
   "outputs": [
    {
     "data": {
      "text/plain": "GridSearchCV(cv=5, estimator=DecisionTreeClassifier(),\n             param_grid={'criterion': ['gini', 'entropy', 'log_loss'],\n                         'max_depth': [5, 10, 15],\n                         'min_samples_split': [2, 4, 6]})",
      "text/html": "<style>#sk-container-id-4 {color: black;}#sk-container-id-4 pre{padding: 0;}#sk-container-id-4 div.sk-toggleable {background-color: white;}#sk-container-id-4 label.sk-toggleable__label {cursor: pointer;display: block;width: 100%;margin-bottom: 0;padding: 0.3em;box-sizing: border-box;text-align: center;}#sk-container-id-4 label.sk-toggleable__label-arrow:before {content: \"▸\";float: left;margin-right: 0.25em;color: #696969;}#sk-container-id-4 label.sk-toggleable__label-arrow:hover:before {color: black;}#sk-container-id-4 div.sk-estimator:hover label.sk-toggleable__label-arrow:before {color: black;}#sk-container-id-4 div.sk-toggleable__content {max-height: 0;max-width: 0;overflow: hidden;text-align: left;background-color: #f0f8ff;}#sk-container-id-4 div.sk-toggleable__content pre {margin: 0.2em;color: black;border-radius: 0.25em;background-color: #f0f8ff;}#sk-container-id-4 input.sk-toggleable__control:checked~div.sk-toggleable__content {max-height: 200px;max-width: 100%;overflow: auto;}#sk-container-id-4 input.sk-toggleable__control:checked~label.sk-toggleable__label-arrow:before {content: \"▾\";}#sk-container-id-4 div.sk-estimator input.sk-toggleable__control:checked~label.sk-toggleable__label {background-color: #d4ebff;}#sk-container-id-4 div.sk-label input.sk-toggleable__control:checked~label.sk-toggleable__label {background-color: #d4ebff;}#sk-container-id-4 input.sk-hidden--visually {border: 0;clip: rect(1px 1px 1px 1px);clip: rect(1px, 1px, 1px, 1px);height: 1px;margin: -1px;overflow: hidden;padding: 0;position: absolute;width: 1px;}#sk-container-id-4 div.sk-estimator {font-family: monospace;background-color: #f0f8ff;border: 1px dotted black;border-radius: 0.25em;box-sizing: border-box;margin-bottom: 0.5em;}#sk-container-id-4 div.sk-estimator:hover {background-color: #d4ebff;}#sk-container-id-4 div.sk-parallel-item::after {content: \"\";width: 100%;border-bottom: 1px solid gray;flex-grow: 1;}#sk-container-id-4 div.sk-label:hover label.sk-toggleable__label {background-color: #d4ebff;}#sk-container-id-4 div.sk-serial::before {content: \"\";position: absolute;border-left: 1px solid gray;box-sizing: border-box;top: 0;bottom: 0;left: 50%;z-index: 0;}#sk-container-id-4 div.sk-serial {display: flex;flex-direction: column;align-items: center;background-color: white;padding-right: 0.2em;padding-left: 0.2em;position: relative;}#sk-container-id-4 div.sk-item {position: relative;z-index: 1;}#sk-container-id-4 div.sk-parallel {display: flex;align-items: stretch;justify-content: center;background-color: white;position: relative;}#sk-container-id-4 div.sk-item::before, #sk-container-id-4 div.sk-parallel-item::before {content: \"\";position: absolute;border-left: 1px solid gray;box-sizing: border-box;top: 0;bottom: 0;left: 50%;z-index: -1;}#sk-container-id-4 div.sk-parallel-item {display: flex;flex-direction: column;z-index: 1;position: relative;background-color: white;}#sk-container-id-4 div.sk-parallel-item:first-child::after {align-self: flex-end;width: 50%;}#sk-container-id-4 div.sk-parallel-item:last-child::after {align-self: flex-start;width: 50%;}#sk-container-id-4 div.sk-parallel-item:only-child::after {width: 0;}#sk-container-id-4 div.sk-dashed-wrapped {border: 1px dashed gray;margin: 0 0.4em 0.5em 0.4em;box-sizing: border-box;padding-bottom: 0.4em;background-color: white;}#sk-container-id-4 div.sk-label label {font-family: monospace;font-weight: bold;display: inline-block;line-height: 1.2em;}#sk-container-id-4 div.sk-label-container {text-align: center;}#sk-container-id-4 div.sk-container {/* jupyter's `normalize.less` sets `[hidden] { display: none; }` but bootstrap.min.css set `[hidden] { display: none !important; }` so we also need the `!important` here to be able to override the default hidden behavior on the sphinx rendered scikit-learn.org. See: https://github.com/scikit-learn/scikit-learn/issues/21755 */display: inline-block !important;position: relative;}#sk-container-id-4 div.sk-text-repr-fallback {display: none;}</style><div id=\"sk-container-id-4\" class=\"sk-top-container\"><div class=\"sk-text-repr-fallback\"><pre>GridSearchCV(cv=5, estimator=DecisionTreeClassifier(),\n             param_grid={&#x27;criterion&#x27;: [&#x27;gini&#x27;, &#x27;entropy&#x27;, &#x27;log_loss&#x27;],\n                         &#x27;max_depth&#x27;: [5, 10, 15],\n                         &#x27;min_samples_split&#x27;: [2, 4, 6]})</pre><b>In a Jupyter environment, please rerun this cell to show the HTML representation or trust the notebook. <br />On GitHub, the HTML representation is unable to render, please try loading this page with nbviewer.org.</b></div><div class=\"sk-container\" hidden><div class=\"sk-item sk-dashed-wrapped\"><div class=\"sk-label-container\"><div class=\"sk-label sk-toggleable\"><input class=\"sk-toggleable__control sk-hidden--visually\" id=\"sk-estimator-id-6\" type=\"checkbox\" ><label for=\"sk-estimator-id-6\" class=\"sk-toggleable__label sk-toggleable__label-arrow\">GridSearchCV</label><div class=\"sk-toggleable__content\"><pre>GridSearchCV(cv=5, estimator=DecisionTreeClassifier(),\n             param_grid={&#x27;criterion&#x27;: [&#x27;gini&#x27;, &#x27;entropy&#x27;, &#x27;log_loss&#x27;],\n                         &#x27;max_depth&#x27;: [5, 10, 15],\n                         &#x27;min_samples_split&#x27;: [2, 4, 6]})</pre></div></div></div><div class=\"sk-parallel\"><div class=\"sk-parallel-item\"><div class=\"sk-item\"><div class=\"sk-label-container\"><div class=\"sk-label sk-toggleable\"><input class=\"sk-toggleable__control sk-hidden--visually\" id=\"sk-estimator-id-7\" type=\"checkbox\" ><label for=\"sk-estimator-id-7\" class=\"sk-toggleable__label sk-toggleable__label-arrow\">estimator: DecisionTreeClassifier</label><div class=\"sk-toggleable__content\"><pre>DecisionTreeClassifier()</pre></div></div></div><div class=\"sk-serial\"><div class=\"sk-item\"><div class=\"sk-estimator sk-toggleable\"><input class=\"sk-toggleable__control sk-hidden--visually\" id=\"sk-estimator-id-8\" type=\"checkbox\" ><label for=\"sk-estimator-id-8\" class=\"sk-toggleable__label sk-toggleable__label-arrow\">DecisionTreeClassifier</label><div class=\"sk-toggleable__content\"><pre>DecisionTreeClassifier()</pre></div></div></div></div></div></div></div></div></div></div>"
     },
     "execution_count": 45,
     "metadata": {},
     "output_type": "execute_result"
    }
   ],
   "source": [
    "# 결과 확인\n",
    "result"
   ],
   "metadata": {
    "collapsed": false,
    "ExecuteTime": {
     "end_time": "2024-03-10T01:09:04.093665Z",
     "start_time": "2024-03-10T01:09:04.080275Z"
    }
   },
   "id": "99b7039272c3fb37",
   "execution_count": 45
  },
  {
   "cell_type": "code",
   "outputs": [
    {
     "data": {
      "text/plain": "    mean_fit_time  std_fit_time  mean_score_time  std_score_time  \\\n0        0.002010      0.000524         0.001550        0.000645   \n1        0.001842      0.000417         0.001026        0.000032   \n2        0.001957      0.000808         0.001027        0.000636   \n3        0.002388      0.000438         0.001864        0.000641   \n4        0.002393      0.000553         0.001289        0.000425   \n5        0.001982      0.000253         0.001456        0.000521   \n6        0.001475      0.000552         0.001300        0.000400   \n7        0.001244      0.000413         0.000823        0.000412   \n8        0.001130      0.000230         0.000845        0.000423   \n9        0.001427      0.000508         0.001075        0.000110   \n10       0.001504      0.000606         0.001272        0.000377   \n11       0.001443      0.000500         0.001248        0.000408   \n12       0.001221      0.000438         0.001306        0.000609   \n13       0.001668      0.000922         0.000817        0.000775   \n14       0.001667      0.000855         0.001218        0.000418   \n15       0.001318      0.000422         0.000827        0.000414   \n16       0.001721      0.000592         0.001085        0.000144   \n17       0.001910      0.000468         0.000608        0.000497   \n18       0.001425      0.000502         0.001053        0.000044   \n19       0.001522      0.001015         0.001025        0.000022   \n20       0.001212      0.000412         0.000831        0.000418   \n21       0.001054      0.000046         0.000842        0.000804   \n22       0.000887      0.000445         0.000440        0.000539   \n23       0.001124      0.000064         0.000975        0.000233   \n24       0.001079      0.000041         0.000876        0.000457   \n25       0.001200      0.000400         0.000000        0.000000   \n26       0.001002      0.000004         0.000000        0.000000   \n\n   param_criterion param_max_depth param_min_samples_split  \\\n0             gini               5                       2   \n1             gini               5                       4   \n2             gini               5                       6   \n3             gini              10                       2   \n4             gini              10                       4   \n5             gini              10                       6   \n6             gini              15                       2   \n7             gini              15                       4   \n8             gini              15                       6   \n9          entropy               5                       2   \n10         entropy               5                       4   \n11         entropy               5                       6   \n12         entropy              10                       2   \n13         entropy              10                       4   \n14         entropy              10                       6   \n15         entropy              15                       2   \n16         entropy              15                       4   \n17         entropy              15                       6   \n18        log_loss               5                       2   \n19        log_loss               5                       4   \n20        log_loss               5                       6   \n21        log_loss              10                       2   \n22        log_loss              10                       4   \n23        log_loss              10                       6   \n24        log_loss              15                       2   \n25        log_loss              15                       4   \n26        log_loss              15                       6   \n\n                                               params  split0_test_score  \\\n0   {'criterion': 'gini', 'max_depth': 5, 'min_sam...           0.958333   \n1   {'criterion': 'gini', 'max_depth': 5, 'min_sam...           0.958333   \n2   {'criterion': 'gini', 'max_depth': 5, 'min_sam...           0.958333   \n3   {'criterion': 'gini', 'max_depth': 10, 'min_sa...           0.958333   \n4   {'criterion': 'gini', 'max_depth': 10, 'min_sa...           0.958333   \n5   {'criterion': 'gini', 'max_depth': 10, 'min_sa...           0.958333   \n6   {'criterion': 'gini', 'max_depth': 15, 'min_sa...           0.958333   \n7   {'criterion': 'gini', 'max_depth': 15, 'min_sa...           0.958333   \n8   {'criterion': 'gini', 'max_depth': 15, 'min_sa...           0.958333   \n9   {'criterion': 'entropy', 'max_depth': 5, 'min_...           0.958333   \n10  {'criterion': 'entropy', 'max_depth': 5, 'min_...           0.958333   \n11  {'criterion': 'entropy', 'max_depth': 5, 'min_...           0.958333   \n12  {'criterion': 'entropy', 'max_depth': 10, 'min...           0.958333   \n13  {'criterion': 'entropy', 'max_depth': 10, 'min...           0.958333   \n14  {'criterion': 'entropy', 'max_depth': 10, 'min...           0.958333   \n15  {'criterion': 'entropy', 'max_depth': 15, 'min...           0.958333   \n16  {'criterion': 'entropy', 'max_depth': 15, 'min...           0.958333   \n17  {'criterion': 'entropy', 'max_depth': 15, 'min...           0.958333   \n18  {'criterion': 'log_loss', 'max_depth': 5, 'min...           0.958333   \n19  {'criterion': 'log_loss', 'max_depth': 5, 'min...           0.958333   \n20  {'criterion': 'log_loss', 'max_depth': 5, 'min...           0.958333   \n21  {'criterion': 'log_loss', 'max_depth': 10, 'mi...           0.958333   \n22  {'criterion': 'log_loss', 'max_depth': 10, 'mi...           0.958333   \n23  {'criterion': 'log_loss', 'max_depth': 10, 'mi...           0.958333   \n24  {'criterion': 'log_loss', 'max_depth': 15, 'mi...           0.958333   \n25  {'criterion': 'log_loss', 'max_depth': 15, 'mi...           0.958333   \n26  {'criterion': 'log_loss', 'max_depth': 15, 'mi...           0.958333   \n\n    split1_test_score  split2_test_score  split3_test_score  \\\n0            0.916667           0.958333                1.0   \n1            0.916667           0.958333                1.0   \n2            0.916667           0.958333                1.0   \n3            0.916667           0.958333                1.0   \n4            0.916667           0.958333                1.0   \n5            0.916667           0.958333                1.0   \n6            0.916667           0.958333                1.0   \n7            0.916667           0.958333                1.0   \n8            0.916667           0.958333                1.0   \n9            0.916667           0.958333                1.0   \n10           0.916667           0.958333                1.0   \n11           0.916667           0.958333                1.0   \n12           0.916667           0.958333                1.0   \n13           0.916667           0.958333                1.0   \n14           0.916667           0.958333                1.0   \n15           0.916667           0.958333                1.0   \n16           0.916667           0.958333                1.0   \n17           0.916667           0.958333                1.0   \n18           0.916667           0.958333                1.0   \n19           0.916667           0.958333                1.0   \n20           0.916667           0.958333                1.0   \n21           0.916667           0.958333                1.0   \n22           0.916667           0.958333                1.0   \n23           0.916667           0.958333                1.0   \n24           0.916667           0.958333                1.0   \n25           0.916667           0.958333                1.0   \n26           0.916667           0.958333                1.0   \n\n    split4_test_score  mean_test_score  std_test_score  rank_test_score  \n0            0.916667         0.950000        0.031180               10  \n1            0.916667         0.950000        0.031180               10  \n2            0.958333         0.958333        0.026352                1  \n3            0.916667         0.950000        0.031180               10  \n4            0.916667         0.950000        0.031180               10  \n5            0.958333         0.958333        0.026352                1  \n6            0.916667         0.950000        0.031180               10  \n7            0.916667         0.950000        0.031180               10  \n8            0.958333         0.958333        0.026352                1  \n9            0.916667         0.950000        0.031180               10  \n10           0.916667         0.950000        0.031180               10  \n11           0.958333         0.958333        0.026352                1  \n12           0.916667         0.950000        0.031180               10  \n13           0.916667         0.950000        0.031180               10  \n14           0.958333         0.958333        0.026352                1  \n15           0.916667         0.950000        0.031180               10  \n16           0.916667         0.950000        0.031180               10  \n17           0.958333         0.958333        0.026352                1  \n18           0.916667         0.950000        0.031180               10  \n19           0.916667         0.950000        0.031180               10  \n20           0.958333         0.958333        0.026352                1  \n21           0.916667         0.950000        0.031180               10  \n22           0.916667         0.950000        0.031180               10  \n23           0.958333         0.958333        0.026352                1  \n24           0.916667         0.950000        0.031180               10  \n25           0.916667         0.950000        0.031180               10  \n26           0.958333         0.958333        0.026352                1  ",
      "text/html": "<div>\n<style scoped>\n    .dataframe tbody tr th:only-of-type {\n        vertical-align: middle;\n    }\n\n    .dataframe tbody tr th {\n        vertical-align: top;\n    }\n\n    .dataframe thead th {\n        text-align: right;\n    }\n</style>\n<table border=\"1\" class=\"dataframe\">\n  <thead>\n    <tr style=\"text-align: right;\">\n      <th></th>\n      <th>mean_fit_time</th>\n      <th>std_fit_time</th>\n      <th>mean_score_time</th>\n      <th>std_score_time</th>\n      <th>param_criterion</th>\n      <th>param_max_depth</th>\n      <th>param_min_samples_split</th>\n      <th>params</th>\n      <th>split0_test_score</th>\n      <th>split1_test_score</th>\n      <th>split2_test_score</th>\n      <th>split3_test_score</th>\n      <th>split4_test_score</th>\n      <th>mean_test_score</th>\n      <th>std_test_score</th>\n      <th>rank_test_score</th>\n    </tr>\n  </thead>\n  <tbody>\n    <tr>\n      <th>0</th>\n      <td>0.002010</td>\n      <td>0.000524</td>\n      <td>0.001550</td>\n      <td>0.000645</td>\n      <td>gini</td>\n      <td>5</td>\n      <td>2</td>\n      <td>{'criterion': 'gini', 'max_depth': 5, 'min_sam...</td>\n      <td>0.958333</td>\n      <td>0.916667</td>\n      <td>0.958333</td>\n      <td>1.0</td>\n      <td>0.916667</td>\n      <td>0.950000</td>\n      <td>0.031180</td>\n      <td>10</td>\n    </tr>\n    <tr>\n      <th>1</th>\n      <td>0.001842</td>\n      <td>0.000417</td>\n      <td>0.001026</td>\n      <td>0.000032</td>\n      <td>gini</td>\n      <td>5</td>\n      <td>4</td>\n      <td>{'criterion': 'gini', 'max_depth': 5, 'min_sam...</td>\n      <td>0.958333</td>\n      <td>0.916667</td>\n      <td>0.958333</td>\n      <td>1.0</td>\n      <td>0.916667</td>\n      <td>0.950000</td>\n      <td>0.031180</td>\n      <td>10</td>\n    </tr>\n    <tr>\n      <th>2</th>\n      <td>0.001957</td>\n      <td>0.000808</td>\n      <td>0.001027</td>\n      <td>0.000636</td>\n      <td>gini</td>\n      <td>5</td>\n      <td>6</td>\n      <td>{'criterion': 'gini', 'max_depth': 5, 'min_sam...</td>\n      <td>0.958333</td>\n      <td>0.916667</td>\n      <td>0.958333</td>\n      <td>1.0</td>\n      <td>0.958333</td>\n      <td>0.958333</td>\n      <td>0.026352</td>\n      <td>1</td>\n    </tr>\n    <tr>\n      <th>3</th>\n      <td>0.002388</td>\n      <td>0.000438</td>\n      <td>0.001864</td>\n      <td>0.000641</td>\n      <td>gini</td>\n      <td>10</td>\n      <td>2</td>\n      <td>{'criterion': 'gini', 'max_depth': 10, 'min_sa...</td>\n      <td>0.958333</td>\n      <td>0.916667</td>\n      <td>0.958333</td>\n      <td>1.0</td>\n      <td>0.916667</td>\n      <td>0.950000</td>\n      <td>0.031180</td>\n      <td>10</td>\n    </tr>\n    <tr>\n      <th>4</th>\n      <td>0.002393</td>\n      <td>0.000553</td>\n      <td>0.001289</td>\n      <td>0.000425</td>\n      <td>gini</td>\n      <td>10</td>\n      <td>4</td>\n      <td>{'criterion': 'gini', 'max_depth': 10, 'min_sa...</td>\n      <td>0.958333</td>\n      <td>0.916667</td>\n      <td>0.958333</td>\n      <td>1.0</td>\n      <td>0.916667</td>\n      <td>0.950000</td>\n      <td>0.031180</td>\n      <td>10</td>\n    </tr>\n    <tr>\n      <th>5</th>\n      <td>0.001982</td>\n      <td>0.000253</td>\n      <td>0.001456</td>\n      <td>0.000521</td>\n      <td>gini</td>\n      <td>10</td>\n      <td>6</td>\n      <td>{'criterion': 'gini', 'max_depth': 10, 'min_sa...</td>\n      <td>0.958333</td>\n      <td>0.916667</td>\n      <td>0.958333</td>\n      <td>1.0</td>\n      <td>0.958333</td>\n      <td>0.958333</td>\n      <td>0.026352</td>\n      <td>1</td>\n    </tr>\n    <tr>\n      <th>6</th>\n      <td>0.001475</td>\n      <td>0.000552</td>\n      <td>0.001300</td>\n      <td>0.000400</td>\n      <td>gini</td>\n      <td>15</td>\n      <td>2</td>\n      <td>{'criterion': 'gini', 'max_depth': 15, 'min_sa...</td>\n      <td>0.958333</td>\n      <td>0.916667</td>\n      <td>0.958333</td>\n      <td>1.0</td>\n      <td>0.916667</td>\n      <td>0.950000</td>\n      <td>0.031180</td>\n      <td>10</td>\n    </tr>\n    <tr>\n      <th>7</th>\n      <td>0.001244</td>\n      <td>0.000413</td>\n      <td>0.000823</td>\n      <td>0.000412</td>\n      <td>gini</td>\n      <td>15</td>\n      <td>4</td>\n      <td>{'criterion': 'gini', 'max_depth': 15, 'min_sa...</td>\n      <td>0.958333</td>\n      <td>0.916667</td>\n      <td>0.958333</td>\n      <td>1.0</td>\n      <td>0.916667</td>\n      <td>0.950000</td>\n      <td>0.031180</td>\n      <td>10</td>\n    </tr>\n    <tr>\n      <th>8</th>\n      <td>0.001130</td>\n      <td>0.000230</td>\n      <td>0.000845</td>\n      <td>0.000423</td>\n      <td>gini</td>\n      <td>15</td>\n      <td>6</td>\n      <td>{'criterion': 'gini', 'max_depth': 15, 'min_sa...</td>\n      <td>0.958333</td>\n      <td>0.916667</td>\n      <td>0.958333</td>\n      <td>1.0</td>\n      <td>0.958333</td>\n      <td>0.958333</td>\n      <td>0.026352</td>\n      <td>1</td>\n    </tr>\n    <tr>\n      <th>9</th>\n      <td>0.001427</td>\n      <td>0.000508</td>\n      <td>0.001075</td>\n      <td>0.000110</td>\n      <td>entropy</td>\n      <td>5</td>\n      <td>2</td>\n      <td>{'criterion': 'entropy', 'max_depth': 5, 'min_...</td>\n      <td>0.958333</td>\n      <td>0.916667</td>\n      <td>0.958333</td>\n      <td>1.0</td>\n      <td>0.916667</td>\n      <td>0.950000</td>\n      <td>0.031180</td>\n      <td>10</td>\n    </tr>\n    <tr>\n      <th>10</th>\n      <td>0.001504</td>\n      <td>0.000606</td>\n      <td>0.001272</td>\n      <td>0.000377</td>\n      <td>entropy</td>\n      <td>5</td>\n      <td>4</td>\n      <td>{'criterion': 'entropy', 'max_depth': 5, 'min_...</td>\n      <td>0.958333</td>\n      <td>0.916667</td>\n      <td>0.958333</td>\n      <td>1.0</td>\n      <td>0.916667</td>\n      <td>0.950000</td>\n      <td>0.031180</td>\n      <td>10</td>\n    </tr>\n    <tr>\n      <th>11</th>\n      <td>0.001443</td>\n      <td>0.000500</td>\n      <td>0.001248</td>\n      <td>0.000408</td>\n      <td>entropy</td>\n      <td>5</td>\n      <td>6</td>\n      <td>{'criterion': 'entropy', 'max_depth': 5, 'min_...</td>\n      <td>0.958333</td>\n      <td>0.916667</td>\n      <td>0.958333</td>\n      <td>1.0</td>\n      <td>0.958333</td>\n      <td>0.958333</td>\n      <td>0.026352</td>\n      <td>1</td>\n    </tr>\n    <tr>\n      <th>12</th>\n      <td>0.001221</td>\n      <td>0.000438</td>\n      <td>0.001306</td>\n      <td>0.000609</td>\n      <td>entropy</td>\n      <td>10</td>\n      <td>2</td>\n      <td>{'criterion': 'entropy', 'max_depth': 10, 'min...</td>\n      <td>0.958333</td>\n      <td>0.916667</td>\n      <td>0.958333</td>\n      <td>1.0</td>\n      <td>0.916667</td>\n      <td>0.950000</td>\n      <td>0.031180</td>\n      <td>10</td>\n    </tr>\n    <tr>\n      <th>13</th>\n      <td>0.001668</td>\n      <td>0.000922</td>\n      <td>0.000817</td>\n      <td>0.000775</td>\n      <td>entropy</td>\n      <td>10</td>\n      <td>4</td>\n      <td>{'criterion': 'entropy', 'max_depth': 10, 'min...</td>\n      <td>0.958333</td>\n      <td>0.916667</td>\n      <td>0.958333</td>\n      <td>1.0</td>\n      <td>0.916667</td>\n      <td>0.950000</td>\n      <td>0.031180</td>\n      <td>10</td>\n    </tr>\n    <tr>\n      <th>14</th>\n      <td>0.001667</td>\n      <td>0.000855</td>\n      <td>0.001218</td>\n      <td>0.000418</td>\n      <td>entropy</td>\n      <td>10</td>\n      <td>6</td>\n      <td>{'criterion': 'entropy', 'max_depth': 10, 'min...</td>\n      <td>0.958333</td>\n      <td>0.916667</td>\n      <td>0.958333</td>\n      <td>1.0</td>\n      <td>0.958333</td>\n      <td>0.958333</td>\n      <td>0.026352</td>\n      <td>1</td>\n    </tr>\n    <tr>\n      <th>15</th>\n      <td>0.001318</td>\n      <td>0.000422</td>\n      <td>0.000827</td>\n      <td>0.000414</td>\n      <td>entropy</td>\n      <td>15</td>\n      <td>2</td>\n      <td>{'criterion': 'entropy', 'max_depth': 15, 'min...</td>\n      <td>0.958333</td>\n      <td>0.916667</td>\n      <td>0.958333</td>\n      <td>1.0</td>\n      <td>0.916667</td>\n      <td>0.950000</td>\n      <td>0.031180</td>\n      <td>10</td>\n    </tr>\n    <tr>\n      <th>16</th>\n      <td>0.001721</td>\n      <td>0.000592</td>\n      <td>0.001085</td>\n      <td>0.000144</td>\n      <td>entropy</td>\n      <td>15</td>\n      <td>4</td>\n      <td>{'criterion': 'entropy', 'max_depth': 15, 'min...</td>\n      <td>0.958333</td>\n      <td>0.916667</td>\n      <td>0.958333</td>\n      <td>1.0</td>\n      <td>0.916667</td>\n      <td>0.950000</td>\n      <td>0.031180</td>\n      <td>10</td>\n    </tr>\n    <tr>\n      <th>17</th>\n      <td>0.001910</td>\n      <td>0.000468</td>\n      <td>0.000608</td>\n      <td>0.000497</td>\n      <td>entropy</td>\n      <td>15</td>\n      <td>6</td>\n      <td>{'criterion': 'entropy', 'max_depth': 15, 'min...</td>\n      <td>0.958333</td>\n      <td>0.916667</td>\n      <td>0.958333</td>\n      <td>1.0</td>\n      <td>0.958333</td>\n      <td>0.958333</td>\n      <td>0.026352</td>\n      <td>1</td>\n    </tr>\n    <tr>\n      <th>18</th>\n      <td>0.001425</td>\n      <td>0.000502</td>\n      <td>0.001053</td>\n      <td>0.000044</td>\n      <td>log_loss</td>\n      <td>5</td>\n      <td>2</td>\n      <td>{'criterion': 'log_loss', 'max_depth': 5, 'min...</td>\n      <td>0.958333</td>\n      <td>0.916667</td>\n      <td>0.958333</td>\n      <td>1.0</td>\n      <td>0.916667</td>\n      <td>0.950000</td>\n      <td>0.031180</td>\n      <td>10</td>\n    </tr>\n    <tr>\n      <th>19</th>\n      <td>0.001522</td>\n      <td>0.001015</td>\n      <td>0.001025</td>\n      <td>0.000022</td>\n      <td>log_loss</td>\n      <td>5</td>\n      <td>4</td>\n      <td>{'criterion': 'log_loss', 'max_depth': 5, 'min...</td>\n      <td>0.958333</td>\n      <td>0.916667</td>\n      <td>0.958333</td>\n      <td>1.0</td>\n      <td>0.916667</td>\n      <td>0.950000</td>\n      <td>0.031180</td>\n      <td>10</td>\n    </tr>\n    <tr>\n      <th>20</th>\n      <td>0.001212</td>\n      <td>0.000412</td>\n      <td>0.000831</td>\n      <td>0.000418</td>\n      <td>log_loss</td>\n      <td>5</td>\n      <td>6</td>\n      <td>{'criterion': 'log_loss', 'max_depth': 5, 'min...</td>\n      <td>0.958333</td>\n      <td>0.916667</td>\n      <td>0.958333</td>\n      <td>1.0</td>\n      <td>0.958333</td>\n      <td>0.958333</td>\n      <td>0.026352</td>\n      <td>1</td>\n    </tr>\n    <tr>\n      <th>21</th>\n      <td>0.001054</td>\n      <td>0.000046</td>\n      <td>0.000842</td>\n      <td>0.000804</td>\n      <td>log_loss</td>\n      <td>10</td>\n      <td>2</td>\n      <td>{'criterion': 'log_loss', 'max_depth': 10, 'mi...</td>\n      <td>0.958333</td>\n      <td>0.916667</td>\n      <td>0.958333</td>\n      <td>1.0</td>\n      <td>0.916667</td>\n      <td>0.950000</td>\n      <td>0.031180</td>\n      <td>10</td>\n    </tr>\n    <tr>\n      <th>22</th>\n      <td>0.000887</td>\n      <td>0.000445</td>\n      <td>0.000440</td>\n      <td>0.000539</td>\n      <td>log_loss</td>\n      <td>10</td>\n      <td>4</td>\n      <td>{'criterion': 'log_loss', 'max_depth': 10, 'mi...</td>\n      <td>0.958333</td>\n      <td>0.916667</td>\n      <td>0.958333</td>\n      <td>1.0</td>\n      <td>0.916667</td>\n      <td>0.950000</td>\n      <td>0.031180</td>\n      <td>10</td>\n    </tr>\n    <tr>\n      <th>23</th>\n      <td>0.001124</td>\n      <td>0.000064</td>\n      <td>0.000975</td>\n      <td>0.000233</td>\n      <td>log_loss</td>\n      <td>10</td>\n      <td>6</td>\n      <td>{'criterion': 'log_loss', 'max_depth': 10, 'mi...</td>\n      <td>0.958333</td>\n      <td>0.916667</td>\n      <td>0.958333</td>\n      <td>1.0</td>\n      <td>0.958333</td>\n      <td>0.958333</td>\n      <td>0.026352</td>\n      <td>1</td>\n    </tr>\n    <tr>\n      <th>24</th>\n      <td>0.001079</td>\n      <td>0.000041</td>\n      <td>0.000876</td>\n      <td>0.000457</td>\n      <td>log_loss</td>\n      <td>15</td>\n      <td>2</td>\n      <td>{'criterion': 'log_loss', 'max_depth': 15, 'mi...</td>\n      <td>0.958333</td>\n      <td>0.916667</td>\n      <td>0.958333</td>\n      <td>1.0</td>\n      <td>0.916667</td>\n      <td>0.950000</td>\n      <td>0.031180</td>\n      <td>10</td>\n    </tr>\n    <tr>\n      <th>25</th>\n      <td>0.001200</td>\n      <td>0.000400</td>\n      <td>0.000000</td>\n      <td>0.000000</td>\n      <td>log_loss</td>\n      <td>15</td>\n      <td>4</td>\n      <td>{'criterion': 'log_loss', 'max_depth': 15, 'mi...</td>\n      <td>0.958333</td>\n      <td>0.916667</td>\n      <td>0.958333</td>\n      <td>1.0</td>\n      <td>0.916667</td>\n      <td>0.950000</td>\n      <td>0.031180</td>\n      <td>10</td>\n    </tr>\n    <tr>\n      <th>26</th>\n      <td>0.001002</td>\n      <td>0.000004</td>\n      <td>0.000000</td>\n      <td>0.000000</td>\n      <td>log_loss</td>\n      <td>15</td>\n      <td>6</td>\n      <td>{'criterion': 'log_loss', 'max_depth': 15, 'mi...</td>\n      <td>0.958333</td>\n      <td>0.916667</td>\n      <td>0.958333</td>\n      <td>1.0</td>\n      <td>0.958333</td>\n      <td>0.958333</td>\n      <td>0.026352</td>\n      <td>1</td>\n    </tr>\n  </tbody>\n</table>\n</div>"
     },
     "execution_count": 46,
     "metadata": {},
     "output_type": "execute_result"
    }
   ],
   "source": [
    "# 학습 후 저장된 모델 파라미터 확인\n",
    "# 교차학습 결과 => 조합된 모델의 개수만큼 나옴\n",
    "cv_resultDF = pd.DataFrame(gs.cv_results_)\n",
    "cv_resultDF\n",
    "\n",
    "# 모든 조합된 경우의 수가 나옴 => 3 * 3 * 3 = 27"
   ],
   "metadata": {
    "collapsed": false,
    "ExecuteTime": {
     "end_time": "2024-03-10T01:09:04.139950Z",
     "start_time": "2024-03-10T01:09:04.095803Z"
    }
   },
   "id": "fd2af56b7f7be04f",
   "execution_count": 46
  },
  {
   "cell_type": "code",
   "outputs": [
    {
     "data": {
      "text/plain": "{'criterion': 'gini', 'max_depth': 5, 'min_samples_split': 6}"
     },
     "execution_count": 47,
     "metadata": {},
     "output_type": "execute_result"
    }
   ],
   "source": [
    "# 조합된 모델 중 최고의 성능을 내는 하이퍼파라미터 값\n",
    "gs.best_params_"
   ],
   "metadata": {
    "collapsed": false,
    "ExecuteTime": {
     "end_time": "2024-03-10T01:09:04.155679Z",
     "start_time": "2024-03-10T01:09:04.140966Z"
    }
   },
   "id": "a65fb85a8917e8c3",
   "execution_count": 47
  },
  {
   "cell_type": "code",
   "outputs": [],
   "source": [
    "# 조합된 모델 중 최고의 성능을 내는 모델 인스턴스\n",
    "my_best_model = gs.best_estimator_"
   ],
   "metadata": {
    "collapsed": false,
    "ExecuteTime": {
     "end_time": "2024-03-10T01:09:04.170842Z",
     "start_time": "2024-03-10T01:09:04.157158Z"
    }
   },
   "id": "9cd160dd32b8e4e2",
   "execution_count": 48
  },
  {
   "cell_type": "code",
   "outputs": [
    {
     "data": {
      "text/plain": "0.9583333333333334"
     },
     "execution_count": 49,
     "metadata": {},
     "output_type": "execute_result"
    }
   ],
   "source": [
    "# 조합된 모델 중 최고의 점수\n",
    "gs.best_score_\n",
    "\n",
    "# mean test score 기준으로 최고를 뽑음"
   ],
   "metadata": {
    "collapsed": false,
    "ExecuteTime": {
     "end_time": "2024-03-10T01:09:04.186044Z",
     "start_time": "2024-03-10T01:09:04.173009Z"
    }
   },
   "id": "14cc141f96b834d9",
   "execution_count": 49
  },
  {
   "cell_type": "markdown",
   "source": [
    "[6] 학습 및 튜닝 후 모델 저장 <hr>\n",
    "- 다른 파일에서 활용이 가능한 파일 형태로 저장\n",
    "- 웹/앱 원하는 곳에서 활용 가능\n",
    "- scikit-learn에서는 pickle 포맷으로 저장\n",
    "- joblib 모듈에 해당 기능 포함되어 있음"
   ],
   "metadata": {
    "collapsed": false
   },
   "id": "724467fcf1901c50"
  },
  {
   "cell_type": "code",
   "outputs": [],
   "source": [
    "import joblib\n",
    "import os"
   ],
   "metadata": {
    "collapsed": false,
    "ExecuteTime": {
     "end_time": "2024-03-10T01:09:04.202170Z",
     "start_time": "2024-03-10T01:09:04.187061Z"
    }
   },
   "id": "b609ab695cc9ecb8",
   "execution_count": 50
  },
  {
   "cell_type": "code",
   "outputs": [],
   "source": [
    "# 모델 저장\n",
    "model_dir = '../model/'\n",
    "model_filename = model_dir + 'iris_df.pkl'\n",
    "\n",
    "# 저장 폴더 존재 여부 확인 후 저장\n",
    "if not os.path.exists(model_dir):\n",
    "    os.mkdir(model_dir)"
   ],
   "metadata": {
    "collapsed": false,
    "ExecuteTime": {
     "end_time": "2024-03-10T01:09:04.218265Z",
     "start_time": "2024-03-10T01:09:04.203153Z"
    }
   },
   "id": "73182d4b2da09812",
   "execution_count": 51
  },
  {
   "cell_type": "code",
   "outputs": [
    {
     "data": {
      "text/plain": "['../model/iris_df.pkl']"
     },
     "execution_count": 52,
     "metadata": {},
     "output_type": "execute_result"
    }
   ],
   "source": [
    "joblib.dump(my_best_model, model_filename)"
   ],
   "metadata": {
    "collapsed": false,
    "ExecuteTime": {
     "end_time": "2024-03-10T01:09:04.234247Z",
     "start_time": "2024-03-10T01:09:04.219268Z"
    }
   },
   "id": "69df6de8ac46e92",
   "execution_count": 52
  },
  {
   "cell_type": "code",
   "outputs": [],
   "source": [],
   "metadata": {
    "collapsed": false,
    "ExecuteTime": {
     "end_time": "2024-03-10T01:09:04.250244Z",
     "start_time": "2024-03-10T01:09:04.237245Z"
    }
   },
   "id": "cf2edec991542ea2",
   "execution_count": 52
  }
 ],
 "metadata": {
  "kernelspec": {
   "display_name": "Python 3",
   "language": "python",
   "name": "python3"
  },
  "language_info": {
   "codemirror_mode": {
    "name": "ipython",
    "version": 2
   },
   "file_extension": ".py",
   "mimetype": "text/x-python",
   "name": "python",
   "nbconvert_exporter": "python",
   "pygments_lexer": "ipython2",
   "version": "2.7.6"
  }
 },
 "nbformat": 4,
 "nbformat_minor": 5
}
