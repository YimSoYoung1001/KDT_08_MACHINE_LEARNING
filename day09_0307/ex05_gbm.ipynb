{
 "cells": [
  {
   "cell_type": "markdown",
   "source": [
    "### 그레디언트 부스팅 계열의 앙상블 모델    \n",
    "- 대표 모델 : XGBoost, LightGBM\n",
    "- 추가 설치 및 사용법 숙지가 필요"
   ],
   "metadata": {
    "collapsed": false
   },
   "id": "51ce3f9ca7f96a39"
  },
  {
   "cell_type": "code",
   "outputs": [
    {
     "name": "stdout",
     "output_type": "stream",
     "text": [
      "xgboos: 1.7.3\n",
      "lightgbm: 4.1.0\n"
     ]
    }
   ],
   "source": [
    "import xgboost, lightgbm\n",
    "import pandas as pd\n",
    "\n",
    "print(f\"xgboost: {xgboost.__version__}\")\n",
    "print(f\"lightgbm: {lightgbm.__version__}\")"
   ],
   "metadata": {
    "collapsed": false,
    "ExecuteTime": {
     "end_time": "2024-03-07T07:25:20.205282Z",
     "start_time": "2024-03-07T07:25:20.198834Z"
    }
   },
   "id": "3c0eade211dbafd3",
   "execution_count": 108
  },
  {
   "cell_type": "markdown",
   "source": [
    "[1] 모듈 로딩 및 데이터 준비 <hr>"
   ],
   "metadata": {
    "collapsed": false
   },
   "id": "aac88625fa537fc7"
  },
  {
   "cell_type": "code",
   "outputs": [],
   "source": [
    "## 데이터 파일 변수 선언\n",
    "feature_name_file = '../data/human_activity/features.txt'\n",
    "label_file = '../data/human_activity/activity_lables.txt'\n",
    "\n",
    "x_train_file = '../data/human_activity/train/X_train.txt'\n",
    "y_train_file = '../data/human_activity/train/y_train.txt'\n",
    "\n",
    "x_test_file = '../data/human_activity/test/X_test.txt'\n",
    "y_test_file = '../data/human_activity/test/y_test.txt'"
   ],
   "metadata": {
    "collapsed": false,
    "ExecuteTime": {
     "end_time": "2024-03-07T07:25:20.221245Z",
     "start_time": "2024-03-07T07:25:20.214872Z"
    }
   },
   "id": "1945a02862da40bc",
   "execution_count": 109
  },
  {
   "cell_type": "code",
   "outputs": [],
   "source": [
    "# 데이터 로딩\n",
    "feature_nameDF = pd.read_csv(feature_name_file, \n",
    "                             sep = '\\s+',\n",
    "                             header = None, \n",
    "                             names = ['col_id','col_name'])"
   ],
   "metadata": {
    "collapsed": false,
    "ExecuteTime": {
     "end_time": "2024-03-07T07:25:20.253102Z",
     "start_time": "2024-03-07T07:25:20.238262Z"
    }
   },
   "id": "228798523e77b2a8",
   "execution_count": 110
  },
  {
   "cell_type": "code",
   "outputs": [
    {
     "name": "stdout",
     "output_type": "stream",
     "text": [
      "<class 'pandas.core.frame.DataFrame'>\n",
      "RangeIndex: 561 entries, 0 to 560\n",
      "Data columns (total 2 columns):\n",
      " #   Column    Non-Null Count  Dtype \n",
      "---  ------    --------------  ----- \n",
      " 0   col_id    561 non-null    int64 \n",
      " 1   col_name  561 non-null    object\n",
      "dtypes: int64(1), object(1)\n",
      "memory usage: 8.9+ KB\n"
     ]
    }
   ],
   "source": [
    "# 데이터 확인\n",
    "feature_nameDF.info()"
   ],
   "metadata": {
    "collapsed": false,
    "ExecuteTime": {
     "end_time": "2024-03-07T07:25:20.268663Z",
     "start_time": "2024-03-07T07:25:20.255216Z"
    }
   },
   "id": "fe535f0c0bc47180",
   "execution_count": 111
  },
  {
   "cell_type": "code",
   "outputs": [
    {
     "data": {
      "text/plain": "84"
     },
     "execution_count": 112,
     "metadata": {},
     "output_type": "execute_result"
    }
   ],
   "source": [
    "# 중복 체크\n",
    "feature_nameDF['col_name'].duplicated().sum()"
   ],
   "metadata": {
    "collapsed": false,
    "ExecuteTime": {
     "end_time": "2024-03-07T07:25:20.284512Z",
     "start_time": "2024-03-07T07:25:20.269740Z"
    }
   },
   "id": "f78692e934876de1",
   "execution_count": 112
  },
  {
   "cell_type": "code",
   "outputs": [
    {
     "data": {
      "text/plain": "Index([316, 317, 318, 319, 320, 321, 322, 323, 324, 325, 326, 327, 328, 329,\n       330, 331, 332, 333, 334, 335, 336, 337, 338, 339, 340, 341, 342, 343,\n       395, 396, 397, 398, 399, 400, 401, 402, 403, 404, 405, 406, 407, 408,\n       409, 410, 411, 412, 413, 414, 415, 416, 417, 418, 419, 420, 421, 422,\n       474, 475, 476, 477, 478, 479, 480, 481, 482, 483, 484, 485, 486, 487,\n       488, 489, 490, 491, 492, 493, 494, 495, 496, 497, 498, 499, 500, 501],\n      dtype='int64')"
     },
     "execution_count": 113,
     "metadata": {},
     "output_type": "execute_result"
    }
   ],
   "source": [
    "# feature의 컬럼명들이 담긴 파일이다. 거기서 중복인 인덱스를 삭제해보자.\n",
    "feature_nameDF[feature_nameDF['col_name'].duplicated(keep='first')].index"
   ],
   "metadata": {
    "collapsed": false,
    "ExecuteTime": {
     "end_time": "2024-03-07T07:25:20.300394Z",
     "start_time": "2024-03-07T07:25:20.285559Z"
    }
   },
   "id": "4b7e3344e8207777",
   "execution_count": 113
  },
  {
   "cell_type": "code",
   "outputs": [],
   "source": [
    "dup_idx = feature_nameDF[feature_nameDF['col_name'].duplicated(keep='first')].index"
   ],
   "metadata": {
    "collapsed": false,
    "ExecuteTime": {
     "end_time": "2024-03-07T07:25:20.316346Z",
     "start_time": "2024-03-07T07:25:20.302440Z"
    }
   },
   "id": "a8a44a51ccc08021",
   "execution_count": 114
  },
  {
   "cell_type": "code",
   "outputs": [
    {
     "name": "stdout",
     "output_type": "stream",
     "text": [
      "(7352, 561)\n",
      "(7352, 477)\n"
     ]
    }
   ],
   "source": [
    "x_train_DF = pd.read_csv(x_train_file, header = None, sep='\\s+')\n",
    "print(x_train_DF.shape)\n",
    "x_train_DF.drop(dup_idx, axis = 'columns',inplace = True)\n",
    "x_train_DF = x_train_DF.T.reset_index(drop = True).T\n",
    "print(x_train_DF.shape)"
   ],
   "metadata": {
    "collapsed": false,
    "ExecuteTime": {
     "end_time": "2024-03-07T07:35:02.973312Z",
     "start_time": "2024-03-07T07:35:01.075865Z"
    }
   },
   "id": "5761f58c3ff5a557",
   "execution_count": 121
  },
  {
   "cell_type": "code",
   "outputs": [
    {
     "name": "stdout",
     "output_type": "stream",
     "text": [
      "<class 'pandas.core.frame.DataFrame'>\n",
      "RangeIndex: 7352 entries, 0 to 7351\n",
      "Columns: 477 entries, 0 to 476\n",
      "dtypes: float64(477)\n",
      "memory usage: 26.8 MB\n"
     ]
    }
   ],
   "source": [
    "x_train_DF.info()"
   ],
   "metadata": {
    "collapsed": false,
    "ExecuteTime": {
     "end_time": "2024-03-07T07:27:21.610032Z",
     "start_time": "2024-03-07T07:27:21.581269Z"
    }
   },
   "id": "275670ae48c244d7",
   "execution_count": 120
  },
  {
   "cell_type": "code",
   "outputs": [
    {
     "name": "stdout",
     "output_type": "stream",
     "text": [
      "(2947, 561)\n",
      "(2947, 477)\n"
     ]
    }
   ],
   "source": [
    "x_test_DF = pd.read_csv(x_test_file, header = None, sep = '\\s+')\n",
    "print(x_test_DF.shape)\n",
    "x_test_DF.drop(dup_idx, axis = 'columns', inplace = True)\n",
    "x_test_DF = x_test_DF.T.reset_index(drop = True).T\n",
    "print(x_test_DF.shape)"
   ],
   "metadata": {
    "collapsed": false,
    "ExecuteTime": {
     "end_time": "2024-03-07T07:25:23.084754Z",
     "start_time": "2024-03-07T07:25:22.300911Z"
    }
   },
   "id": "61068206f38d6d13",
   "execution_count": 116
  },
  {
   "cell_type": "code",
   "outputs": [
    {
     "name": "stdout",
     "output_type": "stream",
     "text": [
      "<class 'pandas.core.frame.DataFrame'>\n",
      "RangeIndex: 2947 entries, 0 to 2946\n",
      "Columns: 477 entries, 0 to 476\n",
      "dtypes: float64(477)\n",
      "memory usage: 10.7 MB\n"
     ]
    }
   ],
   "source": [
    "x_test_DF.info()"
   ],
   "metadata": {
    "collapsed": false,
    "ExecuteTime": {
     "end_time": "2024-03-07T07:26:27.129530Z",
     "start_time": "2024-03-07T07:26:27.108715Z"
    }
   },
   "id": "a3a33bae18523d67",
   "execution_count": 118
  },
  {
   "cell_type": "code",
   "outputs": [
    {
     "name": "stdout",
     "output_type": "stream",
     "text": [
      "(561, 2)\n",
      "(477, 2)\n"
     ]
    }
   ],
   "source": [
    "print(feature_nameDF.shape)\n",
    "feature_nameDF.drop(dup_idx,inplace = True)\n",
    "feature_nameDF.reset_index(drop = True, inplace = True)\n",
    "print(feature_nameDF.shape)"
   ],
   "metadata": {
    "collapsed": false,
    "ExecuteTime": {
     "end_time": "2024-03-07T07:25:23.100423Z",
     "start_time": "2024-03-07T07:25:23.085854Z"
    }
   },
   "id": "a9e85b0456ac5c38",
   "execution_count": 117
  },
  {
   "cell_type": "code",
   "outputs": [
    {
     "name": "stdout",
     "output_type": "stream",
     "text": [
      "<class 'pandas.core.frame.DataFrame'>\n",
      "RangeIndex: 477 entries, 0 to 476\n",
      "Data columns (total 2 columns):\n",
      " #   Column    Non-Null Count  Dtype \n",
      "---  ------    --------------  ----- \n",
      " 0   col_id    477 non-null    int64 \n",
      " 1   col_name  477 non-null    object\n",
      "dtypes: int64(1), object(1)\n",
      "memory usage: 7.6+ KB\n"
     ]
    }
   ],
   "source": [
    "feature_nameDF.info()"
   ],
   "metadata": {
    "collapsed": false,
    "ExecuteTime": {
     "end_time": "2024-03-07T07:26:51.362507Z",
     "start_time": "2024-03-07T07:26:51.355190Z"
    }
   },
   "id": "11c6eab7116f2df2",
   "execution_count": 119
  },
  {
   "cell_type": "code",
   "outputs": [],
   "source": [],
   "metadata": {
    "collapsed": false
   },
   "id": "4ce51b93c864c025"
  }
 ],
 "metadata": {
  "kernelspec": {
   "display_name": "Python 3",
   "language": "python",
   "name": "python3"
  },
  "language_info": {
   "codemirror_mode": {
    "name": "ipython",
    "version": 2
   },
   "file_extension": ".py",
   "mimetype": "text/x-python",
   "name": "python",
   "nbconvert_exporter": "python",
   "pygments_lexer": "ipython2",
   "version": "2.7.6"
  }
 },
 "nbformat": 4,
 "nbformat_minor": 5
}
